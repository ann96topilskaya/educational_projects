{
 "cells": [
  {
   "cell_type": "markdown",
   "id": "c00b8326",
   "metadata": {},
   "source": [
    "# Определение перспективного тарифа для телеком-компании"
   ]
  },
  {
   "cell_type": "markdown",
   "id": "888c1a57",
   "metadata": {},
   "source": [
    "Заказчик исследования - федеральный оператор сотовой связи. Задача: какой из тарифных планов, предложенных клиентам, \"Смарт\" или \"Ультра\", приносит больше прибыли. Тредуется проанализировать поведение клиентов и на этой основе выяснить какой тариф лучше. "
   ]
  },
  {
   "cell_type": "markdown",
   "id": "a1d8ce6a",
   "metadata": {},
   "source": [
    "## 1. Изучение данных из файлов"
   ]
  },
  {
   "cell_type": "code",
   "execution_count": 1,
   "id": "9b5e1b88",
   "metadata": {},
   "outputs": [],
   "source": [
    "# загрузим все требуемые библиотеки \n",
    "import pandas as pd\n",
    "import numpy as np\n",
    "import matplotlib as plt\n",
    "from math import sqrt\n",
    "from scipy import stats as st"
   ]
  },
  {
   "cell_type": "code",
   "execution_count": 2,
   "id": "19b6cdc1",
   "metadata": {
    "scrolled": false
   },
   "outputs": [
    {
     "data": {
      "text/html": [
       "<div>\n",
       "<style scoped>\n",
       "    .dataframe tbody tr th:only-of-type {\n",
       "        vertical-align: middle;\n",
       "    }\n",
       "\n",
       "    .dataframe tbody tr th {\n",
       "        vertical-align: top;\n",
       "    }\n",
       "\n",
       "    .dataframe thead th {\n",
       "        text-align: right;\n",
       "    }\n",
       "</style>\n",
       "<table border=\"1\" class=\"dataframe\">\n",
       "  <thead>\n",
       "    <tr style=\"text-align: right;\">\n",
       "      <th></th>\n",
       "      <th>user_id</th>\n",
       "      <th>age</th>\n",
       "      <th>churn_date</th>\n",
       "      <th>city</th>\n",
       "      <th>first_name</th>\n",
       "      <th>last_name</th>\n",
       "      <th>reg_date</th>\n",
       "      <th>tariff</th>\n",
       "    </tr>\n",
       "  </thead>\n",
       "  <tbody>\n",
       "    <tr>\n",
       "      <td>0</td>\n",
       "      <td>1000</td>\n",
       "      <td>52</td>\n",
       "      <td>NaN</td>\n",
       "      <td>Краснодар</td>\n",
       "      <td>Рафаил</td>\n",
       "      <td>Верещагин</td>\n",
       "      <td>2018-05-25</td>\n",
       "      <td>ultra</td>\n",
       "    </tr>\n",
       "    <tr>\n",
       "      <td>1</td>\n",
       "      <td>1001</td>\n",
       "      <td>41</td>\n",
       "      <td>NaN</td>\n",
       "      <td>Москва</td>\n",
       "      <td>Иван</td>\n",
       "      <td>Ежов</td>\n",
       "      <td>2018-11-01</td>\n",
       "      <td>smart</td>\n",
       "    </tr>\n",
       "    <tr>\n",
       "      <td>2</td>\n",
       "      <td>1002</td>\n",
       "      <td>59</td>\n",
       "      <td>NaN</td>\n",
       "      <td>Стерлитамак</td>\n",
       "      <td>Евгений</td>\n",
       "      <td>Абрамович</td>\n",
       "      <td>2018-06-17</td>\n",
       "      <td>smart</td>\n",
       "    </tr>\n",
       "    <tr>\n",
       "      <td>3</td>\n",
       "      <td>1003</td>\n",
       "      <td>23</td>\n",
       "      <td>NaN</td>\n",
       "      <td>Москва</td>\n",
       "      <td>Белла</td>\n",
       "      <td>Белякова</td>\n",
       "      <td>2018-08-17</td>\n",
       "      <td>ultra</td>\n",
       "    </tr>\n",
       "    <tr>\n",
       "      <td>4</td>\n",
       "      <td>1004</td>\n",
       "      <td>68</td>\n",
       "      <td>NaN</td>\n",
       "      <td>Новокузнецк</td>\n",
       "      <td>Татьяна</td>\n",
       "      <td>Авдеенко</td>\n",
       "      <td>2018-05-14</td>\n",
       "      <td>ultra</td>\n",
       "    </tr>\n",
       "    <tr>\n",
       "      <td>...</td>\n",
       "      <td>...</td>\n",
       "      <td>...</td>\n",
       "      <td>...</td>\n",
       "      <td>...</td>\n",
       "      <td>...</td>\n",
       "      <td>...</td>\n",
       "      <td>...</td>\n",
       "      <td>...</td>\n",
       "    </tr>\n",
       "    <tr>\n",
       "      <td>495</td>\n",
       "      <td>1495</td>\n",
       "      <td>65</td>\n",
       "      <td>NaN</td>\n",
       "      <td>Иркутск</td>\n",
       "      <td>Авксентий</td>\n",
       "      <td>Фокин</td>\n",
       "      <td>2018-08-28</td>\n",
       "      <td>ultra</td>\n",
       "    </tr>\n",
       "    <tr>\n",
       "      <td>496</td>\n",
       "      <td>1496</td>\n",
       "      <td>36</td>\n",
       "      <td>NaN</td>\n",
       "      <td>Вологда</td>\n",
       "      <td>Трифон</td>\n",
       "      <td>Блохин</td>\n",
       "      <td>2018-01-27</td>\n",
       "      <td>smart</td>\n",
       "    </tr>\n",
       "    <tr>\n",
       "      <td>497</td>\n",
       "      <td>1497</td>\n",
       "      <td>32</td>\n",
       "      <td>NaN</td>\n",
       "      <td>Челябинск</td>\n",
       "      <td>Каролина</td>\n",
       "      <td>Агеева</td>\n",
       "      <td>2018-10-09</td>\n",
       "      <td>smart</td>\n",
       "    </tr>\n",
       "    <tr>\n",
       "      <td>498</td>\n",
       "      <td>1498</td>\n",
       "      <td>68</td>\n",
       "      <td>2018-10-25</td>\n",
       "      <td>Владикавказ</td>\n",
       "      <td>Всеволод</td>\n",
       "      <td>Акимчин</td>\n",
       "      <td>2018-07-19</td>\n",
       "      <td>smart</td>\n",
       "    </tr>\n",
       "    <tr>\n",
       "      <td>499</td>\n",
       "      <td>1499</td>\n",
       "      <td>35</td>\n",
       "      <td>NaN</td>\n",
       "      <td>Пермь</td>\n",
       "      <td>Гектор</td>\n",
       "      <td>Корнилов</td>\n",
       "      <td>2018-09-27</td>\n",
       "      <td>smart</td>\n",
       "    </tr>\n",
       "  </tbody>\n",
       "</table>\n",
       "<p>500 rows × 8 columns</p>\n",
       "</div>"
      ],
      "text/plain": [
       "     user_id  age  churn_date         city first_name  last_name    reg_date  \\\n",
       "0       1000   52         NaN    Краснодар     Рафаил  Верещагин  2018-05-25   \n",
       "1       1001   41         NaN       Москва       Иван       Ежов  2018-11-01   \n",
       "2       1002   59         NaN  Стерлитамак    Евгений  Абрамович  2018-06-17   \n",
       "3       1003   23         NaN       Москва      Белла   Белякова  2018-08-17   \n",
       "4       1004   68         NaN  Новокузнецк    Татьяна   Авдеенко  2018-05-14   \n",
       "..       ...  ...         ...          ...        ...        ...         ...   \n",
       "495     1495   65         NaN      Иркутск  Авксентий      Фокин  2018-08-28   \n",
       "496     1496   36         NaN      Вологда     Трифон     Блохин  2018-01-27   \n",
       "497     1497   32         NaN    Челябинск   Каролина     Агеева  2018-10-09   \n",
       "498     1498   68  2018-10-25  Владикавказ   Всеволод    Акимчин  2018-07-19   \n",
       "499     1499   35         NaN        Пермь     Гектор   Корнилов  2018-09-27   \n",
       "\n",
       "    tariff  \n",
       "0    ultra  \n",
       "1    smart  \n",
       "2    smart  \n",
       "3    ultra  \n",
       "4    ultra  \n",
       "..     ...  \n",
       "495  ultra  \n",
       "496  smart  \n",
       "497  smart  \n",
       "498  smart  \n",
       "499  smart  \n",
       "\n",
       "[500 rows x 8 columns]"
      ]
     },
     "metadata": {},
     "output_type": "display_data"
    },
    {
     "name": "stdout",
     "output_type": "stream",
     "text": [
      "<class 'pandas.core.frame.DataFrame'>\n",
      "RangeIndex: 500 entries, 0 to 499\n",
      "Data columns (total 8 columns):\n",
      "user_id       500 non-null int64\n",
      "age           500 non-null int64\n",
      "churn_date    38 non-null object\n",
      "city          500 non-null object\n",
      "first_name    500 non-null object\n",
      "last_name     500 non-null object\n",
      "reg_date      500 non-null object\n",
      "tariff        500 non-null object\n",
      "dtypes: int64(2), object(6)\n",
      "memory usage: 31.4+ KB\n"
     ]
    }
   ],
   "source": [
    "users = pd.read_csv('/datasets/users.csv')\n",
    "display(users)\n",
    "users.info()"
   ]
  },
  {
   "cell_type": "code",
   "execution_count": 3,
   "id": "d15a6b95",
   "metadata": {},
   "outputs": [
    {
     "data": {
      "text/html": [
       "<div>\n",
       "<style scoped>\n",
       "    .dataframe tbody tr th:only-of-type {\n",
       "        vertical-align: middle;\n",
       "    }\n",
       "\n",
       "    .dataframe tbody tr th {\n",
       "        vertical-align: top;\n",
       "    }\n",
       "\n",
       "    .dataframe thead th {\n",
       "        text-align: right;\n",
       "    }\n",
       "</style>\n",
       "<table border=\"1\" class=\"dataframe\">\n",
       "  <thead>\n",
       "    <tr style=\"text-align: right;\">\n",
       "      <th></th>\n",
       "      <th>id</th>\n",
       "      <th>call_date</th>\n",
       "      <th>duration</th>\n",
       "      <th>user_id</th>\n",
       "    </tr>\n",
       "  </thead>\n",
       "  <tbody>\n",
       "    <tr>\n",
       "      <td>0</td>\n",
       "      <td>1000_0</td>\n",
       "      <td>2018-07-25</td>\n",
       "      <td>0.00</td>\n",
       "      <td>1000</td>\n",
       "    </tr>\n",
       "    <tr>\n",
       "      <td>1</td>\n",
       "      <td>1000_1</td>\n",
       "      <td>2018-08-17</td>\n",
       "      <td>0.00</td>\n",
       "      <td>1000</td>\n",
       "    </tr>\n",
       "    <tr>\n",
       "      <td>2</td>\n",
       "      <td>1000_2</td>\n",
       "      <td>2018-06-11</td>\n",
       "      <td>2.85</td>\n",
       "      <td>1000</td>\n",
       "    </tr>\n",
       "    <tr>\n",
       "      <td>3</td>\n",
       "      <td>1000_3</td>\n",
       "      <td>2018-09-21</td>\n",
       "      <td>13.80</td>\n",
       "      <td>1000</td>\n",
       "    </tr>\n",
       "    <tr>\n",
       "      <td>4</td>\n",
       "      <td>1000_4</td>\n",
       "      <td>2018-12-15</td>\n",
       "      <td>5.18</td>\n",
       "      <td>1000</td>\n",
       "    </tr>\n",
       "    <tr>\n",
       "      <td>...</td>\n",
       "      <td>...</td>\n",
       "      <td>...</td>\n",
       "      <td>...</td>\n",
       "      <td>...</td>\n",
       "    </tr>\n",
       "    <tr>\n",
       "      <td>202602</td>\n",
       "      <td>1499_215</td>\n",
       "      <td>2018-12-26</td>\n",
       "      <td>0.76</td>\n",
       "      <td>1499</td>\n",
       "    </tr>\n",
       "    <tr>\n",
       "      <td>202603</td>\n",
       "      <td>1499_216</td>\n",
       "      <td>2018-10-18</td>\n",
       "      <td>18.83</td>\n",
       "      <td>1499</td>\n",
       "    </tr>\n",
       "    <tr>\n",
       "      <td>202604</td>\n",
       "      <td>1499_217</td>\n",
       "      <td>2018-11-10</td>\n",
       "      <td>10.81</td>\n",
       "      <td>1499</td>\n",
       "    </tr>\n",
       "    <tr>\n",
       "      <td>202605</td>\n",
       "      <td>1499_218</td>\n",
       "      <td>2018-10-06</td>\n",
       "      <td>4.27</td>\n",
       "      <td>1499</td>\n",
       "    </tr>\n",
       "    <tr>\n",
       "      <td>202606</td>\n",
       "      <td>1499_219</td>\n",
       "      <td>2018-12-14</td>\n",
       "      <td>19.62</td>\n",
       "      <td>1499</td>\n",
       "    </tr>\n",
       "  </tbody>\n",
       "</table>\n",
       "<p>202607 rows × 4 columns</p>\n",
       "</div>"
      ],
      "text/plain": [
       "              id   call_date  duration  user_id\n",
       "0         1000_0  2018-07-25      0.00     1000\n",
       "1         1000_1  2018-08-17      0.00     1000\n",
       "2         1000_2  2018-06-11      2.85     1000\n",
       "3         1000_3  2018-09-21     13.80     1000\n",
       "4         1000_4  2018-12-15      5.18     1000\n",
       "...          ...         ...       ...      ...\n",
       "202602  1499_215  2018-12-26      0.76     1499\n",
       "202603  1499_216  2018-10-18     18.83     1499\n",
       "202604  1499_217  2018-11-10     10.81     1499\n",
       "202605  1499_218  2018-10-06      4.27     1499\n",
       "202606  1499_219  2018-12-14     19.62     1499\n",
       "\n",
       "[202607 rows x 4 columns]"
      ]
     },
     "metadata": {},
     "output_type": "display_data"
    },
    {
     "name": "stdout",
     "output_type": "stream",
     "text": [
      "<class 'pandas.core.frame.DataFrame'>\n",
      "RangeIndex: 202607 entries, 0 to 202606\n",
      "Data columns (total 4 columns):\n",
      "id           202607 non-null object\n",
      "call_date    202607 non-null object\n",
      "duration     202607 non-null float64\n",
      "user_id      202607 non-null int64\n",
      "dtypes: float64(1), int64(1), object(2)\n",
      "memory usage: 6.2+ MB\n"
     ]
    }
   ],
   "source": [
    "calls = pd.read_csv('/datasets/calls.csv')\n",
    "display(calls)\n",
    "calls.info()"
   ]
  },
  {
   "cell_type": "code",
   "execution_count": 4,
   "id": "994ba63d",
   "metadata": {
    "scrolled": false
   },
   "outputs": [
    {
     "data": {
      "text/html": [
       "<div>\n",
       "<style scoped>\n",
       "    .dataframe tbody tr th:only-of-type {\n",
       "        vertical-align: middle;\n",
       "    }\n",
       "\n",
       "    .dataframe tbody tr th {\n",
       "        vertical-align: top;\n",
       "    }\n",
       "\n",
       "    .dataframe thead th {\n",
       "        text-align: right;\n",
       "    }\n",
       "</style>\n",
       "<table border=\"1\" class=\"dataframe\">\n",
       "  <thead>\n",
       "    <tr style=\"text-align: right;\">\n",
       "      <th></th>\n",
       "      <th>id</th>\n",
       "      <th>message_date</th>\n",
       "      <th>user_id</th>\n",
       "    </tr>\n",
       "  </thead>\n",
       "  <tbody>\n",
       "    <tr>\n",
       "      <td>0</td>\n",
       "      <td>1000_0</td>\n",
       "      <td>2018-06-27</td>\n",
       "      <td>1000</td>\n",
       "    </tr>\n",
       "    <tr>\n",
       "      <td>1</td>\n",
       "      <td>1000_1</td>\n",
       "      <td>2018-10-08</td>\n",
       "      <td>1000</td>\n",
       "    </tr>\n",
       "    <tr>\n",
       "      <td>2</td>\n",
       "      <td>1000_2</td>\n",
       "      <td>2018-08-04</td>\n",
       "      <td>1000</td>\n",
       "    </tr>\n",
       "    <tr>\n",
       "      <td>3</td>\n",
       "      <td>1000_3</td>\n",
       "      <td>2018-06-16</td>\n",
       "      <td>1000</td>\n",
       "    </tr>\n",
       "    <tr>\n",
       "      <td>4</td>\n",
       "      <td>1000_4</td>\n",
       "      <td>2018-12-05</td>\n",
       "      <td>1000</td>\n",
       "    </tr>\n",
       "    <tr>\n",
       "      <td>...</td>\n",
       "      <td>...</td>\n",
       "      <td>...</td>\n",
       "      <td>...</td>\n",
       "    </tr>\n",
       "    <tr>\n",
       "      <td>123031</td>\n",
       "      <td>1499_179</td>\n",
       "      <td>2018-12-12</td>\n",
       "      <td>1499</td>\n",
       "    </tr>\n",
       "    <tr>\n",
       "      <td>123032</td>\n",
       "      <td>1499_180</td>\n",
       "      <td>2018-09-28</td>\n",
       "      <td>1499</td>\n",
       "    </tr>\n",
       "    <tr>\n",
       "      <td>123033</td>\n",
       "      <td>1499_181</td>\n",
       "      <td>2018-09-27</td>\n",
       "      <td>1499</td>\n",
       "    </tr>\n",
       "    <tr>\n",
       "      <td>123034</td>\n",
       "      <td>1499_182</td>\n",
       "      <td>2018-11-15</td>\n",
       "      <td>1499</td>\n",
       "    </tr>\n",
       "    <tr>\n",
       "      <td>123035</td>\n",
       "      <td>1499_183</td>\n",
       "      <td>2018-11-16</td>\n",
       "      <td>1499</td>\n",
       "    </tr>\n",
       "  </tbody>\n",
       "</table>\n",
       "<p>123036 rows × 3 columns</p>\n",
       "</div>"
      ],
      "text/plain": [
       "              id message_date  user_id\n",
       "0         1000_0   2018-06-27     1000\n",
       "1         1000_1   2018-10-08     1000\n",
       "2         1000_2   2018-08-04     1000\n",
       "3         1000_3   2018-06-16     1000\n",
       "4         1000_4   2018-12-05     1000\n",
       "...          ...          ...      ...\n",
       "123031  1499_179   2018-12-12     1499\n",
       "123032  1499_180   2018-09-28     1499\n",
       "123033  1499_181   2018-09-27     1499\n",
       "123034  1499_182   2018-11-15     1499\n",
       "123035  1499_183   2018-11-16     1499\n",
       "\n",
       "[123036 rows x 3 columns]"
      ]
     },
     "metadata": {},
     "output_type": "display_data"
    },
    {
     "name": "stdout",
     "output_type": "stream",
     "text": [
      "<class 'pandas.core.frame.DataFrame'>\n",
      "RangeIndex: 123036 entries, 0 to 123035\n",
      "Data columns (total 3 columns):\n",
      "id              123036 non-null object\n",
      "message_date    123036 non-null object\n",
      "user_id         123036 non-null int64\n",
      "dtypes: int64(1), object(2)\n",
      "memory usage: 2.8+ MB\n"
     ]
    }
   ],
   "source": [
    "messages = pd.read_csv('/datasets/messages.csv')\n",
    "display(messages)\n",
    "messages.info()"
   ]
  },
  {
   "cell_type": "code",
   "execution_count": 5,
   "id": "8d0dde85",
   "metadata": {},
   "outputs": [
    {
     "data": {
      "text/html": [
       "<div>\n",
       "<style scoped>\n",
       "    .dataframe tbody tr th:only-of-type {\n",
       "        vertical-align: middle;\n",
       "    }\n",
       "\n",
       "    .dataframe tbody tr th {\n",
       "        vertical-align: top;\n",
       "    }\n",
       "\n",
       "    .dataframe thead th {\n",
       "        text-align: right;\n",
       "    }\n",
       "</style>\n",
       "<table border=\"1\" class=\"dataframe\">\n",
       "  <thead>\n",
       "    <tr style=\"text-align: right;\">\n",
       "      <th></th>\n",
       "      <th>messages_included</th>\n",
       "      <th>mb_per_month_included</th>\n",
       "      <th>minutes_included</th>\n",
       "      <th>rub_monthly_fee</th>\n",
       "      <th>rub_per_gb</th>\n",
       "      <th>rub_per_message</th>\n",
       "      <th>rub_per_minute</th>\n",
       "      <th>tariff_name</th>\n",
       "    </tr>\n",
       "  </thead>\n",
       "  <tbody>\n",
       "    <tr>\n",
       "      <td>0</td>\n",
       "      <td>50</td>\n",
       "      <td>15360</td>\n",
       "      <td>500</td>\n",
       "      <td>550</td>\n",
       "      <td>200</td>\n",
       "      <td>3</td>\n",
       "      <td>3</td>\n",
       "      <td>smart</td>\n",
       "    </tr>\n",
       "    <tr>\n",
       "      <td>1</td>\n",
       "      <td>1000</td>\n",
       "      <td>30720</td>\n",
       "      <td>3000</td>\n",
       "      <td>1950</td>\n",
       "      <td>150</td>\n",
       "      <td>1</td>\n",
       "      <td>1</td>\n",
       "      <td>ultra</td>\n",
       "    </tr>\n",
       "  </tbody>\n",
       "</table>\n",
       "</div>"
      ],
      "text/plain": [
       "   messages_included  mb_per_month_included  minutes_included  \\\n",
       "0                 50                  15360               500   \n",
       "1               1000                  30720              3000   \n",
       "\n",
       "   rub_monthly_fee  rub_per_gb  rub_per_message  rub_per_minute tariff_name  \n",
       "0              550         200                3               3       smart  \n",
       "1             1950         150                1               1       ultra  "
      ]
     },
     "metadata": {},
     "output_type": "display_data"
    }
   ],
   "source": [
    "tariffs = pd.read_csv('/datasets/tariffs.csv')\n",
    "display(tariffs)"
   ]
  },
  {
   "cell_type": "code",
   "execution_count": 6,
   "id": "c26a62ba",
   "metadata": {},
   "outputs": [
    {
     "data": {
      "text/html": [
       "<div>\n",
       "<style scoped>\n",
       "    .dataframe tbody tr th:only-of-type {\n",
       "        vertical-align: middle;\n",
       "    }\n",
       "\n",
       "    .dataframe tbody tr th {\n",
       "        vertical-align: top;\n",
       "    }\n",
       "\n",
       "    .dataframe thead th {\n",
       "        text-align: right;\n",
       "    }\n",
       "</style>\n",
       "<table border=\"1\" class=\"dataframe\">\n",
       "  <thead>\n",
       "    <tr style=\"text-align: right;\">\n",
       "      <th></th>\n",
       "      <th>Unnamed: 0</th>\n",
       "      <th>id</th>\n",
       "      <th>mb_used</th>\n",
       "      <th>session_date</th>\n",
       "      <th>user_id</th>\n",
       "    </tr>\n",
       "  </thead>\n",
       "  <tbody>\n",
       "    <tr>\n",
       "      <td>0</td>\n",
       "      <td>0</td>\n",
       "      <td>1000_0</td>\n",
       "      <td>112.95</td>\n",
       "      <td>2018-11-25</td>\n",
       "      <td>1000</td>\n",
       "    </tr>\n",
       "    <tr>\n",
       "      <td>1</td>\n",
       "      <td>1</td>\n",
       "      <td>1000_1</td>\n",
       "      <td>1052.81</td>\n",
       "      <td>2018-09-07</td>\n",
       "      <td>1000</td>\n",
       "    </tr>\n",
       "    <tr>\n",
       "      <td>2</td>\n",
       "      <td>2</td>\n",
       "      <td>1000_2</td>\n",
       "      <td>1197.26</td>\n",
       "      <td>2018-06-25</td>\n",
       "      <td>1000</td>\n",
       "    </tr>\n",
       "    <tr>\n",
       "      <td>3</td>\n",
       "      <td>3</td>\n",
       "      <td>1000_3</td>\n",
       "      <td>550.27</td>\n",
       "      <td>2018-08-22</td>\n",
       "      <td>1000</td>\n",
       "    </tr>\n",
       "    <tr>\n",
       "      <td>4</td>\n",
       "      <td>4</td>\n",
       "      <td>1000_4</td>\n",
       "      <td>302.56</td>\n",
       "      <td>2018-09-24</td>\n",
       "      <td>1000</td>\n",
       "    </tr>\n",
       "    <tr>\n",
       "      <td>...</td>\n",
       "      <td>...</td>\n",
       "      <td>...</td>\n",
       "      <td>...</td>\n",
       "      <td>...</td>\n",
       "      <td>...</td>\n",
       "    </tr>\n",
       "    <tr>\n",
       "      <td>149391</td>\n",
       "      <td>149391</td>\n",
       "      <td>1499_152</td>\n",
       "      <td>318.90</td>\n",
       "      <td>2018-10-03</td>\n",
       "      <td>1499</td>\n",
       "    </tr>\n",
       "    <tr>\n",
       "      <td>149392</td>\n",
       "      <td>149392</td>\n",
       "      <td>1499_153</td>\n",
       "      <td>490.13</td>\n",
       "      <td>2018-12-14</td>\n",
       "      <td>1499</td>\n",
       "    </tr>\n",
       "    <tr>\n",
       "      <td>149393</td>\n",
       "      <td>149393</td>\n",
       "      <td>1499_154</td>\n",
       "      <td>0.00</td>\n",
       "      <td>2018-10-27</td>\n",
       "      <td>1499</td>\n",
       "    </tr>\n",
       "    <tr>\n",
       "      <td>149394</td>\n",
       "      <td>149394</td>\n",
       "      <td>1499_155</td>\n",
       "      <td>1246.32</td>\n",
       "      <td>2018-11-26</td>\n",
       "      <td>1499</td>\n",
       "    </tr>\n",
       "    <tr>\n",
       "      <td>149395</td>\n",
       "      <td>149395</td>\n",
       "      <td>1499_156</td>\n",
       "      <td>544.37</td>\n",
       "      <td>2018-10-26</td>\n",
       "      <td>1499</td>\n",
       "    </tr>\n",
       "  </tbody>\n",
       "</table>\n",
       "<p>149396 rows × 5 columns</p>\n",
       "</div>"
      ],
      "text/plain": [
       "        Unnamed: 0        id  mb_used session_date  user_id\n",
       "0                0    1000_0   112.95   2018-11-25     1000\n",
       "1                1    1000_1  1052.81   2018-09-07     1000\n",
       "2                2    1000_2  1197.26   2018-06-25     1000\n",
       "3                3    1000_3   550.27   2018-08-22     1000\n",
       "4                4    1000_4   302.56   2018-09-24     1000\n",
       "...            ...       ...      ...          ...      ...\n",
       "149391      149391  1499_152   318.90   2018-10-03     1499\n",
       "149392      149392  1499_153   490.13   2018-12-14     1499\n",
       "149393      149393  1499_154     0.00   2018-10-27     1499\n",
       "149394      149394  1499_155  1246.32   2018-11-26     1499\n",
       "149395      149395  1499_156   544.37   2018-10-26     1499\n",
       "\n",
       "[149396 rows x 5 columns]"
      ]
     },
     "metadata": {},
     "output_type": "display_data"
    },
    {
     "name": "stdout",
     "output_type": "stream",
     "text": [
      "<class 'pandas.core.frame.DataFrame'>\n",
      "RangeIndex: 149396 entries, 0 to 149395\n",
      "Data columns (total 5 columns):\n",
      "Unnamed: 0      149396 non-null int64\n",
      "id              149396 non-null object\n",
      "mb_used         149396 non-null float64\n",
      "session_date    149396 non-null object\n",
      "user_id         149396 non-null int64\n",
      "dtypes: float64(1), int64(2), object(2)\n",
      "memory usage: 5.7+ MB\n"
     ]
    }
   ],
   "source": [
    "internet = pd.read_csv('/datasets/internet.csv')\n",
    "display(internet)\n",
    "internet.info()"
   ]
  },
  {
   "cell_type": "markdown",
   "id": "4b7f8bf5",
   "metadata": {},
   "source": [
    "**Вывод**\n",
    "\n",
    "Получили данные в виде пяти таблиц:\n",
    "- users: id пользователя, возраст, дата завершения тарифа, город, имя, фамилия, дата регистрации и тариф. Для дальнейшего исследования потребуются только номер id, город, даты старта и конца тарифа и сам тариф.\n",
    "- calls: расширенный id  пользователя (так как у каждого пользователя может быть какое угодно количество звонков, то добавляется к id пользователя номер звонка, получается, например 1005_7, где 1005 - это id пользователя, а 7 - номер звонка),\tдата звонка, его длительность и id пользователя. Для исследования потребуются все столбцы.\n",
    "- messages: расширенный id пользователя, дата отправки сообщения, id пользователя. Все данные понадобятся.\n",
    "- internet: Unnamed: 0\t- ошибочный столбец, который дублирует номера строк, его в дальнейшем можно удалить, расширенный id пользователя, количество использованных мегабайт за одну интернет-сессию, дата интернет-сессии, id пользователя. Кроме столбца unnamed:0 остальные данные также потребуются.\n",
    "- tariffs: маленькая таблица с расценками тарифов: сколько включено сообщений в абоненствую плату, сколько включено мегабайт в абонентствую плату, сколько включено минут, абонентская плата в месяц, стоимость гигабайта сверх тарифа, стоимость сообщения сверх тарифа, стоимость минуты сверх тарифа, название тарифа. Все данные потребуются, с помощью них будем расчитывать выручку по каждому пользователю за каждый месяц использования тарифа"
   ]
  },
  {
   "cell_type": "markdown",
   "id": "b1cea3d6",
   "metadata": {},
   "source": [
    "## 2. Предобработка данных и добавление новых в таблицу"
   ]
  },
  {
   "cell_type": "markdown",
   "id": "53be9cca",
   "metadata": {},
   "source": [
    "***2.1 Исправление ошибок***"
   ]
  },
  {
   "cell_type": "markdown",
   "id": "95f59ef9",
   "metadata": {},
   "source": [
    "*2.1.1 USERS*"
   ]
  },
  {
   "cell_type": "code",
   "execution_count": 7,
   "id": "c8decf84",
   "metadata": {},
   "outputs": [
    {
     "data": {
      "text/plain": [
       "user_id         0\n",
       "age             0\n",
       "churn_date    462\n",
       "city            0\n",
       "first_name      0\n",
       "last_name       0\n",
       "reg_date        0\n",
       "tariff          0\n",
       "dtype: int64"
      ]
     },
     "metadata": {},
     "output_type": "display_data"
    }
   ],
   "source": [
    "# исправим ошибки в таблице users\n",
    "display(users.isna().sum())"
   ]
  },
  {
   "cell_type": "markdown",
   "id": "445a6234",
   "metadata": {},
   "source": [
    "В таблице users пропуски есть только в столбце churn_date, но их нужно сохранить, так как они означают, что на момент выгрузки тариф еще действовал"
   ]
  },
  {
   "cell_type": "code",
   "execution_count": 8,
   "id": "3b43a17d",
   "metadata": {},
   "outputs": [
    {
     "name": "stdout",
     "output_type": "stream",
     "text": [
      "0\n"
     ]
    }
   ],
   "source": [
    "print(users.duplicated().sum())"
   ]
  },
  {
   "cell_type": "markdown",
   "id": "847dc667",
   "metadata": {},
   "source": [
    "Дубликатов не обнаружено, следовательно ошибок в таблице users нет, переходим к таблице calls"
   ]
  },
  {
   "cell_type": "markdown",
   "id": "7ca1f4af",
   "metadata": {},
   "source": [
    "*2.1.2 CALLS*"
   ]
  },
  {
   "cell_type": "code",
   "execution_count": 9,
   "id": "e7735a5f",
   "metadata": {},
   "outputs": [
    {
     "data": {
      "text/plain": [
       "id           0\n",
       "call_date    0\n",
       "duration     0\n",
       "user_id      0\n",
       "dtype: int64"
      ]
     },
     "metadata": {},
     "output_type": "display_data"
    }
   ],
   "source": [
    "# исправим ошибки в таблице calls\n",
    "display(calls.isna().sum())"
   ]
  },
  {
   "cell_type": "code",
   "execution_count": 10,
   "id": "c97ba080",
   "metadata": {},
   "outputs": [
    {
     "name": "stdout",
     "output_type": "stream",
     "text": [
      "0\n"
     ]
    }
   ],
   "source": [
    "print(calls.duplicated().sum())"
   ]
  },
  {
   "cell_type": "markdown",
   "id": "e2da8fc0",
   "metadata": {},
   "source": [
    "Дубликатов не обнаружено, следовательно ошибок в таблице calls нет, переходим к таблице messages"
   ]
  },
  {
   "cell_type": "markdown",
   "id": "d22a5665",
   "metadata": {},
   "source": [
    "*2.1.3 MESSAGES*"
   ]
  },
  {
   "cell_type": "code",
   "execution_count": 11,
   "id": "ef4b117e",
   "metadata": {},
   "outputs": [
    {
     "data": {
      "text/plain": [
       "id              0\n",
       "message_date    0\n",
       "user_id         0\n",
       "dtype: int64"
      ]
     },
     "metadata": {},
     "output_type": "display_data"
    }
   ],
   "source": [
    "# исправим ошибки в таблице calls\n",
    "display(messages.isna().sum())"
   ]
  },
  {
   "cell_type": "code",
   "execution_count": 12,
   "id": "0cc7cf96",
   "metadata": {},
   "outputs": [
    {
     "name": "stdout",
     "output_type": "stream",
     "text": [
      "0\n"
     ]
    }
   ],
   "source": [
    "print(messages.duplicated().sum())"
   ]
  },
  {
   "cell_type": "markdown",
   "id": "78f18ab1",
   "metadata": {},
   "source": [
    "Дубликатов не обнаружено, следовательно ошибок в таблице messages нет, переходим к таблице internet"
   ]
  },
  {
   "cell_type": "markdown",
   "id": "06607cee",
   "metadata": {},
   "source": [
    "*2.1.4 INTERNET*"
   ]
  },
  {
   "cell_type": "code",
   "execution_count": 13,
   "id": "483d18fa",
   "metadata": {},
   "outputs": [
    {
     "data": {
      "text/plain": [
       "Unnamed: 0      0\n",
       "id              0\n",
       "mb_used         0\n",
       "session_date    0\n",
       "user_id         0\n",
       "dtype: int64"
      ]
     },
     "metadata": {},
     "output_type": "display_data"
    }
   ],
   "source": [
    "# исправим ошибки в таблице calls\n",
    "display(internet.isna().sum())"
   ]
  },
  {
   "cell_type": "code",
   "execution_count": 14,
   "id": "9a608919",
   "metadata": {},
   "outputs": [
    {
     "name": "stdout",
     "output_type": "stream",
     "text": [
      "0\n"
     ]
    }
   ],
   "source": [
    "print(messages.duplicated().sum())"
   ]
  },
  {
   "cell_type": "markdown",
   "id": "eb618415",
   "metadata": {},
   "source": [
    "Дубликатов и пропусков не обнаружено, но есть непонятный сталбец Unnamed:0, который просто дублирует столбец с номером строки, поэтому можем его удалить"
   ]
  },
  {
   "cell_type": "code",
   "execution_count": 15,
   "id": "1888994c",
   "metadata": {},
   "outputs": [
    {
     "data": {
      "text/html": [
       "<div>\n",
       "<style scoped>\n",
       "    .dataframe tbody tr th:only-of-type {\n",
       "        vertical-align: middle;\n",
       "    }\n",
       "\n",
       "    .dataframe tbody tr th {\n",
       "        vertical-align: top;\n",
       "    }\n",
       "\n",
       "    .dataframe thead th {\n",
       "        text-align: right;\n",
       "    }\n",
       "</style>\n",
       "<table border=\"1\" class=\"dataframe\">\n",
       "  <thead>\n",
       "    <tr style=\"text-align: right;\">\n",
       "      <th></th>\n",
       "      <th>id</th>\n",
       "      <th>mb_used</th>\n",
       "      <th>session_date</th>\n",
       "      <th>user_id</th>\n",
       "    </tr>\n",
       "  </thead>\n",
       "  <tbody>\n",
       "    <tr>\n",
       "      <td>0</td>\n",
       "      <td>1000_0</td>\n",
       "      <td>112.95</td>\n",
       "      <td>2018-11-25</td>\n",
       "      <td>1000</td>\n",
       "    </tr>\n",
       "    <tr>\n",
       "      <td>1</td>\n",
       "      <td>1000_1</td>\n",
       "      <td>1052.81</td>\n",
       "      <td>2018-09-07</td>\n",
       "      <td>1000</td>\n",
       "    </tr>\n",
       "    <tr>\n",
       "      <td>2</td>\n",
       "      <td>1000_2</td>\n",
       "      <td>1197.26</td>\n",
       "      <td>2018-06-25</td>\n",
       "      <td>1000</td>\n",
       "    </tr>\n",
       "    <tr>\n",
       "      <td>3</td>\n",
       "      <td>1000_3</td>\n",
       "      <td>550.27</td>\n",
       "      <td>2018-08-22</td>\n",
       "      <td>1000</td>\n",
       "    </tr>\n",
       "    <tr>\n",
       "      <td>4</td>\n",
       "      <td>1000_4</td>\n",
       "      <td>302.56</td>\n",
       "      <td>2018-09-24</td>\n",
       "      <td>1000</td>\n",
       "    </tr>\n",
       "    <tr>\n",
       "      <td>...</td>\n",
       "      <td>...</td>\n",
       "      <td>...</td>\n",
       "      <td>...</td>\n",
       "      <td>...</td>\n",
       "    </tr>\n",
       "    <tr>\n",
       "      <td>149391</td>\n",
       "      <td>1499_152</td>\n",
       "      <td>318.90</td>\n",
       "      <td>2018-10-03</td>\n",
       "      <td>1499</td>\n",
       "    </tr>\n",
       "    <tr>\n",
       "      <td>149392</td>\n",
       "      <td>1499_153</td>\n",
       "      <td>490.13</td>\n",
       "      <td>2018-12-14</td>\n",
       "      <td>1499</td>\n",
       "    </tr>\n",
       "    <tr>\n",
       "      <td>149393</td>\n",
       "      <td>1499_154</td>\n",
       "      <td>0.00</td>\n",
       "      <td>2018-10-27</td>\n",
       "      <td>1499</td>\n",
       "    </tr>\n",
       "    <tr>\n",
       "      <td>149394</td>\n",
       "      <td>1499_155</td>\n",
       "      <td>1246.32</td>\n",
       "      <td>2018-11-26</td>\n",
       "      <td>1499</td>\n",
       "    </tr>\n",
       "    <tr>\n",
       "      <td>149395</td>\n",
       "      <td>1499_156</td>\n",
       "      <td>544.37</td>\n",
       "      <td>2018-10-26</td>\n",
       "      <td>1499</td>\n",
       "    </tr>\n",
       "  </tbody>\n",
       "</table>\n",
       "<p>149396 rows × 4 columns</p>\n",
       "</div>"
      ],
      "text/plain": [
       "              id  mb_used session_date  user_id\n",
       "0         1000_0   112.95   2018-11-25     1000\n",
       "1         1000_1  1052.81   2018-09-07     1000\n",
       "2         1000_2  1197.26   2018-06-25     1000\n",
       "3         1000_3   550.27   2018-08-22     1000\n",
       "4         1000_4   302.56   2018-09-24     1000\n",
       "...          ...      ...          ...      ...\n",
       "149391  1499_152   318.90   2018-10-03     1499\n",
       "149392  1499_153   490.13   2018-12-14     1499\n",
       "149393  1499_154     0.00   2018-10-27     1499\n",
       "149394  1499_155  1246.32   2018-11-26     1499\n",
       "149395  1499_156   544.37   2018-10-26     1499\n",
       "\n",
       "[149396 rows x 4 columns]"
      ]
     },
     "metadata": {},
     "output_type": "display_data"
    }
   ],
   "source": [
    "internet = internet.loc[:, 'id':'user_id']\n",
    "display(internet)"
   ]
  },
  {
   "cell_type": "markdown",
   "id": "95448bb1",
   "metadata": {},
   "source": [
    "Изначальные таблицы приведены в порядок, теперь получим новую таблицу data из таблицы users, в которой для каждого пользователя посчитаем следующие параметры: \n",
    "- количество сделанных звонков и израсходованных минут разговора по месяцам;\n",
    "- количество отправленных сообщений по месяцам;\n",
    "- объем израсходованного интернет-трафика по месяцам;\n",
    "- помесячную выручку с каждого пользователя (вычтите бесплатный лимит из суммарного количества звонков, сообщений и интернет-трафика; остаток умножьте на значение из тарифного плана; прибавьте абонентскую плату, соответствующую тарифному плану).\n"
   ]
  },
  {
   "cell_type": "markdown",
   "id": "e6159d5d",
   "metadata": {},
   "source": [
    "***2.2 Изменение типов данных***"
   ]
  },
  {
   "cell_type": "code",
   "execution_count": 16,
   "id": "d516d2ed",
   "metadata": {},
   "outputs": [
    {
     "data": {
      "text/html": [
       "<div>\n",
       "<style scoped>\n",
       "    .dataframe tbody tr th:only-of-type {\n",
       "        vertical-align: middle;\n",
       "    }\n",
       "\n",
       "    .dataframe tbody tr th {\n",
       "        vertical-align: top;\n",
       "    }\n",
       "\n",
       "    .dataframe thead th {\n",
       "        text-align: right;\n",
       "    }\n",
       "</style>\n",
       "<table border=\"1\" class=\"dataframe\">\n",
       "  <thead>\n",
       "    <tr style=\"text-align: right;\">\n",
       "      <th></th>\n",
       "      <th>id</th>\n",
       "      <th>call_date</th>\n",
       "      <th>duration</th>\n",
       "      <th>user_id</th>\n",
       "      <th>count_minutes</th>\n",
       "    </tr>\n",
       "  </thead>\n",
       "  <tbody>\n",
       "    <tr>\n",
       "      <td>0</td>\n",
       "      <td>1000_0</td>\n",
       "      <td>2018-07-25</td>\n",
       "      <td>0.00</td>\n",
       "      <td>1000</td>\n",
       "      <td>0</td>\n",
       "    </tr>\n",
       "    <tr>\n",
       "      <td>1</td>\n",
       "      <td>1000_1</td>\n",
       "      <td>2018-08-17</td>\n",
       "      <td>0.00</td>\n",
       "      <td>1000</td>\n",
       "      <td>0</td>\n",
       "    </tr>\n",
       "    <tr>\n",
       "      <td>2</td>\n",
       "      <td>1000_2</td>\n",
       "      <td>2018-06-11</td>\n",
       "      <td>2.85</td>\n",
       "      <td>1000</td>\n",
       "      <td>3</td>\n",
       "    </tr>\n",
       "    <tr>\n",
       "      <td>3</td>\n",
       "      <td>1000_3</td>\n",
       "      <td>2018-09-21</td>\n",
       "      <td>13.80</td>\n",
       "      <td>1000</td>\n",
       "      <td>14</td>\n",
       "    </tr>\n",
       "    <tr>\n",
       "      <td>4</td>\n",
       "      <td>1000_4</td>\n",
       "      <td>2018-12-15</td>\n",
       "      <td>5.18</td>\n",
       "      <td>1000</td>\n",
       "      <td>6</td>\n",
       "    </tr>\n",
       "    <tr>\n",
       "      <td>...</td>\n",
       "      <td>...</td>\n",
       "      <td>...</td>\n",
       "      <td>...</td>\n",
       "      <td>...</td>\n",
       "      <td>...</td>\n",
       "    </tr>\n",
       "    <tr>\n",
       "      <td>202602</td>\n",
       "      <td>1499_215</td>\n",
       "      <td>2018-12-26</td>\n",
       "      <td>0.76</td>\n",
       "      <td>1499</td>\n",
       "      <td>1</td>\n",
       "    </tr>\n",
       "    <tr>\n",
       "      <td>202603</td>\n",
       "      <td>1499_216</td>\n",
       "      <td>2018-10-18</td>\n",
       "      <td>18.83</td>\n",
       "      <td>1499</td>\n",
       "      <td>19</td>\n",
       "    </tr>\n",
       "    <tr>\n",
       "      <td>202604</td>\n",
       "      <td>1499_217</td>\n",
       "      <td>2018-11-10</td>\n",
       "      <td>10.81</td>\n",
       "      <td>1499</td>\n",
       "      <td>11</td>\n",
       "    </tr>\n",
       "    <tr>\n",
       "      <td>202605</td>\n",
       "      <td>1499_218</td>\n",
       "      <td>2018-10-06</td>\n",
       "      <td>4.27</td>\n",
       "      <td>1499</td>\n",
       "      <td>5</td>\n",
       "    </tr>\n",
       "    <tr>\n",
       "      <td>202606</td>\n",
       "      <td>1499_219</td>\n",
       "      <td>2018-12-14</td>\n",
       "      <td>19.62</td>\n",
       "      <td>1499</td>\n",
       "      <td>20</td>\n",
       "    </tr>\n",
       "  </tbody>\n",
       "</table>\n",
       "<p>202607 rows × 5 columns</p>\n",
       "</div>"
      ],
      "text/plain": [
       "              id   call_date  duration  user_id  count_minutes\n",
       "0         1000_0  2018-07-25      0.00     1000              0\n",
       "1         1000_1  2018-08-17      0.00     1000              0\n",
       "2         1000_2  2018-06-11      2.85     1000              3\n",
       "3         1000_3  2018-09-21     13.80     1000             14\n",
       "4         1000_4  2018-12-15      5.18     1000              6\n",
       "...          ...         ...       ...      ...            ...\n",
       "202602  1499_215  2018-12-26      0.76     1499              1\n",
       "202603  1499_216  2018-10-18     18.83     1499             19\n",
       "202604  1499_217  2018-11-10     10.81     1499             11\n",
       "202605  1499_218  2018-10-06      4.27     1499              5\n",
       "202606  1499_219  2018-12-14     19.62     1499             20\n",
       "\n",
       "[202607 rows x 5 columns]"
      ]
     },
     "metadata": {},
     "output_type": "display_data"
    }
   ],
   "source": [
    "# округлим кол-во минут в большую сторону и приведем к целому типу данных\n",
    "calls['count_minutes'] = np.ceil(calls['duration'])\n",
    "calls['count_minutes'] = calls['count_minutes'].astype('int')\n",
    "display(calls)"
   ]
  },
  {
   "cell_type": "code",
   "execution_count": 17,
   "id": "35928486",
   "metadata": {},
   "outputs": [
    {
     "data": {
      "text/html": [
       "<div>\n",
       "<style scoped>\n",
       "    .dataframe tbody tr th:only-of-type {\n",
       "        vertical-align: middle;\n",
       "    }\n",
       "\n",
       "    .dataframe tbody tr th {\n",
       "        vertical-align: top;\n",
       "    }\n",
       "\n",
       "    .dataframe thead th {\n",
       "        text-align: right;\n",
       "    }\n",
       "</style>\n",
       "<table border=\"1\" class=\"dataframe\">\n",
       "  <thead>\n",
       "    <tr style=\"text-align: right;\">\n",
       "      <th></th>\n",
       "      <th>id</th>\n",
       "      <th>call_date</th>\n",
       "      <th>duration</th>\n",
       "      <th>user_id</th>\n",
       "      <th>count_minutes</th>\n",
       "    </tr>\n",
       "  </thead>\n",
       "  <tbody>\n",
       "    <tr>\n",
       "      <td>0</td>\n",
       "      <td>1000_0</td>\n",
       "      <td>2018-07-25</td>\n",
       "      <td>0.00</td>\n",
       "      <td>1000</td>\n",
       "      <td>0</td>\n",
       "    </tr>\n",
       "    <tr>\n",
       "      <td>1</td>\n",
       "      <td>1000_1</td>\n",
       "      <td>2018-08-17</td>\n",
       "      <td>0.00</td>\n",
       "      <td>1000</td>\n",
       "      <td>0</td>\n",
       "    </tr>\n",
       "    <tr>\n",
       "      <td>2</td>\n",
       "      <td>1000_2</td>\n",
       "      <td>2018-06-11</td>\n",
       "      <td>2.85</td>\n",
       "      <td>1000</td>\n",
       "      <td>3</td>\n",
       "    </tr>\n",
       "    <tr>\n",
       "      <td>3</td>\n",
       "      <td>1000_3</td>\n",
       "      <td>2018-09-21</td>\n",
       "      <td>13.80</td>\n",
       "      <td>1000</td>\n",
       "      <td>14</td>\n",
       "    </tr>\n",
       "    <tr>\n",
       "      <td>4</td>\n",
       "      <td>1000_4</td>\n",
       "      <td>2018-12-15</td>\n",
       "      <td>5.18</td>\n",
       "      <td>1000</td>\n",
       "      <td>6</td>\n",
       "    </tr>\n",
       "    <tr>\n",
       "      <td>...</td>\n",
       "      <td>...</td>\n",
       "      <td>...</td>\n",
       "      <td>...</td>\n",
       "      <td>...</td>\n",
       "      <td>...</td>\n",
       "    </tr>\n",
       "    <tr>\n",
       "      <td>202602</td>\n",
       "      <td>1499_215</td>\n",
       "      <td>2018-12-26</td>\n",
       "      <td>0.76</td>\n",
       "      <td>1499</td>\n",
       "      <td>1</td>\n",
       "    </tr>\n",
       "    <tr>\n",
       "      <td>202603</td>\n",
       "      <td>1499_216</td>\n",
       "      <td>2018-10-18</td>\n",
       "      <td>18.83</td>\n",
       "      <td>1499</td>\n",
       "      <td>19</td>\n",
       "    </tr>\n",
       "    <tr>\n",
       "      <td>202604</td>\n",
       "      <td>1499_217</td>\n",
       "      <td>2018-11-10</td>\n",
       "      <td>10.81</td>\n",
       "      <td>1499</td>\n",
       "      <td>11</td>\n",
       "    </tr>\n",
       "    <tr>\n",
       "      <td>202605</td>\n",
       "      <td>1499_218</td>\n",
       "      <td>2018-10-06</td>\n",
       "      <td>4.27</td>\n",
       "      <td>1499</td>\n",
       "      <td>5</td>\n",
       "    </tr>\n",
       "    <tr>\n",
       "      <td>202606</td>\n",
       "      <td>1499_219</td>\n",
       "      <td>2018-12-14</td>\n",
       "      <td>19.62</td>\n",
       "      <td>1499</td>\n",
       "      <td>20</td>\n",
       "    </tr>\n",
       "  </tbody>\n",
       "</table>\n",
       "<p>202607 rows × 5 columns</p>\n",
       "</div>"
      ],
      "text/plain": [
       "              id  call_date  duration  user_id  count_minutes\n",
       "0         1000_0 2018-07-25      0.00     1000              0\n",
       "1         1000_1 2018-08-17      0.00     1000              0\n",
       "2         1000_2 2018-06-11      2.85     1000              3\n",
       "3         1000_3 2018-09-21     13.80     1000             14\n",
       "4         1000_4 2018-12-15      5.18     1000              6\n",
       "...          ...        ...       ...      ...            ...\n",
       "202602  1499_215 2018-12-26      0.76     1499              1\n",
       "202603  1499_216 2018-10-18     18.83     1499             19\n",
       "202604  1499_217 2018-11-10     10.81     1499             11\n",
       "202605  1499_218 2018-10-06      4.27     1499              5\n",
       "202606  1499_219 2018-12-14     19.62     1499             20\n",
       "\n",
       "[202607 rows x 5 columns]"
      ]
     },
     "metadata": {},
     "output_type": "display_data"
    },
    {
     "name": "stdout",
     "output_type": "stream",
     "text": [
      "<class 'pandas.core.frame.DataFrame'>\n",
      "RangeIndex: 202607 entries, 0 to 202606\n",
      "Data columns (total 5 columns):\n",
      "id               202607 non-null object\n",
      "call_date        202607 non-null datetime64[ns]\n",
      "duration         202607 non-null float64\n",
      "user_id          202607 non-null int64\n",
      "count_minutes    202607 non-null int64\n",
      "dtypes: datetime64[ns](1), float64(1), int64(2), object(1)\n",
      "memory usage: 7.7+ MB\n"
     ]
    }
   ],
   "source": [
    "calls['call_date'] = pd.to_datetime(calls['call_date'], format='%Y-%m-%d')\n",
    "display(calls)\n",
    "calls.info()"
   ]
  },
  {
   "cell_type": "code",
   "execution_count": 18,
   "id": "346c4bf4",
   "metadata": {},
   "outputs": [
    {
     "data": {
      "text/html": [
       "<div>\n",
       "<style scoped>\n",
       "    .dataframe tbody tr th:only-of-type {\n",
       "        vertical-align: middle;\n",
       "    }\n",
       "\n",
       "    .dataframe tbody tr th {\n",
       "        vertical-align: top;\n",
       "    }\n",
       "\n",
       "    .dataframe thead th {\n",
       "        text-align: right;\n",
       "    }\n",
       "</style>\n",
       "<table border=\"1\" class=\"dataframe\">\n",
       "  <thead>\n",
       "    <tr style=\"text-align: right;\">\n",
       "      <th></th>\n",
       "      <th>id</th>\n",
       "      <th>message_date</th>\n",
       "      <th>user_id</th>\n",
       "    </tr>\n",
       "  </thead>\n",
       "  <tbody>\n",
       "    <tr>\n",
       "      <td>0</td>\n",
       "      <td>1000_0</td>\n",
       "      <td>2018-06-27</td>\n",
       "      <td>1000</td>\n",
       "    </tr>\n",
       "    <tr>\n",
       "      <td>1</td>\n",
       "      <td>1000_1</td>\n",
       "      <td>2018-10-08</td>\n",
       "      <td>1000</td>\n",
       "    </tr>\n",
       "    <tr>\n",
       "      <td>2</td>\n",
       "      <td>1000_2</td>\n",
       "      <td>2018-08-04</td>\n",
       "      <td>1000</td>\n",
       "    </tr>\n",
       "    <tr>\n",
       "      <td>3</td>\n",
       "      <td>1000_3</td>\n",
       "      <td>2018-06-16</td>\n",
       "      <td>1000</td>\n",
       "    </tr>\n",
       "    <tr>\n",
       "      <td>4</td>\n",
       "      <td>1000_4</td>\n",
       "      <td>2018-12-05</td>\n",
       "      <td>1000</td>\n",
       "    </tr>\n",
       "  </tbody>\n",
       "</table>\n",
       "</div>"
      ],
      "text/plain": [
       "       id message_date  user_id\n",
       "0  1000_0   2018-06-27     1000\n",
       "1  1000_1   2018-10-08     1000\n",
       "2  1000_2   2018-08-04     1000\n",
       "3  1000_3   2018-06-16     1000\n",
       "4  1000_4   2018-12-05     1000"
      ]
     },
     "metadata": {},
     "output_type": "display_data"
    },
    {
     "name": "stdout",
     "output_type": "stream",
     "text": [
      "<class 'pandas.core.frame.DataFrame'>\n",
      "RangeIndex: 123036 entries, 0 to 123035\n",
      "Data columns (total 3 columns):\n",
      "id              123036 non-null object\n",
      "message_date    123036 non-null object\n",
      "user_id         123036 non-null int64\n",
      "dtypes: int64(1), object(2)\n",
      "memory usage: 2.8+ MB\n"
     ]
    }
   ],
   "source": [
    "display(messages.head())\n",
    "messages.info()"
   ]
  },
  {
   "cell_type": "code",
   "execution_count": 19,
   "id": "6e23b64a",
   "metadata": {},
   "outputs": [
    {
     "data": {
      "text/html": [
       "<div>\n",
       "<style scoped>\n",
       "    .dataframe tbody tr th:only-of-type {\n",
       "        vertical-align: middle;\n",
       "    }\n",
       "\n",
       "    .dataframe tbody tr th {\n",
       "        vertical-align: top;\n",
       "    }\n",
       "\n",
       "    .dataframe thead th {\n",
       "        text-align: right;\n",
       "    }\n",
       "</style>\n",
       "<table border=\"1\" class=\"dataframe\">\n",
       "  <thead>\n",
       "    <tr style=\"text-align: right;\">\n",
       "      <th></th>\n",
       "      <th>id</th>\n",
       "      <th>message_date</th>\n",
       "      <th>user_id</th>\n",
       "    </tr>\n",
       "  </thead>\n",
       "  <tbody>\n",
       "    <tr>\n",
       "      <td>0</td>\n",
       "      <td>1000_0</td>\n",
       "      <td>2018-06-27</td>\n",
       "      <td>1000</td>\n",
       "    </tr>\n",
       "    <tr>\n",
       "      <td>1</td>\n",
       "      <td>1000_1</td>\n",
       "      <td>2018-10-08</td>\n",
       "      <td>1000</td>\n",
       "    </tr>\n",
       "    <tr>\n",
       "      <td>2</td>\n",
       "      <td>1000_2</td>\n",
       "      <td>2018-08-04</td>\n",
       "      <td>1000</td>\n",
       "    </tr>\n",
       "    <tr>\n",
       "      <td>3</td>\n",
       "      <td>1000_3</td>\n",
       "      <td>2018-06-16</td>\n",
       "      <td>1000</td>\n",
       "    </tr>\n",
       "    <tr>\n",
       "      <td>4</td>\n",
       "      <td>1000_4</td>\n",
       "      <td>2018-12-05</td>\n",
       "      <td>1000</td>\n",
       "    </tr>\n",
       "    <tr>\n",
       "      <td>...</td>\n",
       "      <td>...</td>\n",
       "      <td>...</td>\n",
       "      <td>...</td>\n",
       "    </tr>\n",
       "    <tr>\n",
       "      <td>123031</td>\n",
       "      <td>1499_179</td>\n",
       "      <td>2018-12-12</td>\n",
       "      <td>1499</td>\n",
       "    </tr>\n",
       "    <tr>\n",
       "      <td>123032</td>\n",
       "      <td>1499_180</td>\n",
       "      <td>2018-09-28</td>\n",
       "      <td>1499</td>\n",
       "    </tr>\n",
       "    <tr>\n",
       "      <td>123033</td>\n",
       "      <td>1499_181</td>\n",
       "      <td>2018-09-27</td>\n",
       "      <td>1499</td>\n",
       "    </tr>\n",
       "    <tr>\n",
       "      <td>123034</td>\n",
       "      <td>1499_182</td>\n",
       "      <td>2018-11-15</td>\n",
       "      <td>1499</td>\n",
       "    </tr>\n",
       "    <tr>\n",
       "      <td>123035</td>\n",
       "      <td>1499_183</td>\n",
       "      <td>2018-11-16</td>\n",
       "      <td>1499</td>\n",
       "    </tr>\n",
       "  </tbody>\n",
       "</table>\n",
       "<p>123036 rows × 3 columns</p>\n",
       "</div>"
      ],
      "text/plain": [
       "              id message_date  user_id\n",
       "0         1000_0   2018-06-27     1000\n",
       "1         1000_1   2018-10-08     1000\n",
       "2         1000_2   2018-08-04     1000\n",
       "3         1000_3   2018-06-16     1000\n",
       "4         1000_4   2018-12-05     1000\n",
       "...          ...          ...      ...\n",
       "123031  1499_179   2018-12-12     1499\n",
       "123032  1499_180   2018-09-28     1499\n",
       "123033  1499_181   2018-09-27     1499\n",
       "123034  1499_182   2018-11-15     1499\n",
       "123035  1499_183   2018-11-16     1499\n",
       "\n",
       "[123036 rows x 3 columns]"
      ]
     },
     "metadata": {},
     "output_type": "display_data"
    },
    {
     "name": "stdout",
     "output_type": "stream",
     "text": [
      "<class 'pandas.core.frame.DataFrame'>\n",
      "RangeIndex: 123036 entries, 0 to 123035\n",
      "Data columns (total 3 columns):\n",
      "id              123036 non-null object\n",
      "message_date    123036 non-null datetime64[ns]\n",
      "user_id         123036 non-null int64\n",
      "dtypes: datetime64[ns](1), int64(1), object(1)\n",
      "memory usage: 2.8+ MB\n"
     ]
    }
   ],
   "source": [
    "messages['message_date'] = pd.to_datetime(messages['message_date'], format='%Y-%m-%d')\n",
    "display(messages)\n",
    "messages.info()"
   ]
  },
  {
   "cell_type": "code",
   "execution_count": 20,
   "id": "6d2eef07",
   "metadata": {},
   "outputs": [
    {
     "data": {
      "text/html": [
       "<div>\n",
       "<style scoped>\n",
       "    .dataframe tbody tr th:only-of-type {\n",
       "        vertical-align: middle;\n",
       "    }\n",
       "\n",
       "    .dataframe tbody tr th {\n",
       "        vertical-align: top;\n",
       "    }\n",
       "\n",
       "    .dataframe thead th {\n",
       "        text-align: right;\n",
       "    }\n",
       "</style>\n",
       "<table border=\"1\" class=\"dataframe\">\n",
       "  <thead>\n",
       "    <tr style=\"text-align: right;\">\n",
       "      <th></th>\n",
       "      <th>id</th>\n",
       "      <th>mb_used</th>\n",
       "      <th>session_date</th>\n",
       "      <th>user_id</th>\n",
       "    </tr>\n",
       "  </thead>\n",
       "  <tbody>\n",
       "    <tr>\n",
       "      <td>0</td>\n",
       "      <td>1000_0</td>\n",
       "      <td>112.95</td>\n",
       "      <td>2018-11-25</td>\n",
       "      <td>1000</td>\n",
       "    </tr>\n",
       "    <tr>\n",
       "      <td>1</td>\n",
       "      <td>1000_1</td>\n",
       "      <td>1052.81</td>\n",
       "      <td>2018-09-07</td>\n",
       "      <td>1000</td>\n",
       "    </tr>\n",
       "    <tr>\n",
       "      <td>2</td>\n",
       "      <td>1000_2</td>\n",
       "      <td>1197.26</td>\n",
       "      <td>2018-06-25</td>\n",
       "      <td>1000</td>\n",
       "    </tr>\n",
       "    <tr>\n",
       "      <td>3</td>\n",
       "      <td>1000_3</td>\n",
       "      <td>550.27</td>\n",
       "      <td>2018-08-22</td>\n",
       "      <td>1000</td>\n",
       "    </tr>\n",
       "    <tr>\n",
       "      <td>4</td>\n",
       "      <td>1000_4</td>\n",
       "      <td>302.56</td>\n",
       "      <td>2018-09-24</td>\n",
       "      <td>1000</td>\n",
       "    </tr>\n",
       "  </tbody>\n",
       "</table>\n",
       "</div>"
      ],
      "text/plain": [
       "       id  mb_used session_date  user_id\n",
       "0  1000_0   112.95   2018-11-25     1000\n",
       "1  1000_1  1052.81   2018-09-07     1000\n",
       "2  1000_2  1197.26   2018-06-25     1000\n",
       "3  1000_3   550.27   2018-08-22     1000\n",
       "4  1000_4   302.56   2018-09-24     1000"
      ]
     },
     "metadata": {},
     "output_type": "display_data"
    },
    {
     "name": "stdout",
     "output_type": "stream",
     "text": [
      "<class 'pandas.core.frame.DataFrame'>\n",
      "RangeIndex: 149396 entries, 0 to 149395\n",
      "Data columns (total 4 columns):\n",
      "id              149396 non-null object\n",
      "mb_used         149396 non-null float64\n",
      "session_date    149396 non-null object\n",
      "user_id         149396 non-null int64\n",
      "dtypes: float64(1), int64(1), object(2)\n",
      "memory usage: 4.6+ MB\n"
     ]
    }
   ],
   "source": [
    "display(internet.head())\n",
    "internet.info()"
   ]
  },
  {
   "cell_type": "code",
   "execution_count": 21,
   "id": "68998e9f",
   "metadata": {
    "scrolled": false
   },
   "outputs": [
    {
     "data": {
      "text/html": [
       "<div>\n",
       "<style scoped>\n",
       "    .dataframe tbody tr th:only-of-type {\n",
       "        vertical-align: middle;\n",
       "    }\n",
       "\n",
       "    .dataframe tbody tr th {\n",
       "        vertical-align: top;\n",
       "    }\n",
       "\n",
       "    .dataframe thead th {\n",
       "        text-align: right;\n",
       "    }\n",
       "</style>\n",
       "<table border=\"1\" class=\"dataframe\">\n",
       "  <thead>\n",
       "    <tr style=\"text-align: right;\">\n",
       "      <th></th>\n",
       "      <th>id</th>\n",
       "      <th>mb_used</th>\n",
       "      <th>session_date</th>\n",
       "      <th>user_id</th>\n",
       "    </tr>\n",
       "  </thead>\n",
       "  <tbody>\n",
       "    <tr>\n",
       "      <td>0</td>\n",
       "      <td>1000_0</td>\n",
       "      <td>112.95</td>\n",
       "      <td>2018-11-25</td>\n",
       "      <td>1000</td>\n",
       "    </tr>\n",
       "    <tr>\n",
       "      <td>1</td>\n",
       "      <td>1000_1</td>\n",
       "      <td>1052.81</td>\n",
       "      <td>2018-09-07</td>\n",
       "      <td>1000</td>\n",
       "    </tr>\n",
       "    <tr>\n",
       "      <td>2</td>\n",
       "      <td>1000_2</td>\n",
       "      <td>1197.26</td>\n",
       "      <td>2018-06-25</td>\n",
       "      <td>1000</td>\n",
       "    </tr>\n",
       "    <tr>\n",
       "      <td>3</td>\n",
       "      <td>1000_3</td>\n",
       "      <td>550.27</td>\n",
       "      <td>2018-08-22</td>\n",
       "      <td>1000</td>\n",
       "    </tr>\n",
       "    <tr>\n",
       "      <td>4</td>\n",
       "      <td>1000_4</td>\n",
       "      <td>302.56</td>\n",
       "      <td>2018-09-24</td>\n",
       "      <td>1000</td>\n",
       "    </tr>\n",
       "    <tr>\n",
       "      <td>...</td>\n",
       "      <td>...</td>\n",
       "      <td>...</td>\n",
       "      <td>...</td>\n",
       "      <td>...</td>\n",
       "    </tr>\n",
       "    <tr>\n",
       "      <td>149391</td>\n",
       "      <td>1499_152</td>\n",
       "      <td>318.90</td>\n",
       "      <td>2018-10-03</td>\n",
       "      <td>1499</td>\n",
       "    </tr>\n",
       "    <tr>\n",
       "      <td>149392</td>\n",
       "      <td>1499_153</td>\n",
       "      <td>490.13</td>\n",
       "      <td>2018-12-14</td>\n",
       "      <td>1499</td>\n",
       "    </tr>\n",
       "    <tr>\n",
       "      <td>149393</td>\n",
       "      <td>1499_154</td>\n",
       "      <td>0.00</td>\n",
       "      <td>2018-10-27</td>\n",
       "      <td>1499</td>\n",
       "    </tr>\n",
       "    <tr>\n",
       "      <td>149394</td>\n",
       "      <td>1499_155</td>\n",
       "      <td>1246.32</td>\n",
       "      <td>2018-11-26</td>\n",
       "      <td>1499</td>\n",
       "    </tr>\n",
       "    <tr>\n",
       "      <td>149395</td>\n",
       "      <td>1499_156</td>\n",
       "      <td>544.37</td>\n",
       "      <td>2018-10-26</td>\n",
       "      <td>1499</td>\n",
       "    </tr>\n",
       "  </tbody>\n",
       "</table>\n",
       "<p>149396 rows × 4 columns</p>\n",
       "</div>"
      ],
      "text/plain": [
       "              id  mb_used session_date  user_id\n",
       "0         1000_0   112.95   2018-11-25     1000\n",
       "1         1000_1  1052.81   2018-09-07     1000\n",
       "2         1000_2  1197.26   2018-06-25     1000\n",
       "3         1000_3   550.27   2018-08-22     1000\n",
       "4         1000_4   302.56   2018-09-24     1000\n",
       "...          ...      ...          ...      ...\n",
       "149391  1499_152   318.90   2018-10-03     1499\n",
       "149392  1499_153   490.13   2018-12-14     1499\n",
       "149393  1499_154     0.00   2018-10-27     1499\n",
       "149394  1499_155  1246.32   2018-11-26     1499\n",
       "149395  1499_156   544.37   2018-10-26     1499\n",
       "\n",
       "[149396 rows x 4 columns]"
      ]
     },
     "metadata": {},
     "output_type": "display_data"
    },
    {
     "name": "stdout",
     "output_type": "stream",
     "text": [
      "<class 'pandas.core.frame.DataFrame'>\n",
      "RangeIndex: 149396 entries, 0 to 149395\n",
      "Data columns (total 4 columns):\n",
      "id              149396 non-null object\n",
      "mb_used         149396 non-null float64\n",
      "session_date    149396 non-null datetime64[ns]\n",
      "user_id         149396 non-null int64\n",
      "dtypes: datetime64[ns](1), float64(1), int64(1), object(1)\n",
      "memory usage: 4.6+ MB\n"
     ]
    }
   ],
   "source": [
    "internet['session_date'] = pd.to_datetime(internet['session_date'], format='%Y-%m-%d')\n",
    "display(internet)\n",
    "internet.info()"
   ]
  },
  {
   "cell_type": "code",
   "execution_count": 22,
   "id": "f53505ca",
   "metadata": {},
   "outputs": [
    {
     "data": {
      "text/html": [
       "<div>\n",
       "<style scoped>\n",
       "    .dataframe tbody tr th:only-of-type {\n",
       "        vertical-align: middle;\n",
       "    }\n",
       "\n",
       "    .dataframe tbody tr th {\n",
       "        vertical-align: top;\n",
       "    }\n",
       "\n",
       "    .dataframe thead th {\n",
       "        text-align: right;\n",
       "    }\n",
       "</style>\n",
       "<table border=\"1\" class=\"dataframe\">\n",
       "  <thead>\n",
       "    <tr style=\"text-align: right;\">\n",
       "      <th></th>\n",
       "      <th>user_id</th>\n",
       "      <th>age</th>\n",
       "      <th>churn_date</th>\n",
       "      <th>city</th>\n",
       "      <th>first_name</th>\n",
       "      <th>last_name</th>\n",
       "      <th>reg_date</th>\n",
       "      <th>tariff</th>\n",
       "    </tr>\n",
       "  </thead>\n",
       "  <tbody>\n",
       "    <tr>\n",
       "      <td>0</td>\n",
       "      <td>1000</td>\n",
       "      <td>52</td>\n",
       "      <td>2018-12-31</td>\n",
       "      <td>Краснодар</td>\n",
       "      <td>Рафаил</td>\n",
       "      <td>Верещагин</td>\n",
       "      <td>2018-05-25</td>\n",
       "      <td>ultra</td>\n",
       "    </tr>\n",
       "    <tr>\n",
       "      <td>1</td>\n",
       "      <td>1001</td>\n",
       "      <td>41</td>\n",
       "      <td>2018-12-31</td>\n",
       "      <td>Москва</td>\n",
       "      <td>Иван</td>\n",
       "      <td>Ежов</td>\n",
       "      <td>2018-11-01</td>\n",
       "      <td>smart</td>\n",
       "    </tr>\n",
       "    <tr>\n",
       "      <td>2</td>\n",
       "      <td>1002</td>\n",
       "      <td>59</td>\n",
       "      <td>2018-12-31</td>\n",
       "      <td>Стерлитамак</td>\n",
       "      <td>Евгений</td>\n",
       "      <td>Абрамович</td>\n",
       "      <td>2018-06-17</td>\n",
       "      <td>smart</td>\n",
       "    </tr>\n",
       "    <tr>\n",
       "      <td>3</td>\n",
       "      <td>1003</td>\n",
       "      <td>23</td>\n",
       "      <td>2018-12-31</td>\n",
       "      <td>Москва</td>\n",
       "      <td>Белла</td>\n",
       "      <td>Белякова</td>\n",
       "      <td>2018-08-17</td>\n",
       "      <td>ultra</td>\n",
       "    </tr>\n",
       "    <tr>\n",
       "      <td>4</td>\n",
       "      <td>1004</td>\n",
       "      <td>68</td>\n",
       "      <td>2018-12-31</td>\n",
       "      <td>Новокузнецк</td>\n",
       "      <td>Татьяна</td>\n",
       "      <td>Авдеенко</td>\n",
       "      <td>2018-05-14</td>\n",
       "      <td>ultra</td>\n",
       "    </tr>\n",
       "    <tr>\n",
       "      <td>...</td>\n",
       "      <td>...</td>\n",
       "      <td>...</td>\n",
       "      <td>...</td>\n",
       "      <td>...</td>\n",
       "      <td>...</td>\n",
       "      <td>...</td>\n",
       "      <td>...</td>\n",
       "      <td>...</td>\n",
       "    </tr>\n",
       "    <tr>\n",
       "      <td>495</td>\n",
       "      <td>1495</td>\n",
       "      <td>65</td>\n",
       "      <td>2018-12-31</td>\n",
       "      <td>Иркутск</td>\n",
       "      <td>Авксентий</td>\n",
       "      <td>Фокин</td>\n",
       "      <td>2018-08-28</td>\n",
       "      <td>ultra</td>\n",
       "    </tr>\n",
       "    <tr>\n",
       "      <td>496</td>\n",
       "      <td>1496</td>\n",
       "      <td>36</td>\n",
       "      <td>2018-12-31</td>\n",
       "      <td>Вологда</td>\n",
       "      <td>Трифон</td>\n",
       "      <td>Блохин</td>\n",
       "      <td>2018-01-27</td>\n",
       "      <td>smart</td>\n",
       "    </tr>\n",
       "    <tr>\n",
       "      <td>497</td>\n",
       "      <td>1497</td>\n",
       "      <td>32</td>\n",
       "      <td>2018-12-31</td>\n",
       "      <td>Челябинск</td>\n",
       "      <td>Каролина</td>\n",
       "      <td>Агеева</td>\n",
       "      <td>2018-10-09</td>\n",
       "      <td>smart</td>\n",
       "    </tr>\n",
       "    <tr>\n",
       "      <td>498</td>\n",
       "      <td>1498</td>\n",
       "      <td>68</td>\n",
       "      <td>2018-10-25</td>\n",
       "      <td>Владикавказ</td>\n",
       "      <td>Всеволод</td>\n",
       "      <td>Акимчин</td>\n",
       "      <td>2018-07-19</td>\n",
       "      <td>smart</td>\n",
       "    </tr>\n",
       "    <tr>\n",
       "      <td>499</td>\n",
       "      <td>1499</td>\n",
       "      <td>35</td>\n",
       "      <td>2018-12-31</td>\n",
       "      <td>Пермь</td>\n",
       "      <td>Гектор</td>\n",
       "      <td>Корнилов</td>\n",
       "      <td>2018-09-27</td>\n",
       "      <td>smart</td>\n",
       "    </tr>\n",
       "  </tbody>\n",
       "</table>\n",
       "<p>500 rows × 8 columns</p>\n",
       "</div>"
      ],
      "text/plain": [
       "     user_id  age  churn_date         city first_name  last_name    reg_date  \\\n",
       "0       1000   52  2018-12-31    Краснодар     Рафаил  Верещагин  2018-05-25   \n",
       "1       1001   41  2018-12-31       Москва       Иван       Ежов  2018-11-01   \n",
       "2       1002   59  2018-12-31  Стерлитамак    Евгений  Абрамович  2018-06-17   \n",
       "3       1003   23  2018-12-31       Москва      Белла   Белякова  2018-08-17   \n",
       "4       1004   68  2018-12-31  Новокузнецк    Татьяна   Авдеенко  2018-05-14   \n",
       "..       ...  ...         ...          ...        ...        ...         ...   \n",
       "495     1495   65  2018-12-31      Иркутск  Авксентий      Фокин  2018-08-28   \n",
       "496     1496   36  2018-12-31      Вологда     Трифон     Блохин  2018-01-27   \n",
       "497     1497   32  2018-12-31    Челябинск   Каролина     Агеева  2018-10-09   \n",
       "498     1498   68  2018-10-25  Владикавказ   Всеволод    Акимчин  2018-07-19   \n",
       "499     1499   35  2018-12-31        Пермь     Гектор   Корнилов  2018-09-27   \n",
       "\n",
       "    tariff  \n",
       "0    ultra  \n",
       "1    smart  \n",
       "2    smart  \n",
       "3    ultra  \n",
       "4    ultra  \n",
       "..     ...  \n",
       "495  ultra  \n",
       "496  smart  \n",
       "497  smart  \n",
       "498  smart  \n",
       "499  smart  \n",
       "\n",
       "[500 rows x 8 columns]"
      ]
     },
     "metadata": {},
     "output_type": "display_data"
    }
   ],
   "source": [
    "# так как пропуски в churn_date означают, что пользование тарифа еще не закончилось,\n",
    "# то анализируя 2018 год, заполним пропуски 31 декабря 2018 года\n",
    "users['churn_date'] = users['churn_date'].fillna('2018-12-31') \n",
    "display(users)"
   ]
  },
  {
   "cell_type": "code",
   "execution_count": 23,
   "id": "2ebc6a7f",
   "metadata": {},
   "outputs": [
    {
     "data": {
      "text/html": [
       "<div>\n",
       "<style scoped>\n",
       "    .dataframe tbody tr th:only-of-type {\n",
       "        vertical-align: middle;\n",
       "    }\n",
       "\n",
       "    .dataframe tbody tr th {\n",
       "        vertical-align: top;\n",
       "    }\n",
       "\n",
       "    .dataframe thead th {\n",
       "        text-align: right;\n",
       "    }\n",
       "</style>\n",
       "<table border=\"1\" class=\"dataframe\">\n",
       "  <thead>\n",
       "    <tr style=\"text-align: right;\">\n",
       "      <th></th>\n",
       "      <th>user_id</th>\n",
       "      <th>age</th>\n",
       "      <th>churn_date</th>\n",
       "      <th>city</th>\n",
       "      <th>first_name</th>\n",
       "      <th>last_name</th>\n",
       "      <th>reg_date</th>\n",
       "      <th>tariff</th>\n",
       "    </tr>\n",
       "  </thead>\n",
       "  <tbody>\n",
       "    <tr>\n",
       "      <td>0</td>\n",
       "      <td>1000</td>\n",
       "      <td>52</td>\n",
       "      <td>2018-12-31</td>\n",
       "      <td>Краснодар</td>\n",
       "      <td>Рафаил</td>\n",
       "      <td>Верещагин</td>\n",
       "      <td>2018-05-25</td>\n",
       "      <td>ultra</td>\n",
       "    </tr>\n",
       "    <tr>\n",
       "      <td>1</td>\n",
       "      <td>1001</td>\n",
       "      <td>41</td>\n",
       "      <td>2018-12-31</td>\n",
       "      <td>Москва</td>\n",
       "      <td>Иван</td>\n",
       "      <td>Ежов</td>\n",
       "      <td>2018-11-01</td>\n",
       "      <td>smart</td>\n",
       "    </tr>\n",
       "    <tr>\n",
       "      <td>2</td>\n",
       "      <td>1002</td>\n",
       "      <td>59</td>\n",
       "      <td>2018-12-31</td>\n",
       "      <td>Стерлитамак</td>\n",
       "      <td>Евгений</td>\n",
       "      <td>Абрамович</td>\n",
       "      <td>2018-06-17</td>\n",
       "      <td>smart</td>\n",
       "    </tr>\n",
       "    <tr>\n",
       "      <td>3</td>\n",
       "      <td>1003</td>\n",
       "      <td>23</td>\n",
       "      <td>2018-12-31</td>\n",
       "      <td>Москва</td>\n",
       "      <td>Белла</td>\n",
       "      <td>Белякова</td>\n",
       "      <td>2018-08-17</td>\n",
       "      <td>ultra</td>\n",
       "    </tr>\n",
       "    <tr>\n",
       "      <td>4</td>\n",
       "      <td>1004</td>\n",
       "      <td>68</td>\n",
       "      <td>2018-12-31</td>\n",
       "      <td>Новокузнецк</td>\n",
       "      <td>Татьяна</td>\n",
       "      <td>Авдеенко</td>\n",
       "      <td>2018-05-14</td>\n",
       "      <td>ultra</td>\n",
       "    </tr>\n",
       "    <tr>\n",
       "      <td>...</td>\n",
       "      <td>...</td>\n",
       "      <td>...</td>\n",
       "      <td>...</td>\n",
       "      <td>...</td>\n",
       "      <td>...</td>\n",
       "      <td>...</td>\n",
       "      <td>...</td>\n",
       "      <td>...</td>\n",
       "    </tr>\n",
       "    <tr>\n",
       "      <td>495</td>\n",
       "      <td>1495</td>\n",
       "      <td>65</td>\n",
       "      <td>2018-12-31</td>\n",
       "      <td>Иркутск</td>\n",
       "      <td>Авксентий</td>\n",
       "      <td>Фокин</td>\n",
       "      <td>2018-08-28</td>\n",
       "      <td>ultra</td>\n",
       "    </tr>\n",
       "    <tr>\n",
       "      <td>496</td>\n",
       "      <td>1496</td>\n",
       "      <td>36</td>\n",
       "      <td>2018-12-31</td>\n",
       "      <td>Вологда</td>\n",
       "      <td>Трифон</td>\n",
       "      <td>Блохин</td>\n",
       "      <td>2018-01-27</td>\n",
       "      <td>smart</td>\n",
       "    </tr>\n",
       "    <tr>\n",
       "      <td>497</td>\n",
       "      <td>1497</td>\n",
       "      <td>32</td>\n",
       "      <td>2018-12-31</td>\n",
       "      <td>Челябинск</td>\n",
       "      <td>Каролина</td>\n",
       "      <td>Агеева</td>\n",
       "      <td>2018-10-09</td>\n",
       "      <td>smart</td>\n",
       "    </tr>\n",
       "    <tr>\n",
       "      <td>498</td>\n",
       "      <td>1498</td>\n",
       "      <td>68</td>\n",
       "      <td>2018-10-25</td>\n",
       "      <td>Владикавказ</td>\n",
       "      <td>Всеволод</td>\n",
       "      <td>Акимчин</td>\n",
       "      <td>2018-07-19</td>\n",
       "      <td>smart</td>\n",
       "    </tr>\n",
       "    <tr>\n",
       "      <td>499</td>\n",
       "      <td>1499</td>\n",
       "      <td>35</td>\n",
       "      <td>2018-12-31</td>\n",
       "      <td>Пермь</td>\n",
       "      <td>Гектор</td>\n",
       "      <td>Корнилов</td>\n",
       "      <td>2018-09-27</td>\n",
       "      <td>smart</td>\n",
       "    </tr>\n",
       "  </tbody>\n",
       "</table>\n",
       "<p>500 rows × 8 columns</p>\n",
       "</div>"
      ],
      "text/plain": [
       "     user_id  age churn_date         city first_name  last_name   reg_date  \\\n",
       "0       1000   52 2018-12-31    Краснодар     Рафаил  Верещагин 2018-05-25   \n",
       "1       1001   41 2018-12-31       Москва       Иван       Ежов 2018-11-01   \n",
       "2       1002   59 2018-12-31  Стерлитамак    Евгений  Абрамович 2018-06-17   \n",
       "3       1003   23 2018-12-31       Москва      Белла   Белякова 2018-08-17   \n",
       "4       1004   68 2018-12-31  Новокузнецк    Татьяна   Авдеенко 2018-05-14   \n",
       "..       ...  ...        ...          ...        ...        ...        ...   \n",
       "495     1495   65 2018-12-31      Иркутск  Авксентий      Фокин 2018-08-28   \n",
       "496     1496   36 2018-12-31      Вологда     Трифон     Блохин 2018-01-27   \n",
       "497     1497   32 2018-12-31    Челябинск   Каролина     Агеева 2018-10-09   \n",
       "498     1498   68 2018-10-25  Владикавказ   Всеволод    Акимчин 2018-07-19   \n",
       "499     1499   35 2018-12-31        Пермь     Гектор   Корнилов 2018-09-27   \n",
       "\n",
       "    tariff  \n",
       "0    ultra  \n",
       "1    smart  \n",
       "2    smart  \n",
       "3    ultra  \n",
       "4    ultra  \n",
       "..     ...  \n",
       "495  ultra  \n",
       "496  smart  \n",
       "497  smart  \n",
       "498  smart  \n",
       "499  smart  \n",
       "\n",
       "[500 rows x 8 columns]"
      ]
     },
     "metadata": {},
     "output_type": "display_data"
    },
    {
     "name": "stdout",
     "output_type": "stream",
     "text": [
      "<class 'pandas.core.frame.DataFrame'>\n",
      "RangeIndex: 500 entries, 0 to 499\n",
      "Data columns (total 8 columns):\n",
      "user_id       500 non-null int64\n",
      "age           500 non-null int64\n",
      "churn_date    500 non-null datetime64[ns]\n",
      "city          500 non-null object\n",
      "first_name    500 non-null object\n",
      "last_name     500 non-null object\n",
      "reg_date      500 non-null datetime64[ns]\n",
      "tariff        500 non-null object\n",
      "dtypes: datetime64[ns](2), int64(2), object(4)\n",
      "memory usage: 31.4+ KB\n"
     ]
    }
   ],
   "source": [
    "users['churn_date'] = pd.to_datetime(users['churn_date'], format='%Y-%m-%d')\n",
    "users['reg_date'] = pd.to_datetime(users['reg_date'], format='%Y-%m-%d')\n",
    "display(users)\n",
    "users.info()"
   ]
  },
  {
   "cell_type": "markdown",
   "id": "9e23be06",
   "metadata": {},
   "source": [
    "***2.3 Добавление новых данных***"
   ]
  },
  {
   "cell_type": "code",
   "execution_count": 24,
   "id": "071991f5",
   "metadata": {
    "scrolled": false
   },
   "outputs": [
    {
     "data": {
      "text/html": [
       "<div>\n",
       "<style scoped>\n",
       "    .dataframe tbody tr th:only-of-type {\n",
       "        vertical-align: middle;\n",
       "    }\n",
       "\n",
       "    .dataframe tbody tr th {\n",
       "        vertical-align: top;\n",
       "    }\n",
       "\n",
       "    .dataframe thead th {\n",
       "        text-align: right;\n",
       "    }\n",
       "</style>\n",
       "<table border=\"1\" class=\"dataframe\">\n",
       "  <thead>\n",
       "    <tr style=\"text-align: right;\">\n",
       "      <th></th>\n",
       "      <th>id</th>\n",
       "      <th>call_date</th>\n",
       "      <th>duration</th>\n",
       "      <th>user_id</th>\n",
       "      <th>count_minutes</th>\n",
       "    </tr>\n",
       "  </thead>\n",
       "  <tbody>\n",
       "    <tr>\n",
       "      <td>0</td>\n",
       "      <td>1000_0</td>\n",
       "      <td>2018-07-25</td>\n",
       "      <td>0.00</td>\n",
       "      <td>1000</td>\n",
       "      <td>0</td>\n",
       "    </tr>\n",
       "    <tr>\n",
       "      <td>1</td>\n",
       "      <td>1000_1</td>\n",
       "      <td>2018-08-17</td>\n",
       "      <td>0.00</td>\n",
       "      <td>1000</td>\n",
       "      <td>0</td>\n",
       "    </tr>\n",
       "    <tr>\n",
       "      <td>2</td>\n",
       "      <td>1000_2</td>\n",
       "      <td>2018-06-11</td>\n",
       "      <td>2.85</td>\n",
       "      <td>1000</td>\n",
       "      <td>3</td>\n",
       "    </tr>\n",
       "    <tr>\n",
       "      <td>3</td>\n",
       "      <td>1000_3</td>\n",
       "      <td>2018-09-21</td>\n",
       "      <td>13.80</td>\n",
       "      <td>1000</td>\n",
       "      <td>14</td>\n",
       "    </tr>\n",
       "    <tr>\n",
       "      <td>4</td>\n",
       "      <td>1000_4</td>\n",
       "      <td>2018-12-15</td>\n",
       "      <td>5.18</td>\n",
       "      <td>1000</td>\n",
       "      <td>6</td>\n",
       "    </tr>\n",
       "    <tr>\n",
       "      <td>...</td>\n",
       "      <td>...</td>\n",
       "      <td>...</td>\n",
       "      <td>...</td>\n",
       "      <td>...</td>\n",
       "      <td>...</td>\n",
       "    </tr>\n",
       "    <tr>\n",
       "      <td>202602</td>\n",
       "      <td>1499_215</td>\n",
       "      <td>2018-12-26</td>\n",
       "      <td>0.76</td>\n",
       "      <td>1499</td>\n",
       "      <td>1</td>\n",
       "    </tr>\n",
       "    <tr>\n",
       "      <td>202603</td>\n",
       "      <td>1499_216</td>\n",
       "      <td>2018-10-18</td>\n",
       "      <td>18.83</td>\n",
       "      <td>1499</td>\n",
       "      <td>19</td>\n",
       "    </tr>\n",
       "    <tr>\n",
       "      <td>202604</td>\n",
       "      <td>1499_217</td>\n",
       "      <td>2018-11-10</td>\n",
       "      <td>10.81</td>\n",
       "      <td>1499</td>\n",
       "      <td>11</td>\n",
       "    </tr>\n",
       "    <tr>\n",
       "      <td>202605</td>\n",
       "      <td>1499_218</td>\n",
       "      <td>2018-10-06</td>\n",
       "      <td>4.27</td>\n",
       "      <td>1499</td>\n",
       "      <td>5</td>\n",
       "    </tr>\n",
       "    <tr>\n",
       "      <td>202606</td>\n",
       "      <td>1499_219</td>\n",
       "      <td>2018-12-14</td>\n",
       "      <td>19.62</td>\n",
       "      <td>1499</td>\n",
       "      <td>20</td>\n",
       "    </tr>\n",
       "  </tbody>\n",
       "</table>\n",
       "<p>202607 rows × 5 columns</p>\n",
       "</div>"
      ],
      "text/plain": [
       "              id  call_date  duration  user_id  count_minutes\n",
       "0         1000_0 2018-07-25      0.00     1000              0\n",
       "1         1000_1 2018-08-17      0.00     1000              0\n",
       "2         1000_2 2018-06-11      2.85     1000              3\n",
       "3         1000_3 2018-09-21     13.80     1000             14\n",
       "4         1000_4 2018-12-15      5.18     1000              6\n",
       "...          ...        ...       ...      ...            ...\n",
       "202602  1499_215 2018-12-26      0.76     1499              1\n",
       "202603  1499_216 2018-10-18     18.83     1499             19\n",
       "202604  1499_217 2018-11-10     10.81     1499             11\n",
       "202605  1499_218 2018-10-06      4.27     1499              5\n",
       "202606  1499_219 2018-12-14     19.62     1499             20\n",
       "\n",
       "[202607 rows x 5 columns]"
      ]
     },
     "metadata": {},
     "output_type": "display_data"
    },
    {
     "name": "stdout",
     "output_type": "stream",
     "text": [
      "<class 'pandas.core.frame.DataFrame'>\n",
      "RangeIndex: 202607 entries, 0 to 202606\n",
      "Data columns (total 5 columns):\n",
      "id               202607 non-null object\n",
      "call_date        202607 non-null datetime64[ns]\n",
      "duration         202607 non-null float64\n",
      "user_id          202607 non-null int64\n",
      "count_minutes    202607 non-null int64\n",
      "dtypes: datetime64[ns](1), float64(1), int64(2), object(1)\n",
      "memory usage: 7.7+ MB\n"
     ]
    }
   ],
   "source": [
    "# сначала посчитаем в таблице calls по каждому пользователю количество и общую длительность вызовов\n",
    "display(calls)\n",
    "calls.info()"
   ]
  },
  {
   "cell_type": "code",
   "execution_count": 25,
   "id": "4e742de1",
   "metadata": {},
   "outputs": [
    {
     "data": {
      "text/html": [
       "<div>\n",
       "<style scoped>\n",
       "    .dataframe tbody tr th:only-of-type {\n",
       "        vertical-align: middle;\n",
       "    }\n",
       "\n",
       "    .dataframe tbody tr th {\n",
       "        vertical-align: top;\n",
       "    }\n",
       "\n",
       "    .dataframe thead th {\n",
       "        text-align: right;\n",
       "    }\n",
       "</style>\n",
       "<table border=\"1\" class=\"dataframe\">\n",
       "  <thead>\n",
       "    <tr style=\"text-align: right;\">\n",
       "      <th></th>\n",
       "      <th>id</th>\n",
       "      <th>call_date</th>\n",
       "      <th>duration</th>\n",
       "      <th>user_id</th>\n",
       "      <th>count_minutes</th>\n",
       "      <th>month</th>\n",
       "    </tr>\n",
       "  </thead>\n",
       "  <tbody>\n",
       "    <tr>\n",
       "      <td>0</td>\n",
       "      <td>1000_0</td>\n",
       "      <td>2018-07-25</td>\n",
       "      <td>0.00</td>\n",
       "      <td>1000</td>\n",
       "      <td>0</td>\n",
       "      <td>7</td>\n",
       "    </tr>\n",
       "    <tr>\n",
       "      <td>1</td>\n",
       "      <td>1000_1</td>\n",
       "      <td>2018-08-17</td>\n",
       "      <td>0.00</td>\n",
       "      <td>1000</td>\n",
       "      <td>0</td>\n",
       "      <td>8</td>\n",
       "    </tr>\n",
       "    <tr>\n",
       "      <td>2</td>\n",
       "      <td>1000_2</td>\n",
       "      <td>2018-06-11</td>\n",
       "      <td>2.85</td>\n",
       "      <td>1000</td>\n",
       "      <td>3</td>\n",
       "      <td>6</td>\n",
       "    </tr>\n",
       "    <tr>\n",
       "      <td>3</td>\n",
       "      <td>1000_3</td>\n",
       "      <td>2018-09-21</td>\n",
       "      <td>13.80</td>\n",
       "      <td>1000</td>\n",
       "      <td>14</td>\n",
       "      <td>9</td>\n",
       "    </tr>\n",
       "    <tr>\n",
       "      <td>4</td>\n",
       "      <td>1000_4</td>\n",
       "      <td>2018-12-15</td>\n",
       "      <td>5.18</td>\n",
       "      <td>1000</td>\n",
       "      <td>6</td>\n",
       "      <td>12</td>\n",
       "    </tr>\n",
       "    <tr>\n",
       "      <td>...</td>\n",
       "      <td>...</td>\n",
       "      <td>...</td>\n",
       "      <td>...</td>\n",
       "      <td>...</td>\n",
       "      <td>...</td>\n",
       "      <td>...</td>\n",
       "    </tr>\n",
       "    <tr>\n",
       "      <td>202602</td>\n",
       "      <td>1499_215</td>\n",
       "      <td>2018-12-26</td>\n",
       "      <td>0.76</td>\n",
       "      <td>1499</td>\n",
       "      <td>1</td>\n",
       "      <td>12</td>\n",
       "    </tr>\n",
       "    <tr>\n",
       "      <td>202603</td>\n",
       "      <td>1499_216</td>\n",
       "      <td>2018-10-18</td>\n",
       "      <td>18.83</td>\n",
       "      <td>1499</td>\n",
       "      <td>19</td>\n",
       "      <td>10</td>\n",
       "    </tr>\n",
       "    <tr>\n",
       "      <td>202604</td>\n",
       "      <td>1499_217</td>\n",
       "      <td>2018-11-10</td>\n",
       "      <td>10.81</td>\n",
       "      <td>1499</td>\n",
       "      <td>11</td>\n",
       "      <td>11</td>\n",
       "    </tr>\n",
       "    <tr>\n",
       "      <td>202605</td>\n",
       "      <td>1499_218</td>\n",
       "      <td>2018-10-06</td>\n",
       "      <td>4.27</td>\n",
       "      <td>1499</td>\n",
       "      <td>5</td>\n",
       "      <td>10</td>\n",
       "    </tr>\n",
       "    <tr>\n",
       "      <td>202606</td>\n",
       "      <td>1499_219</td>\n",
       "      <td>2018-12-14</td>\n",
       "      <td>19.62</td>\n",
       "      <td>1499</td>\n",
       "      <td>20</td>\n",
       "      <td>12</td>\n",
       "    </tr>\n",
       "  </tbody>\n",
       "</table>\n",
       "<p>202607 rows × 6 columns</p>\n",
       "</div>"
      ],
      "text/plain": [
       "              id  call_date  duration  user_id  count_minutes  month\n",
       "0         1000_0 2018-07-25      0.00     1000              0      7\n",
       "1         1000_1 2018-08-17      0.00     1000              0      8\n",
       "2         1000_2 2018-06-11      2.85     1000              3      6\n",
       "3         1000_3 2018-09-21     13.80     1000             14      9\n",
       "4         1000_4 2018-12-15      5.18     1000              6     12\n",
       "...          ...        ...       ...      ...            ...    ...\n",
       "202602  1499_215 2018-12-26      0.76     1499              1     12\n",
       "202603  1499_216 2018-10-18     18.83     1499             19     10\n",
       "202604  1499_217 2018-11-10     10.81     1499             11     11\n",
       "202605  1499_218 2018-10-06      4.27     1499              5     10\n",
       "202606  1499_219 2018-12-14     19.62     1499             20     12\n",
       "\n",
       "[202607 rows x 6 columns]"
      ]
     },
     "metadata": {},
     "output_type": "display_data"
    }
   ],
   "source": [
    "calls['month'] = pd.DatetimeIndex(calls['call_date']).month\n",
    "display(calls)"
   ]
  },
  {
   "cell_type": "code",
   "execution_count": 26,
   "id": "a4000d27",
   "metadata": {},
   "outputs": [
    {
     "data": {
      "text/html": [
       "<div>\n",
       "<style scoped>\n",
       "    .dataframe tbody tr th:only-of-type {\n",
       "        vertical-align: middle;\n",
       "    }\n",
       "\n",
       "    .dataframe tbody tr th {\n",
       "        vertical-align: top;\n",
       "    }\n",
       "\n",
       "    .dataframe thead th {\n",
       "        text-align: right;\n",
       "    }\n",
       "</style>\n",
       "<table border=\"1\" class=\"dataframe\">\n",
       "  <thead>\n",
       "    <tr style=\"text-align: right;\">\n",
       "      <th></th>\n",
       "      <th></th>\n",
       "      <th>duration</th>\n",
       "      <th>count_minutes</th>\n",
       "    </tr>\n",
       "    <tr>\n",
       "      <th>user_id</th>\n",
       "      <th>month</th>\n",
       "      <th></th>\n",
       "      <th></th>\n",
       "    </tr>\n",
       "  </thead>\n",
       "  <tbody>\n",
       "    <tr>\n",
       "      <td rowspan=\"5\" valign=\"top\">1000</td>\n",
       "      <td>5</td>\n",
       "      <td>22</td>\n",
       "      <td>159</td>\n",
       "    </tr>\n",
       "    <tr>\n",
       "      <td>6</td>\n",
       "      <td>43</td>\n",
       "      <td>172</td>\n",
       "    </tr>\n",
       "    <tr>\n",
       "      <td>7</td>\n",
       "      <td>47</td>\n",
       "      <td>340</td>\n",
       "    </tr>\n",
       "    <tr>\n",
       "      <td>8</td>\n",
       "      <td>52</td>\n",
       "      <td>408</td>\n",
       "    </tr>\n",
       "    <tr>\n",
       "      <td>9</td>\n",
       "      <td>58</td>\n",
       "      <td>466</td>\n",
       "    </tr>\n",
       "    <tr>\n",
       "      <td>...</td>\n",
       "      <td>...</td>\n",
       "      <td>...</td>\n",
       "      <td>...</td>\n",
       "    </tr>\n",
       "    <tr>\n",
       "      <td>1498</td>\n",
       "      <td>10</td>\n",
       "      <td>41</td>\n",
       "      <td>247</td>\n",
       "    </tr>\n",
       "    <tr>\n",
       "      <td rowspan=\"4\" valign=\"top\">1499</td>\n",
       "      <td>9</td>\n",
       "      <td>9</td>\n",
       "      <td>70</td>\n",
       "    </tr>\n",
       "    <tr>\n",
       "      <td>10</td>\n",
       "      <td>68</td>\n",
       "      <td>449</td>\n",
       "    </tr>\n",
       "    <tr>\n",
       "      <td>11</td>\n",
       "      <td>74</td>\n",
       "      <td>612</td>\n",
       "    </tr>\n",
       "    <tr>\n",
       "      <td>12</td>\n",
       "      <td>69</td>\n",
       "      <td>492</td>\n",
       "    </tr>\n",
       "  </tbody>\n",
       "</table>\n",
       "<p>3174 rows × 2 columns</p>\n",
       "</div>"
      ],
      "text/plain": [
       "               duration  count_minutes\n",
       "user_id month                         \n",
       "1000    5            22            159\n",
       "        6            43            172\n",
       "        7            47            340\n",
       "        8            52            408\n",
       "        9            58            466\n",
       "...                 ...            ...\n",
       "1498    10           41            247\n",
       "1499    9             9             70\n",
       "        10           68            449\n",
       "        11           74            612\n",
       "        12           69            492\n",
       "\n",
       "[3174 rows x 2 columns]"
      ]
     },
     "metadata": {},
     "output_type": "display_data"
    }
   ],
   "source": [
    "# посчитаем по каждому пользователю, сколько было совершено звонков и общую длительность по месяцам\n",
    "calls_grouped = calls.groupby(['user_id', 'month']).agg({'duration':'count', 'count_minutes':'sum'})\n",
    "display(calls_grouped)"
   ]
  },
  {
   "cell_type": "code",
   "execution_count": 27,
   "id": "8875e661",
   "metadata": {},
   "outputs": [
    {
     "data": {
      "text/html": [
       "<div>\n",
       "<style scoped>\n",
       "    .dataframe tbody tr th:only-of-type {\n",
       "        vertical-align: middle;\n",
       "    }\n",
       "\n",
       "    .dataframe tbody tr th {\n",
       "        vertical-align: top;\n",
       "    }\n",
       "\n",
       "    .dataframe thead th {\n",
       "        text-align: right;\n",
       "    }\n",
       "</style>\n",
       "<table border=\"1\" class=\"dataframe\">\n",
       "  <thead>\n",
       "    <tr style=\"text-align: right;\">\n",
       "      <th></th>\n",
       "      <th>user_id</th>\n",
       "      <th>month</th>\n",
       "      <th>duration</th>\n",
       "      <th>count_minutes</th>\n",
       "    </tr>\n",
       "  </thead>\n",
       "  <tbody>\n",
       "    <tr>\n",
       "      <td>0</td>\n",
       "      <td>1000</td>\n",
       "      <td>5</td>\n",
       "      <td>22</td>\n",
       "      <td>159</td>\n",
       "    </tr>\n",
       "    <tr>\n",
       "      <td>1</td>\n",
       "      <td>1000</td>\n",
       "      <td>6</td>\n",
       "      <td>43</td>\n",
       "      <td>172</td>\n",
       "    </tr>\n",
       "    <tr>\n",
       "      <td>2</td>\n",
       "      <td>1000</td>\n",
       "      <td>7</td>\n",
       "      <td>47</td>\n",
       "      <td>340</td>\n",
       "    </tr>\n",
       "    <tr>\n",
       "      <td>3</td>\n",
       "      <td>1000</td>\n",
       "      <td>8</td>\n",
       "      <td>52</td>\n",
       "      <td>408</td>\n",
       "    </tr>\n",
       "    <tr>\n",
       "      <td>4</td>\n",
       "      <td>1000</td>\n",
       "      <td>9</td>\n",
       "      <td>58</td>\n",
       "      <td>466</td>\n",
       "    </tr>\n",
       "    <tr>\n",
       "      <td>...</td>\n",
       "      <td>...</td>\n",
       "      <td>...</td>\n",
       "      <td>...</td>\n",
       "      <td>...</td>\n",
       "    </tr>\n",
       "    <tr>\n",
       "      <td>3169</td>\n",
       "      <td>1498</td>\n",
       "      <td>10</td>\n",
       "      <td>41</td>\n",
       "      <td>247</td>\n",
       "    </tr>\n",
       "    <tr>\n",
       "      <td>3170</td>\n",
       "      <td>1499</td>\n",
       "      <td>9</td>\n",
       "      <td>9</td>\n",
       "      <td>70</td>\n",
       "    </tr>\n",
       "    <tr>\n",
       "      <td>3171</td>\n",
       "      <td>1499</td>\n",
       "      <td>10</td>\n",
       "      <td>68</td>\n",
       "      <td>449</td>\n",
       "    </tr>\n",
       "    <tr>\n",
       "      <td>3172</td>\n",
       "      <td>1499</td>\n",
       "      <td>11</td>\n",
       "      <td>74</td>\n",
       "      <td>612</td>\n",
       "    </tr>\n",
       "    <tr>\n",
       "      <td>3173</td>\n",
       "      <td>1499</td>\n",
       "      <td>12</td>\n",
       "      <td>69</td>\n",
       "      <td>492</td>\n",
       "    </tr>\n",
       "  </tbody>\n",
       "</table>\n",
       "<p>3174 rows × 4 columns</p>\n",
       "</div>"
      ],
      "text/plain": [
       "      user_id  month  duration  count_minutes\n",
       "0        1000      5        22            159\n",
       "1        1000      6        43            172\n",
       "2        1000      7        47            340\n",
       "3        1000      8        52            408\n",
       "4        1000      9        58            466\n",
       "...       ...    ...       ...            ...\n",
       "3169     1498     10        41            247\n",
       "3170     1499      9         9             70\n",
       "3171     1499     10        68            449\n",
       "3172     1499     11        74            612\n",
       "3173     1499     12        69            492\n",
       "\n",
       "[3174 rows x 4 columns]"
      ]
     },
     "metadata": {},
     "output_type": "display_data"
    }
   ],
   "source": [
    "calls_grouped = calls_grouped.reset_index()\n",
    "display(calls_grouped)"
   ]
  },
  {
   "cell_type": "code",
   "execution_count": 28,
   "id": "6e92d87b",
   "metadata": {
    "scrolled": false
   },
   "outputs": [
    {
     "data": {
      "text/html": [
       "<div>\n",
       "<style scoped>\n",
       "    .dataframe tbody tr th:only-of-type {\n",
       "        vertical-align: middle;\n",
       "    }\n",
       "\n",
       "    .dataframe tbody tr th {\n",
       "        vertical-align: top;\n",
       "    }\n",
       "\n",
       "    .dataframe thead th {\n",
       "        text-align: right;\n",
       "    }\n",
       "</style>\n",
       "<table border=\"1\" class=\"dataframe\">\n",
       "  <thead>\n",
       "    <tr style=\"text-align: right;\">\n",
       "      <th></th>\n",
       "      <th>id</th>\n",
       "      <th>message_date</th>\n",
       "      <th>user_id</th>\n",
       "      <th>month</th>\n",
       "    </tr>\n",
       "  </thead>\n",
       "  <tbody>\n",
       "    <tr>\n",
       "      <td>0</td>\n",
       "      <td>1000_0</td>\n",
       "      <td>2018-06-27</td>\n",
       "      <td>1000</td>\n",
       "      <td>6</td>\n",
       "    </tr>\n",
       "    <tr>\n",
       "      <td>1</td>\n",
       "      <td>1000_1</td>\n",
       "      <td>2018-10-08</td>\n",
       "      <td>1000</td>\n",
       "      <td>10</td>\n",
       "    </tr>\n",
       "    <tr>\n",
       "      <td>2</td>\n",
       "      <td>1000_2</td>\n",
       "      <td>2018-08-04</td>\n",
       "      <td>1000</td>\n",
       "      <td>8</td>\n",
       "    </tr>\n",
       "    <tr>\n",
       "      <td>3</td>\n",
       "      <td>1000_3</td>\n",
       "      <td>2018-06-16</td>\n",
       "      <td>1000</td>\n",
       "      <td>6</td>\n",
       "    </tr>\n",
       "    <tr>\n",
       "      <td>4</td>\n",
       "      <td>1000_4</td>\n",
       "      <td>2018-12-05</td>\n",
       "      <td>1000</td>\n",
       "      <td>12</td>\n",
       "    </tr>\n",
       "    <tr>\n",
       "      <td>...</td>\n",
       "      <td>...</td>\n",
       "      <td>...</td>\n",
       "      <td>...</td>\n",
       "      <td>...</td>\n",
       "    </tr>\n",
       "    <tr>\n",
       "      <td>123031</td>\n",
       "      <td>1499_179</td>\n",
       "      <td>2018-12-12</td>\n",
       "      <td>1499</td>\n",
       "      <td>12</td>\n",
       "    </tr>\n",
       "    <tr>\n",
       "      <td>123032</td>\n",
       "      <td>1499_180</td>\n",
       "      <td>2018-09-28</td>\n",
       "      <td>1499</td>\n",
       "      <td>9</td>\n",
       "    </tr>\n",
       "    <tr>\n",
       "      <td>123033</td>\n",
       "      <td>1499_181</td>\n",
       "      <td>2018-09-27</td>\n",
       "      <td>1499</td>\n",
       "      <td>9</td>\n",
       "    </tr>\n",
       "    <tr>\n",
       "      <td>123034</td>\n",
       "      <td>1499_182</td>\n",
       "      <td>2018-11-15</td>\n",
       "      <td>1499</td>\n",
       "      <td>11</td>\n",
       "    </tr>\n",
       "    <tr>\n",
       "      <td>123035</td>\n",
       "      <td>1499_183</td>\n",
       "      <td>2018-11-16</td>\n",
       "      <td>1499</td>\n",
       "      <td>11</td>\n",
       "    </tr>\n",
       "  </tbody>\n",
       "</table>\n",
       "<p>123036 rows × 4 columns</p>\n",
       "</div>"
      ],
      "text/plain": [
       "              id message_date  user_id  month\n",
       "0         1000_0   2018-06-27     1000      6\n",
       "1         1000_1   2018-10-08     1000     10\n",
       "2         1000_2   2018-08-04     1000      8\n",
       "3         1000_3   2018-06-16     1000      6\n",
       "4         1000_4   2018-12-05     1000     12\n",
       "...          ...          ...      ...    ...\n",
       "123031  1499_179   2018-12-12     1499     12\n",
       "123032  1499_180   2018-09-28     1499      9\n",
       "123033  1499_181   2018-09-27     1499      9\n",
       "123034  1499_182   2018-11-15     1499     11\n",
       "123035  1499_183   2018-11-16     1499     11\n",
       "\n",
       "[123036 rows x 4 columns]"
      ]
     },
     "metadata": {},
     "output_type": "display_data"
    }
   ],
   "source": [
    "messages['month'] = pd.DatetimeIndex(messages['message_date']).month\n",
    "display(messages)"
   ]
  },
  {
   "cell_type": "code",
   "execution_count": 29,
   "id": "8544f841",
   "metadata": {},
   "outputs": [
    {
     "data": {
      "text/html": [
       "<div>\n",
       "<style scoped>\n",
       "    .dataframe tbody tr th:only-of-type {\n",
       "        vertical-align: middle;\n",
       "    }\n",
       "\n",
       "    .dataframe tbody tr th {\n",
       "        vertical-align: top;\n",
       "    }\n",
       "\n",
       "    .dataframe thead th {\n",
       "        text-align: right;\n",
       "    }\n",
       "</style>\n",
       "<table border=\"1\" class=\"dataframe\">\n",
       "  <thead>\n",
       "    <tr style=\"text-align: right;\">\n",
       "      <th></th>\n",
       "      <th></th>\n",
       "      <th>id</th>\n",
       "    </tr>\n",
       "    <tr>\n",
       "      <th>user_id</th>\n",
       "      <th>month</th>\n",
       "      <th></th>\n",
       "    </tr>\n",
       "  </thead>\n",
       "  <tbody>\n",
       "    <tr>\n",
       "      <td rowspan=\"5\" valign=\"top\">1000</td>\n",
       "      <td>5</td>\n",
       "      <td>22</td>\n",
       "    </tr>\n",
       "    <tr>\n",
       "      <td>6</td>\n",
       "      <td>60</td>\n",
       "    </tr>\n",
       "    <tr>\n",
       "      <td>7</td>\n",
       "      <td>75</td>\n",
       "    </tr>\n",
       "    <tr>\n",
       "      <td>8</td>\n",
       "      <td>81</td>\n",
       "    </tr>\n",
       "    <tr>\n",
       "      <td>9</td>\n",
       "      <td>57</td>\n",
       "    </tr>\n",
       "    <tr>\n",
       "      <td>...</td>\n",
       "      <td>...</td>\n",
       "      <td>...</td>\n",
       "    </tr>\n",
       "    <tr>\n",
       "      <td>1498</td>\n",
       "      <td>10</td>\n",
       "      <td>42</td>\n",
       "    </tr>\n",
       "    <tr>\n",
       "      <td rowspan=\"4\" valign=\"top\">1499</td>\n",
       "      <td>9</td>\n",
       "      <td>11</td>\n",
       "    </tr>\n",
       "    <tr>\n",
       "      <td>10</td>\n",
       "      <td>48</td>\n",
       "    </tr>\n",
       "    <tr>\n",
       "      <td>11</td>\n",
       "      <td>59</td>\n",
       "    </tr>\n",
       "    <tr>\n",
       "      <td>12</td>\n",
       "      <td>66</td>\n",
       "    </tr>\n",
       "  </tbody>\n",
       "</table>\n",
       "<p>2717 rows × 1 columns</p>\n",
       "</div>"
      ],
      "text/plain": [
       "               id\n",
       "user_id month    \n",
       "1000    5      22\n",
       "        6      60\n",
       "        7      75\n",
       "        8      81\n",
       "        9      57\n",
       "...            ..\n",
       "1498    10     42\n",
       "1499    9      11\n",
       "        10     48\n",
       "        11     59\n",
       "        12     66\n",
       "\n",
       "[2717 rows x 1 columns]"
      ]
     },
     "metadata": {},
     "output_type": "display_data"
    }
   ],
   "source": [
    "#  также поступим с таблицей messages\n",
    "messages_grouped = messages.groupby(['user_id','month']).agg({'id':'count'})\n",
    "display(messages_grouped)"
   ]
  },
  {
   "cell_type": "code",
   "execution_count": 30,
   "id": "35b1d786",
   "metadata": {},
   "outputs": [
    {
     "data": {
      "text/html": [
       "<div>\n",
       "<style scoped>\n",
       "    .dataframe tbody tr th:only-of-type {\n",
       "        vertical-align: middle;\n",
       "    }\n",
       "\n",
       "    .dataframe tbody tr th {\n",
       "        vertical-align: top;\n",
       "    }\n",
       "\n",
       "    .dataframe thead th {\n",
       "        text-align: right;\n",
       "    }\n",
       "</style>\n",
       "<table border=\"1\" class=\"dataframe\">\n",
       "  <thead>\n",
       "    <tr style=\"text-align: right;\">\n",
       "      <th></th>\n",
       "      <th>user_id</th>\n",
       "      <th>month</th>\n",
       "      <th>id</th>\n",
       "    </tr>\n",
       "  </thead>\n",
       "  <tbody>\n",
       "    <tr>\n",
       "      <td>0</td>\n",
       "      <td>1000</td>\n",
       "      <td>5</td>\n",
       "      <td>22</td>\n",
       "    </tr>\n",
       "    <tr>\n",
       "      <td>1</td>\n",
       "      <td>1000</td>\n",
       "      <td>6</td>\n",
       "      <td>60</td>\n",
       "    </tr>\n",
       "    <tr>\n",
       "      <td>2</td>\n",
       "      <td>1000</td>\n",
       "      <td>7</td>\n",
       "      <td>75</td>\n",
       "    </tr>\n",
       "    <tr>\n",
       "      <td>3</td>\n",
       "      <td>1000</td>\n",
       "      <td>8</td>\n",
       "      <td>81</td>\n",
       "    </tr>\n",
       "    <tr>\n",
       "      <td>4</td>\n",
       "      <td>1000</td>\n",
       "      <td>9</td>\n",
       "      <td>57</td>\n",
       "    </tr>\n",
       "    <tr>\n",
       "      <td>...</td>\n",
       "      <td>...</td>\n",
       "      <td>...</td>\n",
       "      <td>...</td>\n",
       "    </tr>\n",
       "    <tr>\n",
       "      <td>2712</td>\n",
       "      <td>1498</td>\n",
       "      <td>10</td>\n",
       "      <td>42</td>\n",
       "    </tr>\n",
       "    <tr>\n",
       "      <td>2713</td>\n",
       "      <td>1499</td>\n",
       "      <td>9</td>\n",
       "      <td>11</td>\n",
       "    </tr>\n",
       "    <tr>\n",
       "      <td>2714</td>\n",
       "      <td>1499</td>\n",
       "      <td>10</td>\n",
       "      <td>48</td>\n",
       "    </tr>\n",
       "    <tr>\n",
       "      <td>2715</td>\n",
       "      <td>1499</td>\n",
       "      <td>11</td>\n",
       "      <td>59</td>\n",
       "    </tr>\n",
       "    <tr>\n",
       "      <td>2716</td>\n",
       "      <td>1499</td>\n",
       "      <td>12</td>\n",
       "      <td>66</td>\n",
       "    </tr>\n",
       "  </tbody>\n",
       "</table>\n",
       "<p>2717 rows × 3 columns</p>\n",
       "</div>"
      ],
      "text/plain": [
       "      user_id  month  id\n",
       "0        1000      5  22\n",
       "1        1000      6  60\n",
       "2        1000      7  75\n",
       "3        1000      8  81\n",
       "4        1000      9  57\n",
       "...       ...    ...  ..\n",
       "2712     1498     10  42\n",
       "2713     1499      9  11\n",
       "2714     1499     10  48\n",
       "2715     1499     11  59\n",
       "2716     1499     12  66\n",
       "\n",
       "[2717 rows x 3 columns]"
      ]
     },
     "metadata": {},
     "output_type": "display_data"
    }
   ],
   "source": [
    "messages_grouped = messages_grouped.reset_index()\n",
    "display(messages_grouped)"
   ]
  },
  {
   "cell_type": "code",
   "execution_count": 31,
   "id": "05cb5a8c",
   "metadata": {
    "scrolled": false
   },
   "outputs": [
    {
     "data": {
      "text/html": [
       "<div>\n",
       "<style scoped>\n",
       "    .dataframe tbody tr th:only-of-type {\n",
       "        vertical-align: middle;\n",
       "    }\n",
       "\n",
       "    .dataframe tbody tr th {\n",
       "        vertical-align: top;\n",
       "    }\n",
       "\n",
       "    .dataframe thead th {\n",
       "        text-align: right;\n",
       "    }\n",
       "</style>\n",
       "<table border=\"1\" class=\"dataframe\">\n",
       "  <thead>\n",
       "    <tr style=\"text-align: right;\">\n",
       "      <th></th>\n",
       "      <th>id</th>\n",
       "      <th>mb_used</th>\n",
       "      <th>session_date</th>\n",
       "      <th>user_id</th>\n",
       "      <th>month</th>\n",
       "    </tr>\n",
       "  </thead>\n",
       "  <tbody>\n",
       "    <tr>\n",
       "      <td>0</td>\n",
       "      <td>1000_0</td>\n",
       "      <td>112.95</td>\n",
       "      <td>2018-11-25</td>\n",
       "      <td>1000</td>\n",
       "      <td>11</td>\n",
       "    </tr>\n",
       "    <tr>\n",
       "      <td>1</td>\n",
       "      <td>1000_1</td>\n",
       "      <td>1052.81</td>\n",
       "      <td>2018-09-07</td>\n",
       "      <td>1000</td>\n",
       "      <td>9</td>\n",
       "    </tr>\n",
       "    <tr>\n",
       "      <td>2</td>\n",
       "      <td>1000_2</td>\n",
       "      <td>1197.26</td>\n",
       "      <td>2018-06-25</td>\n",
       "      <td>1000</td>\n",
       "      <td>6</td>\n",
       "    </tr>\n",
       "    <tr>\n",
       "      <td>3</td>\n",
       "      <td>1000_3</td>\n",
       "      <td>550.27</td>\n",
       "      <td>2018-08-22</td>\n",
       "      <td>1000</td>\n",
       "      <td>8</td>\n",
       "    </tr>\n",
       "    <tr>\n",
       "      <td>4</td>\n",
       "      <td>1000_4</td>\n",
       "      <td>302.56</td>\n",
       "      <td>2018-09-24</td>\n",
       "      <td>1000</td>\n",
       "      <td>9</td>\n",
       "    </tr>\n",
       "    <tr>\n",
       "      <td>...</td>\n",
       "      <td>...</td>\n",
       "      <td>...</td>\n",
       "      <td>...</td>\n",
       "      <td>...</td>\n",
       "      <td>...</td>\n",
       "    </tr>\n",
       "    <tr>\n",
       "      <td>149391</td>\n",
       "      <td>1499_152</td>\n",
       "      <td>318.90</td>\n",
       "      <td>2018-10-03</td>\n",
       "      <td>1499</td>\n",
       "      <td>10</td>\n",
       "    </tr>\n",
       "    <tr>\n",
       "      <td>149392</td>\n",
       "      <td>1499_153</td>\n",
       "      <td>490.13</td>\n",
       "      <td>2018-12-14</td>\n",
       "      <td>1499</td>\n",
       "      <td>12</td>\n",
       "    </tr>\n",
       "    <tr>\n",
       "      <td>149393</td>\n",
       "      <td>1499_154</td>\n",
       "      <td>0.00</td>\n",
       "      <td>2018-10-27</td>\n",
       "      <td>1499</td>\n",
       "      <td>10</td>\n",
       "    </tr>\n",
       "    <tr>\n",
       "      <td>149394</td>\n",
       "      <td>1499_155</td>\n",
       "      <td>1246.32</td>\n",
       "      <td>2018-11-26</td>\n",
       "      <td>1499</td>\n",
       "      <td>11</td>\n",
       "    </tr>\n",
       "    <tr>\n",
       "      <td>149395</td>\n",
       "      <td>1499_156</td>\n",
       "      <td>544.37</td>\n",
       "      <td>2018-10-26</td>\n",
       "      <td>1499</td>\n",
       "      <td>10</td>\n",
       "    </tr>\n",
       "  </tbody>\n",
       "</table>\n",
       "<p>149396 rows × 5 columns</p>\n",
       "</div>"
      ],
      "text/plain": [
       "              id  mb_used session_date  user_id  month\n",
       "0         1000_0   112.95   2018-11-25     1000     11\n",
       "1         1000_1  1052.81   2018-09-07     1000      9\n",
       "2         1000_2  1197.26   2018-06-25     1000      6\n",
       "3         1000_3   550.27   2018-08-22     1000      8\n",
       "4         1000_4   302.56   2018-09-24     1000      9\n",
       "...          ...      ...          ...      ...    ...\n",
       "149391  1499_152   318.90   2018-10-03     1499     10\n",
       "149392  1499_153   490.13   2018-12-14     1499     12\n",
       "149393  1499_154     0.00   2018-10-27     1499     10\n",
       "149394  1499_155  1246.32   2018-11-26     1499     11\n",
       "149395  1499_156   544.37   2018-10-26     1499     10\n",
       "\n",
       "[149396 rows x 5 columns]"
      ]
     },
     "metadata": {},
     "output_type": "display_data"
    }
   ],
   "source": [
    "internet['month'] = pd.DatetimeIndex(internet['session_date']).month\n",
    "display(internet)"
   ]
  },
  {
   "cell_type": "code",
   "execution_count": 32,
   "id": "d42f94ca",
   "metadata": {},
   "outputs": [
    {
     "data": {
      "text/html": [
       "<div>\n",
       "<style scoped>\n",
       "    .dataframe tbody tr th:only-of-type {\n",
       "        vertical-align: middle;\n",
       "    }\n",
       "\n",
       "    .dataframe tbody tr th {\n",
       "        vertical-align: top;\n",
       "    }\n",
       "\n",
       "    .dataframe thead th {\n",
       "        text-align: right;\n",
       "    }\n",
       "</style>\n",
       "<table border=\"1\" class=\"dataframe\">\n",
       "  <thead>\n",
       "    <tr style=\"text-align: right;\">\n",
       "      <th></th>\n",
       "      <th></th>\n",
       "      <th>mb_used</th>\n",
       "    </tr>\n",
       "    <tr>\n",
       "      <th>user_id</th>\n",
       "      <th>month</th>\n",
       "      <th></th>\n",
       "    </tr>\n",
       "  </thead>\n",
       "  <tbody>\n",
       "    <tr>\n",
       "      <td rowspan=\"5\" valign=\"top\">1000</td>\n",
       "      <td>5</td>\n",
       "      <td>2253.49</td>\n",
       "    </tr>\n",
       "    <tr>\n",
       "      <td>6</td>\n",
       "      <td>23233.77</td>\n",
       "    </tr>\n",
       "    <tr>\n",
       "      <td>7</td>\n",
       "      <td>14003.64</td>\n",
       "    </tr>\n",
       "    <tr>\n",
       "      <td>8</td>\n",
       "      <td>14055.93</td>\n",
       "    </tr>\n",
       "    <tr>\n",
       "      <td>9</td>\n",
       "      <td>14568.91</td>\n",
       "    </tr>\n",
       "    <tr>\n",
       "      <td>...</td>\n",
       "      <td>...</td>\n",
       "      <td>...</td>\n",
       "    </tr>\n",
       "    <tr>\n",
       "      <td>1498</td>\n",
       "      <td>10</td>\n",
       "      <td>20579.36</td>\n",
       "    </tr>\n",
       "    <tr>\n",
       "      <td rowspan=\"4\" valign=\"top\">1499</td>\n",
       "      <td>9</td>\n",
       "      <td>1845.75</td>\n",
       "    </tr>\n",
       "    <tr>\n",
       "      <td>10</td>\n",
       "      <td>17788.51</td>\n",
       "    </tr>\n",
       "    <tr>\n",
       "      <td>11</td>\n",
       "      <td>17963.31</td>\n",
       "    </tr>\n",
       "    <tr>\n",
       "      <td>12</td>\n",
       "      <td>13055.58</td>\n",
       "    </tr>\n",
       "  </tbody>\n",
       "</table>\n",
       "<p>3203 rows × 1 columns</p>\n",
       "</div>"
      ],
      "text/plain": [
       "                mb_used\n",
       "user_id month          \n",
       "1000    5       2253.49\n",
       "        6      23233.77\n",
       "        7      14003.64\n",
       "        8      14055.93\n",
       "        9      14568.91\n",
       "...                 ...\n",
       "1498    10     20579.36\n",
       "1499    9       1845.75\n",
       "        10     17788.51\n",
       "        11     17963.31\n",
       "        12     13055.58\n",
       "\n",
       "[3203 rows x 1 columns]"
      ]
     },
     "metadata": {},
     "output_type": "display_data"
    }
   ],
   "source": [
    "#  также поступим с таблицей messages\n",
    "internet_grouped = internet.groupby(['user_id', 'month']).agg({'mb_used':'sum'})\n",
    "display(internet_grouped)"
   ]
  },
  {
   "cell_type": "code",
   "execution_count": 33,
   "id": "3b8e913b",
   "metadata": {},
   "outputs": [
    {
     "data": {
      "text/html": [
       "<div>\n",
       "<style scoped>\n",
       "    .dataframe tbody tr th:only-of-type {\n",
       "        vertical-align: middle;\n",
       "    }\n",
       "\n",
       "    .dataframe tbody tr th {\n",
       "        vertical-align: top;\n",
       "    }\n",
       "\n",
       "    .dataframe thead th {\n",
       "        text-align: right;\n",
       "    }\n",
       "</style>\n",
       "<table border=\"1\" class=\"dataframe\">\n",
       "  <thead>\n",
       "    <tr style=\"text-align: right;\">\n",
       "      <th></th>\n",
       "      <th>user_id</th>\n",
       "      <th>month</th>\n",
       "      <th>mb_used</th>\n",
       "    </tr>\n",
       "  </thead>\n",
       "  <tbody>\n",
       "    <tr>\n",
       "      <td>0</td>\n",
       "      <td>1000</td>\n",
       "      <td>5</td>\n",
       "      <td>2253.49</td>\n",
       "    </tr>\n",
       "    <tr>\n",
       "      <td>1</td>\n",
       "      <td>1000</td>\n",
       "      <td>6</td>\n",
       "      <td>23233.77</td>\n",
       "    </tr>\n",
       "    <tr>\n",
       "      <td>2</td>\n",
       "      <td>1000</td>\n",
       "      <td>7</td>\n",
       "      <td>14003.64</td>\n",
       "    </tr>\n",
       "    <tr>\n",
       "      <td>3</td>\n",
       "      <td>1000</td>\n",
       "      <td>8</td>\n",
       "      <td>14055.93</td>\n",
       "    </tr>\n",
       "    <tr>\n",
       "      <td>4</td>\n",
       "      <td>1000</td>\n",
       "      <td>9</td>\n",
       "      <td>14568.91</td>\n",
       "    </tr>\n",
       "    <tr>\n",
       "      <td>...</td>\n",
       "      <td>...</td>\n",
       "      <td>...</td>\n",
       "      <td>...</td>\n",
       "    </tr>\n",
       "    <tr>\n",
       "      <td>3198</td>\n",
       "      <td>1498</td>\n",
       "      <td>10</td>\n",
       "      <td>20579.36</td>\n",
       "    </tr>\n",
       "    <tr>\n",
       "      <td>3199</td>\n",
       "      <td>1499</td>\n",
       "      <td>9</td>\n",
       "      <td>1845.75</td>\n",
       "    </tr>\n",
       "    <tr>\n",
       "      <td>3200</td>\n",
       "      <td>1499</td>\n",
       "      <td>10</td>\n",
       "      <td>17788.51</td>\n",
       "    </tr>\n",
       "    <tr>\n",
       "      <td>3201</td>\n",
       "      <td>1499</td>\n",
       "      <td>11</td>\n",
       "      <td>17963.31</td>\n",
       "    </tr>\n",
       "    <tr>\n",
       "      <td>3202</td>\n",
       "      <td>1499</td>\n",
       "      <td>12</td>\n",
       "      <td>13055.58</td>\n",
       "    </tr>\n",
       "  </tbody>\n",
       "</table>\n",
       "<p>3203 rows × 3 columns</p>\n",
       "</div>"
      ],
      "text/plain": [
       "      user_id  month   mb_used\n",
       "0        1000      5   2253.49\n",
       "1        1000      6  23233.77\n",
       "2        1000      7  14003.64\n",
       "3        1000      8  14055.93\n",
       "4        1000      9  14568.91\n",
       "...       ...    ...       ...\n",
       "3198     1498     10  20579.36\n",
       "3199     1499      9   1845.75\n",
       "3200     1499     10  17788.51\n",
       "3201     1499     11  17963.31\n",
       "3202     1499     12  13055.58\n",
       "\n",
       "[3203 rows x 3 columns]"
      ]
     },
     "metadata": {},
     "output_type": "display_data"
    }
   ],
   "source": [
    "internet_grouped = internet_grouped.reset_index()\n",
    "display(internet_grouped)"
   ]
  },
  {
   "cell_type": "code",
   "execution_count": 34,
   "id": "3da4dbfd",
   "metadata": {
    "scrolled": false
   },
   "outputs": [
    {
     "data": {
      "text/html": [
       "<div>\n",
       "<style scoped>\n",
       "    .dataframe tbody tr th:only-of-type {\n",
       "        vertical-align: middle;\n",
       "    }\n",
       "\n",
       "    .dataframe tbody tr th {\n",
       "        vertical-align: top;\n",
       "    }\n",
       "\n",
       "    .dataframe thead th {\n",
       "        text-align: right;\n",
       "    }\n",
       "</style>\n",
       "<table border=\"1\" class=\"dataframe\">\n",
       "  <thead>\n",
       "    <tr style=\"text-align: right;\">\n",
       "      <th></th>\n",
       "      <th>user_id</th>\n",
       "      <th>tariff</th>\n",
       "      <th>city</th>\n",
       "    </tr>\n",
       "  </thead>\n",
       "  <tbody>\n",
       "    <tr>\n",
       "      <td>0</td>\n",
       "      <td>1000</td>\n",
       "      <td>ultra</td>\n",
       "      <td>Краснодар</td>\n",
       "    </tr>\n",
       "    <tr>\n",
       "      <td>1</td>\n",
       "      <td>1001</td>\n",
       "      <td>smart</td>\n",
       "      <td>Москва</td>\n",
       "    </tr>\n",
       "    <tr>\n",
       "      <td>2</td>\n",
       "      <td>1002</td>\n",
       "      <td>smart</td>\n",
       "      <td>Стерлитамак</td>\n",
       "    </tr>\n",
       "    <tr>\n",
       "      <td>3</td>\n",
       "      <td>1003</td>\n",
       "      <td>ultra</td>\n",
       "      <td>Москва</td>\n",
       "    </tr>\n",
       "    <tr>\n",
       "      <td>4</td>\n",
       "      <td>1004</td>\n",
       "      <td>ultra</td>\n",
       "      <td>Новокузнецк</td>\n",
       "    </tr>\n",
       "    <tr>\n",
       "      <td>...</td>\n",
       "      <td>...</td>\n",
       "      <td>...</td>\n",
       "      <td>...</td>\n",
       "    </tr>\n",
       "    <tr>\n",
       "      <td>495</td>\n",
       "      <td>1495</td>\n",
       "      <td>ultra</td>\n",
       "      <td>Иркутск</td>\n",
       "    </tr>\n",
       "    <tr>\n",
       "      <td>496</td>\n",
       "      <td>1496</td>\n",
       "      <td>smart</td>\n",
       "      <td>Вологда</td>\n",
       "    </tr>\n",
       "    <tr>\n",
       "      <td>497</td>\n",
       "      <td>1497</td>\n",
       "      <td>smart</td>\n",
       "      <td>Челябинск</td>\n",
       "    </tr>\n",
       "    <tr>\n",
       "      <td>498</td>\n",
       "      <td>1498</td>\n",
       "      <td>smart</td>\n",
       "      <td>Владикавказ</td>\n",
       "    </tr>\n",
       "    <tr>\n",
       "      <td>499</td>\n",
       "      <td>1499</td>\n",
       "      <td>smart</td>\n",
       "      <td>Пермь</td>\n",
       "    </tr>\n",
       "  </tbody>\n",
       "</table>\n",
       "<p>500 rows × 3 columns</p>\n",
       "</div>"
      ],
      "text/plain": [
       "     user_id tariff         city\n",
       "0       1000  ultra    Краснодар\n",
       "1       1001  smart       Москва\n",
       "2       1002  smart  Стерлитамак\n",
       "3       1003  ultra       Москва\n",
       "4       1004  ultra  Новокузнецк\n",
       "..       ...    ...          ...\n",
       "495     1495  ultra      Иркутск\n",
       "496     1496  smart      Вологда\n",
       "497     1497  smart    Челябинск\n",
       "498     1498  smart  Владикавказ\n",
       "499     1499  smart        Пермь\n",
       "\n",
       "[500 rows x 3 columns]"
      ]
     },
     "metadata": {},
     "output_type": "display_data"
    }
   ],
   "source": [
    "# создадим новый датафрейм с айдишками и тарифами и \n",
    "# методом merge присоединим готовые таблицы с посчитанными минутами, смсками и трафиком\n",
    "data = users.loc[:,['user_id', 'tariff', 'city']]\n",
    "display(data)"
   ]
  },
  {
   "cell_type": "code",
   "execution_count": 35,
   "id": "a2b1a7ad",
   "metadata": {},
   "outputs": [
    {
     "data": {
      "text/html": [
       "<div>\n",
       "<style scoped>\n",
       "    .dataframe tbody tr th:only-of-type {\n",
       "        vertical-align: middle;\n",
       "    }\n",
       "\n",
       "    .dataframe tbody tr th {\n",
       "        vertical-align: top;\n",
       "    }\n",
       "\n",
       "    .dataframe thead th {\n",
       "        text-align: right;\n",
       "    }\n",
       "</style>\n",
       "<table border=\"1\" class=\"dataframe\">\n",
       "  <thead>\n",
       "    <tr style=\"text-align: right;\">\n",
       "      <th></th>\n",
       "      <th>user_id</th>\n",
       "      <th>tariff</th>\n",
       "      <th>city</th>\n",
       "      <th>month</th>\n",
       "      <th>mb_used</th>\n",
       "    </tr>\n",
       "  </thead>\n",
       "  <tbody>\n",
       "    <tr>\n",
       "      <td>0</td>\n",
       "      <td>1000</td>\n",
       "      <td>ultra</td>\n",
       "      <td>Краснодар</td>\n",
       "      <td>5.0</td>\n",
       "      <td>2253.49</td>\n",
       "    </tr>\n",
       "    <tr>\n",
       "      <td>1</td>\n",
       "      <td>1000</td>\n",
       "      <td>ultra</td>\n",
       "      <td>Краснодар</td>\n",
       "      <td>6.0</td>\n",
       "      <td>23233.77</td>\n",
       "    </tr>\n",
       "    <tr>\n",
       "      <td>2</td>\n",
       "      <td>1000</td>\n",
       "      <td>ultra</td>\n",
       "      <td>Краснодар</td>\n",
       "      <td>7.0</td>\n",
       "      <td>14003.64</td>\n",
       "    </tr>\n",
       "    <tr>\n",
       "      <td>3</td>\n",
       "      <td>1000</td>\n",
       "      <td>ultra</td>\n",
       "      <td>Краснодар</td>\n",
       "      <td>8.0</td>\n",
       "      <td>14055.93</td>\n",
       "    </tr>\n",
       "    <tr>\n",
       "      <td>4</td>\n",
       "      <td>1000</td>\n",
       "      <td>ultra</td>\n",
       "      <td>Краснодар</td>\n",
       "      <td>9.0</td>\n",
       "      <td>14568.91</td>\n",
       "    </tr>\n",
       "    <tr>\n",
       "      <td>...</td>\n",
       "      <td>...</td>\n",
       "      <td>...</td>\n",
       "      <td>...</td>\n",
       "      <td>...</td>\n",
       "      <td>...</td>\n",
       "    </tr>\n",
       "    <tr>\n",
       "      <td>3201</td>\n",
       "      <td>1498</td>\n",
       "      <td>smart</td>\n",
       "      <td>Владикавказ</td>\n",
       "      <td>10.0</td>\n",
       "      <td>20579.36</td>\n",
       "    </tr>\n",
       "    <tr>\n",
       "      <td>3202</td>\n",
       "      <td>1499</td>\n",
       "      <td>smart</td>\n",
       "      <td>Пермь</td>\n",
       "      <td>9.0</td>\n",
       "      <td>1845.75</td>\n",
       "    </tr>\n",
       "    <tr>\n",
       "      <td>3203</td>\n",
       "      <td>1499</td>\n",
       "      <td>smart</td>\n",
       "      <td>Пермь</td>\n",
       "      <td>10.0</td>\n",
       "      <td>17788.51</td>\n",
       "    </tr>\n",
       "    <tr>\n",
       "      <td>3204</td>\n",
       "      <td>1499</td>\n",
       "      <td>smart</td>\n",
       "      <td>Пермь</td>\n",
       "      <td>11.0</td>\n",
       "      <td>17963.31</td>\n",
       "    </tr>\n",
       "    <tr>\n",
       "      <td>3205</td>\n",
       "      <td>1499</td>\n",
       "      <td>smart</td>\n",
       "      <td>Пермь</td>\n",
       "      <td>12.0</td>\n",
       "      <td>13055.58</td>\n",
       "    </tr>\n",
       "  </tbody>\n",
       "</table>\n",
       "<p>3206 rows × 5 columns</p>\n",
       "</div>"
      ],
      "text/plain": [
       "      user_id tariff         city  month   mb_used\n",
       "0        1000  ultra    Краснодар    5.0   2253.49\n",
       "1        1000  ultra    Краснодар    6.0  23233.77\n",
       "2        1000  ultra    Краснодар    7.0  14003.64\n",
       "3        1000  ultra    Краснодар    8.0  14055.93\n",
       "4        1000  ultra    Краснодар    9.0  14568.91\n",
       "...       ...    ...          ...    ...       ...\n",
       "3201     1498  smart  Владикавказ   10.0  20579.36\n",
       "3202     1499  smart        Пермь    9.0   1845.75\n",
       "3203     1499  smart        Пермь   10.0  17788.51\n",
       "3204     1499  smart        Пермь   11.0  17963.31\n",
       "3205     1499  smart        Пермь   12.0  13055.58\n",
       "\n",
       "[3206 rows x 5 columns]"
      ]
     },
     "metadata": {},
     "output_type": "display_data"
    }
   ],
   "source": [
    "data = data.merge(internet_grouped, on='user_id', how='left')\n",
    "display(data)"
   ]
  },
  {
   "cell_type": "code",
   "execution_count": 36,
   "id": "be1120b9",
   "metadata": {},
   "outputs": [
    {
     "name": "stdout",
     "output_type": "stream",
     "text": [
      "user_id    0\n",
      "tariff     0\n",
      "city       0\n",
      "month      3\n",
      "mb_used    3\n",
      "dtype: int64\n"
     ]
    }
   ],
   "source": [
    "print(data.isna().sum())"
   ]
  },
  {
   "cell_type": "code",
   "execution_count": 37,
   "id": "6f14b41e",
   "metadata": {},
   "outputs": [
    {
     "data": {
      "text/html": [
       "<div>\n",
       "<style scoped>\n",
       "    .dataframe tbody tr th:only-of-type {\n",
       "        vertical-align: middle;\n",
       "    }\n",
       "\n",
       "    .dataframe tbody tr th {\n",
       "        vertical-align: top;\n",
       "    }\n",
       "\n",
       "    .dataframe thead th {\n",
       "        text-align: right;\n",
       "    }\n",
       "</style>\n",
       "<table border=\"1\" class=\"dataframe\">\n",
       "  <thead>\n",
       "    <tr style=\"text-align: right;\">\n",
       "      <th></th>\n",
       "      <th>user_id</th>\n",
       "      <th>tariff</th>\n",
       "      <th>city</th>\n",
       "      <th>month</th>\n",
       "      <th>mb_used</th>\n",
       "    </tr>\n",
       "  </thead>\n",
       "  <tbody>\n",
       "    <tr>\n",
       "      <td>827</td>\n",
       "      <td>1128</td>\n",
       "      <td>ultra</td>\n",
       "      <td>Волжский</td>\n",
       "      <td>NaN</td>\n",
       "      <td>NaN</td>\n",
       "    </tr>\n",
       "    <tr>\n",
       "      <td>1723</td>\n",
       "      <td>1273</td>\n",
       "      <td>ultra</td>\n",
       "      <td>Курган</td>\n",
       "      <td>NaN</td>\n",
       "      <td>NaN</td>\n",
       "    </tr>\n",
       "    <tr>\n",
       "      <td>2328</td>\n",
       "      <td>1371</td>\n",
       "      <td>smart</td>\n",
       "      <td>Омск</td>\n",
       "      <td>NaN</td>\n",
       "      <td>NaN</td>\n",
       "    </tr>\n",
       "  </tbody>\n",
       "</table>\n",
       "</div>"
      ],
      "text/plain": [
       "      user_id tariff      city  month  mb_used\n",
       "827      1128  ultra  Волжский    NaN      NaN\n",
       "1723     1273  ultra    Курган    NaN      NaN\n",
       "2328     1371  smart      Омск    NaN      NaN"
      ]
     },
     "metadata": {},
     "output_type": "display_data"
    }
   ],
   "source": [
    "display(data[data['month'].isna()])"
   ]
  },
  {
   "cell_type": "markdown",
   "id": "cf36640b",
   "metadata": {},
   "source": [
    "Несмотря на то, что у трех пользователей в month и mb_used стоят пропуски, мы не можем их удалять из общей таблицы, так как пропуски здесь означают, что в эти месяцы данные пользователи не использовали интернет, нельзя их удалаять из общей таблицы. Хоть их и не много, но незначительно на общие данные может повлиять."
   ]
  },
  {
   "cell_type": "code",
   "execution_count": 38,
   "id": "74d28a20",
   "metadata": {},
   "outputs": [
    {
     "data": {
      "text/plain": [
       "500"
      ]
     },
     "execution_count": 38,
     "metadata": {},
     "output_type": "execute_result"
    }
   ],
   "source": [
    "data['user_id'].nunique()"
   ]
  },
  {
   "cell_type": "code",
   "execution_count": 39,
   "id": "898833e9",
   "metadata": {},
   "outputs": [
    {
     "data": {
      "text/html": [
       "<div>\n",
       "<style scoped>\n",
       "    .dataframe tbody tr th:only-of-type {\n",
       "        vertical-align: middle;\n",
       "    }\n",
       "\n",
       "    .dataframe tbody tr th {\n",
       "        vertical-align: top;\n",
       "    }\n",
       "\n",
       "    .dataframe thead th {\n",
       "        text-align: right;\n",
       "    }\n",
       "</style>\n",
       "<table border=\"1\" class=\"dataframe\">\n",
       "  <thead>\n",
       "    <tr style=\"text-align: right;\">\n",
       "      <th></th>\n",
       "      <th>user_id</th>\n",
       "      <th>tariff</th>\n",
       "      <th>city</th>\n",
       "      <th>month</th>\n",
       "      <th>mb_used</th>\n",
       "      <th>duration</th>\n",
       "      <th>count_minutes</th>\n",
       "    </tr>\n",
       "  </thead>\n",
       "  <tbody>\n",
       "    <tr>\n",
       "      <td>0</td>\n",
       "      <td>1000</td>\n",
       "      <td>ultra</td>\n",
       "      <td>Краснодар</td>\n",
       "      <td>5.0</td>\n",
       "      <td>2253.49</td>\n",
       "      <td>22.0</td>\n",
       "      <td>159.0</td>\n",
       "    </tr>\n",
       "    <tr>\n",
       "      <td>1</td>\n",
       "      <td>1000</td>\n",
       "      <td>ultra</td>\n",
       "      <td>Краснодар</td>\n",
       "      <td>6.0</td>\n",
       "      <td>23233.77</td>\n",
       "      <td>43.0</td>\n",
       "      <td>172.0</td>\n",
       "    </tr>\n",
       "    <tr>\n",
       "      <td>2</td>\n",
       "      <td>1000</td>\n",
       "      <td>ultra</td>\n",
       "      <td>Краснодар</td>\n",
       "      <td>7.0</td>\n",
       "      <td>14003.64</td>\n",
       "      <td>47.0</td>\n",
       "      <td>340.0</td>\n",
       "    </tr>\n",
       "    <tr>\n",
       "      <td>3</td>\n",
       "      <td>1000</td>\n",
       "      <td>ultra</td>\n",
       "      <td>Краснодар</td>\n",
       "      <td>8.0</td>\n",
       "      <td>14055.93</td>\n",
       "      <td>52.0</td>\n",
       "      <td>408.0</td>\n",
       "    </tr>\n",
       "    <tr>\n",
       "      <td>4</td>\n",
       "      <td>1000</td>\n",
       "      <td>ultra</td>\n",
       "      <td>Краснодар</td>\n",
       "      <td>9.0</td>\n",
       "      <td>14568.91</td>\n",
       "      <td>58.0</td>\n",
       "      <td>466.0</td>\n",
       "    </tr>\n",
       "    <tr>\n",
       "      <td>...</td>\n",
       "      <td>...</td>\n",
       "      <td>...</td>\n",
       "      <td>...</td>\n",
       "      <td>...</td>\n",
       "      <td>...</td>\n",
       "      <td>...</td>\n",
       "      <td>...</td>\n",
       "    </tr>\n",
       "    <tr>\n",
       "      <td>3201</td>\n",
       "      <td>1498</td>\n",
       "      <td>smart</td>\n",
       "      <td>Владикавказ</td>\n",
       "      <td>10.0</td>\n",
       "      <td>20579.36</td>\n",
       "      <td>41.0</td>\n",
       "      <td>247.0</td>\n",
       "    </tr>\n",
       "    <tr>\n",
       "      <td>3202</td>\n",
       "      <td>1499</td>\n",
       "      <td>smart</td>\n",
       "      <td>Пермь</td>\n",
       "      <td>9.0</td>\n",
       "      <td>1845.75</td>\n",
       "      <td>9.0</td>\n",
       "      <td>70.0</td>\n",
       "    </tr>\n",
       "    <tr>\n",
       "      <td>3203</td>\n",
       "      <td>1499</td>\n",
       "      <td>smart</td>\n",
       "      <td>Пермь</td>\n",
       "      <td>10.0</td>\n",
       "      <td>17788.51</td>\n",
       "      <td>68.0</td>\n",
       "      <td>449.0</td>\n",
       "    </tr>\n",
       "    <tr>\n",
       "      <td>3204</td>\n",
       "      <td>1499</td>\n",
       "      <td>smart</td>\n",
       "      <td>Пермь</td>\n",
       "      <td>11.0</td>\n",
       "      <td>17963.31</td>\n",
       "      <td>74.0</td>\n",
       "      <td>612.0</td>\n",
       "    </tr>\n",
       "    <tr>\n",
       "      <td>3205</td>\n",
       "      <td>1499</td>\n",
       "      <td>smart</td>\n",
       "      <td>Пермь</td>\n",
       "      <td>12.0</td>\n",
       "      <td>13055.58</td>\n",
       "      <td>69.0</td>\n",
       "      <td>492.0</td>\n",
       "    </tr>\n",
       "  </tbody>\n",
       "</table>\n",
       "<p>3206 rows × 7 columns</p>\n",
       "</div>"
      ],
      "text/plain": [
       "      user_id tariff         city  month   mb_used  duration  count_minutes\n",
       "0        1000  ultra    Краснодар    5.0   2253.49      22.0          159.0\n",
       "1        1000  ultra    Краснодар    6.0  23233.77      43.0          172.0\n",
       "2        1000  ultra    Краснодар    7.0  14003.64      47.0          340.0\n",
       "3        1000  ultra    Краснодар    8.0  14055.93      52.0          408.0\n",
       "4        1000  ultra    Краснодар    9.0  14568.91      58.0          466.0\n",
       "...       ...    ...          ...    ...       ...       ...            ...\n",
       "3201     1498  smart  Владикавказ   10.0  20579.36      41.0          247.0\n",
       "3202     1499  smart        Пермь    9.0   1845.75       9.0           70.0\n",
       "3203     1499  smart        Пермь   10.0  17788.51      68.0          449.0\n",
       "3204     1499  smart        Пермь   11.0  17963.31      74.0          612.0\n",
       "3205     1499  smart        Пермь   12.0  13055.58      69.0          492.0\n",
       "\n",
       "[3206 rows x 7 columns]"
      ]
     },
     "metadata": {},
     "output_type": "display_data"
    }
   ],
   "source": [
    "data = data.merge(calls_grouped, on=['user_id', 'month'], how='left')\n",
    "display(data)"
   ]
  },
  {
   "cell_type": "code",
   "execution_count": 40,
   "id": "7b12084d",
   "metadata": {},
   "outputs": [
    {
     "data": {
      "text/html": [
       "<div>\n",
       "<style scoped>\n",
       "    .dataframe tbody tr th:only-of-type {\n",
       "        vertical-align: middle;\n",
       "    }\n",
       "\n",
       "    .dataframe tbody tr th {\n",
       "        vertical-align: top;\n",
       "    }\n",
       "\n",
       "    .dataframe thead th {\n",
       "        text-align: right;\n",
       "    }\n",
       "</style>\n",
       "<table border=\"1\" class=\"dataframe\">\n",
       "  <thead>\n",
       "    <tr style=\"text-align: right;\">\n",
       "      <th></th>\n",
       "      <th>user_id</th>\n",
       "      <th>tariff</th>\n",
       "      <th>city</th>\n",
       "      <th>month</th>\n",
       "      <th>mb_used</th>\n",
       "      <th>duration</th>\n",
       "      <th>count_minutes</th>\n",
       "      <th>id</th>\n",
       "    </tr>\n",
       "  </thead>\n",
       "  <tbody>\n",
       "    <tr>\n",
       "      <td>0</td>\n",
       "      <td>1000</td>\n",
       "      <td>ultra</td>\n",
       "      <td>Краснодар</td>\n",
       "      <td>5.0</td>\n",
       "      <td>2253.49</td>\n",
       "      <td>22.0</td>\n",
       "      <td>159.0</td>\n",
       "      <td>22.0</td>\n",
       "    </tr>\n",
       "    <tr>\n",
       "      <td>1</td>\n",
       "      <td>1000</td>\n",
       "      <td>ultra</td>\n",
       "      <td>Краснодар</td>\n",
       "      <td>6.0</td>\n",
       "      <td>23233.77</td>\n",
       "      <td>43.0</td>\n",
       "      <td>172.0</td>\n",
       "      <td>60.0</td>\n",
       "    </tr>\n",
       "    <tr>\n",
       "      <td>2</td>\n",
       "      <td>1000</td>\n",
       "      <td>ultra</td>\n",
       "      <td>Краснодар</td>\n",
       "      <td>7.0</td>\n",
       "      <td>14003.64</td>\n",
       "      <td>47.0</td>\n",
       "      <td>340.0</td>\n",
       "      <td>75.0</td>\n",
       "    </tr>\n",
       "    <tr>\n",
       "      <td>3</td>\n",
       "      <td>1000</td>\n",
       "      <td>ultra</td>\n",
       "      <td>Краснодар</td>\n",
       "      <td>8.0</td>\n",
       "      <td>14055.93</td>\n",
       "      <td>52.0</td>\n",
       "      <td>408.0</td>\n",
       "      <td>81.0</td>\n",
       "    </tr>\n",
       "    <tr>\n",
       "      <td>4</td>\n",
       "      <td>1000</td>\n",
       "      <td>ultra</td>\n",
       "      <td>Краснодар</td>\n",
       "      <td>9.0</td>\n",
       "      <td>14568.91</td>\n",
       "      <td>58.0</td>\n",
       "      <td>466.0</td>\n",
       "      <td>57.0</td>\n",
       "    </tr>\n",
       "    <tr>\n",
       "      <td>...</td>\n",
       "      <td>...</td>\n",
       "      <td>...</td>\n",
       "      <td>...</td>\n",
       "      <td>...</td>\n",
       "      <td>...</td>\n",
       "      <td>...</td>\n",
       "      <td>...</td>\n",
       "      <td>...</td>\n",
       "    </tr>\n",
       "    <tr>\n",
       "      <td>3201</td>\n",
       "      <td>1498</td>\n",
       "      <td>smart</td>\n",
       "      <td>Владикавказ</td>\n",
       "      <td>10.0</td>\n",
       "      <td>20579.36</td>\n",
       "      <td>41.0</td>\n",
       "      <td>247.0</td>\n",
       "      <td>42.0</td>\n",
       "    </tr>\n",
       "    <tr>\n",
       "      <td>3202</td>\n",
       "      <td>1499</td>\n",
       "      <td>smart</td>\n",
       "      <td>Пермь</td>\n",
       "      <td>9.0</td>\n",
       "      <td>1845.75</td>\n",
       "      <td>9.0</td>\n",
       "      <td>70.0</td>\n",
       "      <td>11.0</td>\n",
       "    </tr>\n",
       "    <tr>\n",
       "      <td>3203</td>\n",
       "      <td>1499</td>\n",
       "      <td>smart</td>\n",
       "      <td>Пермь</td>\n",
       "      <td>10.0</td>\n",
       "      <td>17788.51</td>\n",
       "      <td>68.0</td>\n",
       "      <td>449.0</td>\n",
       "      <td>48.0</td>\n",
       "    </tr>\n",
       "    <tr>\n",
       "      <td>3204</td>\n",
       "      <td>1499</td>\n",
       "      <td>smart</td>\n",
       "      <td>Пермь</td>\n",
       "      <td>11.0</td>\n",
       "      <td>17963.31</td>\n",
       "      <td>74.0</td>\n",
       "      <td>612.0</td>\n",
       "      <td>59.0</td>\n",
       "    </tr>\n",
       "    <tr>\n",
       "      <td>3205</td>\n",
       "      <td>1499</td>\n",
       "      <td>smart</td>\n",
       "      <td>Пермь</td>\n",
       "      <td>12.0</td>\n",
       "      <td>13055.58</td>\n",
       "      <td>69.0</td>\n",
       "      <td>492.0</td>\n",
       "      <td>66.0</td>\n",
       "    </tr>\n",
       "  </tbody>\n",
       "</table>\n",
       "<p>3206 rows × 8 columns</p>\n",
       "</div>"
      ],
      "text/plain": [
       "      user_id tariff         city  month   mb_used  duration  count_minutes  \\\n",
       "0        1000  ultra    Краснодар    5.0   2253.49      22.0          159.0   \n",
       "1        1000  ultra    Краснодар    6.0  23233.77      43.0          172.0   \n",
       "2        1000  ultra    Краснодар    7.0  14003.64      47.0          340.0   \n",
       "3        1000  ultra    Краснодар    8.0  14055.93      52.0          408.0   \n",
       "4        1000  ultra    Краснодар    9.0  14568.91      58.0          466.0   \n",
       "...       ...    ...          ...    ...       ...       ...            ...   \n",
       "3201     1498  smart  Владикавказ   10.0  20579.36      41.0          247.0   \n",
       "3202     1499  smart        Пермь    9.0   1845.75       9.0           70.0   \n",
       "3203     1499  smart        Пермь   10.0  17788.51      68.0          449.0   \n",
       "3204     1499  smart        Пермь   11.0  17963.31      74.0          612.0   \n",
       "3205     1499  smart        Пермь   12.0  13055.58      69.0          492.0   \n",
       "\n",
       "        id  \n",
       "0     22.0  \n",
       "1     60.0  \n",
       "2     75.0  \n",
       "3     81.0  \n",
       "4     57.0  \n",
       "...    ...  \n",
       "3201  42.0  \n",
       "3202  11.0  \n",
       "3203  48.0  \n",
       "3204  59.0  \n",
       "3205  66.0  \n",
       "\n",
       "[3206 rows x 8 columns]"
      ]
     },
     "metadata": {},
     "output_type": "display_data"
    }
   ],
   "source": [
    "data = data.merge(messages_grouped, on=['user_id', 'month'], how='left')\n",
    "display(data)"
   ]
  },
  {
   "cell_type": "code",
   "execution_count": 41,
   "id": "39a47045",
   "metadata": {
    "scrolled": false
   },
   "outputs": [
    {
     "data": {
      "text/html": [
       "<div>\n",
       "<style scoped>\n",
       "    .dataframe tbody tr th:only-of-type {\n",
       "        vertical-align: middle;\n",
       "    }\n",
       "\n",
       "    .dataframe tbody tr th {\n",
       "        vertical-align: top;\n",
       "    }\n",
       "\n",
       "    .dataframe thead th {\n",
       "        text-align: right;\n",
       "    }\n",
       "</style>\n",
       "<table border=\"1\" class=\"dataframe\">\n",
       "  <thead>\n",
       "    <tr style=\"text-align: right;\">\n",
       "      <th></th>\n",
       "      <th>user_id</th>\n",
       "      <th>tariff</th>\n",
       "      <th>city</th>\n",
       "      <th>month</th>\n",
       "      <th>mb_used</th>\n",
       "      <th>duration</th>\n",
       "      <th>count_minutes</th>\n",
       "      <th>count_messages</th>\n",
       "    </tr>\n",
       "  </thead>\n",
       "  <tbody>\n",
       "    <tr>\n",
       "      <td>0</td>\n",
       "      <td>1000</td>\n",
       "      <td>ultra</td>\n",
       "      <td>Краснодар</td>\n",
       "      <td>5.0</td>\n",
       "      <td>2253.49</td>\n",
       "      <td>22.0</td>\n",
       "      <td>159.0</td>\n",
       "      <td>22.0</td>\n",
       "    </tr>\n",
       "    <tr>\n",
       "      <td>1</td>\n",
       "      <td>1000</td>\n",
       "      <td>ultra</td>\n",
       "      <td>Краснодар</td>\n",
       "      <td>6.0</td>\n",
       "      <td>23233.77</td>\n",
       "      <td>43.0</td>\n",
       "      <td>172.0</td>\n",
       "      <td>60.0</td>\n",
       "    </tr>\n",
       "    <tr>\n",
       "      <td>2</td>\n",
       "      <td>1000</td>\n",
       "      <td>ultra</td>\n",
       "      <td>Краснодар</td>\n",
       "      <td>7.0</td>\n",
       "      <td>14003.64</td>\n",
       "      <td>47.0</td>\n",
       "      <td>340.0</td>\n",
       "      <td>75.0</td>\n",
       "    </tr>\n",
       "    <tr>\n",
       "      <td>3</td>\n",
       "      <td>1000</td>\n",
       "      <td>ultra</td>\n",
       "      <td>Краснодар</td>\n",
       "      <td>8.0</td>\n",
       "      <td>14055.93</td>\n",
       "      <td>52.0</td>\n",
       "      <td>408.0</td>\n",
       "      <td>81.0</td>\n",
       "    </tr>\n",
       "    <tr>\n",
       "      <td>4</td>\n",
       "      <td>1000</td>\n",
       "      <td>ultra</td>\n",
       "      <td>Краснодар</td>\n",
       "      <td>9.0</td>\n",
       "      <td>14568.91</td>\n",
       "      <td>58.0</td>\n",
       "      <td>466.0</td>\n",
       "      <td>57.0</td>\n",
       "    </tr>\n",
       "    <tr>\n",
       "      <td>...</td>\n",
       "      <td>...</td>\n",
       "      <td>...</td>\n",
       "      <td>...</td>\n",
       "      <td>...</td>\n",
       "      <td>...</td>\n",
       "      <td>...</td>\n",
       "      <td>...</td>\n",
       "      <td>...</td>\n",
       "    </tr>\n",
       "    <tr>\n",
       "      <td>3201</td>\n",
       "      <td>1498</td>\n",
       "      <td>smart</td>\n",
       "      <td>Владикавказ</td>\n",
       "      <td>10.0</td>\n",
       "      <td>20579.36</td>\n",
       "      <td>41.0</td>\n",
       "      <td>247.0</td>\n",
       "      <td>42.0</td>\n",
       "    </tr>\n",
       "    <tr>\n",
       "      <td>3202</td>\n",
       "      <td>1499</td>\n",
       "      <td>smart</td>\n",
       "      <td>Пермь</td>\n",
       "      <td>9.0</td>\n",
       "      <td>1845.75</td>\n",
       "      <td>9.0</td>\n",
       "      <td>70.0</td>\n",
       "      <td>11.0</td>\n",
       "    </tr>\n",
       "    <tr>\n",
       "      <td>3203</td>\n",
       "      <td>1499</td>\n",
       "      <td>smart</td>\n",
       "      <td>Пермь</td>\n",
       "      <td>10.0</td>\n",
       "      <td>17788.51</td>\n",
       "      <td>68.0</td>\n",
       "      <td>449.0</td>\n",
       "      <td>48.0</td>\n",
       "    </tr>\n",
       "    <tr>\n",
       "      <td>3204</td>\n",
       "      <td>1499</td>\n",
       "      <td>smart</td>\n",
       "      <td>Пермь</td>\n",
       "      <td>11.0</td>\n",
       "      <td>17963.31</td>\n",
       "      <td>74.0</td>\n",
       "      <td>612.0</td>\n",
       "      <td>59.0</td>\n",
       "    </tr>\n",
       "    <tr>\n",
       "      <td>3205</td>\n",
       "      <td>1499</td>\n",
       "      <td>smart</td>\n",
       "      <td>Пермь</td>\n",
       "      <td>12.0</td>\n",
       "      <td>13055.58</td>\n",
       "      <td>69.0</td>\n",
       "      <td>492.0</td>\n",
       "      <td>66.0</td>\n",
       "    </tr>\n",
       "  </tbody>\n",
       "</table>\n",
       "<p>3206 rows × 8 columns</p>\n",
       "</div>"
      ],
      "text/plain": [
       "      user_id tariff         city  month   mb_used  duration  count_minutes  \\\n",
       "0        1000  ultra    Краснодар    5.0   2253.49      22.0          159.0   \n",
       "1        1000  ultra    Краснодар    6.0  23233.77      43.0          172.0   \n",
       "2        1000  ultra    Краснодар    7.0  14003.64      47.0          340.0   \n",
       "3        1000  ultra    Краснодар    8.0  14055.93      52.0          408.0   \n",
       "4        1000  ultra    Краснодар    9.0  14568.91      58.0          466.0   \n",
       "...       ...    ...          ...    ...       ...       ...            ...   \n",
       "3201     1498  smart  Владикавказ   10.0  20579.36      41.0          247.0   \n",
       "3202     1499  smart        Пермь    9.0   1845.75       9.0           70.0   \n",
       "3203     1499  smart        Пермь   10.0  17788.51      68.0          449.0   \n",
       "3204     1499  smart        Пермь   11.0  17963.31      74.0          612.0   \n",
       "3205     1499  smart        Пермь   12.0  13055.58      69.0          492.0   \n",
       "\n",
       "      count_messages  \n",
       "0               22.0  \n",
       "1               60.0  \n",
       "2               75.0  \n",
       "3               81.0  \n",
       "4               57.0  \n",
       "...              ...  \n",
       "3201            42.0  \n",
       "3202            11.0  \n",
       "3203            48.0  \n",
       "3204            59.0  \n",
       "3205            66.0  \n",
       "\n",
       "[3206 rows x 8 columns]"
      ]
     },
     "metadata": {},
     "output_type": "display_data"
    }
   ],
   "source": [
    "data = data.rename(columns={'id': 'count_messages'})\n",
    "display(data)"
   ]
  },
  {
   "cell_type": "code",
   "execution_count": 42,
   "id": "aeb0ecc2",
   "metadata": {},
   "outputs": [
    {
     "name": "stdout",
     "output_type": "stream",
     "text": [
      "user_id             0\n",
      "tariff              0\n",
      "city                0\n",
      "month               3\n",
      "mb_used             3\n",
      "duration           43\n",
      "count_minutes      43\n",
      "count_messages    500\n",
      "dtype: int64\n"
     ]
    }
   ],
   "source": [
    "print(data.isna().sum())"
   ]
  },
  {
   "cell_type": "code",
   "execution_count": 43,
   "id": "8a37f303",
   "metadata": {},
   "outputs": [
    {
     "name": "stdout",
     "output_type": "stream",
     "text": [
      "user_id           0\n",
      "tariff            0\n",
      "city              0\n",
      "month             3\n",
      "mb_used           3\n",
      "duration          0\n",
      "count_minutes     0\n",
      "count_messages    0\n",
      "dtype: int64\n"
     ]
    },
    {
     "data": {
      "text/html": [
       "<div>\n",
       "<style scoped>\n",
       "    .dataframe tbody tr th:only-of-type {\n",
       "        vertical-align: middle;\n",
       "    }\n",
       "\n",
       "    .dataframe tbody tr th {\n",
       "        vertical-align: top;\n",
       "    }\n",
       "\n",
       "    .dataframe thead th {\n",
       "        text-align: right;\n",
       "    }\n",
       "</style>\n",
       "<table border=\"1\" class=\"dataframe\">\n",
       "  <thead>\n",
       "    <tr style=\"text-align: right;\">\n",
       "      <th></th>\n",
       "      <th>user_id</th>\n",
       "      <th>tariff</th>\n",
       "      <th>city</th>\n",
       "      <th>month</th>\n",
       "      <th>mb_used</th>\n",
       "      <th>duration</th>\n",
       "      <th>count_minutes</th>\n",
       "      <th>count_messages</th>\n",
       "    </tr>\n",
       "  </thead>\n",
       "  <tbody>\n",
       "    <tr>\n",
       "      <td>0</td>\n",
       "      <td>1000</td>\n",
       "      <td>ultra</td>\n",
       "      <td>Краснодар</td>\n",
       "      <td>5.0</td>\n",
       "      <td>2253.49</td>\n",
       "      <td>22.0</td>\n",
       "      <td>159.0</td>\n",
       "      <td>22.0</td>\n",
       "    </tr>\n",
       "    <tr>\n",
       "      <td>1</td>\n",
       "      <td>1000</td>\n",
       "      <td>ultra</td>\n",
       "      <td>Краснодар</td>\n",
       "      <td>6.0</td>\n",
       "      <td>23233.77</td>\n",
       "      <td>43.0</td>\n",
       "      <td>172.0</td>\n",
       "      <td>60.0</td>\n",
       "    </tr>\n",
       "    <tr>\n",
       "      <td>2</td>\n",
       "      <td>1000</td>\n",
       "      <td>ultra</td>\n",
       "      <td>Краснодар</td>\n",
       "      <td>7.0</td>\n",
       "      <td>14003.64</td>\n",
       "      <td>47.0</td>\n",
       "      <td>340.0</td>\n",
       "      <td>75.0</td>\n",
       "    </tr>\n",
       "    <tr>\n",
       "      <td>3</td>\n",
       "      <td>1000</td>\n",
       "      <td>ultra</td>\n",
       "      <td>Краснодар</td>\n",
       "      <td>8.0</td>\n",
       "      <td>14055.93</td>\n",
       "      <td>52.0</td>\n",
       "      <td>408.0</td>\n",
       "      <td>81.0</td>\n",
       "    </tr>\n",
       "    <tr>\n",
       "      <td>4</td>\n",
       "      <td>1000</td>\n",
       "      <td>ultra</td>\n",
       "      <td>Краснодар</td>\n",
       "      <td>9.0</td>\n",
       "      <td>14568.91</td>\n",
       "      <td>58.0</td>\n",
       "      <td>466.0</td>\n",
       "      <td>57.0</td>\n",
       "    </tr>\n",
       "    <tr>\n",
       "      <td>...</td>\n",
       "      <td>...</td>\n",
       "      <td>...</td>\n",
       "      <td>...</td>\n",
       "      <td>...</td>\n",
       "      <td>...</td>\n",
       "      <td>...</td>\n",
       "      <td>...</td>\n",
       "      <td>...</td>\n",
       "    </tr>\n",
       "    <tr>\n",
       "      <td>3201</td>\n",
       "      <td>1498</td>\n",
       "      <td>smart</td>\n",
       "      <td>Владикавказ</td>\n",
       "      <td>10.0</td>\n",
       "      <td>20579.36</td>\n",
       "      <td>41.0</td>\n",
       "      <td>247.0</td>\n",
       "      <td>42.0</td>\n",
       "    </tr>\n",
       "    <tr>\n",
       "      <td>3202</td>\n",
       "      <td>1499</td>\n",
       "      <td>smart</td>\n",
       "      <td>Пермь</td>\n",
       "      <td>9.0</td>\n",
       "      <td>1845.75</td>\n",
       "      <td>9.0</td>\n",
       "      <td>70.0</td>\n",
       "      <td>11.0</td>\n",
       "    </tr>\n",
       "    <tr>\n",
       "      <td>3203</td>\n",
       "      <td>1499</td>\n",
       "      <td>smart</td>\n",
       "      <td>Пермь</td>\n",
       "      <td>10.0</td>\n",
       "      <td>17788.51</td>\n",
       "      <td>68.0</td>\n",
       "      <td>449.0</td>\n",
       "      <td>48.0</td>\n",
       "    </tr>\n",
       "    <tr>\n",
       "      <td>3204</td>\n",
       "      <td>1499</td>\n",
       "      <td>smart</td>\n",
       "      <td>Пермь</td>\n",
       "      <td>11.0</td>\n",
       "      <td>17963.31</td>\n",
       "      <td>74.0</td>\n",
       "      <td>612.0</td>\n",
       "      <td>59.0</td>\n",
       "    </tr>\n",
       "    <tr>\n",
       "      <td>3205</td>\n",
       "      <td>1499</td>\n",
       "      <td>smart</td>\n",
       "      <td>Пермь</td>\n",
       "      <td>12.0</td>\n",
       "      <td>13055.58</td>\n",
       "      <td>69.0</td>\n",
       "      <td>492.0</td>\n",
       "      <td>66.0</td>\n",
       "    </tr>\n",
       "  </tbody>\n",
       "</table>\n",
       "<p>3206 rows × 8 columns</p>\n",
       "</div>"
      ],
      "text/plain": [
       "      user_id tariff         city  month   mb_used  duration  count_minutes  \\\n",
       "0        1000  ultra    Краснодар    5.0   2253.49      22.0          159.0   \n",
       "1        1000  ultra    Краснодар    6.0  23233.77      43.0          172.0   \n",
       "2        1000  ultra    Краснодар    7.0  14003.64      47.0          340.0   \n",
       "3        1000  ultra    Краснодар    8.0  14055.93      52.0          408.0   \n",
       "4        1000  ultra    Краснодар    9.0  14568.91      58.0          466.0   \n",
       "...       ...    ...          ...    ...       ...       ...            ...   \n",
       "3201     1498  smart  Владикавказ   10.0  20579.36      41.0          247.0   \n",
       "3202     1499  smart        Пермь    9.0   1845.75       9.0           70.0   \n",
       "3203     1499  smart        Пермь   10.0  17788.51      68.0          449.0   \n",
       "3204     1499  smart        Пермь   11.0  17963.31      74.0          612.0   \n",
       "3205     1499  smart        Пермь   12.0  13055.58      69.0          492.0   \n",
       "\n",
       "      count_messages  \n",
       "0               22.0  \n",
       "1               60.0  \n",
       "2               75.0  \n",
       "3               81.0  \n",
       "4               57.0  \n",
       "...              ...  \n",
       "3201            42.0  \n",
       "3202            11.0  \n",
       "3203            48.0  \n",
       "3204            59.0  \n",
       "3205            66.0  \n",
       "\n",
       "[3206 rows x 8 columns]"
      ]
     },
     "metadata": {},
     "output_type": "display_data"
    }
   ],
   "source": [
    "data['duration'] = data['duration'].fillna(0)\n",
    "data['count_minutes'] = data['count_minutes'].fillna(0)\n",
    "data['count_messages'] = data['count_messages'].fillna(0)\n",
    "print(data.isna().sum())\n",
    "display(data)"
   ]
  },
  {
   "cell_type": "code",
   "execution_count": 44,
   "id": "dcdd90fc",
   "metadata": {},
   "outputs": [
    {
     "data": {
      "text/html": [
       "<div>\n",
       "<style scoped>\n",
       "    .dataframe tbody tr th:only-of-type {\n",
       "        vertical-align: middle;\n",
       "    }\n",
       "\n",
       "    .dataframe tbody tr th {\n",
       "        vertical-align: top;\n",
       "    }\n",
       "\n",
       "    .dataframe thead th {\n",
       "        text-align: right;\n",
       "    }\n",
       "</style>\n",
       "<table border=\"1\" class=\"dataframe\">\n",
       "  <thead>\n",
       "    <tr style=\"text-align: right;\">\n",
       "      <th></th>\n",
       "      <th>user_id</th>\n",
       "      <th>tariff</th>\n",
       "      <th>city</th>\n",
       "      <th>month</th>\n",
       "      <th>mb_used</th>\n",
       "      <th>duration</th>\n",
       "      <th>count_minutes</th>\n",
       "      <th>count_messages</th>\n",
       "    </tr>\n",
       "  </thead>\n",
       "  <tbody>\n",
       "    <tr>\n",
       "      <td>0</td>\n",
       "      <td>1000</td>\n",
       "      <td>ultra</td>\n",
       "      <td>Краснодар</td>\n",
       "      <td>5.0</td>\n",
       "      <td>3.0</td>\n",
       "      <td>22.0</td>\n",
       "      <td>159.0</td>\n",
       "      <td>22.0</td>\n",
       "    </tr>\n",
       "    <tr>\n",
       "      <td>1</td>\n",
       "      <td>1000</td>\n",
       "      <td>ultra</td>\n",
       "      <td>Краснодар</td>\n",
       "      <td>6.0</td>\n",
       "      <td>23.0</td>\n",
       "      <td>43.0</td>\n",
       "      <td>172.0</td>\n",
       "      <td>60.0</td>\n",
       "    </tr>\n",
       "    <tr>\n",
       "      <td>2</td>\n",
       "      <td>1000</td>\n",
       "      <td>ultra</td>\n",
       "      <td>Краснодар</td>\n",
       "      <td>7.0</td>\n",
       "      <td>14.0</td>\n",
       "      <td>47.0</td>\n",
       "      <td>340.0</td>\n",
       "      <td>75.0</td>\n",
       "    </tr>\n",
       "    <tr>\n",
       "      <td>3</td>\n",
       "      <td>1000</td>\n",
       "      <td>ultra</td>\n",
       "      <td>Краснодар</td>\n",
       "      <td>8.0</td>\n",
       "      <td>14.0</td>\n",
       "      <td>52.0</td>\n",
       "      <td>408.0</td>\n",
       "      <td>81.0</td>\n",
       "    </tr>\n",
       "    <tr>\n",
       "      <td>4</td>\n",
       "      <td>1000</td>\n",
       "      <td>ultra</td>\n",
       "      <td>Краснодар</td>\n",
       "      <td>9.0</td>\n",
       "      <td>15.0</td>\n",
       "      <td>58.0</td>\n",
       "      <td>466.0</td>\n",
       "      <td>57.0</td>\n",
       "    </tr>\n",
       "    <tr>\n",
       "      <td>...</td>\n",
       "      <td>...</td>\n",
       "      <td>...</td>\n",
       "      <td>...</td>\n",
       "      <td>...</td>\n",
       "      <td>...</td>\n",
       "      <td>...</td>\n",
       "      <td>...</td>\n",
       "      <td>...</td>\n",
       "    </tr>\n",
       "    <tr>\n",
       "      <td>3201</td>\n",
       "      <td>1498</td>\n",
       "      <td>smart</td>\n",
       "      <td>Владикавказ</td>\n",
       "      <td>10.0</td>\n",
       "      <td>21.0</td>\n",
       "      <td>41.0</td>\n",
       "      <td>247.0</td>\n",
       "      <td>42.0</td>\n",
       "    </tr>\n",
       "    <tr>\n",
       "      <td>3202</td>\n",
       "      <td>1499</td>\n",
       "      <td>smart</td>\n",
       "      <td>Пермь</td>\n",
       "      <td>9.0</td>\n",
       "      <td>2.0</td>\n",
       "      <td>9.0</td>\n",
       "      <td>70.0</td>\n",
       "      <td>11.0</td>\n",
       "    </tr>\n",
       "    <tr>\n",
       "      <td>3203</td>\n",
       "      <td>1499</td>\n",
       "      <td>smart</td>\n",
       "      <td>Пермь</td>\n",
       "      <td>10.0</td>\n",
       "      <td>18.0</td>\n",
       "      <td>68.0</td>\n",
       "      <td>449.0</td>\n",
       "      <td>48.0</td>\n",
       "    </tr>\n",
       "    <tr>\n",
       "      <td>3204</td>\n",
       "      <td>1499</td>\n",
       "      <td>smart</td>\n",
       "      <td>Пермь</td>\n",
       "      <td>11.0</td>\n",
       "      <td>18.0</td>\n",
       "      <td>74.0</td>\n",
       "      <td>612.0</td>\n",
       "      <td>59.0</td>\n",
       "    </tr>\n",
       "    <tr>\n",
       "      <td>3205</td>\n",
       "      <td>1499</td>\n",
       "      <td>smart</td>\n",
       "      <td>Пермь</td>\n",
       "      <td>12.0</td>\n",
       "      <td>13.0</td>\n",
       "      <td>69.0</td>\n",
       "      <td>492.0</td>\n",
       "      <td>66.0</td>\n",
       "    </tr>\n",
       "  </tbody>\n",
       "</table>\n",
       "<p>3206 rows × 8 columns</p>\n",
       "</div>"
      ],
      "text/plain": [
       "      user_id tariff         city  month  mb_used  duration  count_minutes  \\\n",
       "0        1000  ultra    Краснодар    5.0      3.0      22.0          159.0   \n",
       "1        1000  ultra    Краснодар    6.0     23.0      43.0          172.0   \n",
       "2        1000  ultra    Краснодар    7.0     14.0      47.0          340.0   \n",
       "3        1000  ultra    Краснодар    8.0     14.0      52.0          408.0   \n",
       "4        1000  ultra    Краснодар    9.0     15.0      58.0          466.0   \n",
       "...       ...    ...          ...    ...      ...       ...            ...   \n",
       "3201     1498  smart  Владикавказ   10.0     21.0      41.0          247.0   \n",
       "3202     1499  smart        Пермь    9.0      2.0       9.0           70.0   \n",
       "3203     1499  smart        Пермь   10.0     18.0      68.0          449.0   \n",
       "3204     1499  smart        Пермь   11.0     18.0      74.0          612.0   \n",
       "3205     1499  smart        Пермь   12.0     13.0      69.0          492.0   \n",
       "\n",
       "      count_messages  \n",
       "0               22.0  \n",
       "1               60.0  \n",
       "2               75.0  \n",
       "3               81.0  \n",
       "4               57.0  \n",
       "...              ...  \n",
       "3201            42.0  \n",
       "3202            11.0  \n",
       "3203            48.0  \n",
       "3204            59.0  \n",
       "3205            66.0  \n",
       "\n",
       "[3206 rows x 8 columns]"
      ]
     },
     "metadata": {},
     "output_type": "display_data"
    }
   ],
   "source": [
    "# переведем мегабайты в гигабайты и округлим до целого числа в столбце mb_used\n",
    "data['mb_used'] = data['mb_used'] / 1024\n",
    "data['mb_used'] = np.ceil(data['mb_used'])\n",
    "display(data)"
   ]
  },
  {
   "cell_type": "code",
   "execution_count": 45,
   "id": "58fbd44a",
   "metadata": {},
   "outputs": [
    {
     "data": {
      "text/html": [
       "<div>\n",
       "<style scoped>\n",
       "    .dataframe tbody tr th:only-of-type {\n",
       "        vertical-align: middle;\n",
       "    }\n",
       "\n",
       "    .dataframe tbody tr th {\n",
       "        vertical-align: top;\n",
       "    }\n",
       "\n",
       "    .dataframe thead th {\n",
       "        text-align: right;\n",
       "    }\n",
       "</style>\n",
       "<table border=\"1\" class=\"dataframe\">\n",
       "  <thead>\n",
       "    <tr style=\"text-align: right;\">\n",
       "      <th></th>\n",
       "      <th>user_id</th>\n",
       "      <th>tariff</th>\n",
       "      <th>city</th>\n",
       "      <th>month</th>\n",
       "      <th>gb_used</th>\n",
       "      <th>duration</th>\n",
       "      <th>count_minutes</th>\n",
       "      <th>count_messages</th>\n",
       "    </tr>\n",
       "  </thead>\n",
       "  <tbody>\n",
       "    <tr>\n",
       "      <td>0</td>\n",
       "      <td>1000</td>\n",
       "      <td>ultra</td>\n",
       "      <td>Краснодар</td>\n",
       "      <td>5.0</td>\n",
       "      <td>3.0</td>\n",
       "      <td>22.0</td>\n",
       "      <td>159.0</td>\n",
       "      <td>22.0</td>\n",
       "    </tr>\n",
       "    <tr>\n",
       "      <td>1</td>\n",
       "      <td>1000</td>\n",
       "      <td>ultra</td>\n",
       "      <td>Краснодар</td>\n",
       "      <td>6.0</td>\n",
       "      <td>23.0</td>\n",
       "      <td>43.0</td>\n",
       "      <td>172.0</td>\n",
       "      <td>60.0</td>\n",
       "    </tr>\n",
       "    <tr>\n",
       "      <td>2</td>\n",
       "      <td>1000</td>\n",
       "      <td>ultra</td>\n",
       "      <td>Краснодар</td>\n",
       "      <td>7.0</td>\n",
       "      <td>14.0</td>\n",
       "      <td>47.0</td>\n",
       "      <td>340.0</td>\n",
       "      <td>75.0</td>\n",
       "    </tr>\n",
       "    <tr>\n",
       "      <td>3</td>\n",
       "      <td>1000</td>\n",
       "      <td>ultra</td>\n",
       "      <td>Краснодар</td>\n",
       "      <td>8.0</td>\n",
       "      <td>14.0</td>\n",
       "      <td>52.0</td>\n",
       "      <td>408.0</td>\n",
       "      <td>81.0</td>\n",
       "    </tr>\n",
       "    <tr>\n",
       "      <td>4</td>\n",
       "      <td>1000</td>\n",
       "      <td>ultra</td>\n",
       "      <td>Краснодар</td>\n",
       "      <td>9.0</td>\n",
       "      <td>15.0</td>\n",
       "      <td>58.0</td>\n",
       "      <td>466.0</td>\n",
       "      <td>57.0</td>\n",
       "    </tr>\n",
       "    <tr>\n",
       "      <td>...</td>\n",
       "      <td>...</td>\n",
       "      <td>...</td>\n",
       "      <td>...</td>\n",
       "      <td>...</td>\n",
       "      <td>...</td>\n",
       "      <td>...</td>\n",
       "      <td>...</td>\n",
       "      <td>...</td>\n",
       "    </tr>\n",
       "    <tr>\n",
       "      <td>3201</td>\n",
       "      <td>1498</td>\n",
       "      <td>smart</td>\n",
       "      <td>Владикавказ</td>\n",
       "      <td>10.0</td>\n",
       "      <td>21.0</td>\n",
       "      <td>41.0</td>\n",
       "      <td>247.0</td>\n",
       "      <td>42.0</td>\n",
       "    </tr>\n",
       "    <tr>\n",
       "      <td>3202</td>\n",
       "      <td>1499</td>\n",
       "      <td>smart</td>\n",
       "      <td>Пермь</td>\n",
       "      <td>9.0</td>\n",
       "      <td>2.0</td>\n",
       "      <td>9.0</td>\n",
       "      <td>70.0</td>\n",
       "      <td>11.0</td>\n",
       "    </tr>\n",
       "    <tr>\n",
       "      <td>3203</td>\n",
       "      <td>1499</td>\n",
       "      <td>smart</td>\n",
       "      <td>Пермь</td>\n",
       "      <td>10.0</td>\n",
       "      <td>18.0</td>\n",
       "      <td>68.0</td>\n",
       "      <td>449.0</td>\n",
       "      <td>48.0</td>\n",
       "    </tr>\n",
       "    <tr>\n",
       "      <td>3204</td>\n",
       "      <td>1499</td>\n",
       "      <td>smart</td>\n",
       "      <td>Пермь</td>\n",
       "      <td>11.0</td>\n",
       "      <td>18.0</td>\n",
       "      <td>74.0</td>\n",
       "      <td>612.0</td>\n",
       "      <td>59.0</td>\n",
       "    </tr>\n",
       "    <tr>\n",
       "      <td>3205</td>\n",
       "      <td>1499</td>\n",
       "      <td>smart</td>\n",
       "      <td>Пермь</td>\n",
       "      <td>12.0</td>\n",
       "      <td>13.0</td>\n",
       "      <td>69.0</td>\n",
       "      <td>492.0</td>\n",
       "      <td>66.0</td>\n",
       "    </tr>\n",
       "  </tbody>\n",
       "</table>\n",
       "<p>3206 rows × 8 columns</p>\n",
       "</div>"
      ],
      "text/plain": [
       "      user_id tariff         city  month  gb_used  duration  count_minutes  \\\n",
       "0        1000  ultra    Краснодар    5.0      3.0      22.0          159.0   \n",
       "1        1000  ultra    Краснодар    6.0     23.0      43.0          172.0   \n",
       "2        1000  ultra    Краснодар    7.0     14.0      47.0          340.0   \n",
       "3        1000  ultra    Краснодар    8.0     14.0      52.0          408.0   \n",
       "4        1000  ultra    Краснодар    9.0     15.0      58.0          466.0   \n",
       "...       ...    ...          ...    ...      ...       ...            ...   \n",
       "3201     1498  smart  Владикавказ   10.0     21.0      41.0          247.0   \n",
       "3202     1499  smart        Пермь    9.0      2.0       9.0           70.0   \n",
       "3203     1499  smart        Пермь   10.0     18.0      68.0          449.0   \n",
       "3204     1499  smart        Пермь   11.0     18.0      74.0          612.0   \n",
       "3205     1499  smart        Пермь   12.0     13.0      69.0          492.0   \n",
       "\n",
       "      count_messages  \n",
       "0               22.0  \n",
       "1               60.0  \n",
       "2               75.0  \n",
       "3               81.0  \n",
       "4               57.0  \n",
       "...              ...  \n",
       "3201            42.0  \n",
       "3202            11.0  \n",
       "3203            48.0  \n",
       "3204            59.0  \n",
       "3205            66.0  \n",
       "\n",
       "[3206 rows x 8 columns]"
      ]
     },
     "metadata": {},
     "output_type": "display_data"
    }
   ],
   "source": [
    "# переименуем столбец mb_used в gb_used\n",
    "data = data.rename(columns={'mb_used': 'gb_used'})\n",
    "display(data)"
   ]
  },
  {
   "cell_type": "markdown",
   "id": "5378c6c0",
   "metadata": {},
   "source": [
    "Теперь с помощью функции одной строки и метода apply посчитаем с каждого пользователя помесячную выручку"
   ]
  },
  {
   "cell_type": "code",
   "execution_count": 46,
   "id": "fa789007",
   "metadata": {
    "scrolled": false
   },
   "outputs": [
    {
     "data": {
      "text/html": [
       "<div>\n",
       "<style scoped>\n",
       "    .dataframe tbody tr th:only-of-type {\n",
       "        vertical-align: middle;\n",
       "    }\n",
       "\n",
       "    .dataframe tbody tr th {\n",
       "        vertical-align: top;\n",
       "    }\n",
       "\n",
       "    .dataframe thead th {\n",
       "        text-align: right;\n",
       "    }\n",
       "</style>\n",
       "<table border=\"1\" class=\"dataframe\">\n",
       "  <thead>\n",
       "    <tr style=\"text-align: right;\">\n",
       "      <th></th>\n",
       "      <th>user_id</th>\n",
       "      <th>tariff</th>\n",
       "      <th>city</th>\n",
       "      <th>month</th>\n",
       "      <th>gb_used</th>\n",
       "      <th>duration</th>\n",
       "      <th>count_minutes</th>\n",
       "      <th>count_messages</th>\n",
       "      <th>earnings</th>\n",
       "    </tr>\n",
       "  </thead>\n",
       "  <tbody>\n",
       "    <tr>\n",
       "      <td>0</td>\n",
       "      <td>1000</td>\n",
       "      <td>ultra</td>\n",
       "      <td>Краснодар</td>\n",
       "      <td>5.0</td>\n",
       "      <td>3.0</td>\n",
       "      <td>22.0</td>\n",
       "      <td>159.0</td>\n",
       "      <td>22.0</td>\n",
       "      <td>1950</td>\n",
       "    </tr>\n",
       "    <tr>\n",
       "      <td>1</td>\n",
       "      <td>1000</td>\n",
       "      <td>ultra</td>\n",
       "      <td>Краснодар</td>\n",
       "      <td>6.0</td>\n",
       "      <td>23.0</td>\n",
       "      <td>43.0</td>\n",
       "      <td>172.0</td>\n",
       "      <td>60.0</td>\n",
       "      <td>1950</td>\n",
       "    </tr>\n",
       "    <tr>\n",
       "      <td>2</td>\n",
       "      <td>1000</td>\n",
       "      <td>ultra</td>\n",
       "      <td>Краснодар</td>\n",
       "      <td>7.0</td>\n",
       "      <td>14.0</td>\n",
       "      <td>47.0</td>\n",
       "      <td>340.0</td>\n",
       "      <td>75.0</td>\n",
       "      <td>1950</td>\n",
       "    </tr>\n",
       "    <tr>\n",
       "      <td>3</td>\n",
       "      <td>1000</td>\n",
       "      <td>ultra</td>\n",
       "      <td>Краснодар</td>\n",
       "      <td>8.0</td>\n",
       "      <td>14.0</td>\n",
       "      <td>52.0</td>\n",
       "      <td>408.0</td>\n",
       "      <td>81.0</td>\n",
       "      <td>1950</td>\n",
       "    </tr>\n",
       "    <tr>\n",
       "      <td>4</td>\n",
       "      <td>1000</td>\n",
       "      <td>ultra</td>\n",
       "      <td>Краснодар</td>\n",
       "      <td>9.0</td>\n",
       "      <td>15.0</td>\n",
       "      <td>58.0</td>\n",
       "      <td>466.0</td>\n",
       "      <td>57.0</td>\n",
       "      <td>1950</td>\n",
       "    </tr>\n",
       "    <tr>\n",
       "      <td>...</td>\n",
       "      <td>...</td>\n",
       "      <td>...</td>\n",
       "      <td>...</td>\n",
       "      <td>...</td>\n",
       "      <td>...</td>\n",
       "      <td>...</td>\n",
       "      <td>...</td>\n",
       "      <td>...</td>\n",
       "      <td>...</td>\n",
       "    </tr>\n",
       "    <tr>\n",
       "      <td>3201</td>\n",
       "      <td>1498</td>\n",
       "      <td>smart</td>\n",
       "      <td>Владикавказ</td>\n",
       "      <td>10.0</td>\n",
       "      <td>21.0</td>\n",
       "      <td>41.0</td>\n",
       "      <td>247.0</td>\n",
       "      <td>42.0</td>\n",
       "      <td>1750</td>\n",
       "    </tr>\n",
       "    <tr>\n",
       "      <td>3202</td>\n",
       "      <td>1499</td>\n",
       "      <td>smart</td>\n",
       "      <td>Пермь</td>\n",
       "      <td>9.0</td>\n",
       "      <td>2.0</td>\n",
       "      <td>9.0</td>\n",
       "      <td>70.0</td>\n",
       "      <td>11.0</td>\n",
       "      <td>550</td>\n",
       "    </tr>\n",
       "    <tr>\n",
       "      <td>3203</td>\n",
       "      <td>1499</td>\n",
       "      <td>smart</td>\n",
       "      <td>Пермь</td>\n",
       "      <td>10.0</td>\n",
       "      <td>18.0</td>\n",
       "      <td>68.0</td>\n",
       "      <td>449.0</td>\n",
       "      <td>48.0</td>\n",
       "      <td>1150</td>\n",
       "    </tr>\n",
       "    <tr>\n",
       "      <td>3204</td>\n",
       "      <td>1499</td>\n",
       "      <td>smart</td>\n",
       "      <td>Пермь</td>\n",
       "      <td>11.0</td>\n",
       "      <td>18.0</td>\n",
       "      <td>74.0</td>\n",
       "      <td>612.0</td>\n",
       "      <td>59.0</td>\n",
       "      <td>1513</td>\n",
       "    </tr>\n",
       "    <tr>\n",
       "      <td>3205</td>\n",
       "      <td>1499</td>\n",
       "      <td>smart</td>\n",
       "      <td>Пермь</td>\n",
       "      <td>12.0</td>\n",
       "      <td>13.0</td>\n",
       "      <td>69.0</td>\n",
       "      <td>492.0</td>\n",
       "      <td>66.0</td>\n",
       "      <td>598</td>\n",
       "    </tr>\n",
       "  </tbody>\n",
       "</table>\n",
       "<p>3206 rows × 9 columns</p>\n",
       "</div>"
      ],
      "text/plain": [
       "      user_id tariff         city  month  gb_used  duration  count_minutes  \\\n",
       "0        1000  ultra    Краснодар    5.0      3.0      22.0          159.0   \n",
       "1        1000  ultra    Краснодар    6.0     23.0      43.0          172.0   \n",
       "2        1000  ultra    Краснодар    7.0     14.0      47.0          340.0   \n",
       "3        1000  ultra    Краснодар    8.0     14.0      52.0          408.0   \n",
       "4        1000  ultra    Краснодар    9.0     15.0      58.0          466.0   \n",
       "...       ...    ...          ...    ...      ...       ...            ...   \n",
       "3201     1498  smart  Владикавказ   10.0     21.0      41.0          247.0   \n",
       "3202     1499  smart        Пермь    9.0      2.0       9.0           70.0   \n",
       "3203     1499  smart        Пермь   10.0     18.0      68.0          449.0   \n",
       "3204     1499  smart        Пермь   11.0     18.0      74.0          612.0   \n",
       "3205     1499  smart        Пермь   12.0     13.0      69.0          492.0   \n",
       "\n",
       "      count_messages  earnings  \n",
       "0               22.0      1950  \n",
       "1               60.0      1950  \n",
       "2               75.0      1950  \n",
       "3               81.0      1950  \n",
       "4               57.0      1950  \n",
       "...              ...       ...  \n",
       "3201            42.0      1750  \n",
       "3202            11.0       550  \n",
       "3203            48.0      1150  \n",
       "3204            59.0      1513  \n",
       "3205            66.0       598  \n",
       "\n",
       "[3206 rows x 9 columns]"
      ]
     },
     "metadata": {},
     "output_type": "display_data"
    }
   ],
   "source": [
    "def earnings(row):\n",
    "    minutes = row['count_minutes']\n",
    "    messages = row['count_messages']\n",
    "    internet = row['gb_used']\n",
    "    tariff = row['tariff']\n",
    "    \n",
    "    smart_rub_per_minutes = int(tariffs[tariffs['tariff_name']=='smart']['rub_per_minute'])\n",
    "    smart_rub_per_message = int(tariffs[tariffs['tariff_name']=='smart']['rub_per_message'])\n",
    "    smart_rub_per_gb = int(tariffs[tariffs['tariff_name']=='smart']['rub_per_gb'])\n",
    "    smart_rub_monthly_fee = int(tariffs[tariffs['tariff_name']=='smart']['rub_monthly_fee'])\n",
    "    smart_minutes_included = int(tariffs[tariffs['tariff_name']=='smart']['minutes_included'])\n",
    "    smart_messages_included = int(tariffs[tariffs['tariff_name']=='smart']['messages_included'])\n",
    "    smart_gb_included = int(tariffs[tariffs['tariff_name']=='smart']['mb_per_month_included']) / 1024\n",
    "    \n",
    "    ultra_rub_per_minutes = int(tariffs[tariffs['tariff_name']=='ultra']['rub_per_minute'])\n",
    "    ultra_rub_per_message = int(tariffs[tariffs['tariff_name']=='ultra']['rub_per_message'])\n",
    "    ultra_rub_per_gb = int(tariffs[tariffs['tariff_name']=='ultra']['rub_per_gb'])\n",
    "    ultra_rub_monthly_fee = int(tariffs[tariffs['tariff_name']=='ultra']['rub_monthly_fee'])\n",
    "    ultra_minutes_included = int(tariffs[tariffs['tariff_name']=='ultra']['minutes_included'])\n",
    "    ultra_messages_included = int(tariffs[tariffs['tariff_name']=='ultra']['messages_included'])\n",
    "    ultra_gb_included = int(tariffs[tariffs['tariff_name']=='ultra']['mb_per_month_included']) / 1024\n",
    "    \n",
    "    pay_for_minutes = 0\n",
    "    pay_for_messages = 0\n",
    "    pay_for_internet = 0\n",
    "    \n",
    "\n",
    "    if tariff == 'smart':\n",
    "        rub_monthly_fee = smart_rub_monthly_fee\n",
    "        if minutes > smart_minutes_included:\n",
    "            pay_for_minutes += (minutes - smart_minutes_included) * smart_rub_per_minutes\n",
    "        if messages > smart_messages_included:\n",
    "            pay_for_messages += (messages - smart_messages_included) * smart_rub_per_message\n",
    "        if internet > smart_gb_included:\n",
    "            pay_for_internet += (internet - smart_gb_included) * smart_rub_per_gb\n",
    "        \n",
    "    elif tariff == 'ultra':\n",
    "        rub_monthly_fee = ultra_rub_monthly_fee\n",
    "        if minutes > ultra_minutes_included:\n",
    "            pay_for_minutes += (minutes - ultra_minutes_included) * ultra_rub_per_minutes\n",
    "        if messages > ultra_messages_included:\n",
    "            pay_for_messages += (messages - ultra_messages_included) * ultra_rub_per_message\n",
    "        if internet > ultra_gb_included:\n",
    "            pay_for_internet += (internet - ultra_gb_included) * ultra_rub_per_gb\n",
    "            \n",
    "    total_pay = rub_monthly_fee + pay_for_minutes + pay_for_messages + pay_for_internet\n",
    "    \n",
    "    return total_pay\n",
    "        \n",
    "        \n",
    "data['earnings'] = data.apply(earnings, axis=1)\n",
    "data['earnings'] = data['earnings'].astype('int')\n",
    "display(data)"
   ]
  },
  {
   "cell_type": "code",
   "execution_count": 47,
   "id": "87e1b329",
   "metadata": {},
   "outputs": [
    {
     "data": {
      "text/plain": [
       "min     550\n",
       "max    6770\n",
       "Name: earnings, dtype: int64"
      ]
     },
     "execution_count": 47,
     "metadata": {},
     "output_type": "execute_result"
    }
   ],
   "source": [
    "data['earnings'].agg(['min','max'])"
   ]
  },
  {
   "cell_type": "markdown",
   "id": "455cd9ec",
   "metadata": {},
   "source": [
    "## 3. Анализ данных"
   ]
  },
  {
   "cell_type": "markdown",
   "id": "49558421",
   "metadata": {},
   "source": [
    "Для каждого тарифа посчитаем посчитаем для кол-ва минут, продолжительности вызовов, кол-ва смс и интернет-трафика\n",
    "- среднее значение\n",
    "- дисперсию\n",
    "- стендартное отклонение"
   ]
  },
  {
   "cell_type": "code",
   "execution_count": 48,
   "id": "06f0d195",
   "metadata": {},
   "outputs": [
    {
     "data": {
      "text/plain": [
       "<matplotlib.axes._subplots.AxesSubplot at 0x7f6b7a50b750>"
      ]
     },
     "execution_count": 48,
     "metadata": {},
     "output_type": "execute_result"
    },
    {
     "data": {
      "image/png": "[encoded data removed]",
      "text/plain": [
       "<Figure size 432x288 with 1 Axes>"
      ]
     },
     "metadata": {
      "needs_background": "light"
     },
     "output_type": "display_data"
    }
   ],
   "source": [
    "data[data['tariff']=='smart']['count_minutes'].hist(bins=[0,200,400,600,800,1000,1400,1600], alpha=0.5) # голубой график\n",
    "data[data['tariff']=='ultra']['count_minutes'].hist(bins=[0,200,400,600,800,1000,1400,1600], alpha=0.5) # оранжевый график"
   ]
  },
  {
   "cell_type": "markdown",
   "id": "466acffc",
   "metadata": {},
   "source": [
    "count_minutes_smart скошены влево\n",
    "\n",
    "count_minutes_ultra скошены вправо"
   ]
  },
  {
   "cell_type": "code",
   "execution_count": 49,
   "id": "ac26272f",
   "metadata": {},
   "outputs": [
    {
     "data": {
      "text/plain": [
       "<matplotlib.axes._subplots.AxesSubplot at 0x7f6b79732050>"
      ]
     },
     "execution_count": 49,
     "metadata": {},
     "output_type": "execute_result"
    },
    {
     "data": {
      "image/png": "[encoded data removed]",
      "text/plain": [
       "<Figure size 432x288 with 1 Axes>"
      ]
     },
     "metadata": {
      "needs_background": "light"
     },
     "output_type": "display_data"
    }
   ],
   "source": [
    "data[data['tariff']=='smart']['duration'].hist(bins=[0,20,40,60,80,100,120,140,160,180,200], alpha=0.5) # голубой график\n",
    "data[data['tariff']=='ultra']['duration'].hist(bins=[0,20,40,60,80,100,120,140,160,180,200], alpha=0.5) # оранжевый график"
   ]
  },
  {
   "cell_type": "markdown",
   "id": "5e4c73b7",
   "metadata": {},
   "source": [
    "duration_smart скошены влево\n",
    "\n",
    "duration_ultra скошены вправо"
   ]
  },
  {
   "cell_type": "code",
   "execution_count": 50,
   "id": "f67c7bc5",
   "metadata": {},
   "outputs": [
    {
     "data": {
      "text/plain": [
       "<matplotlib.axes._subplots.AxesSubplot at 0x7f6b796e6590>"
      ]
     },
     "execution_count": 50,
     "metadata": {},
     "output_type": "execute_result"
    },
    {
     "data": {
      "image/png": "[encoded data removed]",
      "text/plain": [
       "<Figure size 432x288 with 1 Axes>"
      ]
     },
     "metadata": {
      "needs_background": "light"
     },
     "output_type": "display_data"
    }
   ],
   "source": [
    "data[data['tariff']=='smart']['count_messages'].hist(bins=[0,20,40,60,80,100,120,140,160,180,200], alpha=0.5) # голубой график\n",
    "data[data['tariff']=='ultra']['count_messages'].hist(bins=[0,20,40,60,80,100,120,140,160,180,200], alpha=0.5) # оранжевый график"
   ]
  },
  {
   "cell_type": "markdown",
   "id": "4dfd86fc",
   "metadata": {},
   "source": [
    "count_messages_smart скошены вправо\n",
    "\n",
    "count_messages_ultra скошены вправо"
   ]
  },
  {
   "cell_type": "code",
   "execution_count": 51,
   "id": "8f066c04",
   "metadata": {},
   "outputs": [
    {
     "data": {
      "text/plain": [
       "<matplotlib.axes._subplots.AxesSubplot at 0x7f6b79571190>"
      ]
     },
     "execution_count": 51,
     "metadata": {},
     "output_type": "execute_result"
    },
    {
     "data": {
      "image/png": "[encoded data removed]",
      "text/plain": [
       "<Figure size 432x288 with 1 Axes>"
      ]
     },
     "metadata": {
      "needs_background": "light"
     },
     "output_type": "display_data"
    }
   ],
   "source": [
    "data[data['tariff']=='smart']['gb_used'].hist(bins=[0,5,10,15,20,25,30,35,40,45,50,55,60], alpha=0.5) # голубой график\n",
    "data[data['tariff']=='ultra']['gb_used'].hist(bins=[0,5,10,15,20,25,30,35,40,45,50,55,60], alpha=0.5) # оранжевый график"
   ]
  },
  {
   "cell_type": "markdown",
   "id": "99c33bbb",
   "metadata": {},
   "source": [
    "gb_used_smart распределены нормально\n",
    "\n",
    "gb_used_messages_ultra рапределены нормально"
   ]
  },
  {
   "cell_type": "code",
   "execution_count": 52,
   "id": "440ed2ff",
   "metadata": {},
   "outputs": [
    {
     "name": "stdout",
     "output_type": "stream",
     "text": [
      "SMART\n",
      "Среднее количество минут в месяц 417.9125168236877\n",
      "Средняя продолжительность в месяц 58.46164199192463\n",
      "Среднее количество сообщений в месяц 33.3835800807537\n",
      "Средний расход интернет-трафика в месяц 16.33617594254937\n",
      "\n",
      "ULTRA\n",
      "Среднее количество минут в месяц 528.6653019447288\n",
      "Средняя продолжительность в месяц 73.64073694984647\n",
      "Среднее количество сообщений в месяц 49.48413510747185\n",
      "Средний расход интернет-трафика в месяц 19.694358974358973\n"
     ]
    }
   ],
   "source": [
    "print('SMART')\n",
    "\n",
    "avg_count_minutes_smart = data[data['tariff']=='smart']['count_minutes'].mean()\n",
    "print('Среднее количество минут в месяц', avg_count_minutes_smart)\n",
    "\n",
    "avg_duration_smart = data[data['tariff']=='smart']['duration'].mean()\n",
    "print('Средняя продолжительность в месяц', avg_duration_smart)\n",
    "\n",
    "avg_count_messages_smart = data[data['tariff']=='smart']['count_messages'].mean()\n",
    "print('Среднее количество сообщений в месяц', avg_count_messages_smart)\n",
    "\n",
    "avg_internet_smart = data[data['tariff']=='smart']['gb_used'].mean()\n",
    "print('Средний расход интернет-трафика в месяц', avg_internet_smart)\n",
    "print()\n",
    "print('ULTRA')\n",
    "\n",
    "avg_count_minutes_ultra = data[data['tariff']=='ultra']['count_minutes'].mean()\n",
    "print('Среднее количество минут в месяц', avg_count_minutes_ultra)\n",
    "\n",
    "avg_duration_ultra = data[data['tariff']=='ultra']['duration'].mean()\n",
    "print('Средняя продолжительность в месяц', avg_duration_ultra)\n",
    "\n",
    "avg_count_messages_ultra = data[data['tariff']=='ultra']['count_messages'].mean()\n",
    "print('Среднее количество сообщений в месяц', avg_count_messages_ultra)\n",
    "\n",
    "avg_internet_ultra = data[data['tariff']=='ultra']['gb_used'].mean()\n",
    "print('Средний расход интернет-трафика в месяц', avg_internet_ultra)"
   ]
  },
  {
   "cell_type": "code",
   "execution_count": 53,
   "id": "104b71a6",
   "metadata": {},
   "outputs": [
    {
     "name": "stdout",
     "output_type": "stream",
     "text": [
      "SMART\n",
      "Дисперсия количества минут в месяц 36220.694455262725\n",
      "Дисперсия продолжительности в месяц 672.7770167744771\n",
      "Дисперсия количества сообщений в месяц 796.4849883494642\n",
      "Дисперсия расхода интернет-трафика в месяц 32.908978554322495\n",
      "\n",
      "ULTRA\n",
      "Дисперсия количества минут в месяц 101147.34857086584\n",
      "Дисперсия продолжительности в месяц 1935.998872742473\n",
      "Дисперсия количества сообщений в месяц 2299.8792262990437\n",
      "Дисперсия расхода интернет-трафика в месяц 94.05017330703484\n"
     ]
    }
   ],
   "source": [
    "print('SMART')\n",
    "\n",
    "var_count_minutes_smart = np.var(data[data['tariff']=='smart']['count_minutes'])\n",
    "print('Дисперсия количества минут в месяц', var_count_minutes_smart)\n",
    "\n",
    "var_duration_smart = np.var(data[data['tariff']=='smart']['duration'])\n",
    "print('Дисперсия продолжительности в месяц', var_duration_smart)\n",
    "\n",
    "var_count_messages_smart = np.var(data[data['tariff']=='smart']['count_messages'])\n",
    "print('Дисперсия количества сообщений в месяц', var_count_messages_smart)\n",
    "\n",
    "var_internet_smart = np.var(data[data['tariff']=='smart']['gb_used'])\n",
    "print('Дисперсия расхода интернет-трафика в месяц', var_internet_smart)\n",
    "\n",
    "print()\n",
    "\n",
    "print('ULTRA')\n",
    "\n",
    "var_count_minutes_ultra = np.var(data[data['tariff']=='ultra']['count_minutes'])\n",
    "print('Дисперсия количества минут в месяц', var_count_minutes_ultra)\n",
    "\n",
    "var_duration_ultra = np.var(data[data['tariff']=='ultra']['duration'])\n",
    "print('Дисперсия продолжительности в месяц', var_duration_ultra)\n",
    "\n",
    "var_count_messages_ultra = np.var(data[data['tariff']=='ultra']['count_messages'])\n",
    "print('Дисперсия количества сообщений в месяц', var_count_messages_ultra)\n",
    "\n",
    "var_internet_ultra = np.var(data[data['tariff']=='ultra']['gb_used'])\n",
    "print('Дисперсия расхода интернет-трафика в месяц', var_internet_ultra)"
   ]
  },
  {
   "cell_type": "code",
   "execution_count": 54,
   "id": "9f5b8e19",
   "metadata": {},
   "outputs": [
    {
     "name": "stdout",
     "output_type": "stream",
     "text": [
      "SMART\n",
      "Стандартное отклонение количества минут в месяц 190.3173519552611\n",
      "Стандартное отклонение продолжительности в месяц 25.93794550026037\n",
      "Стандартное отклонение количества сообщений в месяц 28.222065628678994\n",
      "Стандартное отклонение расхода интернет-трафика в месяц 5.73663477609674\n",
      "\n",
      "ULTRA\n",
      "Стандартное отклонение количества минут в месяц 318.036709470567\n",
      "Стандартное отклонение продолжительности в месяц 43.999987190253506\n",
      "Стандартное отклонение количества сообщений в месяц 47.95705606372272\n",
      "Стандартное отклонение расхода интернет-трафика в месяц 9.697946860394463\n"
     ]
    }
   ],
   "source": [
    "print('SMART')\n",
    "\n",
    "str_count_minutes_smart = sqrt(var_count_minutes_smart)\n",
    "print('Стандартное отклонение количества минут в месяц', str_count_minutes_smart)\n",
    "\n",
    "str_duration_smart = sqrt(var_duration_smart)\n",
    "print('Стандартное отклонение продолжительности в месяц', str_duration_smart)\n",
    "\n",
    "str_count_messages_smart = sqrt(var_count_messages_smart)\n",
    "print('Стандартное отклонение количества сообщений в месяц', str_count_messages_smart)\n",
    "\n",
    "str_internet_smart = sqrt(var_internet_smart)\n",
    "print('Стандартное отклонение расхода интернет-трафика в месяц', str_internet_smart)\n",
    "\n",
    "print()\n",
    "\n",
    "print('ULTRA')\n",
    "\n",
    "str_count_minutes_ultra = sqrt(var_count_minutes_ultra)\n",
    "print('Стандартное отклонение количества минут в месяц', str_count_minutes_ultra)\n",
    "\n",
    "str_duration_ultra = sqrt(var_duration_ultra)\n",
    "print('Стандартное отклонение продолжительности в месяц', str_duration_ultra)\n",
    "\n",
    "str_count_messages_ultra = sqrt(var_count_messages_ultra)\n",
    "print('Стандартное отклонение количества сообщений в месяц', str_count_messages_ultra)\n",
    "\n",
    "str_internet_ultra = sqrt(var_internet_ultra)\n",
    "print('Стандартное отклонение расхода интернет-трафика в месяц', str_internet_ultra)"
   ]
  },
  {
   "cell_type": "code",
   "execution_count": 55,
   "id": "155f9c08",
   "metadata": {},
   "outputs": [
    {
     "name": "stdout",
     "output_type": "stream",
     "text": [
      "Общее количество пользователей тарифа smart: 2229\n",
      "Количество пользователей тарифа smart с превышением абонентской платы: 1662\n",
      "Процент пользователей тарифа smart, превышающий абонентской платы: 74.56258411843876\n",
      "Средняя переплата по тарифу smart 992.4193742478942\n"
     ]
    }
   ],
   "source": [
    "# посчитаем, скольк человек и какой процент от общего количества в тарифе smart превышают абонентскую плату, \n",
    "# аналогично поступим и с тарифом ultra\n",
    "smart_rub_monthly_fee = int(tariffs[tariffs['tariff_name']=='smart']['rub_monthly_fee'])\n",
    "count_smart = data[data['tariff']=='smart']['user_id'].count()\n",
    "count_smart_excess = data[(data['earnings']>smart_rub_monthly_fee)&(data['tariff']=='smart')]['user_id'].count()\n",
    "percent_smart_excess = count_smart_excess / count_smart * 100\n",
    "print('Общее количество пользователей тарифа smart:', count_smart)\n",
    "print('Количество пользователей тарифа smart с превышением абонентской платы:', count_smart_excess)\n",
    "print('Процент пользователей тарифа smart, превышающий абонентской платы:', percent_smart_excess)\n",
    "print('Средняя переплата по тарифу smart', data[(data['earnings']>smart_rub_monthly_fee)&(data['tariff']=='smart')]['earnings'].mean() - smart_rub_monthly_fee)"
   ]
  },
  {
   "cell_type": "code",
   "execution_count": 56,
   "id": "be843925",
   "metadata": {
    "scrolled": true
   },
   "outputs": [
    {
     "name": "stdout",
     "output_type": "stream",
     "text": [
      "Общее количество пользователей тарифа ultra: 977\n",
      "Количество пользователей тарифа ultra с превышением абонентской платы: 134\n",
      "Процент пользователей тарифа ultra, превышающий абонентской платы: 13.715455475946776\n",
      "Средняя переплата по тарифу ultra 883.2089552238808\n"
     ]
    }
   ],
   "source": [
    "ultra_rub_monthly_fee = int(tariffs[tariffs['tariff_name']=='ultra']['rub_monthly_fee'])\n",
    "count_ultra = data[data['tariff']=='ultra']['user_id'].count()\n",
    "count_ultra_excess = data[(data['earnings']>ultra_rub_monthly_fee)&(data['tariff']=='ultra')]['user_id'].count()\n",
    "percent_ultra_excess = count_ultra_excess / count_ultra * 100\n",
    "print('Общее количество пользователей тарифа ultra:', count_ultra)\n",
    "print('Количество пользователей тарифа ultra с превышением абонентской платы:', count_ultra_excess)\n",
    "print('Процент пользователей тарифа ultra, превышающий абонентской платы:', percent_ultra_excess)\n",
    "print('Средняя переплата по тарифу ultra', data[(data['earnings']>ultra_rub_monthly_fee)&(data['tariff']=='ultra')]['earnings'].mean() - ultra_rub_monthly_fee)"
   ]
  },
  {
   "cell_type": "markdown",
   "id": "54bbfd90",
   "metadata": {},
   "source": [
    "Здесь хорошо видно, что процент переплачивающий пользователей по тарифу smart очень велик: почти 75%! А в тарифе ultra всего 14%. То есть пользователям smart со средней переплатой в почти 1000 рублей невыгодно быть на этом тарифе, так как в среднем их 1500 рублей - это почти тариф ultra, но в ultra сильно больше включено и минут, и сообщений, и интернета, поэтому на мой взгляд выгоднее брать тариф ultra тем пользователям, кто регулярно выходят их абонентской платы. А для самого поставщика связи так же выгоднее, если большинство пользователей приобретут ultra, так как выручка вырастет за счет самой высокой абонентской платы."
   ]
  },
  {
   "cell_type": "markdown",
   "id": "4ae1fab7",
   "metadata": {},
   "source": [
    "## 4. Формулирование и проверка гипотез"
   ]
  },
  {
   "cell_type": "markdown",
   "id": "13edacb2",
   "metadata": {},
   "source": [
    "Сформулируем нулевую гипотезу Н0: \"Средняя выручка пользователей тарифов «Ультра» и «Смарт» равны\". Сформулируем альтернативную гипотезу Н1: \"Средняя выручка пользователей тарифов «Ультра» и «Смарт» различаются\".\n",
    "Для этого получим два отдельных датасета с тарифами ultra и smart"
   ]
  },
  {
   "cell_type": "code",
   "execution_count": 57,
   "id": "3c9ee779",
   "metadata": {
    "scrolled": false
   },
   "outputs": [
    {
     "data": {
      "text/html": [
       "<div>\n",
       "<style scoped>\n",
       "    .dataframe tbody tr th:only-of-type {\n",
       "        vertical-align: middle;\n",
       "    }\n",
       "\n",
       "    .dataframe tbody tr th {\n",
       "        vertical-align: top;\n",
       "    }\n",
       "\n",
       "    .dataframe thead th {\n",
       "        text-align: right;\n",
       "    }\n",
       "</style>\n",
       "<table border=\"1\" class=\"dataframe\">\n",
       "  <thead>\n",
       "    <tr style=\"text-align: right;\">\n",
       "      <th></th>\n",
       "      <th>user_id</th>\n",
       "      <th>tariff</th>\n",
       "      <th>city</th>\n",
       "      <th>month</th>\n",
       "      <th>gb_used</th>\n",
       "      <th>duration</th>\n",
       "      <th>count_minutes</th>\n",
       "      <th>count_messages</th>\n",
       "      <th>earnings</th>\n",
       "    </tr>\n",
       "  </thead>\n",
       "  <tbody>\n",
       "    <tr>\n",
       "      <td>8</td>\n",
       "      <td>1001</td>\n",
       "      <td>smart</td>\n",
       "      <td>Москва</td>\n",
       "      <td>11.0</td>\n",
       "      <td>18.0</td>\n",
       "      <td>59.0</td>\n",
       "      <td>430.0</td>\n",
       "      <td>0.0</td>\n",
       "      <td>1150</td>\n",
       "    </tr>\n",
       "    <tr>\n",
       "      <td>9</td>\n",
       "      <td>1001</td>\n",
       "      <td>smart</td>\n",
       "      <td>Москва</td>\n",
       "      <td>12.0</td>\n",
       "      <td>14.0</td>\n",
       "      <td>63.0</td>\n",
       "      <td>414.0</td>\n",
       "      <td>0.0</td>\n",
       "      <td>550</td>\n",
       "    </tr>\n",
       "    <tr>\n",
       "      <td>10</td>\n",
       "      <td>1002</td>\n",
       "      <td>smart</td>\n",
       "      <td>Стерлитамак</td>\n",
       "      <td>6.0</td>\n",
       "      <td>11.0</td>\n",
       "      <td>15.0</td>\n",
       "      <td>117.0</td>\n",
       "      <td>4.0</td>\n",
       "      <td>550</td>\n",
       "    </tr>\n",
       "    <tr>\n",
       "      <td>11</td>\n",
       "      <td>1002</td>\n",
       "      <td>smart</td>\n",
       "      <td>Стерлитамак</td>\n",
       "      <td>7.0</td>\n",
       "      <td>18.0</td>\n",
       "      <td>26.0</td>\n",
       "      <td>214.0</td>\n",
       "      <td>11.0</td>\n",
       "      <td>1150</td>\n",
       "    </tr>\n",
       "    <tr>\n",
       "      <td>12</td>\n",
       "      <td>1002</td>\n",
       "      <td>smart</td>\n",
       "      <td>Стерлитамак</td>\n",
       "      <td>8.0</td>\n",
       "      <td>20.0</td>\n",
       "      <td>42.0</td>\n",
       "      <td>289.0</td>\n",
       "      <td>13.0</td>\n",
       "      <td>1550</td>\n",
       "    </tr>\n",
       "    <tr>\n",
       "      <td>...</td>\n",
       "      <td>...</td>\n",
       "      <td>...</td>\n",
       "      <td>...</td>\n",
       "      <td>...</td>\n",
       "      <td>...</td>\n",
       "      <td>...</td>\n",
       "      <td>...</td>\n",
       "      <td>...</td>\n",
       "      <td>...</td>\n",
       "    </tr>\n",
       "    <tr>\n",
       "      <td>3201</td>\n",
       "      <td>1498</td>\n",
       "      <td>smart</td>\n",
       "      <td>Владикавказ</td>\n",
       "      <td>10.0</td>\n",
       "      <td>21.0</td>\n",
       "      <td>41.0</td>\n",
       "      <td>247.0</td>\n",
       "      <td>42.0</td>\n",
       "      <td>1750</td>\n",
       "    </tr>\n",
       "    <tr>\n",
       "      <td>3202</td>\n",
       "      <td>1499</td>\n",
       "      <td>smart</td>\n",
       "      <td>Пермь</td>\n",
       "      <td>9.0</td>\n",
       "      <td>2.0</td>\n",
       "      <td>9.0</td>\n",
       "      <td>70.0</td>\n",
       "      <td>11.0</td>\n",
       "      <td>550</td>\n",
       "    </tr>\n",
       "    <tr>\n",
       "      <td>3203</td>\n",
       "      <td>1499</td>\n",
       "      <td>smart</td>\n",
       "      <td>Пермь</td>\n",
       "      <td>10.0</td>\n",
       "      <td>18.0</td>\n",
       "      <td>68.0</td>\n",
       "      <td>449.0</td>\n",
       "      <td>48.0</td>\n",
       "      <td>1150</td>\n",
       "    </tr>\n",
       "    <tr>\n",
       "      <td>3204</td>\n",
       "      <td>1499</td>\n",
       "      <td>smart</td>\n",
       "      <td>Пермь</td>\n",
       "      <td>11.0</td>\n",
       "      <td>18.0</td>\n",
       "      <td>74.0</td>\n",
       "      <td>612.0</td>\n",
       "      <td>59.0</td>\n",
       "      <td>1513</td>\n",
       "    </tr>\n",
       "    <tr>\n",
       "      <td>3205</td>\n",
       "      <td>1499</td>\n",
       "      <td>smart</td>\n",
       "      <td>Пермь</td>\n",
       "      <td>12.0</td>\n",
       "      <td>13.0</td>\n",
       "      <td>69.0</td>\n",
       "      <td>492.0</td>\n",
       "      <td>66.0</td>\n",
       "      <td>598</td>\n",
       "    </tr>\n",
       "  </tbody>\n",
       "</table>\n",
       "<p>2229 rows × 9 columns</p>\n",
       "</div>"
      ],
      "text/plain": [
       "      user_id tariff         city  month  gb_used  duration  count_minutes  \\\n",
       "8        1001  smart       Москва   11.0     18.0      59.0          430.0   \n",
       "9        1001  smart       Москва   12.0     14.0      63.0          414.0   \n",
       "10       1002  smart  Стерлитамак    6.0     11.0      15.0          117.0   \n",
       "11       1002  smart  Стерлитамак    7.0     18.0      26.0          214.0   \n",
       "12       1002  smart  Стерлитамак    8.0     20.0      42.0          289.0   \n",
       "...       ...    ...          ...    ...      ...       ...            ...   \n",
       "3201     1498  smart  Владикавказ   10.0     21.0      41.0          247.0   \n",
       "3202     1499  smart        Пермь    9.0      2.0       9.0           70.0   \n",
       "3203     1499  smart        Пермь   10.0     18.0      68.0          449.0   \n",
       "3204     1499  smart        Пермь   11.0     18.0      74.0          612.0   \n",
       "3205     1499  smart        Пермь   12.0     13.0      69.0          492.0   \n",
       "\n",
       "      count_messages  earnings  \n",
       "8                0.0      1150  \n",
       "9                0.0       550  \n",
       "10               4.0       550  \n",
       "11              11.0      1150  \n",
       "12              13.0      1550  \n",
       "...              ...       ...  \n",
       "3201            42.0      1750  \n",
       "3202            11.0       550  \n",
       "3203            48.0      1150  \n",
       "3204            59.0      1513  \n",
       "3205            66.0       598  \n",
       "\n",
       "[2229 rows x 9 columns]"
      ]
     },
     "metadata": {},
     "output_type": "display_data"
    },
    {
     "data": {
      "text/html": [
       "<div>\n",
       "<style scoped>\n",
       "    .dataframe tbody tr th:only-of-type {\n",
       "        vertical-align: middle;\n",
       "    }\n",
       "\n",
       "    .dataframe tbody tr th {\n",
       "        vertical-align: top;\n",
       "    }\n",
       "\n",
       "    .dataframe thead th {\n",
       "        text-align: right;\n",
       "    }\n",
       "</style>\n",
       "<table border=\"1\" class=\"dataframe\">\n",
       "  <thead>\n",
       "    <tr style=\"text-align: right;\">\n",
       "      <th></th>\n",
       "      <th>user_id</th>\n",
       "      <th>tariff</th>\n",
       "      <th>city</th>\n",
       "      <th>month</th>\n",
       "      <th>gb_used</th>\n",
       "      <th>duration</th>\n",
       "      <th>count_minutes</th>\n",
       "      <th>count_messages</th>\n",
       "      <th>earnings</th>\n",
       "    </tr>\n",
       "  </thead>\n",
       "  <tbody>\n",
       "    <tr>\n",
       "      <td>0</td>\n",
       "      <td>1000</td>\n",
       "      <td>ultra</td>\n",
       "      <td>Краснодар</td>\n",
       "      <td>5.0</td>\n",
       "      <td>3.0</td>\n",
       "      <td>22.0</td>\n",
       "      <td>159.0</td>\n",
       "      <td>22.0</td>\n",
       "      <td>1950</td>\n",
       "    </tr>\n",
       "    <tr>\n",
       "      <td>1</td>\n",
       "      <td>1000</td>\n",
       "      <td>ultra</td>\n",
       "      <td>Краснодар</td>\n",
       "      <td>6.0</td>\n",
       "      <td>23.0</td>\n",
       "      <td>43.0</td>\n",
       "      <td>172.0</td>\n",
       "      <td>60.0</td>\n",
       "      <td>1950</td>\n",
       "    </tr>\n",
       "    <tr>\n",
       "      <td>2</td>\n",
       "      <td>1000</td>\n",
       "      <td>ultra</td>\n",
       "      <td>Краснодар</td>\n",
       "      <td>7.0</td>\n",
       "      <td>14.0</td>\n",
       "      <td>47.0</td>\n",
       "      <td>340.0</td>\n",
       "      <td>75.0</td>\n",
       "      <td>1950</td>\n",
       "    </tr>\n",
       "    <tr>\n",
       "      <td>3</td>\n",
       "      <td>1000</td>\n",
       "      <td>ultra</td>\n",
       "      <td>Краснодар</td>\n",
       "      <td>8.0</td>\n",
       "      <td>14.0</td>\n",
       "      <td>52.0</td>\n",
       "      <td>408.0</td>\n",
       "      <td>81.0</td>\n",
       "      <td>1950</td>\n",
       "    </tr>\n",
       "    <tr>\n",
       "      <td>4</td>\n",
       "      <td>1000</td>\n",
       "      <td>ultra</td>\n",
       "      <td>Краснодар</td>\n",
       "      <td>9.0</td>\n",
       "      <td>15.0</td>\n",
       "      <td>58.0</td>\n",
       "      <td>466.0</td>\n",
       "      <td>57.0</td>\n",
       "      <td>1950</td>\n",
       "    </tr>\n",
       "    <tr>\n",
       "      <td>...</td>\n",
       "      <td>...</td>\n",
       "      <td>...</td>\n",
       "      <td>...</td>\n",
       "      <td>...</td>\n",
       "      <td>...</td>\n",
       "      <td>...</td>\n",
       "      <td>...</td>\n",
       "      <td>...</td>\n",
       "      <td>...</td>\n",
       "    </tr>\n",
       "    <tr>\n",
       "      <td>3178</td>\n",
       "      <td>1495</td>\n",
       "      <td>ultra</td>\n",
       "      <td>Иркутск</td>\n",
       "      <td>8.0</td>\n",
       "      <td>3.0</td>\n",
       "      <td>17.0</td>\n",
       "      <td>92.0</td>\n",
       "      <td>13.0</td>\n",
       "      <td>1950</td>\n",
       "    </tr>\n",
       "    <tr>\n",
       "      <td>3179</td>\n",
       "      <td>1495</td>\n",
       "      <td>ultra</td>\n",
       "      <td>Иркутск</td>\n",
       "      <td>9.0</td>\n",
       "      <td>33.0</td>\n",
       "      <td>112.0</td>\n",
       "      <td>813.0</td>\n",
       "      <td>82.0</td>\n",
       "      <td>2400</td>\n",
       "    </tr>\n",
       "    <tr>\n",
       "      <td>3180</td>\n",
       "      <td>1495</td>\n",
       "      <td>ultra</td>\n",
       "      <td>Иркутск</td>\n",
       "      <td>10.0</td>\n",
       "      <td>29.0</td>\n",
       "      <td>152.0</td>\n",
       "      <td>1030.0</td>\n",
       "      <td>82.0</td>\n",
       "      <td>1950</td>\n",
       "    </tr>\n",
       "    <tr>\n",
       "      <td>3181</td>\n",
       "      <td>1495</td>\n",
       "      <td>ultra</td>\n",
       "      <td>Иркутск</td>\n",
       "      <td>11.0</td>\n",
       "      <td>39.0</td>\n",
       "      <td>129.0</td>\n",
       "      <td>954.0</td>\n",
       "      <td>79.0</td>\n",
       "      <td>3300</td>\n",
       "    </tr>\n",
       "    <tr>\n",
       "      <td>3182</td>\n",
       "      <td>1495</td>\n",
       "      <td>ultra</td>\n",
       "      <td>Иркутск</td>\n",
       "      <td>12.0</td>\n",
       "      <td>23.0</td>\n",
       "      <td>155.0</td>\n",
       "      <td>1031.0</td>\n",
       "      <td>84.0</td>\n",
       "      <td>1950</td>\n",
       "    </tr>\n",
       "  </tbody>\n",
       "</table>\n",
       "<p>977 rows × 9 columns</p>\n",
       "</div>"
      ],
      "text/plain": [
       "      user_id tariff       city  month  gb_used  duration  count_minutes  \\\n",
       "0        1000  ultra  Краснодар    5.0      3.0      22.0          159.0   \n",
       "1        1000  ultra  Краснодар    6.0     23.0      43.0          172.0   \n",
       "2        1000  ultra  Краснодар    7.0     14.0      47.0          340.0   \n",
       "3        1000  ultra  Краснодар    8.0     14.0      52.0          408.0   \n",
       "4        1000  ultra  Краснодар    9.0     15.0      58.0          466.0   \n",
       "...       ...    ...        ...    ...      ...       ...            ...   \n",
       "3178     1495  ultra    Иркутск    8.0      3.0      17.0           92.0   \n",
       "3179     1495  ultra    Иркутск    9.0     33.0     112.0          813.0   \n",
       "3180     1495  ultra    Иркутск   10.0     29.0     152.0         1030.0   \n",
       "3181     1495  ultra    Иркутск   11.0     39.0     129.0          954.0   \n",
       "3182     1495  ultra    Иркутск   12.0     23.0     155.0         1031.0   \n",
       "\n",
       "      count_messages  earnings  \n",
       "0               22.0      1950  \n",
       "1               60.0      1950  \n",
       "2               75.0      1950  \n",
       "3               81.0      1950  \n",
       "4               57.0      1950  \n",
       "...              ...       ...  \n",
       "3178            13.0      1950  \n",
       "3179            82.0      2400  \n",
       "3180            82.0      1950  \n",
       "3181            79.0      3300  \n",
       "3182            84.0      1950  \n",
       "\n",
       "[977 rows x 9 columns]"
      ]
     },
     "metadata": {},
     "output_type": "display_data"
    }
   ],
   "source": [
    "data_smart = data[data['tariff']=='smart']\n",
    "data_ultra = data[data['tariff']=='ultra']\n",
    "display(data_smart)\n",
    "display(data_ultra)"
   ]
  },
  {
   "cell_type": "code",
   "execution_count": 58,
   "id": "b6223934",
   "metadata": {},
   "outputs": [
    {
     "name": "stdout",
     "output_type": "stream",
     "text": [
      "Средняя выручка тарифа smart: 1289.9735307312696\n",
      "Средняя выручка тарифа ultra: 2071.136131013306\n"
     ]
    }
   ],
   "source": [
    "avg_earnings_smart = data_smart['earnings'].mean()\n",
    "avg_earnings_ultra = data_ultra['earnings'].mean()\n",
    "print('Средняя выручка тарифа smart:', avg_earnings_smart)\n",
    "print('Средняя выручка тарифа ultra:', avg_earnings_ultra)"
   ]
  },
  {
   "cell_type": "code",
   "execution_count": 59,
   "id": "f1768d48",
   "metadata": {
    "scrolled": false
   },
   "outputs": [
    {
     "name": "stdout",
     "output_type": "stream",
     "text": [
      "p-значение: 9.59472004286221e-160\n",
      "Отвергаем нулевую гипотезу\n"
     ]
    }
   ],
   "source": [
    "# теперь выполним этот с помощью метода ttest_ind (так как две разные выборки и их размеры неравны)\n",
    "list_earnings_smart = []\n",
    "for i in data_smart['earnings']:\n",
    "    list_earnings_smart.append(i)\n",
    "\n",
    "list_earnings_ultra = []\n",
    "for i in data_ultra['earnings']:\n",
    "    list_earnings_ultra.append(i)\n",
    "    \n",
    "alpha = 0.05 # критический уровень статистической значимости\n",
    "\n",
    "results = st.ttest_ind(list_earnings_smart, list_earnings_ultra)\n",
    "\n",
    "print('p-значение:', results.pvalue)\n",
    "\n",
    "if results.pvalue < alpha:\n",
    "    print(\"Отвергаем нулевую гипотезу\")\n",
    "else:\n",
    "    print(\"Не получилось отвергнуть нулевую гипотезу\")"
   ]
  },
  {
   "cell_type": "markdown",
   "id": "867da837",
   "metadata": {},
   "source": [
    "Действительно, средние значения по двум выборкам отличаются. То есть, отвергаем гипотезу H1. Далее переходим к альтернативной гипотезе Н1 \"Средняя выручка пользователей тарифов «Ультра» и «Смарт» различаются\". Причем, как видно из расчитаных средних выручек, выручка по тарифу ultra больше. Подтверждается, как и в пункте 3, в выводе."
   ]
  },
  {
   "cell_type": "markdown",
   "id": "de5c6513",
   "metadata": {},
   "source": [
    "Сформулируем нулевую гипотезу Н0: \"Средняя выручка пользователей из Москвы равна средней выручке пользователей из других регионов\". Сформулируем альтернативную гипотезу Н1: \"Средняя выручка пользователей из Москвы отличается от выручки пользователей из других регионов\" Для этого снова создадим два новых датафрейма для пользователей Москвы и регионов."
   ]
  },
  {
   "cell_type": "code",
   "execution_count": 60,
   "id": "863443e4",
   "metadata": {},
   "outputs": [
    {
     "data": {
      "text/html": [
       "<div>\n",
       "<style scoped>\n",
       "    .dataframe tbody tr th:only-of-type {\n",
       "        vertical-align: middle;\n",
       "    }\n",
       "\n",
       "    .dataframe tbody tr th {\n",
       "        vertical-align: top;\n",
       "    }\n",
       "\n",
       "    .dataframe thead th {\n",
       "        text-align: right;\n",
       "    }\n",
       "</style>\n",
       "<table border=\"1\" class=\"dataframe\">\n",
       "  <thead>\n",
       "    <tr style=\"text-align: right;\">\n",
       "      <th></th>\n",
       "      <th>user_id</th>\n",
       "      <th>tariff</th>\n",
       "      <th>city</th>\n",
       "      <th>month</th>\n",
       "      <th>gb_used</th>\n",
       "      <th>duration</th>\n",
       "      <th>count_minutes</th>\n",
       "      <th>count_messages</th>\n",
       "      <th>earnings</th>\n",
       "    </tr>\n",
       "  </thead>\n",
       "  <tbody>\n",
       "    <tr>\n",
       "      <td>0</td>\n",
       "      <td>1000</td>\n",
       "      <td>ultra</td>\n",
       "      <td>Краснодар</td>\n",
       "      <td>5.0</td>\n",
       "      <td>3.0</td>\n",
       "      <td>22.0</td>\n",
       "      <td>159.0</td>\n",
       "      <td>22.0</td>\n",
       "      <td>1950</td>\n",
       "    </tr>\n",
       "    <tr>\n",
       "      <td>1</td>\n",
       "      <td>1000</td>\n",
       "      <td>ultra</td>\n",
       "      <td>Краснодар</td>\n",
       "      <td>6.0</td>\n",
       "      <td>23.0</td>\n",
       "      <td>43.0</td>\n",
       "      <td>172.0</td>\n",
       "      <td>60.0</td>\n",
       "      <td>1950</td>\n",
       "    </tr>\n",
       "    <tr>\n",
       "      <td>2</td>\n",
       "      <td>1000</td>\n",
       "      <td>ultra</td>\n",
       "      <td>Краснодар</td>\n",
       "      <td>7.0</td>\n",
       "      <td>14.0</td>\n",
       "      <td>47.0</td>\n",
       "      <td>340.0</td>\n",
       "      <td>75.0</td>\n",
       "      <td>1950</td>\n",
       "    </tr>\n",
       "    <tr>\n",
       "      <td>3</td>\n",
       "      <td>1000</td>\n",
       "      <td>ultra</td>\n",
       "      <td>Краснодар</td>\n",
       "      <td>8.0</td>\n",
       "      <td>14.0</td>\n",
       "      <td>52.0</td>\n",
       "      <td>408.0</td>\n",
       "      <td>81.0</td>\n",
       "      <td>1950</td>\n",
       "    </tr>\n",
       "    <tr>\n",
       "      <td>4</td>\n",
       "      <td>1000</td>\n",
       "      <td>ultra</td>\n",
       "      <td>Краснодар</td>\n",
       "      <td>9.0</td>\n",
       "      <td>15.0</td>\n",
       "      <td>58.0</td>\n",
       "      <td>466.0</td>\n",
       "      <td>57.0</td>\n",
       "      <td>1950</td>\n",
       "    </tr>\n",
       "    <tr>\n",
       "      <td>...</td>\n",
       "      <td>...</td>\n",
       "      <td>...</td>\n",
       "      <td>...</td>\n",
       "      <td>...</td>\n",
       "      <td>...</td>\n",
       "      <td>...</td>\n",
       "      <td>...</td>\n",
       "      <td>...</td>\n",
       "      <td>...</td>\n",
       "    </tr>\n",
       "    <tr>\n",
       "      <td>3201</td>\n",
       "      <td>1498</td>\n",
       "      <td>smart</td>\n",
       "      <td>Владикавказ</td>\n",
       "      <td>10.0</td>\n",
       "      <td>21.0</td>\n",
       "      <td>41.0</td>\n",
       "      <td>247.0</td>\n",
       "      <td>42.0</td>\n",
       "      <td>1750</td>\n",
       "    </tr>\n",
       "    <tr>\n",
       "      <td>3202</td>\n",
       "      <td>1499</td>\n",
       "      <td>smart</td>\n",
       "      <td>Пермь</td>\n",
       "      <td>9.0</td>\n",
       "      <td>2.0</td>\n",
       "      <td>9.0</td>\n",
       "      <td>70.0</td>\n",
       "      <td>11.0</td>\n",
       "      <td>550</td>\n",
       "    </tr>\n",
       "    <tr>\n",
       "      <td>3203</td>\n",
       "      <td>1499</td>\n",
       "      <td>smart</td>\n",
       "      <td>Пермь</td>\n",
       "      <td>10.0</td>\n",
       "      <td>18.0</td>\n",
       "      <td>68.0</td>\n",
       "      <td>449.0</td>\n",
       "      <td>48.0</td>\n",
       "      <td>1150</td>\n",
       "    </tr>\n",
       "    <tr>\n",
       "      <td>3204</td>\n",
       "      <td>1499</td>\n",
       "      <td>smart</td>\n",
       "      <td>Пермь</td>\n",
       "      <td>11.0</td>\n",
       "      <td>18.0</td>\n",
       "      <td>74.0</td>\n",
       "      <td>612.0</td>\n",
       "      <td>59.0</td>\n",
       "      <td>1513</td>\n",
       "    </tr>\n",
       "    <tr>\n",
       "      <td>3205</td>\n",
       "      <td>1499</td>\n",
       "      <td>smart</td>\n",
       "      <td>Пермь</td>\n",
       "      <td>12.0</td>\n",
       "      <td>13.0</td>\n",
       "      <td>69.0</td>\n",
       "      <td>492.0</td>\n",
       "      <td>66.0</td>\n",
       "      <td>598</td>\n",
       "    </tr>\n",
       "  </tbody>\n",
       "</table>\n",
       "<p>3206 rows × 9 columns</p>\n",
       "</div>"
      ],
      "text/plain": [
       "      user_id tariff         city  month  gb_used  duration  count_minutes  \\\n",
       "0        1000  ultra    Краснодар    5.0      3.0      22.0          159.0   \n",
       "1        1000  ultra    Краснодар    6.0     23.0      43.0          172.0   \n",
       "2        1000  ultra    Краснодар    7.0     14.0      47.0          340.0   \n",
       "3        1000  ultra    Краснодар    8.0     14.0      52.0          408.0   \n",
       "4        1000  ultra    Краснодар    9.0     15.0      58.0          466.0   \n",
       "...       ...    ...          ...    ...      ...       ...            ...   \n",
       "3201     1498  smart  Владикавказ   10.0     21.0      41.0          247.0   \n",
       "3202     1499  smart        Пермь    9.0      2.0       9.0           70.0   \n",
       "3203     1499  smart        Пермь   10.0     18.0      68.0          449.0   \n",
       "3204     1499  smart        Пермь   11.0     18.0      74.0          612.0   \n",
       "3205     1499  smart        Пермь   12.0     13.0      69.0          492.0   \n",
       "\n",
       "      count_messages  earnings  \n",
       "0               22.0      1950  \n",
       "1               60.0      1950  \n",
       "2               75.0      1950  \n",
       "3               81.0      1950  \n",
       "4               57.0      1950  \n",
       "...              ...       ...  \n",
       "3201            42.0      1750  \n",
       "3202            11.0       550  \n",
       "3203            48.0      1150  \n",
       "3204            59.0      1513  \n",
       "3205            66.0       598  \n",
       "\n",
       "[3206 rows x 9 columns]"
      ]
     },
     "metadata": {},
     "output_type": "display_data"
    }
   ],
   "source": [
    "display(data)"
   ]
  },
  {
   "cell_type": "code",
   "execution_count": 61,
   "id": "d124fdf5",
   "metadata": {
    "scrolled": false
   },
   "outputs": [
    {
     "data": {
      "text/html": [
       "<div>\n",
       "<style scoped>\n",
       "    .dataframe tbody tr th:only-of-type {\n",
       "        vertical-align: middle;\n",
       "    }\n",
       "\n",
       "    .dataframe tbody tr th {\n",
       "        vertical-align: top;\n",
       "    }\n",
       "\n",
       "    .dataframe thead th {\n",
       "        text-align: right;\n",
       "    }\n",
       "</style>\n",
       "<table border=\"1\" class=\"dataframe\">\n",
       "  <thead>\n",
       "    <tr style=\"text-align: right;\">\n",
       "      <th></th>\n",
       "      <th>user_id</th>\n",
       "      <th>tariff</th>\n",
       "      <th>city</th>\n",
       "      <th>month</th>\n",
       "      <th>gb_used</th>\n",
       "      <th>duration</th>\n",
       "      <th>count_minutes</th>\n",
       "      <th>count_messages</th>\n",
       "      <th>earnings</th>\n",
       "    </tr>\n",
       "  </thead>\n",
       "  <tbody>\n",
       "    <tr>\n",
       "      <td>8</td>\n",
       "      <td>1001</td>\n",
       "      <td>smart</td>\n",
       "      <td>Москва</td>\n",
       "      <td>11.0</td>\n",
       "      <td>18.0</td>\n",
       "      <td>59.0</td>\n",
       "      <td>430.0</td>\n",
       "      <td>0.0</td>\n",
       "      <td>1150</td>\n",
       "    </tr>\n",
       "    <tr>\n",
       "      <td>9</td>\n",
       "      <td>1001</td>\n",
       "      <td>smart</td>\n",
       "      <td>Москва</td>\n",
       "      <td>12.0</td>\n",
       "      <td>14.0</td>\n",
       "      <td>63.0</td>\n",
       "      <td>414.0</td>\n",
       "      <td>0.0</td>\n",
       "      <td>550</td>\n",
       "    </tr>\n",
       "    <tr>\n",
       "      <td>17</td>\n",
       "      <td>1003</td>\n",
       "      <td>ultra</td>\n",
       "      <td>Москва</td>\n",
       "      <td>8.0</td>\n",
       "      <td>9.0</td>\n",
       "      <td>55.0</td>\n",
       "      <td>380.0</td>\n",
       "      <td>37.0</td>\n",
       "      <td>1950</td>\n",
       "    </tr>\n",
       "    <tr>\n",
       "      <td>18</td>\n",
       "      <td>1003</td>\n",
       "      <td>ultra</td>\n",
       "      <td>Москва</td>\n",
       "      <td>9.0</td>\n",
       "      <td>13.0</td>\n",
       "      <td>134.0</td>\n",
       "      <td>961.0</td>\n",
       "      <td>91.0</td>\n",
       "      <td>1950</td>\n",
       "    </tr>\n",
       "    <tr>\n",
       "      <td>19</td>\n",
       "      <td>1003</td>\n",
       "      <td>ultra</td>\n",
       "      <td>Москва</td>\n",
       "      <td>10.0</td>\n",
       "      <td>15.0</td>\n",
       "      <td>108.0</td>\n",
       "      <td>855.0</td>\n",
       "      <td>83.0</td>\n",
       "      <td>1950</td>\n",
       "    </tr>\n",
       "    <tr>\n",
       "      <td>...</td>\n",
       "      <td>...</td>\n",
       "      <td>...</td>\n",
       "      <td>...</td>\n",
       "      <td>...</td>\n",
       "      <td>...</td>\n",
       "      <td>...</td>\n",
       "      <td>...</td>\n",
       "      <td>...</td>\n",
       "      <td>...</td>\n",
       "    </tr>\n",
       "    <tr>\n",
       "      <td>3150</td>\n",
       "      <td>1490</td>\n",
       "      <td>smart</td>\n",
       "      <td>Москва</td>\n",
       "      <td>8.0</td>\n",
       "      <td>17.0</td>\n",
       "      <td>45.0</td>\n",
       "      <td>346.0</td>\n",
       "      <td>50.0</td>\n",
       "      <td>950</td>\n",
       "    </tr>\n",
       "    <tr>\n",
       "      <td>3151</td>\n",
       "      <td>1490</td>\n",
       "      <td>smart</td>\n",
       "      <td>Москва</td>\n",
       "      <td>9.0</td>\n",
       "      <td>15.0</td>\n",
       "      <td>44.0</td>\n",
       "      <td>322.0</td>\n",
       "      <td>48.0</td>\n",
       "      <td>550</td>\n",
       "    </tr>\n",
       "    <tr>\n",
       "      <td>3152</td>\n",
       "      <td>1490</td>\n",
       "      <td>smart</td>\n",
       "      <td>Москва</td>\n",
       "      <td>10.0</td>\n",
       "      <td>21.0</td>\n",
       "      <td>42.0</td>\n",
       "      <td>312.0</td>\n",
       "      <td>45.0</td>\n",
       "      <td>1750</td>\n",
       "    </tr>\n",
       "    <tr>\n",
       "      <td>3153</td>\n",
       "      <td>1490</td>\n",
       "      <td>smart</td>\n",
       "      <td>Москва</td>\n",
       "      <td>11.0</td>\n",
       "      <td>19.0</td>\n",
       "      <td>38.0</td>\n",
       "      <td>282.0</td>\n",
       "      <td>47.0</td>\n",
       "      <td>1350</td>\n",
       "    </tr>\n",
       "    <tr>\n",
       "      <td>3154</td>\n",
       "      <td>1490</td>\n",
       "      <td>smart</td>\n",
       "      <td>Москва</td>\n",
       "      <td>12.0</td>\n",
       "      <td>16.0</td>\n",
       "      <td>42.0</td>\n",
       "      <td>290.0</td>\n",
       "      <td>46.0</td>\n",
       "      <td>750</td>\n",
       "    </tr>\n",
       "  </tbody>\n",
       "</table>\n",
       "<p>611 rows × 9 columns</p>\n",
       "</div>"
      ],
      "text/plain": [
       "      user_id tariff    city  month  gb_used  duration  count_minutes  \\\n",
       "8        1001  smart  Москва   11.0     18.0      59.0          430.0   \n",
       "9        1001  smart  Москва   12.0     14.0      63.0          414.0   \n",
       "17       1003  ultra  Москва    8.0      9.0      55.0          380.0   \n",
       "18       1003  ultra  Москва    9.0     13.0     134.0          961.0   \n",
       "19       1003  ultra  Москва   10.0     15.0     108.0          855.0   \n",
       "...       ...    ...     ...    ...      ...       ...            ...   \n",
       "3150     1490  smart  Москва    8.0     17.0      45.0          346.0   \n",
       "3151     1490  smart  Москва    9.0     15.0      44.0          322.0   \n",
       "3152     1490  smart  Москва   10.0     21.0      42.0          312.0   \n",
       "3153     1490  smart  Москва   11.0     19.0      38.0          282.0   \n",
       "3154     1490  smart  Москва   12.0     16.0      42.0          290.0   \n",
       "\n",
       "      count_messages  earnings  \n",
       "8                0.0      1150  \n",
       "9                0.0       550  \n",
       "17              37.0      1950  \n",
       "18              91.0      1950  \n",
       "19              83.0      1950  \n",
       "...              ...       ...  \n",
       "3150            50.0       950  \n",
       "3151            48.0       550  \n",
       "3152            45.0      1750  \n",
       "3153            47.0      1350  \n",
       "3154            46.0       750  \n",
       "\n",
       "[611 rows x 9 columns]"
      ]
     },
     "metadata": {},
     "output_type": "display_data"
    },
    {
     "data": {
      "text/html": [
       "<div>\n",
       "<style scoped>\n",
       "    .dataframe tbody tr th:only-of-type {\n",
       "        vertical-align: middle;\n",
       "    }\n",
       "\n",
       "    .dataframe tbody tr th {\n",
       "        vertical-align: top;\n",
       "    }\n",
       "\n",
       "    .dataframe thead th {\n",
       "        text-align: right;\n",
       "    }\n",
       "</style>\n",
       "<table border=\"1\" class=\"dataframe\">\n",
       "  <thead>\n",
       "    <tr style=\"text-align: right;\">\n",
       "      <th></th>\n",
       "      <th>user_id</th>\n",
       "      <th>tariff</th>\n",
       "      <th>city</th>\n",
       "      <th>month</th>\n",
       "      <th>gb_used</th>\n",
       "      <th>duration</th>\n",
       "      <th>count_minutes</th>\n",
       "      <th>count_messages</th>\n",
       "      <th>earnings</th>\n",
       "    </tr>\n",
       "  </thead>\n",
       "  <tbody>\n",
       "    <tr>\n",
       "      <td>0</td>\n",
       "      <td>1000</td>\n",
       "      <td>ultra</td>\n",
       "      <td>Краснодар</td>\n",
       "      <td>5.0</td>\n",
       "      <td>3.0</td>\n",
       "      <td>22.0</td>\n",
       "      <td>159.0</td>\n",
       "      <td>22.0</td>\n",
       "      <td>1950</td>\n",
       "    </tr>\n",
       "    <tr>\n",
       "      <td>1</td>\n",
       "      <td>1000</td>\n",
       "      <td>ultra</td>\n",
       "      <td>Краснодар</td>\n",
       "      <td>6.0</td>\n",
       "      <td>23.0</td>\n",
       "      <td>43.0</td>\n",
       "      <td>172.0</td>\n",
       "      <td>60.0</td>\n",
       "      <td>1950</td>\n",
       "    </tr>\n",
       "    <tr>\n",
       "      <td>2</td>\n",
       "      <td>1000</td>\n",
       "      <td>ultra</td>\n",
       "      <td>Краснодар</td>\n",
       "      <td>7.0</td>\n",
       "      <td>14.0</td>\n",
       "      <td>47.0</td>\n",
       "      <td>340.0</td>\n",
       "      <td>75.0</td>\n",
       "      <td>1950</td>\n",
       "    </tr>\n",
       "    <tr>\n",
       "      <td>3</td>\n",
       "      <td>1000</td>\n",
       "      <td>ultra</td>\n",
       "      <td>Краснодар</td>\n",
       "      <td>8.0</td>\n",
       "      <td>14.0</td>\n",
       "      <td>52.0</td>\n",
       "      <td>408.0</td>\n",
       "      <td>81.0</td>\n",
       "      <td>1950</td>\n",
       "    </tr>\n",
       "    <tr>\n",
       "      <td>4</td>\n",
       "      <td>1000</td>\n",
       "      <td>ultra</td>\n",
       "      <td>Краснодар</td>\n",
       "      <td>9.0</td>\n",
       "      <td>15.0</td>\n",
       "      <td>58.0</td>\n",
       "      <td>466.0</td>\n",
       "      <td>57.0</td>\n",
       "      <td>1950</td>\n",
       "    </tr>\n",
       "    <tr>\n",
       "      <td>...</td>\n",
       "      <td>...</td>\n",
       "      <td>...</td>\n",
       "      <td>...</td>\n",
       "      <td>...</td>\n",
       "      <td>...</td>\n",
       "      <td>...</td>\n",
       "      <td>...</td>\n",
       "      <td>...</td>\n",
       "      <td>...</td>\n",
       "    </tr>\n",
       "    <tr>\n",
       "      <td>3201</td>\n",
       "      <td>1498</td>\n",
       "      <td>smart</td>\n",
       "      <td>Владикавказ</td>\n",
       "      <td>10.0</td>\n",
       "      <td>21.0</td>\n",
       "      <td>41.0</td>\n",
       "      <td>247.0</td>\n",
       "      <td>42.0</td>\n",
       "      <td>1750</td>\n",
       "    </tr>\n",
       "    <tr>\n",
       "      <td>3202</td>\n",
       "      <td>1499</td>\n",
       "      <td>smart</td>\n",
       "      <td>Пермь</td>\n",
       "      <td>9.0</td>\n",
       "      <td>2.0</td>\n",
       "      <td>9.0</td>\n",
       "      <td>70.0</td>\n",
       "      <td>11.0</td>\n",
       "      <td>550</td>\n",
       "    </tr>\n",
       "    <tr>\n",
       "      <td>3203</td>\n",
       "      <td>1499</td>\n",
       "      <td>smart</td>\n",
       "      <td>Пермь</td>\n",
       "      <td>10.0</td>\n",
       "      <td>18.0</td>\n",
       "      <td>68.0</td>\n",
       "      <td>449.0</td>\n",
       "      <td>48.0</td>\n",
       "      <td>1150</td>\n",
       "    </tr>\n",
       "    <tr>\n",
       "      <td>3204</td>\n",
       "      <td>1499</td>\n",
       "      <td>smart</td>\n",
       "      <td>Пермь</td>\n",
       "      <td>11.0</td>\n",
       "      <td>18.0</td>\n",
       "      <td>74.0</td>\n",
       "      <td>612.0</td>\n",
       "      <td>59.0</td>\n",
       "      <td>1513</td>\n",
       "    </tr>\n",
       "    <tr>\n",
       "      <td>3205</td>\n",
       "      <td>1499</td>\n",
       "      <td>smart</td>\n",
       "      <td>Пермь</td>\n",
       "      <td>12.0</td>\n",
       "      <td>13.0</td>\n",
       "      <td>69.0</td>\n",
       "      <td>492.0</td>\n",
       "      <td>66.0</td>\n",
       "      <td>598</td>\n",
       "    </tr>\n",
       "  </tbody>\n",
       "</table>\n",
       "<p>2595 rows × 9 columns</p>\n",
       "</div>"
      ],
      "text/plain": [
       "      user_id tariff         city  month  gb_used  duration  count_minutes  \\\n",
       "0        1000  ultra    Краснодар    5.0      3.0      22.0          159.0   \n",
       "1        1000  ultra    Краснодар    6.0     23.0      43.0          172.0   \n",
       "2        1000  ultra    Краснодар    7.0     14.0      47.0          340.0   \n",
       "3        1000  ultra    Краснодар    8.0     14.0      52.0          408.0   \n",
       "4        1000  ultra    Краснодар    9.0     15.0      58.0          466.0   \n",
       "...       ...    ...          ...    ...      ...       ...            ...   \n",
       "3201     1498  smart  Владикавказ   10.0     21.0      41.0          247.0   \n",
       "3202     1499  smart        Пермь    9.0      2.0       9.0           70.0   \n",
       "3203     1499  smart        Пермь   10.0     18.0      68.0          449.0   \n",
       "3204     1499  smart        Пермь   11.0     18.0      74.0          612.0   \n",
       "3205     1499  smart        Пермь   12.0     13.0      69.0          492.0   \n",
       "\n",
       "      count_messages  earnings  \n",
       "0               22.0      1950  \n",
       "1               60.0      1950  \n",
       "2               75.0      1950  \n",
       "3               81.0      1950  \n",
       "4               57.0      1950  \n",
       "...              ...       ...  \n",
       "3201            42.0      1750  \n",
       "3202            11.0       550  \n",
       "3203            48.0      1150  \n",
       "3204            59.0      1513  \n",
       "3205            66.0       598  \n",
       "\n",
       "[2595 rows x 9 columns]"
      ]
     },
     "metadata": {},
     "output_type": "display_data"
    }
   ],
   "source": [
    "data_moscow = data[data['city']=='Москва']\n",
    "data_region = data[data['city']!='Москва']\n",
    "display(data_moscow)\n",
    "display(data_region)"
   ]
  },
  {
   "cell_type": "code",
   "execution_count": 62,
   "id": "bbbcd20c",
   "metadata": {},
   "outputs": [
    {
     "name": "stdout",
     "output_type": "stream",
     "text": [
      "Средняя выручка пользователей из Москвы: 1546.7135842880523\n",
      "Средняя выручка пользователей из регионов: 1523.6258188824663\n"
     ]
    }
   ],
   "source": [
    "avg_earnings_moscow = data_moscow['earnings'].mean()\n",
    "avg_earnings_region = data_region['earnings'].mean()\n",
    "print('Средняя выручка пользователей из Москвы:', avg_earnings_moscow)\n",
    "print('Средняя выручка пользователей из регионов:', avg_earnings_region)"
   ]
  },
  {
   "cell_type": "markdown",
   "id": "d7572fcc",
   "metadata": {},
   "source": [
    "Здесь видно, что средние значения очень близки. Проверим это методом ttest_ind, так как выборки разные по размеру "
   ]
  },
  {
   "cell_type": "code",
   "execution_count": 63,
   "id": "1a66f5b1",
   "metadata": {},
   "outputs": [
    {
     "name": "stdout",
     "output_type": "stream",
     "text": [
      "p-значение: 0.5205499977256178\n",
      "Не получилось отвергнуть нулевую гипотезу\n"
     ]
    }
   ],
   "source": [
    "list_earnings_moscow = []\n",
    "for i in data_moscow['earnings']:\n",
    "    list_earnings_moscow.append(i)\n",
    "\n",
    "list_earnings_region = []\n",
    "for i in data_region['earnings']:\n",
    "    list_earnings_region.append(i)\n",
    "    \n",
    "alpha = 0.05 # критический уровень статистической значимости\n",
    "\n",
    "results = st.ttest_ind(list_earnings_moscow, list_earnings_region)\n",
    "\n",
    "print('p-значение:', results.pvalue)\n",
    "\n",
    "if results.pvalue < alpha:\n",
    "    print(\"Отвергаем нулевую гипотезу\")\n",
    "else:\n",
    "    print(\"Не получилось отвергнуть нулевую гипотезу\")"
   ]
  },
  {
   "cell_type": "markdown",
   "id": "fb2661e4",
   "metadata": {},
   "source": [
    "**Вывод**\n",
    "\n",
    "Не получилось отвергнуть нулевую гипотезу, что средние значения выручек по двум тарифам равны, так как они очень близки. Это же сходится и по расчитаным средним значениям, которые отличаются всего на 23 рубля."
   ]
  },
  {
   "cell_type": "markdown",
   "id": "d28e859e",
   "metadata": {},
   "source": [
    "## 5. Общий вывод"
   ]
  },
  {
   "cell_type": "markdown",
   "id": "476a6ba0",
   "metadata": {},
   "source": [
    "**Цель проекта: тобы скорректировать рекламный бюджет, коммерческий департамент хочет понять, какой тариф приносит больше денег,**\n",
    "а также проанализировать поведение клиентов и определить, какой тариф лучше, smart или ultra. \n",
    "\n",
    "Были **получены данные** по двум тарифам: \n",
    "- данные о клиентах (их имена, города проживания, даты старта и приостановления тарифа, сам тариф), \n",
    "- данные об их звонках (количество звонков, их длительность и дата совершения вызова), \n",
    "- данные о сообщениях (количество и дата), \n",
    "- данные об использования интернета (количество потраченных мегабайт за сессию, даты интернет-сессий и их длительность),\n",
    "- данные о самих тарифах (абонентская плата, стоимость минут, смс и интернета сверхтарифа, сколько минут, смс и гигабайт включено в тариф)\n",
    "\n",
    "\n",
    "По каждой таблице была проведена **предобработка данных**:\n",
    "\n",
    "- Были обнаружены пропуски в таблице users, в столбце churn_date, но их сохранили, так как они означают, что на момент выгрузки тариф еще действовал\n",
    "- Дубликатов и пропусков не было обнаружено в таблицах calls, messanges и internet, но есть непонятный столбец Unnamed:0 в таблице internet, который просто дублирует столбец с номером строки, поэтому он был удален.\n",
    "- так как в тарифах минута считается с первой секунды, например, вызов 2 минуты 2 секунды приравнивается к 3 минутам, то в таблице calls сначала откруглили всю длительность вверх до получения целого количества минут, а далее уже суммировали все длительности и получали общий расход по минутам в месяц. \n",
    "- в таблице internet были указаны мегабайты, их просуммировали, перевели в гигабайты (разделили на 1024) и округлили вверх до целого количества гигабайтов по такому же принципу, как поступили и со звонками.\n",
    "\n",
    "Далее был создан **новый датафрейм** методом merge:\n",
    "\n",
    "Изначальные таблицы приведены в порядок, теперь получим новую таблицу data из таблицы users, в которой для каждого пользователя посчитаем следующие параметры: \n",
    "- количество сделанных звонков и израсходованных минут разговора по месяцам;\n",
    "- количество отправленных сообщений по месяцам;\n",
    "- объем израсходованного интернет-трафика по месяцам;\n",
    "- помесячную выручку с каждого пользователя (вычтите бесплатный лимит из суммарного количества звонков, сообщений и интернет-трафика; остаток умножьте на значение из тарифного плана; прибавьте абонентскую плату, соответствующую тарифному плану).\n",
    "\n",
    "**Общие цифры:**\n",
    "- Почти 75% пользователей тарифа smart переплачивают основную абоненствую плату, причем средняя переплата составляет почти 1000 рублей\n",
    "- Только 14% пользователей тарифа ultra переплачивают абоненствую плату, и средняя переплата составляет 880 рублей. \n",
    "\n",
    "Таким образом, можно сделать **вывод**, что тариф ultra лучше, чем тариф smart, 75 процентов пользователей тарифа smart, на мой взгляд, будут заинтересованы в переходе на другой тариф. Поэтому, корректируя рекламный бюджет, упор стоит сделать на тариф ultra, он принесет подрядчику связи бо́льшую выручку, нежели тариф smart."
   ]
  }
 ],
 "metadata": {
  "ExecuteTimeLog": [
   {
    "duration": 1238,
    "start_time": "2022-01-07T11:11:13.791Z"
   },
   {
    "duration": 3073,
    "start_time": "2022-01-07T11:11:15.032Z"
   },
   {
    "duration": -1715,
    "start_time": "2022-01-07T11:11:19.823Z"
   },
   {
    "duration": -1841,
    "start_time": "2022-01-07T11:11:19.950Z"
   },
   {
    "duration": -1887,
    "start_time": "2022-01-07T11:11:19.997Z"
   },
   {
    "duration": 2731,
    "start_time": "2022-01-07T11:11:18.392Z"
   },
   {
    "duration": 81,
    "start_time": "2022-01-07T11:11:50.734Z"
   },
   {
    "duration": 221,
    "start_time": "2022-01-07T11:12:02.855Z"
   },
   {
    "duration": 136,
    "start_time": "2022-01-07T11:12:08.197Z"
   },
   {
    "duration": 24,
    "start_time": "2022-01-07T11:12:12.736Z"
   },
   {
    "duration": 190,
    "start_time": "2022-01-07T11:12:18.221Z"
   },
   {
    "duration": 8,
    "start_time": "2022-01-07T11:14:16.465Z"
   },
   {
    "duration": 9,
    "start_time": "2022-01-07T11:14:23.610Z"
   },
   {
    "duration": 26,
    "start_time": "2022-01-07T11:14:27.353Z"
   },
   {
    "duration": 121,
    "start_time": "2022-01-07T11:14:30.356Z"
   },
   {
    "duration": 19,
    "start_time": "2022-01-07T11:14:33.159Z"
   },
   {
    "duration": 52,
    "start_time": "2022-01-07T11:14:35.859Z"
   },
   {
    "duration": 22,
    "start_time": "2022-01-07T11:14:36.601Z"
   },
   {
    "duration": 51,
    "start_time": "2022-01-07T11:14:37.341Z"
   },
   {
    "duration": 24,
    "start_time": "2022-01-07T11:14:45.930Z"
   },
   {
    "duration": 19,
    "start_time": "2022-01-07T11:17:12.537Z"
   },
   {
    "duration": 75,
    "start_time": "2022-01-07T11:17:23.652Z"
   },
   {
    "duration": 25,
    "start_time": "2022-01-07T11:17:31.395Z"
   },
   {
    "duration": 43,
    "start_time": "2022-01-07T11:17:33.540Z"
   },
   {
    "duration": 30,
    "start_time": "2022-01-07T11:17:34.118Z"
   },
   {
    "duration": 51,
    "start_time": "2022-01-07T11:17:34.907Z"
   },
   {
    "duration": 19,
    "start_time": "2022-01-07T11:18:12.409Z"
   },
   {
    "duration": 36,
    "start_time": "2022-01-07T11:19:26.274Z"
   },
   {
    "duration": 32,
    "start_time": "2022-01-07T11:19:48.643Z"
   },
   {
    "duration": 49,
    "start_time": "2022-01-07T11:19:52.864Z"
   },
   {
    "duration": 38,
    "start_time": "2022-01-07T11:20:07.656Z"
   },
   {
    "duration": 17,
    "start_time": "2022-01-07T11:20:20.213Z"
   },
   {
    "duration": 33,
    "start_time": "2022-01-07T11:20:23.063Z"
   },
   {
    "duration": 31,
    "start_time": "2022-01-07T11:20:27.879Z"
   },
   {
    "duration": 15,
    "start_time": "2022-01-07T11:20:31.176Z"
   },
   {
    "duration": 37,
    "start_time": "2022-01-07T11:20:34.600Z"
   },
   {
    "duration": 29,
    "start_time": "2022-01-07T11:20:36.743Z"
   },
   {
    "duration": 17,
    "start_time": "2022-01-07T11:20:37.725Z"
   },
   {
    "duration": 16,
    "start_time": "2022-01-07T11:20:52.354Z"
   },
   {
    "duration": 23,
    "start_time": "2022-01-07T11:21:03.565Z"
   },
   {
    "duration": 8,
    "start_time": "2022-01-07T11:21:44.766Z"
   },
   {
    "duration": 13,
    "start_time": "2022-01-07T11:21:49.472Z"
   },
   {
    "duration": 20,
    "start_time": "2022-01-07T11:21:52.620Z"
   },
   {
    "duration": 27,
    "start_time": "2022-01-07T11:21:57.104Z"
   },
   {
    "duration": 29,
    "start_time": "2022-01-07T11:21:58.231Z"
   },
   {
    "duration": 22,
    "start_time": "2022-01-07T11:22:04.364Z"
   },
   {
    "duration": 8,
    "start_time": "2022-01-07T11:22:31.023Z"
   },
   {
    "duration": 26,
    "start_time": "2022-01-07T11:22:36.838Z"
   },
   {
    "duration": 29,
    "start_time": "2022-01-07T11:22:57.782Z"
   },
   {
    "duration": 25,
    "start_time": "2022-01-07T11:22:57.992Z"
   },
   {
    "duration": 29,
    "start_time": "2022-01-07T11:23:26.305Z"
   },
   {
    "duration": 24,
    "start_time": "2022-01-07T11:24:33.081Z"
   },
   {
    "duration": 6,
    "start_time": "2022-01-07T11:24:44.669Z"
   },
   {
    "duration": 5,
    "start_time": "2022-01-07T11:25:04.969Z"
   },
   {
    "duration": 59,
    "start_time": "2022-01-07T11:25:05.184Z"
   },
   {
    "duration": 243,
    "start_time": "2022-01-07T11:25:05.421Z"
   },
   {
    "duration": 148,
    "start_time": "2022-01-07T11:25:05.667Z"
   },
   {
    "duration": 24,
    "start_time": "2022-01-07T11:25:05.824Z"
   },
   {
    "duration": 191,
    "start_time": "2022-01-07T11:25:05.993Z"
   },
   {
    "duration": 8,
    "start_time": "2022-01-07T11:25:07.054Z"
   },
   {
    "duration": 10,
    "start_time": "2022-01-07T11:25:07.459Z"
   },
   {
    "duration": 26,
    "start_time": "2022-01-07T11:25:08.097Z"
   },
   {
    "duration": 103,
    "start_time": "2022-01-07T11:25:08.313Z"
   },
   {
    "duration": 20,
    "start_time": "2022-01-07T11:25:08.956Z"
   },
   {
    "duration": 55,
    "start_time": "2022-01-07T11:25:09.149Z"
   },
   {
    "duration": 23,
    "start_time": "2022-01-07T11:25:09.799Z"
   },
   {
    "duration": 52,
    "start_time": "2022-01-07T11:25:10.014Z"
   },
   {
    "duration": 24,
    "start_time": "2022-01-07T11:25:10.501Z"
   },
   {
    "duration": 22,
    "start_time": "2022-01-07T11:25:11.864Z"
   },
   {
    "duration": 68,
    "start_time": "2022-01-07T11:25:12.447Z"
   },
   {
    "duration": 26,
    "start_time": "2022-01-07T11:25:14.290Z"
   },
   {
    "duration": 43,
    "start_time": "2022-01-07T11:25:15.391Z"
   },
   {
    "duration": 30,
    "start_time": "2022-01-07T11:25:16.121Z"
   },
   {
    "duration": 54,
    "start_time": "2022-01-07T11:25:16.631Z"
   },
   {
    "duration": 21,
    "start_time": "2022-01-07T11:25:17.259Z"
   },
   {
    "duration": 37,
    "start_time": "2022-01-07T11:25:26.089Z"
   },
   {
    "duration": 34,
    "start_time": "2022-01-07T11:25:27.572Z"
   },
   {
    "duration": 45,
    "start_time": "2022-01-07T11:25:30.136Z"
   },
   {
    "duration": 37,
    "start_time": "2022-01-07T11:25:31.450Z"
   },
   {
    "duration": 17,
    "start_time": "2022-01-07T11:25:32.320Z"
   },
   {
    "duration": 32,
    "start_time": "2022-01-07T11:25:33.677Z"
   },
   {
    "duration": 30,
    "start_time": "2022-01-07T11:25:34.221Z"
   },
   {
    "duration": 15,
    "start_time": "2022-01-07T11:25:35.181Z"
   },
   {
    "duration": 39,
    "start_time": "2022-01-07T11:25:36.408Z"
   },
   {
    "duration": 29,
    "start_time": "2022-01-07T11:25:37.882Z"
   },
   {
    "duration": 16,
    "start_time": "2022-01-07T11:25:38.637Z"
   },
   {
    "duration": 14,
    "start_time": "2022-01-07T11:25:39.764Z"
   },
   {
    "duration": 25,
    "start_time": "2022-01-07T11:25:40.979Z"
   },
   {
    "duration": 7,
    "start_time": "2022-01-07T11:25:45.220Z"
   },
   {
    "duration": 13,
    "start_time": "2022-01-07T11:25:46.124Z"
   },
   {
    "duration": 19,
    "start_time": "2022-01-07T11:25:57.969Z"
   },
   {
    "duration": 7,
    "start_time": "2022-01-07T11:28:26.933Z"
   },
   {
    "duration": 26,
    "start_time": "2022-01-07T11:28:29.700Z"
   },
   {
    "duration": 29,
    "start_time": "2022-01-07T11:28:30.561Z"
   },
   {
    "duration": 21,
    "start_time": "2022-01-07T11:28:31.619Z"
   },
   {
    "duration": 8,
    "start_time": "2022-01-07T11:28:32.107Z"
   },
   {
    "duration": 29,
    "start_time": "2022-01-07T11:28:32.846Z"
   },
   {
    "duration": 22,
    "start_time": "2022-01-07T11:28:33.588Z"
   },
   {
    "duration": 21,
    "start_time": "2022-01-07T11:28:34.424Z"
   },
   {
    "duration": 27,
    "start_time": "2022-01-07T11:28:36.460Z"
   },
   {
    "duration": 43881,
    "start_time": "2022-01-07T11:30:41.549Z"
   },
   {
    "duration": 8,
    "start_time": "2022-01-07T11:31:57.229Z"
   },
   {
    "duration": 468,
    "start_time": "2022-01-07T11:32:25.388Z"
   },
   {
    "duration": 321,
    "start_time": "2022-01-07T11:32:40.622Z"
   },
   {
    "duration": 367,
    "start_time": "2022-01-07T11:32:43.191Z"
   },
   {
    "duration": 324,
    "start_time": "2022-01-07T11:32:44.962Z"
   },
   {
    "duration": 28,
    "start_time": "2022-01-07T11:32:49.704Z"
   },
   {
    "duration": 30,
    "start_time": "2022-01-07T11:33:04.868Z"
   },
   {
    "duration": 10,
    "start_time": "2022-01-07T11:33:08.539Z"
   },
   {
    "duration": 38,
    "start_time": "2022-01-07T11:36:23.532Z"
   },
   {
    "duration": 7,
    "start_time": "2022-01-07T11:36:41.800Z"
   },
   {
    "duration": 10,
    "start_time": "2022-01-07T11:37:43.463Z"
   },
   {
    "duration": 21,
    "start_time": "2022-01-07T11:47:24.148Z"
   },
   {
    "duration": 39,
    "start_time": "2022-01-07T11:47:26.857Z"
   },
   {
    "duration": 6,
    "start_time": "2022-01-07T11:47:33.383Z"
   },
   {
    "duration": 9,
    "start_time": "2022-01-07T11:47:38.578Z"
   },
   {
    "duration": 70,
    "start_time": "2022-01-09T09:59:21.079Z"
   },
   {
    "duration": 234,
    "start_time": "2022-01-09T10:01:10.172Z"
   },
   {
    "duration": 909,
    "start_time": "2022-01-09T10:01:23.864Z"
   },
   {
    "duration": 46,
    "start_time": "2022-01-09T10:01:24.774Z"
   },
   {
    "duration": 157,
    "start_time": "2022-01-09T10:01:24.821Z"
   },
   {
    "duration": 102,
    "start_time": "2022-01-09T10:01:24.980Z"
   },
   {
    "duration": 22,
    "start_time": "2022-01-09T10:01:25.083Z"
   },
   {
    "duration": 215,
    "start_time": "2022-01-09T10:01:25.106Z"
   },
   {
    "duration": 7,
    "start_time": "2022-01-09T10:01:25.402Z"
   },
   {
    "duration": 6,
    "start_time": "2022-01-09T10:01:25.568Z"
   },
   {
    "duration": 18,
    "start_time": "2022-01-09T10:01:25.821Z"
   },
   {
    "duration": 85,
    "start_time": "2022-01-09T10:01:25.904Z"
   },
   {
    "duration": 14,
    "start_time": "2022-01-09T10:01:26.155Z"
   },
   {
    "duration": 37,
    "start_time": "2022-01-09T10:01:26.238Z"
   },
   {
    "duration": 15,
    "start_time": "2022-01-09T10:01:26.489Z"
   },
   {
    "duration": 41,
    "start_time": "2022-01-09T10:01:26.575Z"
   },
   {
    "duration": 19,
    "start_time": "2022-01-09T10:01:26.739Z"
   },
   {
    "duration": 15,
    "start_time": "2022-01-09T10:01:27.081Z"
   },
   {
    "duration": 50,
    "start_time": "2022-01-09T10:01:27.160Z"
   },
   {
    "duration": 16,
    "start_time": "2022-01-09T10:01:27.239Z"
   },
   {
    "duration": 30,
    "start_time": "2022-01-09T10:01:27.321Z"
   },
   {
    "duration": 31,
    "start_time": "2022-01-09T10:01:27.407Z"
   },
   {
    "duration": 54,
    "start_time": "2022-01-09T10:01:27.490Z"
   },
   {
    "duration": 12,
    "start_time": "2022-01-09T10:01:27.572Z"
   },
   {
    "duration": 21,
    "start_time": "2022-01-09T10:01:27.739Z"
   },
   {
    "duration": 21,
    "start_time": "2022-01-09T10:01:27.906Z"
   },
   {
    "duration": 28,
    "start_time": "2022-01-09T10:01:27.988Z"
   },
   {
    "duration": 26,
    "start_time": "2022-01-09T10:01:28.073Z"
   },
   {
    "duration": 10,
    "start_time": "2022-01-09T10:01:28.644Z"
   },
   {
    "duration": 21,
    "start_time": "2022-01-09T10:01:29.010Z"
   },
   {
    "duration": 21,
    "start_time": "2022-01-09T10:01:29.376Z"
   },
   {
    "duration": 10,
    "start_time": "2022-01-09T10:01:29.648Z"
   },
   {
    "duration": 23,
    "start_time": "2022-01-09T10:01:29.891Z"
   },
   {
    "duration": 20,
    "start_time": "2022-01-09T10:01:30.139Z"
   },
   {
    "duration": 14,
    "start_time": "2022-01-09T10:01:30.621Z"
   },
   {
    "duration": 13,
    "start_time": "2022-01-09T10:01:30.931Z"
   },
   {
    "duration": 15,
    "start_time": "2022-01-09T10:01:31.373Z"
   },
   {
    "duration": 5,
    "start_time": "2022-01-09T10:01:31.769Z"
   },
   {
    "duration": 9,
    "start_time": "2022-01-09T10:01:32.240Z"
   },
   {
    "duration": 4,
    "start_time": "2022-01-09T10:01:36.915Z"
   },
   {
    "duration": 3,
    "start_time": "2022-01-09T10:02:50.063Z"
   },
   {
    "duration": 42,
    "start_time": "2022-01-09T10:02:50.556Z"
   },
   {
    "duration": 156,
    "start_time": "2022-01-09T10:02:53.818Z"
   },
   {
    "duration": 100,
    "start_time": "2022-01-09T10:02:54.034Z"
   },
   {
    "duration": 22,
    "start_time": "2022-01-09T10:02:54.261Z"
   },
   {
    "duration": 144,
    "start_time": "2022-01-09T10:02:54.475Z"
   },
   {
    "duration": 6,
    "start_time": "2022-01-09T10:02:55.664Z"
   },
   {
    "duration": 7,
    "start_time": "2022-01-09T10:02:56.010Z"
   },
   {
    "duration": 19,
    "start_time": "2022-01-09T10:02:56.564Z"
   },
   {
    "duration": 65,
    "start_time": "2022-01-09T10:02:56.703Z"
   },
   {
    "duration": 14,
    "start_time": "2022-01-09T10:02:57.247Z"
   },
   {
    "duration": 34,
    "start_time": "2022-01-09T10:02:57.407Z"
   },
   {
    "duration": 16,
    "start_time": "2022-01-09T10:02:58.190Z"
   },
   {
    "duration": 37,
    "start_time": "2022-01-09T10:02:58.363Z"
   },
   {
    "duration": 16,
    "start_time": "2022-01-09T10:02:58.730Z"
   },
   {
    "duration": 13,
    "start_time": "2022-01-09T10:02:59.742Z"
   },
   {
    "duration": 46,
    "start_time": "2022-01-09T10:02:59.885Z"
   },
   {
    "duration": 22,
    "start_time": "2022-01-09T10:03:00.090Z"
   },
   {
    "duration": 35,
    "start_time": "2022-01-09T10:03:00.287Z"
   },
   {
    "duration": 24,
    "start_time": "2022-01-09T10:03:00.487Z"
   },
   {
    "duration": 42,
    "start_time": "2022-01-09T10:03:00.702Z"
   },
   {
    "duration": 13,
    "start_time": "2022-01-09T10:03:00.933Z"
   },
   {
    "duration": 24,
    "start_time": "2022-01-09T10:03:06.979Z"
   },
   {
    "duration": 23,
    "start_time": "2022-01-09T10:03:07.538Z"
   },
   {
    "duration": 29,
    "start_time": "2022-01-09T10:03:08.073Z"
   },
   {
    "duration": 25,
    "start_time": "2022-01-09T10:03:08.566Z"
   },
   {
    "duration": 12,
    "start_time": "2022-01-09T10:03:09.135Z"
   },
   {
    "duration": 21,
    "start_time": "2022-01-09T10:03:11.288Z"
   },
   {
    "duration": 23,
    "start_time": "2022-01-09T10:03:11.744Z"
   },
   {
    "duration": 10,
    "start_time": "2022-01-09T10:03:12.266Z"
   },
   {
    "duration": 24,
    "start_time": "2022-01-09T10:03:12.684Z"
   },
   {
    "duration": 20,
    "start_time": "2022-01-09T10:03:13.091Z"
   },
   {
    "duration": 11,
    "start_time": "2022-01-09T10:03:13.628Z"
   },
   {
    "duration": 11,
    "start_time": "2022-01-09T10:03:13.992Z"
   },
   {
    "duration": 15,
    "start_time": "2022-01-09T10:03:14.461Z"
   },
   {
    "duration": 6,
    "start_time": "2022-01-09T10:03:17.164Z"
   },
   {
    "duration": 8,
    "start_time": "2022-01-09T10:03:17.742Z"
   },
   {
    "duration": 5,
    "start_time": "2022-01-09T10:03:19.572Z"
   },
   {
    "duration": 20,
    "start_time": "2022-01-09T10:04:11.656Z"
   },
   {
    "duration": 18,
    "start_time": "2022-01-09T10:04:13.902Z"
   },
   {
    "duration": 15,
    "start_time": "2022-01-09T10:04:14.889Z"
   },
   {
    "duration": 5,
    "start_time": "2022-01-09T10:04:17.366Z"
   },
   {
    "duration": 18,
    "start_time": "2022-01-09T10:04:17.860Z"
   },
   {
    "duration": 17,
    "start_time": "2022-01-09T10:04:20.160Z"
   },
   {
    "duration": 14,
    "start_time": "2022-01-09T10:04:20.800Z"
   },
   {
    "duration": 302,
    "start_time": "2022-01-09T10:04:27.022Z"
   },
   {
    "duration": 23953,
    "start_time": "2022-01-09T10:04:57.717Z"
   },
   {
    "duration": 4,
    "start_time": "2022-01-09T10:05:21.672Z"
   },
   {
    "duration": 289,
    "start_time": "2022-01-09T10:06:21.455Z"
   },
   {
    "duration": 210,
    "start_time": "2022-01-09T10:06:24.439Z"
   },
   {
    "duration": 201,
    "start_time": "2022-01-09T10:06:26.445Z"
   },
   {
    "duration": 190,
    "start_time": "2022-01-09T10:06:29.792Z"
   },
   {
    "duration": 20,
    "start_time": "2022-01-09T10:06:32.913Z"
   },
   {
    "duration": 21,
    "start_time": "2022-01-09T10:06:33.585Z"
   },
   {
    "duration": 8,
    "start_time": "2022-01-09T10:06:34.859Z"
   },
   {
    "duration": 950,
    "start_time": "2022-01-09T10:15:40.650Z"
   },
   {
    "duration": 1025,
    "start_time": "2022-01-09T10:16:19.978Z"
   },
   {
    "duration": 662,
    "start_time": "2022-01-09T10:17:45.106Z"
   },
   {
    "duration": 191,
    "start_time": "2022-01-09T10:18:18.347Z"
   },
   {
    "duration": 66,
    "start_time": "2022-01-09T10:18:34.795Z"
   },
   {
    "duration": 251,
    "start_time": "2022-01-09T10:18:37.704Z"
   },
   {
    "duration": 637,
    "start_time": "2022-01-09T10:18:57.861Z"
   },
   {
    "duration": 893,
    "start_time": "2022-01-09T10:21:00.182Z"
   },
   {
    "duration": 48,
    "start_time": "2022-01-09T10:21:01.076Z"
   },
   {
    "duration": 166,
    "start_time": "2022-01-09T10:21:01.127Z"
   },
   {
    "duration": 95,
    "start_time": "2022-01-09T10:21:01.295Z"
   },
   {
    "duration": 21,
    "start_time": "2022-01-09T10:21:01.392Z"
   },
   {
    "duration": 151,
    "start_time": "2022-01-09T10:21:01.414Z"
   },
   {
    "duration": 4,
    "start_time": "2022-01-09T10:21:01.567Z"
   },
   {
    "duration": 23,
    "start_time": "2022-01-09T10:21:01.573Z"
   },
   {
    "duration": 19,
    "start_time": "2022-01-09T10:21:01.603Z"
   },
   {
    "duration": 86,
    "start_time": "2022-01-09T10:21:01.684Z"
   },
   {
    "duration": 14,
    "start_time": "2022-01-09T10:21:01.934Z"
   },
   {
    "duration": 34,
    "start_time": "2022-01-09T10:21:02.017Z"
   },
   {
    "duration": 16,
    "start_time": "2022-01-09T10:21:02.267Z"
   },
   {
    "duration": 36,
    "start_time": "2022-01-09T10:21:02.350Z"
   },
   {
    "duration": 17,
    "start_time": "2022-01-09T10:21:02.517Z"
   },
   {
    "duration": 15,
    "start_time": "2022-01-09T10:21:02.859Z"
   },
   {
    "duration": 55,
    "start_time": "2022-01-09T10:21:02.932Z"
   },
   {
    "duration": 19,
    "start_time": "2022-01-09T10:21:03.023Z"
   },
   {
    "duration": 32,
    "start_time": "2022-01-09T10:21:03.101Z"
   },
   {
    "duration": 21,
    "start_time": "2022-01-09T10:21:03.187Z"
   },
   {
    "duration": 38,
    "start_time": "2022-01-09T10:21:03.267Z"
   },
   {
    "duration": 14,
    "start_time": "2022-01-09T10:21:03.356Z"
   },
   {
    "duration": 24,
    "start_time": "2022-01-09T10:21:03.517Z"
   },
   {
    "duration": 25,
    "start_time": "2022-01-09T10:21:03.684Z"
   },
   {
    "duration": 33,
    "start_time": "2022-01-09T10:21:03.767Z"
   },
   {
    "duration": 28,
    "start_time": "2022-01-09T10:21:03.850Z"
   },
   {
    "duration": 10,
    "start_time": "2022-01-09T10:21:03.933Z"
   },
   {
    "duration": 22,
    "start_time": "2022-01-09T10:21:04.017Z"
   },
   {
    "duration": 23,
    "start_time": "2022-01-09T10:21:04.101Z"
   },
   {
    "duration": 10,
    "start_time": "2022-01-09T10:21:04.184Z"
   },
   {
    "duration": 27,
    "start_time": "2022-01-09T10:21:04.267Z"
   },
   {
    "duration": 23,
    "start_time": "2022-01-09T10:21:04.349Z"
   },
   {
    "duration": 12,
    "start_time": "2022-01-09T10:21:04.433Z"
   },
   {
    "duration": 12,
    "start_time": "2022-01-09T10:21:04.516Z"
   },
   {
    "duration": 16,
    "start_time": "2022-01-09T10:21:04.600Z"
   },
   {
    "duration": 5,
    "start_time": "2022-01-09T10:21:04.683Z"
   },
   {
    "duration": 9,
    "start_time": "2022-01-09T10:21:04.767Z"
   },
   {
    "duration": 6,
    "start_time": "2022-01-09T10:21:05.109Z"
   },
   {
    "duration": 17,
    "start_time": "2022-01-09T10:21:06.754Z"
   },
   {
    "duration": 17,
    "start_time": "2022-01-09T10:21:07.261Z"
   },
   {
    "duration": 13,
    "start_time": "2022-01-09T10:21:07.338Z"
   },
   {
    "duration": 6,
    "start_time": "2022-01-09T10:21:07.415Z"
   },
   {
    "duration": 17,
    "start_time": "2022-01-09T10:21:07.502Z"
   },
   {
    "duration": 25,
    "start_time": "2022-01-09T10:21:07.583Z"
   },
   {
    "duration": 15,
    "start_time": "2022-01-09T10:21:07.666Z"
   },
   {
    "duration": 23371,
    "start_time": "2022-01-09T10:21:07.918Z"
   },
   {
    "duration": 4,
    "start_time": "2022-01-09T10:21:31.291Z"
   },
   {
    "duration": 311,
    "start_time": "2022-01-09T10:21:31.297Z"
   },
   {
    "duration": 202,
    "start_time": "2022-01-09T10:21:31.610Z"
   },
   {
    "duration": 197,
    "start_time": "2022-01-09T10:21:31.814Z"
   },
   {
    "duration": 211,
    "start_time": "2022-01-09T10:21:32.013Z"
   },
   {
    "duration": 29,
    "start_time": "2022-01-09T10:21:32.226Z"
   },
   {
    "duration": 17,
    "start_time": "2022-01-09T10:21:32.257Z"
   },
   {
    "duration": 8,
    "start_time": "2022-01-09T10:21:32.275Z"
   },
   {
    "duration": 734,
    "start_time": "2022-01-09T10:21:32.284Z"
   },
   {
    "duration": 815,
    "start_time": "2022-01-09T10:21:49.314Z"
   },
   {
    "duration": 16,
    "start_time": "2022-01-09T10:22:52.211Z"
   },
   {
    "duration": 760,
    "start_time": "2022-01-09T10:23:10.411Z"
   },
   {
    "duration": 14,
    "start_time": "2022-01-09T10:23:19.063Z"
   },
   {
    "duration": 20,
    "start_time": "2022-01-09T10:25:15.830Z"
   },
   {
    "duration": 17,
    "start_time": "2022-01-09T10:25:36.090Z"
   },
   {
    "duration": 8,
    "start_time": "2022-01-09T10:25:52.886Z"
   },
   {
    "duration": 16,
    "start_time": "2022-01-09T10:26:11.047Z"
   },
   {
    "duration": 10,
    "start_time": "2022-01-09T10:28:47.532Z"
   },
   {
    "duration": 8,
    "start_time": "2022-01-09T10:28:55.781Z"
   },
   {
    "duration": 2,
    "start_time": "2022-01-09T10:29:19.429Z"
   },
   {
    "duration": 7,
    "start_time": "2022-01-09T10:29:26.823Z"
   },
   {
    "duration": 8,
    "start_time": "2022-01-09T10:29:35.016Z"
   },
   {
    "duration": 15,
    "start_time": "2022-01-09T10:30:03.833Z"
   },
   {
    "duration": 8,
    "start_time": "2022-01-09T10:30:18.152Z"
   },
   {
    "duration": 68,
    "start_time": "2022-01-09T10:32:22.230Z"
   },
   {
    "duration": 9,
    "start_time": "2022-01-09T10:32:26.013Z"
   },
   {
    "duration": 8,
    "start_time": "2022-01-09T10:37:17.361Z"
   },
   {
    "duration": 8,
    "start_time": "2022-01-09T10:37:49.042Z"
   },
   {
    "duration": 248,
    "start_time": "2022-01-09T10:43:10.413Z"
   },
   {
    "duration": 10,
    "start_time": "2022-01-09T10:43:18.604Z"
   },
   {
    "duration": 9,
    "start_time": "2022-01-09T10:43:20.767Z"
   },
   {
    "duration": 12,
    "start_time": "2022-01-09T10:44:51.702Z"
   },
   {
    "duration": 13,
    "start_time": "2022-01-09T10:45:25.827Z"
   },
   {
    "duration": 13,
    "start_time": "2022-01-09T10:45:55.217Z"
   },
   {
    "duration": 2,
    "start_time": "2022-01-09T11:03:47.005Z"
   },
   {
    "duration": 46,
    "start_time": "2022-01-09T11:03:47.172Z"
   },
   {
    "duration": 168,
    "start_time": "2022-01-09T11:03:47.327Z"
   },
   {
    "duration": 105,
    "start_time": "2022-01-09T11:03:47.500Z"
   },
   {
    "duration": 23,
    "start_time": "2022-01-09T11:03:47.647Z"
   },
   {
    "duration": 136,
    "start_time": "2022-01-09T11:03:47.811Z"
   },
   {
    "duration": 6,
    "start_time": "2022-01-09T11:03:48.990Z"
   },
   {
    "duration": 6,
    "start_time": "2022-01-09T11:03:49.348Z"
   },
   {
    "duration": 19,
    "start_time": "2022-01-09T11:03:49.890Z"
   },
   {
    "duration": 78,
    "start_time": "2022-01-09T11:03:50.061Z"
   },
   {
    "duration": 15,
    "start_time": "2022-01-09T11:03:50.761Z"
   },
   {
    "duration": 39,
    "start_time": "2022-01-09T11:03:50.951Z"
   },
   {
    "duration": 16,
    "start_time": "2022-01-09T11:03:51.605Z"
   },
   {
    "duration": 40,
    "start_time": "2022-01-09T11:03:51.931Z"
   },
   {
    "duration": 17,
    "start_time": "2022-01-09T11:03:52.774Z"
   },
   {
    "duration": 13,
    "start_time": "2022-01-09T11:03:55.046Z"
   },
   {
    "duration": 45,
    "start_time": "2022-01-09T11:03:55.200Z"
   },
   {
    "duration": 19,
    "start_time": "2022-01-09T11:03:55.383Z"
   },
   {
    "duration": 30,
    "start_time": "2022-01-09T11:03:55.564Z"
   },
   {
    "duration": 22,
    "start_time": "2022-01-09T11:03:55.744Z"
   },
   {
    "duration": 35,
    "start_time": "2022-01-09T11:03:55.927Z"
   },
   {
    "duration": 12,
    "start_time": "2022-01-09T11:03:56.113Z"
   },
   {
    "duration": 22,
    "start_time": "2022-01-09T11:03:56.498Z"
   },
   {
    "duration": 22,
    "start_time": "2022-01-09T11:03:57.126Z"
   },
   {
    "duration": 30,
    "start_time": "2022-01-09T11:03:57.435Z"
   },
   {
    "duration": 28,
    "start_time": "2022-01-09T11:03:57.768Z"
   },
   {
    "duration": 11,
    "start_time": "2022-01-09T11:03:58.310Z"
   },
   {
    "duration": 22,
    "start_time": "2022-01-09T11:03:58.874Z"
   },
   {
    "duration": 23,
    "start_time": "2022-01-09T11:03:59.499Z"
   },
   {
    "duration": 11,
    "start_time": "2022-01-09T11:03:59.992Z"
   },
   {
    "duration": 28,
    "start_time": "2022-01-09T11:04:00.469Z"
   },
   {
    "duration": 23,
    "start_time": "2022-01-09T11:04:01.177Z"
   },
   {
    "duration": 12,
    "start_time": "2022-01-09T11:04:01.602Z"
   },
   {
    "duration": 13,
    "start_time": "2022-01-09T11:04:02.152Z"
   },
   {
    "duration": 15,
    "start_time": "2022-01-09T11:04:02.652Z"
   },
   {
    "duration": 6,
    "start_time": "2022-01-09T11:04:03.040Z"
   },
   {
    "duration": 9,
    "start_time": "2022-01-09T11:04:03.403Z"
   },
   {
    "duration": 5,
    "start_time": "2022-01-09T11:04:05.290Z"
   },
   {
    "duration": 19,
    "start_time": "2022-01-09T11:04:05.464Z"
   },
   {
    "duration": 19,
    "start_time": "2022-01-09T11:04:05.648Z"
   },
   {
    "duration": 14,
    "start_time": "2022-01-09T11:04:05.847Z"
   },
   {
    "duration": 6,
    "start_time": "2022-01-09T11:04:06.028Z"
   },
   {
    "duration": 19,
    "start_time": "2022-01-09T11:04:06.203Z"
   },
   {
    "duration": 14,
    "start_time": "2022-01-09T11:04:06.774Z"
   },
   {
    "duration": 15,
    "start_time": "2022-01-09T11:04:08.050Z"
   },
   {
    "duration": 24003,
    "start_time": "2022-01-09T11:04:15.325Z"
   },
   {
    "duration": 13,
    "start_time": "2022-01-09T11:04:39.329Z"
   },
   {
    "duration": 185,
    "start_time": "2022-01-09T11:04:39.344Z"
   },
   {
    "duration": 196,
    "start_time": "2022-01-09T11:04:39.530Z"
   },
   {
    "duration": 218,
    "start_time": "2022-01-09T11:04:39.728Z"
   },
   {
    "duration": 207,
    "start_time": "2022-01-09T11:04:39.947Z"
   },
   {
    "duration": 18,
    "start_time": "2022-01-09T11:04:40.156Z"
   },
   {
    "duration": 19,
    "start_time": "2022-01-09T11:04:40.176Z"
   },
   {
    "duration": 7,
    "start_time": "2022-01-09T11:04:40.197Z"
   },
   {
    "duration": 42,
    "start_time": "2022-01-09T11:04:40.205Z"
   },
   {
    "duration": 10,
    "start_time": "2022-01-09T11:04:40.249Z"
   },
   {
    "duration": 226,
    "start_time": "2022-01-09T11:11:20.834Z"
   },
   {
    "duration": 12,
    "start_time": "2022-01-09T11:11:32.677Z"
   },
   {
    "duration": 13,
    "start_time": "2022-01-09T11:12:25.451Z"
   },
   {
    "duration": 12,
    "start_time": "2022-01-09T11:12:33.079Z"
   },
   {
    "duration": 12,
    "start_time": "2022-01-09T11:12:38.003Z"
   },
   {
    "duration": 196,
    "start_time": "2022-01-09T11:17:52.428Z"
   },
   {
    "duration": 40,
    "start_time": "2022-01-09T11:17:58.552Z"
   },
   {
    "duration": 5,
    "start_time": "2022-01-09T11:17:58.900Z"
   },
   {
    "duration": 7,
    "start_time": "2022-01-09T11:17:59.381Z"
   },
   {
    "duration": 33,
    "start_time": "2022-01-09T11:19:51.105Z"
   },
   {
    "duration": 4,
    "start_time": "2022-01-09T11:19:55.579Z"
   },
   {
    "duration": 9,
    "start_time": "2022-01-09T11:20:03.547Z"
   },
   {
    "duration": 6,
    "start_time": "2022-01-09T11:26:10.081Z"
   },
   {
    "duration": 31,
    "start_time": "2022-01-09T12:33:22.211Z"
   },
   {
    "duration": 5,
    "start_time": "2022-01-09T12:33:22.492Z"
   },
   {
    "duration": 6,
    "start_time": "2022-01-09T12:33:22.889Z"
   },
   {
    "duration": 15,
    "start_time": "2022-01-09T12:37:34.232Z"
   },
   {
    "duration": 30,
    "start_time": "2022-01-09T12:37:35.476Z"
   },
   {
    "duration": 5,
    "start_time": "2022-01-09T12:37:37.725Z"
   },
   {
    "duration": 6,
    "start_time": "2022-01-09T12:37:54.193Z"
   },
   {
    "duration": 1223,
    "start_time": "2022-01-09T14:29:15.230Z"
   },
   {
    "duration": 57,
    "start_time": "2022-01-09T14:29:16.857Z"
   },
   {
    "duration": 236,
    "start_time": "2022-01-09T14:29:17.281Z"
   },
   {
    "duration": 134,
    "start_time": "2022-01-09T14:29:17.708Z"
   },
   {
    "duration": 24,
    "start_time": "2022-01-09T14:29:18.086Z"
   },
   {
    "duration": 196,
    "start_time": "2022-01-09T14:29:18.342Z"
   },
   {
    "duration": 8,
    "start_time": "2022-01-09T14:29:32.585Z"
   },
   {
    "duration": 8,
    "start_time": "2022-01-09T14:29:33.003Z"
   },
   {
    "duration": 27,
    "start_time": "2022-01-09T14:29:33.589Z"
   },
   {
    "duration": 123,
    "start_time": "2022-01-09T14:29:33.788Z"
   },
   {
    "duration": 19,
    "start_time": "2022-01-09T14:29:34.417Z"
   },
   {
    "duration": 59,
    "start_time": "2022-01-09T14:29:34.654Z"
   },
   {
    "duration": 21,
    "start_time": "2022-01-09T14:29:35.323Z"
   },
   {
    "duration": 55,
    "start_time": "2022-01-09T14:29:35.719Z"
   },
   {
    "duration": 27,
    "start_time": "2022-01-09T14:29:36.209Z"
   },
   {
    "duration": 21,
    "start_time": "2022-01-09T14:29:40.260Z"
   },
   {
    "duration": 77,
    "start_time": "2022-01-09T14:29:40.853Z"
   },
   {
    "duration": 43,
    "start_time": "2022-01-09T14:29:41.600Z"
   },
   {
    "duration": 48,
    "start_time": "2022-01-09T14:29:42.138Z"
   },
   {
    "duration": 32,
    "start_time": "2022-01-09T14:29:42.495Z"
   },
   {
    "duration": 54,
    "start_time": "2022-01-09T14:29:42.830Z"
   },
   {
    "duration": 19,
    "start_time": "2022-01-09T14:29:43.165Z"
   },
   {
    "duration": 39,
    "start_time": "2022-01-09T14:29:48.928Z"
   },
   {
    "duration": 35,
    "start_time": "2022-01-09T14:29:50.527Z"
   },
   {
    "duration": 46,
    "start_time": "2022-01-09T14:29:51.423Z"
   },
   {
    "duration": 43,
    "start_time": "2022-01-09T14:29:52.453Z"
   },
   {
    "duration": 17,
    "start_time": "2022-01-09T14:29:53.537Z"
   },
   {
    "duration": 34,
    "start_time": "2022-01-09T14:29:54.464Z"
   },
   {
    "duration": 32,
    "start_time": "2022-01-09T14:29:55.785Z"
   },
   {
    "duration": 22,
    "start_time": "2022-01-09T14:29:56.229Z"
   },
   {
    "duration": 55,
    "start_time": "2022-01-09T14:29:56.849Z"
   },
   {
    "duration": 32,
    "start_time": "2022-01-09T14:29:57.366Z"
   },
   {
    "duration": 18,
    "start_time": "2022-01-09T14:29:58.880Z"
   },
   {
    "duration": 16,
    "start_time": "2022-01-09T14:30:01.840Z"
   },
   {
    "duration": 23,
    "start_time": "2022-01-09T14:30:02.562Z"
   },
   {
    "duration": 7,
    "start_time": "2022-01-09T14:30:04.929Z"
   },
   {
    "duration": 13,
    "start_time": "2022-01-09T14:30:05.228Z"
   },
   {
    "duration": 6,
    "start_time": "2022-01-09T14:30:38.092Z"
   },
   {
    "duration": 27,
    "start_time": "2022-01-09T14:30:39.682Z"
   },
   {
    "duration": 28,
    "start_time": "2022-01-09T14:30:40.886Z"
   },
   {
    "duration": 23,
    "start_time": "2022-01-09T14:30:41.420Z"
   },
   {
    "duration": 8,
    "start_time": "2022-01-09T14:30:42.665Z"
   },
   {
    "duration": 28,
    "start_time": "2022-01-09T14:30:42.675Z"
   },
   {
    "duration": 26,
    "start_time": "2022-01-09T14:30:43.018Z"
   },
   {
    "duration": 23,
    "start_time": "2022-01-09T14:30:43.424Z"
   },
   {
    "duration": 44596,
    "start_time": "2022-01-09T14:30:51.531Z"
   },
   {
    "duration": 9,
    "start_time": "2022-01-09T14:31:36.129Z"
   },
   {
    "duration": 504,
    "start_time": "2022-01-09T14:31:55.220Z"
   },
   {
    "duration": 333,
    "start_time": "2022-01-09T14:31:56.278Z"
   },
   {
    "duration": 368,
    "start_time": "2022-01-09T14:31:57.002Z"
   },
   {
    "duration": 355,
    "start_time": "2022-01-09T14:31:57.662Z"
   },
   {
    "duration": 31,
    "start_time": "2022-01-09T14:31:58.585Z"
   },
   {
    "duration": 31,
    "start_time": "2022-01-09T14:31:59.226Z"
   },
   {
    "duration": 9,
    "start_time": "2022-01-09T14:31:59.708Z"
   },
   {
    "duration": 18,
    "start_time": "2022-01-09T14:32:35.680Z"
   },
   {
    "duration": 17,
    "start_time": "2022-01-09T14:32:56.570Z"
   },
   {
    "duration": 49,
    "start_time": "2022-01-09T14:33:03.452Z"
   },
   {
    "duration": 6,
    "start_time": "2022-01-09T14:33:04.349Z"
   },
   {
    "duration": 9,
    "start_time": "2022-01-09T14:33:05.171Z"
   },
   {
    "duration": 23,
    "start_time": "2022-01-09T14:33:32.698Z"
   },
   {
    "duration": 44,
    "start_time": "2022-01-09T14:33:33.289Z"
   },
   {
    "duration": 7,
    "start_time": "2022-01-09T14:33:33.881Z"
   },
   {
    "duration": 9,
    "start_time": "2022-01-09T14:33:37.250Z"
   }
  ],
  "kernelspec": {
   "display_name": "Python 3 (ipykernel)",
   "language": "python",
   "name": "python3"
  },
  "language_info": {
   "codemirror_mode": {
    "name": "ipython",
    "version": 3
   },
   "file_extension": ".py",
   "mimetype": "text/x-python",
   "name": "python",
   "nbconvert_exporter": "python",
   "pygments_lexer": "ipython3",
   "version": "3.9.12"
  },
  "toc": {
   "base_numbering": 1,
   "nav_menu": {},
   "number_sections": true,
   "sideBar": true,
   "skip_h1_title": true,
   "title_cell": "Table of Contents",
   "title_sidebar": "Contents",
   "toc_cell": false,
   "toc_position": {},
   "toc_section_display": true,
   "toc_window_display": false
  }
 },
 "nbformat": 4,
 "nbformat_minor": 5
}
