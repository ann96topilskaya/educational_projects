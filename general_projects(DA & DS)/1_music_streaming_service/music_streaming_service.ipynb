{
 "cells": [
  {
   "cell_type": "markdown",
   "metadata": {
    "id": "E0vqbgi9ay0H"
   },
   "source": [
    "# Музыкальный стриминговый сервис"
   ]
  },
  {
   "cell_type": "markdown",
   "metadata": {
    "id": "VUC88oWjTJw2"
   },
   "source": [
    "На данных музыкального стримингого сервиса необходимо сравнить поведение пользователей двух столиц: Москвы и Санкт-Петербурга.\n",
    "\n",
    "**Цель исследования** — проверить три гипотезы:\n",
    "1. Активность пользователей в зависимости от дня недели. В разных городах по-разному. \n",
    "2. Преобладание жанров в понедельник утром в Москве и Питере. А также преобладание жанров в пятницу вечером в зависимости от города.\n",
    "3. Москва и Петербург предпочитают разные жанры музыки. В Москве чаще слушают поп-музыку, в Петербурге — русский рэп.\n",
    "\n",
    "**Ход исследования**\n",
    "\n",
    "1. Обзор данных.\n",
    "2. Предобработка данных.\n",
    "3. Проверка гипотез."
   ]
  },
  {
   "cell_type": "markdown",
   "metadata": {
    "id": "Ml1hmfXC_Zcs"
   },
   "source": [
    "## Обзор данных\n",
    "\n",
    "Знакомство с данными сервиса."
   ]
  },
  {
   "cell_type": "code",
   "execution_count": 1,
   "metadata": {
    "id": "AXN7PHPN_Zcs"
   },
   "outputs": [],
   "source": [
    "# импорт библиотеки pandas\n",
    "import pandas as pd "
   ]
  },
  {
   "cell_type": "code",
   "execution_count": 2,
   "metadata": {
    "id": "fFVu7vqh_Zct"
   },
   "outputs": [],
   "source": [
    "# чтение файла с данными и сохранение в df\n",
    "df = pd.read_csv('/datasets/yandex_music_project.csv')"
   ]
  },
  {
   "cell_type": "code",
   "execution_count": 3,
   "metadata": {
    "id": "oWTVX3gW_Zct"
   },
   "outputs": [
    {
     "data": {
      "text/html": [
       "<div>\n",
       "<style scoped>\n",
       "    .dataframe tbody tr th:only-of-type {\n",
       "        vertical-align: middle;\n",
       "    }\n",
       "\n",
       "    .dataframe tbody tr th {\n",
       "        vertical-align: top;\n",
       "    }\n",
       "\n",
       "    .dataframe thead th {\n",
       "        text-align: right;\n",
       "    }\n",
       "</style>\n",
       "<table border=\"1\" class=\"dataframe\">\n",
       "  <thead>\n",
       "    <tr style=\"text-align: right;\">\n",
       "      <th></th>\n",
       "      <th>userID</th>\n",
       "      <th>Track</th>\n",
       "      <th>artist</th>\n",
       "      <th>genre</th>\n",
       "      <th>City</th>\n",
       "      <th>time</th>\n",
       "      <th>Day</th>\n",
       "    </tr>\n",
       "  </thead>\n",
       "  <tbody>\n",
       "    <tr>\n",
       "      <th>0</th>\n",
       "      <td>FFB692EC</td>\n",
       "      <td>Kamigata To Boots</td>\n",
       "      <td>The Mass Missile</td>\n",
       "      <td>rock</td>\n",
       "      <td>Saint-Petersburg</td>\n",
       "      <td>20:28:33</td>\n",
       "      <td>Wednesday</td>\n",
       "    </tr>\n",
       "    <tr>\n",
       "      <th>1</th>\n",
       "      <td>55204538</td>\n",
       "      <td>Delayed Because of Accident</td>\n",
       "      <td>Andreas Rönnberg</td>\n",
       "      <td>rock</td>\n",
       "      <td>Moscow</td>\n",
       "      <td>14:07:09</td>\n",
       "      <td>Friday</td>\n",
       "    </tr>\n",
       "    <tr>\n",
       "      <th>2</th>\n",
       "      <td>20EC38</td>\n",
       "      <td>Funiculì funiculà</td>\n",
       "      <td>Mario Lanza</td>\n",
       "      <td>pop</td>\n",
       "      <td>Saint-Petersburg</td>\n",
       "      <td>20:58:07</td>\n",
       "      <td>Wednesday</td>\n",
       "    </tr>\n",
       "    <tr>\n",
       "      <th>3</th>\n",
       "      <td>A3DD03C9</td>\n",
       "      <td>Dragons in the Sunset</td>\n",
       "      <td>Fire + Ice</td>\n",
       "      <td>folk</td>\n",
       "      <td>Saint-Petersburg</td>\n",
       "      <td>08:37:09</td>\n",
       "      <td>Monday</td>\n",
       "    </tr>\n",
       "    <tr>\n",
       "      <th>4</th>\n",
       "      <td>E2DC1FAE</td>\n",
       "      <td>Soul People</td>\n",
       "      <td>Space Echo</td>\n",
       "      <td>dance</td>\n",
       "      <td>Moscow</td>\n",
       "      <td>08:34:34</td>\n",
       "      <td>Monday</td>\n",
       "    </tr>\n",
       "    <tr>\n",
       "      <th>5</th>\n",
       "      <td>842029A1</td>\n",
       "      <td>Преданная</td>\n",
       "      <td>IMPERVTOR</td>\n",
       "      <td>rusrap</td>\n",
       "      <td>Saint-Petersburg</td>\n",
       "      <td>13:09:41</td>\n",
       "      <td>Friday</td>\n",
       "    </tr>\n",
       "    <tr>\n",
       "      <th>6</th>\n",
       "      <td>4CB90AA5</td>\n",
       "      <td>True</td>\n",
       "      <td>Roman Messer</td>\n",
       "      <td>dance</td>\n",
       "      <td>Moscow</td>\n",
       "      <td>13:00:07</td>\n",
       "      <td>Wednesday</td>\n",
       "    </tr>\n",
       "    <tr>\n",
       "      <th>7</th>\n",
       "      <td>F03E1C1F</td>\n",
       "      <td>Feeling This Way</td>\n",
       "      <td>Polina Griffith</td>\n",
       "      <td>dance</td>\n",
       "      <td>Moscow</td>\n",
       "      <td>20:47:49</td>\n",
       "      <td>Wednesday</td>\n",
       "    </tr>\n",
       "    <tr>\n",
       "      <th>8</th>\n",
       "      <td>8FA1D3BE</td>\n",
       "      <td>И вновь продолжается бой</td>\n",
       "      <td>NaN</td>\n",
       "      <td>ruspop</td>\n",
       "      <td>Moscow</td>\n",
       "      <td>09:17:40</td>\n",
       "      <td>Friday</td>\n",
       "    </tr>\n",
       "    <tr>\n",
       "      <th>9</th>\n",
       "      <td>E772D5C0</td>\n",
       "      <td>Pessimist</td>\n",
       "      <td>NaN</td>\n",
       "      <td>dance</td>\n",
       "      <td>Saint-Petersburg</td>\n",
       "      <td>21:20:49</td>\n",
       "      <td>Wednesday</td>\n",
       "    </tr>\n",
       "  </tbody>\n",
       "</table>\n",
       "</div>"
      ],
      "text/plain": [
       "     userID                        Track            artist   genre  \\\n",
       "0  FFB692EC            Kamigata To Boots  The Mass Missile    rock   \n",
       "1  55204538  Delayed Because of Accident  Andreas Rönnberg    rock   \n",
       "2    20EC38            Funiculì funiculà       Mario Lanza     pop   \n",
       "3  A3DD03C9        Dragons in the Sunset        Fire + Ice    folk   \n",
       "4  E2DC1FAE                  Soul People        Space Echo   dance   \n",
       "5  842029A1                    Преданная         IMPERVTOR  rusrap   \n",
       "6  4CB90AA5                         True      Roman Messer   dance   \n",
       "7  F03E1C1F             Feeling This Way   Polina Griffith   dance   \n",
       "8  8FA1D3BE     И вновь продолжается бой               NaN  ruspop   \n",
       "9  E772D5C0                    Pessimist               NaN   dance   \n",
       "\n",
       "             City        time        Day  \n",
       "0  Saint-Petersburg  20:28:33  Wednesday  \n",
       "1            Moscow  14:07:09     Friday  \n",
       "2  Saint-Petersburg  20:58:07  Wednesday  \n",
       "3  Saint-Petersburg  08:37:09     Monday  \n",
       "4            Moscow  08:34:34     Monday  \n",
       "5  Saint-Petersburg  13:09:41     Friday  \n",
       "6            Moscow  13:00:07  Wednesday  \n",
       "7            Moscow  20:47:49  Wednesday  \n",
       "8            Moscow  09:17:40     Friday  \n",
       "9  Saint-Petersburg  21:20:49  Wednesday  "
      ]
     },
     "execution_count": 3,
     "metadata": {},
     "output_type": "execute_result"
    }
   ],
   "source": [
    "# получение первых 10 строк таблицы df\n",
    "df.head(10)"
   ]
  },
  {
   "cell_type": "code",
   "execution_count": 4,
   "metadata": {
    "id": "DSf2kIb-_Zct"
   },
   "outputs": [
    {
     "name": "stdout",
     "output_type": "stream",
     "text": [
      "<class 'pandas.core.frame.DataFrame'>\n",
      "RangeIndex: 65079 entries, 0 to 65078\n",
      "Data columns (total 7 columns):\n",
      " #   Column    Non-Null Count  Dtype \n",
      "---  ------    --------------  ----- \n",
      " 0     userID  65079 non-null  object\n",
      " 1   Track     63848 non-null  object\n",
      " 2   artist    57876 non-null  object\n",
      " 3   genre     63881 non-null  object\n",
      " 4     City    65079 non-null  object\n",
      " 5   time      65079 non-null  object\n",
      " 6   Day       65079 non-null  object\n",
      "dtypes: object(7)\n",
      "memory usage: 3.5+ MB\n"
     ]
    }
   ],
   "source": [
    "# получение общей информации о данных в таблице df\n",
    "df.info()"
   ]
  },
  {
   "cell_type": "markdown",
   "metadata": {
    "id": "TaQ2Iwbr_Zct"
   },
   "source": [
    "В таблице семь столбцов. Тип данных во всех столбцах — `object`.\n",
    "\n",
    "Согласно документации к данным:\n",
    "* `userID` — идентификатор пользователя;\n",
    "* `Track` — название трека;  \n",
    "* `artist` — имя исполнителя;\n",
    "* `genre` — название жанра;\n",
    "* `City` — город пользователя;\n",
    "* `time` — время начала прослушивания;\n",
    "* `Day` — день недели.\n",
    "\n",
    "В названиях колонок видны три нарушения стиля:\n",
    "1. Строчные буквы сочетаются с прописными.\n",
    "2. Встречаются пробелы.\n",
    "3. Отсутствует змеиный регистр.\n",
    "\n",
    "Количество значений в столбцах различается. Значит, в данных есть пропущенные значения."
   ]
  },
  {
   "cell_type": "markdown",
   "metadata": {
    "id": "MCB6-dXG_Zct"
   },
   "source": [
    "**Выводы**\n",
    "\n",
    "При знакомстве с данными было отмечено следующее:\n",
    "\n",
    "Строка - данные конкретного прослушенного трека. Столбцы - данные и о треке (название, исполнитель, жанр), и о прослушавшем его пользователе (id, город, время и день прослушивания).\n",
    "\n",
    "На первый взгляд все данные в норме, но есть некоторые недочёты: нарушение стиля, пропуски, возможные дубликаты. Устраню эти проблемы для проведения дальнейшей работы с данными."
   ]
  },
  {
   "cell_type": "markdown",
   "metadata": {
    "id": "SjYF6Ub9_Zct"
   },
   "source": [
    "## Предобработка данных\n",
    "\n",
    "- Исправление стиля в заголовках столбцов \n",
    "- Работа с пропусками \n",
    "- Проверка данных на дубликаты."
   ]
  },
  {
   "cell_type": "markdown",
   "metadata": {
    "id": "dIaKXr29_Zct"
   },
   "source": [
    "### Заголовки\n"
   ]
  },
  {
   "cell_type": "code",
   "execution_count": 5,
   "metadata": {
    "id": "oKOTdF_Q_Zct"
   },
   "outputs": [
    {
     "data": {
      "text/plain": [
       "Index(['  userID', 'Track', 'artist', 'genre', '  City  ', 'time', 'Day'], dtype='object')"
      ]
     },
     "execution_count": 5,
     "metadata": {},
     "output_type": "execute_result"
    }
   ],
   "source": [
    "# перечень названий столбцов таблицы df\n",
    "df.columns"
   ]
  },
  {
   "cell_type": "code",
   "execution_count": 6,
   "metadata": {
    "id": "ISlFqs5y_Zct"
   },
   "outputs": [],
   "source": [
    "# переименование столбцов\n",
    "df = df.rename(columns={'  userID':'user_id', 'Track':'track','  City  ':'city', 'Day':'day'})"
   ]
  },
  {
   "cell_type": "code",
   "execution_count": 7,
   "metadata": {
    "id": "d4NOAmTW_Zct"
   },
   "outputs": [
    {
     "data": {
      "text/plain": [
       "Index(['user_id', 'track', 'artist', 'genre', 'city', 'time', 'day'], dtype='object')"
      ]
     },
     "execution_count": 7,
     "metadata": {},
     "output_type": "execute_result"
    }
   ],
   "source": [
    "# проверка результатов - перечень названий столбцов\n",
    "df.columns"
   ]
  },
  {
   "cell_type": "markdown",
   "metadata": {
    "id": "5ISfbcfY_Zct"
   },
   "source": [
    "### Пропуски значений"
   ]
  },
  {
   "cell_type": "code",
   "execution_count": 8,
   "metadata": {
    "id": "RskX29qr_Zct"
   },
   "outputs": [
    {
     "name": "stdout",
     "output_type": "stream",
     "text": [
      "user_id       0\n",
      "track      1231\n",
      "artist     7203\n",
      "genre      1198\n",
      "city          0\n",
      "time          0\n",
      "day           0\n",
      "dtype: int64\n"
     ]
    }
   ],
   "source": [
    "# подсчёт пропусков\n",
    "counting_null = df.isna().sum()\n",
    "print(counting_null)"
   ]
  },
  {
   "cell_type": "markdown",
   "metadata": {
    "id": "fSv2laPA_Zct"
   },
   "source": [
    "Заменяю пропущенные значения в столбцах 'track', 'artist' и 'genre' на особое значение 'unknown', так как не могу подобрать точное значение."
   ]
  },
  {
   "cell_type": "code",
   "execution_count": 9,
   "metadata": {
    "id": "KplB5qWs_Zct"
   },
   "outputs": [],
   "source": [
    "# перебор названий столбцов в цикле и замена пропущенных значений на 'unknown'\n",
    "columns_to_replace = ['track','artist','genre']\n",
    "for i in columns_to_replace:\n",
    "    df[i] = df[i].fillna('unknown')"
   ]
  },
  {
   "cell_type": "code",
   "execution_count": 10,
   "metadata": {
    "id": "Tq4nYRX4_Zct"
   },
   "outputs": [
    {
     "name": "stdout",
     "output_type": "stream",
     "text": [
      "user_id    0\n",
      "track      0\n",
      "artist     0\n",
      "genre      0\n",
      "city       0\n",
      "time       0\n",
      "day        0\n",
      "dtype: int64\n"
     ]
    }
   ],
   "source": [
    "# подсчёт пропусков\n",
    "counting_null = df.isna().sum()\n",
    "print(counting_null)"
   ]
  },
  {
   "cell_type": "markdown",
   "metadata": {
    "id": "BWKRtBJ3_Zct"
   },
   "source": [
    "### Дубликаты"
   ]
  },
  {
   "cell_type": "code",
   "execution_count": 11,
   "metadata": {
    "id": "36eES_S0_Zct"
   },
   "outputs": [
    {
     "name": "stdout",
     "output_type": "stream",
     "text": [
      "3826\n"
     ]
    }
   ],
   "source": [
    "# подсчёт явных дубликатов\n",
    "counting_duplicates = df.duplicated().sum()\n",
    "print(counting_duplicates)"
   ]
  },
  {
   "cell_type": "code",
   "execution_count": 12,
   "metadata": {
    "id": "exFHq6tt_Zct"
   },
   "outputs": [],
   "source": [
    "# удаление явных дубликатов (с удалением старых индексов и формированием новых)\n",
    "df = df.drop_duplicates().reset_index(drop = True)"
   ]
  },
  {
   "cell_type": "code",
   "execution_count": 13,
   "metadata": {
    "id": "-8PuNWQ0_Zct"
   },
   "outputs": [
    {
     "name": "stdout",
     "output_type": "stream",
     "text": [
      "0\n"
     ]
    }
   ],
   "source": [
    "# проверка на отсутствие дубликатов\n",
    "counting_duplicates = df.duplicated().sum()\n",
    "print(counting_duplicates)"
   ]
  },
  {
   "cell_type": "markdown",
   "metadata": {
    "id": "QlFBsxAr_Zct"
   },
   "source": [
    "Проверяю столбец 'genre' на наличие дубликатов, так как название одного и того же жанра может быть написано по-разному, приведу все к одинаковым значениям."
   ]
  },
  {
   "cell_type": "code",
   "execution_count": 14,
   "metadata": {
    "id": "JIUcqzZN_Zct"
   },
   "outputs": [
    {
     "name": "stdout",
     "output_type": "stream",
     "text": [
      "['acid' 'acoustic' 'action' 'adult' 'africa' 'afrikaans' 'alternative'\n",
      " 'alternativepunk' 'ambient' 'americana' 'animated' 'anime' 'arabesk'\n",
      " 'arabic' 'arena' 'argentinetango' 'art' 'audiobook' 'author' 'avantgarde'\n",
      " 'axé' 'baile' 'balkan' 'beats' 'bigroom' 'black' 'bluegrass' 'blues'\n",
      " 'bollywood' 'bossa' 'brazilian' 'breakbeat' 'breaks' 'broadway'\n",
      " 'cantautori' 'cantopop' 'canzone' 'caribbean' 'caucasian' 'celtic'\n",
      " 'chamber' 'chanson' 'children' 'chill' 'chinese' 'choral' 'christian'\n",
      " 'christmas' 'classical' 'classicmetal' 'club' 'colombian' 'comedy'\n",
      " 'conjazz' 'contemporary' 'country' 'cuban' 'dance' 'dancehall' 'dancepop'\n",
      " 'dark' 'death' 'deep' 'deutschrock' 'deutschspr' 'dirty' 'disco' 'dnb'\n",
      " 'documentary' 'downbeat' 'downtempo' 'drum' 'dub' 'dubstep' 'eastern'\n",
      " 'easy' 'electronic' 'electropop' 'emo' 'entehno' 'epicmetal' 'estrada'\n",
      " 'ethnic' 'eurofolk' 'european' 'experimental' 'extrememetal' 'fado'\n",
      " 'fairytail' 'film' 'fitness' 'flamenco' 'folk' 'folklore' 'folkmetal'\n",
      " 'folkrock' 'folktronica' 'forró' 'frankreich' 'französisch' 'french'\n",
      " 'funk' 'future' 'gangsta' 'garage' 'german' 'ghazal' 'gitarre' 'glitch'\n",
      " 'gospel' 'gothic' 'grime' 'grunge' 'gypsy' 'handsup' \"hard'n'heavy\"\n",
      " 'hardcore' 'hardstyle' 'hardtechno' 'hip' 'hip-hop' 'hiphop' 'historisch'\n",
      " 'holiday' 'hop' 'horror' 'house' 'hymn' 'idm' 'independent' 'indian'\n",
      " 'indie' 'indipop' 'industrial' 'inspirational' 'instrumental'\n",
      " 'international' 'irish' 'jam' 'japanese' 'jazz' 'jewish' 'jpop' 'jungle'\n",
      " 'k-pop' 'karadeniz' 'karaoke' 'kayokyoku' 'korean' 'laiko' 'latin'\n",
      " 'latino' 'leftfield' 'local' 'lounge' 'loungeelectronic' 'lovers'\n",
      " 'malaysian' 'mandopop' 'marschmusik' 'meditative' 'mediterranean'\n",
      " 'melodic' 'metal' 'metalcore' 'mexican' 'middle' 'minimal'\n",
      " 'miscellaneous' 'modern' 'mood' 'mpb' 'muslim' 'native' 'neoklassik'\n",
      " 'neue' 'new' 'newage' 'newwave' 'nu' 'nujazz' 'numetal' 'oceania' 'old'\n",
      " 'opera' 'orchestral' 'other' 'piano' 'podcasts' 'pop' 'popdance'\n",
      " 'popelectronic' 'popeurodance' 'poprussian' 'post' 'posthardcore'\n",
      " 'postrock' 'power' 'progmetal' 'progressive' 'psychedelic' 'punjabi'\n",
      " 'punk' 'quebecois' 'ragga' 'ram' 'rancheras' 'rap' 'rave' 'reggae'\n",
      " 'reggaeton' 'regional' 'relax' 'religious' 'retro' 'rhythm' 'rnb' 'rnr'\n",
      " 'rock' 'rockabilly' 'rockalternative' 'rockindie' 'rockother' 'romance'\n",
      " 'roots' 'ruspop' 'rusrap' 'rusrock' 'russian' 'salsa' 'samba' 'scenic'\n",
      " 'schlager' 'self' 'sertanejo' 'shanson' 'shoegazing' 'showtunes' 'singer'\n",
      " 'ska' 'skarock' 'slow' 'smooth' 'soft' 'soul' 'soulful' 'sound'\n",
      " 'soundtrack' 'southern' 'specialty' 'speech' 'spiritual' 'sport'\n",
      " 'stonerrock' 'surf' 'swing' 'synthpop' 'synthrock' 'sängerportrait'\n",
      " 'tango' 'tanzorchester' 'taraftar' 'tatar' 'tech' 'techno' 'teen'\n",
      " 'thrash' 'top' 'traditional' 'tradjazz' 'trance' 'tribal' 'trip'\n",
      " 'triphop' 'tropical' 'türk' 'türkçe' 'ukrrock' 'unknown' 'urban' 'uzbek'\n",
      " 'variété' 'vi' 'videogame' 'vocal' 'western' 'world' 'worldbeat' 'ïîï'\n",
      " 'электроника']\n"
     ]
    }
   ],
   "source": [
    "# Просмотр уникальных названий жанров\n",
    "genres = df['genre'].sort_values().unique()\n",
    "print(genres)"
   ]
  },
  {
   "cell_type": "code",
   "execution_count": 15,
   "metadata": {
    "id": "ErNDkmns_Zct"
   },
   "outputs": [],
   "source": [
    "# Функция для замены неявных дубликатов\n",
    "def replace_wrong_genres(wrong_genres, correct_genre):\n",
    "    df['genre'] = df['genre'].replace(wrong_genres, correct_genre)\n",
    "    return"
   ]
  },
  {
   "cell_type": "code",
   "execution_count": 16,
   "metadata": {
    "id": "YN5i2hpmSo09"
   },
   "outputs": [],
   "source": [
    "# Устранение неявных дубликатов\n",
    "replace_wrong_genres('hip', 'hiphop')\n",
    "replace_wrong_genres('hop', 'hiphop')\n",
    "replace_wrong_genres('hip-hop', 'hiphop')\n",
    "replace_wrong_genres('электроника', 'electronic')\n",
    "replace_wrong_genres('ïîï', 'pop')"
   ]
  },
  {
   "cell_type": "code",
   "execution_count": 17,
   "metadata": {
    "id": "wvixALnFG15m"
   },
   "outputs": [
    {
     "name": "stdout",
     "output_type": "stream",
     "text": [
      "['acid' 'acoustic' 'action' 'adult' 'africa' 'afrikaans' 'alternative'\n",
      " 'alternativepunk' 'ambient' 'americana' 'animated' 'anime' 'arabesk'\n",
      " 'arabic' 'arena' 'argentinetango' 'art' 'audiobook' 'author' 'avantgarde'\n",
      " 'axé' 'baile' 'balkan' 'beats' 'bigroom' 'black' 'bluegrass' 'blues'\n",
      " 'bollywood' 'bossa' 'brazilian' 'breakbeat' 'breaks' 'broadway'\n",
      " 'cantautori' 'cantopop' 'canzone' 'caribbean' 'caucasian' 'celtic'\n",
      " 'chamber' 'chanson' 'children' 'chill' 'chinese' 'choral' 'christian'\n",
      " 'christmas' 'classical' 'classicmetal' 'club' 'colombian' 'comedy'\n",
      " 'conjazz' 'contemporary' 'country' 'cuban' 'dance' 'dancehall' 'dancepop'\n",
      " 'dark' 'death' 'deep' 'deutschrock' 'deutschspr' 'dirty' 'disco' 'dnb'\n",
      " 'documentary' 'downbeat' 'downtempo' 'drum' 'dub' 'dubstep' 'eastern'\n",
      " 'easy' 'electronic' 'electropop' 'emo' 'entehno' 'epicmetal' 'estrada'\n",
      " 'ethnic' 'eurofolk' 'european' 'experimental' 'extrememetal' 'fado'\n",
      " 'fairytail' 'film' 'fitness' 'flamenco' 'folk' 'folklore' 'folkmetal'\n",
      " 'folkrock' 'folktronica' 'forró' 'frankreich' 'französisch' 'french'\n",
      " 'funk' 'future' 'gangsta' 'garage' 'german' 'ghazal' 'gitarre' 'glitch'\n",
      " 'gospel' 'gothic' 'grime' 'grunge' 'gypsy' 'handsup' \"hard'n'heavy\"\n",
      " 'hardcore' 'hardstyle' 'hardtechno' 'hiphop' 'historisch' 'holiday'\n",
      " 'horror' 'house' 'hymn' 'idm' 'independent' 'indian' 'indie' 'indipop'\n",
      " 'industrial' 'inspirational' 'instrumental' 'international' 'irish' 'jam'\n",
      " 'japanese' 'jazz' 'jewish' 'jpop' 'jungle' 'k-pop' 'karadeniz' 'karaoke'\n",
      " 'kayokyoku' 'korean' 'laiko' 'latin' 'latino' 'leftfield' 'local'\n",
      " 'lounge' 'loungeelectronic' 'lovers' 'malaysian' 'mandopop' 'marschmusik'\n",
      " 'meditative' 'mediterranean' 'melodic' 'metal' 'metalcore' 'mexican'\n",
      " 'middle' 'minimal' 'miscellaneous' 'modern' 'mood' 'mpb' 'muslim'\n",
      " 'native' 'neoklassik' 'neue' 'new' 'newage' 'newwave' 'nu' 'nujazz'\n",
      " 'numetal' 'oceania' 'old' 'opera' 'orchestral' 'other' 'piano' 'podcasts'\n",
      " 'pop' 'popdance' 'popelectronic' 'popeurodance' 'poprussian' 'post'\n",
      " 'posthardcore' 'postrock' 'power' 'progmetal' 'progressive' 'psychedelic'\n",
      " 'punjabi' 'punk' 'quebecois' 'ragga' 'ram' 'rancheras' 'rap' 'rave'\n",
      " 'reggae' 'reggaeton' 'regional' 'relax' 'religious' 'retro' 'rhythm'\n",
      " 'rnb' 'rnr' 'rock' 'rockabilly' 'rockalternative' 'rockindie' 'rockother'\n",
      " 'romance' 'roots' 'ruspop' 'rusrap' 'rusrock' 'russian' 'salsa' 'samba'\n",
      " 'scenic' 'schlager' 'self' 'sertanejo' 'shanson' 'shoegazing' 'showtunes'\n",
      " 'singer' 'ska' 'skarock' 'slow' 'smooth' 'soft' 'soul' 'soulful' 'sound'\n",
      " 'soundtrack' 'southern' 'specialty' 'speech' 'spiritual' 'sport'\n",
      " 'stonerrock' 'surf' 'swing' 'synthpop' 'synthrock' 'sängerportrait'\n",
      " 'tango' 'tanzorchester' 'taraftar' 'tatar' 'tech' 'techno' 'teen'\n",
      " 'thrash' 'top' 'traditional' 'tradjazz' 'trance' 'tribal' 'trip'\n",
      " 'triphop' 'tropical' 'türk' 'türkçe' 'ukrrock' 'unknown' 'urban' 'uzbek'\n",
      " 'variété' 'vi' 'videogame' 'vocal' 'western' 'world' 'worldbeat']\n"
     ]
    }
   ],
   "source": [
    "# Проверка на неявные дубликаты\n",
    "genres = df['genre'].sort_values().unique()\n",
    "print(genres)"
   ]
  },
  {
   "cell_type": "markdown",
   "metadata": {
    "id": "jz6a9-7HQUDd"
   },
   "source": [
    "**Выводы**\n",
    "\n",
    "Решены три основные проблемы в предобработке данных:\n",
    "- неверный стиль названия столбцов приведен к корректному\n",
    "- устранены пропуски \n",
    "- устранены дубликаты\n",
    "\n",
    "Теперь данные готовы для проверки поставленных гипотез"
   ]
  },
  {
   "cell_type": "markdown",
   "metadata": {
    "id": "WttZHXH0SqKk"
   },
   "source": [
    "## Проверка гипотез"
   ]
  },
  {
   "cell_type": "markdown",
   "metadata": {
    "id": "Im936VVi_Zcu"
   },
   "source": [
    "### Сравнение поведения пользователей двух столиц"
   ]
  },
  {
   "cell_type": "markdown",
   "metadata": {
    "id": "nwt_MuaL_Zcu"
   },
   "source": [
    "Гипотеза 1: _Активность пользователей в зависимости от дня недели. В разных городах по-разному._\n",
    "\n",
    "* Проверю данное предположение по данным о трёх днях недели - понедельнике, среде и пятнице\n",
    "* Поделю выборку на две по городу пользователя: Москва и Санкт-Петербург\n",
    "* Сравню количество прослушиваний каждой группу в каждый обозначенный день недели"
   ]
  },
  {
   "cell_type": "code",
   "execution_count": 18,
   "metadata": {
    "id": "0_Qs96oh_Zcu"
   },
   "outputs": [
    {
     "name": "stdout",
     "output_type": "stream",
     "text": [
      "city\n",
      "Moscow              42741\n",
      "Saint-Petersburg    18512\n",
      "Name: user_id, dtype: int64\n"
     ]
    }
   ],
   "source": [
    "# Подсчёт прослушиваний в каждом городе\n",
    "population_count = df.groupby('city')['user_id'].count()\n",
    "print(population_count) "
   ]
  },
  {
   "cell_type": "code",
   "execution_count": 19,
   "metadata": {
    "id": "uZMKjiJz_Zcu"
   },
   "outputs": [
    {
     "name": "stdout",
     "output_type": "stream",
     "text": [
      "day\n",
      "Friday       21840\n",
      "Monday       21354\n",
      "Wednesday    18059\n",
      "Name: user_id, dtype: int64\n"
     ]
    }
   ],
   "source": [
    "# Подсчёт прослушиваний в каждый из трёх дней\n",
    "days_count = df.groupby('day')['user_id'].count()\n",
    "print(days_count)"
   ]
  },
  {
   "cell_type": "markdown",
   "metadata": {
    "id": "dzli3w8o_Zcu"
   },
   "source": [
    "В Москве прослушиваний больше, чем в Петербурге. Из этого не следует, что московские пользователи чаще слушают музыку. Просто самих пользователей в Москве больше.\n",
    "\n",
    "На первый взгляд прослушиваний в Москве почти в 2,5 раза больше, чем в Санкт-Петербурге, но это может быть не из-за частого прослушивания именно жителями Москвы, а из-за того, что в столице в принципе население больше, чем в Санкт-Петербурге.\n",
    "\n",
    "Также при сравнении количества прослушиваний в конкретный день недели вижу, что пятница и понедельник - самые активные дни. Но при делении выборки по городам это может измениться.\n",
    "\n",
    "Создам функцию для подсчета прослушиваний для конкретного дня и города."
   ]
  },
  {
   "cell_type": "code",
   "execution_count": 20,
   "metadata": {
    "id": "Nz3GdQB1_Zcu"
   },
   "outputs": [],
   "source": [
    "# создание функции number_tracks()\n",
    "# два параметрами: day, city.\n",
    "def number_tracks(day, city):\n",
    "    track_list_day = df[df['day'] == day]\n",
    "    track_list = track_list_day[track_list_day['city'] == city]\n",
    "    track_list_count = track_list['user_id'].count()\n",
    "    return track_list_count"
   ]
  },
  {
   "cell_type": "code",
   "execution_count": 21,
   "metadata": {
    "id": "rJcRATNQ_Zcu"
   },
   "outputs": [
    {
     "data": {
      "text/plain": [
       "15740"
      ]
     },
     "execution_count": 21,
     "metadata": {},
     "output_type": "execute_result"
    }
   ],
   "source": [
    "# количество прослушиваний в Москве по понедельникам\n",
    "number_tracks('Monday', 'Moscow')"
   ]
  },
  {
   "cell_type": "code",
   "execution_count": 22,
   "metadata": {
    "id": "hq_ncZ5T_Zcu"
   },
   "outputs": [
    {
     "data": {
      "text/plain": [
       "5614"
      ]
     },
     "execution_count": 22,
     "metadata": {},
     "output_type": "execute_result"
    }
   ],
   "source": [
    "# количество прослушиваний в Санкт-Петербурге по понедельникам\n",
    "number_tracks('Monday', 'Saint-Petersburg')"
   ]
  },
  {
   "cell_type": "code",
   "execution_count": 23,
   "metadata": {
    "id": "_NTy2VPU_Zcu"
   },
   "outputs": [
    {
     "data": {
      "text/plain": [
       "11056"
      ]
     },
     "execution_count": 23,
     "metadata": {},
     "output_type": "execute_result"
    }
   ],
   "source": [
    "# количество прослушиваний в Москве по средам\n",
    "number_tracks('Wednesday', 'Moscow')"
   ]
  },
  {
   "cell_type": "code",
   "execution_count": 24,
   "metadata": {
    "id": "j2y3TAwo_Zcu"
   },
   "outputs": [
    {
     "data": {
      "text/plain": [
       "7003"
      ]
     },
     "execution_count": 24,
     "metadata": {},
     "output_type": "execute_result"
    }
   ],
   "source": [
    "# количество прослушиваний в Санкт-Петербурге по средам\n",
    "number_tracks('Wednesday', 'Saint-Petersburg')"
   ]
  },
  {
   "cell_type": "code",
   "execution_count": 25,
   "metadata": {
    "id": "vYDw5u_K_Zcu"
   },
   "outputs": [
    {
     "data": {
      "text/plain": [
       "15945"
      ]
     },
     "execution_count": 25,
     "metadata": {},
     "output_type": "execute_result"
    }
   ],
   "source": [
    "# количество прослушиваний в Москве по пятницам\n",
    "number_tracks('Friday', 'Moscow')"
   ]
  },
  {
   "cell_type": "code",
   "execution_count": 26,
   "metadata": {
    "id": "8_yzFtW3_Zcu"
   },
   "outputs": [
    {
     "data": {
      "text/plain": [
       "5895"
      ]
     },
     "execution_count": 26,
     "metadata": {},
     "output_type": "execute_result"
    }
   ],
   "source": [
    "# количество прослушиваний в Санкт-Петербурге по пятницам\n",
    "number_tracks('Friday', 'Saint-Petersburg')"
   ]
  },
  {
   "cell_type": "markdown",
   "metadata": {
    "id": "7QXffbO-_Zcu"
   },
   "source": [
    "Создаю новую таблицу table, где столбцы - город, понедельник, среда, пятница, а строки - данные по Москве и Санкт-Петербургу, полученные с помощью функции number_tracks."
   ]
  },
  {
   "cell_type": "code",
   "execution_count": 27,
   "metadata": {
    "id": "APAcLpOr_Zcu",
    "scrolled": true
   },
   "outputs": [
    {
     "data": {
      "text/html": [
       "<div>\n",
       "<style scoped>\n",
       "    .dataframe tbody tr th:only-of-type {\n",
       "        vertical-align: middle;\n",
       "    }\n",
       "\n",
       "    .dataframe tbody tr th {\n",
       "        vertical-align: top;\n",
       "    }\n",
       "\n",
       "    .dataframe thead th {\n",
       "        text-align: right;\n",
       "    }\n",
       "</style>\n",
       "<table border=\"1\" class=\"dataframe\">\n",
       "  <thead>\n",
       "    <tr style=\"text-align: right;\">\n",
       "      <th></th>\n",
       "      <th>city</th>\n",
       "      <th>monday</th>\n",
       "      <th>wednesday</th>\n",
       "      <th>friday</th>\n",
       "    </tr>\n",
       "  </thead>\n",
       "  <tbody>\n",
       "    <tr>\n",
       "      <th>0</th>\n",
       "      <td>Moscow,</td>\n",
       "      <td>15740</td>\n",
       "      <td>11056</td>\n",
       "      <td>15945</td>\n",
       "    </tr>\n",
       "    <tr>\n",
       "      <th>1</th>\n",
       "      <td>Saint-Petersburg</td>\n",
       "      <td>5614</td>\n",
       "      <td>7003</td>\n",
       "      <td>5895</td>\n",
       "    </tr>\n",
       "  </tbody>\n",
       "</table>\n",
       "</div>"
      ],
      "text/plain": [
       "               city  monday  wednesday  friday\n",
       "0           Moscow,   15740      11056   15945\n",
       "1  Saint-Petersburg    5614       7003    5895"
      ]
     },
     "metadata": {},
     "output_type": "display_data"
    }
   ],
   "source": [
    "# Таблица с результатами\n",
    "data = [['Moscow,', \n",
    "         number_tracks('Monday', 'Moscow'), \n",
    "         number_tracks('Wednesday', 'Moscow'), \n",
    "         number_tracks('Friday', 'Moscow')],\n",
    "        ['Saint-Petersburg', \n",
    "         number_tracks('Monday', 'Saint-Petersburg'), \n",
    "         number_tracks('Wednesday', 'Saint-Petersburg'), \n",
    "         number_tracks('Friday', 'Saint-Petersburg')]]\n",
    "columns = ['city', 'monday', 'wednesday', 'friday']\n",
    "table = pd.DataFrame(data=data, columns=columns)\n",
    "display(table)"
   ]
  },
  {
   "cell_type": "markdown",
   "metadata": {
    "id": "-EgPIHYu_Zcu"
   },
   "source": [
    "**Выводы**\n",
    "\n",
    "Данные показывают разницу поведения пользователей:\n",
    "\n",
    "- В Москве пик прослушиваний приходится на понедельник и пятницу, а в среду заметен спад.\n",
    "- В Петербурге, наоборот, больше слушают музыку по средам. Активность в понедельник и пятницу здесь почти в равной мере уступает среде.\n",
    "\n",
    "Значит, данные подтверждают верность первой гипотезы."
   ]
  },
  {
   "cell_type": "markdown",
   "metadata": {
    "id": "atZAxtq4_Zcu"
   },
   "source": [
    "### Музыка в начале и в конце недели"
   ]
  },
  {
   "cell_type": "markdown",
   "metadata": {
    "id": "eXrQqXFH_Zcu"
   },
   "source": [
    "Гипотеза 2: _Преобладание жанров в понедельник утром в Москве и Питере. А также преобладание жанров в пятницу вечером в зависимости от города._"
   ]
  },
  {
   "cell_type": "markdown",
   "metadata": {
    "id": "S8UcW6Hw_Zcu"
   },
   "source": [
    "Создаю два датафрейма: срезы по городам"
   ]
  },
  {
   "cell_type": "code",
   "execution_count": 28,
   "metadata": {
    "id": "qeaFfM_P_Zcu"
   },
   "outputs": [],
   "source": [
    "# получение таблицы moscow_general из тех строк таблицы df, \n",
    "# для которых значение в столбце 'city' равно 'Moscow'\n",
    "moscow_general = df[df['city'] == 'Moscow']"
   ]
  },
  {
   "cell_type": "code",
   "execution_count": 29,
   "metadata": {
    "id": "ORaVRKto_Zcu"
   },
   "outputs": [],
   "source": [
    "# получение таблицы spb_general из тех строк таблицы df,\n",
    "# для которых значение в столбце 'city' равно 'Saint-Petersburg'\n",
    "spb_general = df[df['city'] == 'Saint-Petersburg']"
   ]
  },
  {
   "cell_type": "markdown",
   "metadata": {
    "id": "MEJV-CX2_Zcu"
   },
   "source": [
    "Создаю функцию `genre_weekday()`, которая должна вернуть информацию о топ-10 жанров тех треков, которые прослушивали в указанный день, в промежутке между двумя отметками времени."
   ]
  },
  {
   "cell_type": "code",
   "execution_count": 30,
   "metadata": {
    "id": "laJT9BYl_Zcu"
   },
   "outputs": [],
   "source": [
    "def genre_weekday(table, day, time1, time2):\n",
    "#   table - датафрейм, \n",
    "#   day - значение аргумента day\n",
    "#   time больше значения аргумента time1\n",
    "#   time меньше значения аргумента time2\n",
    "    genre1 = table[table['day'] == day]\n",
    "    genre2 = genre1[genre1['time'] > time1]\n",
    "    genre_df = genre2[genre2['time'] < time2]\n",
    "#   сгруппирую датафрейм genre_df по столбцу genre и посчитаю количество\n",
    "\n",
    "    genre_df_count = genre_df.groupby('genre')['user_id'].count()\n",
    "#   отсортирую genre_df_count по убыванию встречаемости и сохраню\n",
    "#   в переменную genre_df_sorted\n",
    "    genre_df_sorted = genre_df_count.sort_values(ascending = False)\n",
    "\n",
    "    return genre_df_sorted.head(10)"
   ]
  },
  {
   "cell_type": "markdown",
   "metadata": {
    "id": "la2s2_PF_Zcu"
   },
   "source": [
    "Cравнение результатов функции для Москвы и Санкт-Петербурга в понедельник утром (с 7:00 до 11:00) и в пятницу вечером (с 17:00 до 23:00):"
   ]
  },
  {
   "cell_type": "code",
   "execution_count": 31,
   "metadata": {
    "id": "yz7itPUQ_Zcu"
   },
   "outputs": [
    {
     "data": {
      "text/plain": [
       "genre\n",
       "pop            781\n",
       "dance          549\n",
       "electronic     480\n",
       "rock           474\n",
       "hiphop         286\n",
       "ruspop         186\n",
       "world          181\n",
       "rusrap         175\n",
       "alternative    164\n",
       "unknown        161\n",
       "Name: user_id, dtype: int64"
      ]
     },
     "execution_count": 31,
     "metadata": {},
     "output_type": "execute_result"
    }
   ],
   "source": [
    "genre_weekday(moscow_general, 'Monday', '07:00', '11:00')\n"
   ]
  },
  {
   "cell_type": "code",
   "execution_count": 32,
   "metadata": {
    "id": "kwUcHPdy_Zcu"
   },
   "outputs": [
    {
     "data": {
      "text/plain": [
       "genre\n",
       "pop            218\n",
       "dance          182\n",
       "rock           162\n",
       "electronic     147\n",
       "hiphop          80\n",
       "ruspop          64\n",
       "alternative     58\n",
       "rusrap          55\n",
       "jazz            44\n",
       "classical       40\n",
       "Name: user_id, dtype: int64"
      ]
     },
     "execution_count": 32,
     "metadata": {},
     "output_type": "execute_result"
    }
   ],
   "source": [
    "# вызов функции для утра понедельника в Петербурге (вместо df — таблица spb_general)\n",
    "genre_weekday(spb_general, 'Monday', '07:00', '11:00')"
   ]
  },
  {
   "cell_type": "code",
   "execution_count": 33,
   "metadata": {
    "id": "EzXVRE1o_Zcu"
   },
   "outputs": [
    {
     "data": {
      "text/plain": [
       "genre\n",
       "pop            713\n",
       "rock           517\n",
       "dance          495\n",
       "electronic     482\n",
       "hiphop         273\n",
       "world          208\n",
       "ruspop         170\n",
       "alternative    163\n",
       "classical      163\n",
       "rusrap         142\n",
       "Name: user_id, dtype: int64"
      ]
     },
     "execution_count": 33,
     "metadata": {},
     "output_type": "execute_result"
    }
   ],
   "source": [
    "# вызов функции для вечера пятницы в Москве\n",
    "genre_weekday(moscow_general, 'Friday', '17:00', '23:00')"
   ]
  },
  {
   "cell_type": "code",
   "execution_count": 34,
   "metadata": {
    "id": "JZaEKu5v_Zcu"
   },
   "outputs": [
    {
     "data": {
      "text/plain": [
       "genre\n",
       "pop            256\n",
       "electronic     216\n",
       "rock           216\n",
       "dance          210\n",
       "hiphop          97\n",
       "alternative     63\n",
       "jazz            61\n",
       "classical       60\n",
       "rusrap          59\n",
       "world           54\n",
       "Name: user_id, dtype: int64"
      ]
     },
     "execution_count": 34,
     "metadata": {},
     "output_type": "execute_result"
    }
   ],
   "source": [
    "# вызов функции для вечера пятницы в Петербурге\n",
    "genre_weekday(spb_general, 'Friday', '17:00', '23:00')"
   ]
  },
  {
   "cell_type": "markdown",
   "metadata": {
    "id": "wrCe4MNX_Zcu"
   },
   "source": [
    "**Выводы**\n",
    "\n",
    "Если сравнить топ-10 жанров в понедельник утром, можно сделать такие выводы:\n",
    "\n",
    "1. В Москве и Петербурге слушают похожую музыку. Единственное отличие — в московский рейтинг вошёл жанр “world”, а в петербургский — джаз и классика.\n",
    "\n",
    "2. В Москве пропущенных значений оказалось так много, что значение `'unknown'` заняло десятое место среди самых популярных жанров. Значит, пропущенные значения занимают существенную долю в данных и угрожают достоверности исследования.\n",
    "\n",
    "Вечер пятницы не меняет эту картину. Некоторые жанры поднимаются немного выше, другие спускаются, но в целом топ-10 остаётся тем же самым.\n",
    "\n",
    "Таким образом, вторая гипотеза подтвердилась лишь частично:\n",
    "* Пользователи слушают похожую музыку в начале недели и в конце.\n",
    "* Разница между Москвой и Петербургом не слишком выражена. В Москве чаще слушают русскую популярную музыку, в Петербурге — джаз.\n",
    "\n",
    "Однако пропуски в данных ставят под сомнение этот результат. В Москве их так много, что рейтинг топ-10 мог бы выглядеть иначе, если бы не утерянные  данные о жанрах."
   ]
  },
  {
   "cell_type": "markdown",
   "metadata": {
    "id": "JolODAqr_Zcu"
   },
   "source": [
    "### Жанровые предпочтения в Москве и Петербурге\n",
    "\n",
    "Гипотеза 3: _Москва и Петербург предпочитают разные жанры музыки. В Москве чаще слушают поп-музыку, в Петербурге — русский рэп._"
   ]
  },
  {
   "cell_type": "code",
   "execution_count": 35,
   "metadata": {
    "id": "r19lIPke_Zcu"
   },
   "outputs": [],
   "source": [
    "# группировка таблицы moscow_general по столбцу 'genre', \n",
    "moscow_genres = moscow_general.groupby('genre')['user_id'].count()\n",
    "moscow_genres = moscow_genres.sort_values(ascending = False)"
   ]
  },
  {
   "cell_type": "code",
   "execution_count": 36,
   "metadata": {
    "id": "WhCSooF8_Zcv"
   },
   "outputs": [
    {
     "name": "stdout",
     "output_type": "stream",
     "text": [
      "genre\n",
      "pop            5893\n",
      "dance          4435\n",
      "rock           3965\n",
      "electronic     3786\n",
      "hiphop         2096\n",
      "classical      1616\n",
      "world          1432\n",
      "alternative    1379\n",
      "ruspop         1372\n",
      "rusrap         1161\n",
      "Name: user_id, dtype: int64\n"
     ]
    }
   ],
   "source": [
    "# просмотр первых 10 строк moscow_genres\n",
    "print(moscow_genres.head(10))"
   ]
  },
  {
   "cell_type": "code",
   "execution_count": 37,
   "metadata": {
    "id": "gluLIpE7_Zcv"
   },
   "outputs": [],
   "source": [
    "# группировка таблицы spb_general по столбцу 'genre', \n",
    "spb_genres = spb_general.groupby('genre')['user_id'].count()\n",
    "spb_genres = spb_genres.sort_values(ascending = False)"
   ]
  },
  {
   "cell_type": "code",
   "execution_count": 38,
   "metadata": {
    "id": "uaGJHjVU_Zcv"
   },
   "outputs": [
    {
     "name": "stdout",
     "output_type": "stream",
     "text": [
      "genre\n",
      "pop            2431\n",
      "dance          1932\n",
      "rock           1879\n",
      "electronic     1737\n",
      "hiphop          960\n",
      "alternative     649\n",
      "classical       646\n",
      "rusrap          564\n",
      "ruspop          538\n",
      "world           515\n",
      "Name: user_id, dtype: int64\n"
     ]
    }
   ],
   "source": [
    "# просмотр первых 10 строк spb_genres\n",
    "print(spb_genres.head(10))"
   ]
  },
  {
   "cell_type": "markdown",
   "metadata": {
    "id": "RY51YJYu_Zcv"
   },
   "source": [
    "**Выводы**"
   ]
  },
  {
   "cell_type": "markdown",
   "metadata": {
    "id": "nVhnJEm__Zcv"
   },
   "source": [
    "Гипотеза частично подтвердилась:\n",
    "* Поп-музыка — самый популярный жанр в Москве, как и предполагала гипотеза. Более того, в топ-10 жанров встречается близкий жанр — русская популярная музыка.\n",
    "* Вопреки ожиданиям, рэп одинаково популярен в Москве и Петербурге. \n"
   ]
  },
  {
   "cell_type": "markdown",
   "metadata": {
    "id": "ykKQ0N65_Zcv"
   },
   "source": [
    "## Итоги исследования"
   ]
  },
  {
   "cell_type": "markdown",
   "metadata": {
    "id": "tjUwbHb3_Zcv"
   },
   "source": [
    "1. **Активность пользователей в зависимости от дня недели. В разных городах по-разному.**\n",
    "\n",
    "*Гипотеза 1 подтвердилась*\n",
    "\n",
    "\n",
    "2. **Преобладание жанров в понедельник утром в Москве и Питере. А также преобладание жанров в пятницу вечером в зависимости от города** \n",
    "\n",
    "*Гипотеза 2 подтвердилась частично. Из-за пропусков в данных результат мог быть другим.*\n",
    "\n",
    "\n",
    "3. **Москва и Петербург предпочитают разные жанры музыки. В Москве чаще слушают поп-музыку, в Петербурге — русский рэп.**\n",
    "*Гипотеза 3 вовсе не подвердилась. Существующие различия не заметны на основной массе пользователей.*"
   ]
  }
 ],
 "metadata": {
  "ExecuteTimeLog": [
   {
    "duration": 474,
    "start_time": "2021-11-16T11:29:18.615Z"
   },
   {
    "duration": 667,
    "start_time": "2021-11-16T11:29:25.776Z"
   },
   {
    "duration": 3,
    "start_time": "2021-11-16T11:29:29.427Z"
   },
   {
    "duration": 401,
    "start_time": "2021-11-16T11:29:52.236Z"
   },
   {
    "duration": 139,
    "start_time": "2021-11-16T11:31:00.214Z"
   },
   {
    "duration": 146,
    "start_time": "2021-11-16T11:31:02.923Z"
   },
   {
    "duration": 156,
    "start_time": "2021-11-16T11:31:29.179Z"
   },
   {
    "duration": 10,
    "start_time": "2021-11-16T11:31:58.308Z"
   },
   {
    "duration": 144,
    "start_time": "2021-11-16T11:32:06.802Z"
   },
   {
    "duration": 24,
    "start_time": "2021-11-16T11:32:22.116Z"
   },
   {
    "duration": 16,
    "start_time": "2021-11-16T11:38:14.127Z"
   },
   {
    "duration": 19,
    "start_time": "2021-11-16T11:38:37.035Z"
   },
   {
    "duration": 3,
    "start_time": "2021-11-16T11:38:52.557Z"
   },
   {
    "duration": 3,
    "start_time": "2021-11-16T11:39:02.745Z"
   },
   {
    "duration": 3,
    "start_time": "2021-11-16T11:39:13.638Z"
   },
   {
    "duration": 3,
    "start_time": "2021-11-16T11:39:42.359Z"
   },
   {
    "duration": 12,
    "start_time": "2021-11-16T11:40:30.871Z"
   },
   {
    "duration": 13,
    "start_time": "2021-11-16T11:40:34.039Z"
   },
   {
    "duration": 13,
    "start_time": "2021-11-16T11:40:41.727Z"
   },
   {
    "duration": 3,
    "start_time": "2021-11-16T11:40:46.440Z"
   },
   {
    "duration": 12,
    "start_time": "2021-11-16T11:41:52.920Z"
   },
   {
    "duration": 3,
    "start_time": "2021-11-16T11:42:03.263Z"
   },
   {
    "duration": 4,
    "start_time": "2021-11-16T11:42:14.200Z"
   },
   {
    "duration": 22,
    "start_time": "2021-11-16T11:43:25.822Z"
   },
   {
    "duration": 23,
    "start_time": "2021-11-16T11:43:36.929Z"
   },
   {
    "duration": 23,
    "start_time": "2021-11-16T11:44:11.992Z"
   },
   {
    "duration": 26,
    "start_time": "2021-11-16T11:47:50.645Z"
   },
   {
    "duration": 26,
    "start_time": "2021-11-16T11:48:05.420Z"
   },
   {
    "duration": 18,
    "start_time": "2021-11-16T11:48:26.315Z"
   },
   {
    "duration": 23,
    "start_time": "2021-11-16T11:48:56.513Z"
   },
   {
    "duration": 52,
    "start_time": "2021-11-16T11:51:49.503Z"
   },
   {
    "duration": 61,
    "start_time": "2021-11-16T11:53:27.428Z"
   },
   {
    "duration": 4,
    "start_time": "2021-11-16T11:53:42.860Z"
   },
   {
    "duration": 54,
    "start_time": "2021-11-16T11:54:02.074Z"
   },
   {
    "duration": -53,
    "start_time": "2021-11-16T11:55:55.907Z"
   },
   {
    "duration": 7,
    "start_time": "2021-11-16T11:56:07.339Z"
   },
   {
    "duration": 6,
    "start_time": "2021-11-16T11:56:36.314Z"
   },
   {
    "duration": 390,
    "start_time": "2021-11-16T11:56:47.096Z"
   },
   {
    "duration": 7,
    "start_time": "2021-11-16T11:59:18.809Z"
   },
   {
    "duration": 6,
    "start_time": "2021-11-16T11:59:27.798Z"
   },
   {
    "duration": 6,
    "start_time": "2021-11-16T12:00:21.138Z"
   },
   {
    "duration": 6,
    "start_time": "2021-11-16T12:00:27.116Z"
   },
   {
    "duration": 10,
    "start_time": "2021-11-16T12:00:34.865Z"
   },
   {
    "duration": 398,
    "start_time": "2021-11-16T12:06:59.976Z"
   },
   {
    "duration": 382,
    "start_time": "2021-11-16T12:07:19.953Z"
   },
   {
    "duration": 3,
    "start_time": "2021-11-16T12:07:29.676Z"
   },
   {
    "duration": 721,
    "start_time": "2021-11-16T12:07:32.981Z"
   },
   {
    "duration": 3,
    "start_time": "2021-11-16T12:07:53.420Z"
   },
   {
    "duration": 993,
    "start_time": "2021-11-16T12:07:54.730Z"
   },
   {
    "duration": 3,
    "start_time": "2021-11-16T12:08:21.668Z"
   },
   {
    "duration": 67,
    "start_time": "2021-11-16T12:08:23.316Z"
   },
   {
    "duration": 63,
    "start_time": "2021-11-16T12:08:25.404Z"
   },
   {
    "duration": 64,
    "start_time": "2021-11-16T12:08:27.199Z"
   },
   {
    "duration": 7,
    "start_time": "2021-11-16T12:09:00.180Z"
   },
   {
    "duration": 7,
    "start_time": "2021-11-16T12:09:18.211Z"
   },
   {
    "duration": 62,
    "start_time": "2021-11-16T12:10:43.264Z"
   },
   {
    "duration": 2,
    "start_time": "2021-11-16T12:10:44.893Z"
   },
   {
    "duration": 64,
    "start_time": "2021-11-16T12:10:46.424Z"
   },
   {
    "duration": 7,
    "start_time": "2021-11-16T12:10:48.301Z"
   },
   {
    "duration": 4,
    "start_time": "2021-11-16T12:11:01.098Z"
   },
   {
    "duration": 1705,
    "start_time": "2021-11-16T12:11:02.858Z"
   },
   {
    "duration": -17,
    "start_time": "2021-11-16T12:11:04.582Z"
   },
   {
    "duration": 779,
    "start_time": "2021-11-16T12:11:07.367Z"
   },
   {
    "duration": 3,
    "start_time": "2021-11-16T12:12:02.103Z"
   },
   {
    "duration": 762,
    "start_time": "2021-11-16T12:12:04.617Z"
   },
   {
    "duration": 4,
    "start_time": "2021-11-16T12:13:01.492Z"
   },
   {
    "duration": 11,
    "start_time": "2021-11-16T12:13:03.434Z"
   },
   {
    "duration": 7,
    "start_time": "2021-11-16T12:13:05.882Z"
   },
   {
    "duration": 11,
    "start_time": "2021-11-16T12:14:23.152Z"
   },
   {
    "duration": 8,
    "start_time": "2021-11-16T12:14:25.347Z"
   },
   {
    "duration": 15,
    "start_time": "2021-11-16T12:16:34.933Z"
   },
   {
    "duration": 15,
    "start_time": "2021-11-16T12:16:37.113Z"
   },
   {
    "duration": 7,
    "start_time": "2021-11-16T12:16:38.977Z"
   },
   {
    "duration": 31,
    "start_time": "2021-11-16T12:42:59.871Z"
   },
   {
    "duration": 30,
    "start_time": "2021-11-16T12:44:02.999Z"
   },
   {
    "duration": 10,
    "start_time": "2021-11-16T12:44:17.705Z"
   },
   {
    "duration": 29,
    "start_time": "2021-11-16T12:46:39.899Z"
   },
   {
    "duration": 30,
    "start_time": "2021-11-16T12:47:22.316Z"
   },
   {
    "duration": 407,
    "start_time": "2021-11-16T12:57:13.826Z"
   },
   {
    "duration": 3,
    "start_time": "2021-11-16T12:57:40.035Z"
   },
   {
    "duration": 17,
    "start_time": "2021-11-16T12:57:57.830Z"
   },
   {
    "duration": 4,
    "start_time": "2021-11-16T13:00:36.969Z"
   },
   {
    "duration": 25,
    "start_time": "2021-11-16T13:00:39.324Z"
   },
   {
    "duration": 3,
    "start_time": "2021-11-16T13:00:44.128Z"
   },
   {
    "duration": 17,
    "start_time": "2021-11-16T13:00:46.531Z"
   },
   {
    "duration": 15,
    "start_time": "2021-11-16T13:03:04.884Z"
   },
   {
    "duration": 16,
    "start_time": "2021-11-16T13:03:06.592Z"
   },
   {
    "duration": 15,
    "start_time": "2021-11-16T13:03:08.339Z"
   },
   {
    "duration": 18,
    "start_time": "2021-11-16T13:03:10.717Z"
   },
   {
    "duration": 15,
    "start_time": "2021-11-16T13:03:12.417Z"
   },
   {
    "duration": 363,
    "start_time": "2021-11-16T13:04:57.926Z"
   },
   {
    "duration": 363,
    "start_time": "2021-11-16T13:11:46.888Z"
   },
   {
    "duration": 365,
    "start_time": "2021-11-16T13:12:14.326Z"
   },
   {
    "duration": 8,
    "start_time": "2021-11-16T13:19:02.101Z"
   },
   {
    "duration": 19,
    "start_time": "2021-11-16T13:40:31.969Z"
   },
   {
    "duration": 13,
    "start_time": "2021-11-16T13:40:42.161Z"
   },
   {
    "duration": 9,
    "start_time": "2021-11-16T13:41:04.242Z"
   },
   {
    "duration": 360,
    "start_time": "2021-11-16T13:48:16.311Z"
   },
   {
    "duration": 352,
    "start_time": "2021-11-16T14:48:56.572Z"
   },
   {
    "duration": 5,
    "start_time": "2021-11-16T14:50:44.784Z"
   },
   {
    "duration": 764,
    "start_time": "2021-11-16T14:50:46.425Z"
   },
   {
    "duration": 4,
    "start_time": "2021-11-16T14:56:03.967Z"
   },
   {
    "duration": 946,
    "start_time": "2021-11-16T14:56:05.569Z"
   },
   {
    "duration": 6,
    "start_time": "2021-11-16T14:58:45.015Z"
   },
   {
    "duration": 718,
    "start_time": "2021-11-16T14:58:48.004Z"
   },
   {
    "duration": 129,
    "start_time": "2021-11-16T14:59:37.210Z"
   },
   {
    "duration": 4,
    "start_time": "2021-11-16T14:59:49.149Z"
   },
   {
    "duration": 739,
    "start_time": "2021-11-16T14:59:51.975Z"
   },
   {
    "duration": 4,
    "start_time": "2021-11-16T15:00:04.147Z"
   },
   {
    "duration": 740,
    "start_time": "2021-11-16T15:00:05.646Z"
   },
   {
    "duration": 4,
    "start_time": "2021-11-16T15:00:29.991Z"
   },
   {
    "duration": 22,
    "start_time": "2021-11-16T15:00:31.700Z"
   },
   {
    "duration": 15,
    "start_time": "2021-11-16T15:02:14.792Z"
   },
   {
    "duration": 14,
    "start_time": "2021-11-16T15:02:33.683Z"
   },
   {
    "duration": 21,
    "start_time": "2021-11-16T15:02:57.931Z"
   },
   {
    "duration": 20,
    "start_time": "2021-11-16T15:03:25.788Z"
   },
   {
    "duration": 13,
    "start_time": "2021-11-16T15:03:28.096Z"
   },
   {
    "duration": 16,
    "start_time": "2021-11-16T15:03:29.856Z"
   },
   {
    "duration": 13,
    "start_time": "2021-11-16T15:03:32.091Z"
   },
   {
    "duration": 359,
    "start_time": "2021-11-16T15:07:18.800Z"
   },
   {
    "duration": 353,
    "start_time": "2021-11-16T15:07:29.249Z"
   },
   {
    "duration": 376,
    "start_time": "2021-11-16T15:08:45.760Z"
   },
   {
    "duration": 394,
    "start_time": "2021-11-16T15:09:06.068Z"
   },
   {
    "duration": 353,
    "start_time": "2021-11-16T15:10:34.438Z"
   },
   {
    "duration": 424,
    "start_time": "2021-11-16T15:11:08.707Z"
   },
   {
    "duration": 27,
    "start_time": "2021-11-16T15:11:26.857Z"
   },
   {
    "duration": 6,
    "start_time": "2021-11-16T15:11:44.383Z"
   },
   {
    "duration": 517,
    "start_time": "2021-11-16T15:12:02.902Z"
   },
   {
    "duration": 4,
    "start_time": "2021-11-16T15:12:15.409Z"
   },
   {
    "duration": 362,
    "start_time": "2021-11-16T15:12:21.223Z"
   },
   {
    "duration": 10,
    "start_time": "2021-11-16T15:12:37.476Z"
   },
   {
    "duration": 24,
    "start_time": "2021-11-16T15:13:12.361Z"
   },
   {
    "duration": 6,
    "start_time": "2021-11-16T15:13:14.671Z"
   },
   {
    "duration": 10,
    "start_time": "2021-11-16T15:14:04.661Z"
   },
   {
    "duration": 4,
    "start_time": "2021-11-16T15:14:06.305Z"
   },
   {
    "duration": 8,
    "start_time": "2021-11-16T15:15:52.015Z"
   },
   {
    "duration": 6,
    "start_time": "2021-11-16T15:16:03.164Z"
   },
   {
    "duration": 4,
    "start_time": "2021-11-16T15:16:07.840Z"
   },
   {
    "duration": 4,
    "start_time": "2021-11-16T15:16:18.764Z"
   },
   {
    "duration": 57,
    "start_time": "2021-11-17T05:28:14.574Z"
   },
   {
    "duration": 5,
    "start_time": "2021-11-17T05:47:21.937Z"
   },
   {
    "duration": 430,
    "start_time": "2021-11-17T05:47:31.105Z"
   },
   {
    "duration": 316,
    "start_time": "2021-11-17T05:47:51.305Z"
   },
   {
    "duration": 308,
    "start_time": "2021-11-17T05:47:58.223Z"
   },
   {
    "duration": 987,
    "start_time": "2021-11-17T05:48:01.723Z"
   },
   {
    "duration": 278,
    "start_time": "2021-11-17T05:48:03.489Z"
   },
   {
    "duration": 26,
    "start_time": "2021-11-17T05:48:05.490Z"
   },
   {
    "duration": 6,
    "start_time": "2021-11-17T05:48:22.022Z"
   },
   {
    "duration": 6,
    "start_time": "2021-11-17T05:48:31.391Z"
   },
   {
    "duration": 64,
    "start_time": "2021-11-17T05:49:12.804Z"
   },
   {
    "duration": 345,
    "start_time": "2021-11-17T05:49:47.120Z"
   },
   {
    "duration": 4,
    "start_time": "2021-11-17T05:49:57.905Z"
   },
   {
    "duration": 23,
    "start_time": "2021-11-17T05:50:01.188Z"
   },
   {
    "duration": 321,
    "start_time": "2021-11-17T05:50:02.689Z"
   },
   {
    "duration": 61,
    "start_time": "2021-11-17T05:50:20.847Z"
   },
   {
    "duration": 3,
    "start_time": "2021-11-17T05:50:26.858Z"
   },
   {
    "duration": 21,
    "start_time": "2021-11-17T05:50:29.210Z"
   },
   {
    "duration": 302,
    "start_time": "2021-11-17T05:50:31.699Z"
   },
   {
    "duration": 62,
    "start_time": "2021-11-17T05:50:48.031Z"
   },
   {
    "duration": 331,
    "start_time": "2021-11-17T05:50:57.837Z"
   },
   {
    "duration": 354,
    "start_time": "2021-11-17T05:51:42.962Z"
   },
   {
    "duration": 339,
    "start_time": "2021-11-17T05:52:05.033Z"
   },
   {
    "duration": 318,
    "start_time": "2021-11-17T05:53:20.085Z"
   },
   {
    "duration": 404,
    "start_time": "2021-11-17T05:55:58.691Z"
   },
   {
    "duration": 574,
    "start_time": "2021-11-17T05:56:28.345Z"
   },
   {
    "duration": 61,
    "start_time": "2021-11-17T05:56:35.434Z"
   },
   {
    "duration": 330,
    "start_time": "2021-11-17T05:56:39.994Z"
   },
   {
    "duration": 303,
    "start_time": "2021-11-17T05:57:34.904Z"
   },
   {
    "duration": 360,
    "start_time": "2021-11-17T07:00:13.740Z"
   },
   {
    "duration": 62,
    "start_time": "2021-11-17T07:00:44.203Z"
   },
   {
    "duration": 316,
    "start_time": "2021-11-17T07:00:48.388Z"
   },
   {
    "duration": 329,
    "start_time": "2021-11-17T07:02:09.454Z"
   },
   {
    "duration": 3,
    "start_time": "2021-11-17T07:02:54.633Z"
   },
   {
    "duration": 181,
    "start_time": "2021-11-17T07:02:56.118Z"
   },
   {
    "duration": 15,
    "start_time": "2021-11-17T07:02:57.775Z"
   },
   {
    "duration": 34,
    "start_time": "2021-11-17T07:03:01.118Z"
   },
   {
    "duration": 5,
    "start_time": "2021-11-17T07:03:06.311Z"
   },
   {
    "duration": 28,
    "start_time": "2021-11-17T07:03:08.812Z"
   },
   {
    "duration": 5,
    "start_time": "2021-11-17T07:03:11.553Z"
   },
   {
    "duration": 30,
    "start_time": "2021-11-17T07:03:13.720Z"
   },
   {
    "duration": 33,
    "start_time": "2021-11-17T07:03:16.035Z"
   },
   {
    "duration": 46,
    "start_time": "2021-11-17T07:03:18.228Z"
   },
   {
    "duration": 116,
    "start_time": "2021-11-17T07:03:20.166Z"
   },
   {
    "duration": 142,
    "start_time": "2021-11-17T07:03:23.360Z"
   },
   {
    "duration": 108,
    "start_time": "2021-11-17T07:03:25.358Z"
   },
   {
    "duration": 56,
    "start_time": "2021-11-17T07:03:28.378Z"
   },
   {
    "duration": 4,
    "start_time": "2021-11-17T07:03:34.679Z"
   },
   {
    "duration": 21,
    "start_time": "2021-11-17T07:03:36.686Z"
   },
   {
    "duration": 58,
    "start_time": "2021-11-17T07:03:38.992Z"
   },
   {
    "duration": 41,
    "start_time": "2021-11-17T07:03:44.467Z"
   },
   {
    "duration": 15,
    "start_time": "2021-11-17T07:03:59.145Z"
   },
   {
    "duration": 14,
    "start_time": "2021-11-17T07:04:01.502Z"
   },
   {
    "duration": 5,
    "start_time": "2021-11-17T07:04:05.519Z"
   },
   {
    "duration": 22,
    "start_time": "2021-11-17T07:04:08.007Z"
   },
   {
    "duration": 21,
    "start_time": "2021-11-17T07:04:09.610Z"
   },
   {
    "duration": 20,
    "start_time": "2021-11-17T07:04:10.993Z"
   },
   {
    "duration": 18,
    "start_time": "2021-11-17T07:04:13.053Z"
   },
   {
    "duration": 22,
    "start_time": "2021-11-17T07:04:14.833Z"
   },
   {
    "duration": 20,
    "start_time": "2021-11-17T07:04:16.259Z"
   },
   {
    "duration": 13,
    "start_time": "2021-11-17T07:04:25.028Z"
   },
   {
    "duration": 30,
    "start_time": "2021-11-17T07:09:59.313Z"
   },
   {
    "duration": 29,
    "start_time": "2021-11-17T07:10:03.922Z"
   },
   {
    "duration": 52,
    "start_time": "2021-11-17T07:10:26.032Z"
   },
   {
    "duration": 93,
    "start_time": "2021-11-17T07:11:00.392Z"
   },
   {
    "duration": 96,
    "start_time": "2021-11-17T07:12:58.027Z"
   },
   {
    "duration": 137,
    "start_time": "2021-11-17T07:13:11.451Z"
   },
   {
    "duration": 22,
    "start_time": "2021-11-17T07:13:16.105Z"
   },
   {
    "duration": 13,
    "start_time": "2021-11-17T07:13:17.515Z"
   },
   {
    "duration": 5,
    "start_time": "2021-11-17T07:13:20.226Z"
   },
   {
    "duration": 24,
    "start_time": "2021-11-17T07:13:22.831Z"
   },
   {
    "duration": 21,
    "start_time": "2021-11-17T07:13:25.000Z"
   },
   {
    "duration": 32,
    "start_time": "2021-11-17T07:13:26.582Z"
   },
   {
    "duration": 23,
    "start_time": "2021-11-17T07:13:28.833Z"
   },
   {
    "duration": 17,
    "start_time": "2021-11-17T07:13:33.028Z"
   },
   {
    "duration": 6,
    "start_time": "2021-11-17T07:13:37.951Z"
   },
   {
    "duration": 13,
    "start_time": "2021-11-17T07:13:40.721Z"
   },
   {
    "duration": 5,
    "start_time": "2021-11-17T07:13:42.733Z"
   },
   {
    "duration": 431,
    "start_time": "2022-07-12T13:25:15.885Z"
   },
   {
    "duration": 230,
    "start_time": "2022-07-12T13:25:16.318Z"
   },
   {
    "duration": 17,
    "start_time": "2022-07-12T13:25:16.550Z"
   },
   {
    "duration": 35,
    "start_time": "2022-07-12T13:25:16.569Z"
   },
   {
    "duration": 32,
    "start_time": "2022-07-12T13:25:16.606Z"
   },
   {
    "duration": 31,
    "start_time": "2022-07-12T13:25:16.639Z"
   },
   {
    "duration": 9,
    "start_time": "2022-07-12T13:25:16.671Z"
   },
   {
    "duration": 40,
    "start_time": "2022-07-12T13:25:16.682Z"
   },
   {
    "duration": 36,
    "start_time": "2022-07-12T13:25:16.723Z"
   },
   {
    "duration": 26,
    "start_time": "2022-07-12T13:25:16.762Z"
   },
   {
    "duration": 85,
    "start_time": "2022-07-12T13:25:16.790Z"
   },
   {
    "duration": 100,
    "start_time": "2022-07-12T13:25:16.877Z"
   },
   {
    "duration": 80,
    "start_time": "2022-07-12T13:25:16.980Z"
   },
   {
    "duration": 42,
    "start_time": "2022-07-12T13:25:17.062Z"
   },
   {
    "duration": 3,
    "start_time": "2022-07-12T13:25:17.106Z"
   },
   {
    "duration": 38,
    "start_time": "2022-07-12T13:25:17.111Z"
   },
   {
    "duration": 136,
    "start_time": "2022-07-12T13:25:17.151Z"
   },
   {
    "duration": 26,
    "start_time": "2022-07-12T13:25:17.289Z"
   },
   {
    "duration": 42,
    "start_time": "2022-07-12T13:25:17.316Z"
   },
   {
    "duration": 19,
    "start_time": "2022-07-12T13:25:17.360Z"
   },
   {
    "duration": 85,
    "start_time": "2022-07-12T13:25:17.381Z"
   },
   {
    "duration": 76,
    "start_time": "2022-07-12T13:25:17.468Z"
   },
   {
    "duration": 103,
    "start_time": "2022-07-12T13:25:17.546Z"
   },
   {
    "duration": 15,
    "start_time": "2022-07-12T13:25:17.651Z"
   },
   {
    "duration": 23,
    "start_time": "2022-07-12T13:25:17.668Z"
   },
   {
    "duration": 15,
    "start_time": "2022-07-12T13:25:17.692Z"
   },
   {
    "duration": 104,
    "start_time": "2022-07-12T13:25:17.709Z"
   },
   {
    "duration": 12,
    "start_time": "2022-07-12T13:25:17.817Z"
   },
   {
    "duration": 22,
    "start_time": "2022-07-12T13:25:17.830Z"
   },
   {
    "duration": 9,
    "start_time": "2022-07-12T13:25:17.854Z"
   },
   {
    "duration": 29,
    "start_time": "2022-07-12T13:25:17.865Z"
   },
   {
    "duration": 13,
    "start_time": "2022-07-12T13:25:17.896Z"
   },
   {
    "duration": 40,
    "start_time": "2022-07-12T13:25:17.911Z"
   },
   {
    "duration": 13,
    "start_time": "2022-07-12T13:25:17.953Z"
   },
   {
    "duration": 9,
    "start_time": "2022-07-12T13:25:17.967Z"
   },
   {
    "duration": 7,
    "start_time": "2022-07-12T13:25:17.978Z"
   },
   {
    "duration": 10,
    "start_time": "2022-07-12T13:25:17.987Z"
   },
   {
    "duration": 6,
    "start_time": "2022-07-12T13:25:17.998Z"
   }
  ],
  "colab": {
   "collapsed_sections": [
    "E0vqbgi9ay0H",
    "VUC88oWjTJw2"
   ],
   "name": "yandex_music_project_2021.2.ipynb",
   "provenance": []
  },
  "kernelspec": {
   "display_name": "Python 3.8.9 64-bit",
   "language": "python",
   "name": "python3"
  },
  "language_info": {
   "codemirror_mode": {
    "name": "ipython",
    "version": 3
   },
   "file_extension": ".py",
   "mimetype": "text/x-python",
   "name": "python",
   "nbconvert_exporter": "python",
   "pygments_lexer": "ipython3",
   "version": "3.8.9"
  },
  "toc": {
   "base_numbering": 1,
   "nav_menu": {},
   "number_sections": true,
   "sideBar": true,
   "skip_h1_title": true,
   "title_cell": "Table of Contents",
   "title_sidebar": "Contents",
   "toc_cell": false,
   "toc_position": {
    "height": "calc(100% - 180px)",
    "left": "10px",
    "top": "150px",
    "width": "165px"
   },
   "toc_section_display": true,
   "toc_window_display": false
  },
  "vscode": {
   "interpreter": {
    "hash": "31f2aee4e71d21fbe5cf8b01ff0e069b9275f58929596ceb00d14d90e3e16cd6"
   }
  }
 },
 "nbformat": 4,
 "nbformat_minor": 1
}
