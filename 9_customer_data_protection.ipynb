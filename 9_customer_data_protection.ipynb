{
 "cells": [
  {
   "cell_type": "markdown",
   "metadata": {
    "toc": true
   },
   "source": [
    "<h1>Содержание<span class=\"tocSkip\"></span></h1>\n",
    "<div class=\"toc\"><ul class=\"toc-item\"><li><span><a href=\"#Загрузка-данных\" data-toc-modified-id=\"Загрузка-данных-1\"><span class=\"toc-item-num\">1&nbsp;&nbsp;</span>Загрузка данных</a></span></li><li><span><a href=\"#Умножение-матриц\" data-toc-modified-id=\"Умножение-матриц-2\"><span class=\"toc-item-num\">2&nbsp;&nbsp;</span>Умножение матриц</a></span></li><li><span><a href=\"#Алгоритм-преобразования\" data-toc-modified-id=\"Алгоритм-преобразования-3\"><span class=\"toc-item-num\">3&nbsp;&nbsp;</span>Алгоритм преобразования</a></span></li><li><span><a href=\"#Проверка-алгоритма\" data-toc-modified-id=\"Проверка-алгоритма-4\"><span class=\"toc-item-num\">4&nbsp;&nbsp;</span>Проверка алгоритма</a></span></li></ul></div>"
   ]
  },
  {
   "cell_type": "markdown",
   "metadata": {},
   "source": [
    "# Защита персональных данных клиентов"
   ]
  },
  {
   "cell_type": "markdown",
   "metadata": {},
   "source": [
    "Требуется защитить данные клиентов страховой компании: разработать такой метод преобразования данных, чтобы по ним было сложно восстановить персональную информацию и при преобразовании качество моделей машинного обучения не ухудшилось."
   ]
  },
  {
   "cell_type": "markdown",
   "metadata": {},
   "source": [
    "## Загрузка данных"
   ]
  },
  {
   "cell_type": "code",
   "execution_count": 1,
   "metadata": {},
   "outputs": [],
   "source": [
    "# загружаю необходимые библиотеки\n",
    "import pandas as pd\n",
    "import numpy as np\n",
    "import random \n",
    "from sklearn.metrics import r2_score\n",
    "from sklearn.metrics import mean_squared_error"
   ]
  },
  {
   "cell_type": "code",
   "execution_count": 2,
   "metadata": {},
   "outputs": [
    {
     "data": {
      "text/html": [
       "<div>\n",
       "<style scoped>\n",
       "    .dataframe tbody tr th:only-of-type {\n",
       "        vertical-align: middle;\n",
       "    }\n",
       "\n",
       "    .dataframe tbody tr th {\n",
       "        vertical-align: top;\n",
       "    }\n",
       "\n",
       "    .dataframe thead th {\n",
       "        text-align: right;\n",
       "    }\n",
       "</style>\n",
       "<table border=\"1\" class=\"dataframe\">\n",
       "  <thead>\n",
       "    <tr style=\"text-align: right;\">\n",
       "      <th></th>\n",
       "      <th>Пол</th>\n",
       "      <th>Возраст</th>\n",
       "      <th>Зарплата</th>\n",
       "      <th>Члены семьи</th>\n",
       "      <th>Страховые выплаты</th>\n",
       "    </tr>\n",
       "  </thead>\n",
       "  <tbody>\n",
       "    <tr>\n",
       "      <th>0</th>\n",
       "      <td>1</td>\n",
       "      <td>41.0</td>\n",
       "      <td>49600.0</td>\n",
       "      <td>1</td>\n",
       "      <td>0</td>\n",
       "    </tr>\n",
       "    <tr>\n",
       "      <th>1</th>\n",
       "      <td>0</td>\n",
       "      <td>46.0</td>\n",
       "      <td>38000.0</td>\n",
       "      <td>1</td>\n",
       "      <td>1</td>\n",
       "    </tr>\n",
       "    <tr>\n",
       "      <th>2</th>\n",
       "      <td>0</td>\n",
       "      <td>29.0</td>\n",
       "      <td>21000.0</td>\n",
       "      <td>0</td>\n",
       "      <td>0</td>\n",
       "    </tr>\n",
       "    <tr>\n",
       "      <th>3</th>\n",
       "      <td>0</td>\n",
       "      <td>21.0</td>\n",
       "      <td>41700.0</td>\n",
       "      <td>2</td>\n",
       "      <td>0</td>\n",
       "    </tr>\n",
       "    <tr>\n",
       "      <th>4</th>\n",
       "      <td>1</td>\n",
       "      <td>28.0</td>\n",
       "      <td>26100.0</td>\n",
       "      <td>0</td>\n",
       "      <td>0</td>\n",
       "    </tr>\n",
       "    <tr>\n",
       "      <th>...</th>\n",
       "      <td>...</td>\n",
       "      <td>...</td>\n",
       "      <td>...</td>\n",
       "      <td>...</td>\n",
       "      <td>...</td>\n",
       "    </tr>\n",
       "    <tr>\n",
       "      <th>4995</th>\n",
       "      <td>0</td>\n",
       "      <td>28.0</td>\n",
       "      <td>35700.0</td>\n",
       "      <td>2</td>\n",
       "      <td>0</td>\n",
       "    </tr>\n",
       "    <tr>\n",
       "      <th>4996</th>\n",
       "      <td>0</td>\n",
       "      <td>34.0</td>\n",
       "      <td>52400.0</td>\n",
       "      <td>1</td>\n",
       "      <td>0</td>\n",
       "    </tr>\n",
       "    <tr>\n",
       "      <th>4997</th>\n",
       "      <td>0</td>\n",
       "      <td>20.0</td>\n",
       "      <td>33900.0</td>\n",
       "      <td>2</td>\n",
       "      <td>0</td>\n",
       "    </tr>\n",
       "    <tr>\n",
       "      <th>4998</th>\n",
       "      <td>1</td>\n",
       "      <td>22.0</td>\n",
       "      <td>32700.0</td>\n",
       "      <td>3</td>\n",
       "      <td>0</td>\n",
       "    </tr>\n",
       "    <tr>\n",
       "      <th>4999</th>\n",
       "      <td>1</td>\n",
       "      <td>28.0</td>\n",
       "      <td>40600.0</td>\n",
       "      <td>1</td>\n",
       "      <td>0</td>\n",
       "    </tr>\n",
       "  </tbody>\n",
       "</table>\n",
       "<p>5000 rows × 5 columns</p>\n",
       "</div>"
      ],
      "text/plain": [
       "      Пол  Возраст  Зарплата  Члены семьи  Страховые выплаты\n",
       "0       1     41.0   49600.0            1                  0\n",
       "1       0     46.0   38000.0            1                  1\n",
       "2       0     29.0   21000.0            0                  0\n",
       "3       0     21.0   41700.0            2                  0\n",
       "4       1     28.0   26100.0            0                  0\n",
       "...   ...      ...       ...          ...                ...\n",
       "4995    0     28.0   35700.0            2                  0\n",
       "4996    0     34.0   52400.0            1                  0\n",
       "4997    0     20.0   33900.0            2                  0\n",
       "4998    1     22.0   32700.0            3                  0\n",
       "4999    1     28.0   40600.0            1                  0\n",
       "\n",
       "[5000 rows x 5 columns]"
      ]
     },
     "metadata": {},
     "output_type": "display_data"
    }
   ],
   "source": [
    "data = pd.read_csv('/datasets/insurance.csv')\n",
    "display(data)"
   ]
  },
  {
   "cell_type": "code",
   "execution_count": 3,
   "metadata": {},
   "outputs": [
    {
     "name": "stdout",
     "output_type": "stream",
     "text": [
      "Уникальные значения Пол [1 0]\n",
      "Уникальные значения Возраст [18.0, 19.0, 20.0, 21.0, 22.0, 23.0, 24.0, 25.0, 26.0, 27.0, 28.0, 29.0, 30.0, 31.0, 32.0, 33.0, 34.0, 35.0, 36.0, 37.0, 38.0, 39.0, 40.0, 41.0, 42.0, 43.0, 44.0, 45.0, 46.0, 47.0, 48.0, 49.0, 50.0, 51.0, 52.0, 53.0, 54.0, 55.0, 56.0, 57.0, 58.0, 59.0, 60.0, 61.0, 62.0, 65.0]\n",
      "Уникальные значения Члены семьи [0, 1, 2, 3, 4, 5, 6]\n",
      "Уникальные значения Страховые выплаты [0, 1, 2, 3, 4, 5]\n"
     ]
    }
   ],
   "source": [
    "print('Уникальные значения Пол', data['Пол'].unique())\n",
    "print('Уникальные значения Возраст', sorted(data['Возраст'].unique()))\n",
    "print('Уникальные значения Члены семьи', sorted(data['Члены семьи'].unique()))\n",
    "print('Уникальные значения Страховые выплаты', sorted(data['Страховые выплаты'].unique()))"
   ]
  },
  {
   "cell_type": "code",
   "execution_count": 4,
   "metadata": {},
   "outputs": [
    {
     "name": "stdout",
     "output_type": "stream",
     "text": [
      "Пол                  0\n",
      "Возраст              0\n",
      "Зарплата             0\n",
      "Члены семьи          0\n",
      "Страховые выплаты    0\n",
      "dtype: int64\n"
     ]
    }
   ],
   "source": [
    "print(data.isnull().sum())"
   ]
  },
  {
   "cell_type": "code",
   "execution_count": 5,
   "metadata": {},
   "outputs": [
    {
     "name": "stdout",
     "output_type": "stream",
     "text": [
      "153\n"
     ]
    }
   ],
   "source": [
    "print(data.duplicated().sum())"
   ]
  },
  {
   "cell_type": "code",
   "execution_count": 6,
   "metadata": {},
   "outputs": [
    {
     "data": {
      "text/html": [
       "<div>\n",
       "<style scoped>\n",
       "    .dataframe tbody tr th:only-of-type {\n",
       "        vertical-align: middle;\n",
       "    }\n",
       "\n",
       "    .dataframe tbody tr th {\n",
       "        vertical-align: top;\n",
       "    }\n",
       "\n",
       "    .dataframe thead th {\n",
       "        text-align: right;\n",
       "    }\n",
       "</style>\n",
       "<table border=\"1\" class=\"dataframe\">\n",
       "  <thead>\n",
       "    <tr style=\"text-align: right;\">\n",
       "      <th></th>\n",
       "      <th>Пол</th>\n",
       "      <th>Возраст</th>\n",
       "      <th>Зарплата</th>\n",
       "      <th>Члены семьи</th>\n",
       "      <th>Страховые выплаты</th>\n",
       "    </tr>\n",
       "  </thead>\n",
       "  <tbody>\n",
       "    <tr>\n",
       "      <th>281</th>\n",
       "      <td>1</td>\n",
       "      <td>39.0</td>\n",
       "      <td>48100.0</td>\n",
       "      <td>1</td>\n",
       "      <td>0</td>\n",
       "    </tr>\n",
       "    <tr>\n",
       "      <th>488</th>\n",
       "      <td>1</td>\n",
       "      <td>24.0</td>\n",
       "      <td>32900.0</td>\n",
       "      <td>1</td>\n",
       "      <td>0</td>\n",
       "    </tr>\n",
       "    <tr>\n",
       "      <th>513</th>\n",
       "      <td>0</td>\n",
       "      <td>31.0</td>\n",
       "      <td>37400.0</td>\n",
       "      <td>2</td>\n",
       "      <td>0</td>\n",
       "    </tr>\n",
       "    <tr>\n",
       "      <th>718</th>\n",
       "      <td>1</td>\n",
       "      <td>22.0</td>\n",
       "      <td>32600.0</td>\n",
       "      <td>1</td>\n",
       "      <td>0</td>\n",
       "    </tr>\n",
       "    <tr>\n",
       "      <th>785</th>\n",
       "      <td>0</td>\n",
       "      <td>20.0</td>\n",
       "      <td>35800.0</td>\n",
       "      <td>0</td>\n",
       "      <td>0</td>\n",
       "    </tr>\n",
       "    <tr>\n",
       "      <th>...</th>\n",
       "      <td>...</td>\n",
       "      <td>...</td>\n",
       "      <td>...</td>\n",
       "      <td>...</td>\n",
       "      <td>...</td>\n",
       "    </tr>\n",
       "    <tr>\n",
       "      <th>4793</th>\n",
       "      <td>1</td>\n",
       "      <td>24.0</td>\n",
       "      <td>37800.0</td>\n",
       "      <td>0</td>\n",
       "      <td>0</td>\n",
       "    </tr>\n",
       "    <tr>\n",
       "      <th>4902</th>\n",
       "      <td>1</td>\n",
       "      <td>35.0</td>\n",
       "      <td>38700.0</td>\n",
       "      <td>1</td>\n",
       "      <td>0</td>\n",
       "    </tr>\n",
       "    <tr>\n",
       "      <th>4935</th>\n",
       "      <td>1</td>\n",
       "      <td>19.0</td>\n",
       "      <td>32700.0</td>\n",
       "      <td>0</td>\n",
       "      <td>0</td>\n",
       "    </tr>\n",
       "    <tr>\n",
       "      <th>4945</th>\n",
       "      <td>1</td>\n",
       "      <td>21.0</td>\n",
       "      <td>45800.0</td>\n",
       "      <td>0</td>\n",
       "      <td>0</td>\n",
       "    </tr>\n",
       "    <tr>\n",
       "      <th>4965</th>\n",
       "      <td>0</td>\n",
       "      <td>22.0</td>\n",
       "      <td>40100.0</td>\n",
       "      <td>1</td>\n",
       "      <td>0</td>\n",
       "    </tr>\n",
       "  </tbody>\n",
       "</table>\n",
       "<p>153 rows × 5 columns</p>\n",
       "</div>"
      ],
      "text/plain": [
       "      Пол  Возраст  Зарплата  Члены семьи  Страховые выплаты\n",
       "281     1     39.0   48100.0            1                  0\n",
       "488     1     24.0   32900.0            1                  0\n",
       "513     0     31.0   37400.0            2                  0\n",
       "718     1     22.0   32600.0            1                  0\n",
       "785     0     20.0   35800.0            0                  0\n",
       "...   ...      ...       ...          ...                ...\n",
       "4793    1     24.0   37800.0            0                  0\n",
       "4902    1     35.0   38700.0            1                  0\n",
       "4935    1     19.0   32700.0            0                  0\n",
       "4945    1     21.0   45800.0            0                  0\n",
       "4965    0     22.0   40100.0            1                  0\n",
       "\n",
       "[153 rows x 5 columns]"
      ]
     },
     "metadata": {},
     "output_type": "display_data"
    }
   ],
   "source": [
    "display(data[data.duplicated()])"
   ]
  },
  {
   "cell_type": "code",
   "execution_count": 7,
   "metadata": {},
   "outputs": [
    {
     "name": "stdout",
     "output_type": "stream",
     "text": [
      "(4847, 5)\n"
     ]
    }
   ],
   "source": [
    "data = data.drop_duplicates()\n",
    "print(data.shape)"
   ]
  },
  {
   "cell_type": "code",
   "execution_count": 8,
   "metadata": {},
   "outputs": [
    {
     "name": "stdout",
     "output_type": "stream",
     "text": [
      "(4847, 4)\n",
      "(4847,)\n"
     ]
    }
   ],
   "source": [
    "# создаю обучающие и целевой признаки\n",
    "features = data.drop(['Страховые выплаты'], axis=1)\n",
    "target = data['Страховые выплаты']\n",
    "\n",
    "print(features.shape)\n",
    "print(target.shape)"
   ]
  },
  {
   "cell_type": "markdown",
   "metadata": {},
   "source": [
    "***Вывод***\n",
    "\n",
    "В данных нет пропусков, но есть 153 дубликата, эти строки были удалены из общего датасета. Были созданы обучабщие и целевой признаки. Данные готовы для дальнейшей работы."
   ]
  },
  {
   "cell_type": "markdown",
   "metadata": {},
   "source": [
    "## Умножение матриц"
   ]
  },
  {
   "cell_type": "markdown",
   "metadata": {},
   "source": [
    "В этом задании вы можете записывать формулы в *Jupyter Notebook.*\n",
    "\n",
    "Чтобы записать формулу внутри текста, окружите её символами доллара \\\\$; если снаружи —  двойными символами \\\\$\\\\$. Эти формулы записываются на языке вёрстки *LaTeX.* \n",
    "\n",
    "Для примера мы записали формулы линейной регрессии. Можете их скопировать и отредактировать, чтобы решить задачу.\n",
    "\n",
    "Работать в *LaTeX* необязательно."
   ]
  },
  {
   "cell_type": "markdown",
   "metadata": {},
   "source": [
    "Обозначения:\n",
    "\n",
    "- $X$ — матрица признаков (нулевой столбец состоит из единиц)\n",
    "\n",
    "- $y$ — вектор целевого признака\n",
    "\n",
    "- $P$ — матрица, на которую умножаются признаки\n",
    "\n",
    "- $w$ — вектор весов линейной регрессии (нулевой элемент равен сдвигу)"
   ]
  },
  {
   "cell_type": "code",
   "execution_count": 9,
   "metadata": {},
   "outputs": [
    {
     "name": "stdout",
     "output_type": "stream",
     "text": [
      "0.4302010044852068\n"
     ]
    }
   ],
   "source": [
    "# умножаю транспонентную матрицу признаков на первоначальную матрицу\n",
    "class LinearRegressionOriginal:\n",
    "    def fit(self, train_features, train_target):\n",
    "        X = np.concatenate((np.ones((train_features.shape[0], 1)), train_features), axis=1)\n",
    "        y = train_target.values\n",
    "        w = np.linalg.inv((X.T.dot(X))).dot(X.T).dot(y)\n",
    "        self.w = w[1:]\n",
    "        self.w0 = w[0]\n",
    "\n",
    "    def predict(self, test_features):\n",
    "        return test_features.dot(self.w) + self.w0\n",
    "    \n",
    "model = LinearRegressionOriginal()\n",
    "model.fit(features, target)\n",
    "predictions = model.predict(features)\n",
    "r2 = r2_score(target, predictions)\n",
    "print(r2)"
   ]
  },
  {
   "cell_type": "code",
   "execution_count": 15,
   "metadata": {},
   "outputs": [
    {
     "name": "stdout",
     "output_type": "stream",
     "text": [
      "0.43020100448520393\n"
     ]
    }
   ],
   "source": [
    "class LinearRegressionCrypt:\n",
    "    def fit(self, train_features, train_target):\n",
    "        self.P = np.random.normal(size=(train_features.shape[1],train_features.shape[1]))\n",
    "        train_features = train_features @ self.P\n",
    "        X = np.concatenate((np.ones((train_features.shape[0], 1)), train_features), axis=1)\n",
    "        y = train_target.values\n",
    "        w = np.linalg.inv(X.T.dot(X)).dot(X.T).dot(y)\n",
    "        self.w = w[1:]\n",
    "        self.w0 = w[0]\n",
    "\n",
    "    def predict(self, test_features):\n",
    "        test_features = test_features @ self.P\n",
    "        return test_features.dot(self.w) + self.w0\n",
    "    \n",
    "model = LinearRegressionCrypt()\n",
    "model.fit(features, target)\n",
    "predictions = model.predict(features)\n",
    "r2_P = r2_score(target, predictions)\n",
    "print(r2_P)"
   ]
  },
  {
   "cell_type": "markdown",
   "metadata": {},
   "source": [
    "Предсказания:\n",
    "\n",
    "$$\n",
    "a = Xw\n",
    "$$\n",
    "\n",
    "Задача обучения:\n",
    "\n",
    "$$\n",
    "w = \\arg\\min_w MSE(Xw, y)\n",
    "$$\n",
    "\n",
    "Формула обучения:\n",
    "\n",
    "$$\n",
    "w = (X^T X)^{-1} X^T y\n",
    "$$"
   ]
  },
  {
   "cell_type": "markdown",
   "metadata": {},
   "source": [
    "**Ответ:** b. Значение r2 не изменилось \n",
    "\n",
    "**Обоснование:** \n",
    "\n",
    "Использую основные свойства матриц:\n",
    "$ A E = E A = A $\n",
    "\n",
    "$ A A^{-1} = E $\n",
    "\n",
    "$ (AB)^T = B^TA^T $\n",
    "\n",
    "$ (AB)^{-1} = B^{-1}A^{-1} $\n",
    "\n",
    "$ (AB)C = A(BC) $\n",
    "\n",
    "***\n",
    "\n",
    "По первому условию $w = (X^T X)^{-1} X^T y$. Распишу $w$:\n",
    "\n",
    "$$ w = (X^T X)^{-1} X^T y =  X^{-1} (X^T)^{-1} X^T y = X^{-1} E y = X^{-1} y$$ \n",
    "\n",
    "Найду новое $w'$, для которого вместо $X$ использую $X'=XP$.\n",
    "\n",
    "\n",
    "$$w' = ((X')^T  (X'))^{-1}  (X')^T  y$$\n",
    "\n",
    "$$w' = ((XP)^T (XP))^{-1}  (XP)^T  y$$\n",
    "\n",
    "$$w' =  (XP)^{-1} ((XP)^T)^{-1} (XP)^T  y$$\n",
    "\n",
    "Так как $ A A^{-1} = E $, то $ ((XP)^T)^{-1} (XP)^T = E $\n",
    "$$w' =  (XP)^{-1} E  y$$\n",
    "\n",
    "Так как $ A E = E A = A $, то $ (XP)^{-1} E = (XP)^{-1} $\n",
    "$$w' =  X^{-1}P^{-1} E  y$$\n",
    "$$w' =  X^{-1}P^{-1}  y$$\n",
    "$$w' =  wP^{-1}$$\n",
    "\n",
    "Тогда $a = Xw$, а новые $a' = X'w' = XP wP^{-1} = XwE = Xw = a $\n",
    "\n",
    "А так как $a = a'$, то и значение r2 не изменяется."
   ]
  },
  {
   "cell_type": "markdown",
   "metadata": {},
   "source": [
    "**Обоснование:**\n",
    "\n",
    "Используемые свойства:\n",
    "$$\n",
    "(AB)^T=B^T A^T\n",
    "$$\n",
    "$$\n",
    "(AB)^{-1} = B^{-1} A^{-1}\n",
    "$$\n",
    "$$\n",
    "A A^{-1} = A^{-1} A = E\n",
    "$$\n",
    "$$\n",
    "AE = EA = A\n",
    "$$\n",
    "Доказательство:\n",
    "$$\n",
    "a = Xw = XEw = XPP^{-1}w = (XP)P^{-1}w = (XP)w'\n",
    "$$\n",
    "\\\n",
    "$$\n",
    "w = (X^T X)^{-1} X^T y\n",
    "$$\n",
    "\\\n",
    "$$\n",
    "w' = ((XP)^T XP)^{-1} (XP)^T y\n",
    "$$\n",
    "$$\n",
    "w' = (P^T (X^T X) P)^{-1} (XP)^T y\n",
    "$$\n",
    "\n",
    "\n",
    "$$\n",
    "w' = (P^T ((X^T X) P))^{-1} (XP)^T y\n",
    "$$\n",
    "$$\n",
    "w' = ((X^T X) P))^{-1}(P^T)^{-1}  (XP)^T y\n",
    "$$\n",
    "$$\n",
    "w' = ((X^T X) P))^{-1}(P^T)^{-1}  P^T X^T y\n",
    "$$\n",
    "$$\n",
    "w' = ((X^T X) P))^{-1}E X^T y\n",
    "$$\n",
    "$$\n",
    "w' = ((X^T X) P))^{-1} X^T y\n",
    "$$\n",
    "$$\n",
    "w' = P^{-1}(X^T X)^{-1} X^T y\n",
    "$$"
   ]
  },
  {
   "cell_type": "markdown",
   "metadata": {},
   "source": [
    "$$\n",
    "w' = P^{-1}(X^T X)^{-1} X^T y = P^{-1} w\n",
    "$$\n",
    "\n",
    "$$\n",
    "a = (XP)w' = (XP) P^{-1} w = Xw\n",
    "$$"
   ]
  },
  {
   "cell_type": "markdown",
   "metadata": {},
   "source": [
    "## Алгоритм преобразования"
   ]
  },
  {
   "cell_type": "markdown",
   "metadata": {},
   "source": [
    "**Алгоритм**\n",
    "\n",
    "Чтобы было сложно восстановить персональную информацию, необходимо признаки умножить на рандомную нормальную матрицу"
   ]
  },
  {
   "cell_type": "markdown",
   "metadata": {},
   "source": [
    "**Обоснование**\n",
    "\n",
    "Исходя из пункта выше, выяснили, что при умножении исходной матрицы признаков на рандомную обратимую матрицу, качество линейной регрессии остается прежним за счет того, что предсказания не изменяются. "
   ]
  },
  {
   "cell_type": "markdown",
   "metadata": {},
   "source": [
    "## Проверка алгоритма"
   ]
  },
  {
   "cell_type": "code",
   "execution_count": 16,
   "metadata": {},
   "outputs": [
    {
     "name": "stdout",
     "output_type": "stream",
     "text": [
      "У матрицы имеется обратная\n",
      "\n",
      "[[ 0.38210443  0.49606684  0.80620974 -0.12501344]\n",
      " [ 0.71446475 -0.49730825  0.37714312 -1.24517535]\n",
      " [-1.08209504  0.644921   -0.75796115  0.6088718 ]\n",
      " [-1.37654638  0.77491964  2.22218912 -0.68066225]]\n",
      "(4847, 4)\n",
      "(4847,)\n"
     ]
    }
   ],
   "source": [
    "# создаю обучающие и целевой признаки, умножая исходные на рандомную матрицу\n",
    "random_matrix= np.random.normal(size=(features.shape[1],features.shape[1]))\n",
    "\n",
    "if  np.linalg.det(random_matrix) != 0:\n",
    "    print('У матрицы имеется обратная')\n",
    "else:\n",
    "    print('У матрицы нет обратной')\n",
    "print()\n",
    "new_features = features @ random_matrix\n",
    "new_target = target \n",
    "\n",
    "print(random_matrix)\n",
    "print(new_features.shape)\n",
    "print(new_target.shape)"
   ]
  },
  {
   "cell_type": "code",
   "execution_count": 17,
   "metadata": {
    "scrolled": true
   },
   "outputs": [
    {
     "name": "stdout",
     "output_type": "stream",
     "text": [
      "0.43020100448517806\n"
     ]
    }
   ],
   "source": [
    "class LinearRegression:\n",
    "    def fit(self, train_features, train_target):\n",
    "        X = np.concatenate((np.ones((train_features.shape[0], 1)), train_features), axis=1)\n",
    "        y = train_target.values\n",
    "        w = np.linalg.inv((X.T.dot(X))).dot(X.T).dot(y)\n",
    "        self.w = w[1:]\n",
    "        self.w0 = w[0]\n",
    "\n",
    "    def predict(self, test_features):\n",
    "        return test_features.dot(self.w) + self.w0\n",
    "    \n",
    "model = LinearRegression()\n",
    "model.fit(new_features, new_target)\n",
    "new_predictions = model.predict(new_features)\n",
    "new_r2 = r2_score(new_target, new_predictions)\n",
    "print(new_r2)"
   ]
  },
  {
   "cell_type": "code",
   "execution_count": 18,
   "metadata": {},
   "outputs": [
    {
     "name": "stdout",
     "output_type": "stream",
     "text": [
      "Качество ухучшилось\n"
     ]
    }
   ],
   "source": [
    "# 0.4302010044852067\n",
    "# 0.43020100448499854\n",
    "if new_r2 < r2:\n",
    "    print('Качество ухучшилось')\n",
    "else:\n",
    "    print('Качество не ухучшилось')"
   ]
  },
  {
   "cell_type": "markdown",
   "metadata": {},
   "source": [
    "**Вывод**\n",
    "\n",
    "Умножив признаки на рандомную нормальную матрицу, информация о пользователях измиенилась, но качество линейной регрессии не ухучшилось, следовательно алгоритм подобран правильно."
   ]
  }
 ],
 "metadata": {
  "ExecuteTimeLog": [
   {
    "duration": 170,
    "start_time": "2022-03-28T09:08:43.957Z"
   },
   {
    "duration": 71,
    "start_time": "2022-03-30T11:45:32.487Z"
   },
   {
    "duration": 1557,
    "start_time": "2022-03-30T11:45:38.792Z"
   },
   {
    "duration": 199,
    "start_time": "2022-03-30T11:45:40.352Z"
   },
   {
    "duration": 0,
    "start_time": "2022-03-30T11:45:40.554Z"
   },
   {
    "duration": 0,
    "start_time": "2022-03-30T11:45:40.556Z"
   },
   {
    "duration": 0,
    "start_time": "2022-03-30T11:45:40.557Z"
   },
   {
    "duration": 0,
    "start_time": "2022-03-30T11:45:40.559Z"
   },
   {
    "duration": 0,
    "start_time": "2022-03-30T11:45:40.560Z"
   },
   {
    "duration": 0,
    "start_time": "2022-03-30T11:45:40.562Z"
   },
   {
    "duration": 0,
    "start_time": "2022-03-30T11:45:40.563Z"
   },
   {
    "duration": 0,
    "start_time": "2022-03-30T11:45:40.575Z"
   },
   {
    "duration": 0,
    "start_time": "2022-03-30T11:45:40.576Z"
   },
   {
    "duration": 0,
    "start_time": "2022-03-30T11:45:40.578Z"
   },
   {
    "duration": 0,
    "start_time": "2022-03-30T11:45:40.579Z"
   },
   {
    "duration": 0,
    "start_time": "2022-03-30T11:45:40.581Z"
   },
   {
    "duration": 0,
    "start_time": "2022-03-30T11:45:40.582Z"
   },
   {
    "duration": 0,
    "start_time": "2022-03-30T11:45:40.584Z"
   },
   {
    "duration": 0,
    "start_time": "2022-03-30T11:45:40.585Z"
   },
   {
    "duration": 0,
    "start_time": "2022-03-30T11:45:40.587Z"
   },
   {
    "duration": 16,
    "start_time": "2022-03-30T11:52:11.313Z"
   },
   {
    "duration": 42,
    "start_time": "2022-03-30T11:52:55.506Z"
   },
   {
    "duration": 11,
    "start_time": "2022-03-30T11:53:04.826Z"
   },
   {
    "duration": 7,
    "start_time": "2022-03-30T11:53:05.544Z"
   },
   {
    "duration": 7,
    "start_time": "2022-03-30T11:53:06.128Z"
   },
   {
    "duration": 19,
    "start_time": "2022-03-30T11:53:06.725Z"
   },
   {
    "duration": 8,
    "start_time": "2022-03-30T11:53:07.300Z"
   },
   {
    "duration": 6,
    "start_time": "2022-03-30T11:53:07.784Z"
   },
   {
    "duration": 24,
    "start_time": "2022-03-30T11:53:10.062Z"
   },
   {
    "duration": 15,
    "start_time": "2022-03-30T11:53:11.757Z"
   },
   {
    "duration": 6,
    "start_time": "2022-03-30T11:53:58.010Z"
   },
   {
    "duration": 6,
    "start_time": "2022-03-30T11:53:58.452Z"
   },
   {
    "duration": 6,
    "start_time": "2022-03-30T11:53:58.899Z"
   },
   {
    "duration": 6,
    "start_time": "2022-03-30T11:53:59.409Z"
   },
   {
    "duration": 21,
    "start_time": "2022-03-30T11:54:00.390Z"
   },
   {
    "duration": 143,
    "start_time": "2022-03-30T11:54:16.962Z"
   },
   {
    "duration": 20,
    "start_time": "2022-03-30T11:54:31.349Z"
   },
   {
    "duration": 19,
    "start_time": "2022-03-30T11:54:35.551Z"
   },
   {
    "duration": 18,
    "start_time": "2022-03-30T11:54:54.291Z"
   },
   {
    "duration": 21,
    "start_time": "2022-03-30T11:55:01.813Z"
   },
   {
    "duration": 20,
    "start_time": "2022-03-30T11:55:25.544Z"
   },
   {
    "duration": 20,
    "start_time": "2022-03-30T11:55:34.428Z"
   },
   {
    "duration": 152,
    "start_time": "2022-03-30T11:55:51.140Z"
   },
   {
    "duration": 27,
    "start_time": "2022-03-30T11:55:56.009Z"
   },
   {
    "duration": 839,
    "start_time": "2022-03-30T12:04:13.414Z"
   },
   {
    "duration": 418,
    "start_time": "2022-03-30T12:22:50.685Z"
   },
   {
    "duration": 21,
    "start_time": "2022-03-30T12:23:06.419Z"
   },
   {
    "duration": 21,
    "start_time": "2022-03-30T12:23:11.604Z"
   },
   {
    "duration": 406,
    "start_time": "2022-03-30T12:23:25.699Z"
   },
   {
    "duration": 21,
    "start_time": "2022-03-30T12:23:43.552Z"
   },
   {
    "duration": 21,
    "start_time": "2022-03-30T12:24:47.302Z"
   },
   {
    "duration": 126,
    "start_time": "2022-03-30T12:25:21.834Z"
   },
   {
    "duration": 18,
    "start_time": "2022-03-30T12:25:28.299Z"
   },
   {
    "duration": 1537,
    "start_time": "2022-04-01T06:56:53.116Z"
   },
   {
    "duration": 44,
    "start_time": "2022-04-01T06:56:54.656Z"
   },
   {
    "duration": 10,
    "start_time": "2022-04-01T06:56:54.702Z"
   },
   {
    "duration": 6,
    "start_time": "2022-04-01T06:56:54.715Z"
   },
   {
    "duration": 13,
    "start_time": "2022-04-01T06:56:54.723Z"
   },
   {
    "duration": 47,
    "start_time": "2022-04-01T06:56:54.738Z"
   },
   {
    "duration": 8,
    "start_time": "2022-04-01T06:56:54.787Z"
   },
   {
    "duration": 15,
    "start_time": "2022-04-01T06:56:54.797Z"
   },
   {
    "duration": 75,
    "start_time": "2022-04-01T06:56:54.814Z"
   },
   {
    "duration": 245,
    "start_time": "2022-04-01T06:56:54.893Z"
   },
   {
    "duration": 0,
    "start_time": "2022-04-01T06:56:55.141Z"
   },
   {
    "duration": 0,
    "start_time": "2022-04-01T06:56:55.142Z"
   },
   {
    "duration": 0,
    "start_time": "2022-04-01T06:56:55.143Z"
   },
   {
    "duration": 0,
    "start_time": "2022-04-01T06:56:55.145Z"
   },
   {
    "duration": 0,
    "start_time": "2022-04-01T06:56:55.147Z"
   },
   {
    "duration": 0,
    "start_time": "2022-04-01T06:56:55.148Z"
   },
   {
    "duration": 0,
    "start_time": "2022-04-01T06:56:55.149Z"
   },
   {
    "duration": 0,
    "start_time": "2022-04-01T06:56:55.151Z"
   },
   {
    "duration": 6,
    "start_time": "2022-04-01T07:23:20.637Z"
   },
   {
    "duration": 6,
    "start_time": "2022-04-01T07:23:21.032Z"
   },
   {
    "duration": 6,
    "start_time": "2022-04-01T07:23:21.427Z"
   },
   {
    "duration": 6,
    "start_time": "2022-04-01T07:23:21.873Z"
   },
   {
    "duration": 22,
    "start_time": "2022-04-01T07:23:22.445Z"
   },
   {
    "duration": 427,
    "start_time": "2022-04-01T07:23:32.585Z"
   },
   {
    "duration": 890,
    "start_time": "2022-04-01T07:23:39.601Z"
   },
   {
    "duration": 20,
    "start_time": "2022-04-01T07:23:47.838Z"
   },
   {
    "duration": 20,
    "start_time": "2022-04-01T07:24:07.803Z"
   },
   {
    "duration": 16,
    "start_time": "2022-04-01T08:02:04.657Z"
   },
   {
    "duration": 8,
    "start_time": "2022-04-01T08:02:16.099Z"
   },
   {
    "duration": 9,
    "start_time": "2022-04-01T08:02:26.793Z"
   },
   {
    "duration": 1373,
    "start_time": "2022-04-01T08:27:18.023Z"
   },
   {
    "duration": 31,
    "start_time": "2022-04-01T08:27:19.398Z"
   },
   {
    "duration": 5,
    "start_time": "2022-04-01T08:27:19.431Z"
   },
   {
    "duration": 5,
    "start_time": "2022-04-01T08:27:19.438Z"
   },
   {
    "duration": 7,
    "start_time": "2022-04-01T08:27:19.445Z"
   },
   {
    "duration": 15,
    "start_time": "2022-04-01T08:27:19.453Z"
   },
   {
    "duration": 12,
    "start_time": "2022-04-01T08:27:19.469Z"
   },
   {
    "duration": 4,
    "start_time": "2022-04-01T08:27:19.482Z"
   },
   {
    "duration": 15,
    "start_time": "2022-04-01T08:27:19.488Z"
   },
   {
    "duration": 180,
    "start_time": "2022-04-01T08:27:19.584Z"
   },
   {
    "duration": 0,
    "start_time": "2022-04-01T08:27:19.766Z"
   },
   {
    "duration": 0,
    "start_time": "2022-04-01T08:27:19.767Z"
   },
   {
    "duration": 0,
    "start_time": "2022-04-01T08:27:19.768Z"
   },
   {
    "duration": 0,
    "start_time": "2022-04-01T08:27:19.780Z"
   },
   {
    "duration": 0,
    "start_time": "2022-04-01T08:27:19.781Z"
   },
   {
    "duration": 0,
    "start_time": "2022-04-01T08:27:19.782Z"
   },
   {
    "duration": 0,
    "start_time": "2022-04-01T08:27:19.783Z"
   },
   {
    "duration": 8,
    "start_time": "2022-04-01T08:27:45.880Z"
   },
   {
    "duration": 8,
    "start_time": "2022-04-01T08:27:49.570Z"
   },
   {
    "duration": 2,
    "start_time": "2022-04-01T08:27:53.981Z"
   },
   {
    "duration": 2,
    "start_time": "2022-04-01T08:27:55.356Z"
   },
   {
    "duration": 2,
    "start_time": "2022-04-01T08:27:56.637Z"
   },
   {
    "duration": 3,
    "start_time": "2022-04-01T08:27:59.168Z"
   },
   {
    "duration": 1371,
    "start_time": "2022-04-01T08:29:45.881Z"
   },
   {
    "duration": 43,
    "start_time": "2022-04-01T08:29:47.254Z"
   },
   {
    "duration": 6,
    "start_time": "2022-04-01T08:29:47.298Z"
   },
   {
    "duration": 12,
    "start_time": "2022-04-01T08:29:47.306Z"
   },
   {
    "duration": 16,
    "start_time": "2022-04-01T08:29:47.319Z"
   },
   {
    "duration": 16,
    "start_time": "2022-04-01T08:29:47.337Z"
   },
   {
    "duration": 5,
    "start_time": "2022-04-01T08:29:47.354Z"
   },
   {
    "duration": 9,
    "start_time": "2022-04-01T08:29:47.360Z"
   },
   {
    "duration": 20,
    "start_time": "2022-04-01T08:29:47.370Z"
   },
   {
    "duration": 89,
    "start_time": "2022-04-01T08:29:47.392Z"
   },
   {
    "duration": 5,
    "start_time": "2022-04-01T08:29:47.484Z"
   },
   {
    "duration": 90,
    "start_time": "2022-04-01T08:29:47.492Z"
   },
   {
    "duration": 6,
    "start_time": "2022-04-01T08:29:47.584Z"
   },
   {
    "duration": 220,
    "start_time": "2022-04-01T08:29:47.591Z"
   },
   {
    "duration": 0,
    "start_time": "2022-04-01T08:29:47.813Z"
   },
   {
    "duration": 0,
    "start_time": "2022-04-01T08:29:47.814Z"
   },
   {
    "duration": 0,
    "start_time": "2022-04-01T08:29:47.815Z"
   },
   {
    "duration": 225,
    "start_time": "2022-04-01T08:30:46.767Z"
   },
   {
    "duration": 190,
    "start_time": "2022-04-01T08:31:11.454Z"
   },
   {
    "duration": 199,
    "start_time": "2022-04-01T08:32:16.213Z"
   },
   {
    "duration": 9,
    "start_time": "2022-04-01T08:32:37.359Z"
   },
   {
    "duration": 1533,
    "start_time": "2022-04-01T08:34:11.949Z"
   },
   {
    "duration": 43,
    "start_time": "2022-04-01T08:34:13.484Z"
   },
   {
    "duration": 5,
    "start_time": "2022-04-01T08:34:13.528Z"
   },
   {
    "duration": 7,
    "start_time": "2022-04-01T08:34:13.535Z"
   },
   {
    "duration": 7,
    "start_time": "2022-04-01T08:34:13.543Z"
   },
   {
    "duration": 12,
    "start_time": "2022-04-01T08:34:13.551Z"
   },
   {
    "duration": 4,
    "start_time": "2022-04-01T08:34:13.564Z"
   },
   {
    "duration": 12,
    "start_time": "2022-04-01T08:34:13.570Z"
   },
   {
    "duration": 15,
    "start_time": "2022-04-01T08:34:13.583Z"
   },
   {
    "duration": 99,
    "start_time": "2022-04-01T08:34:13.683Z"
   },
   {
    "duration": 6,
    "start_time": "2022-04-01T08:34:13.783Z"
   },
   {
    "duration": 5,
    "start_time": "2022-04-01T08:34:13.790Z"
   },
   {
    "duration": 4,
    "start_time": "2022-04-01T08:34:13.797Z"
   },
   {
    "duration": 11,
    "start_time": "2022-04-01T08:34:13.803Z"
   },
   {
    "duration": 104,
    "start_time": "2022-04-01T08:34:13.880Z"
   },
   {
    "duration": 8,
    "start_time": "2022-04-01T08:34:13.986Z"
   },
   {
    "duration": 186,
    "start_time": "2022-04-01T08:34:13.999Z"
   },
   {
    "duration": 1761,
    "start_time": "2022-04-01T08:35:59.050Z"
   },
   {
    "duration": 43,
    "start_time": "2022-04-01T08:36:00.813Z"
   },
   {
    "duration": 7,
    "start_time": "2022-04-01T08:36:00.858Z"
   },
   {
    "duration": 14,
    "start_time": "2022-04-01T08:36:00.867Z"
   },
   {
    "duration": 9,
    "start_time": "2022-04-01T08:36:00.883Z"
   },
   {
    "duration": 27,
    "start_time": "2022-04-01T08:36:00.894Z"
   },
   {
    "duration": 6,
    "start_time": "2022-04-01T08:36:00.923Z"
   },
   {
    "duration": 19,
    "start_time": "2022-04-01T08:36:00.931Z"
   },
   {
    "duration": 38,
    "start_time": "2022-04-01T08:36:00.952Z"
   },
   {
    "duration": 4,
    "start_time": "2022-04-01T08:36:01.082Z"
   },
   {
    "duration": 106,
    "start_time": "2022-04-01T08:36:01.088Z"
   },
   {
    "duration": 22,
    "start_time": "2022-04-01T08:36:01.195Z"
   },
   {
    "duration": 13,
    "start_time": "2022-04-01T08:36:01.219Z"
   },
   {
    "duration": 34,
    "start_time": "2022-04-01T08:36:01.234Z"
   },
   {
    "duration": 203,
    "start_time": "2022-04-01T08:36:01.282Z"
   },
   {
    "duration": 20,
    "start_time": "2022-04-01T08:36:01.487Z"
   },
   {
    "duration": 173,
    "start_time": "2022-04-01T08:36:01.509Z"
   },
   {
    "duration": 9,
    "start_time": "2022-04-01T08:37:09.378Z"
   },
   {
    "duration": 10,
    "start_time": "2022-04-01T08:37:16.098Z"
   },
   {
    "duration": 9,
    "start_time": "2022-04-01T08:38:58.569Z"
   },
   {
    "duration": 12,
    "start_time": "2022-04-01T08:39:37.697Z"
   },
   {
    "duration": 9,
    "start_time": "2022-04-01T08:39:46.960Z"
   },
   {
    "duration": 12,
    "start_time": "2022-04-01T08:40:11.866Z"
   },
   {
    "duration": 88,
    "start_time": "2022-04-01T08:40:51.614Z"
   },
   {
    "duration": 4,
    "start_time": "2022-04-01T08:41:02.328Z"
   },
   {
    "duration": 4,
    "start_time": "2022-04-01T08:41:06.800Z"
   },
   {
    "duration": 11,
    "start_time": "2022-04-01T08:41:15.383Z"
   },
   {
    "duration": 6,
    "start_time": "2022-04-01T08:41:28.997Z"
   },
   {
    "duration": 5,
    "start_time": "2022-04-01T08:42:06.896Z"
   },
   {
    "duration": 10,
    "start_time": "2022-04-01T08:42:18.639Z"
   },
   {
    "duration": 3,
    "start_time": "2022-04-01T08:42:32.588Z"
   },
   {
    "duration": 12,
    "start_time": "2022-04-01T08:43:07.348Z"
   },
   {
    "duration": 72,
    "start_time": "2022-04-01T08:44:51.511Z"
   },
   {
    "duration": 15,
    "start_time": "2022-04-01T08:45:52.869Z"
   },
   {
    "duration": 10,
    "start_time": "2022-04-01T08:46:09.968Z"
   },
   {
    "duration": 11,
    "start_time": "2022-04-01T08:46:19.477Z"
   },
   {
    "duration": 3,
    "start_time": "2022-04-01T08:46:58.983Z"
   },
   {
    "duration": 1260,
    "start_time": "2022-04-01T09:21:16.172Z"
   },
   {
    "duration": 45,
    "start_time": "2022-04-01T09:21:17.434Z"
   },
   {
    "duration": 6,
    "start_time": "2022-04-01T09:21:17.480Z"
   },
   {
    "duration": 6,
    "start_time": "2022-04-01T09:21:17.488Z"
   },
   {
    "duration": 5,
    "start_time": "2022-04-01T09:21:17.496Z"
   },
   {
    "duration": 13,
    "start_time": "2022-04-01T09:21:17.503Z"
   },
   {
    "duration": 5,
    "start_time": "2022-04-01T09:21:17.518Z"
   },
   {
    "duration": 8,
    "start_time": "2022-04-01T09:21:17.525Z"
   },
   {
    "duration": 166,
    "start_time": "2022-04-01T09:21:17.535Z"
   },
   {
    "duration": 2,
    "start_time": "2022-04-01T09:21:17.704Z"
   },
   {
    "duration": 5,
    "start_time": "2022-04-01T09:21:17.708Z"
   },
   {
    "duration": 5,
    "start_time": "2022-04-01T09:21:17.714Z"
   },
   {
    "duration": 4,
    "start_time": "2022-04-01T09:21:17.721Z"
   },
   {
    "duration": 5,
    "start_time": "2022-04-01T09:21:17.727Z"
   },
   {
    "duration": 10,
    "start_time": "2022-04-01T09:21:17.734Z"
   },
   {
    "duration": 155,
    "start_time": "2022-04-01T09:21:17.746Z"
   },
   {
    "duration": 12,
    "start_time": "2022-04-01T09:21:17.903Z"
   },
   {
    "duration": 85,
    "start_time": "2022-04-01T09:21:17.917Z"
   },
   {
    "duration": 1170,
    "start_time": "2022-04-01T09:24:18.051Z"
   },
   {
    "duration": 31,
    "start_time": "2022-04-01T09:24:19.223Z"
   },
   {
    "duration": 6,
    "start_time": "2022-04-01T09:24:19.256Z"
   },
   {
    "duration": 4,
    "start_time": "2022-04-01T09:24:19.264Z"
   },
   {
    "duration": 6,
    "start_time": "2022-04-01T09:24:19.270Z"
   },
   {
    "duration": 24,
    "start_time": "2022-04-01T09:24:19.278Z"
   },
   {
    "duration": 4,
    "start_time": "2022-04-01T09:24:19.303Z"
   },
   {
    "duration": 4,
    "start_time": "2022-04-01T09:24:19.309Z"
   },
   {
    "duration": 14,
    "start_time": "2022-04-01T09:24:19.314Z"
   },
   {
    "duration": 4,
    "start_time": "2022-04-01T09:24:19.404Z"
   },
   {
    "duration": 95,
    "start_time": "2022-04-01T09:24:19.409Z"
   },
   {
    "duration": 5,
    "start_time": "2022-04-01T09:24:19.505Z"
   },
   {
    "duration": 5,
    "start_time": "2022-04-01T09:24:19.511Z"
   },
   {
    "duration": 4,
    "start_time": "2022-04-01T09:24:19.517Z"
   },
   {
    "duration": 79,
    "start_time": "2022-04-01T09:24:19.523Z"
   },
   {
    "duration": 97,
    "start_time": "2022-04-01T09:24:19.605Z"
   },
   {
    "duration": 10,
    "start_time": "2022-04-01T09:24:19.704Z"
   },
   {
    "duration": 87,
    "start_time": "2022-04-01T09:24:19.716Z"
   }
  ],
  "kernelspec": {
   "display_name": "Python 3.8.9 64-bit",
   "language": "python",
   "name": "python3"
  },
  "language_info": {
   "codemirror_mode": {
    "name": "ipython",
    "version": 3
   },
   "file_extension": ".py",
   "mimetype": "text/x-python",
   "name": "python",
   "nbconvert_exporter": "python",
   "pygments_lexer": "ipython3",
   "version": "3.8.9"
  },
  "toc": {
   "base_numbering": 1,
   "nav_menu": {},
   "number_sections": true,
   "sideBar": true,
   "skip_h1_title": true,
   "title_cell": "Содержание",
   "title_sidebar": "Contents",
   "toc_cell": true,
   "toc_position": {},
   "toc_section_display": true,
   "toc_window_display": false
  },
  "vscode": {
   "interpreter": {
    "hash": "31f2aee4e71d21fbe5cf8b01ff0e069b9275f58929596ceb00d14d90e3e16cd6"
   }
  }
 },
 "nbformat": 4,
 "nbformat_minor": 2
}
