{
 "cells": [
  {
   "cell_type": "markdown",
   "metadata": {
    "toc": true
   },
   "source": [
    "<h1>Содержание<span class=\"tocSkip\"></span></h1>\n",
    "<div class=\"toc\"><ul class=\"toc-item\"><li><span><a href=\"#Подготовка-данных\" data-toc-modified-id=\"Подготовка-данных-1\"><span class=\"toc-item-num\">1&nbsp;&nbsp;</span>Подготовка данных</a></span></li><li><span><a href=\"#Исследование-задачи\" data-toc-modified-id=\"Исследование-задачи-2\"><span class=\"toc-item-num\">2&nbsp;&nbsp;</span>Исследование задачи</a></span></li><li><span><a href=\"#Борьба-с-дисбалансом\" data-toc-modified-id=\"Борьба-с-дисбалансом-3\"><span class=\"toc-item-num\">3&nbsp;&nbsp;</span>Борьба с дисбалансом</a></span></li><li><span><a href=\"#Тестирование-модели\" data-toc-modified-id=\"Тестирование-модели-4\"><span class=\"toc-item-num\">4&nbsp;&nbsp;</span>Тестирование модели</a></span></li><li><span><a href=\"#Общий-вывод\" data-toc-modified-id=\"Общий-вывод-5\"><span class=\"toc-item-num\">5&nbsp;&nbsp;</span>Общий вывод</a></span></li>"
   ]
  },
  {
   "cell_type": "markdown",
   "metadata": {},
   "source": [
    "# Отток клиентов"
   ]
  },
  {
   "cell_type": "markdown",
   "metadata": {},
   "source": [
    "Маркетологи некоторого банка обратили внимание на отток клиентов и посчитали: сохранять текущих клиентов дешевле, чем привлекать новых.\n",
    "\n",
    "На предоставленных исторических данных о поведении клиентов и расторжении договоров с банком необходимо спрогнозировать, уйдёт клиент из банка в ближайшее время или нет. \n",
    "\n",
    "Ключевая метрика - *F1*-мера, дополнительная - *AUC-ROC*\n",
    "\n",
    "Источник данных: [https://www.kaggle.com/barelydedicated/bank-customer-churn-modeling](https://www.kaggle.com/barelydedicated/bank-customer-churn-modeling)"
   ]
  },
  {
   "cell_type": "markdown",
   "metadata": {},
   "source": [
    "## Подготовка данных"
   ]
  },
  {
   "cell_type": "code",
   "execution_count": 1,
   "metadata": {},
   "outputs": [
    {
     "data": {
      "text/html": [
       "<div>\n",
       "<style scoped>\n",
       "    .dataframe tbody tr th:only-of-type {\n",
       "        vertical-align: middle;\n",
       "    }\n",
       "\n",
       "    .dataframe tbody tr th {\n",
       "        vertical-align: top;\n",
       "    }\n",
       "\n",
       "    .dataframe thead th {\n",
       "        text-align: right;\n",
       "    }\n",
       "</style>\n",
       "<table border=\"1\" class=\"dataframe\">\n",
       "  <thead>\n",
       "    <tr style=\"text-align: right;\">\n",
       "      <th></th>\n",
       "      <th>RowNumber</th>\n",
       "      <th>CustomerId</th>\n",
       "      <th>Surname</th>\n",
       "      <th>CreditScore</th>\n",
       "      <th>Geography</th>\n",
       "      <th>Gender</th>\n",
       "      <th>Age</th>\n",
       "      <th>Tenure</th>\n",
       "      <th>Balance</th>\n",
       "      <th>NumOfProducts</th>\n",
       "      <th>HasCrCard</th>\n",
       "      <th>IsActiveMember</th>\n",
       "      <th>EstimatedSalary</th>\n",
       "      <th>Exited</th>\n",
       "    </tr>\n",
       "  </thead>\n",
       "  <tbody>\n",
       "    <tr>\n",
       "      <th>0</th>\n",
       "      <td>1</td>\n",
       "      <td>15634602</td>\n",
       "      <td>Hargrave</td>\n",
       "      <td>619</td>\n",
       "      <td>France</td>\n",
       "      <td>Female</td>\n",
       "      <td>42</td>\n",
       "      <td>2.0</td>\n",
       "      <td>0.00</td>\n",
       "      <td>1</td>\n",
       "      <td>1</td>\n",
       "      <td>1</td>\n",
       "      <td>101348.88</td>\n",
       "      <td>1</td>\n",
       "    </tr>\n",
       "    <tr>\n",
       "      <th>1</th>\n",
       "      <td>2</td>\n",
       "      <td>15647311</td>\n",
       "      <td>Hill</td>\n",
       "      <td>608</td>\n",
       "      <td>Spain</td>\n",
       "      <td>Female</td>\n",
       "      <td>41</td>\n",
       "      <td>1.0</td>\n",
       "      <td>83807.86</td>\n",
       "      <td>1</td>\n",
       "      <td>0</td>\n",
       "      <td>1</td>\n",
       "      <td>112542.58</td>\n",
       "      <td>0</td>\n",
       "    </tr>\n",
       "    <tr>\n",
       "      <th>2</th>\n",
       "      <td>3</td>\n",
       "      <td>15619304</td>\n",
       "      <td>Onio</td>\n",
       "      <td>502</td>\n",
       "      <td>France</td>\n",
       "      <td>Female</td>\n",
       "      <td>42</td>\n",
       "      <td>8.0</td>\n",
       "      <td>159660.80</td>\n",
       "      <td>3</td>\n",
       "      <td>1</td>\n",
       "      <td>0</td>\n",
       "      <td>113931.57</td>\n",
       "      <td>1</td>\n",
       "    </tr>\n",
       "    <tr>\n",
       "      <th>3</th>\n",
       "      <td>4</td>\n",
       "      <td>15701354</td>\n",
       "      <td>Boni</td>\n",
       "      <td>699</td>\n",
       "      <td>France</td>\n",
       "      <td>Female</td>\n",
       "      <td>39</td>\n",
       "      <td>1.0</td>\n",
       "      <td>0.00</td>\n",
       "      <td>2</td>\n",
       "      <td>0</td>\n",
       "      <td>0</td>\n",
       "      <td>93826.63</td>\n",
       "      <td>0</td>\n",
       "    </tr>\n",
       "    <tr>\n",
       "      <th>4</th>\n",
       "      <td>5</td>\n",
       "      <td>15737888</td>\n",
       "      <td>Mitchell</td>\n",
       "      <td>850</td>\n",
       "      <td>Spain</td>\n",
       "      <td>Female</td>\n",
       "      <td>43</td>\n",
       "      <td>2.0</td>\n",
       "      <td>125510.82</td>\n",
       "      <td>1</td>\n",
       "      <td>1</td>\n",
       "      <td>1</td>\n",
       "      <td>79084.10</td>\n",
       "      <td>0</td>\n",
       "    </tr>\n",
       "    <tr>\n",
       "      <th>...</th>\n",
       "      <td>...</td>\n",
       "      <td>...</td>\n",
       "      <td>...</td>\n",
       "      <td>...</td>\n",
       "      <td>...</td>\n",
       "      <td>...</td>\n",
       "      <td>...</td>\n",
       "      <td>...</td>\n",
       "      <td>...</td>\n",
       "      <td>...</td>\n",
       "      <td>...</td>\n",
       "      <td>...</td>\n",
       "      <td>...</td>\n",
       "      <td>...</td>\n",
       "    </tr>\n",
       "    <tr>\n",
       "      <th>9995</th>\n",
       "      <td>9996</td>\n",
       "      <td>15606229</td>\n",
       "      <td>Obijiaku</td>\n",
       "      <td>771</td>\n",
       "      <td>France</td>\n",
       "      <td>Male</td>\n",
       "      <td>39</td>\n",
       "      <td>5.0</td>\n",
       "      <td>0.00</td>\n",
       "      <td>2</td>\n",
       "      <td>1</td>\n",
       "      <td>0</td>\n",
       "      <td>96270.64</td>\n",
       "      <td>0</td>\n",
       "    </tr>\n",
       "    <tr>\n",
       "      <th>9996</th>\n",
       "      <td>9997</td>\n",
       "      <td>15569892</td>\n",
       "      <td>Johnstone</td>\n",
       "      <td>516</td>\n",
       "      <td>France</td>\n",
       "      <td>Male</td>\n",
       "      <td>35</td>\n",
       "      <td>10.0</td>\n",
       "      <td>57369.61</td>\n",
       "      <td>1</td>\n",
       "      <td>1</td>\n",
       "      <td>1</td>\n",
       "      <td>101699.77</td>\n",
       "      <td>0</td>\n",
       "    </tr>\n",
       "    <tr>\n",
       "      <th>9997</th>\n",
       "      <td>9998</td>\n",
       "      <td>15584532</td>\n",
       "      <td>Liu</td>\n",
       "      <td>709</td>\n",
       "      <td>France</td>\n",
       "      <td>Female</td>\n",
       "      <td>36</td>\n",
       "      <td>7.0</td>\n",
       "      <td>0.00</td>\n",
       "      <td>1</td>\n",
       "      <td>0</td>\n",
       "      <td>1</td>\n",
       "      <td>42085.58</td>\n",
       "      <td>1</td>\n",
       "    </tr>\n",
       "    <tr>\n",
       "      <th>9998</th>\n",
       "      <td>9999</td>\n",
       "      <td>15682355</td>\n",
       "      <td>Sabbatini</td>\n",
       "      <td>772</td>\n",
       "      <td>Germany</td>\n",
       "      <td>Male</td>\n",
       "      <td>42</td>\n",
       "      <td>3.0</td>\n",
       "      <td>75075.31</td>\n",
       "      <td>2</td>\n",
       "      <td>1</td>\n",
       "      <td>0</td>\n",
       "      <td>92888.52</td>\n",
       "      <td>1</td>\n",
       "    </tr>\n",
       "    <tr>\n",
       "      <th>9999</th>\n",
       "      <td>10000</td>\n",
       "      <td>15628319</td>\n",
       "      <td>Walker</td>\n",
       "      <td>792</td>\n",
       "      <td>France</td>\n",
       "      <td>Female</td>\n",
       "      <td>28</td>\n",
       "      <td>NaN</td>\n",
       "      <td>130142.79</td>\n",
       "      <td>1</td>\n",
       "      <td>1</td>\n",
       "      <td>0</td>\n",
       "      <td>38190.78</td>\n",
       "      <td>0</td>\n",
       "    </tr>\n",
       "  </tbody>\n",
       "</table>\n",
       "<p>10000 rows × 14 columns</p>\n",
       "</div>"
      ],
      "text/plain": [
       "      RowNumber  CustomerId    Surname  CreditScore Geography  Gender  Age  \\\n",
       "0             1    15634602   Hargrave          619    France  Female   42   \n",
       "1             2    15647311       Hill          608     Spain  Female   41   \n",
       "2             3    15619304       Onio          502    France  Female   42   \n",
       "3             4    15701354       Boni          699    France  Female   39   \n",
       "4             5    15737888   Mitchell          850     Spain  Female   43   \n",
       "...         ...         ...        ...          ...       ...     ...  ...   \n",
       "9995       9996    15606229   Obijiaku          771    France    Male   39   \n",
       "9996       9997    15569892  Johnstone          516    France    Male   35   \n",
       "9997       9998    15584532        Liu          709    France  Female   36   \n",
       "9998       9999    15682355  Sabbatini          772   Germany    Male   42   \n",
       "9999      10000    15628319     Walker          792    France  Female   28   \n",
       "\n",
       "      Tenure    Balance  NumOfProducts  HasCrCard  IsActiveMember  \\\n",
       "0        2.0       0.00              1          1               1   \n",
       "1        1.0   83807.86              1          0               1   \n",
       "2        8.0  159660.80              3          1               0   \n",
       "3        1.0       0.00              2          0               0   \n",
       "4        2.0  125510.82              1          1               1   \n",
       "...      ...        ...            ...        ...             ...   \n",
       "9995     5.0       0.00              2          1               0   \n",
       "9996    10.0   57369.61              1          1               1   \n",
       "9997     7.0       0.00              1          0               1   \n",
       "9998     3.0   75075.31              2          1               0   \n",
       "9999     NaN  130142.79              1          1               0   \n",
       "\n",
       "      EstimatedSalary  Exited  \n",
       "0           101348.88       1  \n",
       "1           112542.58       0  \n",
       "2           113931.57       1  \n",
       "3            93826.63       0  \n",
       "4            79084.10       0  \n",
       "...               ...     ...  \n",
       "9995         96270.64       0  \n",
       "9996        101699.77       0  \n",
       "9997         42085.58       1  \n",
       "9998         92888.52       1  \n",
       "9999         38190.78       0  \n",
       "\n",
       "[10000 rows x 14 columns]"
      ]
     },
     "metadata": {},
     "output_type": "display_data"
    }
   ],
   "source": [
    "# подгружаю необходимые библиотеки\n",
    "import pandas as pd\n",
    "import matplotlib.pyplot as plt\n",
    "import random\n",
    "\n",
    "from sklearn.model_selection import train_test_split\n",
    "\n",
    "from sklearn.tree import DecisionTreeClassifier\n",
    "from sklearn.tree import DecisionTreeRegressor\n",
    "\n",
    "from sklearn.ensemble import RandomForestClassifier\n",
    "from sklearn.ensemble import RandomForestRegressor\n",
    "\n",
    "from sklearn.linear_model import LogisticRegression\n",
    "from sklearn.linear_model import LinearRegression\n",
    "\n",
    "from sklearn.preprocessing import OrdinalEncoder\n",
    "from sklearn.preprocessing import StandardScaler\n",
    "\n",
    "from sklearn.utils import shuffle\n",
    "\n",
    "from sklearn.metrics import f1_score \n",
    "from sklearn.metrics import roc_curve\n",
    "from sklearn.metrics import roc_auc_score \n",
    "\n",
    "data = pd.read_csv('/datasets/Churn.csv')\n",
    "display(data)"
   ]
  },
  {
   "cell_type": "code",
   "execution_count": 2,
   "metadata": {
    "scrolled": false
   },
   "outputs": [
    {
     "name": "stdout",
     "output_type": "stream",
     "text": [
      "<class 'pandas.core.frame.DataFrame'>\n",
      "RangeIndex: 10000 entries, 0 to 9999\n",
      "Data columns (total 14 columns):\n",
      " #   Column           Non-Null Count  Dtype  \n",
      "---  ------           --------------  -----  \n",
      " 0   RowNumber        10000 non-null  int64  \n",
      " 1   CustomerId       10000 non-null  int64  \n",
      " 2   Surname          10000 non-null  object \n",
      " 3   CreditScore      10000 non-null  int64  \n",
      " 4   Geography        10000 non-null  object \n",
      " 5   Gender           10000 non-null  object \n",
      " 6   Age              10000 non-null  int64  \n",
      " 7   Tenure           9091 non-null   float64\n",
      " 8   Balance          10000 non-null  float64\n",
      " 9   NumOfProducts    10000 non-null  int64  \n",
      " 10  HasCrCard        10000 non-null  int64  \n",
      " 11  IsActiveMember   10000 non-null  int64  \n",
      " 12  EstimatedSalary  10000 non-null  float64\n",
      " 13  Exited           10000 non-null  int64  \n",
      "dtypes: float64(3), int64(8), object(3)\n",
      "memory usage: 1.1+ MB\n"
     ]
    }
   ],
   "source": [
    "data.info()"
   ]
  },
  {
   "cell_type": "code",
   "execution_count": 3,
   "metadata": {},
   "outputs": [
    {
     "data": {
      "text/html": [
       "<div>\n",
       "<style scoped>\n",
       "    .dataframe tbody tr th:only-of-type {\n",
       "        vertical-align: middle;\n",
       "    }\n",
       "\n",
       "    .dataframe tbody tr th {\n",
       "        vertical-align: top;\n",
       "    }\n",
       "\n",
       "    .dataframe thead th {\n",
       "        text-align: right;\n",
       "    }\n",
       "</style>\n",
       "<table border=\"1\" class=\"dataframe\">\n",
       "  <thead>\n",
       "    <tr style=\"text-align: right;\">\n",
       "      <th></th>\n",
       "      <th>RowNumber</th>\n",
       "      <th>CustomerId</th>\n",
       "      <th>CreditScore</th>\n",
       "      <th>Age</th>\n",
       "      <th>Tenure</th>\n",
       "      <th>Balance</th>\n",
       "      <th>NumOfProducts</th>\n",
       "      <th>HasCrCard</th>\n",
       "      <th>IsActiveMember</th>\n",
       "      <th>EstimatedSalary</th>\n",
       "      <th>Exited</th>\n",
       "    </tr>\n",
       "  </thead>\n",
       "  <tbody>\n",
       "    <tr>\n",
       "      <th>count</th>\n",
       "      <td>10000.00000</td>\n",
       "      <td>1.000000e+04</td>\n",
       "      <td>10000.000000</td>\n",
       "      <td>10000.000000</td>\n",
       "      <td>9091.000000</td>\n",
       "      <td>10000.000000</td>\n",
       "      <td>10000.000000</td>\n",
       "      <td>10000.00000</td>\n",
       "      <td>10000.000000</td>\n",
       "      <td>10000.000000</td>\n",
       "      <td>10000.000000</td>\n",
       "    </tr>\n",
       "    <tr>\n",
       "      <th>mean</th>\n",
       "      <td>5000.50000</td>\n",
       "      <td>1.569094e+07</td>\n",
       "      <td>650.528800</td>\n",
       "      <td>38.921800</td>\n",
       "      <td>4.997690</td>\n",
       "      <td>76485.889288</td>\n",
       "      <td>1.530200</td>\n",
       "      <td>0.70550</td>\n",
       "      <td>0.515100</td>\n",
       "      <td>100090.239881</td>\n",
       "      <td>0.203700</td>\n",
       "    </tr>\n",
       "    <tr>\n",
       "      <th>std</th>\n",
       "      <td>2886.89568</td>\n",
       "      <td>7.193619e+04</td>\n",
       "      <td>96.653299</td>\n",
       "      <td>10.487806</td>\n",
       "      <td>2.894723</td>\n",
       "      <td>62397.405202</td>\n",
       "      <td>0.581654</td>\n",
       "      <td>0.45584</td>\n",
       "      <td>0.499797</td>\n",
       "      <td>57510.492818</td>\n",
       "      <td>0.402769</td>\n",
       "    </tr>\n",
       "    <tr>\n",
       "      <th>min</th>\n",
       "      <td>1.00000</td>\n",
       "      <td>1.556570e+07</td>\n",
       "      <td>350.000000</td>\n",
       "      <td>18.000000</td>\n",
       "      <td>0.000000</td>\n",
       "      <td>0.000000</td>\n",
       "      <td>1.000000</td>\n",
       "      <td>0.00000</td>\n",
       "      <td>0.000000</td>\n",
       "      <td>11.580000</td>\n",
       "      <td>0.000000</td>\n",
       "    </tr>\n",
       "    <tr>\n",
       "      <th>25%</th>\n",
       "      <td>2500.75000</td>\n",
       "      <td>1.562853e+07</td>\n",
       "      <td>584.000000</td>\n",
       "      <td>32.000000</td>\n",
       "      <td>2.000000</td>\n",
       "      <td>0.000000</td>\n",
       "      <td>1.000000</td>\n",
       "      <td>0.00000</td>\n",
       "      <td>0.000000</td>\n",
       "      <td>51002.110000</td>\n",
       "      <td>0.000000</td>\n",
       "    </tr>\n",
       "    <tr>\n",
       "      <th>50%</th>\n",
       "      <td>5000.50000</td>\n",
       "      <td>1.569074e+07</td>\n",
       "      <td>652.000000</td>\n",
       "      <td>37.000000</td>\n",
       "      <td>5.000000</td>\n",
       "      <td>97198.540000</td>\n",
       "      <td>1.000000</td>\n",
       "      <td>1.00000</td>\n",
       "      <td>1.000000</td>\n",
       "      <td>100193.915000</td>\n",
       "      <td>0.000000</td>\n",
       "    </tr>\n",
       "    <tr>\n",
       "      <th>75%</th>\n",
       "      <td>7500.25000</td>\n",
       "      <td>1.575323e+07</td>\n",
       "      <td>718.000000</td>\n",
       "      <td>44.000000</td>\n",
       "      <td>7.000000</td>\n",
       "      <td>127644.240000</td>\n",
       "      <td>2.000000</td>\n",
       "      <td>1.00000</td>\n",
       "      <td>1.000000</td>\n",
       "      <td>149388.247500</td>\n",
       "      <td>0.000000</td>\n",
       "    </tr>\n",
       "    <tr>\n",
       "      <th>max</th>\n",
       "      <td>10000.00000</td>\n",
       "      <td>1.581569e+07</td>\n",
       "      <td>850.000000</td>\n",
       "      <td>92.000000</td>\n",
       "      <td>10.000000</td>\n",
       "      <td>250898.090000</td>\n",
       "      <td>4.000000</td>\n",
       "      <td>1.00000</td>\n",
       "      <td>1.000000</td>\n",
       "      <td>199992.480000</td>\n",
       "      <td>1.000000</td>\n",
       "    </tr>\n",
       "  </tbody>\n",
       "</table>\n",
       "</div>"
      ],
      "text/plain": [
       "         RowNumber    CustomerId   CreditScore           Age       Tenure  \\\n",
       "count  10000.00000  1.000000e+04  10000.000000  10000.000000  9091.000000   \n",
       "mean    5000.50000  1.569094e+07    650.528800     38.921800     4.997690   \n",
       "std     2886.89568  7.193619e+04     96.653299     10.487806     2.894723   \n",
       "min        1.00000  1.556570e+07    350.000000     18.000000     0.000000   \n",
       "25%     2500.75000  1.562853e+07    584.000000     32.000000     2.000000   \n",
       "50%     5000.50000  1.569074e+07    652.000000     37.000000     5.000000   \n",
       "75%     7500.25000  1.575323e+07    718.000000     44.000000     7.000000   \n",
       "max    10000.00000  1.581569e+07    850.000000     92.000000    10.000000   \n",
       "\n",
       "             Balance  NumOfProducts    HasCrCard  IsActiveMember  \\\n",
       "count   10000.000000   10000.000000  10000.00000    10000.000000   \n",
       "mean    76485.889288       1.530200      0.70550        0.515100   \n",
       "std     62397.405202       0.581654      0.45584        0.499797   \n",
       "min         0.000000       1.000000      0.00000        0.000000   \n",
       "25%         0.000000       1.000000      0.00000        0.000000   \n",
       "50%     97198.540000       1.000000      1.00000        1.000000   \n",
       "75%    127644.240000       2.000000      1.00000        1.000000   \n",
       "max    250898.090000       4.000000      1.00000        1.000000   \n",
       "\n",
       "       EstimatedSalary        Exited  \n",
       "count     10000.000000  10000.000000  \n",
       "mean     100090.239881      0.203700  \n",
       "std       57510.492818      0.402769  \n",
       "min          11.580000      0.000000  \n",
       "25%       51002.110000      0.000000  \n",
       "50%      100193.915000      0.000000  \n",
       "75%      149388.247500      0.000000  \n",
       "max      199992.480000      1.000000  "
      ]
     },
     "execution_count": 3,
     "metadata": {},
     "output_type": "execute_result"
    }
   ],
   "source": [
    "data.describe()"
   ]
  },
  {
   "cell_type": "code",
   "execution_count": 6,
   "metadata": {},
   "outputs": [
    {
     "name": "stdout",
     "output_type": "stream",
     "text": [
      "1.0     952\n",
      "2.0     950\n",
      "8.0     933\n",
      "3.0     928\n",
      "5.0     927\n",
      "7.0     925\n",
      "4.0     885\n",
      "9.0     882\n",
      "6.0     881\n",
      "10.0    446\n",
      "0.0     382\n",
      "Name: Tenure, dtype: int64\n",
      "Среднее значение 4.997690023099769\n",
      "Медиана 5.0\n"
     ]
    }
   ],
   "source": [
    "# вижу пропуски в столбце Tenure\n",
    "print(data['Tenure'].value_counts().sort_values(ascending=False))\n",
    "print('Среднее значение', data['Tenure'].mean())\n",
    "print('Медиана', data['Tenure'].median())"
   ]
  },
  {
   "cell_type": "code",
   "execution_count": 7,
   "metadata": {
    "scrolled": false
   },
   "outputs": [
    {
     "data": {
      "text/html": [
       "<div>\n",
       "<style scoped>\n",
       "    .dataframe tbody tr th:only-of-type {\n",
       "        vertical-align: middle;\n",
       "    }\n",
       "\n",
       "    .dataframe tbody tr th {\n",
       "        vertical-align: top;\n",
       "    }\n",
       "\n",
       "    .dataframe thead th {\n",
       "        text-align: right;\n",
       "    }\n",
       "</style>\n",
       "<table border=\"1\" class=\"dataframe\">\n",
       "  <thead>\n",
       "    <tr style=\"text-align: right;\">\n",
       "      <th></th>\n",
       "      <th>RowNumber</th>\n",
       "      <th>CustomerId</th>\n",
       "      <th>Surname</th>\n",
       "      <th>CreditScore</th>\n",
       "      <th>Geography</th>\n",
       "      <th>Gender</th>\n",
       "      <th>Age</th>\n",
       "      <th>Tenure</th>\n",
       "      <th>Balance</th>\n",
       "      <th>NumOfProducts</th>\n",
       "      <th>HasCrCard</th>\n",
       "      <th>IsActiveMember</th>\n",
       "      <th>EstimatedSalary</th>\n",
       "      <th>Exited</th>\n",
       "    </tr>\n",
       "  </thead>\n",
       "  <tbody>\n",
       "    <tr>\n",
       "      <th>0</th>\n",
       "      <td>1</td>\n",
       "      <td>15634602</td>\n",
       "      <td>Hargrave</td>\n",
       "      <td>619</td>\n",
       "      <td>France</td>\n",
       "      <td>Female</td>\n",
       "      <td>42</td>\n",
       "      <td>2.0</td>\n",
       "      <td>0.00</td>\n",
       "      <td>1</td>\n",
       "      <td>1</td>\n",
       "      <td>1</td>\n",
       "      <td>101348.88</td>\n",
       "      <td>1</td>\n",
       "    </tr>\n",
       "    <tr>\n",
       "      <th>1</th>\n",
       "      <td>2</td>\n",
       "      <td>15647311</td>\n",
       "      <td>Hill</td>\n",
       "      <td>608</td>\n",
       "      <td>Spain</td>\n",
       "      <td>Female</td>\n",
       "      <td>41</td>\n",
       "      <td>1.0</td>\n",
       "      <td>83807.86</td>\n",
       "      <td>1</td>\n",
       "      <td>0</td>\n",
       "      <td>1</td>\n",
       "      <td>112542.58</td>\n",
       "      <td>0</td>\n",
       "    </tr>\n",
       "    <tr>\n",
       "      <th>2</th>\n",
       "      <td>3</td>\n",
       "      <td>15619304</td>\n",
       "      <td>Onio</td>\n",
       "      <td>502</td>\n",
       "      <td>France</td>\n",
       "      <td>Female</td>\n",
       "      <td>42</td>\n",
       "      <td>8.0</td>\n",
       "      <td>159660.80</td>\n",
       "      <td>3</td>\n",
       "      <td>1</td>\n",
       "      <td>0</td>\n",
       "      <td>113931.57</td>\n",
       "      <td>1</td>\n",
       "    </tr>\n",
       "    <tr>\n",
       "      <th>3</th>\n",
       "      <td>4</td>\n",
       "      <td>15701354</td>\n",
       "      <td>Boni</td>\n",
       "      <td>699</td>\n",
       "      <td>France</td>\n",
       "      <td>Female</td>\n",
       "      <td>39</td>\n",
       "      <td>1.0</td>\n",
       "      <td>0.00</td>\n",
       "      <td>2</td>\n",
       "      <td>0</td>\n",
       "      <td>0</td>\n",
       "      <td>93826.63</td>\n",
       "      <td>0</td>\n",
       "    </tr>\n",
       "    <tr>\n",
       "      <th>4</th>\n",
       "      <td>5</td>\n",
       "      <td>15737888</td>\n",
       "      <td>Mitchell</td>\n",
       "      <td>850</td>\n",
       "      <td>Spain</td>\n",
       "      <td>Female</td>\n",
       "      <td>43</td>\n",
       "      <td>2.0</td>\n",
       "      <td>125510.82</td>\n",
       "      <td>1</td>\n",
       "      <td>1</td>\n",
       "      <td>1</td>\n",
       "      <td>79084.10</td>\n",
       "      <td>0</td>\n",
       "    </tr>\n",
       "    <tr>\n",
       "      <th>...</th>\n",
       "      <td>...</td>\n",
       "      <td>...</td>\n",
       "      <td>...</td>\n",
       "      <td>...</td>\n",
       "      <td>...</td>\n",
       "      <td>...</td>\n",
       "      <td>...</td>\n",
       "      <td>...</td>\n",
       "      <td>...</td>\n",
       "      <td>...</td>\n",
       "      <td>...</td>\n",
       "      <td>...</td>\n",
       "      <td>...</td>\n",
       "      <td>...</td>\n",
       "    </tr>\n",
       "    <tr>\n",
       "      <th>9995</th>\n",
       "      <td>9996</td>\n",
       "      <td>15606229</td>\n",
       "      <td>Obijiaku</td>\n",
       "      <td>771</td>\n",
       "      <td>France</td>\n",
       "      <td>Male</td>\n",
       "      <td>39</td>\n",
       "      <td>5.0</td>\n",
       "      <td>0.00</td>\n",
       "      <td>2</td>\n",
       "      <td>1</td>\n",
       "      <td>0</td>\n",
       "      <td>96270.64</td>\n",
       "      <td>0</td>\n",
       "    </tr>\n",
       "    <tr>\n",
       "      <th>9996</th>\n",
       "      <td>9997</td>\n",
       "      <td>15569892</td>\n",
       "      <td>Johnstone</td>\n",
       "      <td>516</td>\n",
       "      <td>France</td>\n",
       "      <td>Male</td>\n",
       "      <td>35</td>\n",
       "      <td>10.0</td>\n",
       "      <td>57369.61</td>\n",
       "      <td>1</td>\n",
       "      <td>1</td>\n",
       "      <td>1</td>\n",
       "      <td>101699.77</td>\n",
       "      <td>0</td>\n",
       "    </tr>\n",
       "    <tr>\n",
       "      <th>9997</th>\n",
       "      <td>9998</td>\n",
       "      <td>15584532</td>\n",
       "      <td>Liu</td>\n",
       "      <td>709</td>\n",
       "      <td>France</td>\n",
       "      <td>Female</td>\n",
       "      <td>36</td>\n",
       "      <td>7.0</td>\n",
       "      <td>0.00</td>\n",
       "      <td>1</td>\n",
       "      <td>0</td>\n",
       "      <td>1</td>\n",
       "      <td>42085.58</td>\n",
       "      <td>1</td>\n",
       "    </tr>\n",
       "    <tr>\n",
       "      <th>9998</th>\n",
       "      <td>9999</td>\n",
       "      <td>15682355</td>\n",
       "      <td>Sabbatini</td>\n",
       "      <td>772</td>\n",
       "      <td>Germany</td>\n",
       "      <td>Male</td>\n",
       "      <td>42</td>\n",
       "      <td>3.0</td>\n",
       "      <td>75075.31</td>\n",
       "      <td>2</td>\n",
       "      <td>1</td>\n",
       "      <td>0</td>\n",
       "      <td>92888.52</td>\n",
       "      <td>1</td>\n",
       "    </tr>\n",
       "    <tr>\n",
       "      <th>9999</th>\n",
       "      <td>10000</td>\n",
       "      <td>15628319</td>\n",
       "      <td>Walker</td>\n",
       "      <td>792</td>\n",
       "      <td>France</td>\n",
       "      <td>Female</td>\n",
       "      <td>28</td>\n",
       "      <td>4.0</td>\n",
       "      <td>130142.79</td>\n",
       "      <td>1</td>\n",
       "      <td>1</td>\n",
       "      <td>0</td>\n",
       "      <td>38190.78</td>\n",
       "      <td>0</td>\n",
       "    </tr>\n",
       "  </tbody>\n",
       "</table>\n",
       "<p>10000 rows × 14 columns</p>\n",
       "</div>"
      ],
      "text/plain": [
       "      RowNumber  CustomerId    Surname  CreditScore Geography  Gender  Age  \\\n",
       "0             1    15634602   Hargrave          619    France  Female   42   \n",
       "1             2    15647311       Hill          608     Spain  Female   41   \n",
       "2             3    15619304       Onio          502    France  Female   42   \n",
       "3             4    15701354       Boni          699    France  Female   39   \n",
       "4             5    15737888   Mitchell          850     Spain  Female   43   \n",
       "...         ...         ...        ...          ...       ...     ...  ...   \n",
       "9995       9996    15606229   Obijiaku          771    France    Male   39   \n",
       "9996       9997    15569892  Johnstone          516    France    Male   35   \n",
       "9997       9998    15584532        Liu          709    France  Female   36   \n",
       "9998       9999    15682355  Sabbatini          772   Germany    Male   42   \n",
       "9999      10000    15628319     Walker          792    France  Female   28   \n",
       "\n",
       "      Tenure    Balance  NumOfProducts  HasCrCard  IsActiveMember  \\\n",
       "0        2.0       0.00              1          1               1   \n",
       "1        1.0   83807.86              1          0               1   \n",
       "2        8.0  159660.80              3          1               0   \n",
       "3        1.0       0.00              2          0               0   \n",
       "4        2.0  125510.82              1          1               1   \n",
       "...      ...        ...            ...        ...             ...   \n",
       "9995     5.0       0.00              2          1               0   \n",
       "9996    10.0   57369.61              1          1               1   \n",
       "9997     7.0       0.00              1          0               1   \n",
       "9998     3.0   75075.31              2          1               0   \n",
       "9999     4.0  130142.79              1          1               0   \n",
       "\n",
       "      EstimatedSalary  Exited  \n",
       "0           101348.88       1  \n",
       "1           112542.58       0  \n",
       "2           113931.57       1  \n",
       "3            93826.63       0  \n",
       "4            79084.10       0  \n",
       "...               ...     ...  \n",
       "9995         96270.64       0  \n",
       "9996        101699.77       0  \n",
       "9997         42085.58       1  \n",
       "9998         92888.52       1  \n",
       "9999         38190.78       0  \n",
       "\n",
       "[10000 rows x 14 columns]"
      ]
     },
     "metadata": {},
     "output_type": "display_data"
    },
    {
     "name": "stdout",
     "output_type": "stream",
     "text": [
      "Среднее значение 5.0009\n",
      "Медиана 5.0\n"
     ]
    }
   ],
   "source": [
    "# так как особой взаимосвязи не видно, заменю пропуски случайные значения, находящиеся в границах столбца\n",
    "def func(row):\n",
    "    if pd.isna(row['Tenure']):\n",
    "        return random.randint(0,10)\n",
    "    return row['Tenure']\n",
    " \n",
    "data['Tenure'] = data.apply(func, axis=1)\n",
    "display(data)\n",
    "print('Среднее значение', data['Tenure'].mean())\n",
    "print('Медиана', data['Tenure'].median())"
   ]
  },
  {
   "cell_type": "code",
   "execution_count": 8,
   "metadata": {},
   "outputs": [
    {
     "name": "stdout",
     "output_type": "stream",
     "text": [
      "['France', 'Germany', 'Spain']\n",
      "['Female', 'Male']\n"
     ]
    }
   ],
   "source": [
    "# так как значения среднего и медианы сильно не изменились, замена пропусков совершена правильно\n",
    "# проверяю какие столбцы можно закодировать \n",
    "print(sorted(data['Geography'].unique()))\n",
    "print(sorted(data['Gender'].unique()))"
   ]
  },
  {
   "cell_type": "code",
   "execution_count": 9,
   "metadata": {},
   "outputs": [
    {
     "name": "stdout",
     "output_type": "stream",
     "text": [
      "0\n"
     ]
    }
   ],
   "source": [
    "# проверяем данные на наличие дубликатов\n",
    "print(data.duplicated().sum())"
   ]
  },
  {
   "cell_type": "code",
   "execution_count": 10,
   "metadata": {},
   "outputs": [
    {
     "name": "stdout",
     "output_type": "stream",
     "text": [
      "(10000, 11)\n"
     ]
    }
   ],
   "source": [
    "# так как фамилии, порядкой номер строки и CustomerId не влияют на дальнейшую работу, удаляю эти столбцы\n",
    "data1 = data.drop(['Surname', 'CustomerId', 'RowNumber'], axis=1)\n",
    "print(data1.shape)"
   ]
  },
  {
   "cell_type": "code",
   "execution_count": 11,
   "metadata": {
    "scrolled": false
   },
   "outputs": [
    {
     "data": {
      "text/html": [
       "<div>\n",
       "<style scoped>\n",
       "    .dataframe tbody tr th:only-of-type {\n",
       "        vertical-align: middle;\n",
       "    }\n",
       "\n",
       "    .dataframe tbody tr th {\n",
       "        vertical-align: top;\n",
       "    }\n",
       "\n",
       "    .dataframe thead th {\n",
       "        text-align: right;\n",
       "    }\n",
       "</style>\n",
       "<table border=\"1\" class=\"dataframe\">\n",
       "  <thead>\n",
       "    <tr style=\"text-align: right;\">\n",
       "      <th></th>\n",
       "      <th>CreditScore</th>\n",
       "      <th>Age</th>\n",
       "      <th>Tenure</th>\n",
       "      <th>Balance</th>\n",
       "      <th>NumOfProducts</th>\n",
       "      <th>HasCrCard</th>\n",
       "      <th>IsActiveMember</th>\n",
       "      <th>EstimatedSalary</th>\n",
       "      <th>Exited</th>\n",
       "      <th>Geography_Germany</th>\n",
       "      <th>Geography_Spain</th>\n",
       "      <th>Gender_Male</th>\n",
       "    </tr>\n",
       "  </thead>\n",
       "  <tbody>\n",
       "    <tr>\n",
       "      <th>0</th>\n",
       "      <td>619</td>\n",
       "      <td>42</td>\n",
       "      <td>2.0</td>\n",
       "      <td>0.00</td>\n",
       "      <td>1</td>\n",
       "      <td>1</td>\n",
       "      <td>1</td>\n",
       "      <td>101348.88</td>\n",
       "      <td>1</td>\n",
       "      <td>0</td>\n",
       "      <td>0</td>\n",
       "      <td>0</td>\n",
       "    </tr>\n",
       "    <tr>\n",
       "      <th>1</th>\n",
       "      <td>608</td>\n",
       "      <td>41</td>\n",
       "      <td>1.0</td>\n",
       "      <td>83807.86</td>\n",
       "      <td>1</td>\n",
       "      <td>0</td>\n",
       "      <td>1</td>\n",
       "      <td>112542.58</td>\n",
       "      <td>0</td>\n",
       "      <td>0</td>\n",
       "      <td>1</td>\n",
       "      <td>0</td>\n",
       "    </tr>\n",
       "    <tr>\n",
       "      <th>2</th>\n",
       "      <td>502</td>\n",
       "      <td>42</td>\n",
       "      <td>8.0</td>\n",
       "      <td>159660.80</td>\n",
       "      <td>3</td>\n",
       "      <td>1</td>\n",
       "      <td>0</td>\n",
       "      <td>113931.57</td>\n",
       "      <td>1</td>\n",
       "      <td>0</td>\n",
       "      <td>0</td>\n",
       "      <td>0</td>\n",
       "    </tr>\n",
       "    <tr>\n",
       "      <th>3</th>\n",
       "      <td>699</td>\n",
       "      <td>39</td>\n",
       "      <td>1.0</td>\n",
       "      <td>0.00</td>\n",
       "      <td>2</td>\n",
       "      <td>0</td>\n",
       "      <td>0</td>\n",
       "      <td>93826.63</td>\n",
       "      <td>0</td>\n",
       "      <td>0</td>\n",
       "      <td>0</td>\n",
       "      <td>0</td>\n",
       "    </tr>\n",
       "    <tr>\n",
       "      <th>4</th>\n",
       "      <td>850</td>\n",
       "      <td>43</td>\n",
       "      <td>2.0</td>\n",
       "      <td>125510.82</td>\n",
       "      <td>1</td>\n",
       "      <td>1</td>\n",
       "      <td>1</td>\n",
       "      <td>79084.10</td>\n",
       "      <td>0</td>\n",
       "      <td>0</td>\n",
       "      <td>1</td>\n",
       "      <td>0</td>\n",
       "    </tr>\n",
       "    <tr>\n",
       "      <th>...</th>\n",
       "      <td>...</td>\n",
       "      <td>...</td>\n",
       "      <td>...</td>\n",
       "      <td>...</td>\n",
       "      <td>...</td>\n",
       "      <td>...</td>\n",
       "      <td>...</td>\n",
       "      <td>...</td>\n",
       "      <td>...</td>\n",
       "      <td>...</td>\n",
       "      <td>...</td>\n",
       "      <td>...</td>\n",
       "    </tr>\n",
       "    <tr>\n",
       "      <th>9995</th>\n",
       "      <td>771</td>\n",
       "      <td>39</td>\n",
       "      <td>5.0</td>\n",
       "      <td>0.00</td>\n",
       "      <td>2</td>\n",
       "      <td>1</td>\n",
       "      <td>0</td>\n",
       "      <td>96270.64</td>\n",
       "      <td>0</td>\n",
       "      <td>0</td>\n",
       "      <td>0</td>\n",
       "      <td>1</td>\n",
       "    </tr>\n",
       "    <tr>\n",
       "      <th>9996</th>\n",
       "      <td>516</td>\n",
       "      <td>35</td>\n",
       "      <td>10.0</td>\n",
       "      <td>57369.61</td>\n",
       "      <td>1</td>\n",
       "      <td>1</td>\n",
       "      <td>1</td>\n",
       "      <td>101699.77</td>\n",
       "      <td>0</td>\n",
       "      <td>0</td>\n",
       "      <td>0</td>\n",
       "      <td>1</td>\n",
       "    </tr>\n",
       "    <tr>\n",
       "      <th>9997</th>\n",
       "      <td>709</td>\n",
       "      <td>36</td>\n",
       "      <td>7.0</td>\n",
       "      <td>0.00</td>\n",
       "      <td>1</td>\n",
       "      <td>0</td>\n",
       "      <td>1</td>\n",
       "      <td>42085.58</td>\n",
       "      <td>1</td>\n",
       "      <td>0</td>\n",
       "      <td>0</td>\n",
       "      <td>0</td>\n",
       "    </tr>\n",
       "    <tr>\n",
       "      <th>9998</th>\n",
       "      <td>772</td>\n",
       "      <td>42</td>\n",
       "      <td>3.0</td>\n",
       "      <td>75075.31</td>\n",
       "      <td>2</td>\n",
       "      <td>1</td>\n",
       "      <td>0</td>\n",
       "      <td>92888.52</td>\n",
       "      <td>1</td>\n",
       "      <td>1</td>\n",
       "      <td>0</td>\n",
       "      <td>1</td>\n",
       "    </tr>\n",
       "    <tr>\n",
       "      <th>9999</th>\n",
       "      <td>792</td>\n",
       "      <td>28</td>\n",
       "      <td>4.0</td>\n",
       "      <td>130142.79</td>\n",
       "      <td>1</td>\n",
       "      <td>1</td>\n",
       "      <td>0</td>\n",
       "      <td>38190.78</td>\n",
       "      <td>0</td>\n",
       "      <td>0</td>\n",
       "      <td>0</td>\n",
       "      <td>0</td>\n",
       "    </tr>\n",
       "  </tbody>\n",
       "</table>\n",
       "<p>10000 rows × 12 columns</p>\n",
       "</div>"
      ],
      "text/plain": [
       "      CreditScore  Age  Tenure    Balance  NumOfProducts  HasCrCard  \\\n",
       "0             619   42     2.0       0.00              1          1   \n",
       "1             608   41     1.0   83807.86              1          0   \n",
       "2             502   42     8.0  159660.80              3          1   \n",
       "3             699   39     1.0       0.00              2          0   \n",
       "4             850   43     2.0  125510.82              1          1   \n",
       "...           ...  ...     ...        ...            ...        ...   \n",
       "9995          771   39     5.0       0.00              2          1   \n",
       "9996          516   35    10.0   57369.61              1          1   \n",
       "9997          709   36     7.0       0.00              1          0   \n",
       "9998          772   42     3.0   75075.31              2          1   \n",
       "9999          792   28     4.0  130142.79              1          1   \n",
       "\n",
       "      IsActiveMember  EstimatedSalary  Exited  Geography_Germany  \\\n",
       "0                  1        101348.88       1                  0   \n",
       "1                  1        112542.58       0                  0   \n",
       "2                  0        113931.57       1                  0   \n",
       "3                  0         93826.63       0                  0   \n",
       "4                  1         79084.10       0                  0   \n",
       "...              ...              ...     ...                ...   \n",
       "9995               0         96270.64       0                  0   \n",
       "9996               1        101699.77       0                  0   \n",
       "9997               1         42085.58       1                  0   \n",
       "9998               0         92888.52       1                  1   \n",
       "9999               0         38190.78       0                  0   \n",
       "\n",
       "      Geography_Spain  Gender_Male  \n",
       "0                   0            0  \n",
       "1                   1            0  \n",
       "2                   0            0  \n",
       "3                   0            0  \n",
       "4                   1            0  \n",
       "...               ...          ...  \n",
       "9995                0            1  \n",
       "9996                0            1  \n",
       "9997                0            0  \n",
       "9998                0            1  \n",
       "9999                0            0  \n",
       "\n",
       "[10000 rows x 12 columns]"
      ]
     },
     "metadata": {},
     "output_type": "display_data"
    }
   ],
   "source": [
    "# подготавливая признаки, выбираю способ кодирования One-hot_encoding\n",
    "data_ohe = pd.get_dummies(data1, drop_first=True)\n",
    "data_ohe.shape\n",
    "display(data_ohe)"
   ]
  },
  {
   "cell_type": "code",
   "execution_count": 12,
   "metadata": {},
   "outputs": [
    {
     "data": {
      "text/plain": [
       "(6000, 12)"
      ]
     },
     "metadata": {},
     "output_type": "display_data"
    },
    {
     "data": {
      "text/plain": [
       "(2000, 12)"
      ]
     },
     "metadata": {},
     "output_type": "display_data"
    },
    {
     "data": {
      "text/plain": [
       "(2000, 12)"
      ]
     },
     "metadata": {},
     "output_type": "display_data"
    }
   ],
   "source": [
    "# перехожу к подготовке данных\n",
    "# разбиваю выборку на обучающую, валидационную\n",
    "data_train_test, data_valid = train_test_split(data_ohe, test_size=0.2, random_state=12345)\n",
    "data_train, data_test = train_test_split(data_train_test, test_size=0.25, random_state=12345)\n",
    "display(data_train.shape)\n",
    "display(data_valid.shape)\n",
    "display(data_test.shape)"
   ]
  },
  {
   "cell_type": "code",
   "execution_count": 13,
   "metadata": {},
   "outputs": [
    {
     "name": "stdout",
     "output_type": "stream",
     "text": [
      "(6000, 11)\n",
      "(2000, 11)\n",
      "(2000, 11)\n",
      "(6000,)\n",
      "(2000,)\n",
      "(2000,)\n"
     ]
    }
   ],
   "source": [
    "target = data['Exited'] # целевой признак\n",
    "features = data.drop(['Exited'], axis=1) # признаки\n",
    "\n",
    "target_train = data_train['Exited'] \n",
    "features_train = data_train.drop(['Exited'], axis=1) \n",
    "\n",
    "target_valid = data_valid['Exited']\n",
    "features_valid = data_valid.drop(['Exited'], axis=1)\n",
    "\n",
    "target_test = data_test['Exited']\n",
    "features_test = data_test.drop(['Exited'], axis=1)\n",
    "\n",
    "print(features_train.shape)\n",
    "print(features_valid.shape)\n",
    "print(features_test.shape)\n",
    "print(target_train.shape)\n",
    "print(target_valid.shape)\n",
    "print(target_test.shape)\n"
   ]
  },
  {
   "cell_type": "code",
   "execution_count": 14,
   "metadata": {},
   "outputs": [
    {
     "name": "stdout",
     "output_type": "stream",
     "text": [
      "(6000, 11)\n",
      "(2000, 11)\n",
      "(2000, 11)\n"
     ]
    }
   ],
   "source": [
    "# провожу стандартизацию признаков\n",
    "numeric = ['CreditScore',\n",
    "           'Age',\n",
    "           'Tenure',\n",
    "           'Balance',\n",
    "           'NumOfProducts',\n",
    "           'EstimatedSalary'] # количественные признаки, кодируемые в категориальные переменные\n",
    "\n",
    "scaler = StandardScaler()\n",
    "scaler.fit(features_train[numeric])\n",
    "features_train[numeric] = scaler.transform(features_train[numeric])\n",
    "features_valid[numeric] = scaler.transform(features_valid[numeric])\n",
    "features_test[numeric] = scaler.transform(features_test[numeric])\n",
    "\n",
    "print(features_train.shape)\n",
    "print(features_valid.shape)\n",
    "print(features_test.shape)"
   ]
  },
  {
   "cell_type": "markdown",
   "metadata": {},
   "source": [
    "**Вывод**\n",
    "\n",
    "1. Получила данные, состоящие из 10000 строк и 14 стобцов.\n",
    "\n",
    "    *Признаки* \n",
    "* RowNumber — индекс строки в данных\n",
    "* CustomerId — уникальный идентификатор клиента\n",
    "* Surname — фамилия\n",
    "* CreditScore — кредитный рейтинг\n",
    "* Geography — страна проживания\n",
    "* Gender — пол\n",
    "* Age — возраст\n",
    "* Tenure — сколько лет человек является клиентом банка\n",
    "* Balance — баланс на счёте\n",
    "* NumOfProducts — количество продуктов банка, используемых клиентом\n",
    "* HasCrCard — наличие кредитной карты\n",
    "* IsActiveMember — активность клиента\n",
    "* EstimatedSalary — предполагаемая зарплата\n",
    "\n",
    "    *Целевой признак*\n",
    " \n",
    "* Exited — факт ухода клиента\n",
    "\n",
    "2. Провела предобработку данных\n",
    "\n",
    "- Пропуски обнаружены были только в столбце Tenure, заменили их на медиану, расчитанную по региону\n",
    "- Дубликатов не обнаружено\n",
    "- Удален столбец с фамилиями, так как при кодировании и избегании дамми-ловушек этот столбец превращает данные в датафрейм с более 2000 столбцов. Тем более как признак фамилии не влияют на отток клиентов.\n",
    "\n",
    "3. Закодировала получившийся датасет с помощью One-hot-encoder (так как переводим количественные признаки в категориальные)\n",
    "\n",
    "4. Разбила выборку на обучающую и валидационную с помощью train_test_split, обучающая выборка составила 75%\n",
    "\n",
    "5. Стандартизировала признаки с помощью StandardScaler\n"
   ]
  },
  {
   "cell_type": "markdown",
   "metadata": {},
   "source": [
    "## Исследование задачи"
   ]
  },
  {
   "cell_type": "code",
   "execution_count": 15,
   "metadata": {},
   "outputs": [
    {
     "name": "stdout",
     "output_type": "stream",
     "text": [
      "F1 = 0.48584905660377364\n",
      "auc_roc = 0.6728770484359158\n"
     ]
    }
   ],
   "source": [
    "# DecisionTreeClassifier\n",
    "model = DecisionTreeClassifier()\n",
    "model.fit(features_train, target_train)\n",
    "predictions_valid = model.predict(features_valid)\n",
    "print('F1 =', f1_score(target_valid, predictions_valid))\n",
    "\n",
    "# сравниваю f1 c auc-roc\n",
    "probabilities_valid = model.predict_proba(features_valid)\n",
    "probabilities_one_valid = probabilities_valid[:, 1]\n",
    "auc_roc = roc_auc_score(target_valid, probabilities_one_valid)\n",
    "print('auc_roc =', auc_roc)"
   ]
  },
  {
   "cell_type": "code",
   "execution_count": 16,
   "metadata": {},
   "outputs": [
    {
     "name": "stdout",
     "output_type": "stream",
     "text": [
      "F1 = 0.5064177362893816\n"
     ]
    }
   ],
   "source": [
    "# DecisionTreeRegressor\n",
    "model = DecisionTreeRegressor(random_state=12345)\n",
    "model.fit(features_train, target_train)\n",
    "predictions_valid = model.predict(features_valid)\n",
    "print('F1 =', f1_score(target_valid, predictions_valid))\n",
    "\n",
    "# для модели DecisionTreeRegressor нельзя посчитать auc_roc, так как задача заключается в классификации"
   ]
  },
  {
   "cell_type": "code",
   "execution_count": 17,
   "metadata": {},
   "outputs": [
    {
     "name": "stdout",
     "output_type": "stream",
     "text": [
      "max_depth = 1 f1_score = 0.0\n"
     ]
    },
    {
     "name": "stderr",
     "output_type": "stream",
     "text": [
      "/opt/conda/lib/python3.7/site-packages/sklearn/metrics/classification.py:1437: UndefinedMetricWarning: F-score is ill-defined and being set to 0.0 due to no predicted samples.\n",
      "  'precision', 'predicted', average, warn_for)\n"
     ]
    },
    {
     "name": "stdout",
     "output_type": "stream",
     "text": [
      "max_depth = 2 f1_score = 0.1515151515151515\n",
      "max_depth = 3 f1_score = 0.21030927835051547\n",
      "max_depth = 4 f1_score = 0.3181818181818182\n",
      "max_depth = 5 f1_score = 0.4230769230769231\n",
      "max_depth = 6 f1_score = 0.506578947368421\n",
      "max_depth = 7 f1_score = 0.5373608903020667\n",
      "max_depth = 8 f1_score = 0.5496894409937888\n",
      "max_depth = 9 f1_score = 0.5592705167173253\n",
      "max_depth = 10 f1_score = 0.5662650602409639\n",
      "max_depth = 11 f1_score = 0.545727136431784\n",
      "max_depth = 12 f1_score = 0.5650224215246636\n",
      "max_depth = 13 f1_score = 0.5490196078431373\n",
      "max_depth = 14 f1_score = 0.5621301775147929\n",
      "max_depth = 15 f1_score = 0.5557206537890045\n",
      "best_depth = 10 best f1_score = 0.5557206537890045\n"
     ]
    }
   ],
   "source": [
    "# RandomForestClassifier\n",
    "# сначала определим наилучшую глубину\n",
    "best_result = 0\n",
    "best_depth = 0\n",
    "for depth in range(1, 16, 1):\n",
    "    model = RandomForestClassifier(n_estimators=40,\n",
    "                                   max_depth=depth,\n",
    "                                   random_state=12345)\n",
    "    model.fit(features_train, target_train)\n",
    "    predictions_valid = model.predict(features_valid)\n",
    "    result = f1_score(target_valid, predictions_valid)\n",
    "    print('max_depth =', depth, 'f1_score =', result)\n",
    "    if result > best_result:\n",
    "        best_result = result\n",
    "        best_depth = depth\n",
    "print('best_depth =', best_depth, 'best f1_score =', result)"
   ]
  },
  {
   "cell_type": "code",
   "execution_count": 18,
   "metadata": {},
   "outputs": [
    {
     "name": "stdout",
     "output_type": "stream",
     "text": [
      "est = 10 f1_score = 0.5866666666666666\n",
      "est = 20 f1_score = 0.5705705705705706\n",
      "est = 30 f1_score = 0.571001494768311\n",
      "est = 40 f1_score = 0.5662650602409639\n",
      "est = 50 f1_score = 0.5627836611195159\n",
      "est = 60 f1_score = 0.5658093797276853\n",
      "est = 70 f1_score = 0.5597579425113465\n",
      "est = 80 f1_score = 0.5597579425113465\n",
      "est = 90 f1_score = 0.5671191553544496\n",
      "est = 100 f1_score = 0.5679758308157099\n",
      "best_est = 10 best f1_score = 0.5679758308157099\n"
     ]
    }
   ],
   "source": [
    "# RandomForestClassifier\n",
    "# теперь при наилучшей глубине выберем наилучшее количество деревьев\n",
    "best_result = 0\n",
    "best_est = 0\n",
    "for est in range(10, 101, 10):\n",
    "    model = RandomForestClassifier(n_estimators=est,\n",
    "                                   max_depth=best_depth,\n",
    "                                   random_state=12345)\n",
    "    model.fit(features_train, target_train)\n",
    "    predictions_valid = model.predict(features_valid)\n",
    "    result = f1_score(target_valid, predictions_valid)\n",
    "    print('est =', est, 'f1_score =', result)\n",
    "    if result > best_result:\n",
    "        best_result = result\n",
    "        best_est = est\n",
    "print('best_est =', best_est, 'best f1_score =', result)"
   ]
  },
  {
   "cell_type": "code",
   "execution_count": 19,
   "metadata": {},
   "outputs": [
    {
     "name": "stdout",
     "output_type": "stream",
     "text": [
      "f1_score = 0.5645645645645645\n",
      "auc_roc = 0.8635180021171079\n"
     ]
    }
   ],
   "source": [
    "# RandomForestClassifier\n",
    "# после определения гиперпараметров с лучшими результатами проверяю auc_roc\n",
    "model = RandomForestClassifier(n_estimators=60,\n",
    "                                   max_depth=12,\n",
    "                                   random_state=12345)\n",
    "model.fit(features_train, target_train)\n",
    "predictions_valid = model.predict(features_valid)\n",
    "result = f1_score(target_valid, predictions_valid)\n",
    "print('f1_score =', result)\n",
    "\n",
    "probabilities_valid = model.predict_proba(features_valid)\n",
    "probabilities_one_valid = probabilities_valid[:, 1]\n",
    "auc_roc = roc_auc_score(target_valid, probabilities_one_valid)\n",
    "print('auc_roc =', auc_roc)"
   ]
  },
  {
   "cell_type": "markdown",
   "metadata": {},
   "source": [
    "Принимает наилучший результат модель RandomForestClassifier, f1_score = 0.58 при depth = 12 и est = 60, auc_roc =0.86"
   ]
  },
  {
   "cell_type": "code",
   "execution_count": 20,
   "metadata": {},
   "outputs": [
    {
     "name": "stdout",
     "output_type": "stream",
     "text": [
      "F1 = 0.3006993006993007\n",
      "auc_roc = 0.7581092528931574\n"
     ]
    },
    {
     "name": "stderr",
     "output_type": "stream",
     "text": [
      "/opt/conda/lib/python3.7/site-packages/sklearn/linear_model/logistic.py:432: FutureWarning: Default solver will be changed to 'lbfgs' in 0.22. Specify a solver to silence this warning.\n",
      "  FutureWarning)\n"
     ]
    }
   ],
   "source": [
    "# LogisticRegressior\n",
    "model = LogisticRegression(random_state=12345)\n",
    "model.fit(features_train, target_train)\n",
    "predictions_valid = model.predict(features_valid)\n",
    "print('F1 =', f1_score(target_valid, predictions_valid))\n",
    "\n",
    "# сравниваю f1 c auc-roc\n",
    "probabilities_valid = model.predict_proba(features_valid)\n",
    "probabilities_one_valid = probabilities_valid[:, 1]\n",
    "auc_roc = roc_auc_score(target_valid, probabilities_one_valid)\n",
    "print('auc_roc =', auc_roc)"
   ]
  },
  {
   "cell_type": "markdown",
   "metadata": {},
   "source": [
    "**Вывод**\n",
    "\n",
    "Были проверены 4 модели без учета дисбаланса, у которых есть возможность определить f1-score:\n",
    "\n",
    "* DecisionTreeClassifier: f1_score = 0.58\n",
    "* DecisionTreeRegressor: f1_score = 0.51\n",
    "* RandomForestClassifier: f1_score = 0.56\n",
    "* LogisticRegression: f1_score = 0.3\n",
    "\n",
    "У модели DecisionTreeRegressor нельзя определить auc-roc.\n",
    "* DecisionTreeClassifier: auc_roc = 0.69\n",
    "* RandomForestClassifier: auc_roc = 0.86\n",
    "* LogisticRegression: auc_roc = 0.76\n",
    "\n",
    "По результатам метрик F1 и AUC-ROC самые лучшие результаты показывает модель RandomForestClassifier.\n",
    "\n",
    "Проверим модели с учетом дисбаланса."
   ]
  },
  {
   "cell_type": "markdown",
   "metadata": {},
   "source": [
    "## Борьба с дисбалансом"
   ]
  },
  {
   "cell_type": "code",
   "execution_count": 21,
   "metadata": {},
   "outputs": [
    {
     "name": "stdout",
     "output_type": "stream",
     "text": [
      "F1 = 0.5024271844660194\n",
      "auc_roc = 0.6819946074789591\n"
     ]
    }
   ],
   "source": [
    "# DecisionTreeClassifier\n",
    "model = DecisionTreeClassifier(class_weight='balanced')\n",
    "model.fit(features_train, target_train)\n",
    "predictions_valid = model.predict(features_valid)\n",
    "print('F1 =', f1_score(target_valid, predictions_valid))\n",
    "\n",
    "\n",
    "# сравниваю f1 c auc-roc\n",
    "probabilities_valid = model.predict_proba(features_valid)\n",
    "probabilities_one_valid = probabilities_valid[:, 1]\n",
    "auc_roc = roc_auc_score(target_valid, probabilities_one_valid)\n",
    "print('auc_roc =', auc_roc)"
   ]
  },
  {
   "cell_type": "code",
   "execution_count": 22,
   "metadata": {},
   "outputs": [
    {
     "name": "stdout",
     "output_type": "stream",
     "text": [
      "max_depth = 1 f1_score = 0.5353283458021613\n",
      "max_depth = 2 f1_score = 0.5834109972041007\n",
      "max_depth = 3 f1_score = 0.5858951175406871\n",
      "max_depth = 4 f1_score = 0.608695652173913\n",
      "max_depth = 5 f1_score = 0.6147783251231528\n",
      "max_depth = 6 f1_score = 0.6170634920634921\n",
      "max_depth = 7 f1_score = 0.6343975283213181\n",
      "max_depth = 8 f1_score = 0.6472491909385113\n",
      "max_depth = 9 f1_score = 0.64293659621802\n",
      "max_depth = 10 f1_score = 0.6408450704225352\n",
      "max_depth = 11 f1_score = 0.6202531645569621\n",
      "max_depth = 12 f1_score = 0.6191709844559584\n",
      "max_depth = 13 f1_score = 0.6034712950600801\n",
      "max_depth = 14 f1_score = 0.5673758865248227\n",
      "max_depth = 15 f1_score = 0.5689655172413793\n",
      "best_depth = 8 best f1_score = 0.5689655172413793\n",
      "auc_roc = 0.8562145752905812\n"
     ]
    }
   ],
   "source": [
    "# RandomForestClassifier\n",
    "# сначала определим наилучшую глубину\n",
    "best_result = 0\n",
    "best_depth = 0\n",
    "for depth in range(1, 16, 1):\n",
    "    model = RandomForestClassifier(n_estimators=40,\n",
    "                                   max_depth=depth,\n",
    "                                   random_state=12345,\n",
    "                                   class_weight='balanced')\n",
    "    model.fit(features_train, target_train)\n",
    "    predictions_valid = model.predict(features_valid)\n",
    "    result = f1_score(target_valid, predictions_valid)\n",
    "    print('max_depth =', depth, 'f1_score =', result)\n",
    "    if result > best_result:\n",
    "        best_result = result\n",
    "        best_depth = depth\n",
    "print('best_depth =', best_depth, 'best f1_score =', result)\n",
    "\n",
    "# сравниваю f1 c auc-roc\n",
    "probabilities_valid = model.predict_proba(features_valid)\n",
    "probabilities_one_valid = probabilities_valid[:, 1]\n",
    "auc_roc = roc_auc_score(target_valid, probabilities_one_valid)\n",
    "print('auc_roc =', auc_roc)"
   ]
  },
  {
   "cell_type": "code",
   "execution_count": 23,
   "metadata": {},
   "outputs": [
    {
     "name": "stdout",
     "output_type": "stream",
     "text": [
      "est = 10 f1_score = 0.6229860365198711\n",
      "est = 20 f1_score = 0.6464864864864864\n",
      "est = 30 f1_score = 0.6416309012875536\n",
      "est = 40 f1_score = 0.6472491909385113\n",
      "est = 50 f1_score = 0.6537216828478964\n",
      "est = 60 f1_score = 0.644468313641246\n",
      "est = 70 f1_score = 0.6509635974304069\n",
      "est = 80 f1_score = 0.6466809421841542\n",
      "est = 90 f1_score = 0.6459893048128342\n",
      "est = 100 f1_score = 0.6501614639397202\n",
      "best_est = 50 best f1_score = 0.6501614639397202\n",
      "auc_roc = 0.8690385620340912\n"
     ]
    }
   ],
   "source": [
    "# RandomForestClassifier\n",
    "# теперь при наилучшей глубине выберем наилучшее количество деревьев\n",
    "best_result = 0\n",
    "best_est = 0\n",
    "for est in range(10, 101, 10):\n",
    "    model = RandomForestClassifier(n_estimators=est,\n",
    "                                   max_depth=best_depth,\n",
    "                                   random_state=12345,\n",
    "                                   class_weight='balanced')\n",
    "    model.fit(features_train, target_train)\n",
    "    predictions_valid = model.predict(features_valid)\n",
    "    result = f1_score(target_valid, predictions_valid)\n",
    "    print('est =', est, 'f1_score =', result)\n",
    "    if result > best_result:\n",
    "        best_result = result\n",
    "        best_est = est\n",
    "print('best_est =', best_est, 'best f1_score =', result)\n",
    "\n",
    "# сравниваю f1 c auc-roc\n",
    "probabilities_valid = model.predict_proba(features_valid)\n",
    "probabilities_one_valid = probabilities_valid[:, 1]\n",
    "auc_roc = roc_auc_score(target_valid, probabilities_one_valid)\n",
    "print('auc_roc =', auc_roc)"
   ]
  },
  {
   "cell_type": "markdown",
   "metadata": {},
   "source": [
    "Модель RandomForestClassifier с учетом дисбаланса принимает наилучший результат f1_score = 0.65 при depth = 8 и est = 60, auc_roc=0.87"
   ]
  },
  {
   "cell_type": "code",
   "execution_count": 24,
   "metadata": {},
   "outputs": [
    {
     "name": "stdout",
     "output_type": "stream",
     "text": [
      "F1 = 0.5029337803855826\n",
      "auc_roc = 0.7638188934761216\n"
     ]
    }
   ],
   "source": [
    "# LogisticRegressior\n",
    "model = LogisticRegression(random_state=12345, solver='liblinear', class_weight='balanced')\n",
    "model.fit(features_train, target_train)\n",
    "predictions_valid = model.predict(features_valid)\n",
    "print('F1 =', f1_score(target_valid, predictions_valid))\n",
    "\n",
    "# сравниваю f1 c auc-roc\n",
    "probabilities_valid = model.predict_proba(features_valid)\n",
    "probabilities_one_valid = probabilities_valid[:, 1]\n",
    "auc_roc = roc_auc_score(target_valid, probabilities_one_valid)\n",
    "print('auc_roc =', auc_roc)"
   ]
  },
  {
   "cell_type": "markdown",
   "metadata": {},
   "source": [
    "**Вывод**\n",
    "\n",
    "С учетом дисбаланса были рассмотрены 3 модели, у которых также была посчитала метрика auc-roc:\n",
    "\n",
    "* DecisionTreeClassifier: \n",
    "        -F1 = 0.5053635280095352\n",
    "        -auc_roc = 0.6846707688734515\n",
    "        \n",
    "* RandomForestClassifier:\n",
    "        -F1_score = 0.6449511400651465\n",
    "        -auc_roc = 0.8670063170808326\n",
    "        (при гиперпараметрах depth = 8 и est = 60)\n",
    "        \n",
    "* LogisticRegression:\n",
    "        -F1 = 0.5050505050505051\n",
    "        -auc_roc = 0.7640213735593766\n",
    "\n",
    "Наилучший результат с учетом дисбаланса также показала модель RandomForestClassifier:\n",
    "\n",
    "f1_score = 0.64 при depth = 8 и est = 60\n",
    "auc_roc = 0.87 - так же наилучший результат\n",
    "\n",
    "Теперь пробую увеличить выборку"
   ]
  },
  {
   "cell_type": "code",
   "execution_count": 25,
   "metadata": {
    "scrolled": true
   },
   "outputs": [
    {
     "name": "stdout",
     "output_type": "stream",
     "text": [
      "F1: 0.5195339273474983\n"
     ]
    }
   ],
   "source": [
    "# RandomForestClassifier\n",
    "def upsample(features, target, repeat):\n",
    "    features_zeros = features[target == 0]\n",
    "    features_ones = features[target == 1]\n",
    "    target_zeros = target[target == 0]\n",
    "    target_ones = target[target == 1]\n",
    "\n",
    "    features_upsampled = pd.concat([features_zeros] + [features_ones] * repeat)\n",
    "    target_upsampled = pd.concat([target_zeros] + [target_ones] * repeat)\n",
    "    \n",
    "    features_upsampled, target_upsampled = shuffle(features_upsampled, \n",
    "                                                   target_upsampled, \n",
    "                                                   random_state=12345)\n",
    "    \n",
    "    return features_upsampled, target_upsampled\n",
    "\n",
    "features_upsampled, target_upsampled = upsample(features_train, target_train, 10)\n",
    "\n",
    "model = RandomForestClassifier(random_state=12345, max_depth=8, n_estimators=90)\n",
    "model.fit(features_upsampled, target_upsampled)\n",
    "predicted_valid = model.predict(features_valid)\n",
    "\n",
    "print(\"F1:\", f1_score(target_valid, predicted_valid))"
   ]
  },
  {
   "cell_type": "code",
   "execution_count": 26,
   "metadata": {},
   "outputs": [
    {
     "name": "stdout",
     "output_type": "stream",
     "text": [
      "F1: 0.4261943102522813\n"
     ]
    }
   ],
   "source": [
    "# LogisticRegression\n",
    "features_upsampled, target_upsampled = upsample(features_train, target_train, 10)\n",
    "\n",
    "model = LogisticRegression(solver='liblinear', random_state=12345)\n",
    "model.fit(features_upsampled, target_upsampled)\n",
    "predicted_valid = model.predict(features_valid)\n",
    "\n",
    "print(\"F1:\", f1_score(target_valid, predicted_valid))"
   ]
  },
  {
   "cell_type": "markdown",
   "metadata": {},
   "source": [
    "**Вывод**\n",
    "\n",
    "С увеличением выборки результат ухучшился.\n",
    "\n",
    "Пробую уменьшить выборку"
   ]
  },
  {
   "cell_type": "code",
   "execution_count": 27,
   "metadata": {},
   "outputs": [
    {
     "name": "stdout",
     "output_type": "stream",
     "text": [
      "F1: 0.4771634615384615\n"
     ]
    }
   ],
   "source": [
    "# RandomForestClassifier\n",
    "def downsample(features, target, fraction):\n",
    "    features_zeros = features[target == 0]\n",
    "    features_ones = features[target == 1]\n",
    "    target_zeros = target[target == 0]\n",
    "    target_ones = target[target == 1]\n",
    "\n",
    "    features_downsampled = pd.concat(\n",
    "        [features_zeros.sample(frac=fraction, random_state=12345)] + [features_ones])\n",
    "    target_downsampled = pd.concat(\n",
    "        [target_zeros.sample(frac=fraction, random_state=12345)] + [target_ones])\n",
    "    \n",
    "    features_downsampled, target_downsampled = shuffle(\n",
    "        features_downsampled, target_downsampled, random_state=12345)\n",
    "    \n",
    "    return features_downsampled, target_downsampled\n",
    "\n",
    "features_downsampled, target_downsampled = downsample(features_train, target_train, 0.1)\n",
    "\n",
    "model = RandomForestClassifier(random_state=12345, max_depth=8, n_estimators=90)\n",
    "model.fit(features_downsampled, target_downsampled)\n",
    "predicted_valid = model.predict(features_valid)\n",
    "\n",
    "print(\"F1:\", f1_score(target_valid, predicted_valid))"
   ]
  },
  {
   "cell_type": "code",
   "execution_count": 28,
   "metadata": {},
   "outputs": [
    {
     "name": "stdout",
     "output_type": "stream",
     "text": [
      "F1: 0.42336548767416937\n"
     ]
    }
   ],
   "source": [
    "# LogisticRegression\n",
    "features_downsampled, target_downsampled = downsample(features_train, target_train, 0.1)\n",
    "\n",
    "model = LogisticRegression(solver='liblinear', random_state=12345)\n",
    "model.fit(features_downsampled, target_downsampled)\n",
    "predicted_valid = model.predict(features_valid)\n",
    "\n",
    "print(\"F1:\", f1_score(target_valid, predicted_valid))"
   ]
  },
  {
   "cell_type": "markdown",
   "metadata": {},
   "source": [
    "**Вывод**\n",
    "\n",
    "Аналогично с уменьшением выборки также результат ухучшился. Останавливаюсь на сбалансированном случайном лесе.\n",
    "И построю для него ROC-кривую"
   ]
  },
  {
   "cell_type": "code",
   "execution_count": 29,
   "metadata": {},
   "outputs": [
    {
     "name": "stdout",
     "output_type": "stream",
     "text": [
      "f1_score = 0.644468313641246\n",
      "auc_roc = 0.8685517165397941\n"
     ]
    }
   ],
   "source": [
    "my_model = RandomForestClassifier(n_estimators=60,\n",
    "                               max_depth=8,\n",
    "                               random_state=12345,\n",
    "                               class_weight='balanced')\n",
    "my_model.fit(features_train, target_train)\n",
    "predictions_valid = my_model.predict(features_valid)\n",
    "result = f1_score(target_valid, predictions_valid)\n",
    "print('f1_score =', result)\n",
    "\n",
    "probabilities_valid = my_model.predict_proba(features_valid)\n",
    "probabilities_one_valid = probabilities_valid[:, 1]\n",
    "auc_roc = roc_auc_score(target_valid, probabilities_one_valid)\n",
    "print('auc_roc =', auc_roc)\n",
    "\n",
    "fpr, tpr, thresholds = roc_curve(target_valid, probabilities_one_valid)\n",
    "\n",
    "plt.figure()\n",
    "\n",
    "plt.plot(fpr, tpr)\n",
    "plt.xlim([0.0, 1.0])\n",
    "plt.ylim([0.0, 1.0])\n",
    "plt.xlabel('False Positive Rate')\n",
    "plt.ylabel('True Positive Rate')\n",
    "plt.title('ROC-кривая')\n",
    "\n",
    "# ROC-кривая случайной модели\n",
    "plt.plot([0, 1], [0, 1], linestyle='--')\n",
    "\n",
    "plt.show()"
   ]
  },
  {
   "cell_type": "markdown",
   "metadata": {},
   "source": [
    "Валидационная выборка показала результат f1 = 0.65, auc_roc = 0.87 - самые высокие результаты по всем проверенным моделям. \n",
    "Теперь тестирую наилучшую модель RandomForestClassifier на тестовой выборке, так же проверяя наилучшие гиперпараметры"
   ]
  },
  {
   "cell_type": "code",
   "execution_count": 30,
   "metadata": {},
   "outputs": [
    {
     "data": {
      "text/html": [
       "<div>\n",
       "<style scoped>\n",
       "    .dataframe tbody tr th:only-of-type {\n",
       "        vertical-align: middle;\n",
       "    }\n",
       "\n",
       "    .dataframe tbody tr th {\n",
       "        vertical-align: top;\n",
       "    }\n",
       "\n",
       "    .dataframe thead th {\n",
       "        text-align: right;\n",
       "    }\n",
       "</style>\n",
       "<table border=\"1\" class=\"dataframe\">\n",
       "  <thead>\n",
       "    <tr style=\"text-align: right;\">\n",
       "      <th></th>\n",
       "      <th>index</th>\n",
       "      <th>values</th>\n",
       "    </tr>\n",
       "  </thead>\n",
       "  <tbody>\n",
       "    <tr>\n",
       "      <th>0</th>\n",
       "      <td>CreditScore</td>\n",
       "      <td>0.059609</td>\n",
       "    </tr>\n",
       "    <tr>\n",
       "      <th>1</th>\n",
       "      <td>Age</td>\n",
       "      <td>0.355651</td>\n",
       "    </tr>\n",
       "    <tr>\n",
       "      <th>2</th>\n",
       "      <td>Tenure</td>\n",
       "      <td>0.033565</td>\n",
       "    </tr>\n",
       "    <tr>\n",
       "      <th>3</th>\n",
       "      <td>Balance</td>\n",
       "      <td>0.105433</td>\n",
       "    </tr>\n",
       "    <tr>\n",
       "      <th>4</th>\n",
       "      <td>NumOfProducts</td>\n",
       "      <td>0.214192</td>\n",
       "    </tr>\n",
       "    <tr>\n",
       "      <th>5</th>\n",
       "      <td>HasCrCard</td>\n",
       "      <td>0.006768</td>\n",
       "    </tr>\n",
       "    <tr>\n",
       "      <th>6</th>\n",
       "      <td>IsActiveMember</td>\n",
       "      <td>0.070223</td>\n",
       "    </tr>\n",
       "    <tr>\n",
       "      <th>7</th>\n",
       "      <td>EstimatedSalary</td>\n",
       "      <td>0.061971</td>\n",
       "    </tr>\n",
       "    <tr>\n",
       "      <th>8</th>\n",
       "      <td>Geography_Germany</td>\n",
       "      <td>0.061625</td>\n",
       "    </tr>\n",
       "    <tr>\n",
       "      <th>9</th>\n",
       "      <td>Geography_Spain</td>\n",
       "      <td>0.007264</td>\n",
       "    </tr>\n",
       "    <tr>\n",
       "      <th>10</th>\n",
       "      <td>Gender_Male</td>\n",
       "      <td>0.023699</td>\n",
       "    </tr>\n",
       "  </tbody>\n",
       "</table>\n",
       "</div>"
      ],
      "text/plain": [
       "                index    values\n",
       "0         CreditScore  0.059609\n",
       "1                 Age  0.355651\n",
       "2              Tenure  0.033565\n",
       "3             Balance  0.105433\n",
       "4       NumOfProducts  0.214192\n",
       "5           HasCrCard  0.006768\n",
       "6      IsActiveMember  0.070223\n",
       "7     EstimatedSalary  0.061971\n",
       "8   Geography_Germany  0.061625\n",
       "9     Geography_Spain  0.007264\n",
       "10        Gender_Male  0.023699"
      ]
     },
     "metadata": {},
     "output_type": "display_data"
    }
   ],
   "source": [
    "# Пробую для удобства определить features importance\n",
    "importances = my_model.feature_importances_\n",
    "my_model_importances = pd.DataFrame(importances, index=features_train.columns)\n",
    "my_model_importances.rename(columns = {0 : 'values'}, inplace = True)\n",
    "my_model_importances = my_model_importances.reset_index()\n",
    "display(my_model_importances)"
   ]
  },
  {
   "cell_type": "markdown",
   "metadata": {},
   "source": [
    "## Тестирование модели"
   ]
  },
  {
   "cell_type": "code",
   "execution_count": 31,
   "metadata": {},
   "outputs": [
    {
     "name": "stdout",
     "output_type": "stream",
     "text": [
      "f1_score = 0.5920745920745921\n",
      "auc_roc = 0.517310715460827\n"
     ]
    }
   ],
   "source": [
    "# оставляю модель RandomForestClassifier с гиперпараметрами \n",
    "# est = 60, depth = 8, class_weight = 'balanced'\n",
    "# и проверяю ее на тестовой выборки\n",
    "\n",
    "model = RandomForestClassifier(n_estimators=60,\n",
    "                               max_depth=8,\n",
    "                               random_state=12345,\n",
    "                               class_weight='balanced')\n",
    "model.fit(features_train, target_train)\n",
    "predictions_test = model.predict(features_test)\n",
    "result = f1_score(target_test, predictions_test)\n",
    "print('f1_score =', result)\n",
    "\n",
    "probabilities_test = model.predict_proba(features_test)\n",
    "probabilities_one_test = probabilities_valid[:, 1]\n",
    "auc_roc = roc_auc_score(target_test, probabilities_one_test)\n",
    "print('auc_roc =', auc_roc)"
   ]
  },
  {
   "cell_type": "code",
   "execution_count": 32,
   "metadata": {},
   "outputs": [],
   "source": [
    "fpr, tpr, thresholds = roc_curve(target_test, probabilities_one_test)\n",
    "\n",
    "plt.figure()\n",
    "\n",
    "plt.plot(fpr, tpr)\n",
    "plt.xlim([0.0, 1.0])\n",
    "plt.ylim([0.0, 1.0])\n",
    "plt.xlabel('False Positive Rate')\n",
    "plt.ylabel('True Positive Rate')\n",
    "plt.title('ROC-кривая')\n",
    "\n",
    "# ROC-кривая случайной модели\n",
    "plt.plot([0, 1], [0, 1], linestyle='--')\n",
    "\n",
    "plt.show()"
   ]
  },
  {
   "cell_type": "markdown",
   "metadata": {},
   "source": [
    "## Общий вывод"
   ]
  },
  {
   "cell_type": "markdown",
   "metadata": {},
   "source": [
    "**Цель проекта**\n",
    "\n",
    "Нужно спрогнозировать, уйдёт клиент из \"Бета-Банка\" в ближайшее время или нет, ориентируясь на исторические данные о поведении клиентов и расторжении договоров с банком.\n",
    "Нужно постройть модель с предельно большим значением F1-меры и проверить F1-меру на тестовой выборке. Дополнительно измеряить AUC-ROC, сравнивая её значение с F1-мерой.\n",
    "\n",
    "**Полученные данные**\n",
    "\n",
    "    В нашем распоряжении данные о поведении клиентов, состоящие из 10000 строк и 14 стобцов.\n",
    "\n",
    "   *Признаки*\n",
    "    \n",
    "   * RowNumber — индекс строки в данных\n",
    "   * CustomerId — уникальный идентификатор клиента\n",
    "   * Surname — фамилия\n",
    "   * CreditScore — кредитный рейтинг\n",
    "   * Geography — страна проживания\n",
    "   * Gender — пол\n",
    "   * Age — возраст\n",
    "   * Tenure — сколько лет человек является клиентом банка\n",
    "   * Balance — баланс на счёте\n",
    "   * NumOfProducts — количество продуктов банка, используемых клиентом\n",
    "   * HasCrCard — наличие кредитной карты\n",
    "   * IsActiveMember — активность клиента\n",
    "   * EstimatedSalary — предполагаемая зарплата\n",
    "\n",
    "   *Целевой признак*\n",
    " \n",
    "   * Exited — факт ухода клиента\n",
    "\n",
    "    Провела предобработку данных\n",
    "\n",
    "       - Пропуски обнаружены были только в столбце Tenure, заменили их на медиану, расчитанную по региону\n",
    "       - Дубликатов не обнаружено\n",
    "       - Удален столбец с фамилиями, так как при кодировании и избегании дамми-ловушек этот столбец превращает данные в датафрейм с более 2000 столбцов. Тем более как признак фамилии не влияют на отток клиентов.\n",
    "\n",
    "    Закодировала получившийся датасет с помощью One-hot-encoder (так как переводим количественные признаки в категориальные)\n",
    "\n",
    "    Разбила выборку на обучающую и валидационную с помощью train_test_split, обучающая выборка составила 75%\n",
    "\n",
    "    Стандартизировала признаки с помощью StandardScaler\n",
    "\n",
    "\n",
    "**Выборки**\n",
    "\n",
    "Разделили данные на три выборки: обучающую, валидационную и тестовую. От общих данных обучающая составила 60%, валидационная и тестовая по 20%.\n",
    "\n",
    "**Исследование разных моделей без учета дисбаланса**\n",
    "\n",
    "Были проверены 4 модели без учета дисбаланса, у которых есть возможность определить f1-score:\n",
    "\n",
    "* DecisionTreeClassifier: f1_score = 0.58\n",
    "* DecisionTreeRegressor: f1_score = 0.51\n",
    "* RandomForestClassifier: f1_score = 0.56\n",
    "* LogisticRegression: f1_score = 0.3\n",
    "\n",
    "У модели DecisionTreeRegressor нельзя определить auc-roc.\n",
    "* DecisionTreeClassifier: auc_roc = 0.69\n",
    "* RandomForestClassifier: auc_roc = 0.86\n",
    "* LogisticRegression: auc_roc = 0.76\n",
    "\n",
    "**Исследование разных моделей с учетом дисбаланса**\n",
    "С учетом дисбаланса были рассмотрены 3 модели, у которых также была посчитала метрика auc-roc:\n",
    "\n",
    "* DecisionTreeClassifier: \n",
    "        -F1 = 0.5053635280095352\n",
    "        -auc_roc = 0.6846707688734515\n",
    "        \n",
    "* RandomForestClassifier:\n",
    "        -F1_score = 0.6449511400651465\n",
    "        -auc_roc = 0.8670063170808326\n",
    "        (при гиперпараметрах depth = 8 и est = 60)\n",
    "        \n",
    "* LogisticRegression:\n",
    "        -F1 = 0.5050505050505051\n",
    "        -auc_roc = 0.7640213735593766\n",
    "\n",
    "Наилучший результат с учетом дисбаланса также показала модель RandomForestClassifier:\n",
    "\n",
    "f1_score = 0.64 при depth = 8 и est = 60\n",
    "auc_roc = 0.87 - так же наилучший результат\n",
    "\n",
    "С увеличением и с уменьшением выборки результаты ухучшились, поэтому оставила модель RandomForestClassifier:\n",
    "        - F1 = 0.64 (best_est = 60, best_depth = 8)\n",
    "        - auc_roc = 0.87\n",
    "\n",
    "**Проверка модели на тестовой выборке**\n",
    "\n",
    "Через модель, выбранную в предыдущем пункте, прогнала тестовую выборку, которая показала следующие результаты.\n",
    "\n",
    " - f1_score = 0.5924217844727694\n",
    " - auc_roc = 0.5151950584865502\n",
    "\n",
    "**Общий вывод**\n",
    "\n",
    "С помощью исследования построили модель случайного леса, которая лучше других справилась с задачей классификации, следовательно, ее стоит внедрить для успешного анализа поведения клиентов и определения, расторгнет договор клиент в ближайшее время или нет."
   ]
  }
 ],
 "metadata": {
  "ExecuteTimeLog": [
   {
    "duration": 721,
    "start_time": "2022-02-09T07:03:35.580Z"
   },
   {
    "duration": 804,
    "start_time": "2022-02-09T07:28:56.587Z"
   },
   {
    "duration": 49,
    "start_time": "2022-02-09T07:29:17.285Z"
   },
   {
    "duration": 10,
    "start_time": "2022-02-09T07:29:29.178Z"
   },
   {
    "duration": 4,
    "start_time": "2022-02-09T07:31:20.523Z"
   },
   {
    "duration": 5,
    "start_time": "2022-02-09T07:31:27.449Z"
   },
   {
    "duration": 16,
    "start_time": "2022-02-09T07:31:34.432Z"
   },
   {
    "duration": 23,
    "start_time": "2022-02-09T07:31:39.331Z"
   },
   {
    "duration": 24,
    "start_time": "2022-02-09T07:33:10.910Z"
   },
   {
    "duration": 23,
    "start_time": "2022-02-09T07:33:49.766Z"
   },
   {
    "duration": 9,
    "start_time": "2022-02-09T07:38:30.251Z"
   },
   {
    "duration": 23,
    "start_time": "2022-02-09T07:39:16.630Z"
   },
   {
    "duration": 4,
    "start_time": "2022-02-09T07:43:05.313Z"
   },
   {
    "duration": 4,
    "start_time": "2022-02-09T07:43:21.650Z"
   },
   {
    "duration": 215,
    "start_time": "2022-02-09T07:44:02.775Z"
   },
   {
    "duration": 6,
    "start_time": "2022-02-09T07:44:15.728Z"
   },
   {
    "duration": 219,
    "start_time": "2022-02-09T07:44:41.779Z"
   },
   {
    "duration": 276,
    "start_time": "2022-02-09T07:44:45.602Z"
   },
   {
    "duration": 6,
    "start_time": "2022-02-09T07:44:52.041Z"
   },
   {
    "duration": 221,
    "start_time": "2022-02-09T07:45:08.852Z"
   },
   {
    "duration": 7,
    "start_time": "2022-02-09T07:45:12.978Z"
   },
   {
    "duration": 7243,
    "start_time": "2022-02-09T07:49:23.974Z"
   },
   {
    "duration": 8,
    "start_time": "2022-02-09T07:49:33.224Z"
   },
   {
    "duration": 6296,
    "start_time": "2022-02-09T07:49:54.469Z"
   },
   {
    "duration": 228,
    "start_time": "2022-02-09T07:50:31.976Z"
   },
   {
    "duration": 8,
    "start_time": "2022-02-09T07:51:25.260Z"
   },
   {
    "duration": 202,
    "start_time": "2022-02-09T07:51:36.436Z"
   },
   {
    "duration": 7,
    "start_time": "2022-02-09T07:55:50.262Z"
   },
   {
    "duration": 7,
    "start_time": "2022-02-09T07:55:55.213Z"
   },
   {
    "duration": 247,
    "start_time": "2022-02-09T07:57:16.856Z"
   },
   {
    "duration": 25,
    "start_time": "2022-02-09T07:57:28.114Z"
   },
   {
    "duration": 8,
    "start_time": "2022-02-09T07:57:38.679Z"
   },
   {
    "duration": 24,
    "start_time": "2022-02-09T07:57:46.378Z"
   },
   {
    "duration": 25,
    "start_time": "2022-02-09T07:59:41.575Z"
   },
   {
    "duration": 27,
    "start_time": "2022-02-09T08:00:21.780Z"
   },
   {
    "duration": 395,
    "start_time": "2022-02-10T09:56:22.127Z"
   },
   {
    "duration": 357,
    "start_time": "2022-02-10T09:56:39.168Z"
   },
   {
    "duration": 1435,
    "start_time": "2022-02-10T09:56:52.845Z"
   },
   {
    "duration": 14,
    "start_time": "2022-02-10T09:56:54.282Z"
   },
   {
    "duration": 13,
    "start_time": "2022-02-10T09:56:54.300Z"
   },
   {
    "duration": 400,
    "start_time": "2022-02-10T09:56:54.316Z"
   },
   {
    "duration": 314,
    "start_time": "2022-02-10T09:56:54.718Z"
   },
   {
    "duration": 10,
    "start_time": "2022-02-10T09:56:55.035Z"
   },
   {
    "duration": 49,
    "start_time": "2022-02-10T09:56:55.048Z"
   },
   {
    "duration": 338,
    "start_time": "2022-02-10T09:57:11.458Z"
   },
   {
    "duration": 580,
    "start_time": "2022-02-10T09:58:31.151Z"
   },
   {
    "duration": 49,
    "start_time": "2022-02-10T09:58:43.260Z"
   },
   {
    "duration": 315,
    "start_time": "2022-02-10T09:59:34.012Z"
   },
   {
    "duration": 419,
    "start_time": "2022-02-10T10:00:13.231Z"
   },
   {
    "duration": 341,
    "start_time": "2022-02-10T10:00:28.816Z"
   },
   {
    "duration": 319,
    "start_time": "2022-02-10T10:00:53.301Z"
   },
   {
    "duration": 331,
    "start_time": "2022-02-10T10:01:59.535Z"
   },
   {
    "duration": 6,
    "start_time": "2022-02-10T10:02:03.974Z"
   },
   {
    "duration": 398,
    "start_time": "2022-02-10T10:03:24.639Z"
   },
   {
    "duration": 341,
    "start_time": "2022-02-10T10:03:46.238Z"
   },
   {
    "duration": 109,
    "start_time": "2022-02-10T10:03:54.857Z"
   },
   {
    "duration": 6,
    "start_time": "2022-02-10T10:03:59.469Z"
   },
   {
    "duration": 1357,
    "start_time": "2022-02-10T12:25:37.088Z"
   },
   {
    "duration": 14,
    "start_time": "2022-02-10T12:25:41.118Z"
   },
   {
    "duration": 11,
    "start_time": "2022-02-10T12:25:43.797Z"
   },
   {
    "duration": 356,
    "start_time": "2022-02-10T12:25:46.922Z"
   },
   {
    "duration": 7,
    "start_time": "2022-02-10T12:25:51.663Z"
   },
   {
    "duration": 7,
    "start_time": "2022-02-10T12:26:05.470Z"
   },
   {
    "duration": 312,
    "start_time": "2022-02-10T12:26:20.051Z"
   },
   {
    "duration": 349,
    "start_time": "2022-02-10T12:26:58.120Z"
   },
   {
    "duration": 49,
    "start_time": "2022-02-10T12:27:10.580Z"
   },
   {
    "duration": 7,
    "start_time": "2022-02-10T12:28:11.875Z"
   },
   {
    "duration": 12,
    "start_time": "2022-02-10T12:28:18.506Z"
   },
   {
    "duration": 35,
    "start_time": "2022-02-10T12:28:23.129Z"
   },
   {
    "duration": 34,
    "start_time": "2022-02-10T12:28:30.130Z"
   },
   {
    "duration": 14,
    "start_time": "2022-02-10T12:28:56.651Z"
   },
   {
    "duration": 14,
    "start_time": "2022-02-10T12:29:19.769Z"
   },
   {
    "duration": 30,
    "start_time": "2022-02-10T12:35:37.199Z"
   },
   {
    "duration": 16,
    "start_time": "2022-02-10T12:41:15.255Z"
   },
   {
    "duration": 22,
    "start_time": "2022-02-10T12:42:08.844Z"
   },
   {
    "duration": 15,
    "start_time": "2022-02-10T12:42:23.028Z"
   },
   {
    "duration": 15,
    "start_time": "2022-02-10T12:42:38.175Z"
   },
   {
    "duration": 1489,
    "start_time": "2022-02-10T12:49:44.997Z"
   },
   {
    "duration": 14,
    "start_time": "2022-02-10T12:49:46.488Z"
   },
   {
    "duration": 11,
    "start_time": "2022-02-10T12:49:46.505Z"
   },
   {
    "duration": 426,
    "start_time": "2022-02-10T12:49:46.519Z"
   },
   {
    "duration": 9,
    "start_time": "2022-02-10T12:49:46.960Z"
   },
   {
    "duration": 22,
    "start_time": "2022-02-10T12:49:46.972Z"
   },
   {
    "duration": 5,
    "start_time": "2022-02-10T12:49:46.996Z"
   },
   {
    "duration": 93,
    "start_time": "2022-02-10T12:49:47.004Z"
   },
   {
    "duration": 10,
    "start_time": "2022-02-10T12:49:47.100Z"
   },
   {
    "duration": 12,
    "start_time": "2022-02-10T12:49:47.113Z"
   },
   {
    "duration": 35,
    "start_time": "2022-02-10T12:49:47.162Z"
   },
   {
    "duration": 82,
    "start_time": "2022-02-10T14:12:20.977Z"
   },
   {
    "duration": 99,
    "start_time": "2022-02-10T14:19:19.740Z"
   },
   {
    "duration": 7121,
    "start_time": "2022-02-10T14:26:06.788Z"
   },
   {
    "duration": 579,
    "start_time": "2022-02-10T14:27:30.378Z"
   },
   {
    "duration": 429,
    "start_time": "2022-02-10T14:27:57.909Z"
   },
   {
    "duration": 2054,
    "start_time": "2022-02-10T14:28:30.038Z"
   },
   {
    "duration": 18,
    "start_time": "2022-02-10T14:28:32.095Z"
   },
   {
    "duration": 15,
    "start_time": "2022-02-10T14:28:32.117Z"
   },
   {
    "duration": 755,
    "start_time": "2022-02-10T14:28:32.160Z"
   },
   {
    "duration": 10,
    "start_time": "2022-02-10T14:28:32.918Z"
   },
   {
    "duration": 48,
    "start_time": "2022-02-10T14:28:32.931Z"
   },
   {
    "duration": 7,
    "start_time": "2022-02-10T14:28:32.981Z"
   },
   {
    "duration": 69,
    "start_time": "2022-02-10T14:28:32.992Z"
   },
   {
    "duration": 15,
    "start_time": "2022-02-10T14:28:33.065Z"
   },
   {
    "duration": 18,
    "start_time": "2022-02-10T14:28:33.083Z"
   },
   {
    "duration": 68,
    "start_time": "2022-02-10T14:28:33.104Z"
   },
   {
    "duration": 81,
    "start_time": "2022-02-10T14:28:33.939Z"
   },
   {
    "duration": 556,
    "start_time": "2022-02-10T14:28:34.870Z"
   },
   {
    "duration": 583,
    "start_time": "2022-02-10T14:32:22.553Z"
   },
   {
    "duration": 532,
    "start_time": "2022-02-10T14:32:34.765Z"
   },
   {
    "duration": 4376,
    "start_time": "2022-02-10T14:32:42.286Z"
   },
   {
    "duration": 79,
    "start_time": "2022-02-10T14:36:47.744Z"
   },
   {
    "duration": 78,
    "start_time": "2022-02-10T14:37:07.393Z"
   },
   {
    "duration": 266,
    "start_time": "2022-02-11T07:13:53.706Z"
   },
   {
    "duration": 1102,
    "start_time": "2022-02-11T07:14:32.085Z"
   },
   {
    "duration": 8,
    "start_time": "2022-02-11T07:14:33.189Z"
   },
   {
    "duration": 14,
    "start_time": "2022-02-11T07:14:33.200Z"
   },
   {
    "duration": 225,
    "start_time": "2022-02-11T07:14:33.216Z"
   },
   {
    "duration": 4,
    "start_time": "2022-02-11T07:14:33.443Z"
   },
   {
    "duration": 12,
    "start_time": "2022-02-11T07:14:33.449Z"
   },
   {
    "duration": 5,
    "start_time": "2022-02-11T07:14:33.462Z"
   },
   {
    "duration": 52,
    "start_time": "2022-02-11T07:14:33.469Z"
   },
   {
    "duration": 8,
    "start_time": "2022-02-11T07:14:33.523Z"
   },
   {
    "duration": 9,
    "start_time": "2022-02-11T07:14:33.533Z"
   },
   {
    "duration": 26,
    "start_time": "2022-02-11T07:14:33.543Z"
   },
   {
    "duration": 85,
    "start_time": "2022-02-11T07:14:33.571Z"
   },
   {
    "duration": 63,
    "start_time": "2022-02-11T07:14:33.657Z"
   },
   {
    "duration": 3,
    "start_time": "2022-02-11T07:14:33.722Z"
   },
   {
    "duration": 4,
    "start_time": "2022-02-11T07:14:33.726Z"
   },
   {
    "duration": 4,
    "start_time": "2022-02-11T07:14:33.732Z"
   },
   {
    "duration": 6,
    "start_time": "2022-02-11T07:14:33.737Z"
   },
   {
    "duration": 323,
    "start_time": "2022-02-11T07:15:13.226Z"
   },
   {
    "duration": 507,
    "start_time": "2022-02-11T07:15:29.707Z"
   },
   {
    "duration": 40,
    "start_time": "2022-02-11T07:17:31.277Z"
   },
   {
    "duration": 5934,
    "start_time": "2022-02-11T07:21:26.441Z"
   },
   {
    "duration": 3069,
    "start_time": "2022-02-11T07:22:35.824Z"
   },
   {
    "duration": 3021,
    "start_time": "2022-02-11T07:23:25.002Z"
   },
   {
    "duration": 3,
    "start_time": "2022-02-11T07:23:59.182Z"
   },
   {
    "duration": 2054,
    "start_time": "2022-02-11T07:24:54.707Z"
   },
   {
    "duration": 3001,
    "start_time": "2022-02-11T07:25:02.250Z"
   },
   {
    "duration": 4068,
    "start_time": "2022-02-11T07:25:10.699Z"
   },
   {
    "duration": 4600,
    "start_time": "2022-02-11T07:25:50.895Z"
   },
   {
    "duration": 4042,
    "start_time": "2022-02-11T07:26:07.832Z"
   },
   {
    "duration": 4707,
    "start_time": "2022-02-11T07:26:14.088Z"
   },
   {
    "duration": 4740,
    "start_time": "2022-02-11T07:26:19.602Z"
   },
   {
    "duration": 4574,
    "start_time": "2022-02-11T07:26:51.318Z"
   },
   {
    "duration": 3,
    "start_time": "2022-02-11T07:28:00.630Z"
   },
   {
    "duration": 383,
    "start_time": "2022-02-11T07:28:31.252Z"
   },
   {
    "duration": 237,
    "start_time": "2022-02-11T07:29:10.305Z"
   },
   {
    "duration": 20,
    "start_time": "2022-02-11T07:29:29.102Z"
   },
   {
    "duration": 261,
    "start_time": "2022-02-11T07:29:59.541Z"
   },
   {
    "duration": 70,
    "start_time": "2022-02-11T07:35:59.073Z"
   },
   {
    "duration": 244,
    "start_time": "2022-02-11T07:38:06.043Z"
   },
   {
    "duration": 59,
    "start_time": "2022-02-11T07:38:10.876Z"
   },
   {
    "duration": 69,
    "start_time": "2022-02-11T07:38:19.665Z"
   },
   {
    "duration": 230,
    "start_time": "2022-02-11T07:38:26.037Z"
   },
   {
    "duration": 246,
    "start_time": "2022-02-11T07:38:31.350Z"
   },
   {
    "duration": 242,
    "start_time": "2022-02-11T07:38:48.375Z"
   },
   {
    "duration": 3964,
    "start_time": "2022-02-11T07:38:53.086Z"
   },
   {
    "duration": 3778,
    "start_time": "2022-02-11T07:39:18.861Z"
   },
   {
    "duration": 71,
    "start_time": "2022-02-11T07:40:01.170Z"
   },
   {
    "duration": 401,
    "start_time": "2022-02-11T07:48:21.200Z"
   },
   {
    "duration": 38,
    "start_time": "2022-02-11T07:49:04.095Z"
   },
   {
    "duration": 257,
    "start_time": "2022-02-11T07:49:08.932Z"
   },
   {
    "duration": 254,
    "start_time": "2022-02-11T07:49:16.217Z"
   },
   {
    "duration": 1251,
    "start_time": "2022-02-11T07:49:26.461Z"
   },
   {
    "duration": 86,
    "start_time": "2022-02-11T07:50:21.527Z"
   },
   {
    "duration": 268,
    "start_time": "2022-02-11T07:52:31.073Z"
   },
   {
    "duration": 23,
    "start_time": "2022-02-11T07:52:39.215Z"
   },
   {
    "duration": 126,
    "start_time": "2022-02-11T07:53:12.127Z"
   },
   {
    "duration": 3,
    "start_time": "2022-02-11T07:55:51.280Z"
   },
   {
    "duration": 10,
    "start_time": "2022-02-11T07:56:27.801Z"
   },
   {
    "duration": 9,
    "start_time": "2022-02-11T09:03:38.621Z"
   },
   {
    "duration": 67,
    "start_time": "2022-02-11T09:03:50.759Z"
   },
   {
    "duration": 265,
    "start_time": "2022-02-11T09:04:02.531Z"
   },
   {
    "duration": 56,
    "start_time": "2022-02-11T09:04:15.660Z"
   },
   {
    "duration": 299,
    "start_time": "2022-02-11T09:04:31.368Z"
   },
   {
    "duration": 3920,
    "start_time": "2022-02-11T09:04:35.553Z"
   },
   {
    "duration": 4549,
    "start_time": "2022-02-11T09:04:39.475Z"
   },
   {
    "duration": 22,
    "start_time": "2022-02-11T09:04:45.795Z"
   },
   {
    "duration": 58,
    "start_time": "2022-02-11T09:04:49.686Z"
   },
   {
    "duration": 3812,
    "start_time": "2022-02-11T09:04:52.260Z"
   },
   {
    "duration": 3694,
    "start_time": "2022-02-11T09:04:58.266Z"
   },
   {
    "duration": 153,
    "start_time": "2022-02-11T09:05:01.961Z"
   },
   {
    "duration": 1306,
    "start_time": "2022-02-11T09:05:06.654Z"
   },
   {
    "duration": 71,
    "start_time": "2022-02-11T09:05:10.044Z"
   },
   {
    "duration": 296,
    "start_time": "2022-02-11T09:05:14.545Z"
   },
   {
    "duration": 98,
    "start_time": "2022-02-11T09:05:17.617Z"
   },
   {
    "duration": 1070,
    "start_time": "2022-02-11T09:05:29.314Z"
   },
   {
    "duration": 8,
    "start_time": "2022-02-11T09:05:30.386Z"
   },
   {
    "duration": 19,
    "start_time": "2022-02-11T09:05:30.398Z"
   },
   {
    "duration": 228,
    "start_time": "2022-02-11T09:05:30.418Z"
   },
   {
    "duration": 4,
    "start_time": "2022-02-11T09:05:30.648Z"
   },
   {
    "duration": 22,
    "start_time": "2022-02-11T09:05:30.653Z"
   },
   {
    "duration": 4,
    "start_time": "2022-02-11T09:05:30.677Z"
   },
   {
    "duration": 44,
    "start_time": "2022-02-11T09:05:30.684Z"
   },
   {
    "duration": 8,
    "start_time": "2022-02-11T09:05:30.730Z"
   },
   {
    "duration": 8,
    "start_time": "2022-02-11T09:05:30.740Z"
   },
   {
    "duration": 22,
    "start_time": "2022-02-11T09:05:30.749Z"
   },
   {
    "duration": 89,
    "start_time": "2022-02-11T09:05:30.773Z"
   },
   {
    "duration": 387,
    "start_time": "2022-02-11T09:05:30.865Z"
   },
   {
    "duration": -31,
    "start_time": "2022-02-11T09:05:31.285Z"
   },
   {
    "duration": -32,
    "start_time": "2022-02-11T09:05:31.287Z"
   },
   {
    "duration": -32,
    "start_time": "2022-02-11T09:05:31.288Z"
   },
   {
    "duration": -33,
    "start_time": "2022-02-11T09:05:31.290Z"
   },
   {
    "duration": -33,
    "start_time": "2022-02-11T09:05:31.291Z"
   },
   {
    "duration": -34,
    "start_time": "2022-02-11T09:05:31.293Z"
   },
   {
    "duration": -37,
    "start_time": "2022-02-11T09:05:31.297Z"
   },
   {
    "duration": -37,
    "start_time": "2022-02-11T09:05:31.298Z"
   },
   {
    "duration": -38,
    "start_time": "2022-02-11T09:05:31.300Z"
   },
   {
    "duration": -48,
    "start_time": "2022-02-11T09:05:31.310Z"
   },
   {
    "duration": -49,
    "start_time": "2022-02-11T09:05:31.312Z"
   },
   {
    "duration": 287,
    "start_time": "2022-02-11T09:06:57.575Z"
   },
   {
    "duration": 306,
    "start_time": "2022-02-11T09:07:10.163Z"
   },
   {
    "duration": 298,
    "start_time": "2022-02-11T09:07:15.040Z"
   },
   {
    "duration": 65,
    "start_time": "2022-02-11T09:07:58.102Z"
   },
   {
    "duration": 61,
    "start_time": "2022-02-11T09:08:10.101Z"
   },
   {
    "duration": 67,
    "start_time": "2022-02-11T09:08:22.567Z"
   },
   {
    "duration": 292,
    "start_time": "2022-02-11T09:09:53.930Z"
   },
   {
    "duration": 116,
    "start_time": "2022-02-11T09:10:08.362Z"
   },
   {
    "duration": 231,
    "start_time": "2022-02-11T09:10:18.963Z"
   },
   {
    "duration": 64,
    "start_time": "2022-02-11T09:11:28.441Z"
   },
   {
    "duration": 288,
    "start_time": "2022-02-11T09:11:31.967Z"
   },
   {
    "duration": 59,
    "start_time": "2022-02-11T09:11:41.147Z"
   },
   {
    "duration": 57,
    "start_time": "2022-02-11T09:11:42.092Z"
   },
   {
    "duration": 4054,
    "start_time": "2022-02-11T09:11:44.549Z"
   },
   {
    "duration": 4861,
    "start_time": "2022-02-11T09:11:55.518Z"
   },
   {
    "duration": 45,
    "start_time": "2022-02-11T09:12:13.571Z"
   },
   {
    "duration": 64,
    "start_time": "2022-02-11T09:13:11.473Z"
   },
   {
    "duration": 4016,
    "start_time": "2022-02-11T09:13:15.119Z"
   },
   {
    "duration": 3892,
    "start_time": "2022-02-11T09:13:23.131Z"
   },
   {
    "duration": 3913,
    "start_time": "2022-02-11T09:13:53.972Z"
   },
   {
    "duration": 4713,
    "start_time": "2022-02-11T09:14:03.785Z"
   },
   {
    "duration": 18,
    "start_time": "2022-02-11T09:14:43.687Z"
   },
   {
    "duration": 64,
    "start_time": "2022-02-11T09:15:07.740Z"
   },
   {
    "duration": 4131,
    "start_time": "2022-02-11T09:15:10.337Z"
   },
   {
    "duration": 3952,
    "start_time": "2022-02-11T09:15:18.545Z"
   },
   {
    "duration": 125,
    "start_time": "2022-02-11T09:15:24.693Z"
   },
   {
    "duration": 1287,
    "start_time": "2022-02-11T09:19:14.114Z"
   },
   {
    "duration": 47,
    "start_time": "2022-02-11T09:19:22.704Z"
   },
   {
    "duration": 266,
    "start_time": "2022-02-11T09:19:31.564Z"
   },
   {
    "duration": 40,
    "start_time": "2022-02-11T09:19:36.072Z"
   },
   {
    "duration": 825,
    "start_time": "2022-02-11T09:22:14.389Z"
   },
   {
    "duration": 242,
    "start_time": "2022-02-11T09:24:58.907Z"
   },
   {
    "duration": 12,
    "start_time": "2022-02-11T09:25:09.558Z"
   },
   {
    "duration": 13,
    "start_time": "2022-02-11T09:25:42.015Z"
   },
   {
    "duration": 12,
    "start_time": "2022-02-11T09:25:47.137Z"
   },
   {
    "duration": 13,
    "start_time": "2022-02-11T09:25:58.762Z"
   },
   {
    "duration": 11,
    "start_time": "2022-02-11T09:26:06.649Z"
   },
   {
    "duration": 14,
    "start_time": "2022-02-11T09:26:16.660Z"
   },
   {
    "duration": 11,
    "start_time": "2022-02-11T09:26:42.160Z"
   },
   {
    "duration": 16,
    "start_time": "2022-02-11T09:27:08.116Z"
   },
   {
    "duration": 9,
    "start_time": "2022-02-11T09:27:13.460Z"
   },
   {
    "duration": 10,
    "start_time": "2022-02-11T09:27:21.156Z"
   },
   {
    "duration": 12,
    "start_time": "2022-02-11T09:27:29.890Z"
   },
   {
    "duration": 1148,
    "start_time": "2022-02-11T09:27:37.827Z"
   },
   {
    "duration": 8,
    "start_time": "2022-02-11T09:27:38.977Z"
   },
   {
    "duration": 7,
    "start_time": "2022-02-11T09:27:38.987Z"
   },
   {
    "duration": 219,
    "start_time": "2022-02-11T09:27:38.996Z"
   },
   {
    "duration": 4,
    "start_time": "2022-02-11T09:27:39.217Z"
   },
   {
    "duration": 16,
    "start_time": "2022-02-11T09:27:39.222Z"
   },
   {
    "duration": 4,
    "start_time": "2022-02-11T09:27:39.239Z"
   },
   {
    "duration": 29,
    "start_time": "2022-02-11T09:27:39.244Z"
   },
   {
    "duration": 38,
    "start_time": "2022-02-11T09:27:39.275Z"
   },
   {
    "duration": 8,
    "start_time": "2022-02-11T09:27:39.315Z"
   },
   {
    "duration": 20,
    "start_time": "2022-02-11T09:27:39.325Z"
   },
   {
    "duration": 70,
    "start_time": "2022-02-11T09:27:39.347Z"
   },
   {
    "duration": 45,
    "start_time": "2022-02-11T09:27:39.419Z"
   },
   {
    "duration": 3240,
    "start_time": "2022-02-11T09:27:39.466Z"
   },
   {
    "duration": 3823,
    "start_time": "2022-02-11T09:27:42.708Z"
   },
   {
    "duration": 16,
    "start_time": "2022-02-11T09:27:46.533Z"
   },
   {
    "duration": 138,
    "start_time": "2022-02-11T09:27:46.617Z"
   },
   {
    "duration": 3359,
    "start_time": "2022-02-11T09:27:46.757Z"
   },
   {
    "duration": 3145,
    "start_time": "2022-02-11T09:27:50.118Z"
   },
   {
    "duration": 58,
    "start_time": "2022-02-11T09:27:53.264Z"
   },
   {
    "duration": 1113,
    "start_time": "2022-02-11T09:27:53.414Z"
   },
   {
    "duration": 83,
    "start_time": "2022-02-11T09:27:54.529Z"
   },
   {
    "duration": 333,
    "start_time": "2022-02-11T09:27:54.615Z"
   },
   {
    "duration": 19,
    "start_time": "2022-02-11T09:27:54.950Z"
   },
   {
    "duration": 801,
    "start_time": "2022-02-11T09:27:55.019Z"
   },
   {
    "duration": 11,
    "start_time": "2022-02-11T09:30:36.026Z"
   },
   {
    "duration": 707,
    "start_time": "2022-02-11T09:31:38.435Z"
   },
   {
    "duration": 820,
    "start_time": "2022-02-11T09:31:57.738Z"
   },
   {
    "duration": 345,
    "start_time": "2022-02-11T09:33:02.615Z"
   },
   {
    "duration": 3472,
    "start_time": "2022-02-11T09:33:49.578Z"
   },
   {
    "duration": 3549,
    "start_time": "2022-02-11T09:34:18.165Z"
   },
   {
    "duration": 85,
    "start_time": "2022-02-11T09:34:57.276Z"
   },
   {
    "duration": 3488,
    "start_time": "2022-02-11T09:35:00.279Z"
   },
   {
    "duration": 3436,
    "start_time": "2022-02-11T09:35:21.718Z"
   },
   {
    "duration": 3405,
    "start_time": "2022-02-11T09:36:02.261Z"
   },
   {
    "duration": 3392,
    "start_time": "2022-02-11T09:36:39.793Z"
   },
   {
    "duration": 3461,
    "start_time": "2022-02-11T09:37:05.424Z"
   },
   {
    "duration": 3413,
    "start_time": "2022-02-11T09:37:27.680Z"
   },
   {
    "duration": 3291,
    "start_time": "2022-02-11T09:37:55.249Z"
   },
   {
    "duration": 228,
    "start_time": "2022-02-11T09:38:59.683Z"
   },
   {
    "duration": 1249,
    "start_time": "2022-02-11T09:39:15.935Z"
   },
   {
    "duration": 3769,
    "start_time": "2022-02-11T09:39:19.906Z"
   },
   {
    "duration": 197,
    "start_time": "2022-02-11T09:39:35.887Z"
   },
   {
    "duration": 206,
    "start_time": "2022-02-11T09:40:21.481Z"
   },
   {
    "duration": 3271,
    "start_time": "2022-02-11T09:43:33.141Z"
   },
   {
    "duration": 3656,
    "start_time": "2022-02-11T09:43:50.071Z"
   },
   {
    "duration": 736,
    "start_time": "2022-02-11T09:46:01.734Z"
   },
   {
    "duration": 534,
    "start_time": "2022-02-11T09:46:09.978Z"
   },
   {
    "duration": 3777,
    "start_time": "2022-02-11T09:46:50.384Z"
   },
   {
    "duration": 3679,
    "start_time": "2022-02-11T09:47:37.187Z"
   },
   {
    "duration": 3679,
    "start_time": "2022-02-11T09:47:53.594Z"
   },
   {
    "duration": 3784,
    "start_time": "2022-02-11T09:48:10.551Z"
   },
   {
    "duration": 280,
    "start_time": "2022-02-11T09:48:25.760Z"
   },
   {
    "duration": 447,
    "start_time": "2022-02-11T09:48:45.378Z"
   },
   {
    "duration": 1137,
    "start_time": "2022-02-11T10:07:08.834Z"
   },
   {
    "duration": 8,
    "start_time": "2022-02-11T10:07:09.973Z"
   },
   {
    "duration": 7,
    "start_time": "2022-02-11T10:07:09.983Z"
   },
   {
    "duration": 223,
    "start_time": "2022-02-11T10:07:09.992Z"
   },
   {
    "duration": 4,
    "start_time": "2022-02-11T10:07:10.216Z"
   },
   {
    "duration": 13,
    "start_time": "2022-02-11T10:07:10.222Z"
   },
   {
    "duration": 4,
    "start_time": "2022-02-11T10:07:10.237Z"
   },
   {
    "duration": 28,
    "start_time": "2022-02-11T10:07:10.242Z"
   },
   {
    "duration": 43,
    "start_time": "2022-02-11T10:07:10.272Z"
   },
   {
    "duration": 10,
    "start_time": "2022-02-11T10:07:10.317Z"
   },
   {
    "duration": 19,
    "start_time": "2022-02-11T10:07:10.329Z"
   },
   {
    "duration": 74,
    "start_time": "2022-02-11T10:07:10.349Z"
   },
   {
    "duration": 45,
    "start_time": "2022-02-11T10:07:10.425Z"
   },
   {
    "duration": 3355,
    "start_time": "2022-02-11T10:07:10.471Z"
   },
   {
    "duration": 3864,
    "start_time": "2022-02-11T10:07:13.828Z"
   },
   {
    "duration": 117,
    "start_time": "2022-02-11T10:07:17.694Z"
   },
   {
    "duration": 141,
    "start_time": "2022-02-11T10:07:17.814Z"
   },
   {
    "duration": 3267,
    "start_time": "2022-02-11T10:07:17.957Z"
   },
   {
    "duration": 3181,
    "start_time": "2022-02-11T10:07:21.226Z"
   },
   {
    "duration": 35,
    "start_time": "2022-02-11T10:07:24.408Z"
   },
   {
    "duration": 1118,
    "start_time": "2022-02-11T10:07:24.515Z"
   },
   {
    "duration": 79,
    "start_time": "2022-02-11T10:07:25.634Z"
   },
   {
    "duration": 333,
    "start_time": "2022-02-11T10:07:25.715Z"
   },
   {
    "duration": 63,
    "start_time": "2022-02-11T10:07:26.050Z"
   },
   {
    "duration": 802,
    "start_time": "2022-02-11T10:07:26.116Z"
   },
   {
    "duration": 3213,
    "start_time": "2022-02-11T10:07:26.920Z"
   },
   {
    "duration": 3695,
    "start_time": "2022-02-11T10:07:30.136Z"
   },
   {
    "duration": 442,
    "start_time": "2022-02-11T10:07:33.833Z"
   },
   {
    "duration": 1167,
    "start_time": "2022-02-11T13:52:14.821Z"
   },
   {
    "duration": 39,
    "start_time": "2022-02-11T14:00:31.291Z"
   },
   {
    "duration": 319,
    "start_time": "2022-02-11T14:03:01.851Z"
   },
   {
    "duration": 40224,
    "start_time": "2022-02-11T14:03:36.480Z"
   },
   {
    "duration": -60,
    "start_time": "2022-02-11T14:04:16.765Z"
   },
   {
    "duration": 7484,
    "start_time": "2022-02-11T14:04:34.832Z"
   },
   {
    "duration": 20571,
    "start_time": "2022-02-11T14:04:42.318Z"
   },
   {
    "duration": 1844,
    "start_time": "2022-02-11T14:11:19.504Z"
   },
   {
    "duration": 14,
    "start_time": "2022-02-11T14:11:21.350Z"
   },
   {
    "duration": 51,
    "start_time": "2022-02-11T14:11:21.366Z"
   },
   {
    "duration": 7547,
    "start_time": "2022-02-11T14:11:21.420Z"
   },
   {
    "duration": 26090,
    "start_time": "2022-02-11T14:11:28.969Z"
   },
   {
    "duration": 10,
    "start_time": "2022-02-11T14:11:55.061Z"
   },
   {
    "duration": 287,
    "start_time": "2022-02-11T14:11:55.072Z"
   },
   {
    "duration": 4,
    "start_time": "2022-02-11T14:11:55.362Z"
   },
   {
    "duration": 13,
    "start_time": "2022-02-11T14:11:55.368Z"
   },
   {
    "duration": 4,
    "start_time": "2022-02-11T14:11:55.382Z"
   },
   {
    "duration": 22,
    "start_time": "2022-02-11T14:11:55.413Z"
   },
   {
    "duration": 12,
    "start_time": "2022-02-11T14:11:55.437Z"
   },
   {
    "duration": 11,
    "start_time": "2022-02-11T14:11:55.451Z"
   },
   {
    "duration": 49,
    "start_time": "2022-02-11T14:11:55.463Z"
   },
   {
    "duration": 49,
    "start_time": "2022-02-11T14:11:55.514Z"
   },
   {
    "duration": 55,
    "start_time": "2022-02-11T14:11:55.565Z"
   },
   {
    "duration": 3297,
    "start_time": "2022-02-11T14:11:55.622Z"
   },
   {
    "duration": 3843,
    "start_time": "2022-02-11T14:11:58.920Z"
   },
   {
    "duration": 53,
    "start_time": "2022-02-11T14:12:02.765Z"
   },
   {
    "duration": 140,
    "start_time": "2022-02-11T14:12:02.820Z"
   },
   {
    "duration": 3304,
    "start_time": "2022-02-11T14:12:02.962Z"
   },
   {
    "duration": 3146,
    "start_time": "2022-02-11T14:12:06.267Z"
   },
   {
    "duration": 99,
    "start_time": "2022-02-11T14:12:09.416Z"
   },
   {
    "duration": 1126,
    "start_time": "2022-02-11T14:12:09.518Z"
   },
   {
    "duration": 67,
    "start_time": "2022-02-11T14:12:10.646Z"
   },
   {
    "duration": 327,
    "start_time": "2022-02-11T14:12:10.716Z"
   },
   {
    "duration": 18,
    "start_time": "2022-02-11T14:12:11.044Z"
   },
   {
    "duration": 799,
    "start_time": "2022-02-11T14:12:11.113Z"
   },
   {
    "duration": 3244,
    "start_time": "2022-02-11T14:12:11.914Z"
   },
   {
    "duration": 3734,
    "start_time": "2022-02-11T14:12:15.160Z"
   },
   {
    "duration": 349,
    "start_time": "2022-02-11T14:12:18.896Z"
   },
   {
    "duration": 128,
    "start_time": "2022-02-11T14:23:44.045Z"
   },
   {
    "duration": 145,
    "start_time": "2022-02-11T14:25:25.705Z"
   },
   {
    "duration": 130,
    "start_time": "2022-02-11T14:25:33.366Z"
   },
   {
    "duration": 129,
    "start_time": "2022-02-11T14:25:39.103Z"
   },
   {
    "duration": 5,
    "start_time": "2022-02-11T14:26:48.820Z"
   },
   {
    "duration": 11,
    "start_time": "2022-02-11T14:26:51.726Z"
   },
   {
    "duration": 5,
    "start_time": "2022-02-11T14:28:13.485Z"
   },
   {
    "duration": 21,
    "start_time": "2022-02-11T14:28:54.093Z"
   },
   {
    "duration": 11,
    "start_time": "2022-02-11T14:29:00.988Z"
   },
   {
    "duration": 11,
    "start_time": "2022-02-11T14:29:04.070Z"
   },
   {
    "duration": 13,
    "start_time": "2022-02-11T14:29:31.234Z"
   },
   {
    "duration": 13,
    "start_time": "2022-02-11T14:29:48.936Z"
   },
   {
    "duration": 37,
    "start_time": "2022-02-11T16:06:14.017Z"
   },
   {
    "duration": 426,
    "start_time": "2022-02-11T16:06:17.764Z"
   },
   {
    "duration": 30,
    "start_time": "2022-02-11T16:07:37.276Z"
   },
   {
    "duration": 1533,
    "start_time": "2022-02-11T16:07:53.347Z"
   },
   {
    "duration": 23,
    "start_time": "2022-02-11T16:08:46.274Z"
   },
   {
    "duration": 23,
    "start_time": "2022-02-11T16:08:52.658Z"
   },
   {
    "duration": 40,
    "start_time": "2022-02-11T16:12:58.657Z"
   },
   {
    "duration": 2934,
    "start_time": "2022-02-11T16:13:10.244Z"
   },
   {
    "duration": 2772,
    "start_time": "2022-02-11T16:13:15.022Z"
   },
   {
    "duration": 25,
    "start_time": "2022-02-11T16:13:46.474Z"
   },
   {
    "duration": 892,
    "start_time": "2022-02-11T16:15:37.071Z"
   },
   {
    "duration": 48,
    "start_time": "2022-02-11T16:15:40.480Z"
   },
   {
    "duration": 214,
    "start_time": "2022-02-11T16:15:58.014Z"
   },
   {
    "duration": 66,
    "start_time": "2022-02-11T16:16:08.549Z"
   },
   {
    "duration": 237,
    "start_time": "2022-02-11T16:16:11.435Z"
   },
   {
    "duration": 18,
    "start_time": "2022-02-11T16:16:13.546Z"
   },
   {
    "duration": 380,
    "start_time": "2022-02-11T16:16:24.032Z"
   },
   {
    "duration": 316,
    "start_time": "2022-02-11T16:19:18.929Z"
   },
   {
    "duration": 258,
    "start_time": "2022-02-11T16:19:34.012Z"
   },
   {
    "duration": 55,
    "start_time": "2022-02-11T16:19:44.163Z"
   },
   {
    "duration": 468,
    "start_time": "2022-02-11T16:20:15.449Z"
   },
   {
    "duration": 571,
    "start_time": "2022-02-11T16:20:18.563Z"
   },
   {
    "duration": 271,
    "start_time": "2022-02-11T16:20:26.428Z"
   },
   {
    "duration": 37,
    "start_time": "2022-02-11T16:22:22.206Z"
   },
   {
    "duration": 12,
    "start_time": "2022-02-11T16:22:25.700Z"
   },
   {
    "duration": 41,
    "start_time": "2022-02-11T16:22:26.270Z"
   },
   {
    "duration": 7576,
    "start_time": "2022-02-11T16:22:27.461Z"
   },
   {
    "duration": 1608,
    "start_time": "2022-02-11T16:22:46.544Z"
   },
   {
    "duration": 13,
    "start_time": "2022-02-11T16:22:51.517Z"
   },
   {
    "duration": 39,
    "start_time": "2022-02-11T16:22:53.296Z"
   },
   {
    "duration": 7544,
    "start_time": "2022-02-11T16:22:54.515Z"
   },
   {
    "duration": 26961,
    "start_time": "2022-02-11T16:23:02.062Z"
   },
   {
    "duration": 9,
    "start_time": "2022-02-11T16:23:34.708Z"
   },
   {
    "duration": 615,
    "start_time": "2022-02-11T16:23:37.675Z"
   },
   {
    "duration": 1675,
    "start_time": "2022-02-11T16:24:29.179Z"
   },
   {
    "duration": 12,
    "start_time": "2022-02-11T16:24:30.856Z"
   },
   {
    "duration": 51,
    "start_time": "2022-02-11T16:24:30.870Z"
   },
   {
    "duration": 7599,
    "start_time": "2022-02-11T16:24:30.923Z"
   },
   {
    "duration": 26710,
    "start_time": "2022-02-11T16:24:38.524Z"
   },
   {
    "duration": 7,
    "start_time": "2022-02-11T16:25:05.237Z"
   },
   {
    "duration": 636,
    "start_time": "2022-02-11T16:25:05.246Z"
   },
   {
    "duration": -840,
    "start_time": "2022-02-11T16:25:06.725Z"
   },
   {
    "duration": -841,
    "start_time": "2022-02-11T16:25:06.727Z"
   },
   {
    "duration": -846,
    "start_time": "2022-02-11T16:25:06.732Z"
   },
   {
    "duration": -846,
    "start_time": "2022-02-11T16:25:06.733Z"
   },
   {
    "duration": -846,
    "start_time": "2022-02-11T16:25:06.734Z"
   },
   {
    "duration": -846,
    "start_time": "2022-02-11T16:25:06.735Z"
   },
   {
    "duration": -845,
    "start_time": "2022-02-11T16:25:06.735Z"
   },
   {
    "duration": -846,
    "start_time": "2022-02-11T16:25:06.736Z"
   },
   {
    "duration": -847,
    "start_time": "2022-02-11T16:25:06.738Z"
   },
   {
    "duration": -847,
    "start_time": "2022-02-11T16:25:06.739Z"
   },
   {
    "duration": -847,
    "start_time": "2022-02-11T16:25:06.740Z"
   },
   {
    "duration": -848,
    "start_time": "2022-02-11T16:25:06.741Z"
   },
   {
    "duration": -848,
    "start_time": "2022-02-11T16:25:06.742Z"
   },
   {
    "duration": -848,
    "start_time": "2022-02-11T16:25:06.743Z"
   },
   {
    "duration": -849,
    "start_time": "2022-02-11T16:25:06.744Z"
   },
   {
    "duration": -849,
    "start_time": "2022-02-11T16:25:06.745Z"
   },
   {
    "duration": -849,
    "start_time": "2022-02-11T16:25:06.746Z"
   },
   {
    "duration": -849,
    "start_time": "2022-02-11T16:25:06.747Z"
   },
   {
    "duration": -850,
    "start_time": "2022-02-11T16:25:06.748Z"
   },
   {
    "duration": -850,
    "start_time": "2022-02-11T16:25:06.749Z"
   },
   {
    "duration": -850,
    "start_time": "2022-02-11T16:25:06.750Z"
   },
   {
    "duration": -850,
    "start_time": "2022-02-11T16:25:06.751Z"
   },
   {
    "duration": -851,
    "start_time": "2022-02-11T16:25:06.752Z"
   },
   {
    "duration": -851,
    "start_time": "2022-02-11T16:25:06.753Z"
   },
   {
    "duration": 134,
    "start_time": "2022-02-11T16:26:01.142Z"
   },
   {
    "duration": 5,
    "start_time": "2022-02-11T16:26:22.489Z"
   },
   {
    "duration": 10,
    "start_time": "2022-02-11T16:26:23.552Z"
   },
   {
    "duration": 5,
    "start_time": "2022-02-11T16:26:24.511Z"
   },
   {
    "duration": 20,
    "start_time": "2022-02-11T16:26:29.427Z"
   },
   {
    "duration": 11,
    "start_time": "2022-02-11T16:26:43.541Z"
   },
   {
    "duration": 11,
    "start_time": "2022-02-11T16:26:46.003Z"
   },
   {
    "duration": 16,
    "start_time": "2022-02-11T16:26:47.124Z"
   },
   {
    "duration": 39,
    "start_time": "2022-02-11T16:26:51.140Z"
   },
   {
    "duration": 32,
    "start_time": "2022-02-11T16:26:52.908Z"
   },
   {
    "duration": 2882,
    "start_time": "2022-02-11T16:26:53.991Z"
   },
   {
    "duration": 3520,
    "start_time": "2022-02-11T16:27:04.090Z"
   },
   {
    "duration": 398,
    "start_time": "2022-02-11T16:28:04.437Z"
   },
   {
    "duration": 25,
    "start_time": "2022-02-11T16:28:37.917Z"
   },
   {
    "duration": 37,
    "start_time": "2022-02-11T16:30:01.536Z"
   },
   {
    "duration": 2904,
    "start_time": "2022-02-11T16:30:07.532Z"
   },
   {
    "duration": 2867,
    "start_time": "2022-02-11T16:30:18.112Z"
   },
   {
    "duration": 25,
    "start_time": "2022-02-11T16:30:57.164Z"
   },
   {
    "duration": 887,
    "start_time": "2022-02-11T16:32:54.815Z"
   },
   {
    "duration": 47,
    "start_time": "2022-02-11T16:32:59.353Z"
   },
   {
    "duration": 225,
    "start_time": "2022-02-11T16:33:04.543Z"
   },
   {
    "duration": 18,
    "start_time": "2022-02-11T16:33:05.825Z"
   },
   {
    "duration": 326,
    "start_time": "2022-02-11T16:33:09.202Z"
   },
   {
    "duration": 398,
    "start_time": "2022-02-11T16:33:40.732Z"
   },
   {
    "duration": 265,
    "start_time": "2022-02-11T16:33:49.851Z"
   },
   {
    "duration": 334,
    "start_time": "2022-02-11T16:33:56.055Z"
   },
   {
    "duration": 63,
    "start_time": "2022-02-11T16:34:00.154Z"
   },
   {
    "duration": 1516,
    "start_time": "2022-02-12T09:37:17.342Z"
   },
   {
    "duration": 12,
    "start_time": "2022-02-12T09:37:18.861Z"
   },
   {
    "duration": 81,
    "start_time": "2022-02-12T09:37:18.876Z"
   },
   {
    "duration": 38030,
    "start_time": "2022-02-12T09:37:18.959Z"
   },
   {
    "duration": 34745,
    "start_time": "2022-02-12T09:37:56.992Z"
   },
   {
    "duration": 10,
    "start_time": "2022-02-12T09:38:31.740Z"
   },
   {
    "duration": 479,
    "start_time": "2022-02-12T09:38:31.753Z"
   },
   {
    "duration": 6,
    "start_time": "2022-02-12T09:38:32.236Z"
   },
   {
    "duration": 23,
    "start_time": "2022-02-12T09:38:32.247Z"
   },
   {
    "duration": 6,
    "start_time": "2022-02-12T09:38:32.273Z"
   },
   {
    "duration": 75,
    "start_time": "2022-02-12T09:38:32.282Z"
   },
   {
    "duration": 19,
    "start_time": "2022-02-12T09:38:32.361Z"
   },
   {
    "duration": 51,
    "start_time": "2022-02-12T09:38:32.383Z"
   },
   {
    "duration": 36,
    "start_time": "2022-02-12T09:38:32.437Z"
   },
   {
    "duration": 75,
    "start_time": "2022-02-12T09:38:32.475Z"
   },
   {
    "duration": 40,
    "start_time": "2022-02-12T09:38:32.552Z"
   },
   {
    "duration": 4335,
    "start_time": "2022-02-12T09:38:32.595Z"
   },
   {
    "duration": 4907,
    "start_time": "2022-02-12T09:38:36.933Z"
   },
   {
    "duration": 591,
    "start_time": "2022-02-12T09:38:41.842Z"
   },
   {
    "duration": 103,
    "start_time": "2022-02-12T09:38:42.436Z"
   },
   {
    "duration": 135,
    "start_time": "2022-02-12T09:38:42.542Z"
   },
   {
    "duration": 4204,
    "start_time": "2022-02-12T09:38:42.680Z"
   },
   {
    "duration": 4379,
    "start_time": "2022-02-12T09:38:46.889Z"
   },
   {
    "duration": 68,
    "start_time": "2022-02-12T09:38:51.270Z"
   },
   {
    "duration": 1619,
    "start_time": "2022-02-12T09:38:51.342Z"
   },
   {
    "duration": 92,
    "start_time": "2022-02-12T09:38:52.964Z"
   },
   {
    "duration": 494,
    "start_time": "2022-02-12T09:38:53.059Z"
   },
   {
    "duration": 77,
    "start_time": "2022-02-12T09:38:53.556Z"
   },
   {
    "duration": 782,
    "start_time": "2022-02-12T09:38:53.636Z"
   },
   {
    "duration": 540,
    "start_time": "2022-02-12T09:38:54.433Z"
   },
   {
    "duration": 43,
    "start_time": "2022-02-12T09:38:54.933Z"
   },
   {
    "duration": 42,
    "start_time": "2022-02-12T09:38:54.936Z"
   },
   {
    "duration": 502,
    "start_time": "2022-02-12T09:39:07.145Z"
   },
   {
    "duration": 320,
    "start_time": "2022-02-12T09:40:01.786Z"
   },
   {
    "duration": 337,
    "start_time": "2022-02-12T09:40:30.442Z"
   },
   {
    "duration": 358,
    "start_time": "2022-02-12T09:40:59.067Z"
   },
   {
    "duration": 14,
    "start_time": "2022-02-12T09:41:03.209Z"
   },
   {
    "duration": 292,
    "start_time": "2022-02-12T09:41:36.342Z"
   },
   {
    "duration": 13,
    "start_time": "2022-02-12T09:41:52.668Z"
   },
   {
    "duration": 15,
    "start_time": "2022-02-12T09:42:41.395Z"
   },
   {
    "duration": 629,
    "start_time": "2022-02-12T09:43:16.653Z"
   },
   {
    "duration": 39,
    "start_time": "2022-02-12T09:43:53.554Z"
   },
   {
    "duration": 60,
    "start_time": "2022-02-12T09:44:04.576Z"
   },
   {
    "duration": 52,
    "start_time": "2022-02-12T09:44:09.956Z"
   },
   {
    "duration": 537,
    "start_time": "2022-02-12T09:45:47.755Z"
   },
   {
    "duration": 17,
    "start_time": "2022-02-12T09:46:23.961Z"
   },
   {
    "duration": 1111,
    "start_time": "2022-02-12T09:46:56.837Z"
   },
   {
    "duration": 18,
    "start_time": "2022-02-12T09:47:59.030Z"
   },
   {
    "duration": 18,
    "start_time": "2022-02-12T09:48:03.832Z"
   },
   {
    "duration": 19,
    "start_time": "2022-02-12T09:48:25.296Z"
   },
   {
    "duration": 21,
    "start_time": "2022-02-12T09:48:33.182Z"
   },
   {
    "duration": 80,
    "start_time": "2022-02-12T09:49:05.202Z"
   },
   {
    "duration": 81,
    "start_time": "2022-02-12T09:49:10.798Z"
   },
   {
    "duration": 74,
    "start_time": "2022-02-12T09:49:17.189Z"
   },
   {
    "duration": 107,
    "start_time": "2022-02-12T09:49:19.712Z"
   },
   {
    "duration": 350,
    "start_time": "2022-02-12T09:50:00.950Z"
   },
   {
    "duration": 368,
    "start_time": "2022-02-12T09:50:24.090Z"
   },
   {
    "duration": 344,
    "start_time": "2022-02-12T09:50:31.930Z"
   },
   {
    "duration": 327,
    "start_time": "2022-02-12T09:50:47.634Z"
   },
   {
    "duration": 121,
    "start_time": "2022-02-12T09:52:55.331Z"
   },
   {
    "duration": 124,
    "start_time": "2022-02-12T09:52:58.879Z"
   },
   {
    "duration": 120,
    "start_time": "2022-02-12T09:53:05.199Z"
   },
   {
    "duration": 149,
    "start_time": "2022-02-12T09:53:13.687Z"
   },
   {
    "duration": 142,
    "start_time": "2022-02-12T09:53:23.031Z"
   },
   {
    "duration": 119,
    "start_time": "2022-02-12T09:53:28.356Z"
   },
   {
    "duration": 263,
    "start_time": "2022-02-12T09:53:32.392Z"
   },
   {
    "duration": 113,
    "start_time": "2022-02-12T09:53:41.253Z"
   },
   {
    "duration": 100,
    "start_time": "2022-02-12T09:56:27.100Z"
   },
   {
    "duration": 2666,
    "start_time": "2022-02-12T09:56:52.016Z"
   },
   {
    "duration": 19,
    "start_time": "2022-02-12T09:56:54.685Z"
   },
   {
    "duration": 72,
    "start_time": "2022-02-12T09:56:54.706Z"
   },
   {
    "duration": 3750,
    "start_time": "2022-02-12T09:56:54.781Z"
   },
   {
    "duration": 36654,
    "start_time": "2022-02-12T09:56:58.534Z"
   },
   {
    "duration": 41,
    "start_time": "2022-02-12T09:57:35.191Z"
   },
   {
    "duration": 366,
    "start_time": "2022-02-12T09:57:35.235Z"
   },
   {
    "duration": 6,
    "start_time": "2022-02-12T09:57:35.605Z"
   },
   {
    "duration": 16,
    "start_time": "2022-02-12T09:57:35.633Z"
   },
   {
    "duration": 6,
    "start_time": "2022-02-12T09:57:35.651Z"
   },
   {
    "duration": 36,
    "start_time": "2022-02-12T09:57:35.659Z"
   },
   {
    "duration": 43,
    "start_time": "2022-02-12T09:57:35.698Z"
   },
   {
    "duration": 16,
    "start_time": "2022-02-12T09:57:35.744Z"
   },
   {
    "duration": 23,
    "start_time": "2022-02-12T09:57:35.763Z"
   },
   {
    "duration": 95,
    "start_time": "2022-02-12T09:57:35.789Z"
   },
   {
    "duration": 67,
    "start_time": "2022-02-12T09:57:35.887Z"
   },
   {
    "duration": 4425,
    "start_time": "2022-02-12T09:57:35.957Z"
   },
   {
    "duration": 5775,
    "start_time": "2022-02-12T09:57:40.385Z"
   },
   {
    "duration": 776,
    "start_time": "2022-02-12T09:57:46.162Z"
   },
   {
    "duration": 98,
    "start_time": "2022-02-12T09:57:46.940Z"
   },
   {
    "duration": 140,
    "start_time": "2022-02-12T09:57:47.041Z"
   },
   {
    "duration": 4270,
    "start_time": "2022-02-12T09:57:47.184Z"
   },
   {
    "duration": 3824,
    "start_time": "2022-02-12T09:57:51.458Z"
   },
   {
    "duration": 157,
    "start_time": "2022-02-12T09:57:55.286Z"
   },
   {
    "duration": 1545,
    "start_time": "2022-02-12T09:57:55.446Z"
   },
   {
    "duration": 138,
    "start_time": "2022-02-12T09:57:56.994Z"
   },
   {
    "duration": 424,
    "start_time": "2022-02-12T09:57:57.136Z"
   },
   {
    "duration": 73,
    "start_time": "2022-02-12T09:57:57.563Z"
   },
   {
    "duration": 703,
    "start_time": "2022-02-12T09:57:57.640Z"
   },
   {
    "duration": 96,
    "start_time": "2022-02-12T09:57:58.345Z"
   },
   {
    "duration": 203,
    "start_time": "2022-02-12T09:57:58.443Z"
   },
   {
    "duration": 484,
    "start_time": "2022-02-12T09:57:58.648Z"
   },
   {
    "duration": 123,
    "start_time": "2022-02-12T09:57:59.134Z"
   },
   {
    "duration": 218,
    "start_time": "2022-02-12T09:58:26.952Z"
   },
   {
    "duration": 227,
    "start_time": "2022-02-12T09:58:33.909Z"
   },
   {
    "duration": 178,
    "start_time": "2022-02-12T09:58:57.582Z"
   },
   {
    "duration": 217,
    "start_time": "2022-02-12T09:59:03.826Z"
   },
   {
    "duration": 44,
    "start_time": "2022-02-12T09:59:48.612Z"
   },
   {
    "duration": 52,
    "start_time": "2022-02-12T10:00:11.673Z"
   },
   {
    "duration": 41,
    "start_time": "2022-02-12T10:00:22.780Z"
   },
   {
    "duration": 425,
    "start_time": "2022-02-12T10:00:24.709Z"
   },
   {
    "duration": 94,
    "start_time": "2022-02-12T10:00:30.580Z"
   },
   {
    "duration": 170,
    "start_time": "2022-02-12T10:00:34.364Z"
   },
   {
    "duration": 158,
    "start_time": "2022-02-12T10:00:39.203Z"
   },
   {
    "duration": 541,
    "start_time": "2022-02-12T10:00:55.462Z"
   },
   {
    "duration": 56,
    "start_time": "2022-02-12T10:01:32.636Z"
   },
   {
    "duration": 41,
    "start_time": "2022-02-12T10:01:37.941Z"
   },
   {
    "duration": 311,
    "start_time": "2022-02-12T10:01:41.256Z"
   },
   {
    "duration": 331,
    "start_time": "2022-02-12T10:02:10.512Z"
   },
   {
    "duration": 282,
    "start_time": "2022-02-12T10:02:14.580Z"
   },
   {
    "duration": 23,
    "start_time": "2022-02-12T10:04:09.682Z"
   },
   {
    "duration": 7,
    "start_time": "2022-02-12T10:04:15.383Z"
   },
   {
    "duration": 299,
    "start_time": "2022-02-12T10:04:36.906Z"
   },
   {
    "duration": 9,
    "start_time": "2022-02-12T10:04:41.885Z"
   },
   {
    "duration": 23,
    "start_time": "2022-02-12T10:06:52.887Z"
   },
   {
    "duration": 436,
    "start_time": "2022-02-12T10:07:57.627Z"
   },
   {
    "duration": 21,
    "start_time": "2022-02-12T10:08:11.166Z"
   },
   {
    "duration": 407,
    "start_time": "2022-02-12T10:08:27.625Z"
   },
   {
    "duration": 417,
    "start_time": "2022-02-12T10:08:36.189Z"
   },
   {
    "duration": 444,
    "start_time": "2022-02-12T10:08:40.378Z"
   },
   {
    "duration": 110,
    "start_time": "2022-02-12T10:08:48.871Z"
   },
   {
    "duration": 52,
    "start_time": "2022-02-12T10:09:13.253Z"
   },
   {
    "duration": 2328,
    "start_time": "2022-02-12T10:09:22.942Z"
   },
   {
    "duration": 18,
    "start_time": "2022-02-12T10:09:28.982Z"
   },
   {
    "duration": 57,
    "start_time": "2022-02-12T10:09:29.555Z"
   },
   {
    "duration": 3788,
    "start_time": "2022-02-12T10:09:31.815Z"
   },
   {
    "duration": 36908,
    "start_time": "2022-02-12T10:09:40.326Z"
   },
   {
    "duration": 10,
    "start_time": "2022-02-12T10:10:45.945Z"
   },
   {
    "duration": 220,
    "start_time": "2022-02-12T10:10:46.670Z"
   },
   {
    "duration": 7,
    "start_time": "2022-02-12T10:10:53.733Z"
   },
   {
    "duration": 15,
    "start_time": "2022-02-12T10:10:54.653Z"
   },
   {
    "duration": 7,
    "start_time": "2022-02-12T10:10:56.313Z"
   },
   {
    "duration": 33,
    "start_time": "2022-02-12T10:12:25.704Z"
   },
   {
    "duration": 15,
    "start_time": "2022-02-12T10:12:28.077Z"
   },
   {
    "duration": 14,
    "start_time": "2022-02-12T10:12:30.582Z"
   },
   {
    "duration": 20,
    "start_time": "2022-02-12T10:12:32.968Z"
   },
   {
    "duration": 53,
    "start_time": "2022-02-12T10:14:21.527Z"
   },
   {
    "duration": 60,
    "start_time": "2022-02-12T10:14:21.771Z"
   },
   {
    "duration": 4281,
    "start_time": "2022-02-12T10:14:21.921Z"
   },
   {
    "duration": 5458,
    "start_time": "2022-02-12T10:14:26.205Z"
   },
   {
    "duration": 603,
    "start_time": "2022-02-12T10:14:31.667Z"
   },
   {
    "duration": 65,
    "start_time": "2022-02-12T10:14:32.273Z"
   },
   {
    "duration": 222,
    "start_time": "2022-02-12T10:14:32.345Z"
   },
   {
    "duration": 4427,
    "start_time": "2022-02-12T10:14:32.569Z"
   },
   {
    "duration": 4069,
    "start_time": "2022-02-12T10:14:36.999Z"
   },
   {
    "duration": 69,
    "start_time": "2022-02-12T10:14:41.072Z"
   },
   {
    "duration": 1629,
    "start_time": "2022-02-12T10:14:41.144Z"
   },
   {
    "duration": 156,
    "start_time": "2022-02-12T10:14:42.775Z"
   },
   {
    "duration": 423,
    "start_time": "2022-02-12T10:14:42.934Z"
   },
   {
    "duration": 73,
    "start_time": "2022-02-12T10:14:43.359Z"
   },
   {
    "duration": 704,
    "start_time": "2022-02-12T10:14:43.436Z"
   },
   {
    "duration": 22,
    "start_time": "2022-02-12T10:14:44.143Z"
   },
   {
    "duration": 471,
    "start_time": "2022-02-12T10:31:48.876Z"
   },
   {
    "duration": 2208,
    "start_time": "2022-02-12T10:34:01.471Z"
   },
   {
    "duration": 16,
    "start_time": "2022-02-12T10:34:03.682Z"
   },
   {
    "duration": 67,
    "start_time": "2022-02-12T10:34:03.701Z"
   },
   {
    "duration": 2578,
    "start_time": "2022-02-12T10:34:12.194Z"
   },
   {
    "duration": 15,
    "start_time": "2022-02-12T10:34:14.774Z"
   },
   {
    "duration": 67,
    "start_time": "2022-02-12T10:34:14.792Z"
   },
   {
    "duration": 3831,
    "start_time": "2022-02-12T10:34:14.862Z"
   },
   {
    "duration": 36785,
    "start_time": "2022-02-12T10:34:18.696Z"
   },
   {
    "duration": 10,
    "start_time": "2022-02-12T10:34:55.484Z"
   },
   {
    "duration": 392,
    "start_time": "2022-02-12T10:34:55.496Z"
   },
   {
    "duration": 7,
    "start_time": "2022-02-12T10:34:55.891Z"
   },
   {
    "duration": 38,
    "start_time": "2022-02-12T10:34:55.900Z"
   },
   {
    "duration": 5,
    "start_time": "2022-02-12T10:34:55.941Z"
   },
   {
    "duration": 37,
    "start_time": "2022-02-12T10:34:55.949Z"
   },
   {
    "duration": 43,
    "start_time": "2022-02-12T10:34:55.989Z"
   },
   {
    "duration": 15,
    "start_time": "2022-02-12T10:34:56.035Z"
   },
   {
    "duration": 20,
    "start_time": "2022-02-12T10:34:56.052Z"
   },
   {
    "duration": 83,
    "start_time": "2022-02-12T10:34:56.075Z"
   },
   {
    "duration": 39,
    "start_time": "2022-02-12T10:34:56.161Z"
   },
   {
    "duration": 4196,
    "start_time": "2022-02-12T10:34:56.202Z"
   },
   {
    "duration": 4520,
    "start_time": "2022-02-12T10:35:00.401Z"
   },
   {
    "duration": 581,
    "start_time": "2022-02-12T10:35:04.924Z"
   },
   {
    "duration": 127,
    "start_time": "2022-02-12T10:35:05.507Z"
   },
   {
    "duration": 140,
    "start_time": "2022-02-12T10:35:05.638Z"
   },
   {
    "duration": 4208,
    "start_time": "2022-02-12T10:35:05.781Z"
   },
   {
    "duration": 4684,
    "start_time": "2022-02-12T10:35:09.993Z"
   },
   {
    "duration": 57,
    "start_time": "2022-02-12T10:35:14.680Z"
   },
   {
    "duration": 1707,
    "start_time": "2022-02-12T10:35:14.740Z"
   },
   {
    "duration": 87,
    "start_time": "2022-02-12T10:35:16.450Z"
   },
   {
    "duration": 512,
    "start_time": "2022-02-12T10:35:16.540Z"
   },
   {
    "duration": 27,
    "start_time": "2022-02-12T10:35:17.055Z"
   },
   {
    "duration": 707,
    "start_time": "2022-02-12T10:35:17.134Z"
   },
   {
    "duration": 91,
    "start_time": "2022-02-12T10:35:17.843Z"
   },
   {
    "duration": 490,
    "start_time": "2022-02-12T10:35:17.937Z"
   },
   {
    "duration": 123,
    "start_time": "2022-02-12T10:35:18.433Z"
   }
  ],
  "kernelspec": {
   "display_name": "Python 3 (ipykernel)",
   "language": "python",
   "name": "python3"
  },
  "language_info": {
   "codemirror_mode": {
    "name": "ipython",
    "version": 3
   },
   "file_extension": ".py",
   "mimetype": "text/x-python",
   "name": "python",
   "nbconvert_exporter": "python",
   "pygments_lexer": "ipython3",
   "version": "3.9.12"
  },
  "toc": {
   "base_numbering": 1,
   "nav_menu": {},
   "number_sections": true,
   "sideBar": true,
   "skip_h1_title": true,
   "title_cell": "Содержание",
   "title_sidebar": "Contents",
   "toc_cell": true,
   "toc_position": {},
   "toc_section_display": true,
   "toc_window_display": false
  }
 },
 "nbformat": 4,
 "nbformat_minor": 2
}
