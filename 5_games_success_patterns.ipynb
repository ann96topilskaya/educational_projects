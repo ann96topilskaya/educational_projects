{
 "cells": [
  {
   "cell_type": "markdown",
   "id": "5a802ca0",
   "metadata": {},
   "source": [
    "# Закономерности, определяющие успешность игры"
   ]
  },
  {
   "cell_type": "markdown",
   "id": "7b36e207",
   "metadata": {},
   "source": [
    "**Описание проекта**\n",
    "\n",
    "Для планирования рекламных компаний и определения потенциально популярного продукта интернет-магазина компьютерных игр необходимо выявить факторы успешности игры. На данных до 2016 года из открытых источников требуется спланировать компанию на 2017 год. В данных имеется информация о продажах игр, оценки пользователей и экспертов, жанры и платформы (например, Xbox или PlayStation). Данные включают в себя несколько регионов: Северная Америка (NA), Европа (EU), Япония (JP) и другие (others).\n",
    "\n",
    "**Ход исследования**\n",
    "1. Изучение данных\n",
    "2. Предобработка\n",
    "3. Исследовательский анализ данных\n",
    "4. Составление портрета пользователя каждого региона\n",
    "5. Формулирование гипотез"
   ]
  },
  {
   "cell_type": "markdown",
   "id": "e0e82e3c",
   "metadata": {},
   "source": [
    "## 1. Открытие и изучение файлов"
   ]
  },
  {
   "cell_type": "code",
   "execution_count": 1,
   "id": "331e0fe1",
   "metadata": {},
   "outputs": [],
   "source": [
    "# загружаем необходимые библиотеки\n",
    "import pandas as pd\n",
    "import matplotlib.pyplot as plt\n",
    "import numpy as np\n",
    "from scipy import stats as st"
   ]
  },
  {
   "cell_type": "code",
   "execution_count": 2,
   "id": "2b66558a",
   "metadata": {},
   "outputs": [
    {
     "data": {
      "text/html": [
       "<div>\n",
       "<style scoped>\n",
       "    .dataframe tbody tr th:only-of-type {\n",
       "        vertical-align: middle;\n",
       "    }\n",
       "\n",
       "    .dataframe tbody tr th {\n",
       "        vertical-align: top;\n",
       "    }\n",
       "\n",
       "    .dataframe thead th {\n",
       "        text-align: right;\n",
       "    }\n",
       "</style>\n",
       "<table border=\"1\" class=\"dataframe\">\n",
       "  <thead>\n",
       "    <tr style=\"text-align: right;\">\n",
       "      <th></th>\n",
       "      <th>Name</th>\n",
       "      <th>Platform</th>\n",
       "      <th>Year_of_Release</th>\n",
       "      <th>Genre</th>\n",
       "      <th>NA_sales</th>\n",
       "      <th>EU_sales</th>\n",
       "      <th>JP_sales</th>\n",
       "      <th>Other_sales</th>\n",
       "      <th>Critic_Score</th>\n",
       "      <th>User_Score</th>\n",
       "      <th>Rating</th>\n",
       "    </tr>\n",
       "  </thead>\n",
       "  <tbody>\n",
       "    <tr>\n",
       "      <td>0</td>\n",
       "      <td>Wii Sports</td>\n",
       "      <td>Wii</td>\n",
       "      <td>2006.0</td>\n",
       "      <td>Sports</td>\n",
       "      <td>41.36</td>\n",
       "      <td>28.96</td>\n",
       "      <td>3.77</td>\n",
       "      <td>8.45</td>\n",
       "      <td>76.0</td>\n",
       "      <td>8</td>\n",
       "      <td>E</td>\n",
       "    </tr>\n",
       "    <tr>\n",
       "      <td>1</td>\n",
       "      <td>Super Mario Bros.</td>\n",
       "      <td>NES</td>\n",
       "      <td>1985.0</td>\n",
       "      <td>Platform</td>\n",
       "      <td>29.08</td>\n",
       "      <td>3.58</td>\n",
       "      <td>6.81</td>\n",
       "      <td>0.77</td>\n",
       "      <td>NaN</td>\n",
       "      <td>NaN</td>\n",
       "      <td>NaN</td>\n",
       "    </tr>\n",
       "    <tr>\n",
       "      <td>2</td>\n",
       "      <td>Mario Kart Wii</td>\n",
       "      <td>Wii</td>\n",
       "      <td>2008.0</td>\n",
       "      <td>Racing</td>\n",
       "      <td>15.68</td>\n",
       "      <td>12.76</td>\n",
       "      <td>3.79</td>\n",
       "      <td>3.29</td>\n",
       "      <td>82.0</td>\n",
       "      <td>8.3</td>\n",
       "      <td>E</td>\n",
       "    </tr>\n",
       "    <tr>\n",
       "      <td>3</td>\n",
       "      <td>Wii Sports Resort</td>\n",
       "      <td>Wii</td>\n",
       "      <td>2009.0</td>\n",
       "      <td>Sports</td>\n",
       "      <td>15.61</td>\n",
       "      <td>10.93</td>\n",
       "      <td>3.28</td>\n",
       "      <td>2.95</td>\n",
       "      <td>80.0</td>\n",
       "      <td>8</td>\n",
       "      <td>E</td>\n",
       "    </tr>\n",
       "    <tr>\n",
       "      <td>4</td>\n",
       "      <td>Pokemon Red/Pokemon Blue</td>\n",
       "      <td>GB</td>\n",
       "      <td>1996.0</td>\n",
       "      <td>Role-Playing</td>\n",
       "      <td>11.27</td>\n",
       "      <td>8.89</td>\n",
       "      <td>10.22</td>\n",
       "      <td>1.00</td>\n",
       "      <td>NaN</td>\n",
       "      <td>NaN</td>\n",
       "      <td>NaN</td>\n",
       "    </tr>\n",
       "    <tr>\n",
       "      <td>...</td>\n",
       "      <td>...</td>\n",
       "      <td>...</td>\n",
       "      <td>...</td>\n",
       "      <td>...</td>\n",
       "      <td>...</td>\n",
       "      <td>...</td>\n",
       "      <td>...</td>\n",
       "      <td>...</td>\n",
       "      <td>...</td>\n",
       "      <td>...</td>\n",
       "      <td>...</td>\n",
       "    </tr>\n",
       "    <tr>\n",
       "      <td>16710</td>\n",
       "      <td>Samurai Warriors: Sanada Maru</td>\n",
       "      <td>PS3</td>\n",
       "      <td>2016.0</td>\n",
       "      <td>Action</td>\n",
       "      <td>0.00</td>\n",
       "      <td>0.00</td>\n",
       "      <td>0.01</td>\n",
       "      <td>0.00</td>\n",
       "      <td>NaN</td>\n",
       "      <td>NaN</td>\n",
       "      <td>NaN</td>\n",
       "    </tr>\n",
       "    <tr>\n",
       "      <td>16711</td>\n",
       "      <td>LMA Manager 2007</td>\n",
       "      <td>X360</td>\n",
       "      <td>2006.0</td>\n",
       "      <td>Sports</td>\n",
       "      <td>0.00</td>\n",
       "      <td>0.01</td>\n",
       "      <td>0.00</td>\n",
       "      <td>0.00</td>\n",
       "      <td>NaN</td>\n",
       "      <td>NaN</td>\n",
       "      <td>NaN</td>\n",
       "    </tr>\n",
       "    <tr>\n",
       "      <td>16712</td>\n",
       "      <td>Haitaka no Psychedelica</td>\n",
       "      <td>PSV</td>\n",
       "      <td>2016.0</td>\n",
       "      <td>Adventure</td>\n",
       "      <td>0.00</td>\n",
       "      <td>0.00</td>\n",
       "      <td>0.01</td>\n",
       "      <td>0.00</td>\n",
       "      <td>NaN</td>\n",
       "      <td>NaN</td>\n",
       "      <td>NaN</td>\n",
       "    </tr>\n",
       "    <tr>\n",
       "      <td>16713</td>\n",
       "      <td>Spirits &amp; Spells</td>\n",
       "      <td>GBA</td>\n",
       "      <td>2003.0</td>\n",
       "      <td>Platform</td>\n",
       "      <td>0.01</td>\n",
       "      <td>0.00</td>\n",
       "      <td>0.00</td>\n",
       "      <td>0.00</td>\n",
       "      <td>NaN</td>\n",
       "      <td>NaN</td>\n",
       "      <td>NaN</td>\n",
       "    </tr>\n",
       "    <tr>\n",
       "      <td>16714</td>\n",
       "      <td>Winning Post 8 2016</td>\n",
       "      <td>PSV</td>\n",
       "      <td>2016.0</td>\n",
       "      <td>Simulation</td>\n",
       "      <td>0.00</td>\n",
       "      <td>0.00</td>\n",
       "      <td>0.01</td>\n",
       "      <td>0.00</td>\n",
       "      <td>NaN</td>\n",
       "      <td>NaN</td>\n",
       "      <td>NaN</td>\n",
       "    </tr>\n",
       "  </tbody>\n",
       "</table>\n",
       "<p>16715 rows × 11 columns</p>\n",
       "</div>"
      ],
      "text/plain": [
       "                                Name Platform  Year_of_Release         Genre  \\\n",
       "0                         Wii Sports      Wii           2006.0        Sports   \n",
       "1                  Super Mario Bros.      NES           1985.0      Platform   \n",
       "2                     Mario Kart Wii      Wii           2008.0        Racing   \n",
       "3                  Wii Sports Resort      Wii           2009.0        Sports   \n",
       "4           Pokemon Red/Pokemon Blue       GB           1996.0  Role-Playing   \n",
       "...                              ...      ...              ...           ...   \n",
       "16710  Samurai Warriors: Sanada Maru      PS3           2016.0        Action   \n",
       "16711               LMA Manager 2007     X360           2006.0        Sports   \n",
       "16712        Haitaka no Psychedelica      PSV           2016.0     Adventure   \n",
       "16713               Spirits & Spells      GBA           2003.0      Platform   \n",
       "16714            Winning Post 8 2016      PSV           2016.0    Simulation   \n",
       "\n",
       "       NA_sales  EU_sales  JP_sales  Other_sales  Critic_Score User_Score  \\\n",
       "0         41.36     28.96      3.77         8.45          76.0          8   \n",
       "1         29.08      3.58      6.81         0.77           NaN        NaN   \n",
       "2         15.68     12.76      3.79         3.29          82.0        8.3   \n",
       "3         15.61     10.93      3.28         2.95          80.0          8   \n",
       "4         11.27      8.89     10.22         1.00           NaN        NaN   \n",
       "...         ...       ...       ...          ...           ...        ...   \n",
       "16710      0.00      0.00      0.01         0.00           NaN        NaN   \n",
       "16711      0.00      0.01      0.00         0.00           NaN        NaN   \n",
       "16712      0.00      0.00      0.01         0.00           NaN        NaN   \n",
       "16713      0.01      0.00      0.00         0.00           NaN        NaN   \n",
       "16714      0.00      0.00      0.01         0.00           NaN        NaN   \n",
       "\n",
       "      Rating  \n",
       "0          E  \n",
       "1        NaN  \n",
       "2          E  \n",
       "3          E  \n",
       "4        NaN  \n",
       "...      ...  \n",
       "16710    NaN  \n",
       "16711    NaN  \n",
       "16712    NaN  \n",
       "16713    NaN  \n",
       "16714    NaN  \n",
       "\n",
       "[16715 rows x 11 columns]"
      ]
     },
     "metadata": {},
     "output_type": "display_data"
    }
   ],
   "source": [
    "# читаем данные\n",
    "data = pd.read_csv('/datasets/games.csv')\n",
    "display(data)"
   ]
  },
  {
   "cell_type": "code",
   "execution_count": 3,
   "id": "b7264b4e",
   "metadata": {},
   "outputs": [
    {
     "name": "stdout",
     "output_type": "stream",
     "text": [
      "<class 'pandas.core.frame.DataFrame'>\n",
      "RangeIndex: 16715 entries, 0 to 16714\n",
      "Data columns (total 11 columns):\n",
      "Name               16713 non-null object\n",
      "Platform           16715 non-null object\n",
      "Year_of_Release    16446 non-null float64\n",
      "Genre              16713 non-null object\n",
      "NA_sales           16715 non-null float64\n",
      "EU_sales           16715 non-null float64\n",
      "JP_sales           16715 non-null float64\n",
      "Other_sales        16715 non-null float64\n",
      "Critic_Score       8137 non-null float64\n",
      "User_Score         10014 non-null object\n",
      "Rating             9949 non-null object\n",
      "dtypes: float64(6), object(5)\n",
      "memory usage: 1.4+ MB\n"
     ]
    }
   ],
   "source": [
    "data.info()"
   ]
  },
  {
   "cell_type": "code",
   "execution_count": 4,
   "id": "71f92b44",
   "metadata": {},
   "outputs": [
    {
     "data": {
      "text/plain": [
       "Index(['Name', 'Platform', 'Year_of_Release', 'Genre', 'NA_sales', 'EU_sales',\n",
       "       'JP_sales', 'Other_sales', 'Critic_Score', 'User_Score', 'Rating'],\n",
       "      dtype='object')"
      ]
     },
     "execution_count": 4,
     "metadata": {},
     "output_type": "execute_result"
    }
   ],
   "source": [
    "# выведем название столбцов\n",
    "data.columns"
   ]
  },
  {
   "cell_type": "code",
   "execution_count": 5,
   "id": "3b362486",
   "metadata": {},
   "outputs": [
    {
     "name": "stdout",
     "output_type": "stream",
     "text": [
      "Количество игр: 11560\n",
      "\n",
      "Количество платформ: 31\n",
      "\n",
      "Уникальные платформы: ['Wii' 'NES' 'GB' 'DS' 'X360' 'PS3' 'PS2' 'SNES' 'GBA' 'PS4' '3DS' 'N64'\n",
      " 'PS' 'XB' 'PC' '2600' 'PSP' 'XOne' 'WiiU' 'GC' 'GEN' 'DC' 'PSV' 'SAT'\n",
      " 'SCD' 'WS' 'NG' 'TG16' '3DO' 'GG' 'PCFX']\n",
      "\n",
      "Уникальные года выпуска: [1980.0, 1981.0, 1982.0, 1983.0, 1984.0, 1985.0, 1986.0, 1987.0, 1988.0, 1989.0, 1990.0, 1991.0, 1992.0, 1993.0, 1994.0, 1995.0, 1996.0, 1997.0, 1998.0, 1999.0, 2000.0, 2001.0, 2002.0, 2003.0, 2004.0, 2005.0, 2006.0, 2007.0, 2008.0, 2009.0, 2010.0, 2011.0, 2012.0, 2013.0, 2014.0, 2015.0, 2016.0, nan]\n",
      "\n",
      "Уникальные жанры: ['Sports' 'Platform' 'Racing' 'Role-Playing' 'Puzzle' 'Misc' 'Shooter'\n",
      " 'Simulation' 'Action' 'Fighting' 'Adventure' 'Strategy' nan]\n",
      "\n",
      "Уникальные значения столбцов NA_sales, EU_sales, JP_sales, Other_sales, Critic_Score, User_Score выводить не надо,\n",
      "так как там будет огромное количество значений\n",
      "\n",
      "Уникальные значения рейтинга критиков [76. nan 82. 80. 89. 58. 87. 91. 61. 97. 95. 77. 88. 83. 94. 93. 85. 86.\n",
      " 98. 96. 90. 84. 73. 74. 78. 92. 71. 72. 68. 62. 49. 67. 81. 66. 56. 79.\n",
      " 70. 59. 64. 75. 60. 63. 69. 50. 25. 42. 44. 55. 48. 57. 29. 47. 65. 54.\n",
      " 20. 53. 37. 38. 33. 52. 30. 32. 43. 45. 51. 40. 46. 39. 34. 35. 41. 36.\n",
      " 28. 31. 27. 26. 19. 23. 24. 21. 17. 22. 13.]\n",
      "\n",
      "Уникальные значения рейтинга пользователей ['8' nan '8.3' '8.5' '6.6' '8.4' '8.6' '7.7' '6.3' '7.4' '8.2' '9' '7.9'\n",
      " '8.1' '8.7' '7.1' '3.4' '5.3' '4.8' '3.2' '8.9' '6.4' '7.8' '7.5' '2.6'\n",
      " '7.2' '9.2' '7' '7.3' '4.3' '7.6' '5.7' '5' '9.1' '6.5' 'tbd' '8.8' '6.9'\n",
      " '9.4' '6.8' '6.1' '6.7' '5.4' '4' '4.9' '4.5' '9.3' '6.2' '4.2' '6' '3.7'\n",
      " '4.1' '5.8' '5.6' '5.5' '4.4' '4.6' '5.9' '3.9' '3.1' '2.9' '5.2' '3.3'\n",
      " '4.7' '5.1' '3.5' '2.5' '1.9' '3' '2.7' '2.2' '2' '9.5' '2.1' '3.6' '2.8'\n",
      " '1.8' '3.8' '0' '1.6' '9.6' '2.4' '1.7' '1.1' '0.3' '1.5' '0.7' '1.2'\n",
      " '2.3' '0.5' '1.3' '0.2' '0.6' '1.4' '0.9' '1' '9.7']\n",
      "\n",
      "['E' nan 'M' 'T' 'E10+' 'K-A' 'AO' 'EC' 'RP']\n"
     ]
    }
   ],
   "source": [
    "# выведем уникальные значения по каждом столбцу\n",
    "# если их слишком много, ты выведем их количество\n",
    "print('Количество игр:', len(data['Name'].unique()))\n",
    "print()\n",
    "print('Количество платформ:', len(data['Platform'].unique()))\n",
    "print()\n",
    "print('Уникальные платформы:', data['Platform'].unique())\n",
    "print()\n",
    "print('Уникальные года выпуска:', sorted(data['Year_of_Release'].unique()))\n",
    "print()\n",
    "print('Уникальные жанры:', data['Genre'].unique())\n",
    "print()\n",
    "print('Уникальные значения столбцов NA_sales, EU_sales, JP_sales, Other_sales, Critic_Score, User_Score выводить не надо,')\n",
    "print('так как там будет огромное количество значений')\n",
    "print()\n",
    "print('Уникальные значения рейтинга критиков',data['Critic_Score'].unique())\n",
    "print()\n",
    "print('Уникальные значения рейтинга пользователей',data['User_Score'].unique())\n",
    "print()\n",
    "print(data['Rating'].unique())"
   ]
  },
  {
   "cell_type": "markdown",
   "id": "2438e03c",
   "metadata": {},
   "source": [
    "**Вывод**\n",
    "\n",
    "Имеем датафрейм из ***11 столбцов***:\n",
    "- Name — название игры\n",
    "- Platform — платформа\n",
    "- Year_of_Release — год выпуска\n",
    "- Genre — жанр игры\n",
    "- NA_sales — продажи в Северной Америке (миллионы проданных копий)\n",
    "- EU_sales — продажи в Европе (миллионы проданных копий)\n",
    "- JP_sales — продажи в Японии (миллионы проданных копий)\n",
    "- Other_sales — продажи в других странах (миллионы проданных копий)\n",
    "- Critic_Score — оценка критиков (максимум 100)\n",
    "- User_Score — оценка пользователей (максимум 10)\n",
    "- Rating — рейтинг от организации ESRB (англ. Entertainment Software Rating Board). Эта ассоциация определяет рейтинг компьютерных игр и присваивает им подходящую возрастную категорию.\n",
    "\n",
    "В последнем столбце Rating перечислены ***категории*** и вот их расшифровки:\n",
    "\n",
    "- E - («Everyone») — «Для всех»\n",
    "- M - («Mature») — «Для взрослых»\n",
    "- T - («Teen») — «Подросткам»\n",
    "- E10+ - («Everyone 10 and older») — «Для всех от 10 лет и старше»\n",
    "- K-A - (\"Kids to Adults\") - версия E до 1996 (после 1996 года категория изменилась на Е)\n",
    "- AO - («Adults Only 18+») — «Только для взрослых»\n",
    "- EC - («Early childhood») — «Для детей младшего возраста»\n",
    "- RP - («Rating Pending») — «Рейтинг ожидается»\n",
    "\n",
    "Что необходимо ***подправить в данных***: \n",
    "\n",
    "- изменить названия столбцов на нижний регистр\n",
    "- изменить тип данных в столбце Year_of_Release  и Critic_Score\n",
    "- обработать пропуски\n",
    "- tbd в пользовательском рейтинге означает to be determinated - подлежит уточнению, поэтому заменять tbd буду на среднее или медиану по платформе"
   ]
  },
  {
   "cell_type": "markdown",
   "id": "b8d89901",
   "metadata": {},
   "source": [
    "## 2. Предобработка данных"
   ]
  },
  {
   "cell_type": "code",
   "execution_count": 6,
   "id": "02a24143",
   "metadata": {},
   "outputs": [
    {
     "name": "stdout",
     "output_type": "stream",
     "text": [
      "['name', 'platform', 'year_of_release', 'genre', 'na_sales', 'eu_sales', 'jp_sales', 'other_sales', 'critic_score', 'user_score', 'rating']\n"
     ]
    },
    {
     "data": {
      "text/html": [
       "<div>\n",
       "<style scoped>\n",
       "    .dataframe tbody tr th:only-of-type {\n",
       "        vertical-align: middle;\n",
       "    }\n",
       "\n",
       "    .dataframe tbody tr th {\n",
       "        vertical-align: top;\n",
       "    }\n",
       "\n",
       "    .dataframe thead th {\n",
       "        text-align: right;\n",
       "    }\n",
       "</style>\n",
       "<table border=\"1\" class=\"dataframe\">\n",
       "  <thead>\n",
       "    <tr style=\"text-align: right;\">\n",
       "      <th></th>\n",
       "      <th>name</th>\n",
       "      <th>platform</th>\n",
       "      <th>year_of_release</th>\n",
       "      <th>genre</th>\n",
       "      <th>na_sales</th>\n",
       "      <th>eu_sales</th>\n",
       "      <th>jp_sales</th>\n",
       "      <th>other_sales</th>\n",
       "      <th>critic_score</th>\n",
       "      <th>user_score</th>\n",
       "      <th>rating</th>\n",
       "    </tr>\n",
       "  </thead>\n",
       "  <tbody>\n",
       "    <tr>\n",
       "      <td>0</td>\n",
       "      <td>Wii Sports</td>\n",
       "      <td>Wii</td>\n",
       "      <td>2006.0</td>\n",
       "      <td>Sports</td>\n",
       "      <td>41.36</td>\n",
       "      <td>28.96</td>\n",
       "      <td>3.77</td>\n",
       "      <td>8.45</td>\n",
       "      <td>76.0</td>\n",
       "      <td>8</td>\n",
       "      <td>E</td>\n",
       "    </tr>\n",
       "    <tr>\n",
       "      <td>1</td>\n",
       "      <td>Super Mario Bros.</td>\n",
       "      <td>NES</td>\n",
       "      <td>1985.0</td>\n",
       "      <td>Platform</td>\n",
       "      <td>29.08</td>\n",
       "      <td>3.58</td>\n",
       "      <td>6.81</td>\n",
       "      <td>0.77</td>\n",
       "      <td>NaN</td>\n",
       "      <td>NaN</td>\n",
       "      <td>NaN</td>\n",
       "    </tr>\n",
       "    <tr>\n",
       "      <td>2</td>\n",
       "      <td>Mario Kart Wii</td>\n",
       "      <td>Wii</td>\n",
       "      <td>2008.0</td>\n",
       "      <td>Racing</td>\n",
       "      <td>15.68</td>\n",
       "      <td>12.76</td>\n",
       "      <td>3.79</td>\n",
       "      <td>3.29</td>\n",
       "      <td>82.0</td>\n",
       "      <td>8.3</td>\n",
       "      <td>E</td>\n",
       "    </tr>\n",
       "    <tr>\n",
       "      <td>3</td>\n",
       "      <td>Wii Sports Resort</td>\n",
       "      <td>Wii</td>\n",
       "      <td>2009.0</td>\n",
       "      <td>Sports</td>\n",
       "      <td>15.61</td>\n",
       "      <td>10.93</td>\n",
       "      <td>3.28</td>\n",
       "      <td>2.95</td>\n",
       "      <td>80.0</td>\n",
       "      <td>8</td>\n",
       "      <td>E</td>\n",
       "    </tr>\n",
       "    <tr>\n",
       "      <td>4</td>\n",
       "      <td>Pokemon Red/Pokemon Blue</td>\n",
       "      <td>GB</td>\n",
       "      <td>1996.0</td>\n",
       "      <td>Role-Playing</td>\n",
       "      <td>11.27</td>\n",
       "      <td>8.89</td>\n",
       "      <td>10.22</td>\n",
       "      <td>1.00</td>\n",
       "      <td>NaN</td>\n",
       "      <td>NaN</td>\n",
       "      <td>NaN</td>\n",
       "    </tr>\n",
       "  </tbody>\n",
       "</table>\n",
       "</div>"
      ],
      "text/plain": [
       "                       name platform  year_of_release         genre  na_sales  \\\n",
       "0                Wii Sports      Wii           2006.0        Sports     41.36   \n",
       "1         Super Mario Bros.      NES           1985.0      Platform     29.08   \n",
       "2            Mario Kart Wii      Wii           2008.0        Racing     15.68   \n",
       "3         Wii Sports Resort      Wii           2009.0        Sports     15.61   \n",
       "4  Pokemon Red/Pokemon Blue       GB           1996.0  Role-Playing     11.27   \n",
       "\n",
       "   eu_sales  jp_sales  other_sales  critic_score user_score rating  \n",
       "0     28.96      3.77         8.45          76.0          8      E  \n",
       "1      3.58      6.81         0.77           NaN        NaN    NaN  \n",
       "2     12.76      3.79         3.29          82.0        8.3      E  \n",
       "3     10.93      3.28         2.95          80.0          8      E  \n",
       "4      8.89     10.22         1.00           NaN        NaN    NaN  "
      ]
     },
     "metadata": {},
     "output_type": "display_data"
    }
   ],
   "source": [
    "# приводим названия столбцов к нижнему регистру\n",
    "columns_list = []\n",
    "for i in data.columns:\n",
    "    columns_list.append(i)\n",
    "\n",
    "new_columns_list = []\n",
    "for i in columns_list:\n",
    "    new_columns_list.append(i.lower())\n",
    "print(new_columns_list)\n",
    "\n",
    "data.columns = new_columns_list\n",
    "display(data.head())"
   ]
  },
  {
   "cell_type": "code",
   "execution_count": 7,
   "id": "184143ff",
   "metadata": {},
   "outputs": [
    {
     "data": {
      "text/plain": [
       "269"
      ]
     },
     "metadata": {},
     "output_type": "display_data"
    }
   ],
   "source": [
    "# заменяем тип данных в столбце year_of_release в целый\n",
    "# data['year_of_release'] = data['year_of_release'].astype('int')\n",
    "# display(data.head())\n",
    "display(data['year_of_release'].isna().sum())"
   ]
  },
  {
   "cell_type": "code",
   "execution_count": 8,
   "id": "d2d3ae12",
   "metadata": {},
   "outputs": [
    {
     "data": {
      "text/html": [
       "<div>\n",
       "<style scoped>\n",
       "    .dataframe tbody tr th:only-of-type {\n",
       "        vertical-align: middle;\n",
       "    }\n",
       "\n",
       "    .dataframe tbody tr th {\n",
       "        vertical-align: top;\n",
       "    }\n",
       "\n",
       "    .dataframe thead th {\n",
       "        text-align: right;\n",
       "    }\n",
       "</style>\n",
       "<table border=\"1\" class=\"dataframe\">\n",
       "  <thead>\n",
       "    <tr style=\"text-align: right;\">\n",
       "      <th></th>\n",
       "      <th>name</th>\n",
       "      <th>platform</th>\n",
       "      <th>year_of_release</th>\n",
       "      <th>genre</th>\n",
       "      <th>na_sales</th>\n",
       "      <th>eu_sales</th>\n",
       "      <th>jp_sales</th>\n",
       "      <th>other_sales</th>\n",
       "      <th>critic_score</th>\n",
       "      <th>user_score</th>\n",
       "      <th>rating</th>\n",
       "    </tr>\n",
       "  </thead>\n",
       "  <tbody>\n",
       "    <tr>\n",
       "      <td>183</td>\n",
       "      <td>Madden NFL 2004</td>\n",
       "      <td>PS2</td>\n",
       "      <td>NaN</td>\n",
       "      <td>Sports</td>\n",
       "      <td>4.26</td>\n",
       "      <td>0.26</td>\n",
       "      <td>0.01</td>\n",
       "      <td>0.71</td>\n",
       "      <td>94.0</td>\n",
       "      <td>8.5</td>\n",
       "      <td>E</td>\n",
       "    </tr>\n",
       "    <tr>\n",
       "      <td>377</td>\n",
       "      <td>FIFA Soccer 2004</td>\n",
       "      <td>PS2</td>\n",
       "      <td>NaN</td>\n",
       "      <td>Sports</td>\n",
       "      <td>0.59</td>\n",
       "      <td>2.36</td>\n",
       "      <td>0.04</td>\n",
       "      <td>0.51</td>\n",
       "      <td>84.0</td>\n",
       "      <td>6.4</td>\n",
       "      <td>E</td>\n",
       "    </tr>\n",
       "    <tr>\n",
       "      <td>456</td>\n",
       "      <td>LEGO Batman: The Videogame</td>\n",
       "      <td>Wii</td>\n",
       "      <td>NaN</td>\n",
       "      <td>Action</td>\n",
       "      <td>1.80</td>\n",
       "      <td>0.97</td>\n",
       "      <td>0.00</td>\n",
       "      <td>0.29</td>\n",
       "      <td>74.0</td>\n",
       "      <td>7.9</td>\n",
       "      <td>E10+</td>\n",
       "    </tr>\n",
       "    <tr>\n",
       "      <td>475</td>\n",
       "      <td>wwe Smackdown vs. Raw 2006</td>\n",
       "      <td>PS2</td>\n",
       "      <td>NaN</td>\n",
       "      <td>Fighting</td>\n",
       "      <td>1.57</td>\n",
       "      <td>1.02</td>\n",
       "      <td>0.00</td>\n",
       "      <td>0.41</td>\n",
       "      <td>NaN</td>\n",
       "      <td>NaN</td>\n",
       "      <td>NaN</td>\n",
       "    </tr>\n",
       "    <tr>\n",
       "      <td>609</td>\n",
       "      <td>Space Invaders</td>\n",
       "      <td>2600</td>\n",
       "      <td>NaN</td>\n",
       "      <td>Shooter</td>\n",
       "      <td>2.36</td>\n",
       "      <td>0.14</td>\n",
       "      <td>0.00</td>\n",
       "      <td>0.03</td>\n",
       "      <td>NaN</td>\n",
       "      <td>NaN</td>\n",
       "      <td>NaN</td>\n",
       "    </tr>\n",
       "    <tr>\n",
       "      <td>...</td>\n",
       "      <td>...</td>\n",
       "      <td>...</td>\n",
       "      <td>...</td>\n",
       "      <td>...</td>\n",
       "      <td>...</td>\n",
       "      <td>...</td>\n",
       "      <td>...</td>\n",
       "      <td>...</td>\n",
       "      <td>...</td>\n",
       "      <td>...</td>\n",
       "      <td>...</td>\n",
       "    </tr>\n",
       "    <tr>\n",
       "      <td>16373</td>\n",
       "      <td>PDC World Championship Darts 2008</td>\n",
       "      <td>PSP</td>\n",
       "      <td>NaN</td>\n",
       "      <td>Sports</td>\n",
       "      <td>0.01</td>\n",
       "      <td>0.00</td>\n",
       "      <td>0.00</td>\n",
       "      <td>0.00</td>\n",
       "      <td>43.0</td>\n",
       "      <td>tbd</td>\n",
       "      <td>E10+</td>\n",
       "    </tr>\n",
       "    <tr>\n",
       "      <td>16405</td>\n",
       "      <td>Freaky Flyers</td>\n",
       "      <td>GC</td>\n",
       "      <td>NaN</td>\n",
       "      <td>Racing</td>\n",
       "      <td>0.01</td>\n",
       "      <td>0.00</td>\n",
       "      <td>0.00</td>\n",
       "      <td>0.00</td>\n",
       "      <td>69.0</td>\n",
       "      <td>6.5</td>\n",
       "      <td>T</td>\n",
       "    </tr>\n",
       "    <tr>\n",
       "      <td>16448</td>\n",
       "      <td>Inversion</td>\n",
       "      <td>PC</td>\n",
       "      <td>NaN</td>\n",
       "      <td>Shooter</td>\n",
       "      <td>0.01</td>\n",
       "      <td>0.00</td>\n",
       "      <td>0.00</td>\n",
       "      <td>0.00</td>\n",
       "      <td>59.0</td>\n",
       "      <td>6.7</td>\n",
       "      <td>M</td>\n",
       "    </tr>\n",
       "    <tr>\n",
       "      <td>16458</td>\n",
       "      <td>Hakuouki: Shinsengumi Kitan</td>\n",
       "      <td>PS3</td>\n",
       "      <td>NaN</td>\n",
       "      <td>Adventure</td>\n",
       "      <td>0.01</td>\n",
       "      <td>0.00</td>\n",
       "      <td>0.00</td>\n",
       "      <td>0.00</td>\n",
       "      <td>NaN</td>\n",
       "      <td>NaN</td>\n",
       "      <td>NaN</td>\n",
       "    </tr>\n",
       "    <tr>\n",
       "      <td>16522</td>\n",
       "      <td>Virtua Quest</td>\n",
       "      <td>GC</td>\n",
       "      <td>NaN</td>\n",
       "      <td>Role-Playing</td>\n",
       "      <td>0.01</td>\n",
       "      <td>0.00</td>\n",
       "      <td>0.00</td>\n",
       "      <td>0.00</td>\n",
       "      <td>55.0</td>\n",
       "      <td>5.5</td>\n",
       "      <td>T</td>\n",
       "    </tr>\n",
       "  </tbody>\n",
       "</table>\n",
       "<p>269 rows × 11 columns</p>\n",
       "</div>"
      ],
      "text/plain": [
       "                                    name platform  year_of_release  \\\n",
       "183                      Madden NFL 2004      PS2              NaN   \n",
       "377                     FIFA Soccer 2004      PS2              NaN   \n",
       "456           LEGO Batman: The Videogame      Wii              NaN   \n",
       "475           wwe Smackdown vs. Raw 2006      PS2              NaN   \n",
       "609                       Space Invaders     2600              NaN   \n",
       "...                                  ...      ...              ...   \n",
       "16373  PDC World Championship Darts 2008      PSP              NaN   \n",
       "16405                      Freaky Flyers       GC              NaN   \n",
       "16448                          Inversion       PC              NaN   \n",
       "16458        Hakuouki: Shinsengumi Kitan      PS3              NaN   \n",
       "16522                       Virtua Quest       GC              NaN   \n",
       "\n",
       "              genre  na_sales  eu_sales  jp_sales  other_sales  critic_score  \\\n",
       "183          Sports      4.26      0.26      0.01         0.71          94.0   \n",
       "377          Sports      0.59      2.36      0.04         0.51          84.0   \n",
       "456          Action      1.80      0.97      0.00         0.29          74.0   \n",
       "475        Fighting      1.57      1.02      0.00         0.41           NaN   \n",
       "609         Shooter      2.36      0.14      0.00         0.03           NaN   \n",
       "...             ...       ...       ...       ...          ...           ...   \n",
       "16373        Sports      0.01      0.00      0.00         0.00          43.0   \n",
       "16405        Racing      0.01      0.00      0.00         0.00          69.0   \n",
       "16448       Shooter      0.01      0.00      0.00         0.00          59.0   \n",
       "16458     Adventure      0.01      0.00      0.00         0.00           NaN   \n",
       "16522  Role-Playing      0.01      0.00      0.00         0.00          55.0   \n",
       "\n",
       "      user_score rating  \n",
       "183          8.5      E  \n",
       "377          6.4      E  \n",
       "456          7.9   E10+  \n",
       "475          NaN    NaN  \n",
       "609          NaN    NaN  \n",
       "...          ...    ...  \n",
       "16373        tbd   E10+  \n",
       "16405        6.5      T  \n",
       "16448        6.7      M  \n",
       "16458        NaN    NaN  \n",
       "16522        5.5      T  \n",
       "\n",
       "[269 rows x 11 columns]"
      ]
     },
     "metadata": {},
     "output_type": "display_data"
    }
   ],
   "source": [
    "display(data[data['year_of_release'].isna()])"
   ]
  },
  {
   "cell_type": "code",
   "execution_count": 9,
   "id": "caa58395",
   "metadata": {},
   "outputs": [
    {
     "name": "stdout",
     "output_type": "stream",
     "text": [
      "0\n"
     ]
    }
   ],
   "source": [
    "# с помощью гуглежа и метода map() заменяем пропуски в годах\n",
    "mapping = {'Madden NFL 2004': 2003,\n",
    " 'FIFA Soccer 2004': 2003,\n",
    " 'LEGO Batman: The Videogame': 2008,\n",
    " 'wwe Smackdown vs. Raw 2006': 2005,\n",
    " 'Space Invaders': 1980,\n",
    " 'Rock Band': 2007,\n",
    " \"Frogger's Adventures: Temple of the Frog\": 2001,\n",
    " 'LEGO Indiana Jones: The Original Adventures': 2008,\n",
    " 'Call of Duty 3': 2006,\n",
    " 'Call of Duty: Black Ops': 2010,\n",
    " 'Triple Play 99': 1998,\n",
    " 'Adventure': 1979,\n",
    " 'Combat': 1977,\n",
    " 'LEGO Harry Potter: Years 5-7': 2011,\n",
    " 'NASCAR Thunder 2003': 2002,\n",
    " 'Hitman 2: Silent Assassin': 2002,\n",
    " 'Legacy of Kain: Soul Reaver': 1999,\n",
    " 'Donkey Kong Land III': 1997,\n",
    " 'Air-Sea Battle': 1977,\n",
    " 'Suikoden III': 1995,\n",
    " 'Wheel of Fortune': 1992,\n",
    " 'Yakuza 4': 2010,\n",
    " 'Namco Museum': 2005,\n",
    " 'Rhythm Heaven': 2011,\n",
    " 'The Lord of the Rings: War in the North': 2011,\n",
    " 'Madden NFL 07': 2006,\n",
    " 'MLB SlugFest 20-03': 2002,\n",
    " 'Shaun White Snowboarding': 2008,\n",
    " 'PES 2009: Pro Evolution Soccer': 2008,\n",
    " 'WarioWare: Twisted!': 2004,\n",
    " 'Madden NFL 11': 2011,\n",
    " 'Test Drive Unlimited 2': 2011,\n",
    " 'The Chronicles of Narnia: The Lion, The Witch and The Wardrobe': 2005,\n",
    " 'Monster Hunter 2': 2006,\n",
    " 'Metal Gear Solid 2: Substance': 2003,\n",
    " 'Advance Wars: Days of Ruin': 2008,\n",
    " 'The Golden Compass': 2007,\n",
    " 'Madden NFL 06': 2005,\n",
    " 'NASCAR: Dirt to Daytona': 2002,\n",
    " 'Madden NFL 2002': 2001,\n",
    " 'Def Jam: Fight for NY': 2004,\n",
    " 'NBA Street Vol. 2': 2003,\n",
    " 'Fishing Derby': 1980,\n",
    " 'Wet': 2009,\n",
    " 'Sonic the Hedgehog': 2006,\n",
    " 'Karate': 1982,\n",
    " 'Tiger Woods PGA Tour 07': 2006,\n",
    " 'Circus Atari': 1980,\n",
    " 'The Chronicles of Riddick: Escape from Butcher Bay': 2004,\n",
    " \"Maze Craze: A Game of Cops 'n Robbers\": 1980,\n",
    " 'Silent Hill: Homecoming': 2008,\n",
    " 'Super Breakout': 1981,\n",
    " \"Robert Ludlum's The Bourne Conspiracy\": 2008,\n",
    " 'NHL Slapshot': 2010,\n",
    " 'TERA': 2011,\n",
    " 'NFL GameDay 2003': 2002,\n",
    " 'Harvest Moon: Save the Homeland': 2001,\n",
    " 'Hangman': 1978,\n",
    " 'NBA Live 2003': 2002,\n",
    " \"Cubix Robots for Everyone: Clash 'n' Bash\": 2002,\n",
    " 'Dragon Ball Z: Budokai Tenkaichi 2 (JP sales)': 2007,\n",
    " 'Tropico 4': 2011,\n",
    " 'Tomb Raider (2013)': 2013,\n",
    " 'Bejeweled 3': 2010,\n",
    " 'Custom Robo': 1999,\n",
    " 'Final Fantasy XI': 2002,\n",
    " 'Singularity': 2010,\n",
    " 'Dragster': 1980,\n",
    " 'All-Star Baseball 2005': 2004,\n",
    " 'Star Wars Jedi Knight II: Jedi Outcast': 2002,\n",
    " 'Slot Machine': 1979,\n",
    " 'The Dukes of Hazzard II: Daisy Dukes It Out': 2000,\n",
    " 'Harvest Moon: The Tale of Two Towns': 2011,\n",
    " 'Shrek the Third': 2007,\n",
    " 'Nicktoons: Battle for Volcano Island': 2006,\n",
    " 'Haven: Call of the King': 2002,\n",
    " 'Unreal Championship 2: The Liandri Conflict': 2005,\n",
    " 'Pac-Man Fever': 2002,\n",
    " 'The Legend of Zelda: The Minish Cap(weekly JP sales)': 2004,\n",
    " 'Indy 500': 1977,\n",
    " 'Disgaea 3: Absence of Detention': 2008,\n",
    " 'Flag Capture': 1978,\n",
    " 'Gun': 2005,\n",
    " 'Rock Revolution': 2008,\n",
    " 'College Hoops 2K6': 2005,\n",
    " 'Jonah Lomu Rugby Challenge': 2011,\n",
    " 'Mega Man X Collection': 2006,\n",
    " 'BioShock 2': 2010,\n",
    " 'Danganronpa: Trigger Happy Havoc': 2010,\n",
    " 'Jet X20': 2002,\n",
    " \"Tony Hawk's Downhill Jam\": 2006,\n",
    " 'Tribes: Aerial Assault': 2002,\n",
    " 'Big Beach Sports 2': 2008,\n",
    " 'Yu Yu Hakusho: Dark Tournament': 2004,\n",
    " 'Ghostbusters II': 1990,\n",
    " 'Breakaway IV': 1978,\n",
    " 'Robotech: Battlecry': 2002,\n",
    " 'Move Fitness': 2011,\n",
    " 'Valkyria Chronicles III: Unrecorded Chronicles': 2011,\n",
    " 'DanceDanceRevolution II': 2011,\n",
    " 'WRC: FIA World Rally Championship': 2010,\n",
    " 'Famista 64': 1997,\n",
    " 'Dead Space 3': 2013,\n",
    " 'Pet Zombies': 2011,\n",
    " 'Star Trek: Legacy': 2006,\n",
    " 'Backbreaker': 2010,\n",
    " 'Twisted Metal: Small Brawl': 2001,\n",
    " 'Otomedius Excellent': 2011,\n",
    " 'NBA Starting Five': 2001,\n",
    " 'Teen Titans': 2005,\n",
    " 'Trauma Team': 2010,\n",
    " \"James Cameron's Dark Angel\": 2002,\n",
    " 'Sword of the Samurai': 2003,\n",
    " 'Splatterhouse': 2010,\n",
    " 'Alone in the Dark: The New Nightmare': 2001,\n",
    " 'Vegas Party': 2009,\n",
    " 'Jurassic Park: The Game': 2011,\n",
    " 'Home Run': 1978,\n",
    " 'eJay Clubworld': 2002,\n",
    " 'Our House Party!': 2009,\n",
    " 'WCW Backstage Assault': 2000,\n",
    " \"Disney's Cinderella: Magical Dreams\": 2001,\n",
    " 'Transworld Surf': 2001,\n",
    " 'Street Fighter IV': 2008,\n",
    " 'Nintendo Puzzle Collection': 2003,\n",
    " 'Charm Girls Club: My Fashion Mall': 2009,\n",
    " 'Record of Agarest War Zero': 2009,\n",
    " 'Rocksmith': 2011,\n",
    " 'Super Robot Wars OG Saga: Masou Kishin II - Revelation of Evil God': 1996,\n",
    " 'Saru! Get You! Million Monkeys': 2006,\n",
    " 'Street Hoops': 2002,\n",
    " 'Godzilla: Destroy All Monsters Melee': 2002,\n",
    " 'The Daring Game for Girls': 2009,\n",
    " 'Major League Baseball 2K6': 2006,\n",
    " 'Star Trek: Conquest': 2007,\n",
    " 'GiFTPiA': 2003,\n",
    " 'Happy Feet Two': 2011,\n",
    " \"Disney's Chicken Little: Ace In Action\": 2006,\n",
    " 'Atsumare! Power Pro Kun no DS Koushien': 2001,\n",
    " 'My Healthy Cooking Coach': 2007,\n",
    " 'Luminous Arc 2 (JP sales)': 2008,\n",
    " 'Egg Monster Hero': 2005,\n",
    " 'Demon Chaos': 2005,\n",
    " 'Samurai Shodown Anthology': 2009,\n",
    " 'Action Man-Operation Extreme': 1999,\n",
    " 'Super Puzzle Fighter II': 1996,\n",
    " 'Charm Girls Club: My Fashion Show': 2009,\n",
    " 'Face Racers: Photo Finish': 2011,\n",
    " 'Zero: Tsukihami no Kamen': 2008,\n",
    " 'The Hidden': 2005,\n",
    " 'Get Fit with Mel B': 2010,\n",
    " 'Mega Man Battle Network: Operation Shooting Star': 2009,\n",
    " 'Smashing Drive': 2000,\n",
    " 'Port Royale 3': 2012,\n",
    " 'Dream Trigger 3D': 2011,\n",
    " 'Dead Island: Riptide': 2013,\n",
    " 'Yoostar on MTV': 2011,\n",
    " 'Tornado': 2008,\n",
    " \"McFarlane's Evil Prophecy\": 2004,\n",
    " 'Drake of the 99 Dragons': 2003,\n",
    " 'Build-A-Bear Workshop: Friendship Valley': 2007,\n",
    " 'Rayman Arena': 2001,\n",
    " 'National Geographic Challenge!': 2011,\n",
    " 'Alex Rider: Stormbreaker': 2006,\n",
    " 'Chou Soujuu Mecha MG': 2006,\n",
    " 'Prinny: Can I Really Be The Hero? (US sales)': 2008,\n",
    " 'Combat Elite: WWII Paratroopers':2005,\n",
    " \"Flip's Twisted World\":2010,\n",
    " 'Mobile Ops: The One Year War':2008,\n",
    " \"Tom Clancy's Rainbow Six: Critical Hour\":2006,\n",
    " 'Jewel Link Chronicles: Mountains of Madness':2012,\n",
    " 'Captain America: Super Soldier':2011,\n",
    " 'Mountain Bike Adrenaline':2007,\n",
    " 'Drill Dozer':2005,\n",
    " 'GRID':2008,\n",
    " 'Tour de France 2011':2011,\n",
    " 'Reader Rabbit 2nd Grade':1999,\n",
    " 'Monster Hunter Frontier Online':2007,\n",
    " 'RollerCoaster Tycoon':1999,\n",
    " 'Battle vs. Chess':2011,\n",
    " 'The History Channel: Great Battles - Medieval':2011,\n",
    " 'Clockwork Empires':2016,\n",
    " 'B.L.U.E.: Legend of Water':1998,\n",
    " 'NHL Hitz Pro':2003,\n",
    " \"Luxor: Pharaoh's Challenge\":2007,\n",
    " 'Sega Rally 2006':2006,\n",
    " 'Half-Minute Hero 2':2011,\n",
    " 'Housekeeping':2016,\n",
    " 'Major League Baseball 2K8':2008,\n",
    " 'Sabre Wulf':1984,\n",
    " 'Swords':2001,\n",
    " 'Beyond the Labyrinth':2012,\n",
    " 'Bikkuriman Daijiten':2011,\n",
    " 'Majesty 2: The Fantasy Kingdom Sim':2009,\n",
    " 'Fullmetal Alchemist: Brotherhood':2009,\n",
    " 'Samurai Spirits: Tenkaichi Kenkakuden':2005,\n",
    " 'World of Tanks':2010,\n",
    " 'Tom and Jerry in War of the Whiskers':2002,\n",
    " 'Super Duper Sumos':2002,\n",
    " 'The King of Fighters: Maximum Impact - Maniax':2004,\n",
    " 'Combat Wings: The Great Battles of WWII':2012,\n",
    " 'Tube Slider':2003,\n",
    " 'Umineko no Naku Koro ni San: Shinjitsu to Gensou no Yasoukyoku':2011,\n",
    " 'Payout Poker & Casino':2006,\n",
    " 'Wii de Asobu: Metroid Prime':2009,\n",
    " 'Legacy of Ys: Books I & II':2009,\n",
    " 'Saint':2006,\n",
    " 'Steal Princess':2008,\n",
    " 'Mario Tennis':2000,\n",
    " 'Runaway: A Twist of Fate':2009,\n",
    " \"Yu-Gi-Oh! 5D's Wheelie Breakers (JP sales)\":2009,\n",
    " \"Cabela's Alaskan Adventure\":2006,\n",
    " 'Writing and Speaking Beautiful Japanese DS':2007,\n",
    " 'Virtua Quest':2004,\n",
    " \"Shonen Jump's Yu-Gi-Oh! GX Card Almanac\":2007,\n",
    " 'Without Warning':2005,\n",
    " 'PDC World Championship Darts 2008':2008,\n",
    " 'Dinotopia: The Sunstone Odyssey':2003,\n",
    " 'Jet Impulse':2007,\n",
    " 'Dream Dancer':2009,\n",
    " \"Dance! It's Your Stage\":2011,\n",
    " 'Football Manager 2007':2006,\n",
    " 'Ferrari: The Race Experience':2010,\n",
    " 'Aquaman: Battle for Atlantis':2003,\n",
    " 'Homeworld Remastered Collection':2015,\n",
    " 'Shorts':2009,\n",
    " 'AKB1/48: Idol to Guam de Koishitara...':2011,\n",
    " 'Brothers in Arms: Furious 4':2015, # Релиз игры был отменен\n",
    " 'Agarest Senki: Re-appearance':2008,\n",
    " 'Freaky Flyers':2003,\n",
    " 'Inversion':2012,\n",
    " 'Hakuouki: Shinsengumi Kitan':2008}\n",
    "\n",
    "data.loc[data['year_of_release'].isna(), 'year_of_release'] = data.loc[data['year_of_release'].isna(), 'name'].map(mapping)\n",
    "print(data['year_of_release'].isna().sum())"
   ]
  },
  {
   "cell_type": "code",
   "execution_count": 10,
   "id": "bc95aa35",
   "metadata": {},
   "outputs": [
    {
     "name": "stdout",
     "output_type": "stream",
     "text": [
      "<class 'pandas.core.frame.DataFrame'>\n",
      "RangeIndex: 16715 entries, 0 to 16714\n",
      "Data columns (total 11 columns):\n",
      "name               16713 non-null object\n",
      "platform           16715 non-null object\n",
      "year_of_release    16715 non-null int64\n",
      "genre              16713 non-null object\n",
      "na_sales           16715 non-null float64\n",
      "eu_sales           16715 non-null float64\n",
      "jp_sales           16715 non-null float64\n",
      "other_sales        16715 non-null float64\n",
      "critic_score       8137 non-null float64\n",
      "user_score         10014 non-null object\n",
      "rating             9949 non-null object\n",
      "dtypes: float64(5), int64(1), object(5)\n",
      "memory usage: 1.4+ MB\n"
     ]
    }
   ],
   "source": [
    "# теперь можем изменить тип данных с толбце year_of_release на целый\n",
    "data['year_of_release'] = data['year_of_release'].astype('int')\n",
    "data.info()"
   ]
  },
  {
   "cell_type": "code",
   "execution_count": 11,
   "id": "a8903bb1",
   "metadata": {},
   "outputs": [
    {
     "name": "stdout",
     "output_type": "stream",
     "text": [
      "name                  2\n",
      "platform              0\n",
      "year_of_release       0\n",
      "genre                 2\n",
      "na_sales              0\n",
      "eu_sales              0\n",
      "jp_sales              0\n",
      "other_sales           0\n",
      "critic_score       8578\n",
      "user_score         6701\n",
      "rating             6766\n",
      "dtype: int64\n"
     ]
    }
   ],
   "source": [
    "# проверяем пропуски в других столбцах\n",
    "print(data.isna().sum())"
   ]
  },
  {
   "cell_type": "code",
   "execution_count": 12,
   "id": "0c32ef7a",
   "metadata": {},
   "outputs": [
    {
     "name": "stdout",
     "output_type": "stream",
     "text": [
      "name                  0\n",
      "platform              0\n",
      "year_of_release       0\n",
      "genre                 0\n",
      "na_sales              0\n",
      "eu_sales              0\n",
      "jp_sales              0\n",
      "other_sales           0\n",
      "critic_score       8576\n",
      "user_score         6699\n",
      "rating             6764\n",
      "dtype: int64\n"
     ]
    }
   ],
   "source": [
    "# сразу же можем удалить две игры с пропуском в имени\n",
    "data.dropna(subset=['name'], inplace=True)\n",
    "print(data.isna().sum())"
   ]
  },
  {
   "cell_type": "code",
   "execution_count": 13,
   "id": "dddb5232",
   "metadata": {},
   "outputs": [
    {
     "data": {
      "text/html": [
       "<div>\n",
       "<style scoped>\n",
       "    .dataframe tbody tr th:only-of-type {\n",
       "        vertical-align: middle;\n",
       "    }\n",
       "\n",
       "    .dataframe tbody tr th {\n",
       "        vertical-align: top;\n",
       "    }\n",
       "\n",
       "    .dataframe thead th {\n",
       "        text-align: right;\n",
       "    }\n",
       "</style>\n",
       "<table border=\"1\" class=\"dataframe\">\n",
       "  <thead>\n",
       "    <tr style=\"text-align: right;\">\n",
       "      <th></th>\n",
       "      <th>name</th>\n",
       "      <th>platform</th>\n",
       "      <th>year_of_release</th>\n",
       "      <th>genre</th>\n",
       "      <th>na_sales</th>\n",
       "      <th>eu_sales</th>\n",
       "      <th>jp_sales</th>\n",
       "      <th>other_sales</th>\n",
       "      <th>critic_score</th>\n",
       "      <th>user_score</th>\n",
       "      <th>rating</th>\n",
       "    </tr>\n",
       "  </thead>\n",
       "  <tbody>\n",
       "    <tr>\n",
       "      <td>1</td>\n",
       "      <td>Super Mario Bros.</td>\n",
       "      <td>NES</td>\n",
       "      <td>1985</td>\n",
       "      <td>Platform</td>\n",
       "      <td>29.08</td>\n",
       "      <td>3.58</td>\n",
       "      <td>6.81</td>\n",
       "      <td>0.77</td>\n",
       "      <td>NaN</td>\n",
       "      <td>NaN</td>\n",
       "      <td>NaN</td>\n",
       "    </tr>\n",
       "    <tr>\n",
       "      <td>4</td>\n",
       "      <td>Pokemon Red/Pokemon Blue</td>\n",
       "      <td>GB</td>\n",
       "      <td>1996</td>\n",
       "      <td>Role-Playing</td>\n",
       "      <td>11.27</td>\n",
       "      <td>8.89</td>\n",
       "      <td>10.22</td>\n",
       "      <td>1.00</td>\n",
       "      <td>NaN</td>\n",
       "      <td>NaN</td>\n",
       "      <td>NaN</td>\n",
       "    </tr>\n",
       "    <tr>\n",
       "      <td>5</td>\n",
       "      <td>Tetris</td>\n",
       "      <td>GB</td>\n",
       "      <td>1989</td>\n",
       "      <td>Puzzle</td>\n",
       "      <td>23.20</td>\n",
       "      <td>2.26</td>\n",
       "      <td>4.22</td>\n",
       "      <td>0.58</td>\n",
       "      <td>NaN</td>\n",
       "      <td>NaN</td>\n",
       "      <td>NaN</td>\n",
       "    </tr>\n",
       "    <tr>\n",
       "      <td>9</td>\n",
       "      <td>Duck Hunt</td>\n",
       "      <td>NES</td>\n",
       "      <td>1984</td>\n",
       "      <td>Shooter</td>\n",
       "      <td>26.93</td>\n",
       "      <td>0.63</td>\n",
       "      <td>0.28</td>\n",
       "      <td>0.47</td>\n",
       "      <td>NaN</td>\n",
       "      <td>NaN</td>\n",
       "      <td>NaN</td>\n",
       "    </tr>\n",
       "    <tr>\n",
       "      <td>10</td>\n",
       "      <td>Nintendogs</td>\n",
       "      <td>DS</td>\n",
       "      <td>2005</td>\n",
       "      <td>Simulation</td>\n",
       "      <td>9.05</td>\n",
       "      <td>10.95</td>\n",
       "      <td>1.93</td>\n",
       "      <td>2.74</td>\n",
       "      <td>NaN</td>\n",
       "      <td>NaN</td>\n",
       "      <td>NaN</td>\n",
       "    </tr>\n",
       "    <tr>\n",
       "      <td>...</td>\n",
       "      <td>...</td>\n",
       "      <td>...</td>\n",
       "      <td>...</td>\n",
       "      <td>...</td>\n",
       "      <td>...</td>\n",
       "      <td>...</td>\n",
       "      <td>...</td>\n",
       "      <td>...</td>\n",
       "      <td>...</td>\n",
       "      <td>...</td>\n",
       "      <td>...</td>\n",
       "    </tr>\n",
       "    <tr>\n",
       "      <td>16710</td>\n",
       "      <td>Samurai Warriors: Sanada Maru</td>\n",
       "      <td>PS3</td>\n",
       "      <td>2016</td>\n",
       "      <td>Action</td>\n",
       "      <td>0.00</td>\n",
       "      <td>0.00</td>\n",
       "      <td>0.01</td>\n",
       "      <td>0.00</td>\n",
       "      <td>NaN</td>\n",
       "      <td>NaN</td>\n",
       "      <td>NaN</td>\n",
       "    </tr>\n",
       "    <tr>\n",
       "      <td>16711</td>\n",
       "      <td>LMA Manager 2007</td>\n",
       "      <td>X360</td>\n",
       "      <td>2006</td>\n",
       "      <td>Sports</td>\n",
       "      <td>0.00</td>\n",
       "      <td>0.01</td>\n",
       "      <td>0.00</td>\n",
       "      <td>0.00</td>\n",
       "      <td>NaN</td>\n",
       "      <td>NaN</td>\n",
       "      <td>NaN</td>\n",
       "    </tr>\n",
       "    <tr>\n",
       "      <td>16712</td>\n",
       "      <td>Haitaka no Psychedelica</td>\n",
       "      <td>PSV</td>\n",
       "      <td>2016</td>\n",
       "      <td>Adventure</td>\n",
       "      <td>0.00</td>\n",
       "      <td>0.00</td>\n",
       "      <td>0.01</td>\n",
       "      <td>0.00</td>\n",
       "      <td>NaN</td>\n",
       "      <td>NaN</td>\n",
       "      <td>NaN</td>\n",
       "    </tr>\n",
       "    <tr>\n",
       "      <td>16713</td>\n",
       "      <td>Spirits &amp; Spells</td>\n",
       "      <td>GBA</td>\n",
       "      <td>2003</td>\n",
       "      <td>Platform</td>\n",
       "      <td>0.01</td>\n",
       "      <td>0.00</td>\n",
       "      <td>0.00</td>\n",
       "      <td>0.00</td>\n",
       "      <td>NaN</td>\n",
       "      <td>NaN</td>\n",
       "      <td>NaN</td>\n",
       "    </tr>\n",
       "    <tr>\n",
       "      <td>16714</td>\n",
       "      <td>Winning Post 8 2016</td>\n",
       "      <td>PSV</td>\n",
       "      <td>2016</td>\n",
       "      <td>Simulation</td>\n",
       "      <td>0.00</td>\n",
       "      <td>0.00</td>\n",
       "      <td>0.01</td>\n",
       "      <td>0.00</td>\n",
       "      <td>NaN</td>\n",
       "      <td>NaN</td>\n",
       "      <td>NaN</td>\n",
       "    </tr>\n",
       "  </tbody>\n",
       "</table>\n",
       "<p>6619 rows × 11 columns</p>\n",
       "</div>"
      ],
      "text/plain": [
       "                                name platform  year_of_release         genre  \\\n",
       "1                  Super Mario Bros.      NES             1985      Platform   \n",
       "4           Pokemon Red/Pokemon Blue       GB             1996  Role-Playing   \n",
       "5                             Tetris       GB             1989        Puzzle   \n",
       "9                          Duck Hunt      NES             1984       Shooter   \n",
       "10                        Nintendogs       DS             2005    Simulation   \n",
       "...                              ...      ...              ...           ...   \n",
       "16710  Samurai Warriors: Sanada Maru      PS3             2016        Action   \n",
       "16711               LMA Manager 2007     X360             2006        Sports   \n",
       "16712        Haitaka no Psychedelica      PSV             2016     Adventure   \n",
       "16713               Spirits & Spells      GBA             2003      Platform   \n",
       "16714            Winning Post 8 2016      PSV             2016    Simulation   \n",
       "\n",
       "       na_sales  eu_sales  jp_sales  other_sales  critic_score user_score  \\\n",
       "1         29.08      3.58      6.81         0.77           NaN        NaN   \n",
       "4         11.27      8.89     10.22         1.00           NaN        NaN   \n",
       "5         23.20      2.26      4.22         0.58           NaN        NaN   \n",
       "9         26.93      0.63      0.28         0.47           NaN        NaN   \n",
       "10         9.05     10.95      1.93         2.74           NaN        NaN   \n",
       "...         ...       ...       ...          ...           ...        ...   \n",
       "16710      0.00      0.00      0.01         0.00           NaN        NaN   \n",
       "16711      0.00      0.01      0.00         0.00           NaN        NaN   \n",
       "16712      0.00      0.00      0.01         0.00           NaN        NaN   \n",
       "16713      0.01      0.00      0.00         0.00           NaN        NaN   \n",
       "16714      0.00      0.00      0.01         0.00           NaN        NaN   \n",
       "\n",
       "      rating  \n",
       "1        NaN  \n",
       "4        NaN  \n",
       "5        NaN  \n",
       "9        NaN  \n",
       "10       NaN  \n",
       "...      ...  \n",
       "16710    NaN  \n",
       "16711    NaN  \n",
       "16712    NaN  \n",
       "16713    NaN  \n",
       "16714    NaN  \n",
       "\n",
       "[6619 rows x 11 columns]"
      ]
     },
     "metadata": {},
     "output_type": "display_data"
    }
   ],
   "source": [
    "# посмотрим, много ли строк в таблице с пропусками одновременно в трех столбцах critic_score, user_score и rating\n",
    "display(data[(data['critic_score'].isna()) & (data['user_score'].isna()) & (data['rating'].isna())])"
   ]
  },
  {
   "cell_type": "markdown",
   "id": "af8973ac",
   "metadata": {},
   "source": [
    "6619 - это очень много, это почти 40% данных, не можем удалить, поэтому проверим, на что можно заменить "
   ]
  },
  {
   "cell_type": "code",
   "execution_count": 14,
   "id": "5da67508",
   "metadata": {},
   "outputs": [
    {
     "data": {
      "image/png": "[encoded data removed]",
      "text/plain": [
       "<Figure size 432x288 with 1 Axes>"
      ]
     },
     "metadata": {
      "needs_background": "light"
     },
     "output_type": "display_data"
    },
    {
     "data": {
      "text/plain": [
       "count    8137.000000\n",
       "mean       68.967679\n",
       "std        13.938165\n",
       "min        13.000000\n",
       "25%        60.000000\n",
       "50%        71.000000\n",
       "75%        79.000000\n",
       "max        98.000000\n",
       "Name: critic_score, dtype: float64"
      ]
     },
     "execution_count": 14,
     "metadata": {},
     "output_type": "execute_result"
    }
   ],
   "source": [
    "data.boxplot(column='critic_score')\n",
    "plt.show()\n",
    "data['critic_score'].describe()"
   ]
  },
  {
   "cell_type": "markdown",
   "id": "9d33cd4b",
   "metadata": {},
   "source": [
    "Здесь выбросов нет, просто есть игры с определенным низким рейтингом. Я бы заменила пропуски в рейтингах критиков и пользователей на медиану, а не на среднее. Но также я бы группировала по платформам, так как на разных платформах разные рейтинги. Для двух столбцов critic_score и user_score с помощью функции для одной строки произведем замену пропусков"
   ]
  },
  {
   "cell_type": "markdown",
   "id": "76410ba5",
   "metadata": {},
   "source": [
    "**Оценка критиков и пользователей**"
   ]
  },
  {
   "cell_type": "code",
   "execution_count": 15,
   "id": "6f2f41e7",
   "metadata": {},
   "outputs": [
    {
     "name": "stdout",
     "output_type": "stream",
     "text": [
      "8576\n",
      "6699\n"
     ]
    }
   ],
   "source": [
    "print(data['critic_score'].isna().sum())\n",
    "print(data['user_score'].isna().sum())"
   ]
  },
  {
   "cell_type": "markdown",
   "id": "759e903e",
   "metadata": {},
   "source": [
    "Производить замену пропусков не будем, так как некоторые игры не оцениваются, некоторые перевыпускаются и так далее, тоже самое и с оценкой пользователей."
   ]
  },
  {
   "cell_type": "code",
   "execution_count": 16,
   "id": "f4bffcca",
   "metadata": {},
   "outputs": [
    {
     "name": "stdout",
     "output_type": "stream",
     "text": [
      "[8.0 nan 8.3 8.5 6.6 8.4 8.6 7.7 6.3 7.4 8.2 9.0 7.9 8.1 8.7 7.1 3.4 5.3\n",
      " 4.8 3.2 8.9 6.4 7.8 7.5 2.6 7.2 9.2 7.0 7.3 4.3 7.6 5.7 5.0 9.1 6.5 'tbd'\n",
      " 8.8 6.9 9.4 6.8 6.1 6.7 5.4 4.0 4.9 4.5 9.3 6.2 4.2 6.0 3.7 4.1 5.8 5.6\n",
      " 5.5 4.4 4.6 5.9 3.9 3.1 2.9 5.2 3.3 4.7 5.1 3.5 2.5 1.9 3.0 2.7 2.2 2.0\n",
      " 9.5 2.1 3.6 2.8 1.8 3.8 0.0 1.6 9.6 2.4 1.7 1.1 0.3 1.5 0.7 1.2 2.3 0.5\n",
      " 1.3 0.2 0.6 1.4 0.9 1.0 9.7]\n"
     ]
    }
   ],
   "source": [
    "# переведем числовые значения, выраженные типом str, в float\n",
    "data.loc[\n",
    "    (~data['user_score'].isna()) & (data['user_score']!='tbd'), 'user_score'\n",
    "] = data.loc[\n",
    "    (~data['user_score'].isna()) & (data['user_score']!='tbd'), 'user_score'\n",
    "].astype('float')\n",
    "\n",
    "print(data['user_score'].unique())"
   ]
  },
  {
   "cell_type": "markdown",
   "id": "cafee238",
   "metadata": {},
   "source": [
    "**Рейтинг**"
   ]
  },
  {
   "cell_type": "code",
   "execution_count": 17,
   "id": "2f087e0b",
   "metadata": {},
   "outputs": [],
   "source": [
    "# осталось избавиться от пропусков в столбце rating\n",
    "# print(data['rating'].unique())\n",
    "# print(data[data['rating'].isna()]['name'].count())"
   ]
  },
  {
   "cell_type": "code",
   "execution_count": 18,
   "id": "bff44bc2",
   "metadata": {},
   "outputs": [],
   "source": [
    "# на мой вгляд, если не указан рейтинг игры, значит она подходит для всех\n",
    "# но сначала изучим, какие года, платформы и жанры чаще встречаются для \"пропускных\" рейтингов\n",
    "# print('Уникальные значения годов выпуска', sorted(data[data['rating'].isna()]['year_of_release'].unique()))\n",
    "# print('Года по всей таблице', sorted(data['year_of_release'].unique()))\n",
    "# print()\n",
    "# print('Уникальные значения жанров', sorted(data[data['rating'].isna()]['genre'].unique()))\n",
    "# print('Жанры по всей таблице', sorted(data['genre'].unique()))\n",
    "# print()\n",
    "# print('Уникальные значения платформ', sorted(data[data['rating'].isna()]['platform'].unique()))\n",
    "# print('Платформы по всей таблице', sorted(data['platform'].unique()))\n",
    "# print()"
   ]
  },
  {
   "cell_type": "code",
   "execution_count": 19,
   "id": "9ad2bdce",
   "metadata": {},
   "outputs": [],
   "source": [
    "# так как взаимосвязи никакой нет, пропуски есть в практически каждом году, в каждой платформе и каждом жанре, \n",
    "# поэтому заменяем пропуски в рейтинге на Е и К-А, но по разным годам:\n",
    "\n",
    "# ВИКИ: «E» («Everyone») — «Для всех»: Содержание вполне подходит для возрастной категории от 6 лет. \n",
    "# Такие игры могут понравиться и взрослым. Игры с этим рейтингом могут содержать минимальное насилие, \n",
    "# в основном «мультяшного» характера. \n",
    "# Первой игрой, которая получила данный рейтинг, стала The Simpsons Cartoon Studio, выпущенная в 1996 году. \n",
    "# Первоначально \"K-A\" (\"Kids to Adults\"). --> то есть с 1996 года стал присваиваться рейтинг 'E'\n",
    "\n",
    "# игры до 1996 года (по 1995 включительно) рейтинг К-А\n",
    "# игра с 1996 года - рейтинг Е\n",
    "# data.loc[(data['rating'].isna())&(data['year_of_release']<1996), 'rating'] = 'K-A'\n",
    "# data.loc[(data['rating'].isna())&(data['year_of_release']>=1996), 'rating'] = 'E'\n",
    "# print(data[data['rating'].isna()]['rating'].count())"
   ]
  },
  {
   "cell_type": "markdown",
   "id": "10bca456",
   "metadata": {},
   "source": [
    "После полной предобработки данных получаем последний столбец, где просчитаны общие продажи по всем четырем регионам"
   ]
  },
  {
   "cell_type": "code",
   "execution_count": 20,
   "id": "8b75199f",
   "metadata": {},
   "outputs": [
    {
     "data": {
      "text/html": [
       "<div>\n",
       "<style scoped>\n",
       "    .dataframe tbody tr th:only-of-type {\n",
       "        vertical-align: middle;\n",
       "    }\n",
       "\n",
       "    .dataframe tbody tr th {\n",
       "        vertical-align: top;\n",
       "    }\n",
       "\n",
       "    .dataframe thead th {\n",
       "        text-align: right;\n",
       "    }\n",
       "</style>\n",
       "<table border=\"1\" class=\"dataframe\">\n",
       "  <thead>\n",
       "    <tr style=\"text-align: right;\">\n",
       "      <th></th>\n",
       "      <th>name</th>\n",
       "      <th>platform</th>\n",
       "      <th>year_of_release</th>\n",
       "      <th>genre</th>\n",
       "      <th>na_sales</th>\n",
       "      <th>eu_sales</th>\n",
       "      <th>jp_sales</th>\n",
       "      <th>other_sales</th>\n",
       "      <th>critic_score</th>\n",
       "      <th>user_score</th>\n",
       "      <th>rating</th>\n",
       "      <th>sales</th>\n",
       "    </tr>\n",
       "  </thead>\n",
       "  <tbody>\n",
       "    <tr>\n",
       "      <td>0</td>\n",
       "      <td>Wii Sports</td>\n",
       "      <td>Wii</td>\n",
       "      <td>2006</td>\n",
       "      <td>Sports</td>\n",
       "      <td>41.36</td>\n",
       "      <td>28.96</td>\n",
       "      <td>3.77</td>\n",
       "      <td>8.45</td>\n",
       "      <td>76.0</td>\n",
       "      <td>8</td>\n",
       "      <td>E</td>\n",
       "      <td>82.54</td>\n",
       "    </tr>\n",
       "    <tr>\n",
       "      <td>1</td>\n",
       "      <td>Super Mario Bros.</td>\n",
       "      <td>NES</td>\n",
       "      <td>1985</td>\n",
       "      <td>Platform</td>\n",
       "      <td>29.08</td>\n",
       "      <td>3.58</td>\n",
       "      <td>6.81</td>\n",
       "      <td>0.77</td>\n",
       "      <td>NaN</td>\n",
       "      <td>NaN</td>\n",
       "      <td>NaN</td>\n",
       "      <td>40.24</td>\n",
       "    </tr>\n",
       "    <tr>\n",
       "      <td>2</td>\n",
       "      <td>Mario Kart Wii</td>\n",
       "      <td>Wii</td>\n",
       "      <td>2008</td>\n",
       "      <td>Racing</td>\n",
       "      <td>15.68</td>\n",
       "      <td>12.76</td>\n",
       "      <td>3.79</td>\n",
       "      <td>3.29</td>\n",
       "      <td>82.0</td>\n",
       "      <td>8.3</td>\n",
       "      <td>E</td>\n",
       "      <td>35.52</td>\n",
       "    </tr>\n",
       "    <tr>\n",
       "      <td>3</td>\n",
       "      <td>Wii Sports Resort</td>\n",
       "      <td>Wii</td>\n",
       "      <td>2009</td>\n",
       "      <td>Sports</td>\n",
       "      <td>15.61</td>\n",
       "      <td>10.93</td>\n",
       "      <td>3.28</td>\n",
       "      <td>2.95</td>\n",
       "      <td>80.0</td>\n",
       "      <td>8</td>\n",
       "      <td>E</td>\n",
       "      <td>32.77</td>\n",
       "    </tr>\n",
       "    <tr>\n",
       "      <td>4</td>\n",
       "      <td>Pokemon Red/Pokemon Blue</td>\n",
       "      <td>GB</td>\n",
       "      <td>1996</td>\n",
       "      <td>Role-Playing</td>\n",
       "      <td>11.27</td>\n",
       "      <td>8.89</td>\n",
       "      <td>10.22</td>\n",
       "      <td>1.00</td>\n",
       "      <td>NaN</td>\n",
       "      <td>NaN</td>\n",
       "      <td>NaN</td>\n",
       "      <td>31.38</td>\n",
       "    </tr>\n",
       "    <tr>\n",
       "      <td>...</td>\n",
       "      <td>...</td>\n",
       "      <td>...</td>\n",
       "      <td>...</td>\n",
       "      <td>...</td>\n",
       "      <td>...</td>\n",
       "      <td>...</td>\n",
       "      <td>...</td>\n",
       "      <td>...</td>\n",
       "      <td>...</td>\n",
       "      <td>...</td>\n",
       "      <td>...</td>\n",
       "      <td>...</td>\n",
       "    </tr>\n",
       "    <tr>\n",
       "      <td>16710</td>\n",
       "      <td>Samurai Warriors: Sanada Maru</td>\n",
       "      <td>PS3</td>\n",
       "      <td>2016</td>\n",
       "      <td>Action</td>\n",
       "      <td>0.00</td>\n",
       "      <td>0.00</td>\n",
       "      <td>0.01</td>\n",
       "      <td>0.00</td>\n",
       "      <td>NaN</td>\n",
       "      <td>NaN</td>\n",
       "      <td>NaN</td>\n",
       "      <td>0.01</td>\n",
       "    </tr>\n",
       "    <tr>\n",
       "      <td>16711</td>\n",
       "      <td>LMA Manager 2007</td>\n",
       "      <td>X360</td>\n",
       "      <td>2006</td>\n",
       "      <td>Sports</td>\n",
       "      <td>0.00</td>\n",
       "      <td>0.01</td>\n",
       "      <td>0.00</td>\n",
       "      <td>0.00</td>\n",
       "      <td>NaN</td>\n",
       "      <td>NaN</td>\n",
       "      <td>NaN</td>\n",
       "      <td>0.01</td>\n",
       "    </tr>\n",
       "    <tr>\n",
       "      <td>16712</td>\n",
       "      <td>Haitaka no Psychedelica</td>\n",
       "      <td>PSV</td>\n",
       "      <td>2016</td>\n",
       "      <td>Adventure</td>\n",
       "      <td>0.00</td>\n",
       "      <td>0.00</td>\n",
       "      <td>0.01</td>\n",
       "      <td>0.00</td>\n",
       "      <td>NaN</td>\n",
       "      <td>NaN</td>\n",
       "      <td>NaN</td>\n",
       "      <td>0.01</td>\n",
       "    </tr>\n",
       "    <tr>\n",
       "      <td>16713</td>\n",
       "      <td>Spirits &amp; Spells</td>\n",
       "      <td>GBA</td>\n",
       "      <td>2003</td>\n",
       "      <td>Platform</td>\n",
       "      <td>0.01</td>\n",
       "      <td>0.00</td>\n",
       "      <td>0.00</td>\n",
       "      <td>0.00</td>\n",
       "      <td>NaN</td>\n",
       "      <td>NaN</td>\n",
       "      <td>NaN</td>\n",
       "      <td>0.01</td>\n",
       "    </tr>\n",
       "    <tr>\n",
       "      <td>16714</td>\n",
       "      <td>Winning Post 8 2016</td>\n",
       "      <td>PSV</td>\n",
       "      <td>2016</td>\n",
       "      <td>Simulation</td>\n",
       "      <td>0.00</td>\n",
       "      <td>0.00</td>\n",
       "      <td>0.01</td>\n",
       "      <td>0.00</td>\n",
       "      <td>NaN</td>\n",
       "      <td>NaN</td>\n",
       "      <td>NaN</td>\n",
       "      <td>0.01</td>\n",
       "    </tr>\n",
       "  </tbody>\n",
       "</table>\n",
       "<p>16713 rows × 12 columns</p>\n",
       "</div>"
      ],
      "text/plain": [
       "                                name platform  year_of_release         genre  \\\n",
       "0                         Wii Sports      Wii             2006        Sports   \n",
       "1                  Super Mario Bros.      NES             1985      Platform   \n",
       "2                     Mario Kart Wii      Wii             2008        Racing   \n",
       "3                  Wii Sports Resort      Wii             2009        Sports   \n",
       "4           Pokemon Red/Pokemon Blue       GB             1996  Role-Playing   \n",
       "...                              ...      ...              ...           ...   \n",
       "16710  Samurai Warriors: Sanada Maru      PS3             2016        Action   \n",
       "16711               LMA Manager 2007     X360             2006        Sports   \n",
       "16712        Haitaka no Psychedelica      PSV             2016     Adventure   \n",
       "16713               Spirits & Spells      GBA             2003      Platform   \n",
       "16714            Winning Post 8 2016      PSV             2016    Simulation   \n",
       "\n",
       "       na_sales  eu_sales  jp_sales  other_sales  critic_score user_score  \\\n",
       "0         41.36     28.96      3.77         8.45          76.0          8   \n",
       "1         29.08      3.58      6.81         0.77           NaN        NaN   \n",
       "2         15.68     12.76      3.79         3.29          82.0        8.3   \n",
       "3         15.61     10.93      3.28         2.95          80.0          8   \n",
       "4         11.27      8.89     10.22         1.00           NaN        NaN   \n",
       "...         ...       ...       ...          ...           ...        ...   \n",
       "16710      0.00      0.00      0.01         0.00           NaN        NaN   \n",
       "16711      0.00      0.01      0.00         0.00           NaN        NaN   \n",
       "16712      0.00      0.00      0.01         0.00           NaN        NaN   \n",
       "16713      0.01      0.00      0.00         0.00           NaN        NaN   \n",
       "16714      0.00      0.00      0.01         0.00           NaN        NaN   \n",
       "\n",
       "      rating  sales  \n",
       "0          E  82.54  \n",
       "1        NaN  40.24  \n",
       "2          E  35.52  \n",
       "3          E  32.77  \n",
       "4        NaN  31.38  \n",
       "...      ...    ...  \n",
       "16710    NaN   0.01  \n",
       "16711    NaN   0.01  \n",
       "16712    NaN   0.01  \n",
       "16713    NaN   0.01  \n",
       "16714    NaN   0.01  \n",
       "\n",
       "[16713 rows x 12 columns]"
      ]
     },
     "metadata": {},
     "output_type": "display_data"
    }
   ],
   "source": [
    "data['sales'] = data['na_sales'] + data['eu_sales'] + data['jp_sales'] + data['other_sales']\n",
    "display(data)"
   ]
  },
  {
   "cell_type": "markdown",
   "id": "44705ac7",
   "metadata": {},
   "source": [
    "**Вывод**\n",
    "\n",
    "Какая была произведена предобработка данных:\n",
    "- удалены строки с пропусками в названиях игр\n",
    "- пропуски в годах заменены с помощью датафрейма, посчитанного вручную (была найдена в гугле игра и ее год выпуска)\n",
    "- пропусков в na_sales, eu_sales, jp_sales и other_sales не было \n",
    "- пропуски в critic_score были заменены на медианы, сгруппированные по платформам\n",
    "- пропуски в user_score были заменены так: так как данные в этом столбце заданы строковым типом данных, выделили срез данных с числами и перевели их в тип float, затем особую пользовательскую оценку так же заменили на пропуск, и после того как в столбце остались только вещественные значения и пропуски, заменили пропуски на медиану, сгруппированную по платформе\n",
    "- пропуски в столбце рейтинг были заменены Е, если игра была выпущена до 1996 года, и на K-A, если игра была выпущена в 1996 году и позже\n",
    "\n",
    "Дополнительно добавили столбец с глобальными продажами по всему миру, посчитанный суммой четырех столбцов по регионам"
   ]
  },
  {
   "cell_type": "markdown",
   "id": "810c83f3",
   "metadata": {},
   "source": [
    "## 3. Исследовательский анализ данных"
   ]
  },
  {
   "cell_type": "markdown",
   "id": "002a4216",
   "metadata": {},
   "source": [
    "*посмотрим, сколько игр выпускалось и какие были продажи в **разные годы**, сделаем это с помощью сводной таблицы*"
   ]
  },
  {
   "cell_type": "code",
   "execution_count": 21,
   "id": "2bb65600",
   "metadata": {
    "scrolled": true
   },
   "outputs": [
    {
     "data": {
      "text/html": [
       "<div>\n",
       "<style scoped>\n",
       "    .dataframe tbody tr th:only-of-type {\n",
       "        vertical-align: middle;\n",
       "    }\n",
       "\n",
       "    .dataframe tbody tr th {\n",
       "        vertical-align: top;\n",
       "    }\n",
       "\n",
       "    .dataframe thead th {\n",
       "        text-align: right;\n",
       "    }\n",
       "</style>\n",
       "<table border=\"1\" class=\"dataframe\">\n",
       "  <thead>\n",
       "    <tr style=\"text-align: right;\">\n",
       "      <th></th>\n",
       "      <th>year_of_release</th>\n",
       "      <th>count_games</th>\n",
       "      <th>sales</th>\n",
       "    </tr>\n",
       "  </thead>\n",
       "  <tbody>\n",
       "    <tr>\n",
       "      <td>0</td>\n",
       "      <td>1977</td>\n",
       "      <td>3</td>\n",
       "      <td>2.50</td>\n",
       "    </tr>\n",
       "    <tr>\n",
       "      <td>1</td>\n",
       "      <td>1978</td>\n",
       "      <td>4</td>\n",
       "      <td>1.00</td>\n",
       "    </tr>\n",
       "    <tr>\n",
       "      <td>2</td>\n",
       "      <td>1979</td>\n",
       "      <td>2</td>\n",
       "      <td>1.61</td>\n",
       "    </tr>\n",
       "    <tr>\n",
       "      <td>3</td>\n",
       "      <td>1980</td>\n",
       "      <td>14</td>\n",
       "      <td>15.65</td>\n",
       "    </tr>\n",
       "    <tr>\n",
       "      <td>4</td>\n",
       "      <td>1981</td>\n",
       "      <td>47</td>\n",
       "      <td>36.12</td>\n",
       "    </tr>\n",
       "    <tr>\n",
       "      <td>5</td>\n",
       "      <td>1982</td>\n",
       "      <td>37</td>\n",
       "      <td>29.35</td>\n",
       "    </tr>\n",
       "    <tr>\n",
       "      <td>6</td>\n",
       "      <td>1983</td>\n",
       "      <td>17</td>\n",
       "      <td>16.80</td>\n",
       "    </tr>\n",
       "    <tr>\n",
       "      <td>7</td>\n",
       "      <td>1984</td>\n",
       "      <td>15</td>\n",
       "      <td>50.38</td>\n",
       "    </tr>\n",
       "    <tr>\n",
       "      <td>8</td>\n",
       "      <td>1985</td>\n",
       "      <td>14</td>\n",
       "      <td>53.95</td>\n",
       "    </tr>\n",
       "    <tr>\n",
       "      <td>9</td>\n",
       "      <td>1986</td>\n",
       "      <td>21</td>\n",
       "      <td>37.08</td>\n",
       "    </tr>\n",
       "    <tr>\n",
       "      <td>10</td>\n",
       "      <td>1987</td>\n",
       "      <td>16</td>\n",
       "      <td>21.70</td>\n",
       "    </tr>\n",
       "    <tr>\n",
       "      <td>11</td>\n",
       "      <td>1988</td>\n",
       "      <td>15</td>\n",
       "      <td>47.21</td>\n",
       "    </tr>\n",
       "    <tr>\n",
       "      <td>12</td>\n",
       "      <td>1989</td>\n",
       "      <td>17</td>\n",
       "      <td>73.45</td>\n",
       "    </tr>\n",
       "    <tr>\n",
       "      <td>13</td>\n",
       "      <td>1990</td>\n",
       "      <td>17</td>\n",
       "      <td>49.58</td>\n",
       "    </tr>\n",
       "    <tr>\n",
       "      <td>14</td>\n",
       "      <td>1991</td>\n",
       "      <td>41</td>\n",
       "      <td>32.23</td>\n",
       "    </tr>\n",
       "    <tr>\n",
       "      <td>15</td>\n",
       "      <td>1992</td>\n",
       "      <td>44</td>\n",
       "      <td>77.11</td>\n",
       "    </tr>\n",
       "    <tr>\n",
       "      <td>16</td>\n",
       "      <td>1993</td>\n",
       "      <td>60</td>\n",
       "      <td>45.99</td>\n",
       "    </tr>\n",
       "    <tr>\n",
       "      <td>17</td>\n",
       "      <td>1994</td>\n",
       "      <td>121</td>\n",
       "      <td>79.23</td>\n",
       "    </tr>\n",
       "    <tr>\n",
       "      <td>18</td>\n",
       "      <td>1995</td>\n",
       "      <td>220</td>\n",
       "      <td>89.10</td>\n",
       "    </tr>\n",
       "    <tr>\n",
       "      <td>19</td>\n",
       "      <td>1996</td>\n",
       "      <td>265</td>\n",
       "      <td>199.35</td>\n",
       "    </tr>\n",
       "    <tr>\n",
       "      <td>20</td>\n",
       "      <td>1997</td>\n",
       "      <td>291</td>\n",
       "      <td>202.30</td>\n",
       "    </tr>\n",
       "    <tr>\n",
       "      <td>21</td>\n",
       "      <td>1998</td>\n",
       "      <td>381</td>\n",
       "      <td>257.81</td>\n",
       "    </tr>\n",
       "    <tr>\n",
       "      <td>22</td>\n",
       "      <td>1999</td>\n",
       "      <td>343</td>\n",
       "      <td>252.67</td>\n",
       "    </tr>\n",
       "    <tr>\n",
       "      <td>23</td>\n",
       "      <td>2000</td>\n",
       "      <td>354</td>\n",
       "      <td>202.19</td>\n",
       "    </tr>\n",
       "    <tr>\n",
       "      <td>24</td>\n",
       "      <td>2001</td>\n",
       "      <td>493</td>\n",
       "      <td>335.81</td>\n",
       "    </tr>\n",
       "    <tr>\n",
       "      <td>25</td>\n",
       "      <td>2002</td>\n",
       "      <td>850</td>\n",
       "      <td>402.70</td>\n",
       "    </tr>\n",
       "    <tr>\n",
       "      <td>26</td>\n",
       "      <td>2003</td>\n",
       "      <td>788</td>\n",
       "      <td>368.00</td>\n",
       "    </tr>\n",
       "    <tr>\n",
       "      <td>27</td>\n",
       "      <td>2004</td>\n",
       "      <td>773</td>\n",
       "      <td>421.51</td>\n",
       "    </tr>\n",
       "    <tr>\n",
       "      <td>28</td>\n",
       "      <td>2005</td>\n",
       "      <td>956</td>\n",
       "      <td>464.71</td>\n",
       "    </tr>\n",
       "    <tr>\n",
       "      <td>29</td>\n",
       "      <td>2006</td>\n",
       "      <td>1026</td>\n",
       "      <td>523.92</td>\n",
       "    </tr>\n",
       "    <tr>\n",
       "      <td>30</td>\n",
       "      <td>2007</td>\n",
       "      <td>1214</td>\n",
       "      <td>614.14</td>\n",
       "    </tr>\n",
       "    <tr>\n",
       "      <td>31</td>\n",
       "      <td>2008</td>\n",
       "      <td>1455</td>\n",
       "      <td>683.52</td>\n",
       "    </tr>\n",
       "    <tr>\n",
       "      <td>32</td>\n",
       "      <td>2009</td>\n",
       "      <td>1444</td>\n",
       "      <td>660.51</td>\n",
       "    </tr>\n",
       "    <tr>\n",
       "      <td>33</td>\n",
       "      <td>2010</td>\n",
       "      <td>1276</td>\n",
       "      <td>595.96</td>\n",
       "    </tr>\n",
       "    <tr>\n",
       "      <td>34</td>\n",
       "      <td>2011</td>\n",
       "      <td>1180</td>\n",
       "      <td>520.63</td>\n",
       "    </tr>\n",
       "    <tr>\n",
       "      <td>35</td>\n",
       "      <td>2012</td>\n",
       "      <td>659</td>\n",
       "      <td>356.10</td>\n",
       "    </tr>\n",
       "    <tr>\n",
       "      <td>36</td>\n",
       "      <td>2013</td>\n",
       "      <td>547</td>\n",
       "      <td>361.87</td>\n",
       "    </tr>\n",
       "    <tr>\n",
       "      <td>37</td>\n",
       "      <td>2014</td>\n",
       "      <td>581</td>\n",
       "      <td>331.53</td>\n",
       "    </tr>\n",
       "    <tr>\n",
       "      <td>38</td>\n",
       "      <td>2015</td>\n",
       "      <td>608</td>\n",
       "      <td>268.00</td>\n",
       "    </tr>\n",
       "    <tr>\n",
       "      <td>39</td>\n",
       "      <td>2016</td>\n",
       "      <td>504</td>\n",
       "      <td>130.02</td>\n",
       "    </tr>\n",
       "  </tbody>\n",
       "</table>\n",
       "</div>"
      ],
      "text/plain": [
       "    year_of_release  count_games   sales\n",
       "0              1977            3    2.50\n",
       "1              1978            4    1.00\n",
       "2              1979            2    1.61\n",
       "3              1980           14   15.65\n",
       "4              1981           47   36.12\n",
       "5              1982           37   29.35\n",
       "6              1983           17   16.80\n",
       "7              1984           15   50.38\n",
       "8              1985           14   53.95\n",
       "9              1986           21   37.08\n",
       "10             1987           16   21.70\n",
       "11             1988           15   47.21\n",
       "12             1989           17   73.45\n",
       "13             1990           17   49.58\n",
       "14             1991           41   32.23\n",
       "15             1992           44   77.11\n",
       "16             1993           60   45.99\n",
       "17             1994          121   79.23\n",
       "18             1995          220   89.10\n",
       "19             1996          265  199.35\n",
       "20             1997          291  202.30\n",
       "21             1998          381  257.81\n",
       "22             1999          343  252.67\n",
       "23             2000          354  202.19\n",
       "24             2001          493  335.81\n",
       "25             2002          850  402.70\n",
       "26             2003          788  368.00\n",
       "27             2004          773  421.51\n",
       "28             2005          956  464.71\n",
       "29             2006         1026  523.92\n",
       "30             2007         1214  614.14\n",
       "31             2008         1455  683.52\n",
       "32             2009         1444  660.51\n",
       "33             2010         1276  595.96\n",
       "34             2011         1180  520.63\n",
       "35             2012          659  356.10\n",
       "36             2013          547  361.87\n",
       "37             2014          581  331.53\n",
       "38             2015          608  268.00\n",
       "39             2016          504  130.02"
      ]
     },
     "metadata": {},
     "output_type": "display_data"
    }
   ],
   "source": [
    "games_per_year = data.groupby('year_of_release').agg({'name':['count'], 'sales':['sum']})\n",
    "games_per_year.columns = ['_'.join(col) for col in games_per_year.columns]\n",
    "games_per_year = games_per_year.reset_index()\n",
    "games_per_year = games_per_year.rename(columns={'name_count': 'count_games', 'sales_sum': 'sales'})\n",
    "display(games_per_year)"
   ]
  },
  {
   "cell_type": "code",
   "execution_count": 22,
   "id": "a3d2e99e",
   "metadata": {
    "scrolled": true
   },
   "outputs": [
    {
     "data": {
      "text/html": [
       "<div>\n",
       "<style scoped>\n",
       "    .dataframe tbody tr th:only-of-type {\n",
       "        vertical-align: middle;\n",
       "    }\n",
       "\n",
       "    .dataframe tbody tr th {\n",
       "        vertical-align: top;\n",
       "    }\n",
       "\n",
       "    .dataframe thead th {\n",
       "        text-align: right;\n",
       "    }\n",
       "</style>\n",
       "<table border=\"1\" class=\"dataframe\">\n",
       "  <thead>\n",
       "    <tr style=\"text-align: right;\">\n",
       "      <th></th>\n",
       "      <th>year_of_release</th>\n",
       "      <th>count_games</th>\n",
       "      <th>sales</th>\n",
       "    </tr>\n",
       "  </thead>\n",
       "  <tbody>\n",
       "    <tr>\n",
       "      <td>31</td>\n",
       "      <td>2008</td>\n",
       "      <td>1455</td>\n",
       "      <td>683.52</td>\n",
       "    </tr>\n",
       "    <tr>\n",
       "      <td>32</td>\n",
       "      <td>2009</td>\n",
       "      <td>1444</td>\n",
       "      <td>660.51</td>\n",
       "    </tr>\n",
       "    <tr>\n",
       "      <td>33</td>\n",
       "      <td>2010</td>\n",
       "      <td>1276</td>\n",
       "      <td>595.96</td>\n",
       "    </tr>\n",
       "    <tr>\n",
       "      <td>30</td>\n",
       "      <td>2007</td>\n",
       "      <td>1214</td>\n",
       "      <td>614.14</td>\n",
       "    </tr>\n",
       "    <tr>\n",
       "      <td>34</td>\n",
       "      <td>2011</td>\n",
       "      <td>1180</td>\n",
       "      <td>520.63</td>\n",
       "    </tr>\n",
       "    <tr>\n",
       "      <td>29</td>\n",
       "      <td>2006</td>\n",
       "      <td>1026</td>\n",
       "      <td>523.92</td>\n",
       "    </tr>\n",
       "    <tr>\n",
       "      <td>28</td>\n",
       "      <td>2005</td>\n",
       "      <td>956</td>\n",
       "      <td>464.71</td>\n",
       "    </tr>\n",
       "    <tr>\n",
       "      <td>25</td>\n",
       "      <td>2002</td>\n",
       "      <td>850</td>\n",
       "      <td>402.70</td>\n",
       "    </tr>\n",
       "    <tr>\n",
       "      <td>26</td>\n",
       "      <td>2003</td>\n",
       "      <td>788</td>\n",
       "      <td>368.00</td>\n",
       "    </tr>\n",
       "    <tr>\n",
       "      <td>27</td>\n",
       "      <td>2004</td>\n",
       "      <td>773</td>\n",
       "      <td>421.51</td>\n",
       "    </tr>\n",
       "    <tr>\n",
       "      <td>35</td>\n",
       "      <td>2012</td>\n",
       "      <td>659</td>\n",
       "      <td>356.10</td>\n",
       "    </tr>\n",
       "    <tr>\n",
       "      <td>38</td>\n",
       "      <td>2015</td>\n",
       "      <td>608</td>\n",
       "      <td>268.00</td>\n",
       "    </tr>\n",
       "    <tr>\n",
       "      <td>37</td>\n",
       "      <td>2014</td>\n",
       "      <td>581</td>\n",
       "      <td>331.53</td>\n",
       "    </tr>\n",
       "    <tr>\n",
       "      <td>36</td>\n",
       "      <td>2013</td>\n",
       "      <td>547</td>\n",
       "      <td>361.87</td>\n",
       "    </tr>\n",
       "    <tr>\n",
       "      <td>39</td>\n",
       "      <td>2016</td>\n",
       "      <td>504</td>\n",
       "      <td>130.02</td>\n",
       "    </tr>\n",
       "    <tr>\n",
       "      <td>24</td>\n",
       "      <td>2001</td>\n",
       "      <td>493</td>\n",
       "      <td>335.81</td>\n",
       "    </tr>\n",
       "    <tr>\n",
       "      <td>21</td>\n",
       "      <td>1998</td>\n",
       "      <td>381</td>\n",
       "      <td>257.81</td>\n",
       "    </tr>\n",
       "    <tr>\n",
       "      <td>23</td>\n",
       "      <td>2000</td>\n",
       "      <td>354</td>\n",
       "      <td>202.19</td>\n",
       "    </tr>\n",
       "    <tr>\n",
       "      <td>22</td>\n",
       "      <td>1999</td>\n",
       "      <td>343</td>\n",
       "      <td>252.67</td>\n",
       "    </tr>\n",
       "    <tr>\n",
       "      <td>20</td>\n",
       "      <td>1997</td>\n",
       "      <td>291</td>\n",
       "      <td>202.30</td>\n",
       "    </tr>\n",
       "    <tr>\n",
       "      <td>19</td>\n",
       "      <td>1996</td>\n",
       "      <td>265</td>\n",
       "      <td>199.35</td>\n",
       "    </tr>\n",
       "    <tr>\n",
       "      <td>18</td>\n",
       "      <td>1995</td>\n",
       "      <td>220</td>\n",
       "      <td>89.10</td>\n",
       "    </tr>\n",
       "    <tr>\n",
       "      <td>17</td>\n",
       "      <td>1994</td>\n",
       "      <td>121</td>\n",
       "      <td>79.23</td>\n",
       "    </tr>\n",
       "    <tr>\n",
       "      <td>16</td>\n",
       "      <td>1993</td>\n",
       "      <td>60</td>\n",
       "      <td>45.99</td>\n",
       "    </tr>\n",
       "    <tr>\n",
       "      <td>4</td>\n",
       "      <td>1981</td>\n",
       "      <td>47</td>\n",
       "      <td>36.12</td>\n",
       "    </tr>\n",
       "    <tr>\n",
       "      <td>15</td>\n",
       "      <td>1992</td>\n",
       "      <td>44</td>\n",
       "      <td>77.11</td>\n",
       "    </tr>\n",
       "    <tr>\n",
       "      <td>14</td>\n",
       "      <td>1991</td>\n",
       "      <td>41</td>\n",
       "      <td>32.23</td>\n",
       "    </tr>\n",
       "    <tr>\n",
       "      <td>5</td>\n",
       "      <td>1982</td>\n",
       "      <td>37</td>\n",
       "      <td>29.35</td>\n",
       "    </tr>\n",
       "    <tr>\n",
       "      <td>9</td>\n",
       "      <td>1986</td>\n",
       "      <td>21</td>\n",
       "      <td>37.08</td>\n",
       "    </tr>\n",
       "    <tr>\n",
       "      <td>6</td>\n",
       "      <td>1983</td>\n",
       "      <td>17</td>\n",
       "      <td>16.80</td>\n",
       "    </tr>\n",
       "    <tr>\n",
       "      <td>12</td>\n",
       "      <td>1989</td>\n",
       "      <td>17</td>\n",
       "      <td>73.45</td>\n",
       "    </tr>\n",
       "    <tr>\n",
       "      <td>13</td>\n",
       "      <td>1990</td>\n",
       "      <td>17</td>\n",
       "      <td>49.58</td>\n",
       "    </tr>\n",
       "    <tr>\n",
       "      <td>10</td>\n",
       "      <td>1987</td>\n",
       "      <td>16</td>\n",
       "      <td>21.70</td>\n",
       "    </tr>\n",
       "    <tr>\n",
       "      <td>11</td>\n",
       "      <td>1988</td>\n",
       "      <td>15</td>\n",
       "      <td>47.21</td>\n",
       "    </tr>\n",
       "    <tr>\n",
       "      <td>7</td>\n",
       "      <td>1984</td>\n",
       "      <td>15</td>\n",
       "      <td>50.38</td>\n",
       "    </tr>\n",
       "    <tr>\n",
       "      <td>8</td>\n",
       "      <td>1985</td>\n",
       "      <td>14</td>\n",
       "      <td>53.95</td>\n",
       "    </tr>\n",
       "    <tr>\n",
       "      <td>3</td>\n",
       "      <td>1980</td>\n",
       "      <td>14</td>\n",
       "      <td>15.65</td>\n",
       "    </tr>\n",
       "    <tr>\n",
       "      <td>1</td>\n",
       "      <td>1978</td>\n",
       "      <td>4</td>\n",
       "      <td>1.00</td>\n",
       "    </tr>\n",
       "    <tr>\n",
       "      <td>0</td>\n",
       "      <td>1977</td>\n",
       "      <td>3</td>\n",
       "      <td>2.50</td>\n",
       "    </tr>\n",
       "    <tr>\n",
       "      <td>2</td>\n",
       "      <td>1979</td>\n",
       "      <td>2</td>\n",
       "      <td>1.61</td>\n",
       "    </tr>\n",
       "  </tbody>\n",
       "</table>\n",
       "</div>"
      ],
      "text/plain": [
       "    year_of_release  count_games   sales\n",
       "31             2008         1455  683.52\n",
       "32             2009         1444  660.51\n",
       "33             2010         1276  595.96\n",
       "30             2007         1214  614.14\n",
       "34             2011         1180  520.63\n",
       "29             2006         1026  523.92\n",
       "28             2005          956  464.71\n",
       "25             2002          850  402.70\n",
       "26             2003          788  368.00\n",
       "27             2004          773  421.51\n",
       "35             2012          659  356.10\n",
       "38             2015          608  268.00\n",
       "37             2014          581  331.53\n",
       "36             2013          547  361.87\n",
       "39             2016          504  130.02\n",
       "24             2001          493  335.81\n",
       "21             1998          381  257.81\n",
       "23             2000          354  202.19\n",
       "22             1999          343  252.67\n",
       "20             1997          291  202.30\n",
       "19             1996          265  199.35\n",
       "18             1995          220   89.10\n",
       "17             1994          121   79.23\n",
       "16             1993           60   45.99\n",
       "4              1981           47   36.12\n",
       "15             1992           44   77.11\n",
       "14             1991           41   32.23\n",
       "5              1982           37   29.35\n",
       "9              1986           21   37.08\n",
       "6              1983           17   16.80\n",
       "12             1989           17   73.45\n",
       "13             1990           17   49.58\n",
       "10             1987           16   21.70\n",
       "11             1988           15   47.21\n",
       "7              1984           15   50.38\n",
       "8              1985           14   53.95\n",
       "3              1980           14   15.65\n",
       "1              1978            4    1.00\n",
       "0              1977            3    2.50\n",
       "2              1979            2    1.61"
      ]
     },
     "metadata": {},
     "output_type": "display_data"
    }
   ],
   "source": [
    "display(games_per_year.sort_values(by='count_games', ascending=False))"
   ]
  },
  {
   "cell_type": "code",
   "execution_count": 23,
   "id": "23712d25",
   "metadata": {
    "scrolled": true
   },
   "outputs": [
    {
     "data": {
      "image/png": "[encoded data removed]",
      "text/plain": [
       "<Figure size 432x288 with 1 Axes>"
      ]
     },
     "metadata": {
      "needs_background": "light"
     },
     "output_type": "display_data"
    }
   ],
   "source": [
    "# построим график глобальных продаж и количества игр по годам\n",
    "games_per_year.plot(x='year_of_release', y=['count_games','sales'], style='o-', title='games_and_sales_per_year')\n",
    "plt.show()"
   ]
  },
  {
   "cell_type": "markdown",
   "id": "9663d3b1",
   "metadata": {},
   "source": [
    "Суммарные продажи прямопропорциональны количеству выпущенных игр в определенный год. С 1995 года начинается активный рост вплоть до 2008 года, в который были достигнуты пиковые значения и по количеству игр, и по продажам.\n",
    "\n",
    "\n",
    "Так как зависимость прямая, то для планирования бюджета на 2017 год актуальным периодом будет все предыдущие года."
   ]
  },
  {
   "cell_type": "markdown",
   "id": "f6b6023a",
   "metadata": {},
   "source": [
    "*посмотрим, как менялись* **продажи** *по* **платформам**, *определим, за какой характерный срок появляются новые и изчезают старые платформы*"
   ]
  },
  {
   "cell_type": "code",
   "execution_count": 24,
   "id": "2ec93111",
   "metadata": {
    "scrolled": true
   },
   "outputs": [
    {
     "data": {
      "text/html": [
       "<div>\n",
       "<style scoped>\n",
       "    .dataframe tbody tr th:only-of-type {\n",
       "        vertical-align: middle;\n",
       "    }\n",
       "\n",
       "    .dataframe tbody tr th {\n",
       "        vertical-align: top;\n",
       "    }\n",
       "\n",
       "    .dataframe thead th {\n",
       "        text-align: right;\n",
       "    }\n",
       "</style>\n",
       "<table border=\"1\" class=\"dataframe\">\n",
       "  <thead>\n",
       "    <tr style=\"text-align: right;\">\n",
       "      <th></th>\n",
       "      <th>platform</th>\n",
       "      <th>count_games</th>\n",
       "      <th>sales</th>\n",
       "    </tr>\n",
       "  </thead>\n",
       "  <tbody>\n",
       "    <tr>\n",
       "      <td>16</td>\n",
       "      <td>PS2</td>\n",
       "      <td>2161</td>\n",
       "      <td>1255.77</td>\n",
       "    </tr>\n",
       "    <tr>\n",
       "      <td>28</td>\n",
       "      <td>X360</td>\n",
       "      <td>1262</td>\n",
       "      <td>971.42</td>\n",
       "    </tr>\n",
       "    <tr>\n",
       "      <td>17</td>\n",
       "      <td>PS3</td>\n",
       "      <td>1331</td>\n",
       "      <td>939.65</td>\n",
       "    </tr>\n",
       "    <tr>\n",
       "      <td>26</td>\n",
       "      <td>Wii</td>\n",
       "      <td>1320</td>\n",
       "      <td>907.51</td>\n",
       "    </tr>\n",
       "    <tr>\n",
       "      <td>4</td>\n",
       "      <td>DS</td>\n",
       "      <td>2151</td>\n",
       "      <td>806.12</td>\n",
       "    </tr>\n",
       "    <tr>\n",
       "      <td>15</td>\n",
       "      <td>PS</td>\n",
       "      <td>1197</td>\n",
       "      <td>730.86</td>\n",
       "    </tr>\n",
       "    <tr>\n",
       "      <td>6</td>\n",
       "      <td>GBA</td>\n",
       "      <td>822</td>\n",
       "      <td>317.85</td>\n",
       "    </tr>\n",
       "    <tr>\n",
       "      <td>18</td>\n",
       "      <td>PS4</td>\n",
       "      <td>392</td>\n",
       "      <td>314.14</td>\n",
       "    </tr>\n",
       "    <tr>\n",
       "      <td>19</td>\n",
       "      <td>PSP</td>\n",
       "      <td>1209</td>\n",
       "      <td>294.05</td>\n",
       "    </tr>\n",
       "    <tr>\n",
       "      <td>13</td>\n",
       "      <td>PC</td>\n",
       "      <td>974</td>\n",
       "      <td>259.52</td>\n",
       "    </tr>\n",
       "    <tr>\n",
       "      <td>2</td>\n",
       "      <td>3DS</td>\n",
       "      <td>520</td>\n",
       "      <td>259.00</td>\n",
       "    </tr>\n",
       "    <tr>\n",
       "      <td>29</td>\n",
       "      <td>XB</td>\n",
       "      <td>824</td>\n",
       "      <td>257.74</td>\n",
       "    </tr>\n",
       "    <tr>\n",
       "      <td>5</td>\n",
       "      <td>GB</td>\n",
       "      <td>98</td>\n",
       "      <td>255.46</td>\n",
       "    </tr>\n",
       "    <tr>\n",
       "      <td>11</td>\n",
       "      <td>NES</td>\n",
       "      <td>98</td>\n",
       "      <td>251.05</td>\n",
       "    </tr>\n",
       "    <tr>\n",
       "      <td>10</td>\n",
       "      <td>N64</td>\n",
       "      <td>319</td>\n",
       "      <td>218.68</td>\n",
       "    </tr>\n",
       "    <tr>\n",
       "      <td>23</td>\n",
       "      <td>SNES</td>\n",
       "      <td>239</td>\n",
       "      <td>200.04</td>\n",
       "    </tr>\n",
       "    <tr>\n",
       "      <td>7</td>\n",
       "      <td>GC</td>\n",
       "      <td>556</td>\n",
       "      <td>198.93</td>\n",
       "    </tr>\n",
       "    <tr>\n",
       "      <td>30</td>\n",
       "      <td>XOne</td>\n",
       "      <td>247</td>\n",
       "      <td>159.32</td>\n",
       "    </tr>\n",
       "    <tr>\n",
       "      <td>0</td>\n",
       "      <td>2600</td>\n",
       "      <td>133</td>\n",
       "      <td>96.98</td>\n",
       "    </tr>\n",
       "    <tr>\n",
       "      <td>27</td>\n",
       "      <td>WiiU</td>\n",
       "      <td>147</td>\n",
       "      <td>82.19</td>\n",
       "    </tr>\n",
       "    <tr>\n",
       "      <td>20</td>\n",
       "      <td>PSV</td>\n",
       "      <td>430</td>\n",
       "      <td>54.07</td>\n",
       "    </tr>\n",
       "    <tr>\n",
       "      <td>21</td>\n",
       "      <td>SAT</td>\n",
       "      <td>173</td>\n",
       "      <td>33.59</td>\n",
       "    </tr>\n",
       "    <tr>\n",
       "      <td>8</td>\n",
       "      <td>GEN</td>\n",
       "      <td>27</td>\n",
       "      <td>28.35</td>\n",
       "    </tr>\n",
       "    <tr>\n",
       "      <td>3</td>\n",
       "      <td>DC</td>\n",
       "      <td>52</td>\n",
       "      <td>15.95</td>\n",
       "    </tr>\n",
       "    <tr>\n",
       "      <td>22</td>\n",
       "      <td>SCD</td>\n",
       "      <td>6</td>\n",
       "      <td>1.86</td>\n",
       "    </tr>\n",
       "    <tr>\n",
       "      <td>12</td>\n",
       "      <td>NG</td>\n",
       "      <td>12</td>\n",
       "      <td>1.44</td>\n",
       "    </tr>\n",
       "    <tr>\n",
       "      <td>25</td>\n",
       "      <td>WS</td>\n",
       "      <td>6</td>\n",
       "      <td>1.42</td>\n",
       "    </tr>\n",
       "    <tr>\n",
       "      <td>24</td>\n",
       "      <td>TG16</td>\n",
       "      <td>2</td>\n",
       "      <td>0.16</td>\n",
       "    </tr>\n",
       "    <tr>\n",
       "      <td>1</td>\n",
       "      <td>3DO</td>\n",
       "      <td>3</td>\n",
       "      <td>0.10</td>\n",
       "    </tr>\n",
       "    <tr>\n",
       "      <td>9</td>\n",
       "      <td>GG</td>\n",
       "      <td>1</td>\n",
       "      <td>0.04</td>\n",
       "    </tr>\n",
       "    <tr>\n",
       "      <td>14</td>\n",
       "      <td>PCFX</td>\n",
       "      <td>1</td>\n",
       "      <td>0.03</td>\n",
       "    </tr>\n",
       "  </tbody>\n",
       "</table>\n",
       "</div>"
      ],
      "text/plain": [
       "   platform  count_games    sales\n",
       "16      PS2         2161  1255.77\n",
       "28     X360         1262   971.42\n",
       "17      PS3         1331   939.65\n",
       "26      Wii         1320   907.51\n",
       "4        DS         2151   806.12\n",
       "15       PS         1197   730.86\n",
       "6       GBA          822   317.85\n",
       "18      PS4          392   314.14\n",
       "19      PSP         1209   294.05\n",
       "13       PC          974   259.52\n",
       "2       3DS          520   259.00\n",
       "29       XB          824   257.74\n",
       "5        GB           98   255.46\n",
       "11      NES           98   251.05\n",
       "10      N64          319   218.68\n",
       "23     SNES          239   200.04\n",
       "7        GC          556   198.93\n",
       "30     XOne          247   159.32\n",
       "0      2600          133    96.98\n",
       "27     WiiU          147    82.19\n",
       "20      PSV          430    54.07\n",
       "21      SAT          173    33.59\n",
       "8       GEN           27    28.35\n",
       "3        DC           52    15.95\n",
       "22      SCD            6     1.86\n",
       "12       NG           12     1.44\n",
       "25       WS            6     1.42\n",
       "24     TG16            2     0.16\n",
       "1       3DO            3     0.10\n",
       "9        GG            1     0.04\n",
       "14     PCFX            1     0.03"
      ]
     },
     "metadata": {},
     "output_type": "display_data"
    }
   ],
   "source": [
    "platform_per_year = data.groupby('platform').agg({'name':['count'], 'sales':['sum']})\n",
    "platform_per_year.columns = ['_'.join(col) for col in platform_per_year.columns]\n",
    "platform_per_year = platform_per_year.reset_index()\n",
    "platform_per_year = platform_per_year.rename(columns={'name_count': 'count_games', 'sales_sum': 'sales'})\n",
    "platform_per_year = platform_per_year.sort_values(by='sales', ascending=False)\n",
    "display(platform_per_year)"
   ]
  },
  {
   "cell_type": "code",
   "execution_count": 25,
   "id": "cab2bda2",
   "metadata": {
    "scrolled": true
   },
   "outputs": [
    {
     "data": {
      "text/html": [
       "<div>\n",
       "<style scoped>\n",
       "    .dataframe tbody tr th:only-of-type {\n",
       "        vertical-align: middle;\n",
       "    }\n",
       "\n",
       "    .dataframe tbody tr th {\n",
       "        vertical-align: top;\n",
       "    }\n",
       "\n",
       "    .dataframe thead th {\n",
       "        text-align: right;\n",
       "    }\n",
       "</style>\n",
       "<table border=\"1\" class=\"dataframe\">\n",
       "  <thead>\n",
       "    <tr style=\"text-align: right;\">\n",
       "      <th></th>\n",
       "      <th>platform</th>\n",
       "      <th>count_games</th>\n",
       "      <th>sales</th>\n",
       "    </tr>\n",
       "  </thead>\n",
       "  <tbody>\n",
       "    <tr>\n",
       "      <td>0</td>\n",
       "      <td>PS2</td>\n",
       "      <td>2161</td>\n",
       "      <td>1255.77</td>\n",
       "    </tr>\n",
       "    <tr>\n",
       "      <td>1</td>\n",
       "      <td>X360</td>\n",
       "      <td>1262</td>\n",
       "      <td>971.42</td>\n",
       "    </tr>\n",
       "    <tr>\n",
       "      <td>2</td>\n",
       "      <td>PS3</td>\n",
       "      <td>1331</td>\n",
       "      <td>939.65</td>\n",
       "    </tr>\n",
       "    <tr>\n",
       "      <td>3</td>\n",
       "      <td>Wii</td>\n",
       "      <td>1320</td>\n",
       "      <td>907.51</td>\n",
       "    </tr>\n",
       "    <tr>\n",
       "      <td>4</td>\n",
       "      <td>DS</td>\n",
       "      <td>2151</td>\n",
       "      <td>806.12</td>\n",
       "    </tr>\n",
       "    <tr>\n",
       "      <td>5</td>\n",
       "      <td>PS</td>\n",
       "      <td>1197</td>\n",
       "      <td>730.86</td>\n",
       "    </tr>\n",
       "    <tr>\n",
       "      <td>6</td>\n",
       "      <td>GBA</td>\n",
       "      <td>822</td>\n",
       "      <td>317.85</td>\n",
       "    </tr>\n",
       "    <tr>\n",
       "      <td>7</td>\n",
       "      <td>PS4</td>\n",
       "      <td>392</td>\n",
       "      <td>314.14</td>\n",
       "    </tr>\n",
       "    <tr>\n",
       "      <td>8</td>\n",
       "      <td>PSP</td>\n",
       "      <td>1209</td>\n",
       "      <td>294.05</td>\n",
       "    </tr>\n",
       "    <tr>\n",
       "      <td>9</td>\n",
       "      <td>PC</td>\n",
       "      <td>974</td>\n",
       "      <td>259.52</td>\n",
       "    </tr>\n",
       "    <tr>\n",
       "      <td>10</td>\n",
       "      <td>3DS</td>\n",
       "      <td>520</td>\n",
       "      <td>259.00</td>\n",
       "    </tr>\n",
       "    <tr>\n",
       "      <td>11</td>\n",
       "      <td>XB</td>\n",
       "      <td>824</td>\n",
       "      <td>257.74</td>\n",
       "    </tr>\n",
       "    <tr>\n",
       "      <td>12</td>\n",
       "      <td>GB</td>\n",
       "      <td>98</td>\n",
       "      <td>255.46</td>\n",
       "    </tr>\n",
       "    <tr>\n",
       "      <td>13</td>\n",
       "      <td>NES</td>\n",
       "      <td>98</td>\n",
       "      <td>251.05</td>\n",
       "    </tr>\n",
       "    <tr>\n",
       "      <td>14</td>\n",
       "      <td>N64</td>\n",
       "      <td>319</td>\n",
       "      <td>218.68</td>\n",
       "    </tr>\n",
       "    <tr>\n",
       "      <td>15</td>\n",
       "      <td>SNES</td>\n",
       "      <td>239</td>\n",
       "      <td>200.04</td>\n",
       "    </tr>\n",
       "    <tr>\n",
       "      <td>16</td>\n",
       "      <td>GC</td>\n",
       "      <td>556</td>\n",
       "      <td>198.93</td>\n",
       "    </tr>\n",
       "    <tr>\n",
       "      <td>17</td>\n",
       "      <td>XOne</td>\n",
       "      <td>247</td>\n",
       "      <td>159.32</td>\n",
       "    </tr>\n",
       "    <tr>\n",
       "      <td>18</td>\n",
       "      <td>2600</td>\n",
       "      <td>133</td>\n",
       "      <td>96.98</td>\n",
       "    </tr>\n",
       "    <tr>\n",
       "      <td>19</td>\n",
       "      <td>WiiU</td>\n",
       "      <td>147</td>\n",
       "      <td>82.19</td>\n",
       "    </tr>\n",
       "    <tr>\n",
       "      <td>20</td>\n",
       "      <td>PSV</td>\n",
       "      <td>430</td>\n",
       "      <td>54.07</td>\n",
       "    </tr>\n",
       "    <tr>\n",
       "      <td>21</td>\n",
       "      <td>SAT</td>\n",
       "      <td>173</td>\n",
       "      <td>33.59</td>\n",
       "    </tr>\n",
       "    <tr>\n",
       "      <td>22</td>\n",
       "      <td>GEN</td>\n",
       "      <td>27</td>\n",
       "      <td>28.35</td>\n",
       "    </tr>\n",
       "    <tr>\n",
       "      <td>23</td>\n",
       "      <td>DC</td>\n",
       "      <td>52</td>\n",
       "      <td>15.95</td>\n",
       "    </tr>\n",
       "    <tr>\n",
       "      <td>24</td>\n",
       "      <td>SCD</td>\n",
       "      <td>6</td>\n",
       "      <td>1.86</td>\n",
       "    </tr>\n",
       "    <tr>\n",
       "      <td>25</td>\n",
       "      <td>NG</td>\n",
       "      <td>12</td>\n",
       "      <td>1.44</td>\n",
       "    </tr>\n",
       "    <tr>\n",
       "      <td>26</td>\n",
       "      <td>WS</td>\n",
       "      <td>6</td>\n",
       "      <td>1.42</td>\n",
       "    </tr>\n",
       "    <tr>\n",
       "      <td>27</td>\n",
       "      <td>TG16</td>\n",
       "      <td>2</td>\n",
       "      <td>0.16</td>\n",
       "    </tr>\n",
       "    <tr>\n",
       "      <td>28</td>\n",
       "      <td>3DO</td>\n",
       "      <td>3</td>\n",
       "      <td>0.10</td>\n",
       "    </tr>\n",
       "    <tr>\n",
       "      <td>29</td>\n",
       "      <td>GG</td>\n",
       "      <td>1</td>\n",
       "      <td>0.04</td>\n",
       "    </tr>\n",
       "    <tr>\n",
       "      <td>30</td>\n",
       "      <td>PCFX</td>\n",
       "      <td>1</td>\n",
       "      <td>0.03</td>\n",
       "    </tr>\n",
       "  </tbody>\n",
       "</table>\n",
       "</div>"
      ],
      "text/plain": [
       "   platform  count_games    sales\n",
       "0       PS2         2161  1255.77\n",
       "1      X360         1262   971.42\n",
       "2       PS3         1331   939.65\n",
       "3       Wii         1320   907.51\n",
       "4        DS         2151   806.12\n",
       "5        PS         1197   730.86\n",
       "6       GBA          822   317.85\n",
       "7       PS4          392   314.14\n",
       "8       PSP         1209   294.05\n",
       "9        PC          974   259.52\n",
       "10      3DS          520   259.00\n",
       "11       XB          824   257.74\n",
       "12       GB           98   255.46\n",
       "13      NES           98   251.05\n",
       "14      N64          319   218.68\n",
       "15     SNES          239   200.04\n",
       "16       GC          556   198.93\n",
       "17     XOne          247   159.32\n",
       "18     2600          133    96.98\n",
       "19     WiiU          147    82.19\n",
       "20      PSV          430    54.07\n",
       "21      SAT          173    33.59\n",
       "22      GEN           27    28.35\n",
       "23       DC           52    15.95\n",
       "24      SCD            6     1.86\n",
       "25       NG           12     1.44\n",
       "26       WS            6     1.42\n",
       "27     TG16            2     0.16\n",
       "28      3DO            3     0.10\n",
       "29       GG            1     0.04\n",
       "30     PCFX            1     0.03"
      ]
     },
     "metadata": {},
     "output_type": "display_data"
    }
   ],
   "source": [
    "platform_per_year = platform_per_year.reset_index()\n",
    "platform_per_year = platform_per_year.loc[:, 'platform':'sales']\n",
    "display(platform_per_year)"
   ]
  },
  {
   "cell_type": "markdown",
   "id": "10f5fd3f",
   "metadata": {},
   "source": [
    "Выбираем первые шесть платформ с самыми высокими продажами и для этих платформ строим распределения по годам."
   ]
  },
  {
   "cell_type": "code",
   "execution_count": 26,
   "id": "b1eb49a0",
   "metadata": {},
   "outputs": [
    {
     "data": {
      "text/html": [
       "<div>\n",
       "<style scoped>\n",
       "    .dataframe tbody tr th:only-of-type {\n",
       "        vertical-align: middle;\n",
       "    }\n",
       "\n",
       "    .dataframe tbody tr th {\n",
       "        vertical-align: top;\n",
       "    }\n",
       "\n",
       "    .dataframe thead th {\n",
       "        text-align: right;\n",
       "    }\n",
       "</style>\n",
       "<table border=\"1\" class=\"dataframe\">\n",
       "  <thead>\n",
       "    <tr style=\"text-align: right;\">\n",
       "      <th></th>\n",
       "      <th>platform</th>\n",
       "      <th>count_games</th>\n",
       "      <th>sales</th>\n",
       "    </tr>\n",
       "  </thead>\n",
       "  <tbody>\n",
       "    <tr>\n",
       "      <td>0</td>\n",
       "      <td>PS2</td>\n",
       "      <td>2161</td>\n",
       "      <td>1255.77</td>\n",
       "    </tr>\n",
       "    <tr>\n",
       "      <td>1</td>\n",
       "      <td>X360</td>\n",
       "      <td>1262</td>\n",
       "      <td>971.42</td>\n",
       "    </tr>\n",
       "    <tr>\n",
       "      <td>2</td>\n",
       "      <td>PS3</td>\n",
       "      <td>1331</td>\n",
       "      <td>939.65</td>\n",
       "    </tr>\n",
       "    <tr>\n",
       "      <td>3</td>\n",
       "      <td>Wii</td>\n",
       "      <td>1320</td>\n",
       "      <td>907.51</td>\n",
       "    </tr>\n",
       "    <tr>\n",
       "      <td>4</td>\n",
       "      <td>DS</td>\n",
       "      <td>2151</td>\n",
       "      <td>806.12</td>\n",
       "    </tr>\n",
       "    <tr>\n",
       "      <td>5</td>\n",
       "      <td>PS</td>\n",
       "      <td>1197</td>\n",
       "      <td>730.86</td>\n",
       "    </tr>\n",
       "  </tbody>\n",
       "</table>\n",
       "</div>"
      ],
      "text/plain": [
       "  platform  count_games    sales\n",
       "0      PS2         2161  1255.77\n",
       "1     X360         1262   971.42\n",
       "2      PS3         1331   939.65\n",
       "3      Wii         1320   907.51\n",
       "4       DS         2151   806.12\n",
       "5       PS         1197   730.86"
      ]
     },
     "metadata": {},
     "output_type": "display_data"
    }
   ],
   "source": [
    "platform_per_year_max_sales = platform_per_year[0:6]\n",
    "display(platform_per_year_max_sales)"
   ]
  },
  {
   "cell_type": "code",
   "execution_count": 27,
   "id": "e830f308",
   "metadata": {
    "scrolled": true
   },
   "outputs": [
    {
     "data": {
      "text/html": [
       "<div>\n",
       "<style scoped>\n",
       "    .dataframe tbody tr th:only-of-type {\n",
       "        vertical-align: middle;\n",
       "    }\n",
       "\n",
       "    .dataframe tbody tr th {\n",
       "        vertical-align: top;\n",
       "    }\n",
       "\n",
       "    .dataframe thead th {\n",
       "        text-align: right;\n",
       "    }\n",
       "</style>\n",
       "<table border=\"1\" class=\"dataframe\">\n",
       "  <thead>\n",
       "    <tr style=\"text-align: right;\">\n",
       "      <th></th>\n",
       "      <th>year_of_release</th>\n",
       "      <th>DS</th>\n",
       "      <th>PS</th>\n",
       "      <th>PS2</th>\n",
       "      <th>PS3</th>\n",
       "      <th>Wii</th>\n",
       "      <th>X360</th>\n",
       "    </tr>\n",
       "  </thead>\n",
       "  <tbody>\n",
       "    <tr>\n",
       "      <td>0</td>\n",
       "      <td>1985</td>\n",
       "      <td>0.02</td>\n",
       "      <td>NaN</td>\n",
       "      <td>NaN</td>\n",
       "      <td>NaN</td>\n",
       "      <td>NaN</td>\n",
       "      <td>NaN</td>\n",
       "    </tr>\n",
       "    <tr>\n",
       "      <td>1</td>\n",
       "      <td>1992</td>\n",
       "      <td>NaN</td>\n",
       "      <td>NaN</td>\n",
       "      <td>0.95</td>\n",
       "      <td>NaN</td>\n",
       "      <td>NaN</td>\n",
       "      <td>NaN</td>\n",
       "    </tr>\n",
       "    <tr>\n",
       "      <td>2</td>\n",
       "      <td>1994</td>\n",
       "      <td>NaN</td>\n",
       "      <td>6.03</td>\n",
       "      <td>NaN</td>\n",
       "      <td>NaN</td>\n",
       "      <td>NaN</td>\n",
       "      <td>NaN</td>\n",
       "    </tr>\n",
       "    <tr>\n",
       "      <td>3</td>\n",
       "      <td>1995</td>\n",
       "      <td>NaN</td>\n",
       "      <td>35.96</td>\n",
       "      <td>0.98</td>\n",
       "      <td>NaN</td>\n",
       "      <td>NaN</td>\n",
       "      <td>NaN</td>\n",
       "    </tr>\n",
       "    <tr>\n",
       "      <td>4</td>\n",
       "      <td>1996</td>\n",
       "      <td>NaN</td>\n",
       "      <td>94.70</td>\n",
       "      <td>NaN</td>\n",
       "      <td>NaN</td>\n",
       "      <td>NaN</td>\n",
       "      <td>NaN</td>\n",
       "    </tr>\n",
       "    <tr>\n",
       "      <td>5</td>\n",
       "      <td>1997</td>\n",
       "      <td>NaN</td>\n",
       "      <td>136.17</td>\n",
       "      <td>NaN</td>\n",
       "      <td>NaN</td>\n",
       "      <td>NaN</td>\n",
       "      <td>NaN</td>\n",
       "    </tr>\n",
       "    <tr>\n",
       "      <td>6</td>\n",
       "      <td>1998</td>\n",
       "      <td>NaN</td>\n",
       "      <td>170.99</td>\n",
       "      <td>NaN</td>\n",
       "      <td>NaN</td>\n",
       "      <td>NaN</td>\n",
       "      <td>NaN</td>\n",
       "    </tr>\n",
       "    <tr>\n",
       "      <td>7</td>\n",
       "      <td>1999</td>\n",
       "      <td>NaN</td>\n",
       "      <td>145.67</td>\n",
       "      <td>NaN</td>\n",
       "      <td>NaN</td>\n",
       "      <td>0.04</td>\n",
       "      <td>NaN</td>\n",
       "    </tr>\n",
       "    <tr>\n",
       "      <td>8</td>\n",
       "      <td>2000</td>\n",
       "      <td>NaN</td>\n",
       "      <td>96.67</td>\n",
       "      <td>39.17</td>\n",
       "      <td>NaN</td>\n",
       "      <td>NaN</td>\n",
       "      <td>NaN</td>\n",
       "    </tr>\n",
       "    <tr>\n",
       "      <td>9</td>\n",
       "      <td>2001</td>\n",
       "      <td>0.10</td>\n",
       "      <td>35.93</td>\n",
       "      <td>167.00</td>\n",
       "      <td>NaN</td>\n",
       "      <td>0.03</td>\n",
       "      <td>NaN</td>\n",
       "    </tr>\n",
       "    <tr>\n",
       "      <td>10</td>\n",
       "      <td>2002</td>\n",
       "      <td>NaN</td>\n",
       "      <td>6.67</td>\n",
       "      <td>209.79</td>\n",
       "      <td>NaN</td>\n",
       "      <td>NaN</td>\n",
       "      <td>NaN</td>\n",
       "    </tr>\n",
       "    <tr>\n",
       "      <td>11</td>\n",
       "      <td>2003</td>\n",
       "      <td>NaN</td>\n",
       "      <td>2.07</td>\n",
       "      <td>193.22</td>\n",
       "      <td>NaN</td>\n",
       "      <td>NaN</td>\n",
       "      <td>NaN</td>\n",
       "    </tr>\n",
       "    <tr>\n",
       "      <td>12</td>\n",
       "      <td>2004</td>\n",
       "      <td>17.27</td>\n",
       "      <td>NaN</td>\n",
       "      <td>212.43</td>\n",
       "      <td>NaN</td>\n",
       "      <td>NaN</td>\n",
       "      <td>NaN</td>\n",
       "    </tr>\n",
       "    <tr>\n",
       "      <td>13</td>\n",
       "      <td>2005</td>\n",
       "      <td>130.23</td>\n",
       "      <td>NaN</td>\n",
       "      <td>164.09</td>\n",
       "      <td>NaN</td>\n",
       "      <td>NaN</td>\n",
       "      <td>9.10</td>\n",
       "    </tr>\n",
       "    <tr>\n",
       "      <td>14</td>\n",
       "      <td>2006</td>\n",
       "      <td>119.93</td>\n",
       "      <td>NaN</td>\n",
       "      <td>104.47</td>\n",
       "      <td>21.44</td>\n",
       "      <td>140.21</td>\n",
       "      <td>51.80</td>\n",
       "    </tr>\n",
       "    <tr>\n",
       "      <td>15</td>\n",
       "      <td>2007</td>\n",
       "      <td>147.39</td>\n",
       "      <td>NaN</td>\n",
       "      <td>77.28</td>\n",
       "      <td>74.86</td>\n",
       "      <td>155.91</td>\n",
       "      <td>97.88</td>\n",
       "    </tr>\n",
       "    <tr>\n",
       "      <td>16</td>\n",
       "      <td>2008</td>\n",
       "      <td>146.15</td>\n",
       "      <td>NaN</td>\n",
       "      <td>53.90</td>\n",
       "      <td>119.57</td>\n",
       "      <td>177.09</td>\n",
       "      <td>137.00</td>\n",
       "    </tr>\n",
       "    <tr>\n",
       "      <td>17</td>\n",
       "      <td>2009</td>\n",
       "      <td>120.01</td>\n",
       "      <td>NaN</td>\n",
       "      <td>26.40</td>\n",
       "      <td>131.06</td>\n",
       "      <td>207.41</td>\n",
       "      <td>120.82</td>\n",
       "    </tr>\n",
       "    <tr>\n",
       "      <td>18</td>\n",
       "      <td>2010</td>\n",
       "      <td>85.35</td>\n",
       "      <td>NaN</td>\n",
       "      <td>5.64</td>\n",
       "      <td>144.06</td>\n",
       "      <td>128.59</td>\n",
       "      <td>170.88</td>\n",
       "    </tr>\n",
       "    <tr>\n",
       "      <td>19</td>\n",
       "      <td>2011</td>\n",
       "      <td>27.02</td>\n",
       "      <td>NaN</td>\n",
       "      <td>0.45</td>\n",
       "      <td>159.80</td>\n",
       "      <td>62.84</td>\n",
       "      <td>147.32</td>\n",
       "    </tr>\n",
       "    <tr>\n",
       "      <td>20</td>\n",
       "      <td>2012</td>\n",
       "      <td>11.07</td>\n",
       "      <td>NaN</td>\n",
       "      <td>NaN</td>\n",
       "      <td>107.43</td>\n",
       "      <td>21.73</td>\n",
       "      <td>99.81</td>\n",
       "    </tr>\n",
       "    <tr>\n",
       "      <td>21</td>\n",
       "      <td>2013</td>\n",
       "      <td>1.54</td>\n",
       "      <td>NaN</td>\n",
       "      <td>NaN</td>\n",
       "      <td>113.25</td>\n",
       "      <td>8.59</td>\n",
       "      <td>88.58</td>\n",
       "    </tr>\n",
       "    <tr>\n",
       "      <td>22</td>\n",
       "      <td>2014</td>\n",
       "      <td>NaN</td>\n",
       "      <td>NaN</td>\n",
       "      <td>NaN</td>\n",
       "      <td>47.76</td>\n",
       "      <td>3.75</td>\n",
       "      <td>34.74</td>\n",
       "    </tr>\n",
       "    <tr>\n",
       "      <td>23</td>\n",
       "      <td>2015</td>\n",
       "      <td>NaN</td>\n",
       "      <td>NaN</td>\n",
       "      <td>NaN</td>\n",
       "      <td>16.82</td>\n",
       "      <td>1.14</td>\n",
       "      <td>11.97</td>\n",
       "    </tr>\n",
       "    <tr>\n",
       "      <td>24</td>\n",
       "      <td>2016</td>\n",
       "      <td>0.04</td>\n",
       "      <td>NaN</td>\n",
       "      <td>NaN</td>\n",
       "      <td>3.60</td>\n",
       "      <td>0.18</td>\n",
       "      <td>1.52</td>\n",
       "    </tr>\n",
       "  </tbody>\n",
       "</table>\n",
       "</div>"
      ],
      "text/plain": [
       "    year_of_release      DS      PS     PS2     PS3     Wii    X360\n",
       "0              1985    0.02     NaN     NaN     NaN     NaN     NaN\n",
       "1              1992     NaN     NaN    0.95     NaN     NaN     NaN\n",
       "2              1994     NaN    6.03     NaN     NaN     NaN     NaN\n",
       "3              1995     NaN   35.96    0.98     NaN     NaN     NaN\n",
       "4              1996     NaN   94.70     NaN     NaN     NaN     NaN\n",
       "5              1997     NaN  136.17     NaN     NaN     NaN     NaN\n",
       "6              1998     NaN  170.99     NaN     NaN     NaN     NaN\n",
       "7              1999     NaN  145.67     NaN     NaN    0.04     NaN\n",
       "8              2000     NaN   96.67   39.17     NaN     NaN     NaN\n",
       "9              2001    0.10   35.93  167.00     NaN    0.03     NaN\n",
       "10             2002     NaN    6.67  209.79     NaN     NaN     NaN\n",
       "11             2003     NaN    2.07  193.22     NaN     NaN     NaN\n",
       "12             2004   17.27     NaN  212.43     NaN     NaN     NaN\n",
       "13             2005  130.23     NaN  164.09     NaN     NaN    9.10\n",
       "14             2006  119.93     NaN  104.47   21.44  140.21   51.80\n",
       "15             2007  147.39     NaN   77.28   74.86  155.91   97.88\n",
       "16             2008  146.15     NaN   53.90  119.57  177.09  137.00\n",
       "17             2009  120.01     NaN   26.40  131.06  207.41  120.82\n",
       "18             2010   85.35     NaN    5.64  144.06  128.59  170.88\n",
       "19             2011   27.02     NaN    0.45  159.80   62.84  147.32\n",
       "20             2012   11.07     NaN     NaN  107.43   21.73   99.81\n",
       "21             2013    1.54     NaN     NaN  113.25    8.59   88.58\n",
       "22             2014     NaN     NaN     NaN   47.76    3.75   34.74\n",
       "23             2015     NaN     NaN     NaN   16.82    1.14   11.97\n",
       "24             2016    0.04     NaN     NaN    3.60    0.18    1.52"
      ]
     },
     "metadata": {},
     "output_type": "display_data"
    }
   ],
   "source": [
    "platform_max_sales = data[(data['platform']=='PS2') |\n",
    "                          (data['platform']=='X360') |\n",
    "                          (data['platform']=='PS3') |\n",
    "                          (data['platform']=='Wii') |\n",
    "                          (data['platform']=='DS') |\n",
    "                          (data['platform']=='PS')].pivot_table(index='year_of_release', columns='platform', values='sales', aggfunc='sum')\n",
    "\n",
    "platform_max_sales.columns = ['_'.join(col) for col in platform_max_sales.columns]\n",
    "platform_max_sales = platform_max_sales.reset_index()\n",
    "platform_max_sales = platform_max_sales.rename(columns={'D_S':'DS',\n",
    "                                                        'P_S':'PS',\n",
    "                                                        'P_S_2':'PS2',\n",
    "                                                        'P_S_3':'PS3',\n",
    "                                                        'W_i_i':'Wii',\n",
    "                                                        'X_3_6_0':'X360',})\n",
    "display(platform_max_sales)"
   ]
  },
  {
   "cell_type": "code",
   "execution_count": 28,
   "id": "2f158c6e",
   "metadata": {},
   "outputs": [
    {
     "data": {
      "image/png": "[encoded data removed]",
      "text/plain": [
       "<Figure size 432x288 with 1 Axes>"
      ]
     },
     "metadata": {
      "needs_background": "light"
     },
     "output_type": "display_data"
    }
   ],
   "source": [
    "platform_max_sales.plot(x='year_of_release', y = ['DS','PS','PS2','PS3','Wii','X360'], style='o-')\n",
    "plt.show()"
   ]
  },
  {
   "cell_type": "markdown",
   "id": "030ad895",
   "metadata": {},
   "source": [
    "По графику видно, что каждая из 6-ти вышеупомянутых платформ перестает реализовывать игры через 8-10 лет после старта продаж.\n",
    "А таrже можно следать вывод, что только 3 платформы из них \"дожили\" до 2016 года. Возможно, есть еще платформы с меньшими продажами, но они стартанули недавно и еще не успели дорасти до высоких продаж. \n",
    "Если мы планируем компанию на 2017 год, зачем нам \"умершие платформы\"?\n",
    "Попробуем проверить платформы с 2012 по 2016 год (последние 5 лет - это и будет **актуальным периодом**)."
   ]
  },
  {
   "cell_type": "code",
   "execution_count": 29,
   "id": "4b2d58b4",
   "metadata": {},
   "outputs": [],
   "source": [
    "data_2012_2016 = data[((data['year_of_release']==2012) |\n",
    "                      (data['year_of_release']==2013) |\n",
    "                      (data['year_of_release']==2014) |\n",
    "                      (data['year_of_release']==2015) |\n",
    "                      (data['year_of_release']==2016))]"
   ]
  },
  {
   "cell_type": "code",
   "execution_count": 30,
   "id": "338cd21d",
   "metadata": {},
   "outputs": [
    {
     "data": {
      "text/html": [
       "<div>\n",
       "<style scoped>\n",
       "    .dataframe tbody tr th:only-of-type {\n",
       "        vertical-align: middle;\n",
       "    }\n",
       "\n",
       "    .dataframe tbody tr th {\n",
       "        vertical-align: top;\n",
       "    }\n",
       "\n",
       "    .dataframe thead th {\n",
       "        text-align: right;\n",
       "    }\n",
       "</style>\n",
       "<table border=\"1\" class=\"dataframe\">\n",
       "  <thead>\n",
       "    <tr style=\"text-align: right;\">\n",
       "      <th></th>\n",
       "      <th>year_of_release</th>\n",
       "      <th>3DS</th>\n",
       "      <th>DS</th>\n",
       "      <th>PC</th>\n",
       "      <th>PS3</th>\n",
       "      <th>PS4</th>\n",
       "      <th>PSP</th>\n",
       "      <th>PSV</th>\n",
       "      <th>Wii</th>\n",
       "      <th>WiiU</th>\n",
       "      <th>X360</th>\n",
       "      <th>XOne</th>\n",
       "    </tr>\n",
       "  </thead>\n",
       "  <tbody>\n",
       "    <tr>\n",
       "      <td>0</td>\n",
       "      <td>2012</td>\n",
       "      <td>51.39</td>\n",
       "      <td>11.07</td>\n",
       "      <td>23.23</td>\n",
       "      <td>107.43</td>\n",
       "      <td>NaN</td>\n",
       "      <td>7.69</td>\n",
       "      <td>16.19</td>\n",
       "      <td>21.73</td>\n",
       "      <td>17.56</td>\n",
       "      <td>99.81</td>\n",
       "      <td>NaN</td>\n",
       "    </tr>\n",
       "    <tr>\n",
       "      <td>1</td>\n",
       "      <td>2013</td>\n",
       "      <td>56.57</td>\n",
       "      <td>1.54</td>\n",
       "      <td>13.01</td>\n",
       "      <td>113.25</td>\n",
       "      <td>25.99</td>\n",
       "      <td>3.14</td>\n",
       "      <td>10.59</td>\n",
       "      <td>8.59</td>\n",
       "      <td>21.65</td>\n",
       "      <td>88.58</td>\n",
       "      <td>18.96</td>\n",
       "    </tr>\n",
       "    <tr>\n",
       "      <td>2</td>\n",
       "      <td>2014</td>\n",
       "      <td>43.76</td>\n",
       "      <td>NaN</td>\n",
       "      <td>13.28</td>\n",
       "      <td>47.76</td>\n",
       "      <td>100.00</td>\n",
       "      <td>0.24</td>\n",
       "      <td>11.90</td>\n",
       "      <td>3.75</td>\n",
       "      <td>22.03</td>\n",
       "      <td>34.74</td>\n",
       "      <td>54.07</td>\n",
       "    </tr>\n",
       "    <tr>\n",
       "      <td>3</td>\n",
       "      <td>2015</td>\n",
       "      <td>27.78</td>\n",
       "      <td>NaN</td>\n",
       "      <td>8.53</td>\n",
       "      <td>16.82</td>\n",
       "      <td>118.90</td>\n",
       "      <td>0.12</td>\n",
       "      <td>6.25</td>\n",
       "      <td>1.14</td>\n",
       "      <td>16.35</td>\n",
       "      <td>11.97</td>\n",
       "      <td>60.14</td>\n",
       "    </tr>\n",
       "    <tr>\n",
       "      <td>4</td>\n",
       "      <td>2016</td>\n",
       "      <td>15.14</td>\n",
       "      <td>0.04</td>\n",
       "      <td>5.29</td>\n",
       "      <td>3.60</td>\n",
       "      <td>69.25</td>\n",
       "      <td>NaN</td>\n",
       "      <td>4.25</td>\n",
       "      <td>0.18</td>\n",
       "      <td>4.60</td>\n",
       "      <td>1.52</td>\n",
       "      <td>26.15</td>\n",
       "    </tr>\n",
       "  </tbody>\n",
       "</table>\n",
       "</div>"
      ],
      "text/plain": [
       "   year_of_release    3DS     DS     PC     PS3     PS4   PSP    PSV    Wii  \\\n",
       "0             2012  51.39  11.07  23.23  107.43     NaN  7.69  16.19  21.73   \n",
       "1             2013  56.57   1.54  13.01  113.25   25.99  3.14  10.59   8.59   \n",
       "2             2014  43.76    NaN  13.28   47.76  100.00  0.24  11.90   3.75   \n",
       "3             2015  27.78    NaN   8.53   16.82  118.90  0.12   6.25   1.14   \n",
       "4             2016  15.14   0.04   5.29    3.60   69.25   NaN   4.25   0.18   \n",
       "\n",
       "    WiiU   X360   XOne  \n",
       "0  17.56  99.81    NaN  \n",
       "1  21.65  88.58  18.96  \n",
       "2  22.03  34.74  54.07  \n",
       "3  16.35  11.97  60.14  \n",
       "4   4.60   1.52  26.15  "
      ]
     },
     "metadata": {},
     "output_type": "display_data"
    }
   ],
   "source": [
    "platform_2012_2016 = data_2012_2016.pivot_table(index='year_of_release', columns='platform', values='sales', aggfunc='sum')\n",
    "\n",
    "platform_2012_2016.columns = ['_'.join(col) for col in platform_2012_2016.columns]\n",
    "platform_2012_2016 = platform_2012_2016.reset_index()\n",
    "platform_2012_2016 = platform_2012_2016.rename(columns={'3_D_S':'3DS',\n",
    "                                                        'D_S':'DS',\n",
    "                                                        'P_C':'PC',\n",
    "                                                        'P_S_2':'PS2',\n",
    "                                                        'P_S_3':'PS3',\n",
    "                                                        'P_S_4':'PS4',\n",
    "                                                        'P_S_P':'PSP',\n",
    "                                                        'P_S_V':'PSV',\n",
    "                                                        'W_i_i':'Wii',\n",
    "                                                        'W_i_i_U':'WiiU',\n",
    "                                                        'X_3_6_0':'X360',\n",
    "                                                        'X_O_n_e':'XOne',})\n",
    "display(platform_2012_2016)"
   ]
  },
  {
   "cell_type": "code",
   "execution_count": 31,
   "id": "0604d7b3",
   "metadata": {
    "scrolled": true
   },
   "outputs": [
    {
     "data": {
      "image/png": "[encoded data removed]",
      "text/plain": [
       "<Figure size 432x288 with 1 Axes>"
      ]
     },
     "metadata": {
      "needs_background": "light"
     },
     "output_type": "display_data"
    }
   ],
   "source": [
    "platform_2012_2016.plot(x='year_of_release', y = ['3DS','PC','PS3','PS4','PSV','Wii','WiiU','X360','XOne'], style='o-')\n",
    "plt.show()"
   ]
  },
  {
   "cell_type": "markdown",
   "id": "21d2165a",
   "metadata": {},
   "source": [
    "Вот здесь продажи конечно меньше, и абсолютно у всех платформ происходит падение продаж к 2016 году, но так же видно, что остались к 2016 году более менее активные платформы - это PS4, XOne, X360, WiiU, PC, PSV и 3DS. У платформ PSP и DS полностью упали продажи еще до 2016 года.\n",
    "Я бы назвала **лидирующими** по глобальным продажам **платформы** PS4, XOne, и 3DS. Х360 хочется так же вытащить в лидирующие, но с появлением XOne у нее резкий спад продаж, так что в будущих годах она совсем отвалиться.\n",
    "\n",
    "Построим **\"ящик с усами\"** для трех платформ."
   ]
  },
  {
   "cell_type": "code",
   "execution_count": 32,
   "id": "2937eae2",
   "metadata": {
    "scrolled": true
   },
   "outputs": [
    {
     "name": "stderr",
     "output_type": "stream",
     "text": [
      "/opt/conda/lib/python3.7/site-packages/numpy/core/_asarray.py:83: VisibleDeprecationWarning: Creating an ndarray from ragged nested sequences (which is a list-or-tuple of lists-or-tuples-or ndarrays with different lengths or shapes) is deprecated. If you meant to do this, you must specify 'dtype=object' when creating the ndarray\n",
      "  return array(a, dtype, copy=False, order=order)\n"
     ]
    },
    {
     "data": {
      "image/png": "[encoded data removed]",
      "text/plain": [
       "<Figure size 432x288 with 1 Axes>"
      ]
     },
     "metadata": {
      "needs_background": "light"
     },
     "output_type": "display_data"
    }
   ],
   "source": [
    "ps4_2012_2016 = data_2012_2016[data_2012_2016['platform']=='PS4']\n",
    "xone_2012_2016 = data_2012_2016[data_2012_2016['platform']=='XOne']\n",
    "_3ds_2012_2016 = data_2012_2016[data_2012_2016['platform']=='3DS']\n",
    "\n",
    "plt.boxplot([ps4_2012_2016['sales'], xone_2012_2016['sales'], _3ds_2012_2016['sales']])\n",
    "plt.show()"
   ]
  },
  {
   "cell_type": "code",
   "execution_count": 33,
   "id": "361150ff",
   "metadata": {},
   "outputs": [
    {
     "data": {
      "text/plain": [
       "(0, 3)"
      ]
     },
     "execution_count": 33,
     "metadata": {},
     "output_type": "execute_result"
    },
    {
     "data": {
      "image/png": "[encoded data removed]",
      "text/plain": [
       "<Figure size 864x504 with 1 Axes>"
      ]
     },
     "metadata": {
      "needs_background": "light"
     },
     "output_type": "display_data"
    }
   ],
   "source": [
    "import warnings\n",
    "warnings.filterwarnings('ignore') # Игнорируем предупреждения.\n",
    "\n",
    "data_2012_2016.boxplot('sales', by='platform', figsize=(12,7))\n",
    "plt.ylim(0,3) # Ограничиваем ось."
   ]
  },
  {
   "cell_type": "markdown",
   "id": "b5fb3682",
   "metadata": {},
   "source": [
    "По трем графикам можно сделать вывод, что самая **популярная платформа - это PS4**, так как у 3DS основная масса продаж находится в границах до 1 млн проданных копий, а у XOne до 1,5 млн и выбросы не привышают 7 млн. У PS4 продажи, с основном, доходят 2 млн, а выбросы и до 14 млн. \n",
    "\n",
    "Нижняя черта означает минимум, далее идет первый квартиль - т.е. число, которое больше 25% всей выборки, затем медиана - число, которое лежит ровно по середине значений, далее третий квартиль - число, которое больше 75% всей выборки, и последняя черта - максимум. Остальное выбросы, редкие значения."
   ]
  },
  {
   "cell_type": "markdown",
   "id": "a2cd5540",
   "metadata": {},
   "source": [
    "Рассмотрим именно эту популярную платформу PS4 для исследования **зависимости отзывов пользователей и критиков на продажи**"
   ]
  },
  {
   "cell_type": "code",
   "execution_count": 34,
   "id": "cb0bfc68",
   "metadata": {
    "scrolled": true
   },
   "outputs": [
    {
     "data": {
      "text/html": [
       "<div>\n",
       "<style scoped>\n",
       "    .dataframe tbody tr th:only-of-type {\n",
       "        vertical-align: middle;\n",
       "    }\n",
       "\n",
       "    .dataframe tbody tr th {\n",
       "        vertical-align: top;\n",
       "    }\n",
       "\n",
       "    .dataframe thead th {\n",
       "        text-align: right;\n",
       "    }\n",
       "</style>\n",
       "<table border=\"1\" class=\"dataframe\">\n",
       "  <thead>\n",
       "    <tr style=\"text-align: right;\">\n",
       "      <th></th>\n",
       "      <th>name</th>\n",
       "      <th>platform</th>\n",
       "      <th>year_of_release</th>\n",
       "      <th>genre</th>\n",
       "      <th>na_sales</th>\n",
       "      <th>eu_sales</th>\n",
       "      <th>jp_sales</th>\n",
       "      <th>other_sales</th>\n",
       "      <th>critic_score</th>\n",
       "      <th>user_score</th>\n",
       "      <th>rating</th>\n",
       "      <th>sales</th>\n",
       "    </tr>\n",
       "  </thead>\n",
       "  <tbody>\n",
       "    <tr>\n",
       "      <td>31</td>\n",
       "      <td>Call of Duty: Black Ops 3</td>\n",
       "      <td>PS4</td>\n",
       "      <td>2015</td>\n",
       "      <td>Shooter</td>\n",
       "      <td>6.03</td>\n",
       "      <td>5.86</td>\n",
       "      <td>0.36</td>\n",
       "      <td>2.38</td>\n",
       "      <td>NaN</td>\n",
       "      <td>NaN</td>\n",
       "      <td>NaN</td>\n",
       "      <td>14.63</td>\n",
       "    </tr>\n",
       "    <tr>\n",
       "      <td>42</td>\n",
       "      <td>Grand Theft Auto V</td>\n",
       "      <td>PS4</td>\n",
       "      <td>2014</td>\n",
       "      <td>Action</td>\n",
       "      <td>3.96</td>\n",
       "      <td>6.31</td>\n",
       "      <td>0.38</td>\n",
       "      <td>1.97</td>\n",
       "      <td>97.0</td>\n",
       "      <td>8.3</td>\n",
       "      <td>M</td>\n",
       "      <td>12.62</td>\n",
       "    </tr>\n",
       "    <tr>\n",
       "      <td>77</td>\n",
       "      <td>FIFA 16</td>\n",
       "      <td>PS4</td>\n",
       "      <td>2015</td>\n",
       "      <td>Sports</td>\n",
       "      <td>1.12</td>\n",
       "      <td>6.12</td>\n",
       "      <td>0.06</td>\n",
       "      <td>1.28</td>\n",
       "      <td>82.0</td>\n",
       "      <td>4.3</td>\n",
       "      <td>E</td>\n",
       "      <td>8.58</td>\n",
       "    </tr>\n",
       "    <tr>\n",
       "      <td>87</td>\n",
       "      <td>Star Wars Battlefront (2015)</td>\n",
       "      <td>PS4</td>\n",
       "      <td>2015</td>\n",
       "      <td>Shooter</td>\n",
       "      <td>2.99</td>\n",
       "      <td>3.49</td>\n",
       "      <td>0.22</td>\n",
       "      <td>1.28</td>\n",
       "      <td>NaN</td>\n",
       "      <td>NaN</td>\n",
       "      <td>NaN</td>\n",
       "      <td>7.98</td>\n",
       "    </tr>\n",
       "    <tr>\n",
       "      <td>92</td>\n",
       "      <td>Call of Duty: Advanced Warfare</td>\n",
       "      <td>PS4</td>\n",
       "      <td>2014</td>\n",
       "      <td>Shooter</td>\n",
       "      <td>2.81</td>\n",
       "      <td>3.48</td>\n",
       "      <td>0.14</td>\n",
       "      <td>1.23</td>\n",
       "      <td>83.0</td>\n",
       "      <td>5.7</td>\n",
       "      <td>M</td>\n",
       "      <td>7.66</td>\n",
       "    </tr>\n",
       "    <tr>\n",
       "      <td>...</td>\n",
       "      <td>...</td>\n",
       "      <td>...</td>\n",
       "      <td>...</td>\n",
       "      <td>...</td>\n",
       "      <td>...</td>\n",
       "      <td>...</td>\n",
       "      <td>...</td>\n",
       "      <td>...</td>\n",
       "      <td>...</td>\n",
       "      <td>...</td>\n",
       "      <td>...</td>\n",
       "      <td>...</td>\n",
       "    </tr>\n",
       "    <tr>\n",
       "      <td>16500</td>\n",
       "      <td>Root Letter</td>\n",
       "      <td>PS4</td>\n",
       "      <td>2016</td>\n",
       "      <td>Adventure</td>\n",
       "      <td>0.00</td>\n",
       "      <td>0.00</td>\n",
       "      <td>0.01</td>\n",
       "      <td>0.00</td>\n",
       "      <td>69.0</td>\n",
       "      <td>7.5</td>\n",
       "      <td>NaN</td>\n",
       "      <td>0.01</td>\n",
       "    </tr>\n",
       "    <tr>\n",
       "      <td>16503</td>\n",
       "      <td>Shin Hayarigami 2</td>\n",
       "      <td>PS4</td>\n",
       "      <td>2016</td>\n",
       "      <td>Adventure</td>\n",
       "      <td>0.00</td>\n",
       "      <td>0.00</td>\n",
       "      <td>0.01</td>\n",
       "      <td>0.00</td>\n",
       "      <td>NaN</td>\n",
       "      <td>NaN</td>\n",
       "      <td>NaN</td>\n",
       "      <td>0.01</td>\n",
       "    </tr>\n",
       "    <tr>\n",
       "      <td>16526</td>\n",
       "      <td>Dungeons 2</td>\n",
       "      <td>PS4</td>\n",
       "      <td>2016</td>\n",
       "      <td>Role-Playing</td>\n",
       "      <td>0.01</td>\n",
       "      <td>0.00</td>\n",
       "      <td>0.00</td>\n",
       "      <td>0.00</td>\n",
       "      <td>61.0</td>\n",
       "      <td>7.9</td>\n",
       "      <td>T</td>\n",
       "      <td>0.01</td>\n",
       "    </tr>\n",
       "    <tr>\n",
       "      <td>16530</td>\n",
       "      <td>Carmageddon: Max Damage</td>\n",
       "      <td>PS4</td>\n",
       "      <td>2016</td>\n",
       "      <td>Action</td>\n",
       "      <td>0.01</td>\n",
       "      <td>0.00</td>\n",
       "      <td>0.00</td>\n",
       "      <td>0.00</td>\n",
       "      <td>51.0</td>\n",
       "      <td>5.5</td>\n",
       "      <td>M</td>\n",
       "      <td>0.01</td>\n",
       "    </tr>\n",
       "    <tr>\n",
       "      <td>16585</td>\n",
       "      <td>Farming 2017 - The Simulation</td>\n",
       "      <td>PS4</td>\n",
       "      <td>2016</td>\n",
       "      <td>Simulation</td>\n",
       "      <td>0.00</td>\n",
       "      <td>0.01</td>\n",
       "      <td>0.00</td>\n",
       "      <td>0.00</td>\n",
       "      <td>NaN</td>\n",
       "      <td>NaN</td>\n",
       "      <td>NaN</td>\n",
       "      <td>0.01</td>\n",
       "    </tr>\n",
       "  </tbody>\n",
       "</table>\n",
       "<p>392 rows × 12 columns</p>\n",
       "</div>"
      ],
      "text/plain": [
       "                                 name platform  year_of_release         genre  \\\n",
       "31          Call of Duty: Black Ops 3      PS4             2015       Shooter   \n",
       "42                 Grand Theft Auto V      PS4             2014        Action   \n",
       "77                            FIFA 16      PS4             2015        Sports   \n",
       "87       Star Wars Battlefront (2015)      PS4             2015       Shooter   \n",
       "92     Call of Duty: Advanced Warfare      PS4             2014       Shooter   \n",
       "...                               ...      ...              ...           ...   \n",
       "16500                     Root Letter      PS4             2016     Adventure   \n",
       "16503               Shin Hayarigami 2      PS4             2016     Adventure   \n",
       "16526                      Dungeons 2      PS4             2016  Role-Playing   \n",
       "16530         Carmageddon: Max Damage      PS4             2016        Action   \n",
       "16585   Farming 2017 - The Simulation      PS4             2016    Simulation   \n",
       "\n",
       "       na_sales  eu_sales  jp_sales  other_sales  critic_score user_score  \\\n",
       "31         6.03      5.86      0.36         2.38           NaN        NaN   \n",
       "42         3.96      6.31      0.38         1.97          97.0        8.3   \n",
       "77         1.12      6.12      0.06         1.28          82.0        4.3   \n",
       "87         2.99      3.49      0.22         1.28           NaN        NaN   \n",
       "92         2.81      3.48      0.14         1.23          83.0        5.7   \n",
       "...         ...       ...       ...          ...           ...        ...   \n",
       "16500      0.00      0.00      0.01         0.00          69.0        7.5   \n",
       "16503      0.00      0.00      0.01         0.00           NaN        NaN   \n",
       "16526      0.01      0.00      0.00         0.00          61.0        7.9   \n",
       "16530      0.01      0.00      0.00         0.00          51.0        5.5   \n",
       "16585      0.00      0.01      0.00         0.00           NaN        NaN   \n",
       "\n",
       "      rating  sales  \n",
       "31       NaN  14.63  \n",
       "42         M  12.62  \n",
       "77         E   8.58  \n",
       "87       NaN   7.98  \n",
       "92         M   7.66  \n",
       "...      ...    ...  \n",
       "16500    NaN   0.01  \n",
       "16503    NaN   0.01  \n",
       "16526      T   0.01  \n",
       "16530      M   0.01  \n",
       "16585    NaN   0.01  \n",
       "\n",
       "[392 rows x 12 columns]"
      ]
     },
     "metadata": {},
     "output_type": "display_data"
    }
   ],
   "source": [
    "display(ps4_2012_2016)"
   ]
  },
  {
   "cell_type": "markdown",
   "id": "b3c4e1f6",
   "metadata": {},
   "source": [
    "**critic_score**"
   ]
  },
  {
   "cell_type": "code",
   "execution_count": 35,
   "id": "54269f4f",
   "metadata": {
    "scrolled": true
   },
   "outputs": [
    {
     "data": {
      "text/html": [
       "<div>\n",
       "<style scoped>\n",
       "    .dataframe tbody tr th:only-of-type {\n",
       "        vertical-align: middle;\n",
       "    }\n",
       "\n",
       "    .dataframe tbody tr th {\n",
       "        vertical-align: top;\n",
       "    }\n",
       "\n",
       "    .dataframe thead th {\n",
       "        text-align: right;\n",
       "    }\n",
       "</style>\n",
       "<table border=\"1\" class=\"dataframe\">\n",
       "  <thead>\n",
       "    <tr style=\"text-align: right;\">\n",
       "      <th>year_of_release</th>\n",
       "      <th>critic_score</th>\n",
       "      <th>2013</th>\n",
       "      <th>2014</th>\n",
       "      <th>2015</th>\n",
       "      <th>2016</th>\n",
       "    </tr>\n",
       "  </thead>\n",
       "  <tbody>\n",
       "    <tr>\n",
       "      <td>0</td>\n",
       "      <td>19.0</td>\n",
       "      <td>NaN</td>\n",
       "      <td>NaN</td>\n",
       "      <td>0.12</td>\n",
       "      <td>NaN</td>\n",
       "    </tr>\n",
       "    <tr>\n",
       "      <td>1</td>\n",
       "      <td>25.0</td>\n",
       "      <td>NaN</td>\n",
       "      <td>NaN</td>\n",
       "      <td>0.06</td>\n",
       "      <td>NaN</td>\n",
       "    </tr>\n",
       "    <tr>\n",
       "      <td>2</td>\n",
       "      <td>31.0</td>\n",
       "      <td>NaN</td>\n",
       "      <td>NaN</td>\n",
       "      <td>NaN</td>\n",
       "      <td>0.02</td>\n",
       "    </tr>\n",
       "    <tr>\n",
       "      <td>3</td>\n",
       "      <td>32.0</td>\n",
       "      <td>NaN</td>\n",
       "      <td>NaN</td>\n",
       "      <td>0.20</td>\n",
       "      <td>NaN</td>\n",
       "    </tr>\n",
       "    <tr>\n",
       "      <td>4</td>\n",
       "      <td>38.0</td>\n",
       "      <td>0.16</td>\n",
       "      <td>NaN</td>\n",
       "      <td>NaN</td>\n",
       "      <td>NaN</td>\n",
       "    </tr>\n",
       "    <tr>\n",
       "      <td>5</td>\n",
       "      <td>42.0</td>\n",
       "      <td>NaN</td>\n",
       "      <td>NaN</td>\n",
       "      <td>0.06</td>\n",
       "      <td>0.01</td>\n",
       "    </tr>\n",
       "    <tr>\n",
       "      <td>6</td>\n",
       "      <td>43.0</td>\n",
       "      <td>0.24</td>\n",
       "      <td>NaN</td>\n",
       "      <td>NaN</td>\n",
       "      <td>0.05</td>\n",
       "    </tr>\n",
       "    <tr>\n",
       "      <td>7</td>\n",
       "      <td>44.0</td>\n",
       "      <td>NaN</td>\n",
       "      <td>NaN</td>\n",
       "      <td>NaN</td>\n",
       "      <td>0.09</td>\n",
       "    </tr>\n",
       "    <tr>\n",
       "      <td>8</td>\n",
       "      <td>45.0</td>\n",
       "      <td>NaN</td>\n",
       "      <td>NaN</td>\n",
       "      <td>NaN</td>\n",
       "      <td>0.14</td>\n",
       "    </tr>\n",
       "    <tr>\n",
       "      <td>9</td>\n",
       "      <td>47.0</td>\n",
       "      <td>0.22</td>\n",
       "      <td>0.19</td>\n",
       "      <td>NaN</td>\n",
       "      <td>NaN</td>\n",
       "    </tr>\n",
       "    <tr>\n",
       "      <td>10</td>\n",
       "      <td>48.0</td>\n",
       "      <td>NaN</td>\n",
       "      <td>NaN</td>\n",
       "      <td>NaN</td>\n",
       "      <td>0.36</td>\n",
       "    </tr>\n",
       "    <tr>\n",
       "      <td>11</td>\n",
       "      <td>49.0</td>\n",
       "      <td>NaN</td>\n",
       "      <td>NaN</td>\n",
       "      <td>NaN</td>\n",
       "      <td>0.01</td>\n",
       "    </tr>\n",
       "    <tr>\n",
       "      <td>12</td>\n",
       "      <td>51.0</td>\n",
       "      <td>NaN</td>\n",
       "      <td>NaN</td>\n",
       "      <td>NaN</td>\n",
       "      <td>0.01</td>\n",
       "    </tr>\n",
       "    <tr>\n",
       "      <td>13</td>\n",
       "      <td>52.0</td>\n",
       "      <td>NaN</td>\n",
       "      <td>NaN</td>\n",
       "      <td>NaN</td>\n",
       "      <td>0.07</td>\n",
       "    </tr>\n",
       "    <tr>\n",
       "      <td>14</td>\n",
       "      <td>53.0</td>\n",
       "      <td>NaN</td>\n",
       "      <td>0.33</td>\n",
       "      <td>NaN</td>\n",
       "      <td>NaN</td>\n",
       "    </tr>\n",
       "    <tr>\n",
       "      <td>15</td>\n",
       "      <td>54.0</td>\n",
       "      <td>1.73</td>\n",
       "      <td>NaN</td>\n",
       "      <td>NaN</td>\n",
       "      <td>NaN</td>\n",
       "    </tr>\n",
       "    <tr>\n",
       "      <td>16</td>\n",
       "      <td>55.0</td>\n",
       "      <td>NaN</td>\n",
       "      <td>NaN</td>\n",
       "      <td>NaN</td>\n",
       "      <td>0.02</td>\n",
       "    </tr>\n",
       "    <tr>\n",
       "      <td>17</td>\n",
       "      <td>57.0</td>\n",
       "      <td>NaN</td>\n",
       "      <td>0.25</td>\n",
       "      <td>NaN</td>\n",
       "      <td>0.02</td>\n",
       "    </tr>\n",
       "    <tr>\n",
       "      <td>18</td>\n",
       "      <td>58.0</td>\n",
       "      <td>NaN</td>\n",
       "      <td>0.02</td>\n",
       "      <td>0.17</td>\n",
       "      <td>NaN</td>\n",
       "    </tr>\n",
       "    <tr>\n",
       "      <td>19</td>\n",
       "      <td>59.0</td>\n",
       "      <td>NaN</td>\n",
       "      <td>0.56</td>\n",
       "      <td>0.37</td>\n",
       "      <td>0.26</td>\n",
       "    </tr>\n",
       "    <tr>\n",
       "      <td>20</td>\n",
       "      <td>60.0</td>\n",
       "      <td>NaN</td>\n",
       "      <td>0.60</td>\n",
       "      <td>0.30</td>\n",
       "      <td>0.14</td>\n",
       "    </tr>\n",
       "    <tr>\n",
       "      <td>21</td>\n",
       "      <td>61.0</td>\n",
       "      <td>NaN</td>\n",
       "      <td>1.72</td>\n",
       "      <td>0.54</td>\n",
       "      <td>0.01</td>\n",
       "    </tr>\n",
       "    <tr>\n",
       "      <td>22</td>\n",
       "      <td>62.0</td>\n",
       "      <td>NaN</td>\n",
       "      <td>1.15</td>\n",
       "      <td>0.29</td>\n",
       "      <td>0.02</td>\n",
       "    </tr>\n",
       "    <tr>\n",
       "      <td>23</td>\n",
       "      <td>63.0</td>\n",
       "      <td>NaN</td>\n",
       "      <td>0.19</td>\n",
       "      <td>2.04</td>\n",
       "      <td>0.13</td>\n",
       "    </tr>\n",
       "    <tr>\n",
       "      <td>24</td>\n",
       "      <td>64.0</td>\n",
       "      <td>NaN</td>\n",
       "      <td>NaN</td>\n",
       "      <td>0.19</td>\n",
       "      <td>0.05</td>\n",
       "    </tr>\n",
       "    <tr>\n",
       "      <td>25</td>\n",
       "      <td>65.0</td>\n",
       "      <td>NaN</td>\n",
       "      <td>NaN</td>\n",
       "      <td>0.67</td>\n",
       "      <td>0.11</td>\n",
       "    </tr>\n",
       "    <tr>\n",
       "      <td>26</td>\n",
       "      <td>66.0</td>\n",
       "      <td>NaN</td>\n",
       "      <td>0.08</td>\n",
       "      <td>0.40</td>\n",
       "      <td>0.47</td>\n",
       "    </tr>\n",
       "    <tr>\n",
       "      <td>27</td>\n",
       "      <td>67.0</td>\n",
       "      <td>NaN</td>\n",
       "      <td>0.69</td>\n",
       "      <td>0.24</td>\n",
       "      <td>0.13</td>\n",
       "    </tr>\n",
       "    <tr>\n",
       "      <td>28</td>\n",
       "      <td>68.0</td>\n",
       "      <td>NaN</td>\n",
       "      <td>0.52</td>\n",
       "      <td>NaN</td>\n",
       "      <td>2.07</td>\n",
       "    </tr>\n",
       "    <tr>\n",
       "      <td>29</td>\n",
       "      <td>69.0</td>\n",
       "      <td>NaN</td>\n",
       "      <td>NaN</td>\n",
       "      <td>1.37</td>\n",
       "      <td>1.64</td>\n",
       "    </tr>\n",
       "    <tr>\n",
       "      <td>30</td>\n",
       "      <td>70.0</td>\n",
       "      <td>NaN</td>\n",
       "      <td>5.01</td>\n",
       "      <td>1.01</td>\n",
       "      <td>0.01</td>\n",
       "    </tr>\n",
       "    <tr>\n",
       "      <td>31</td>\n",
       "      <td>71.0</td>\n",
       "      <td>NaN</td>\n",
       "      <td>2.74</td>\n",
       "      <td>0.26</td>\n",
       "      <td>2.52</td>\n",
       "    </tr>\n",
       "    <tr>\n",
       "      <td>32</td>\n",
       "      <td>72.0</td>\n",
       "      <td>NaN</td>\n",
       "      <td>0.99</td>\n",
       "      <td>0.47</td>\n",
       "      <td>1.03</td>\n",
       "    </tr>\n",
       "    <tr>\n",
       "      <td>33</td>\n",
       "      <td>73.0</td>\n",
       "      <td>2.69</td>\n",
       "      <td>1.13</td>\n",
       "      <td>7.95</td>\n",
       "      <td>1.30</td>\n",
       "    </tr>\n",
       "    <tr>\n",
       "      <td>34</td>\n",
       "      <td>74.0</td>\n",
       "      <td>0.91</td>\n",
       "      <td>0.08</td>\n",
       "      <td>2.72</td>\n",
       "      <td>NaN</td>\n",
       "    </tr>\n",
       "    <tr>\n",
       "      <td>35</td>\n",
       "      <td>75.0</td>\n",
       "      <td>0.42</td>\n",
       "      <td>3.67</td>\n",
       "      <td>0.66</td>\n",
       "      <td>0.50</td>\n",
       "    </tr>\n",
       "    <tr>\n",
       "      <td>36</td>\n",
       "      <td>76.0</td>\n",
       "      <td>NaN</td>\n",
       "      <td>5.88</td>\n",
       "      <td>5.23</td>\n",
       "      <td>2.31</td>\n",
       "    </tr>\n",
       "    <tr>\n",
       "      <td>37</td>\n",
       "      <td>77.0</td>\n",
       "      <td>NaN</td>\n",
       "      <td>NaN</td>\n",
       "      <td>0.23</td>\n",
       "      <td>5.84</td>\n",
       "    </tr>\n",
       "    <tr>\n",
       "      <td>38</td>\n",
       "      <td>78.0</td>\n",
       "      <td>3.83</td>\n",
       "      <td>0.44</td>\n",
       "      <td>1.08</td>\n",
       "      <td>1.15</td>\n",
       "    </tr>\n",
       "    <tr>\n",
       "      <td>39</td>\n",
       "      <td>79.0</td>\n",
       "      <td>0.38</td>\n",
       "      <td>5.00</td>\n",
       "      <td>1.66</td>\n",
       "      <td>2.35</td>\n",
       "    </tr>\n",
       "    <tr>\n",
       "      <td>40</td>\n",
       "      <td>80.0</td>\n",
       "      <td>1.98</td>\n",
       "      <td>6.88</td>\n",
       "      <td>3.07</td>\n",
       "      <td>3.97</td>\n",
       "    </tr>\n",
       "    <tr>\n",
       "      <td>41</td>\n",
       "      <td>81.0</td>\n",
       "      <td>NaN</td>\n",
       "      <td>2.19</td>\n",
       "      <td>0.74</td>\n",
       "      <td>0.83</td>\n",
       "    </tr>\n",
       "    <tr>\n",
       "      <td>42</td>\n",
       "      <td>82.0</td>\n",
       "      <td>NaN</td>\n",
       "      <td>6.88</td>\n",
       "      <td>9.46</td>\n",
       "      <td>1.76</td>\n",
       "    </tr>\n",
       "    <tr>\n",
       "      <td>43</td>\n",
       "      <td>83.0</td>\n",
       "      <td>4.48</td>\n",
       "      <td>11.11</td>\n",
       "      <td>7.10</td>\n",
       "      <td>1.13</td>\n",
       "    </tr>\n",
       "    <tr>\n",
       "      <td>44</td>\n",
       "      <td>84.0</td>\n",
       "      <td>NaN</td>\n",
       "      <td>2.96</td>\n",
       "      <td>NaN</td>\n",
       "      <td>0.75</td>\n",
       "    </tr>\n",
       "    <tr>\n",
       "      <td>45</td>\n",
       "      <td>85.0</td>\n",
       "      <td>5.02</td>\n",
       "      <td>4.04</td>\n",
       "      <td>NaN</td>\n",
       "      <td>9.24</td>\n",
       "    </tr>\n",
       "    <tr>\n",
       "      <td>46</td>\n",
       "      <td>86.0</td>\n",
       "      <td>NaN</td>\n",
       "      <td>NaN</td>\n",
       "      <td>6.67</td>\n",
       "      <td>NaN</td>\n",
       "    </tr>\n",
       "    <tr>\n",
       "      <td>47</td>\n",
       "      <td>87.0</td>\n",
       "      <td>3.01</td>\n",
       "      <td>NaN</td>\n",
       "      <td>15.78</td>\n",
       "      <td>0.20</td>\n",
       "    </tr>\n",
       "    <tr>\n",
       "      <td>48</td>\n",
       "      <td>88.0</td>\n",
       "      <td>NaN</td>\n",
       "      <td>NaN</td>\n",
       "      <td>0.02</td>\n",
       "      <td>6.73</td>\n",
       "    </tr>\n",
       "    <tr>\n",
       "      <td>49</td>\n",
       "      <td>89.0</td>\n",
       "      <td>NaN</td>\n",
       "      <td>2.01</td>\n",
       "      <td>NaN</td>\n",
       "      <td>2.42</td>\n",
       "    </tr>\n",
       "    <tr>\n",
       "      <td>50</td>\n",
       "      <td>90.0</td>\n",
       "      <td>NaN</td>\n",
       "      <td>1.02</td>\n",
       "      <td>0.07</td>\n",
       "      <td>2.14</td>\n",
       "    </tr>\n",
       "    <tr>\n",
       "      <td>51</td>\n",
       "      <td>92.0</td>\n",
       "      <td>NaN</td>\n",
       "      <td>NaN</td>\n",
       "      <td>6.45</td>\n",
       "      <td>NaN</td>\n",
       "    </tr>\n",
       "    <tr>\n",
       "      <td>52</td>\n",
       "      <td>93.0</td>\n",
       "      <td>NaN</td>\n",
       "      <td>NaN</td>\n",
       "      <td>3.42</td>\n",
       "      <td>5.39</td>\n",
       "    </tr>\n",
       "    <tr>\n",
       "      <td>53</td>\n",
       "      <td>97.0</td>\n",
       "      <td>NaN</td>\n",
       "      <td>12.62</td>\n",
       "      <td>NaN</td>\n",
       "      <td>NaN</td>\n",
       "    </tr>\n",
       "  </tbody>\n",
       "</table>\n",
       "</div>"
      ],
      "text/plain": [
       "year_of_release  critic_score  2013   2014   2015  2016\n",
       "0                        19.0   NaN    NaN   0.12   NaN\n",
       "1                        25.0   NaN    NaN   0.06   NaN\n",
       "2                        31.0   NaN    NaN    NaN  0.02\n",
       "3                        32.0   NaN    NaN   0.20   NaN\n",
       "4                        38.0  0.16    NaN    NaN   NaN\n",
       "5                        42.0   NaN    NaN   0.06  0.01\n",
       "6                        43.0  0.24    NaN    NaN  0.05\n",
       "7                        44.0   NaN    NaN    NaN  0.09\n",
       "8                        45.0   NaN    NaN    NaN  0.14\n",
       "9                        47.0  0.22   0.19    NaN   NaN\n",
       "10                       48.0   NaN    NaN    NaN  0.36\n",
       "11                       49.0   NaN    NaN    NaN  0.01\n",
       "12                       51.0   NaN    NaN    NaN  0.01\n",
       "13                       52.0   NaN    NaN    NaN  0.07\n",
       "14                       53.0   NaN   0.33    NaN   NaN\n",
       "15                       54.0  1.73    NaN    NaN   NaN\n",
       "16                       55.0   NaN    NaN    NaN  0.02\n",
       "17                       57.0   NaN   0.25    NaN  0.02\n",
       "18                       58.0   NaN   0.02   0.17   NaN\n",
       "19                       59.0   NaN   0.56   0.37  0.26\n",
       "20                       60.0   NaN   0.60   0.30  0.14\n",
       "21                       61.0   NaN   1.72   0.54  0.01\n",
       "22                       62.0   NaN   1.15   0.29  0.02\n",
       "23                       63.0   NaN   0.19   2.04  0.13\n",
       "24                       64.0   NaN    NaN   0.19  0.05\n",
       "25                       65.0   NaN    NaN   0.67  0.11\n",
       "26                       66.0   NaN   0.08   0.40  0.47\n",
       "27                       67.0   NaN   0.69   0.24  0.13\n",
       "28                       68.0   NaN   0.52    NaN  2.07\n",
       "29                       69.0   NaN    NaN   1.37  1.64\n",
       "30                       70.0   NaN   5.01   1.01  0.01\n",
       "31                       71.0   NaN   2.74   0.26  2.52\n",
       "32                       72.0   NaN   0.99   0.47  1.03\n",
       "33                       73.0  2.69   1.13   7.95  1.30\n",
       "34                       74.0  0.91   0.08   2.72   NaN\n",
       "35                       75.0  0.42   3.67   0.66  0.50\n",
       "36                       76.0   NaN   5.88   5.23  2.31\n",
       "37                       77.0   NaN    NaN   0.23  5.84\n",
       "38                       78.0  3.83   0.44   1.08  1.15\n",
       "39                       79.0  0.38   5.00   1.66  2.35\n",
       "40                       80.0  1.98   6.88   3.07  3.97\n",
       "41                       81.0   NaN   2.19   0.74  0.83\n",
       "42                       82.0   NaN   6.88   9.46  1.76\n",
       "43                       83.0  4.48  11.11   7.10  1.13\n",
       "44                       84.0   NaN   2.96    NaN  0.75\n",
       "45                       85.0  5.02   4.04    NaN  9.24\n",
       "46                       86.0   NaN    NaN   6.67   NaN\n",
       "47                       87.0  3.01    NaN  15.78  0.20\n",
       "48                       88.0   NaN    NaN   0.02  6.73\n",
       "49                       89.0   NaN   2.01    NaN  2.42\n",
       "50                       90.0   NaN   1.02   0.07  2.14\n",
       "51                       92.0   NaN    NaN   6.45   NaN\n",
       "52                       93.0   NaN    NaN   3.42  5.39\n",
       "53                       97.0   NaN  12.62    NaN   NaN"
      ]
     },
     "metadata": {},
     "output_type": "display_data"
    }
   ],
   "source": [
    "pivot_ps4_2012_2016 = ps4_2012_2016.pivot_table(index='critic_score', columns='year_of_release', values='sales', aggfunc='sum')\n",
    "pivot_ps4_2012_2016 = pivot_ps4_2012_2016.reset_index()\n",
    "\n",
    "display(pivot_ps4_2012_2016)"
   ]
  },
  {
   "cell_type": "code",
   "execution_count": 36,
   "id": "022b8524",
   "metadata": {},
   "outputs": [],
   "source": [
    "# замечаем, что ps4 еще не существовала в 2012 году, следовательно для удобства меняем название переменной\n",
    "pivot_ps4_2013_2016_critic_score = pivot_ps4_2012_2016"
   ]
  },
  {
   "cell_type": "code",
   "execution_count": 37,
   "id": "d0fc856c",
   "metadata": {
    "scrolled": false
   },
   "outputs": [
    {
     "data": {
      "image/png": "[encoded data removed]",
      "text/plain": [
       "<Figure size 432x288 with 1 Axes>"
      ]
     },
     "metadata": {
      "needs_background": "light"
     },
     "output_type": "display_data"
    }
   ],
   "source": [
    "pivot_ps4_2013_2016_critic_score.columns\n",
    "pivot_ps4_2013_2016_critic_score.plot(x='critic_score', y = [2013, 2014, 2015, 2016], style='o')\n",
    "plt.ylabel('sales')\n",
    "plt.show()"
   ]
  },
  {
   "cell_type": "code",
   "execution_count": 38,
   "id": "508b7ba4",
   "metadata": {
    "scrolled": false
   },
   "outputs": [
    {
     "name": "stdout",
     "output_type": "stream",
     "text": [
      "2013: 0.6612951140208149\n",
      "2014: 0.6334137886453651\n",
      "2015: 0.4520924923861803\n",
      "2016: 0.595798890588132\n"
     ]
    },
    {
     "data": {
      "image/png": "[encoded data removed]",
      "text/plain": [
       "<Figure size 432x288 with 1 Axes>"
      ]
     },
     "metadata": {
      "needs_background": "light"
     },
     "output_type": "display_data"
    },
    {
     "data": {
      "image/png": "[encoded data removed]",
      "text/plain": [
       "<Figure size 432x288 with 1 Axes>"
      ]
     },
     "metadata": {
      "needs_background": "light"
     },
     "output_type": "display_data"
    },
    {
     "data": {
      "image/png": "[encoded data removed]",
      "text/plain": [
       "<Figure size 432x288 with 1 Axes>"
      ]
     },
     "metadata": {
      "needs_background": "light"
     },
     "output_type": "display_data"
    },
    {
     "data": {
      "image/png": "[encoded data removed]",
      "text/plain": [
       "<Figure size 432x288 with 1 Axes>"
      ]
     },
     "metadata": {
      "needs_background": "light"
     },
     "output_type": "display_data"
    }
   ],
   "source": [
    "pivot_ps4_2013_2016_critic_score.plot(x='critic_score', y=2013, kind='scatter')\n",
    "pivot_ps4_2013_2016_critic_score.plot(x='critic_score', y=2014, kind='scatter')\n",
    "pivot_ps4_2013_2016_critic_score.plot(x='critic_score', y=2015, kind='scatter')\n",
    "pivot_ps4_2013_2016_critic_score.plot(x='critic_score', y=2016, kind='scatter')\n",
    "print('2013:', pivot_ps4_2013_2016_critic_score['critic_score'].corr(pivot_ps4_2013_2016_critic_score[2013]))\n",
    "print('2014:', pivot_ps4_2013_2016_critic_score['critic_score'].corr(pivot_ps4_2013_2016_critic_score[2014]))\n",
    "print('2015:', pivot_ps4_2013_2016_critic_score['critic_score'].corr(pivot_ps4_2013_2016_critic_score[2015]))\n",
    "print('2016:', pivot_ps4_2013_2016_critic_score['critic_score'].corr(pivot_ps4_2013_2016_critic_score[2016]))"
   ]
  },
  {
   "cell_type": "markdown",
   "id": "73a054e3",
   "metadata": {},
   "source": [
    "Уровни зависимости продаж от *оценки критиков* по четырем годам различаются, но 2013, 2014 и 2016 года показывают слабую зависимость. Во всех представленных годах при оценке критиков выше 65 баллов продажи выше."
   ]
  },
  {
   "cell_type": "markdown",
   "id": "98a9129a",
   "metadata": {},
   "source": [
    "**user_score**"
   ]
  },
  {
   "cell_type": "code",
   "execution_count": 39,
   "id": "8f27d543",
   "metadata": {
    "scrolled": true
   },
   "outputs": [
    {
     "data": {
      "text/html": [
       "<div>\n",
       "<style scoped>\n",
       "    .dataframe tbody tr th:only-of-type {\n",
       "        vertical-align: middle;\n",
       "    }\n",
       "\n",
       "    .dataframe tbody tr th {\n",
       "        vertical-align: top;\n",
       "    }\n",
       "\n",
       "    .dataframe thead th {\n",
       "        text-align: right;\n",
       "    }\n",
       "</style>\n",
       "<table border=\"1\" class=\"dataframe\">\n",
       "  <thead>\n",
       "    <tr style=\"text-align: right;\">\n",
       "      <th>year_of_release</th>\n",
       "      <th>user_score</th>\n",
       "      <th>2013</th>\n",
       "      <th>2014</th>\n",
       "      <th>2015</th>\n",
       "      <th>2016</th>\n",
       "    </tr>\n",
       "  </thead>\n",
       "  <tbody>\n",
       "    <tr>\n",
       "      <td>0</td>\n",
       "      <td>1.5</td>\n",
       "      <td>NaN</td>\n",
       "      <td>NaN</td>\n",
       "      <td>0.20</td>\n",
       "      <td>NaN</td>\n",
       "    </tr>\n",
       "    <tr>\n",
       "      <td>1</td>\n",
       "      <td>1.9</td>\n",
       "      <td>NaN</td>\n",
       "      <td>NaN</td>\n",
       "      <td>0.06</td>\n",
       "      <td>NaN</td>\n",
       "    </tr>\n",
       "    <tr>\n",
       "      <td>2</td>\n",
       "      <td>2</td>\n",
       "      <td>0.22</td>\n",
       "      <td>NaN</td>\n",
       "      <td>NaN</td>\n",
       "      <td>0.01</td>\n",
       "    </tr>\n",
       "    <tr>\n",
       "      <td>3</td>\n",
       "      <td>2.3</td>\n",
       "      <td>NaN</td>\n",
       "      <td>NaN</td>\n",
       "      <td>NaN</td>\n",
       "      <td>0.01</td>\n",
       "    </tr>\n",
       "    <tr>\n",
       "      <td>4</td>\n",
       "      <td>2.7</td>\n",
       "      <td>0.24</td>\n",
       "      <td>NaN</td>\n",
       "      <td>NaN</td>\n",
       "      <td>NaN</td>\n",
       "    </tr>\n",
       "    <tr>\n",
       "      <td>5</td>\n",
       "      <td>2.9</td>\n",
       "      <td>0.16</td>\n",
       "      <td>NaN</td>\n",
       "      <td>NaN</td>\n",
       "      <td>NaN</td>\n",
       "    </tr>\n",
       "    <tr>\n",
       "      <td>6</td>\n",
       "      <td>3</td>\n",
       "      <td>NaN</td>\n",
       "      <td>NaN</td>\n",
       "      <td>0.06</td>\n",
       "      <td>NaN</td>\n",
       "    </tr>\n",
       "    <tr>\n",
       "      <td>7</td>\n",
       "      <td>3.3</td>\n",
       "      <td>NaN</td>\n",
       "      <td>NaN</td>\n",
       "      <td>0.30</td>\n",
       "      <td>NaN</td>\n",
       "    </tr>\n",
       "    <tr>\n",
       "      <td>8</td>\n",
       "      <td>3.4</td>\n",
       "      <td>NaN</td>\n",
       "      <td>NaN</td>\n",
       "      <td>0.12</td>\n",
       "      <td>5.37</td>\n",
       "    </tr>\n",
       "    <tr>\n",
       "      <td>9</td>\n",
       "      <td>3.5</td>\n",
       "      <td>NaN</td>\n",
       "      <td>NaN</td>\n",
       "      <td>NaN</td>\n",
       "      <td>0.05</td>\n",
       "    </tr>\n",
       "    <tr>\n",
       "      <td>10</td>\n",
       "      <td>3.6</td>\n",
       "      <td>NaN</td>\n",
       "      <td>0.60</td>\n",
       "      <td>NaN</td>\n",
       "      <td>NaN</td>\n",
       "    </tr>\n",
       "    <tr>\n",
       "      <td>11</td>\n",
       "      <td>3.7</td>\n",
       "      <td>3.83</td>\n",
       "      <td>NaN</td>\n",
       "      <td>0.51</td>\n",
       "      <td>NaN</td>\n",
       "    </tr>\n",
       "    <tr>\n",
       "      <td>12</td>\n",
       "      <td>3.8</td>\n",
       "      <td>NaN</td>\n",
       "      <td>NaN</td>\n",
       "      <td>NaN</td>\n",
       "      <td>0.40</td>\n",
       "    </tr>\n",
       "    <tr>\n",
       "      <td>13</td>\n",
       "      <td>4.1</td>\n",
       "      <td>NaN</td>\n",
       "      <td>0.19</td>\n",
       "      <td>0.06</td>\n",
       "      <td>NaN</td>\n",
       "    </tr>\n",
       "    <tr>\n",
       "      <td>14</td>\n",
       "      <td>4.3</td>\n",
       "      <td>NaN</td>\n",
       "      <td>NaN</td>\n",
       "      <td>9.55</td>\n",
       "      <td>NaN</td>\n",
       "    </tr>\n",
       "    <tr>\n",
       "      <td>15</td>\n",
       "      <td>4.5</td>\n",
       "      <td>NaN</td>\n",
       "      <td>NaN</td>\n",
       "      <td>NaN</td>\n",
       "      <td>1.71</td>\n",
       "    </tr>\n",
       "    <tr>\n",
       "      <td>16</td>\n",
       "      <td>4.7</td>\n",
       "      <td>NaN</td>\n",
       "      <td>NaN</td>\n",
       "      <td>NaN</td>\n",
       "      <td>0.36</td>\n",
       "    </tr>\n",
       "    <tr>\n",
       "      <td>17</td>\n",
       "      <td>4.9</td>\n",
       "      <td>NaN</td>\n",
       "      <td>3.96</td>\n",
       "      <td>NaN</td>\n",
       "      <td>1.74</td>\n",
       "    </tr>\n",
       "    <tr>\n",
       "      <td>18</td>\n",
       "      <td>5</td>\n",
       "      <td>NaN</td>\n",
       "      <td>NaN</td>\n",
       "      <td>2.11</td>\n",
       "      <td>7.60</td>\n",
       "    </tr>\n",
       "    <tr>\n",
       "      <td>19</td>\n",
       "      <td>5.1</td>\n",
       "      <td>NaN</td>\n",
       "      <td>1.18</td>\n",
       "      <td>NaN</td>\n",
       "      <td>1.81</td>\n",
       "    </tr>\n",
       "    <tr>\n",
       "      <td>20</td>\n",
       "      <td>5.2</td>\n",
       "      <td>1.29</td>\n",
       "      <td>NaN</td>\n",
       "      <td>NaN</td>\n",
       "      <td>NaN</td>\n",
       "    </tr>\n",
       "    <tr>\n",
       "      <td>21</td>\n",
       "      <td>5.4</td>\n",
       "      <td>NaN</td>\n",
       "      <td>1.72</td>\n",
       "      <td>NaN</td>\n",
       "      <td>NaN</td>\n",
       "    </tr>\n",
       "    <tr>\n",
       "      <td>22</td>\n",
       "      <td>5.5</td>\n",
       "      <td>0.42</td>\n",
       "      <td>NaN</td>\n",
       "      <td>0.63</td>\n",
       "      <td>0.24</td>\n",
       "    </tr>\n",
       "    <tr>\n",
       "      <td>23</td>\n",
       "      <td>5.6</td>\n",
       "      <td>NaN</td>\n",
       "      <td>0.68</td>\n",
       "      <td>NaN</td>\n",
       "      <td>NaN</td>\n",
       "    </tr>\n",
       "    <tr>\n",
       "      <td>24</td>\n",
       "      <td>5.7</td>\n",
       "      <td>NaN</td>\n",
       "      <td>13.74</td>\n",
       "      <td>0.35</td>\n",
       "      <td>NaN</td>\n",
       "    </tr>\n",
       "    <tr>\n",
       "      <td>25</td>\n",
       "      <td>5.8</td>\n",
       "      <td>NaN</td>\n",
       "      <td>0.39</td>\n",
       "      <td>NaN</td>\n",
       "      <td>0.35</td>\n",
       "    </tr>\n",
       "    <tr>\n",
       "      <td>26</td>\n",
       "      <td>5.9</td>\n",
       "      <td>NaN</td>\n",
       "      <td>0.20</td>\n",
       "      <td>3.33</td>\n",
       "      <td>0.14</td>\n",
       "    </tr>\n",
       "    <tr>\n",
       "      <td>27</td>\n",
       "      <td>6</td>\n",
       "      <td>NaN</td>\n",
       "      <td>0.10</td>\n",
       "      <td>1.92</td>\n",
       "      <td>0.01</td>\n",
       "    </tr>\n",
       "    <tr>\n",
       "      <td>28</td>\n",
       "      <td>6.1</td>\n",
       "      <td>NaN</td>\n",
       "      <td>10.95</td>\n",
       "      <td>0.17</td>\n",
       "      <td>2.33</td>\n",
       "    </tr>\n",
       "    <tr>\n",
       "      <td>29</td>\n",
       "      <td>6.2</td>\n",
       "      <td>1.98</td>\n",
       "      <td>1.27</td>\n",
       "      <td>0.93</td>\n",
       "      <td>1.02</td>\n",
       "    </tr>\n",
       "    <tr>\n",
       "      <td>30</td>\n",
       "      <td>6.3</td>\n",
       "      <td>3.01</td>\n",
       "      <td>4.13</td>\n",
       "      <td>1.30</td>\n",
       "      <td>2.36</td>\n",
       "    </tr>\n",
       "    <tr>\n",
       "      <td>31</td>\n",
       "      <td>6.4</td>\n",
       "      <td>NaN</td>\n",
       "      <td>0.18</td>\n",
       "      <td>0.06</td>\n",
       "      <td>0.13</td>\n",
       "    </tr>\n",
       "    <tr>\n",
       "      <td>32</td>\n",
       "      <td>6.5</td>\n",
       "      <td>3.17</td>\n",
       "      <td>0.25</td>\n",
       "      <td>9.29</td>\n",
       "      <td>0.02</td>\n",
       "    </tr>\n",
       "    <tr>\n",
       "      <td>33</td>\n",
       "      <td>6.6</td>\n",
       "      <td>NaN</td>\n",
       "      <td>1.12</td>\n",
       "      <td>2.91</td>\n",
       "      <td>0.36</td>\n",
       "    </tr>\n",
       "    <tr>\n",
       "      <td>34</td>\n",
       "      <td>6.7</td>\n",
       "      <td>NaN</td>\n",
       "      <td>0.08</td>\n",
       "      <td>3.87</td>\n",
       "      <td>2.02</td>\n",
       "    </tr>\n",
       "    <tr>\n",
       "      <td>35</td>\n",
       "      <td>6.8</td>\n",
       "      <td>2.69</td>\n",
       "      <td>NaN</td>\n",
       "      <td>4.44</td>\n",
       "      <td>0.32</td>\n",
       "    </tr>\n",
       "    <tr>\n",
       "      <td>36</td>\n",
       "      <td>6.9</td>\n",
       "      <td>3.58</td>\n",
       "      <td>0.32</td>\n",
       "      <td>0.03</td>\n",
       "      <td>0.75</td>\n",
       "    </tr>\n",
       "    <tr>\n",
       "      <td>37</td>\n",
       "      <td>7</td>\n",
       "      <td>NaN</td>\n",
       "      <td>2.45</td>\n",
       "      <td>1.13</td>\n",
       "      <td>4.58</td>\n",
       "    </tr>\n",
       "    <tr>\n",
       "      <td>38</td>\n",
       "      <td>7.1</td>\n",
       "      <td>NaN</td>\n",
       "      <td>4.21</td>\n",
       "      <td>2.09</td>\n",
       "      <td>0.26</td>\n",
       "    </tr>\n",
       "    <tr>\n",
       "      <td>39</td>\n",
       "      <td>7.2</td>\n",
       "      <td>NaN</td>\n",
       "      <td>1.18</td>\n",
       "      <td>0.07</td>\n",
       "      <td>NaN</td>\n",
       "    </tr>\n",
       "    <tr>\n",
       "      <td>40</td>\n",
       "      <td>7.3</td>\n",
       "      <td>NaN</td>\n",
       "      <td>1.79</td>\n",
       "      <td>2.33</td>\n",
       "      <td>0.38</td>\n",
       "    </tr>\n",
       "    <tr>\n",
       "      <td>41</td>\n",
       "      <td>7.4</td>\n",
       "      <td>NaN</td>\n",
       "      <td>2.01</td>\n",
       "      <td>1.83</td>\n",
       "      <td>0.33</td>\n",
       "    </tr>\n",
       "    <tr>\n",
       "      <td>42</td>\n",
       "      <td>7.5</td>\n",
       "      <td>NaN</td>\n",
       "      <td>0.22</td>\n",
       "      <td>0.23</td>\n",
       "      <td>0.72</td>\n",
       "    </tr>\n",
       "    <tr>\n",
       "      <td>43</td>\n",
       "      <td>7.6</td>\n",
       "      <td>NaN</td>\n",
       "      <td>0.61</td>\n",
       "      <td>4.40</td>\n",
       "      <td>0.94</td>\n",
       "    </tr>\n",
       "    <tr>\n",
       "      <td>44</td>\n",
       "      <td>7.7</td>\n",
       "      <td>1.62</td>\n",
       "      <td>4.76</td>\n",
       "      <td>4.63</td>\n",
       "      <td>1.33</td>\n",
       "    </tr>\n",
       "    <tr>\n",
       "      <td>45</td>\n",
       "      <td>7.8</td>\n",
       "      <td>2.86</td>\n",
       "      <td>NaN</td>\n",
       "      <td>2.07</td>\n",
       "      <td>2.38</td>\n",
       "    </tr>\n",
       "    <tr>\n",
       "      <td>46</td>\n",
       "      <td>7.9</td>\n",
       "      <td>NaN</td>\n",
       "      <td>2.86</td>\n",
       "      <td>2.19</td>\n",
       "      <td>5.87</td>\n",
       "    </tr>\n",
       "    <tr>\n",
       "      <td>47</td>\n",
       "      <td>8</td>\n",
       "      <td>NaN</td>\n",
       "      <td>0.05</td>\n",
       "      <td>0.71</td>\n",
       "      <td>0.74</td>\n",
       "    </tr>\n",
       "    <tr>\n",
       "      <td>48</td>\n",
       "      <td>8.1</td>\n",
       "      <td>NaN</td>\n",
       "      <td>5.90</td>\n",
       "      <td>5.36</td>\n",
       "      <td>0.79</td>\n",
       "    </tr>\n",
       "    <tr>\n",
       "      <td>49</td>\n",
       "      <td>8.2</td>\n",
       "      <td>NaN</td>\n",
       "      <td>NaN</td>\n",
       "      <td>5.20</td>\n",
       "      <td>1.34</td>\n",
       "    </tr>\n",
       "    <tr>\n",
       "      <td>50</td>\n",
       "      <td>8.3</td>\n",
       "      <td>NaN</td>\n",
       "      <td>12.62</td>\n",
       "      <td>0.05</td>\n",
       "      <td>0.38</td>\n",
       "    </tr>\n",
       "    <tr>\n",
       "      <td>51</td>\n",
       "      <td>8.4</td>\n",
       "      <td>NaN</td>\n",
       "      <td>0.21</td>\n",
       "      <td>0.02</td>\n",
       "      <td>4.83</td>\n",
       "    </tr>\n",
       "    <tr>\n",
       "      <td>52</td>\n",
       "      <td>8.5</td>\n",
       "      <td>NaN</td>\n",
       "      <td>1.02</td>\n",
       "      <td>NaN</td>\n",
       "      <td>0.78</td>\n",
       "    </tr>\n",
       "    <tr>\n",
       "      <td>53</td>\n",
       "      <td>8.6</td>\n",
       "      <td>NaN</td>\n",
       "      <td>NaN</td>\n",
       "      <td>2.68</td>\n",
       "      <td>0.39</td>\n",
       "    </tr>\n",
       "    <tr>\n",
       "      <td>54</td>\n",
       "      <td>8.7</td>\n",
       "      <td>NaN</td>\n",
       "      <td>NaN</td>\n",
       "      <td>NaN</td>\n",
       "      <td>0.93</td>\n",
       "    </tr>\n",
       "    <tr>\n",
       "      <td>55</td>\n",
       "      <td>8.8</td>\n",
       "      <td>NaN</td>\n",
       "      <td>NaN</td>\n",
       "      <td>NaN</td>\n",
       "      <td>1.66</td>\n",
       "    </tr>\n",
       "    <tr>\n",
       "      <td>56</td>\n",
       "      <td>9.2</td>\n",
       "      <td>NaN</td>\n",
       "      <td>NaN</td>\n",
       "      <td>3.97</td>\n",
       "      <td>NaN</td>\n",
       "    </tr>\n",
       "    <tr>\n",
       "      <td>57</td>\n",
       "      <td>tbd</td>\n",
       "      <td>NaN</td>\n",
       "      <td>NaN</td>\n",
       "      <td>0.04</td>\n",
       "      <td>0.10</td>\n",
       "    </tr>\n",
       "  </tbody>\n",
       "</table>\n",
       "</div>"
      ],
      "text/plain": [
       "year_of_release user_score  2013   2014  2015  2016\n",
       "0                      1.5   NaN    NaN  0.20   NaN\n",
       "1                      1.9   NaN    NaN  0.06   NaN\n",
       "2                        2  0.22    NaN   NaN  0.01\n",
       "3                      2.3   NaN    NaN   NaN  0.01\n",
       "4                      2.7  0.24    NaN   NaN   NaN\n",
       "5                      2.9  0.16    NaN   NaN   NaN\n",
       "6                        3   NaN    NaN  0.06   NaN\n",
       "7                      3.3   NaN    NaN  0.30   NaN\n",
       "8                      3.4   NaN    NaN  0.12  5.37\n",
       "9                      3.5   NaN    NaN   NaN  0.05\n",
       "10                     3.6   NaN   0.60   NaN   NaN\n",
       "11                     3.7  3.83    NaN  0.51   NaN\n",
       "12                     3.8   NaN    NaN   NaN  0.40\n",
       "13                     4.1   NaN   0.19  0.06   NaN\n",
       "14                     4.3   NaN    NaN  9.55   NaN\n",
       "15                     4.5   NaN    NaN   NaN  1.71\n",
       "16                     4.7   NaN    NaN   NaN  0.36\n",
       "17                     4.9   NaN   3.96   NaN  1.74\n",
       "18                       5   NaN    NaN  2.11  7.60\n",
       "19                     5.1   NaN   1.18   NaN  1.81\n",
       "20                     5.2  1.29    NaN   NaN   NaN\n",
       "21                     5.4   NaN   1.72   NaN   NaN\n",
       "22                     5.5  0.42    NaN  0.63  0.24\n",
       "23                     5.6   NaN   0.68   NaN   NaN\n",
       "24                     5.7   NaN  13.74  0.35   NaN\n",
       "25                     5.8   NaN   0.39   NaN  0.35\n",
       "26                     5.9   NaN   0.20  3.33  0.14\n",
       "27                       6   NaN   0.10  1.92  0.01\n",
       "28                     6.1   NaN  10.95  0.17  2.33\n",
       "29                     6.2  1.98   1.27  0.93  1.02\n",
       "30                     6.3  3.01   4.13  1.30  2.36\n",
       "31                     6.4   NaN   0.18  0.06  0.13\n",
       "32                     6.5  3.17   0.25  9.29  0.02\n",
       "33                     6.6   NaN   1.12  2.91  0.36\n",
       "34                     6.7   NaN   0.08  3.87  2.02\n",
       "35                     6.8  2.69    NaN  4.44  0.32\n",
       "36                     6.9  3.58   0.32  0.03  0.75\n",
       "37                       7   NaN   2.45  1.13  4.58\n",
       "38                     7.1   NaN   4.21  2.09  0.26\n",
       "39                     7.2   NaN   1.18  0.07   NaN\n",
       "40                     7.3   NaN   1.79  2.33  0.38\n",
       "41                     7.4   NaN   2.01  1.83  0.33\n",
       "42                     7.5   NaN   0.22  0.23  0.72\n",
       "43                     7.6   NaN   0.61  4.40  0.94\n",
       "44                     7.7  1.62   4.76  4.63  1.33\n",
       "45                     7.8  2.86    NaN  2.07  2.38\n",
       "46                     7.9   NaN   2.86  2.19  5.87\n",
       "47                       8   NaN   0.05  0.71  0.74\n",
       "48                     8.1   NaN   5.90  5.36  0.79\n",
       "49                     8.2   NaN    NaN  5.20  1.34\n",
       "50                     8.3   NaN  12.62  0.05  0.38\n",
       "51                     8.4   NaN   0.21  0.02  4.83\n",
       "52                     8.5   NaN   1.02   NaN  0.78\n",
       "53                     8.6   NaN    NaN  2.68  0.39\n",
       "54                     8.7   NaN    NaN   NaN  0.93\n",
       "55                     8.8   NaN    NaN   NaN  1.66\n",
       "56                     9.2   NaN    NaN  3.97   NaN\n",
       "57                     tbd   NaN    NaN  0.04  0.10"
      ]
     },
     "metadata": {},
     "output_type": "display_data"
    }
   ],
   "source": [
    "pivot_ps4_2013_2016_user_score = ps4_2012_2016.pivot_table(index='user_score', columns='year_of_release', values='sales', aggfunc='sum')\n",
    "pivot_ps4_2013_2016_user_score = pivot_ps4_2013_2016_user_score.reset_index()\n",
    "\n",
    "display(pivot_ps4_2013_2016_user_score)"
   ]
  },
  {
   "cell_type": "code",
   "execution_count": 40,
   "id": "2c446714",
   "metadata": {
    "scrolled": true
   },
   "outputs": [
    {
     "data": {
      "image/png": "[encoded data removed]",
      "text/plain": [
       "<Figure size 432x288 with 1 Axes>"
      ]
     },
     "metadata": {
      "needs_background": "light"
     },
     "output_type": "display_data"
    }
   ],
   "source": [
    "pivot_ps4_2013_2016_user_score.columns\n",
    "pivot_ps4_2013_2016_user_score.plot(x='user_score', y = [2013, 2014, 2015, 2016], style='-')\n",
    "plt.ylabel('sales')\n",
    "plt.show()"
   ]
  },
  {
   "cell_type": "code",
   "execution_count": 41,
   "id": "43991d49",
   "metadata": {},
   "outputs": [
    {
     "name": "stdout",
     "output_type": "stream",
     "text": [
      "2013: 0.06665337937310097\n",
      "2014: 0.22603475891668423\n",
      "2015: 0.31516361307554924\n",
      "2016: 0.20370271545213206\n"
     ]
    },
    {
     "data": {
      "image/png": "[encoded data removed]",
      "text/plain": [
       "<Figure size 432x288 with 1 Axes>"
      ]
     },
     "metadata": {
      "needs_background": "light"
     },
     "output_type": "display_data"
    },
    {
     "data": {
      "image/png": "[encoded data removed]",
      "text/plain": [
       "<Figure size 432x288 with 1 Axes>"
      ]
     },
     "metadata": {
      "needs_background": "light"
     },
     "output_type": "display_data"
    },
    {
     "data": {
      "image/png": "[encoded data removed]",
      "text/plain": [
       "<Figure size 432x288 with 1 Axes>"
      ]
     },
     "metadata": {
      "needs_background": "light"
     },
     "output_type": "display_data"
    },
    {
     "data": {
      "image/png": "[encoded data removed]",
      "text/plain": [
       "<Figure size 432x288 with 1 Axes>"
      ]
     },
     "metadata": {
      "needs_background": "light"
     },
     "output_type": "display_data"
    }
   ],
   "source": [
    "pivot_ps4_2013_2016_user_score = pivot_ps4_2013_2016_user_score[pivot_ps4_2013_2016_user_score['user_score']!='tbd']\n",
    "# display(pivot_ps4_2013_2016_user_score)\n",
    "\n",
    "pivot_ps4_2013_2016_user_score = pivot_ps4_2013_2016_user_score.fillna(0)\n",
    "\n",
    "\n",
    "pivot_ps4_2013_2016_user_score.plot(x='user_score', y=2013, kind='scatter')\n",
    "pivot_ps4_2013_2016_user_score.plot(x='user_score', y=2014, kind='scatter')\n",
    "pivot_ps4_2013_2016_user_score.plot(x='user_score', y=2015, kind='scatter')\n",
    "pivot_ps4_2013_2016_user_score.plot(x='user_score', y=2016, kind='scatter')\n",
    "print('2013:', pivot_ps4_2013_2016_user_score['user_score'].corr(pivot_ps4_2013_2016_user_score[2013]))\n",
    "print('2014:', pivot_ps4_2013_2016_user_score['user_score'].corr(pivot_ps4_2013_2016_user_score[2014]))\n",
    "print('2015:', pivot_ps4_2013_2016_user_score['user_score'].corr(pivot_ps4_2013_2016_user_score[2015]))\n",
    "print('2016:', pivot_ps4_2013_2016_user_score['user_score'].corr(pivot_ps4_2013_2016_user_score[2016]))"
   ]
  },
  {
   "cell_type": "markdown",
   "id": "2299a160",
   "metadata": {},
   "source": [
    "Уровни зависимости продаж от *оценки пользователей* по четырем годам в целом очень низкие, кроме 2013 года, там уровень слабый. \n",
    "И уж если на самой популярной платформе крайне слабо зависят продажи от оценок критиков и пользователей, то и такой же **вывод** можно сделать и **для других платформ**"
   ]
  },
  {
   "cell_type": "markdown",
   "id": "04a4a897",
   "metadata": {},
   "source": [
    "Проверим игры по **жанрам** на этих платформах, какие из них самые востребованные, у каких самые высокие и самые низкие продажи "
   ]
  },
  {
   "cell_type": "code",
   "execution_count": 42,
   "id": "1c2866c1",
   "metadata": {},
   "outputs": [
    {
     "data": {
      "text/html": [
       "<div>\n",
       "<style scoped>\n",
       "    .dataframe tbody tr th:only-of-type {\n",
       "        vertical-align: middle;\n",
       "    }\n",
       "\n",
       "    .dataframe tbody tr th {\n",
       "        vertical-align: top;\n",
       "    }\n",
       "\n",
       "    .dataframe thead th {\n",
       "        text-align: right;\n",
       "    }\n",
       "</style>\n",
       "<table border=\"1\" class=\"dataframe\">\n",
       "  <thead>\n",
       "    <tr style=\"text-align: right;\">\n",
       "      <th></th>\n",
       "      <th>year_of_release</th>\n",
       "      <th>Action</th>\n",
       "      <th>Adventure</th>\n",
       "      <th>Fighting</th>\n",
       "      <th>Misc</th>\n",
       "      <th>Platform</th>\n",
       "      <th>Puzzle</th>\n",
       "      <th>Racing</th>\n",
       "      <th>Role-Playing</th>\n",
       "      <th>Shooter</th>\n",
       "      <th>Simulation</th>\n",
       "      <th>Sports</th>\n",
       "      <th>Strategy</th>\n",
       "    </tr>\n",
       "  </thead>\n",
       "  <tbody>\n",
       "    <tr>\n",
       "      <td>0</td>\n",
       "      <td>2012</td>\n",
       "      <td>119.25</td>\n",
       "      <td>5.79</td>\n",
       "      <td>9.18</td>\n",
       "      <td>22.22</td>\n",
       "      <td>18.37</td>\n",
       "      <td>1.78</td>\n",
       "      <td>13.61</td>\n",
       "      <td>46.94</td>\n",
       "      <td>71.76</td>\n",
       "      <td>13.52</td>\n",
       "      <td>30.42</td>\n",
       "      <td>3.26</td>\n",
       "    </tr>\n",
       "    <tr>\n",
       "      <td>1</td>\n",
       "      <td>2013</td>\n",
       "      <td>123.14</td>\n",
       "      <td>6.09</td>\n",
       "      <td>7.09</td>\n",
       "      <td>25.27</td>\n",
       "      <td>24.54</td>\n",
       "      <td>0.96</td>\n",
       "      <td>12.37</td>\n",
       "      <td>44.45</td>\n",
       "      <td>62.04</td>\n",
       "      <td>8.63</td>\n",
       "      <td>41.17</td>\n",
       "      <td>6.12</td>\n",
       "    </tr>\n",
       "    <tr>\n",
       "      <td>2</td>\n",
       "      <td>2014</td>\n",
       "      <td>97.23</td>\n",
       "      <td>5.57</td>\n",
       "      <td>15.85</td>\n",
       "      <td>23.38</td>\n",
       "      <td>8.81</td>\n",
       "      <td>1.49</td>\n",
       "      <td>16.66</td>\n",
       "      <td>45.62</td>\n",
       "      <td>65.21</td>\n",
       "      <td>5.58</td>\n",
       "      <td>45.15</td>\n",
       "      <td>0.98</td>\n",
       "    </tr>\n",
       "    <tr>\n",
       "      <td>3</td>\n",
       "      <td>2015</td>\n",
       "      <td>72.02</td>\n",
       "      <td>8.16</td>\n",
       "      <td>7.90</td>\n",
       "      <td>11.57</td>\n",
       "      <td>6.05</td>\n",
       "      <td>0.71</td>\n",
       "      <td>8.07</td>\n",
       "      <td>37.64</td>\n",
       "      <td>67.52</td>\n",
       "      <td>5.66</td>\n",
       "      <td>40.84</td>\n",
       "      <td>1.86</td>\n",
       "    </tr>\n",
       "    <tr>\n",
       "      <td>4</td>\n",
       "      <td>2016</td>\n",
       "      <td>30.15</td>\n",
       "      <td>3.82</td>\n",
       "      <td>4.47</td>\n",
       "      <td>2.60</td>\n",
       "      <td>3.23</td>\n",
       "      <td>0.01</td>\n",
       "      <td>2.79</td>\n",
       "      <td>18.18</td>\n",
       "      <td>38.22</td>\n",
       "      <td>1.89</td>\n",
       "      <td>23.49</td>\n",
       "      <td>1.17</td>\n",
       "    </tr>\n",
       "  </tbody>\n",
       "</table>\n",
       "</div>"
      ],
      "text/plain": [
       "   year_of_release  Action  Adventure  Fighting   Misc  Platform  Puzzle  \\\n",
       "0             2012  119.25       5.79      9.18  22.22     18.37    1.78   \n",
       "1             2013  123.14       6.09      7.09  25.27     24.54    0.96   \n",
       "2             2014   97.23       5.57     15.85  23.38      8.81    1.49   \n",
       "3             2015   72.02       8.16      7.90  11.57      6.05    0.71   \n",
       "4             2016   30.15       3.82      4.47   2.60      3.23    0.01   \n",
       "\n",
       "   Racing  Role-Playing  Shooter  Simulation  Sports  Strategy  \n",
       "0   13.61         46.94    71.76       13.52   30.42      3.26  \n",
       "1   12.37         44.45    62.04        8.63   41.17      6.12  \n",
       "2   16.66         45.62    65.21        5.58   45.15      0.98  \n",
       "3    8.07         37.64    67.52        5.66   40.84      1.86  \n",
       "4    2.79         18.18    38.22        1.89   23.49      1.17  "
      ]
     },
     "metadata": {},
     "output_type": "display_data"
    }
   ],
   "source": [
    "genre_max_sales = data_2012_2016.pivot_table(index='year_of_release', columns='genre', values='sales', aggfunc='sum')\n",
    "\n",
    "genre_max_sales.columns = ['_'.join(col) for col in genre_max_sales.columns]\n",
    "genre_max_sales = genre_max_sales.reset_index()\n",
    "genre_max_sales = genre_max_sales.rename(columns={'A_c_t_i_o_n':'Action',\n",
    "                                                  'A_d_v_e_n_t_u_r_e':'Adventure',\n",
    "                                                  'F_i_g_h_t_i_n_g':'Fighting',\n",
    "                                                  'M_i_s_c':'Misc',\n",
    "                                                  'P_l_a_t_f_o_r_m':'Platform',\n",
    "                                                  'P_u_z_z_l_e':'Puzzle',\n",
    "                                                  'R_a_c_i_n_g':'Racing',\n",
    "                                                  'R_o_l_e_-_P_l_a_y_i_n_g':'Role-Playing',\n",
    "                                                  'S_h_o_o_t_e_r':'Shooter',\n",
    "                                                  'S_i_m_u_l_a_t_i_o_n':'Simulation',\n",
    "                                                  'S_p_o_r_t_s':'Sports',\n",
    "                                                  'S_t_r_a_t_e_g_y':'Strategy',\n",
    "                                                 })\n",
    "display(genre_max_sales)"
   ]
  },
  {
   "cell_type": "code",
   "execution_count": 43,
   "id": "a7ee7ea9",
   "metadata": {},
   "outputs": [
    {
     "data": {
      "image/png": "[encoded data removed]",
      "text/plain": [
       "<Figure size 432x288 with 1 Axes>"
      ]
     },
     "metadata": {
      "needs_background": "light"
     },
     "output_type": "display_data"
    }
   ],
   "source": [
    "genre_max_sales.plot(x='year_of_release', y = ['Action',\n",
    "                                               'Adventure',\n",
    "                                               'Fighting',\n",
    "                                               'Misc',\n",
    "                                               'Platform',\n",
    "                                               'Puzzle',\n",
    "                                               'Racing',\n",
    "                                               'Role-Playing',\n",
    "                                               'Shooter',\n",
    "                                               'Simulation',\n",
    "                                               'Sports',\n",
    "                                               'Strategy'], style='o-')\n",
    "plt.show()"
   ]
  },
  {
   "cell_type": "markdown",
   "id": "aefbdfe7",
   "metadata": {},
   "source": [
    "\n",
    "- Выделяется 4 жанра игр с самым высоким уровнем продаж - это Action, Shooter, Role-Playing и Sports.\n",
    "- Менее востребованные и слабо продающиееся - это Misc, Platform, Racing, Fighting\n",
    "- Самые низкие продажи у следующих жанров: Simulation, Adventure, Strategy и Puzzle"
   ]
  },
  {
   "cell_type": "code",
   "execution_count": 44,
   "id": "fcf08ea0",
   "metadata": {},
   "outputs": [
    {
     "data": {
      "image/png": "[encoded data removed]",
      "text/plain": [
       "<Figure size 864x504 with 1 Axes>"
      ]
     },
     "metadata": {
      "needs_background": "light"
     },
     "output_type": "display_data"
    }
   ],
   "source": [
    "data_2012_2016.groupby('genre')['sales'].median().sort_values()[::-1].plot.bar(figsize=(12,7))\n",
    "\n",
    "plt.xticks(rotation=0)\n",
    "\n",
    "plt.title('Уровень продаж по жанрам')\n",
    "plt.xlabel('Жанры')\n",
    "plt.ylabel('Продажи')\n",
    "plt.show()"
   ]
  },
  {
   "cell_type": "markdown",
   "id": "ac14b5cc",
   "metadata": {},
   "source": [
    "## 4. Составление портрета пользователя каждого региона"
   ]
  },
  {
   "cell_type": "markdown",
   "id": "6603e8b1",
   "metadata": {},
   "source": [
    "Составим новую сводную таблицу по популярности **платформ**, выделим топ-5 для каждого региона"
   ]
  },
  {
   "cell_type": "code",
   "execution_count": 45,
   "id": "7d2fedeb",
   "metadata": {
    "scrolled": true
   },
   "outputs": [
    {
     "data": {
      "text/html": [
       "<div>\n",
       "<style scoped>\n",
       "    .dataframe tbody tr th:only-of-type {\n",
       "        vertical-align: middle;\n",
       "    }\n",
       "\n",
       "    .dataframe tbody tr th {\n",
       "        vertical-align: top;\n",
       "    }\n",
       "\n",
       "    .dataframe thead th {\n",
       "        text-align: right;\n",
       "    }\n",
       "</style>\n",
       "<table border=\"1\" class=\"dataframe\">\n",
       "  <thead>\n",
       "    <tr style=\"text-align: right;\">\n",
       "      <th></th>\n",
       "      <th>platform</th>\n",
       "      <th>eu_sales</th>\n",
       "      <th>jp_sales</th>\n",
       "      <th>na_sales</th>\n",
       "      <th>other_sales</th>\n",
       "      <th>sales</th>\n",
       "    </tr>\n",
       "  </thead>\n",
       "  <tbody>\n",
       "    <tr>\n",
       "      <td>0</td>\n",
       "      <td>PS4</td>\n",
       "      <td>141.09</td>\n",
       "      <td>15.96</td>\n",
       "      <td>108.74</td>\n",
       "      <td>48.35</td>\n",
       "      <td>314.14</td>\n",
       "    </tr>\n",
       "    <tr>\n",
       "      <td>1</td>\n",
       "      <td>PS3</td>\n",
       "      <td>106.86</td>\n",
       "      <td>35.29</td>\n",
       "      <td>103.44</td>\n",
       "      <td>43.27</td>\n",
       "      <td>288.86</td>\n",
       "    </tr>\n",
       "    <tr>\n",
       "      <td>2</td>\n",
       "      <td>X360</td>\n",
       "      <td>74.52</td>\n",
       "      <td>1.57</td>\n",
       "      <td>140.12</td>\n",
       "      <td>20.41</td>\n",
       "      <td>236.62</td>\n",
       "    </tr>\n",
       "    <tr>\n",
       "      <td>3</td>\n",
       "      <td>3DS</td>\n",
       "      <td>42.64</td>\n",
       "      <td>87.82</td>\n",
       "      <td>55.31</td>\n",
       "      <td>8.87</td>\n",
       "      <td>194.64</td>\n",
       "    </tr>\n",
       "    <tr>\n",
       "      <td>4</td>\n",
       "      <td>XOne</td>\n",
       "      <td>51.59</td>\n",
       "      <td>0.34</td>\n",
       "      <td>93.12</td>\n",
       "      <td>14.27</td>\n",
       "      <td>159.32</td>\n",
       "    </tr>\n",
       "    <tr>\n",
       "      <td>5</td>\n",
       "      <td>WiiU</td>\n",
       "      <td>25.13</td>\n",
       "      <td>13.01</td>\n",
       "      <td>38.10</td>\n",
       "      <td>5.95</td>\n",
       "      <td>82.19</td>\n",
       "    </tr>\n",
       "    <tr>\n",
       "      <td>6</td>\n",
       "      <td>PC</td>\n",
       "      <td>38.29</td>\n",
       "      <td>0.00</td>\n",
       "      <td>19.21</td>\n",
       "      <td>5.84</td>\n",
       "      <td>63.34</td>\n",
       "    </tr>\n",
       "    <tr>\n",
       "      <td>7</td>\n",
       "      <td>PSV</td>\n",
       "      <td>11.36</td>\n",
       "      <td>21.04</td>\n",
       "      <td>10.98</td>\n",
       "      <td>5.80</td>\n",
       "      <td>49.18</td>\n",
       "    </tr>\n",
       "    <tr>\n",
       "      <td>8</td>\n",
       "      <td>Wii</td>\n",
       "      <td>11.92</td>\n",
       "      <td>3.39</td>\n",
       "      <td>17.47</td>\n",
       "      <td>2.61</td>\n",
       "      <td>35.39</td>\n",
       "    </tr>\n",
       "    <tr>\n",
       "      <td>9</td>\n",
       "      <td>DS</td>\n",
       "      <td>3.58</td>\n",
       "      <td>3.76</td>\n",
       "      <td>4.59</td>\n",
       "      <td>0.72</td>\n",
       "      <td>12.65</td>\n",
       "    </tr>\n",
       "    <tr>\n",
       "      <td>10</td>\n",
       "      <td>PSP</td>\n",
       "      <td>0.42</td>\n",
       "      <td>10.47</td>\n",
       "      <td>0.13</td>\n",
       "      <td>0.17</td>\n",
       "      <td>11.19</td>\n",
       "    </tr>\n",
       "  </tbody>\n",
       "</table>\n",
       "</div>"
      ],
      "text/plain": [
       "   platform  eu_sales  jp_sales  na_sales  other_sales   sales\n",
       "0       PS4    141.09     15.96    108.74        48.35  314.14\n",
       "1       PS3    106.86     35.29    103.44        43.27  288.86\n",
       "2      X360     74.52      1.57    140.12        20.41  236.62\n",
       "3       3DS     42.64     87.82     55.31         8.87  194.64\n",
       "4      XOne     51.59      0.34     93.12        14.27  159.32\n",
       "5      WiiU     25.13     13.01     38.10         5.95   82.19\n",
       "6        PC     38.29      0.00     19.21         5.84   63.34\n",
       "7       PSV     11.36     21.04     10.98         5.80   49.18\n",
       "8       Wii     11.92      3.39     17.47         2.61   35.39\n",
       "9        DS      3.58      3.76      4.59         0.72   12.65\n",
       "10      PSP      0.42     10.47      0.13         0.17   11.19"
      ]
     },
     "metadata": {},
     "output_type": "display_data"
    }
   ],
   "source": [
    "pivot_region_platform = data_2012_2016.pivot_table(index='platform', values=['na_sales', 'eu_sales', 'jp_sales', 'other_sales', 'sales'], aggfunc='sum')\n",
    "pivot_region_platform = pivot_region_platform.reset_index()\n",
    "pivot_region_platform = pivot_region_platform.sort_values(by='sales', ascending=False)\n",
    "pivot_region_platform = pivot_region_platform.reset_index()\n",
    "pivot_region_platform = pivot_region_platform.loc[:, 'platform':'sales']\n",
    "display(pivot_region_platform)"
   ]
  },
  {
   "cell_type": "markdown",
   "id": "93e4d229",
   "metadata": {},
   "source": [
    "Топ 5 самых популярных платформ в мире - это PS4, PS3, X360, 3DS, XOne\n",
    "- Для Северной Америки, Европы и других стран большую популярность приобрели те же платформы\n",
    "- Для Японии это PS4, 3DS, PS3, WiiU и PSV\n",
    "\n",
    "Рассмотрим каждый регион в отдельности и добавим доли от продаж по всему миру"
   ]
  },
  {
   "cell_type": "markdown",
   "id": "acc4f028",
   "metadata": {},
   "source": [
    "*Северная Америка*"
   ]
  },
  {
   "cell_type": "code",
   "execution_count": 46,
   "id": "868de205",
   "metadata": {},
   "outputs": [
    {
     "data": {
      "text/html": [
       "<div>\n",
       "<style scoped>\n",
       "    .dataframe tbody tr th:only-of-type {\n",
       "        vertical-align: middle;\n",
       "    }\n",
       "\n",
       "    .dataframe tbody tr th {\n",
       "        vertical-align: top;\n",
       "    }\n",
       "\n",
       "    .dataframe thead th {\n",
       "        text-align: right;\n",
       "    }\n",
       "</style>\n",
       "<table border=\"1\" class=\"dataframe\">\n",
       "  <thead>\n",
       "    <tr style=\"text-align: right;\">\n",
       "      <th></th>\n",
       "      <th>platform</th>\n",
       "      <th>na_sales</th>\n",
       "      <th>sales</th>\n",
       "      <th>ratio</th>\n",
       "    </tr>\n",
       "  </thead>\n",
       "  <tbody>\n",
       "    <tr>\n",
       "      <td>0</td>\n",
       "      <td>X360</td>\n",
       "      <td>140.12</td>\n",
       "      <td>236.62</td>\n",
       "      <td>0.592173</td>\n",
       "    </tr>\n",
       "    <tr>\n",
       "      <td>1</td>\n",
       "      <td>PS4</td>\n",
       "      <td>108.74</td>\n",
       "      <td>314.14</td>\n",
       "      <td>0.346151</td>\n",
       "    </tr>\n",
       "    <tr>\n",
       "      <td>2</td>\n",
       "      <td>PS3</td>\n",
       "      <td>103.44</td>\n",
       "      <td>288.86</td>\n",
       "      <td>0.358097</td>\n",
       "    </tr>\n",
       "    <tr>\n",
       "      <td>3</td>\n",
       "      <td>XOne</td>\n",
       "      <td>93.12</td>\n",
       "      <td>159.32</td>\n",
       "      <td>0.584484</td>\n",
       "    </tr>\n",
       "    <tr>\n",
       "      <td>4</td>\n",
       "      <td>3DS</td>\n",
       "      <td>55.31</td>\n",
       "      <td>194.64</td>\n",
       "      <td>0.284166</td>\n",
       "    </tr>\n",
       "  </tbody>\n",
       "</table>\n",
       "</div>"
      ],
      "text/plain": [
       "  platform  na_sales   sales     ratio\n",
       "0     X360    140.12  236.62  0.592173\n",
       "1      PS4    108.74  314.14  0.346151\n",
       "2      PS3    103.44  288.86  0.358097\n",
       "3     XOne     93.12  159.32  0.584484\n",
       "4      3DS     55.31  194.64  0.284166"
      ]
     },
     "metadata": {},
     "output_type": "display_data"
    }
   ],
   "source": [
    "# создаем табличку для региона Северной Америки\n",
    "na_platform = pivot_region_platform.loc[:, ['platform','na_sales', 'sales']]\n",
    "# добавляем в нее столбец с долями от продаж по всему миру, производя деление продаж в Америке на продажи во всем мире\n",
    "na_platform['ratio'] = na_platform['na_sales'] / na_platform['sales']\n",
    "# сортируем по продажам в Америке\n",
    "na_platform = na_platform.sort_values(by='na_sales', ascending=False)\n",
    "na_platform = na_platform.reset_index()\n",
    "na_platform = na_platform.loc[:, 'platform':'ratio']\n",
    "# и выводи топ-5 платформ для Северной Америки\n",
    "display(na_platform.head())"
   ]
  },
  {
   "cell_type": "markdown",
   "id": "efe06594",
   "metadata": {},
   "source": [
    "*Европа*"
   ]
  },
  {
   "cell_type": "code",
   "execution_count": 47,
   "id": "de55601e",
   "metadata": {},
   "outputs": [
    {
     "data": {
      "text/html": [
       "<div>\n",
       "<style scoped>\n",
       "    .dataframe tbody tr th:only-of-type {\n",
       "        vertical-align: middle;\n",
       "    }\n",
       "\n",
       "    .dataframe tbody tr th {\n",
       "        vertical-align: top;\n",
       "    }\n",
       "\n",
       "    .dataframe thead th {\n",
       "        text-align: right;\n",
       "    }\n",
       "</style>\n",
       "<table border=\"1\" class=\"dataframe\">\n",
       "  <thead>\n",
       "    <tr style=\"text-align: right;\">\n",
       "      <th></th>\n",
       "      <th>platform</th>\n",
       "      <th>eu_sales</th>\n",
       "      <th>sales</th>\n",
       "      <th>ratio</th>\n",
       "    </tr>\n",
       "  </thead>\n",
       "  <tbody>\n",
       "    <tr>\n",
       "      <td>0</td>\n",
       "      <td>PS4</td>\n",
       "      <td>141.09</td>\n",
       "      <td>314.14</td>\n",
       "      <td>0.449131</td>\n",
       "    </tr>\n",
       "    <tr>\n",
       "      <td>1</td>\n",
       "      <td>PS3</td>\n",
       "      <td>106.86</td>\n",
       "      <td>288.86</td>\n",
       "      <td>0.369937</td>\n",
       "    </tr>\n",
       "    <tr>\n",
       "      <td>2</td>\n",
       "      <td>X360</td>\n",
       "      <td>74.52</td>\n",
       "      <td>236.62</td>\n",
       "      <td>0.314935</td>\n",
       "    </tr>\n",
       "    <tr>\n",
       "      <td>3</td>\n",
       "      <td>XOne</td>\n",
       "      <td>51.59</td>\n",
       "      <td>159.32</td>\n",
       "      <td>0.323814</td>\n",
       "    </tr>\n",
       "    <tr>\n",
       "      <td>4</td>\n",
       "      <td>3DS</td>\n",
       "      <td>42.64</td>\n",
       "      <td>194.64</td>\n",
       "      <td>0.219071</td>\n",
       "    </tr>\n",
       "  </tbody>\n",
       "</table>\n",
       "</div>"
      ],
      "text/plain": [
       "  platform  eu_sales   sales     ratio\n",
       "0      PS4    141.09  314.14  0.449131\n",
       "1      PS3    106.86  288.86  0.369937\n",
       "2     X360     74.52  236.62  0.314935\n",
       "3     XOne     51.59  159.32  0.323814\n",
       "4      3DS     42.64  194.64  0.219071"
      ]
     },
     "metadata": {},
     "output_type": "display_data"
    }
   ],
   "source": [
    "# создаем табличку для региона Северной Америки\n",
    "eu_platform = pivot_region_platform.loc[:, ['platform','eu_sales', 'sales']]\n",
    "# добавляем в нее столбец с долями от продаж по всему миру, производя деление продаж в Европе на продажи во всем мире\n",
    "eu_platform['ratio'] = eu_platform['eu_sales'] / eu_platform['sales']\n",
    "# сортируем по продажам в Европе\n",
    "eu_platform = eu_platform.sort_values(by='eu_sales', ascending=False)\n",
    "eu_platform = eu_platform.reset_index()\n",
    "eu_platform = eu_platform.loc[:, 'platform':'ratio']\n",
    "# и выводи топ-5 платформ для Европы\n",
    "display(eu_platform.head())"
   ]
  },
  {
   "cell_type": "markdown",
   "id": "0e5dc5be",
   "metadata": {},
   "source": [
    "*Япония*"
   ]
  },
  {
   "cell_type": "code",
   "execution_count": 48,
   "id": "70cee934",
   "metadata": {},
   "outputs": [
    {
     "data": {
      "text/html": [
       "<div>\n",
       "<style scoped>\n",
       "    .dataframe tbody tr th:only-of-type {\n",
       "        vertical-align: middle;\n",
       "    }\n",
       "\n",
       "    .dataframe tbody tr th {\n",
       "        vertical-align: top;\n",
       "    }\n",
       "\n",
       "    .dataframe thead th {\n",
       "        text-align: right;\n",
       "    }\n",
       "</style>\n",
       "<table border=\"1\" class=\"dataframe\">\n",
       "  <thead>\n",
       "    <tr style=\"text-align: right;\">\n",
       "      <th></th>\n",
       "      <th>platform</th>\n",
       "      <th>jp_sales</th>\n",
       "      <th>sales</th>\n",
       "      <th>ratio</th>\n",
       "    </tr>\n",
       "  </thead>\n",
       "  <tbody>\n",
       "    <tr>\n",
       "      <td>0</td>\n",
       "      <td>3DS</td>\n",
       "      <td>87.82</td>\n",
       "      <td>194.64</td>\n",
       "      <td>0.451192</td>\n",
       "    </tr>\n",
       "    <tr>\n",
       "      <td>1</td>\n",
       "      <td>PS3</td>\n",
       "      <td>35.29</td>\n",
       "      <td>288.86</td>\n",
       "      <td>0.122170</td>\n",
       "    </tr>\n",
       "    <tr>\n",
       "      <td>2</td>\n",
       "      <td>PSV</td>\n",
       "      <td>21.04</td>\n",
       "      <td>49.18</td>\n",
       "      <td>0.427816</td>\n",
       "    </tr>\n",
       "    <tr>\n",
       "      <td>3</td>\n",
       "      <td>PS4</td>\n",
       "      <td>15.96</td>\n",
       "      <td>314.14</td>\n",
       "      <td>0.050805</td>\n",
       "    </tr>\n",
       "    <tr>\n",
       "      <td>4</td>\n",
       "      <td>WiiU</td>\n",
       "      <td>13.01</td>\n",
       "      <td>82.19</td>\n",
       "      <td>0.158292</td>\n",
       "    </tr>\n",
       "  </tbody>\n",
       "</table>\n",
       "</div>"
      ],
      "text/plain": [
       "  platform  jp_sales   sales     ratio\n",
       "0      3DS     87.82  194.64  0.451192\n",
       "1      PS3     35.29  288.86  0.122170\n",
       "2      PSV     21.04   49.18  0.427816\n",
       "3      PS4     15.96  314.14  0.050805\n",
       "4     WiiU     13.01   82.19  0.158292"
      ]
     },
     "metadata": {},
     "output_type": "display_data"
    }
   ],
   "source": [
    "# создаем табличку для региона Северной Америки\n",
    "jp_platform = pivot_region_platform.loc[:, ['platform','jp_sales', 'sales']]\n",
    "# добавляем в нее столбец с долями от продаж по всему миру, производя деление продаж в Японии на продажи во всем мире\n",
    "jp_platform['ratio'] = jp_platform['jp_sales'] / jp_platform['sales']\n",
    "# сортируем по продажам в Японии\n",
    "jp_platform = jp_platform.sort_values(by='jp_sales', ascending=False)\n",
    "jp_platform = jp_platform.reset_index()\n",
    "jp_platform = jp_platform.loc[:, 'platform':'ratio']\n",
    "# и выводи топ-5 платформ для Японии\n",
    "display(jp_platform.head())"
   ]
  },
  {
   "cell_type": "markdown",
   "id": "205e483e",
   "metadata": {},
   "source": [
    "*Другие страны*"
   ]
  },
  {
   "cell_type": "code",
   "execution_count": 49,
   "id": "21f436a1",
   "metadata": {},
   "outputs": [
    {
     "data": {
      "text/html": [
       "<div>\n",
       "<style scoped>\n",
       "    .dataframe tbody tr th:only-of-type {\n",
       "        vertical-align: middle;\n",
       "    }\n",
       "\n",
       "    .dataframe tbody tr th {\n",
       "        vertical-align: top;\n",
       "    }\n",
       "\n",
       "    .dataframe thead th {\n",
       "        text-align: right;\n",
       "    }\n",
       "</style>\n",
       "<table border=\"1\" class=\"dataframe\">\n",
       "  <thead>\n",
       "    <tr style=\"text-align: right;\">\n",
       "      <th></th>\n",
       "      <th>platform</th>\n",
       "      <th>other_sales</th>\n",
       "      <th>sales</th>\n",
       "      <th>ratio</th>\n",
       "    </tr>\n",
       "  </thead>\n",
       "  <tbody>\n",
       "    <tr>\n",
       "      <td>0</td>\n",
       "      <td>PS4</td>\n",
       "      <td>48.35</td>\n",
       "      <td>314.14</td>\n",
       "      <td>0.153912</td>\n",
       "    </tr>\n",
       "    <tr>\n",
       "      <td>1</td>\n",
       "      <td>PS3</td>\n",
       "      <td>43.27</td>\n",
       "      <td>288.86</td>\n",
       "      <td>0.149796</td>\n",
       "    </tr>\n",
       "    <tr>\n",
       "      <td>2</td>\n",
       "      <td>X360</td>\n",
       "      <td>20.41</td>\n",
       "      <td>236.62</td>\n",
       "      <td>0.086256</td>\n",
       "    </tr>\n",
       "    <tr>\n",
       "      <td>3</td>\n",
       "      <td>XOne</td>\n",
       "      <td>14.27</td>\n",
       "      <td>159.32</td>\n",
       "      <td>0.089568</td>\n",
       "    </tr>\n",
       "    <tr>\n",
       "      <td>4</td>\n",
       "      <td>3DS</td>\n",
       "      <td>8.87</td>\n",
       "      <td>194.64</td>\n",
       "      <td>0.045571</td>\n",
       "    </tr>\n",
       "  </tbody>\n",
       "</table>\n",
       "</div>"
      ],
      "text/plain": [
       "  platform  other_sales   sales     ratio\n",
       "0      PS4        48.35  314.14  0.153912\n",
       "1      PS3        43.27  288.86  0.149796\n",
       "2     X360        20.41  236.62  0.086256\n",
       "3     XOne        14.27  159.32  0.089568\n",
       "4      3DS         8.87  194.64  0.045571"
      ]
     },
     "metadata": {},
     "output_type": "display_data"
    }
   ],
   "source": [
    "# создаем табличку для региона Северной Америки\n",
    "other_platform = pivot_region_platform.loc[:, ['platform','other_sales', 'sales']]\n",
    "# добавляем в нее столбец с долями от продаж по всему миру, производя деление продаж в других странах на продажи во всем мире\n",
    "other_platform['ratio'] = other_platform['other_sales'] / other_platform['sales']\n",
    "# сортируем по продажам в других странах\n",
    "other_platform = other_platform.sort_values(by='other_sales', ascending=False)\n",
    "other_platform = other_platform.reset_index()\n",
    "other_platform = other_platform.loc[:, 'platform':'ratio']\n",
    "# и выводи топ-5 платформ для других стран\n",
    "display(other_platform.head())"
   ]
  },
  {
   "cell_type": "markdown",
   "id": "36b7cef6",
   "metadata": {},
   "source": [
    "Составим новую сводную таблицу по популярности **жанров**, выделим топ-5 для каждого региона"
   ]
  },
  {
   "cell_type": "code",
   "execution_count": 50,
   "id": "24121295",
   "metadata": {
    "scrolled": false
   },
   "outputs": [
    {
     "data": {
      "text/html": [
       "<div>\n",
       "<style scoped>\n",
       "    .dataframe tbody tr th:only-of-type {\n",
       "        vertical-align: middle;\n",
       "    }\n",
       "\n",
       "    .dataframe tbody tr th {\n",
       "        vertical-align: top;\n",
       "    }\n",
       "\n",
       "    .dataframe thead th {\n",
       "        text-align: right;\n",
       "    }\n",
       "</style>\n",
       "<table border=\"1\" class=\"dataframe\">\n",
       "  <thead>\n",
       "    <tr style=\"text-align: right;\">\n",
       "      <th></th>\n",
       "      <th>genre</th>\n",
       "      <th>eu_sales</th>\n",
       "      <th>jp_sales</th>\n",
       "      <th>na_sales</th>\n",
       "      <th>other_sales</th>\n",
       "      <th>sales</th>\n",
       "    </tr>\n",
       "  </thead>\n",
       "  <tbody>\n",
       "    <tr>\n",
       "      <td>0</td>\n",
       "      <td>Action</td>\n",
       "      <td>159.82</td>\n",
       "      <td>52.84</td>\n",
       "      <td>177.92</td>\n",
       "      <td>51.21</td>\n",
       "      <td>441.79</td>\n",
       "    </tr>\n",
       "    <tr>\n",
       "      <td>1</td>\n",
       "      <td>Shooter</td>\n",
       "      <td>113.47</td>\n",
       "      <td>9.23</td>\n",
       "      <td>144.79</td>\n",
       "      <td>37.26</td>\n",
       "      <td>304.75</td>\n",
       "    </tr>\n",
       "    <tr>\n",
       "      <td>2</td>\n",
       "      <td>Role-Playing</td>\n",
       "      <td>48.53</td>\n",
       "      <td>65.47</td>\n",
       "      <td>64.00</td>\n",
       "      <td>14.83</td>\n",
       "      <td>192.83</td>\n",
       "    </tr>\n",
       "    <tr>\n",
       "      <td>3</td>\n",
       "      <td>Sports</td>\n",
       "      <td>69.09</td>\n",
       "      <td>8.01</td>\n",
       "      <td>81.53</td>\n",
       "      <td>22.44</td>\n",
       "      <td>181.07</td>\n",
       "    </tr>\n",
       "    <tr>\n",
       "      <td>4</td>\n",
       "      <td>Misc</td>\n",
       "      <td>26.32</td>\n",
       "      <td>12.86</td>\n",
       "      <td>38.19</td>\n",
       "      <td>7.67</td>\n",
       "      <td>85.04</td>\n",
       "    </tr>\n",
       "    <tr>\n",
       "      <td>5</td>\n",
       "      <td>Platform</td>\n",
       "      <td>21.41</td>\n",
       "      <td>8.63</td>\n",
       "      <td>25.38</td>\n",
       "      <td>5.58</td>\n",
       "      <td>61.00</td>\n",
       "    </tr>\n",
       "    <tr>\n",
       "      <td>6</td>\n",
       "      <td>Racing</td>\n",
       "      <td>27.29</td>\n",
       "      <td>2.50</td>\n",
       "      <td>17.22</td>\n",
       "      <td>6.49</td>\n",
       "      <td>53.50</td>\n",
       "    </tr>\n",
       "    <tr>\n",
       "      <td>7</td>\n",
       "      <td>Fighting</td>\n",
       "      <td>10.79</td>\n",
       "      <td>9.44</td>\n",
       "      <td>19.79</td>\n",
       "      <td>4.47</td>\n",
       "      <td>44.49</td>\n",
       "    </tr>\n",
       "    <tr>\n",
       "      <td>8</td>\n",
       "      <td>Simulation</td>\n",
       "      <td>14.55</td>\n",
       "      <td>10.41</td>\n",
       "      <td>8.11</td>\n",
       "      <td>2.21</td>\n",
       "      <td>35.28</td>\n",
       "    </tr>\n",
       "    <tr>\n",
       "      <td>9</td>\n",
       "      <td>Adventure</td>\n",
       "      <td>9.46</td>\n",
       "      <td>8.24</td>\n",
       "      <td>8.92</td>\n",
       "      <td>2.81</td>\n",
       "      <td>29.43</td>\n",
       "    </tr>\n",
       "    <tr>\n",
       "      <td>10</td>\n",
       "      <td>Strategy</td>\n",
       "      <td>5.22</td>\n",
       "      <td>2.88</td>\n",
       "      <td>4.23</td>\n",
       "      <td>1.06</td>\n",
       "      <td>13.39</td>\n",
       "    </tr>\n",
       "    <tr>\n",
       "      <td>11</td>\n",
       "      <td>Puzzle</td>\n",
       "      <td>1.45</td>\n",
       "      <td>2.14</td>\n",
       "      <td>1.13</td>\n",
       "      <td>0.23</td>\n",
       "      <td>4.95</td>\n",
       "    </tr>\n",
       "  </tbody>\n",
       "</table>\n",
       "</div>"
      ],
      "text/plain": [
       "           genre  eu_sales  jp_sales  na_sales  other_sales   sales\n",
       "0         Action    159.82     52.84    177.92        51.21  441.79\n",
       "1        Shooter    113.47      9.23    144.79        37.26  304.75\n",
       "2   Role-Playing     48.53     65.47     64.00        14.83  192.83\n",
       "3         Sports     69.09      8.01     81.53        22.44  181.07\n",
       "4           Misc     26.32     12.86     38.19         7.67   85.04\n",
       "5       Platform     21.41      8.63     25.38         5.58   61.00\n",
       "6         Racing     27.29      2.50     17.22         6.49   53.50\n",
       "7       Fighting     10.79      9.44     19.79         4.47   44.49\n",
       "8     Simulation     14.55     10.41      8.11         2.21   35.28\n",
       "9      Adventure      9.46      8.24      8.92         2.81   29.43\n",
       "10      Strategy      5.22      2.88      4.23         1.06   13.39\n",
       "11        Puzzle      1.45      2.14      1.13         0.23    4.95"
      ]
     },
     "metadata": {},
     "output_type": "display_data"
    }
   ],
   "source": [
    "pivot_region_genre = data_2012_2016.pivot_table(index='genre', values=['na_sales', 'eu_sales', 'jp_sales', 'other_sales', 'sales'], aggfunc='sum')\n",
    "pivot_region_genre = pivot_region_genre.reset_index()\n",
    "pivot_region_genre = pivot_region_genre.sort_values(by='sales', ascending=False)\n",
    "pivot_region_genre = pivot_region_genre.reset_index()\n",
    "pivot_region_genre = pivot_region_genre.loc[:, 'genre':'sales']\n",
    "display(pivot_region_genre)"
   ]
  },
  {
   "cell_type": "markdown",
   "id": "3587f874",
   "metadata": {},
   "source": [
    "Топ 5 самых популярных  жанров в мире - это Shooter, Action, Sports, Role-Playing, Misc\n",
    "- Для Северной Америки, Европы и других стран большую популярность приобрели Shooter, Action, Sports и Role-Playing\n",
    "- Для Японии это Action, Role-Playing, Shooter, Simulation, Misc\n",
    "\n",
    "Рассмотрим каждый регион в отдельности и добавим доли от продаж по всему миру"
   ]
  },
  {
   "cell_type": "markdown",
   "id": "039282e5",
   "metadata": {},
   "source": [
    "*Северная Америка*"
   ]
  },
  {
   "cell_type": "code",
   "execution_count": 51,
   "id": "79c30fe3",
   "metadata": {},
   "outputs": [
    {
     "data": {
      "text/html": [
       "<div>\n",
       "<style scoped>\n",
       "    .dataframe tbody tr th:only-of-type {\n",
       "        vertical-align: middle;\n",
       "    }\n",
       "\n",
       "    .dataframe tbody tr th {\n",
       "        vertical-align: top;\n",
       "    }\n",
       "\n",
       "    .dataframe thead th {\n",
       "        text-align: right;\n",
       "    }\n",
       "</style>\n",
       "<table border=\"1\" class=\"dataframe\">\n",
       "  <thead>\n",
       "    <tr style=\"text-align: right;\">\n",
       "      <th></th>\n",
       "      <th>genre</th>\n",
       "      <th>na_sales</th>\n",
       "      <th>sales</th>\n",
       "      <th>ratio</th>\n",
       "    </tr>\n",
       "  </thead>\n",
       "  <tbody>\n",
       "    <tr>\n",
       "      <td>0</td>\n",
       "      <td>Action</td>\n",
       "      <td>177.92</td>\n",
       "      <td>441.79</td>\n",
       "      <td>0.402725</td>\n",
       "    </tr>\n",
       "    <tr>\n",
       "      <td>1</td>\n",
       "      <td>Shooter</td>\n",
       "      <td>144.79</td>\n",
       "      <td>304.75</td>\n",
       "      <td>0.475111</td>\n",
       "    </tr>\n",
       "    <tr>\n",
       "      <td>2</td>\n",
       "      <td>Sports</td>\n",
       "      <td>81.53</td>\n",
       "      <td>181.07</td>\n",
       "      <td>0.450268</td>\n",
       "    </tr>\n",
       "    <tr>\n",
       "      <td>3</td>\n",
       "      <td>Role-Playing</td>\n",
       "      <td>64.00</td>\n",
       "      <td>192.83</td>\n",
       "      <td>0.331899</td>\n",
       "    </tr>\n",
       "    <tr>\n",
       "      <td>4</td>\n",
       "      <td>Misc</td>\n",
       "      <td>38.19</td>\n",
       "      <td>85.04</td>\n",
       "      <td>0.449083</td>\n",
       "    </tr>\n",
       "  </tbody>\n",
       "</table>\n",
       "</div>"
      ],
      "text/plain": [
       "          genre  na_sales   sales     ratio\n",
       "0        Action    177.92  441.79  0.402725\n",
       "1       Shooter    144.79  304.75  0.475111\n",
       "2        Sports     81.53  181.07  0.450268\n",
       "3  Role-Playing     64.00  192.83  0.331899\n",
       "4          Misc     38.19   85.04  0.449083"
      ]
     },
     "metadata": {},
     "output_type": "display_data"
    }
   ],
   "source": [
    "# создаем табличку для региона Северной Америки\n",
    "na_genre = pivot_region_genre.loc[:, ['genre','na_sales', 'sales']]\n",
    "# добавляем в нее столбец с долями от продаж по всему миру, производя деление продаж в Америке на продажи во всем мире\n",
    "na_genre['ratio'] = na_genre['na_sales'] / na_genre['sales']\n",
    "# сортируем по продажам в Америке\n",
    "na_genre = na_genre.sort_values(by='na_sales', ascending=False)\n",
    "na_genre = na_genre.reset_index()\n",
    "na_genre = na_genre.loc[:, 'genre':'ratio']\n",
    "# и выводи топ-5 платформ для Северной Америки\n",
    "display(na_genre.head())"
   ]
  },
  {
   "cell_type": "markdown",
   "id": "d2a834e8",
   "metadata": {},
   "source": [
    "*Европа*"
   ]
  },
  {
   "cell_type": "code",
   "execution_count": 52,
   "id": "f8962a07",
   "metadata": {},
   "outputs": [
    {
     "data": {
      "text/html": [
       "<div>\n",
       "<style scoped>\n",
       "    .dataframe tbody tr th:only-of-type {\n",
       "        vertical-align: middle;\n",
       "    }\n",
       "\n",
       "    .dataframe tbody tr th {\n",
       "        vertical-align: top;\n",
       "    }\n",
       "\n",
       "    .dataframe thead th {\n",
       "        text-align: right;\n",
       "    }\n",
       "</style>\n",
       "<table border=\"1\" class=\"dataframe\">\n",
       "  <thead>\n",
       "    <tr style=\"text-align: right;\">\n",
       "      <th></th>\n",
       "      <th>genre</th>\n",
       "      <th>eu_sales</th>\n",
       "      <th>sales</th>\n",
       "      <th>ratio</th>\n",
       "    </tr>\n",
       "  </thead>\n",
       "  <tbody>\n",
       "    <tr>\n",
       "      <td>0</td>\n",
       "      <td>Action</td>\n",
       "      <td>159.82</td>\n",
       "      <td>441.79</td>\n",
       "      <td>0.361756</td>\n",
       "    </tr>\n",
       "    <tr>\n",
       "      <td>1</td>\n",
       "      <td>Shooter</td>\n",
       "      <td>113.47</td>\n",
       "      <td>304.75</td>\n",
       "      <td>0.372338</td>\n",
       "    </tr>\n",
       "    <tr>\n",
       "      <td>2</td>\n",
       "      <td>Sports</td>\n",
       "      <td>69.09</td>\n",
       "      <td>181.07</td>\n",
       "      <td>0.381565</td>\n",
       "    </tr>\n",
       "    <tr>\n",
       "      <td>3</td>\n",
       "      <td>Role-Playing</td>\n",
       "      <td>48.53</td>\n",
       "      <td>192.83</td>\n",
       "      <td>0.251672</td>\n",
       "    </tr>\n",
       "    <tr>\n",
       "      <td>4</td>\n",
       "      <td>Racing</td>\n",
       "      <td>27.29</td>\n",
       "      <td>53.50</td>\n",
       "      <td>0.510093</td>\n",
       "    </tr>\n",
       "  </tbody>\n",
       "</table>\n",
       "</div>"
      ],
      "text/plain": [
       "          genre  eu_sales   sales     ratio\n",
       "0        Action    159.82  441.79  0.361756\n",
       "1       Shooter    113.47  304.75  0.372338\n",
       "2        Sports     69.09  181.07  0.381565\n",
       "3  Role-Playing     48.53  192.83  0.251672\n",
       "4        Racing     27.29   53.50  0.510093"
      ]
     },
     "metadata": {},
     "output_type": "display_data"
    }
   ],
   "source": [
    "# создаем табличку для региона Европы\n",
    "eu_genre = pivot_region_genre.loc[:, ['genre','eu_sales', 'sales']]\n",
    "# добавляем в нее столбец с долями от продаж по всему миру, производя деление продаж в Европе на продажи во всем мире\n",
    "eu_genre['ratio'] = eu_genre['eu_sales'] / eu_genre['sales']\n",
    "# сортируем по продажам в Европе\n",
    "eu_genre = eu_genre.sort_values(by='eu_sales', ascending=False)\n",
    "eu_genre = eu_genre.reset_index()\n",
    "eu_genre = eu_genre.loc[:, 'genre':'ratio']\n",
    "# и выводи топ-5 платформ для Европы\n",
    "display(eu_genre.head())"
   ]
  },
  {
   "cell_type": "markdown",
   "id": "313d6979",
   "metadata": {},
   "source": [
    "*Япония*"
   ]
  },
  {
   "cell_type": "code",
   "execution_count": 53,
   "id": "4e958178",
   "metadata": {},
   "outputs": [
    {
     "data": {
      "text/html": [
       "<div>\n",
       "<style scoped>\n",
       "    .dataframe tbody tr th:only-of-type {\n",
       "        vertical-align: middle;\n",
       "    }\n",
       "\n",
       "    .dataframe tbody tr th {\n",
       "        vertical-align: top;\n",
       "    }\n",
       "\n",
       "    .dataframe thead th {\n",
       "        text-align: right;\n",
       "    }\n",
       "</style>\n",
       "<table border=\"1\" class=\"dataframe\">\n",
       "  <thead>\n",
       "    <tr style=\"text-align: right;\">\n",
       "      <th></th>\n",
       "      <th>genre</th>\n",
       "      <th>jp_sales</th>\n",
       "      <th>sales</th>\n",
       "      <th>ratio</th>\n",
       "    </tr>\n",
       "  </thead>\n",
       "  <tbody>\n",
       "    <tr>\n",
       "      <td>0</td>\n",
       "      <td>Role-Playing</td>\n",
       "      <td>65.47</td>\n",
       "      <td>192.83</td>\n",
       "      <td>0.339522</td>\n",
       "    </tr>\n",
       "    <tr>\n",
       "      <td>1</td>\n",
       "      <td>Action</td>\n",
       "      <td>52.84</td>\n",
       "      <td>441.79</td>\n",
       "      <td>0.119604</td>\n",
       "    </tr>\n",
       "    <tr>\n",
       "      <td>2</td>\n",
       "      <td>Misc</td>\n",
       "      <td>12.86</td>\n",
       "      <td>85.04</td>\n",
       "      <td>0.151223</td>\n",
       "    </tr>\n",
       "    <tr>\n",
       "      <td>3</td>\n",
       "      <td>Simulation</td>\n",
       "      <td>10.41</td>\n",
       "      <td>35.28</td>\n",
       "      <td>0.295068</td>\n",
       "    </tr>\n",
       "    <tr>\n",
       "      <td>4</td>\n",
       "      <td>Fighting</td>\n",
       "      <td>9.44</td>\n",
       "      <td>44.49</td>\n",
       "      <td>0.212183</td>\n",
       "    </tr>\n",
       "  </tbody>\n",
       "</table>\n",
       "</div>"
      ],
      "text/plain": [
       "          genre  jp_sales   sales     ratio\n",
       "0  Role-Playing     65.47  192.83  0.339522\n",
       "1        Action     52.84  441.79  0.119604\n",
       "2          Misc     12.86   85.04  0.151223\n",
       "3    Simulation     10.41   35.28  0.295068\n",
       "4      Fighting      9.44   44.49  0.212183"
      ]
     },
     "metadata": {},
     "output_type": "display_data"
    }
   ],
   "source": [
    "# создаем табличку для региона Японии\n",
    "jp_genre = pivot_region_genre.loc[:, ['genre','jp_sales', 'sales']]\n",
    "# добавляем в нее столбец с долями от продаж по всему миру, производя деление продаж в Японии на продажи во всем мире\n",
    "jp_genre['ratio'] = jp_genre['jp_sales'] / jp_genre['sales']\n",
    "# сортируем по продажам в Японии\n",
    "jp_genre = jp_genre.sort_values(by='jp_sales', ascending=False)\n",
    "jp_genre = jp_genre.reset_index()\n",
    "jp_genre = jp_genre.loc[:, 'genre':'ratio']\n",
    "# и выводи топ-5 платформ для Японии\n",
    "display(jp_genre.head())"
   ]
  },
  {
   "cell_type": "markdown",
   "id": "5946c1b8",
   "metadata": {},
   "source": [
    "*Другие страны*"
   ]
  },
  {
   "cell_type": "code",
   "execution_count": 54,
   "id": "98faca71",
   "metadata": {},
   "outputs": [
    {
     "data": {
      "text/html": [
       "<div>\n",
       "<style scoped>\n",
       "    .dataframe tbody tr th:only-of-type {\n",
       "        vertical-align: middle;\n",
       "    }\n",
       "\n",
       "    .dataframe tbody tr th {\n",
       "        vertical-align: top;\n",
       "    }\n",
       "\n",
       "    .dataframe thead th {\n",
       "        text-align: right;\n",
       "    }\n",
       "</style>\n",
       "<table border=\"1\" class=\"dataframe\">\n",
       "  <thead>\n",
       "    <tr style=\"text-align: right;\">\n",
       "      <th></th>\n",
       "      <th>genre</th>\n",
       "      <th>other_sales</th>\n",
       "      <th>sales</th>\n",
       "      <th>ratio</th>\n",
       "    </tr>\n",
       "  </thead>\n",
       "  <tbody>\n",
       "    <tr>\n",
       "      <td>0</td>\n",
       "      <td>Action</td>\n",
       "      <td>51.21</td>\n",
       "      <td>441.79</td>\n",
       "      <td>0.115915</td>\n",
       "    </tr>\n",
       "    <tr>\n",
       "      <td>1</td>\n",
       "      <td>Shooter</td>\n",
       "      <td>37.26</td>\n",
       "      <td>304.75</td>\n",
       "      <td>0.122264</td>\n",
       "    </tr>\n",
       "    <tr>\n",
       "      <td>2</td>\n",
       "      <td>Sports</td>\n",
       "      <td>22.44</td>\n",
       "      <td>181.07</td>\n",
       "      <td>0.123930</td>\n",
       "    </tr>\n",
       "    <tr>\n",
       "      <td>3</td>\n",
       "      <td>Role-Playing</td>\n",
       "      <td>14.83</td>\n",
       "      <td>192.83</td>\n",
       "      <td>0.076907</td>\n",
       "    </tr>\n",
       "    <tr>\n",
       "      <td>4</td>\n",
       "      <td>Misc</td>\n",
       "      <td>7.67</td>\n",
       "      <td>85.04</td>\n",
       "      <td>0.090193</td>\n",
       "    </tr>\n",
       "  </tbody>\n",
       "</table>\n",
       "</div>"
      ],
      "text/plain": [
       "          genre  other_sales   sales     ratio\n",
       "0        Action        51.21  441.79  0.115915\n",
       "1       Shooter        37.26  304.75  0.122264\n",
       "2        Sports        22.44  181.07  0.123930\n",
       "3  Role-Playing        14.83  192.83  0.076907\n",
       "4          Misc         7.67   85.04  0.090193"
      ]
     },
     "metadata": {},
     "output_type": "display_data"
    }
   ],
   "source": [
    "# создаем табличку для других стран\n",
    "other_genre = pivot_region_genre.loc[:, ['genre','other_sales', 'sales']]\n",
    "# добавляем в нее столбец с долями от продаж по всему миру, производя деление продаж в других странах на продажи во всем мире\n",
    "other_genre['ratio'] = other_genre['other_sales'] / other_genre['sales']\n",
    "# сортируем по продажам в других странах\n",
    "other_genre = other_genre.sort_values(by='other_sales', ascending=False)\n",
    "other_genre = other_genre.reset_index()\n",
    "other_genre = other_genre.loc[:, 'genre':'ratio']\n",
    "# и выводи топ-5 платформ для других стран\n",
    "display(other_genre.head())"
   ]
  },
  {
   "cell_type": "markdown",
   "id": "cd832603",
   "metadata": {},
   "source": [
    "Составим новую сводную таблицу по **рейтингу ESRB**, выделим топ-5 для каждого региона, но прежде заменим пропуски в рейтингах на E для игр с 1996, так как у нас актуальный период 2102-2016 года"
   ]
  },
  {
   "cell_type": "code",
   "execution_count": 55,
   "id": "729a1cd2",
   "metadata": {},
   "outputs": [
    {
     "name": "stdout",
     "output_type": "stream",
     "text": [
      "0\n"
     ]
    }
   ],
   "source": [
    "data_2012_2016.loc[data_2012_2016['rating'].isna(), 'rating'] = 'нет рейтинга'\n",
    "print(data[data['rating'].isna()]['rating'].count())"
   ]
  },
  {
   "cell_type": "code",
   "execution_count": 56,
   "id": "fe91c1b7",
   "metadata": {},
   "outputs": [
    {
     "data": {
      "text/html": [
       "<div>\n",
       "<style scoped>\n",
       "    .dataframe tbody tr th:only-of-type {\n",
       "        vertical-align: middle;\n",
       "    }\n",
       "\n",
       "    .dataframe tbody tr th {\n",
       "        vertical-align: top;\n",
       "    }\n",
       "\n",
       "    .dataframe thead th {\n",
       "        text-align: right;\n",
       "    }\n",
       "</style>\n",
       "<table border=\"1\" class=\"dataframe\">\n",
       "  <thead>\n",
       "    <tr style=\"text-align: right;\">\n",
       "      <th></th>\n",
       "      <th>rating</th>\n",
       "      <th>eu_sales</th>\n",
       "      <th>jp_sales</th>\n",
       "      <th>na_sales</th>\n",
       "      <th>other_sales</th>\n",
       "      <th>sales</th>\n",
       "    </tr>\n",
       "  </thead>\n",
       "  <tbody>\n",
       "    <tr>\n",
       "      <td>0</td>\n",
       "      <td>M</td>\n",
       "      <td>194.44</td>\n",
       "      <td>21.20</td>\n",
       "      <td>231.67</td>\n",
       "      <td>63.45</td>\n",
       "      <td>510.76</td>\n",
       "    </tr>\n",
       "    <tr>\n",
       "      <td>1</td>\n",
       "      <td>нет рейтинга</td>\n",
       "      <td>91.50</td>\n",
       "      <td>108.91</td>\n",
       "      <td>103.33</td>\n",
       "      <td>27.17</td>\n",
       "      <td>330.91</td>\n",
       "    </tr>\n",
       "    <tr>\n",
       "      <td>2</td>\n",
       "      <td>E</td>\n",
       "      <td>113.03</td>\n",
       "      <td>28.33</td>\n",
       "      <td>114.37</td>\n",
       "      <td>31.44</td>\n",
       "      <td>287.17</td>\n",
       "    </tr>\n",
       "    <tr>\n",
       "      <td>3</td>\n",
       "      <td>T</td>\n",
       "      <td>52.96</td>\n",
       "      <td>26.02</td>\n",
       "      <td>66.14</td>\n",
       "      <td>17.96</td>\n",
       "      <td>163.08</td>\n",
       "    </tr>\n",
       "    <tr>\n",
       "      <td>4</td>\n",
       "      <td>E10+</td>\n",
       "      <td>55.43</td>\n",
       "      <td>8.19</td>\n",
       "      <td>75.70</td>\n",
       "      <td>16.24</td>\n",
       "      <td>155.56</td>\n",
       "    </tr>\n",
       "    <tr>\n",
       "      <td>5</td>\n",
       "      <td>RP</td>\n",
       "      <td>0.04</td>\n",
       "      <td>0.00</td>\n",
       "      <td>0.00</td>\n",
       "      <td>0.00</td>\n",
       "      <td>0.04</td>\n",
       "    </tr>\n",
       "  </tbody>\n",
       "</table>\n",
       "</div>"
      ],
      "text/plain": [
       "         rating  eu_sales  jp_sales  na_sales  other_sales   sales\n",
       "0             M    194.44     21.20    231.67        63.45  510.76\n",
       "1  нет рейтинга     91.50    108.91    103.33        27.17  330.91\n",
       "2             E    113.03     28.33    114.37        31.44  287.17\n",
       "3             T     52.96     26.02     66.14        17.96  163.08\n",
       "4          E10+     55.43      8.19     75.70        16.24  155.56\n",
       "5            RP      0.04      0.00      0.00         0.00    0.04"
      ]
     },
     "metadata": {},
     "output_type": "display_data"
    }
   ],
   "source": [
    "pivot_region_rating = data_2012_2016.pivot_table(index='rating', values=['na_sales', 'eu_sales', 'jp_sales', 'other_sales', 'sales'], aggfunc='sum')\n",
    "pivot_region_rating = pivot_region_rating.reset_index()\n",
    "pivot_region_rating = pivot_region_rating.sort_values(by='sales', ascending=False)\n",
    "pivot_region_rating = pivot_region_rating.reset_index()\n",
    "pivot_region_rating = pivot_region_rating.loc[:, 'rating':'sales']\n",
    "display(pivot_region_rating)"
   ]
  },
  {
   "cell_type": "markdown",
   "id": "e845a9fe",
   "metadata": {},
   "source": [
    "Топ 4 самых популярных  рейтингов в мире - это М, нет рейтинга, E, T, E10+\n",
    "\n",
    "Рассмотрим каждый регион в отдельности и добавим доли от продаж по всему миру\n",
    "\n",
    "RP вылетает отовсюду"
   ]
  },
  {
   "cell_type": "markdown",
   "id": "e9f33a95",
   "metadata": {},
   "source": [
    "*Северная Америка*"
   ]
  },
  {
   "cell_type": "code",
   "execution_count": 65,
   "id": "7812ea90",
   "metadata": {},
   "outputs": [
    {
     "data": {
      "text/html": [
       "<div>\n",
       "<style scoped>\n",
       "    .dataframe tbody tr th:only-of-type {\n",
       "        vertical-align: middle;\n",
       "    }\n",
       "\n",
       "    .dataframe tbody tr th {\n",
       "        vertical-align: top;\n",
       "    }\n",
       "\n",
       "    .dataframe thead th {\n",
       "        text-align: right;\n",
       "    }\n",
       "</style>\n",
       "<table border=\"1\" class=\"dataframe\">\n",
       "  <thead>\n",
       "    <tr style=\"text-align: right;\">\n",
       "      <th></th>\n",
       "      <th>rating</th>\n",
       "      <th>na_sales</th>\n",
       "      <th>sales</th>\n",
       "      <th>ratio</th>\n",
       "    </tr>\n",
       "  </thead>\n",
       "  <tbody>\n",
       "    <tr>\n",
       "      <td>0</td>\n",
       "      <td>M</td>\n",
       "      <td>231.67</td>\n",
       "      <td>510.76</td>\n",
       "      <td>0.453579</td>\n",
       "    </tr>\n",
       "    <tr>\n",
       "      <td>1</td>\n",
       "      <td>E</td>\n",
       "      <td>114.37</td>\n",
       "      <td>287.17</td>\n",
       "      <td>0.398266</td>\n",
       "    </tr>\n",
       "    <tr>\n",
       "      <td>2</td>\n",
       "      <td>нет рейтинга</td>\n",
       "      <td>103.33</td>\n",
       "      <td>330.91</td>\n",
       "      <td>0.312260</td>\n",
       "    </tr>\n",
       "    <tr>\n",
       "      <td>3</td>\n",
       "      <td>E10+</td>\n",
       "      <td>75.70</td>\n",
       "      <td>155.56</td>\n",
       "      <td>0.486629</td>\n",
       "    </tr>\n",
       "  </tbody>\n",
       "</table>\n",
       "</div>"
      ],
      "text/plain": [
       "         rating  na_sales   sales     ratio\n",
       "0             M    231.67  510.76  0.453579\n",
       "1             E    114.37  287.17  0.398266\n",
       "2  нет рейтинга    103.33  330.91  0.312260\n",
       "3          E10+     75.70  155.56  0.486629"
      ]
     },
     "metadata": {},
     "output_type": "display_data"
    }
   ],
   "source": [
    "# создаем табличку для региона Северной Америки\n",
    "na_rating = pivot_region_rating.loc[:, ['rating','na_sales', 'sales']]\n",
    "# добавляем в нее столбец с долями от продаж по всему миру, производя деление продаж в Америке на продажи во всем мире\n",
    "na_rating['ratio'] = na_rating['na_sales'] / na_rating['sales']\n",
    "# сортируем по продажам в Америке\n",
    "na_rating = na_rating.sort_values(by='na_sales', ascending=False)\n",
    "na_rating = na_rating.reset_index()\n",
    "na_rating = na_rating.loc[:3, 'rating':'ratio']\n",
    "# и выводи топ-5 платформ для Северной Америки\n",
    "display(na_rating)"
   ]
  },
  {
   "cell_type": "markdown",
   "id": "5ff93d53",
   "metadata": {},
   "source": [
    "*Европа*"
   ]
  },
  {
   "cell_type": "code",
   "execution_count": 58,
   "id": "c5910754",
   "metadata": {},
   "outputs": [
    {
     "data": {
      "text/html": [
       "<div>\n",
       "<style scoped>\n",
       "    .dataframe tbody tr th:only-of-type {\n",
       "        vertical-align: middle;\n",
       "    }\n",
       "\n",
       "    .dataframe tbody tr th {\n",
       "        vertical-align: top;\n",
       "    }\n",
       "\n",
       "    .dataframe thead th {\n",
       "        text-align: right;\n",
       "    }\n",
       "</style>\n",
       "<table border=\"1\" class=\"dataframe\">\n",
       "  <thead>\n",
       "    <tr style=\"text-align: right;\">\n",
       "      <th></th>\n",
       "      <th>rating</th>\n",
       "      <th>eu_sales</th>\n",
       "      <th>sales</th>\n",
       "      <th>ratio</th>\n",
       "    </tr>\n",
       "  </thead>\n",
       "  <tbody>\n",
       "    <tr>\n",
       "      <td>0</td>\n",
       "      <td>M</td>\n",
       "      <td>194.44</td>\n",
       "      <td>510.76</td>\n",
       "      <td>0.380688</td>\n",
       "    </tr>\n",
       "    <tr>\n",
       "      <td>1</td>\n",
       "      <td>E</td>\n",
       "      <td>113.03</td>\n",
       "      <td>287.17</td>\n",
       "      <td>0.393600</td>\n",
       "    </tr>\n",
       "    <tr>\n",
       "      <td>2</td>\n",
       "      <td>нет рейтинга</td>\n",
       "      <td>91.50</td>\n",
       "      <td>330.91</td>\n",
       "      <td>0.276510</td>\n",
       "    </tr>\n",
       "    <tr>\n",
       "      <td>3</td>\n",
       "      <td>E10+</td>\n",
       "      <td>55.43</td>\n",
       "      <td>155.56</td>\n",
       "      <td>0.356326</td>\n",
       "    </tr>\n",
       "  </tbody>\n",
       "</table>\n",
       "</div>"
      ],
      "text/plain": [
       "         rating  eu_sales   sales     ratio\n",
       "0             M    194.44  510.76  0.380688\n",
       "1             E    113.03  287.17  0.393600\n",
       "2  нет рейтинга     91.50  330.91  0.276510\n",
       "3          E10+     55.43  155.56  0.356326"
      ]
     },
     "metadata": {},
     "output_type": "display_data"
    }
   ],
   "source": [
    "# создаем табличку для региона Европы\n",
    "eu_rating = pivot_region_rating.loc[:, ['rating','eu_sales', 'sales']]\n",
    "# добавляем в нее столбец с долями от продаж по всему миру, производя деление продаж в Европе на продажи во всем мире\n",
    "eu_rating['ratio'] = eu_rating['eu_sales'] / eu_rating['sales']\n",
    "# сортируем по продажам в Европе\n",
    "eu_rating = eu_rating.sort_values(by='eu_sales', ascending=False)\n",
    "eu_rating = eu_rating.reset_index()\n",
    "eu_rating = eu_rating.loc[:3, 'rating':'ratio']\n",
    "# и выводи топ-5 платформ для Европы\n",
    "display(eu_rating)"
   ]
  },
  {
   "cell_type": "markdown",
   "id": "ed222d35",
   "metadata": {},
   "source": [
    "*Япония*"
   ]
  },
  {
   "cell_type": "code",
   "execution_count": 59,
   "id": "f5a702d9",
   "metadata": {},
   "outputs": [
    {
     "data": {
      "text/html": [
       "<div>\n",
       "<style scoped>\n",
       "    .dataframe tbody tr th:only-of-type {\n",
       "        vertical-align: middle;\n",
       "    }\n",
       "\n",
       "    .dataframe tbody tr th {\n",
       "        vertical-align: top;\n",
       "    }\n",
       "\n",
       "    .dataframe thead th {\n",
       "        text-align: right;\n",
       "    }\n",
       "</style>\n",
       "<table border=\"1\" class=\"dataframe\">\n",
       "  <thead>\n",
       "    <tr style=\"text-align: right;\">\n",
       "      <th></th>\n",
       "      <th>rating</th>\n",
       "      <th>jp_sales</th>\n",
       "      <th>sales</th>\n",
       "      <th>ratio</th>\n",
       "    </tr>\n",
       "  </thead>\n",
       "  <tbody>\n",
       "    <tr>\n",
       "      <td>0</td>\n",
       "      <td>нет рейтинга</td>\n",
       "      <td>108.91</td>\n",
       "      <td>330.91</td>\n",
       "      <td>0.329123</td>\n",
       "    </tr>\n",
       "    <tr>\n",
       "      <td>1</td>\n",
       "      <td>E</td>\n",
       "      <td>28.33</td>\n",
       "      <td>287.17</td>\n",
       "      <td>0.098652</td>\n",
       "    </tr>\n",
       "    <tr>\n",
       "      <td>2</td>\n",
       "      <td>T</td>\n",
       "      <td>26.02</td>\n",
       "      <td>163.08</td>\n",
       "      <td>0.159554</td>\n",
       "    </tr>\n",
       "    <tr>\n",
       "      <td>3</td>\n",
       "      <td>M</td>\n",
       "      <td>21.20</td>\n",
       "      <td>510.76</td>\n",
       "      <td>0.041507</td>\n",
       "    </tr>\n",
       "  </tbody>\n",
       "</table>\n",
       "</div>"
      ],
      "text/plain": [
       "         rating  jp_sales   sales     ratio\n",
       "0  нет рейтинга    108.91  330.91  0.329123\n",
       "1             E     28.33  287.17  0.098652\n",
       "2             T     26.02  163.08  0.159554\n",
       "3             M     21.20  510.76  0.041507"
      ]
     },
     "metadata": {},
     "output_type": "display_data"
    }
   ],
   "source": [
    "# создаем табличку для региона Японии\n",
    "jp_rating = pivot_region_rating.loc[:, ['rating','jp_sales', 'sales']]\n",
    "# добавляем в нее столбец с долями от продаж по всему миру, производя деление продаж в Японии на продажи во всем мире\n",
    "jp_rating['ratio'] = jp_rating['jp_sales'] / jp_rating['sales']\n",
    "# сортируем по продажам в Японии\n",
    "jp_rating = jp_rating.sort_values(by='jp_sales', ascending=False)\n",
    "jp_rating = jp_rating.reset_index()\n",
    "jp_rating = jp_rating.loc[:3, 'rating':'ratio']\n",
    "# и выводи топ-5 платформ для Японии\n",
    "display(jp_rating)"
   ]
  },
  {
   "cell_type": "markdown",
   "id": "224af92f",
   "metadata": {},
   "source": [
    "*Другие страны*"
   ]
  },
  {
   "cell_type": "code",
   "execution_count": 60,
   "id": "cf780e87",
   "metadata": {},
   "outputs": [
    {
     "data": {
      "text/html": [
       "<div>\n",
       "<style scoped>\n",
       "    .dataframe tbody tr th:only-of-type {\n",
       "        vertical-align: middle;\n",
       "    }\n",
       "\n",
       "    .dataframe tbody tr th {\n",
       "        vertical-align: top;\n",
       "    }\n",
       "\n",
       "    .dataframe thead th {\n",
       "        text-align: right;\n",
       "    }\n",
       "</style>\n",
       "<table border=\"1\" class=\"dataframe\">\n",
       "  <thead>\n",
       "    <tr style=\"text-align: right;\">\n",
       "      <th></th>\n",
       "      <th>rating</th>\n",
       "      <th>other_sales</th>\n",
       "      <th>sales</th>\n",
       "      <th>ratio</th>\n",
       "    </tr>\n",
       "  </thead>\n",
       "  <tbody>\n",
       "    <tr>\n",
       "      <td>0</td>\n",
       "      <td>M</td>\n",
       "      <td>63.45</td>\n",
       "      <td>510.76</td>\n",
       "      <td>0.124227</td>\n",
       "    </tr>\n",
       "    <tr>\n",
       "      <td>1</td>\n",
       "      <td>E</td>\n",
       "      <td>31.44</td>\n",
       "      <td>287.17</td>\n",
       "      <td>0.109482</td>\n",
       "    </tr>\n",
       "    <tr>\n",
       "      <td>2</td>\n",
       "      <td>нет рейтинга</td>\n",
       "      <td>27.17</td>\n",
       "      <td>330.91</td>\n",
       "      <td>0.082107</td>\n",
       "    </tr>\n",
       "    <tr>\n",
       "      <td>3</td>\n",
       "      <td>T</td>\n",
       "      <td>17.96</td>\n",
       "      <td>163.08</td>\n",
       "      <td>0.110130</td>\n",
       "    </tr>\n",
       "  </tbody>\n",
       "</table>\n",
       "</div>"
      ],
      "text/plain": [
       "         rating  other_sales   sales     ratio\n",
       "0             M        63.45  510.76  0.124227\n",
       "1             E        31.44  287.17  0.109482\n",
       "2  нет рейтинга        27.17  330.91  0.082107\n",
       "3             T        17.96  163.08  0.110130"
      ]
     },
     "metadata": {},
     "output_type": "display_data"
    }
   ],
   "source": [
    "# создаем табличку для других стран\n",
    "other_rating = pivot_region_rating.loc[:, ['rating','other_sales', 'sales']]\n",
    "# добавляем в нее столбец с долями от продаж по всему миру, производя деление продаж в других странах на продажи во всем мире\n",
    "other_rating['ratio'] = other_rating['other_sales'] / other_rating['sales']\n",
    "# сортируем по продажам в других странах\n",
    "other_rating = other_rating.sort_values(by='other_sales', ascending=False)\n",
    "other_rating = other_rating.reset_index()\n",
    "other_rating = other_rating.loc[:3, 'rating':'ratio']\n",
    "# и выводи топ-5 платформ для других стран\n",
    "display(other_rating)"
   ]
  },
  {
   "cell_type": "markdown",
   "id": "3e05fbc3",
   "metadata": {},
   "source": [
    "В Европе и Японии преобладает рейтинг Е, в Северной Америке и других странах преобладает рейтинг М\n",
    "\n",
    "М и Т меняются в зависимости от региона (везде, кроме Японии Т уступает М, в Японии наоборот).\n"
   ]
  },
  {
   "cell_type": "markdown",
   "id": "b268a12f",
   "metadata": {},
   "source": [
    "**Портрет пользователя каждого региона**\n",
    "\n",
    "*Северная Америка*\n",
    "- Предпочитает платформы PS4, PS3 и XOne, X360\n",
    "- Любимые жанры Action, Shooter, Sports, Role-Playing\n",
    "- Рейтинг M, E, нет рейтинга, E10+\n",
    "\n",
    "*Европа*\n",
    "- Предпочитает платформы PS4 и XOne\n",
    "- Любимые жанры Shooter, Action, Sports\n",
    "- Рейтинг M, E, нет рейтинга, E10+\n",
    "\n",
    "*Япония*\n",
    "- Предпочитает платформы 3DS, PS4,\tPSV\n",
    "- Любимые жанры Role-Playing, Action, Misc, Simulation\n",
    "- Рейтинг нет рейтинга, Е, T, M\n",
    "\n",
    "*Другие страны*\n",
    "- Предпочитает платформы X360, XOne, PS4,\tPSV\n",
    "- Любимые жанры Action, Role-Playing\n",
    "- Рейтинг M, Е, нет рейтинга, T"
   ]
  },
  {
   "cell_type": "markdown",
   "id": "be7d4f3c",
   "metadata": {},
   "source": [
    "## 5. Формулирование гипотез."
   ]
  },
  {
   "cell_type": "markdown",
   "id": "f813654d",
   "metadata": {},
   "source": [
    "1. Формулируем нулевую и альтернативную гипотезы по **первому пункту**:\n",
    "\n",
    "Н0 \"Средние пользовательские рейтинги платформ XOne и PC одинаковые\"\n",
    "\n",
    "Н1 \"Средние пользовательские рейтинги платформ XOne и PC разные\"\n",
    "\n",
    "и проверяем их"
   ]
  },
  {
   "cell_type": "code",
   "execution_count": 61,
   "id": "a84d8fe0",
   "metadata": {},
   "outputs": [
    {
     "name": "stdout",
     "output_type": "stream",
     "text": [
      "p-значение: 0.563757590027855\n",
      "Не получилось отвергнуть нулевую гипотезу\n"
     ]
    }
   ],
   "source": [
    "data_2012_2016 = data_2012_2016[(data_2012_2016['user_score']!='tbd')&(~data_2012_2016['user_score'].isna())]\n",
    "\n",
    "list_user_score_xone = []\n",
    "for i in data_2012_2016[data_2012_2016['platform']=='XOne']['user_score']:\n",
    "    list_user_score_xone.append(i)\n",
    "\n",
    "# print(len(list_user_score_xone))\n",
    "    \n",
    "list_user_score_pc = []\n",
    "for i in data_2012_2016[data_2012_2016['platform']=='PC']['user_score']:\n",
    "    list_user_score_pc.append(i)\n",
    "\n",
    "# print(len(list_user_score_pc))\n",
    "    \n",
    "alpha = 0.05 # критический уровень статистической значимости\n",
    "\n",
    "results = st.ttest_ind(list_user_score_pc, list_user_score_xone)\n",
    "\n",
    "print('p-значение:', results.pvalue)\n",
    "\n",
    "if results.pvalue < alpha:\n",
    "    print(\"Отвергаем нулевую гипотезу\")\n",
    "else:\n",
    "    print(\"Не получилось отвергнуть нулевую гипотезу\")"
   ]
  },
  {
   "cell_type": "markdown",
   "id": "069f3013",
   "metadata": {},
   "source": [
    "\n",
    "P-value очень высок, следовательно средние пользовательские рейтинги платформ XOne и PC одинаковые.\n",
    "Проверим через нахождение среднего."
   ]
  },
  {
   "cell_type": "code",
   "execution_count": 62,
   "id": "d7fe204d",
   "metadata": {},
   "outputs": [
    {
     "name": "stdout",
     "output_type": "stream",
     "text": [
      "Среднее значение пользовательского рейтинга платформы XOne 6.52142857142857\n",
      "Среднее значение пользовательского рейтинга платформы PC 6.431603773584903\n"
     ]
    }
   ],
   "source": [
    "print('Среднее значение пользовательского рейтинга платформы XOne', data_2012_2016[data_2012_2016['platform']=='XOne']['user_score'].mean())\n",
    "print('Среднее значение пользовательского рейтинга платформы PC', data_2012_2016[data_2012_2016['platform']=='PC']['user_score'].mean())"
   ]
  },
  {
   "cell_type": "markdown",
   "id": "334f73e6",
   "metadata": {},
   "source": [
    "Действительно, иx значения очень близки, 6,59 и 6,61. Не отвергаем нулевую гипотезу"
   ]
  },
  {
   "cell_type": "markdown",
   "id": "bb5f26f6",
   "metadata": {},
   "source": [
    "2. Формулируем нулевую и альтернативную гипотезы по **второму пункту**:\n",
    "\n",
    "Н0 \"Средние пользовательские рейтинги платформ жанров Action и Sports равны\"\n",
    "\n",
    "Н1 \"Средние пользовательские рейтинги платформ жанров Action и Sports разные\"\n",
    "\n",
    "и проверяем их"
   ]
  },
  {
   "cell_type": "code",
   "execution_count": 63,
   "id": "7480bc07",
   "metadata": {},
   "outputs": [
    {
     "name": "stdout",
     "output_type": "stream",
     "text": [
      "p-значение: 3.0953843730469863e-26\n",
      "Отвергаем нулевую гипотезу\n"
     ]
    }
   ],
   "source": [
    "list_genre_action = []\n",
    "for i in data_2012_2016[data_2012_2016['genre']=='Action']['user_score']:\n",
    "    list_genre_action.append(i)\n",
    "\n",
    "list_genre_sports = []\n",
    "for i in data_2012_2016[data_2012_2016['genre']=='Sports']['user_score']:\n",
    "    list_genre_sports.append(i)\n",
    "\n",
    "    \n",
    "alpha = 0.05 # критический уровень статистической значимости\n",
    "\n",
    "results = st.ttest_ind(list_genre_action, list_genre_sports)\n",
    "\n",
    "print('p-значение:', results.pvalue)\n",
    "\n",
    "if results.pvalue < alpha:\n",
    "    print(\"Отвергаем нулевую гипотезу\")\n",
    "else:\n",
    "    print(\"Не получилось отвергнуть нулевую гипотезу\")"
   ]
  },
  {
   "cell_type": "markdown",
   "id": "12b78696",
   "metadata": {},
   "source": [
    "Cредние пользовательские рейтинги жанров Action и Sports равны.\n",
    "Проверим через нахождение среднего."
   ]
  },
  {
   "cell_type": "code",
   "execution_count": 64,
   "id": "2ec8897d",
   "metadata": {},
   "outputs": [
    {
     "name": "stdout",
     "output_type": "stream",
     "text": [
      "Среднее значение пользовательского рейтинга жанра Action 6.825095057034231\n",
      "Среднее значение пользовательского рейтинга жанра Sports 5.455897435897437\n"
     ]
    }
   ],
   "source": [
    "print('Среднее значение пользовательского рейтинга жанра Action', data_2012_2016[data_2012_2016['genre']=='Action']['user_score'].mean())\n",
    "print('Среднее значение пользовательского рейтинга жанра Sports', data_2012_2016[data_2012_2016['genre']=='Sports']['user_score'].mean())"
   ]
  },
  {
   "cell_type": "markdown",
   "id": "5d036745",
   "metadata": {},
   "source": [
    "Действительно, их значения отличаются, 6,83 и 5,45. Отвергаем нулевую гипотезу."
   ]
  },
  {
   "cell_type": "markdown",
   "id": "dccafa64",
   "metadata": {},
   "source": [
    "## 6. Общий вывод"
   ]
  },
  {
   "cell_type": "markdown",
   "id": "04db6e48",
   "metadata": {},
   "source": [
    "Цель проекта: нужно выявить определяющие успешность игры закономерности, это позволит сделать ставку на потенциально популярный продукт и спланировать рекламные кампании\n",
    "\n",
    "**Полученные данные** \n",
    "\n",
    "Имеем датафрейм из ***11 столбцов***:\n",
    "- Name — название игры\n",
    "- Platform — платформа\n",
    "- Year_of_Release — год выпуска\n",
    "- Genre — жанр игры\n",
    "- NA_sales — продажи в Северной Америке (миллионы проданных копий)\n",
    "- EU_sales — продажи в Европе (миллионы проданных копий)\n",
    "- JP_sales — продажи в Японии (миллионы проданных копий)\n",
    "- Other_sales — продажи в других странах (миллионы проданных копий)\n",
    "- Critic_Score — оценка критиков (максимум 100)\n",
    "- User_Score — оценка пользователей (максимум 10)\n",
    "- Rating — рейтинг от организации ESRB (англ. Entertainment Software Rating Board). Эта ассоциация определяет рейтинг компьютерных игр и присваивает им подходящую возрастную категорию.\n",
    "\n",
    "В последнем столбце Rating перечислены ***категории*** и вот их расшифровки:\n",
    "\n",
    "- E - («Everyone») — «Для всех»\n",
    "- M - («Mature») — «Для взрослых»\n",
    "- T - («Teen») — «Подросткам»\n",
    "- E10+ - («Everyone 10 and older») — «Для всех от 10 лет и старше»\n",
    "- K-A - (\"Kids to Adults\") - версия E до 1996 (после 1996 года категория изменилась на Е)\n",
    "- AO - («Adults Only 18+») — «Только для взрослых»\n",
    "- EC - («Early childhood») — «Для детей младшего возраста»\n",
    "- RP - («Rating Pending») — «Рейтинг ожидается»\n",
    "\n",
    "Отсутствие рейтингов также может означать, что игра не оценивалась, так как ее могли перевыпустить. Поэтому заменим пропуски в рейтингах в актуальном периоде на метку \"нет рейтинга\"\n",
    "\n",
    "**Предобработка данных**\n",
    "\n",
    "Какая была произведена предобработка данных:\n",
    "- удалены строки с пропусками в названиях игр\n",
    "- пропуски в годах заменены с помощью датафрейма, посчитанного вручную (была найдена в гугле игра и ее год выпуска)\n",
    "- пропусков в na_sales, eu_sales, jp_sales и other_sales не было \n",
    "- пропуски в critic_score были заменены на медианы, сгруппированные по платформам\n",
    "- пропуски в user_score были заменены так: так как данные в этом столбце заданы строковым типом данных, выделили срез данных с числами и перевели их в тип float, затем особую пользовательскую оценку так же заменили на пропуск, и после того как в столбце остались только вещественные значения и пропуски, заменили пропуски на медиану, сгруппированную по платформе\n",
    "- пропуски в столбце рейтинг были заменены Е, если игра была выпущена до 1996 года, и на K-A, если игра была выпущена в 1996 году и позже\n",
    "\n",
    "Дополнительно добавили столбец с глобальными продажами по всему миру, посчитанный суммой четырех столбцов по регионам\n",
    "\n",
    "**Исследовательский анализ** \n",
    "\n",
    "Суммарные *продажи* прямо пропорциональны количеству выпущенных игр в определенный год. С 1995 года начинается активный рост вплоть до 2008 года, в который были достигнуты пиковые значения и по количеству игр, и по продажам. Так как зависимость прямая, то для планирования бюджета на 2017 год актуальным периодом будет все предыдущие года. Так что делаем вывод, что даные за все года не важны.\n",
    "\n",
    "По графику видно, что каждая из *платформ* перестает реализовывать игры через 8-10 лет после старта продаж.\n",
    "А также можно следать вывод, что только 3 платформы из них \"дожили\" до 2016 года. Возможно, есть еще платформы с меньшими продажами, но они стартанули недавно и еще не успели дорасти до высоких продаж: PS2, X360, PS3, Wii, DS, PS.\n",
    "\n",
    "Таким образом, планируя бюджет на 2017 год, взяли активные в последние 5 лет платформы. *Актуальный период* - 2012-2016 гг.\n",
    "\n",
    "*Лидирующими* по глобальным продажам *платформы* PS4, XOne, и 3DS. Х360 хочется так же вытащить в лидирующие, но с появлением XOne у нее резкий спад продаж, так что в будущих годах она совсем отвалится.\n",
    "\n",
    "Был построен по трем лидирующим платформам *ящик с усами*. С помощью них определеили, что самая *популярная платформа - это PS4*, так как у 3DS основная масса продаж находится в границах до 1 млн проданных копий, а у XOne до 1,5 млн и резкие скачки не привышают 7 млн. У PS4 продажи, с основном, доходят 2 млн, а резкие скачки и до 14 млн.\n",
    "\n",
    "Рассмотрим именно эту популярную платформу PS4 для исследования *зависимости отзывов пользователей и критиков на продажи*\n",
    "\n",
    "Уровни зависимости продаж от *оценки критиков* по четырем годам различаются, но 2013, 2014 и 2016 года показывают слабую зависимость. Во всех представленных годах при оценке критиков выше 65 баллов продажи выше.\n",
    "Уровни зависимости продаж от *оценки пользователей* по четырем годам в целом очень низкие, кроме 2013 года, там уровень слабый. \n",
    "И уж если на самой популярной платформе крайне слабо зависят продажи от оценок критиков и пользователей, то и такой же вывод можно сделать и *для других платформ*\n",
    "\n",
    "Проверим игры по *жанрам* на этих платформах, какие из них самые востребованные, у каких самые высокие и самые низкие продажи \n",
    "- Выделяется 4 самых прибыльних жанра игр - это Action, Shooter, Role-Playing и Sports.\n",
    "- Менее востребованные и слабо продающиееся - это Misc, Platform, Racing, Fighting\n",
    "- Самые низкие продажи у следующих жанров: Simulation, Adventure, Strategy и Puzzle\n",
    "\n",
    "Топ 5 самых популярных платформ в мире - это PS4, XOne, 3DS, PC, WiiU\n",
    "- Для Северной Америки и других стран большую популярность приобрели PS4 и XOne (но и остальные вышеперечисленные платформы по всему миру так же представлены в рейтинге топ 5 для Северной Америки)\n",
    "- Для Японии это PS4, 3DS и PSV\n",
    "- Для Европы PS4, XOne, 3DS, PC \n",
    "\n",
    "**Портрет пользователя каждого региона**\n",
    "\n",
    "*Северная Америка*\n",
    "- Предпочитает платформы PS4, PS3 и XOne, X360\n",
    "- Любимые жанры Action, Shooter, Sports, Role-Playing\n",
    "- Рейтинг M, E, нет рейтинга, E10+\n",
    "\n",
    "*Европа*\n",
    "- Предпочитает платформы PS4 и XOne\n",
    "- Любимые жанры Shooter, Action, Sports\n",
    "- Рейтинг M, E, нет рейтинга, E10+\n",
    "\n",
    "*Япония*\n",
    "- Предпочитает платформы 3DS, PS4,\tPSV\n",
    "- Любимые жанры Role-Playing, Action, Misc, Simulation\n",
    "- Рейтинг нет рейтинга, Е, T, M\n",
    "\n",
    "*Другие страны*\n",
    "- Предпочитает платформы X360, XOne, PS4,\tPSV\n",
    "- Любимые жанры Action, Role-Playing\n",
    "- Рейтинг M, Е, нет рейтинга, T\n",
    "\n",
    "**Формулирование гипотез**\n",
    "\n",
    "1. Формулируем нулевую и альтернативную гипотезы по *первому пункту*:\n",
    "\n",
    "Н0 \"Средние пользовательские рейтинги платформ XOne и PC одинаковые\"\n",
    "\n",
    "Н1 \"Средние пользовательские рейтинги платформ XOne и PC разные\"\n",
    "\n",
    "P-value очень высок, следовательно средние пользовательские рейтинги платформ XOne и PC одинаковые.\n",
    "\n",
    "Средние значения соответственно 6,59 и 6,61. Не отвергаем нулевую гипотезу\n",
    "\n",
    "2. Формулируем нулевую и альтернативную гипотезы по *второму пункту*:\n",
    "Н0 \"Средние пользовательские рейтинги платформ жанров Action и Sports равные\"\n",
    "\n",
    "Н1 \"Средние пользовательские рейтинги платформ жанров Action и Sports разные\"\n",
    "\n",
    "Средние значения соответственно 6,83 и 5,45. Не отвергаем нулевую гипотезу."
   ]
  }
 ],
 "metadata": {
  "ExecuteTimeLog": [
   {
    "duration": 1558,
    "start_time": "2022-01-16T15:46:15.313Z"
   },
   {
    "duration": 3171,
    "start_time": "2022-01-16T15:46:16.873Z"
   },
   {
    "duration": -177,
    "start_time": "2022-01-16T15:46:20.227Z"
   },
   {
    "duration": -178,
    "start_time": "2022-01-16T15:46:20.229Z"
   },
   {
    "duration": -179,
    "start_time": "2022-01-16T15:46:20.232Z"
   },
   {
    "duration": -179,
    "start_time": "2022-01-16T15:46:20.234Z"
   },
   {
    "duration": -184,
    "start_time": "2022-01-16T15:46:20.241Z"
   },
   {
    "duration": -186,
    "start_time": "2022-01-16T15:46:20.244Z"
   },
   {
    "duration": -185,
    "start_time": "2022-01-16T15:46:20.246Z"
   },
   {
    "duration": -186,
    "start_time": "2022-01-16T15:46:20.249Z"
   },
   {
    "duration": -187,
    "start_time": "2022-01-16T15:46:20.251Z"
   },
   {
    "duration": -187,
    "start_time": "2022-01-16T15:46:20.253Z"
   },
   {
    "duration": -187,
    "start_time": "2022-01-16T15:46:20.255Z"
   },
   {
    "duration": -187,
    "start_time": "2022-01-16T15:46:20.257Z"
   },
   {
    "duration": -188,
    "start_time": "2022-01-16T15:46:20.259Z"
   },
   {
    "duration": -187,
    "start_time": "2022-01-16T15:46:20.260Z"
   },
   {
    "duration": -188,
    "start_time": "2022-01-16T15:46:20.262Z"
   },
   {
    "duration": -188,
    "start_time": "2022-01-16T15:46:20.264Z"
   },
   {
    "duration": -188,
    "start_time": "2022-01-16T15:46:20.265Z"
   },
   {
    "duration": -188,
    "start_time": "2022-01-16T15:46:20.267Z"
   },
   {
    "duration": -189,
    "start_time": "2022-01-16T15:46:20.269Z"
   },
   {
    "duration": -188,
    "start_time": "2022-01-16T15:46:20.270Z"
   },
   {
    "duration": -189,
    "start_time": "2022-01-16T15:46:20.272Z"
   },
   {
    "duration": -221,
    "start_time": "2022-01-16T15:46:20.306Z"
   },
   {
    "duration": -221,
    "start_time": "2022-01-16T15:46:20.308Z"
   },
   {
    "duration": -221,
    "start_time": "2022-01-16T15:46:20.310Z"
   },
   {
    "duration": -220,
    "start_time": "2022-01-16T15:46:20.311Z"
   },
   {
    "duration": -222,
    "start_time": "2022-01-16T15:46:20.314Z"
   },
   {
    "duration": -223,
    "start_time": "2022-01-16T15:46:20.316Z"
   },
   {
    "duration": -223,
    "start_time": "2022-01-16T15:46:20.318Z"
   },
   {
    "duration": -230,
    "start_time": "2022-01-16T15:46:20.326Z"
   },
   {
    "duration": -245,
    "start_time": "2022-01-16T15:46:20.342Z"
   },
   {
    "duration": -246,
    "start_time": "2022-01-16T15:46:20.344Z"
   },
   {
    "duration": -247,
    "start_time": "2022-01-16T15:46:20.346Z"
   },
   {
    "duration": -284,
    "start_time": "2022-01-16T15:46:20.385Z"
   },
   {
    "duration": -225,
    "start_time": "2022-01-16T15:46:20.392Z"
   },
   {
    "duration": -226,
    "start_time": "2022-01-16T15:46:20.394Z"
   },
   {
    "duration": -227,
    "start_time": "2022-01-16T15:46:20.396Z"
   },
   {
    "duration": -226,
    "start_time": "2022-01-16T15:46:20.397Z"
   },
   {
    "duration": -227,
    "start_time": "2022-01-16T15:46:20.399Z"
   },
   {
    "duration": -228,
    "start_time": "2022-01-16T15:46:20.401Z"
   },
   {
    "duration": -241,
    "start_time": "2022-01-16T15:46:20.416Z"
   },
   {
    "duration": -343,
    "start_time": "2022-01-16T15:46:20.519Z"
   },
   {
    "duration": -369,
    "start_time": "2022-01-16T15:46:20.546Z"
   },
   {
    "duration": -381,
    "start_time": "2022-01-16T15:46:20.559Z"
   },
   {
    "duration": -386,
    "start_time": "2022-01-16T15:46:20.566Z"
   },
   {
    "duration": -386,
    "start_time": "2022-01-16T15:46:20.567Z"
   },
   {
    "duration": -386,
    "start_time": "2022-01-16T15:46:20.569Z"
   },
   {
    "duration": -450,
    "start_time": "2022-01-16T15:46:20.634Z"
   },
   {
    "duration": -450,
    "start_time": "2022-01-16T15:46:20.636Z"
   },
   {
    "duration": -451,
    "start_time": "2022-01-16T15:46:20.638Z"
   },
   {
    "duration": -451,
    "start_time": "2022-01-16T15:46:20.640Z"
   },
   {
    "duration": -451,
    "start_time": "2022-01-16T15:46:20.641Z"
   },
   {
    "duration": -451,
    "start_time": "2022-01-16T15:46:20.643Z"
   },
   {
    "duration": -451,
    "start_time": "2022-01-16T15:46:20.645Z"
   },
   {
    "duration": -452,
    "start_time": "2022-01-16T15:46:20.647Z"
   },
   {
    "duration": -451,
    "start_time": "2022-01-16T15:46:20.648Z"
   },
   {
    "duration": -451,
    "start_time": "2022-01-16T15:46:20.650Z"
   },
   {
    "duration": -451,
    "start_time": "2022-01-16T15:46:20.651Z"
   },
   {
    "duration": -395,
    "start_time": "2022-01-16T15:46:20.653Z"
   },
   {
    "duration": -395,
    "start_time": "2022-01-16T15:46:20.655Z"
   },
   {
    "duration": -395,
    "start_time": "2022-01-16T15:46:20.657Z"
   },
   {
    "duration": -395,
    "start_time": "2022-01-16T15:46:20.658Z"
   },
   {
    "duration": -395,
    "start_time": "2022-01-16T15:46:20.660Z"
   },
   {
    "duration": -395,
    "start_time": "2022-01-16T15:46:20.662Z"
   },
   {
    "duration": -397,
    "start_time": "2022-01-16T15:46:20.665Z"
   },
   {
    "duration": -404,
    "start_time": "2022-01-16T15:46:20.674Z"
   },
   {
    "duration": -405,
    "start_time": "2022-01-16T15:46:20.676Z"
   },
   {
    "duration": -405,
    "start_time": "2022-01-16T15:46:20.678Z"
   },
   {
    "duration": -405,
    "start_time": "2022-01-16T15:46:20.679Z"
   },
   {
    "duration": 836,
    "start_time": "2022-01-16T16:36:18.367Z"
   },
   {
    "duration": 1040,
    "start_time": "2022-01-16T16:36:20.875Z"
   },
   {
    "duration": 55,
    "start_time": "2022-01-16T16:36:22.495Z"
   },
   {
    "duration": 10,
    "start_time": "2022-01-16T16:36:51.180Z"
   },
   {
    "duration": 4,
    "start_time": "2022-01-16T16:36:53.435Z"
   },
   {
    "duration": 16,
    "start_time": "2022-01-16T16:36:54.687Z"
   },
   {
    "duration": 13,
    "start_time": "2022-01-16T16:36:59.454Z"
   },
   {
    "duration": 5,
    "start_time": "2022-01-16T16:37:02.231Z"
   },
   {
    "duration": 20,
    "start_time": "2022-01-16T16:37:03.910Z"
   },
   {
    "duration": 22,
    "start_time": "2022-01-16T16:37:06.005Z"
   },
   {
    "duration": 12,
    "start_time": "2022-01-16T16:37:09.149Z"
   },
   {
    "duration": 12,
    "start_time": "2022-01-16T16:37:27.112Z"
   },
   {
    "duration": 21,
    "start_time": "2022-01-16T16:38:32.663Z"
   },
   {
    "duration": 142,
    "start_time": "2022-01-16T16:38:35.800Z"
   },
   {
    "duration": 3,
    "start_time": "2022-01-16T16:38:41.105Z"
   },
   {
    "duration": 454,
    "start_time": "2022-01-16T16:38:48.099Z"
   },
   {
    "duration": 7,
    "start_time": "2022-01-16T16:40:58.858Z"
   },
   {
    "duration": 11,
    "start_time": "2022-01-16T16:41:01.634Z"
   },
   {
    "duration": 36,
    "start_time": "2022-01-16T16:41:06.347Z"
   },
   {
    "duration": 4,
    "start_time": "2022-01-16T16:41:51.052Z"
   },
   {
    "duration": 6,
    "start_time": "2022-01-16T16:41:59.309Z"
   },
   {
    "duration": 7,
    "start_time": "2022-01-16T16:42:35.856Z"
   },
   {
    "duration": 16,
    "start_time": "2022-01-16T16:42:37.436Z"
   },
   {
    "duration": 13,
    "start_time": "2022-01-16T16:42:41.525Z"
   },
   {
    "duration": 3,
    "start_time": "2022-01-16T16:44:04.972Z"
   },
   {
    "duration": 3,
    "start_time": "2022-01-16T16:44:08.203Z"
   },
   {
    "duration": 2,
    "start_time": "2022-01-16T16:44:11.827Z"
   },
   {
    "duration": 22,
    "start_time": "2022-01-16T16:44:53.027Z"
   },
   {
    "duration": 21,
    "start_time": "2022-01-16T16:46:05.265Z"
   },
   {
    "duration": 11,
    "start_time": "2022-01-16T16:46:07.572Z"
   },
   {
    "duration": 216,
    "start_time": "2022-01-16T16:46:09.543Z"
   },
   {
    "duration": 20,
    "start_time": "2022-01-16T16:46:12.849Z"
   },
   {
    "duration": 13,
    "start_time": "2022-01-16T16:46:14.855Z"
   },
   {
    "duration": 7,
    "start_time": "2022-01-16T16:46:16.875Z"
   },
   {
    "duration": 311,
    "start_time": "2022-01-16T16:46:18.686Z"
   },
   {
    "duration": 228,
    "start_time": "2022-01-16T16:47:19.369Z"
   },
   {
    "duration": 72,
    "start_time": "2022-01-16T16:47:27.489Z"
   },
   {
    "duration": 24,
    "start_time": "2022-01-16T16:47:34.297Z"
   },
   {
    "duration": 1048,
    "start_time": "2022-01-16T16:47:41.417Z"
   },
   {
    "duration": 53,
    "start_time": "2022-01-16T16:47:42.467Z"
   },
   {
    "duration": 9,
    "start_time": "2022-01-16T16:47:42.522Z"
   },
   {
    "duration": 4,
    "start_time": "2022-01-16T16:47:42.533Z"
   },
   {
    "duration": 16,
    "start_time": "2022-01-16T16:47:42.538Z"
   },
   {
    "duration": 13,
    "start_time": "2022-01-16T16:47:42.555Z"
   },
   {
    "duration": 31,
    "start_time": "2022-01-16T16:47:42.570Z"
   },
   {
    "duration": 19,
    "start_time": "2022-01-16T16:47:42.604Z"
   },
   {
    "duration": 21,
    "start_time": "2022-01-16T16:47:42.626Z"
   },
   {
    "duration": 13,
    "start_time": "2022-01-16T16:47:42.649Z"
   },
   {
    "duration": 6,
    "start_time": "2022-01-16T16:47:42.664Z"
   },
   {
    "duration": 38,
    "start_time": "2022-01-16T16:47:42.672Z"
   },
   {
    "duration": 21,
    "start_time": "2022-01-16T16:47:42.712Z"
   },
   {
    "duration": 165,
    "start_time": "2022-01-16T16:47:42.735Z"
   },
   {
    "duration": 5,
    "start_time": "2022-01-16T16:47:42.902Z"
   },
   {
    "duration": 4,
    "start_time": "2022-01-16T16:47:42.909Z"
   },
   {
    "duration": 11,
    "start_time": "2022-01-16T16:47:42.914Z"
   },
   {
    "duration": 5,
    "start_time": "2022-01-16T16:47:42.926Z"
   },
   {
    "duration": 29,
    "start_time": "2022-01-16T16:47:42.933Z"
   },
   {
    "duration": 18,
    "start_time": "2022-01-16T16:47:42.963Z"
   },
   {
    "duration": 9,
    "start_time": "2022-01-16T16:47:42.998Z"
   },
   {
    "duration": 233,
    "start_time": "2022-01-16T16:47:43.009Z"
   },
   {
    "duration": 19,
    "start_time": "2022-01-16T16:47:43.246Z"
   },
   {
    "duration": 12,
    "start_time": "2022-01-16T16:47:43.268Z"
   },
   {
    "duration": 9,
    "start_time": "2022-01-16T16:47:43.298Z"
   },
   {
    "duration": 29,
    "start_time": "2022-01-16T16:47:43.309Z"
   },
   {
    "duration": 285,
    "start_time": "2022-01-16T16:47:43.340Z"
   },
   {
    "duration": -26,
    "start_time": "2022-01-16T16:47:43.653Z"
   },
   {
    "duration": -34,
    "start_time": "2022-01-16T16:47:43.662Z"
   },
   {
    "duration": -35,
    "start_time": "2022-01-16T16:47:43.664Z"
   },
   {
    "duration": -36,
    "start_time": "2022-01-16T16:47:43.666Z"
   },
   {
    "duration": -38,
    "start_time": "2022-01-16T16:47:43.668Z"
   },
   {
    "duration": -44,
    "start_time": "2022-01-16T16:47:43.675Z"
   },
   {
    "duration": -45,
    "start_time": "2022-01-16T16:47:43.677Z"
   },
   {
    "duration": -46,
    "start_time": "2022-01-16T16:47:43.679Z"
   },
   {
    "duration": -46,
    "start_time": "2022-01-16T16:47:43.680Z"
   },
   {
    "duration": -47,
    "start_time": "2022-01-16T16:47:43.682Z"
   },
   {
    "duration": -48,
    "start_time": "2022-01-16T16:47:43.684Z"
   },
   {
    "duration": -53,
    "start_time": "2022-01-16T16:47:43.690Z"
   },
   {
    "duration": -53,
    "start_time": "2022-01-16T16:47:43.691Z"
   },
   {
    "duration": -56,
    "start_time": "2022-01-16T16:47:43.694Z"
   },
   {
    "duration": -56,
    "start_time": "2022-01-16T16:47:43.695Z"
   },
   {
    "duration": -56,
    "start_time": "2022-01-16T16:47:43.697Z"
   },
   {
    "duration": -56,
    "start_time": "2022-01-16T16:47:43.698Z"
   },
   {
    "duration": -56,
    "start_time": "2022-01-16T16:47:43.699Z"
   },
   {
    "duration": -56,
    "start_time": "2022-01-16T16:47:43.700Z"
   },
   {
    "duration": -62,
    "start_time": "2022-01-16T16:47:43.706Z"
   },
   {
    "duration": -62,
    "start_time": "2022-01-16T16:47:43.707Z"
   },
   {
    "duration": -62,
    "start_time": "2022-01-16T16:47:43.709Z"
   },
   {
    "duration": -63,
    "start_time": "2022-01-16T16:47:43.710Z"
   },
   {
    "duration": -63,
    "start_time": "2022-01-16T16:47:43.711Z"
   },
   {
    "duration": -63,
    "start_time": "2022-01-16T16:47:43.712Z"
   },
   {
    "duration": -63,
    "start_time": "2022-01-16T16:47:43.713Z"
   },
   {
    "duration": -63,
    "start_time": "2022-01-16T16:47:43.714Z"
   },
   {
    "duration": -64,
    "start_time": "2022-01-16T16:47:43.716Z"
   },
   {
    "duration": -64,
    "start_time": "2022-01-16T16:47:43.717Z"
   },
   {
    "duration": -68,
    "start_time": "2022-01-16T16:47:43.722Z"
   },
   {
    "duration": -68,
    "start_time": "2022-01-16T16:47:43.723Z"
   },
   {
    "duration": -68,
    "start_time": "2022-01-16T16:47:43.724Z"
   },
   {
    "duration": -68,
    "start_time": "2022-01-16T16:47:43.725Z"
   },
   {
    "duration": 25,
    "start_time": "2022-01-16T16:49:07.584Z"
   },
   {
    "duration": 219,
    "start_time": "2022-01-16T16:49:13.301Z"
   },
   {
    "duration": 26,
    "start_time": "2022-01-16T16:49:15.363Z"
   },
   {
    "duration": 32,
    "start_time": "2022-01-16T16:49:38.198Z"
   },
   {
    "duration": 35,
    "start_time": "2022-01-16T16:49:52.666Z"
   },
   {
    "duration": 38,
    "start_time": "2022-01-16T16:50:01.697Z"
   },
   {
    "duration": 67,
    "start_time": "2022-01-16T16:50:04.545Z"
   },
   {
    "duration": 35,
    "start_time": "2022-01-16T16:50:16.795Z"
   },
   {
    "duration": 37,
    "start_time": "2022-01-16T16:50:25.018Z"
   },
   {
    "duration": 231,
    "start_time": "2022-01-16T16:50:28.227Z"
   },
   {
    "duration": 8,
    "start_time": "2022-01-16T16:50:31.240Z"
   },
   {
    "duration": 26,
    "start_time": "2022-01-16T16:50:34.405Z"
   },
   {
    "duration": 273,
    "start_time": "2022-01-16T16:50:39.635Z"
   },
   {
    "duration": 435,
    "start_time": "2022-01-16T16:50:43.191Z"
   },
   {
    "duration": 135,
    "start_time": "2022-01-16T16:53:09.550Z"
   },
   {
    "duration": 395,
    "start_time": "2022-01-16T16:53:48.161Z"
   },
   {
    "duration": 448,
    "start_time": "2022-01-16T16:54:12.131Z"
   },
   {
    "duration": 688,
    "start_time": "2022-01-16T16:54:18.122Z"
   },
   {
    "duration": 383,
    "start_time": "2022-01-16T16:54:58.555Z"
   },
   {
    "duration": 136,
    "start_time": "2022-01-16T16:55:02.509Z"
   },
   {
    "duration": 384,
    "start_time": "2022-01-16T16:58:22.040Z"
   },
   {
    "duration": 466,
    "start_time": "2022-01-16T17:00:03.057Z"
   },
   {
    "duration": 143,
    "start_time": "2022-01-16T17:00:21.903Z"
   },
   {
    "duration": 181,
    "start_time": "2022-01-16T17:00:43.242Z"
   },
   {
    "duration": 377,
    "start_time": "2022-01-16T17:01:16.441Z"
   },
   {
    "duration": 166,
    "start_time": "2022-01-16T17:03:48.539Z"
   },
   {
    "duration": 20,
    "start_time": "2022-01-16T17:09:41.374Z"
   },
   {
    "duration": 30,
    "start_time": "2022-01-16T17:09:45.026Z"
   },
   {
    "duration": 3,
    "start_time": "2022-01-16T17:09:47.023Z"
   },
   {
    "duration": 247,
    "start_time": "2022-01-16T17:09:49.906Z"
   },
   {
    "duration": 1241,
    "start_time": "2022-01-16T17:09:52.071Z"
   },
   {
    "duration": 33,
    "start_time": "2022-01-16T17:09:57.579Z"
   },
   {
    "duration": 212,
    "start_time": "2022-01-16T17:09:59.981Z"
   },
   {
    "duration": 224,
    "start_time": "2022-01-16T17:10:01.974Z"
   },
   {
    "duration": 1038,
    "start_time": "2022-01-16T17:12:02.739Z"
   },
   {
    "duration": 57,
    "start_time": "2022-01-16T17:12:03.779Z"
   },
   {
    "duration": 12,
    "start_time": "2022-01-16T17:12:03.838Z"
   },
   {
    "duration": 4,
    "start_time": "2022-01-16T17:12:03.852Z"
   },
   {
    "duration": 42,
    "start_time": "2022-01-16T17:12:03.858Z"
   },
   {
    "duration": 14,
    "start_time": "2022-01-16T17:12:03.902Z"
   },
   {
    "duration": 7,
    "start_time": "2022-01-16T17:12:03.918Z"
   },
   {
    "duration": 20,
    "start_time": "2022-01-16T17:12:03.927Z"
   },
   {
    "duration": 49,
    "start_time": "2022-01-16T17:12:03.949Z"
   },
   {
    "duration": 9,
    "start_time": "2022-01-16T17:12:04.000Z"
   },
   {
    "duration": 7,
    "start_time": "2022-01-16T17:12:04.011Z"
   },
   {
    "duration": 14,
    "start_time": "2022-01-16T17:12:04.019Z"
   },
   {
    "duration": 20,
    "start_time": "2022-01-16T17:12:04.063Z"
   },
   {
    "duration": 144,
    "start_time": "2022-01-16T17:12:04.231Z"
   },
   {
    "duration": 6,
    "start_time": "2022-01-16T17:12:05.060Z"
   },
   {
    "duration": 1606,
    "start_time": "2022-01-16T17:13:59.809Z"
   },
   {
    "duration": 1596,
    "start_time": "2022-01-16T17:14:50.473Z"
   },
   {
    "duration": 15,
    "start_time": "2022-01-16T17:16:53.508Z"
   },
   {
    "duration": 21,
    "start_time": "2022-01-16T17:17:01.119Z"
   },
   {
    "duration": 21,
    "start_time": "2022-01-16T17:17:05.025Z"
   },
   {
    "duration": 10,
    "start_time": "2022-01-16T17:17:05.386Z"
   },
   {
    "duration": 241,
    "start_time": "2022-01-16T17:17:05.601Z"
   },
   {
    "duration": 21,
    "start_time": "2022-01-16T17:17:06.298Z"
   },
   {
    "duration": 13,
    "start_time": "2022-01-16T17:17:06.549Z"
   },
   {
    "duration": 8,
    "start_time": "2022-01-16T17:17:07.401Z"
   },
   {
    "duration": 36,
    "start_time": "2022-01-16T17:17:08.118Z"
   },
   {
    "duration": 226,
    "start_time": "2022-01-16T17:17:08.554Z"
   },
   {
    "duration": 7,
    "start_time": "2022-01-16T17:17:08.975Z"
   },
   {
    "duration": 25,
    "start_time": "2022-01-16T17:17:09.195Z"
   },
   {
    "duration": 254,
    "start_time": "2022-01-16T17:17:09.525Z"
   },
   {
    "duration": 169,
    "start_time": "2022-01-16T17:17:12.137Z"
   },
   {
    "duration": 20,
    "start_time": "2022-01-16T17:17:14.401Z"
   },
   {
    "duration": 31,
    "start_time": "2022-01-16T17:17:16.651Z"
   },
   {
    "duration": 3,
    "start_time": "2022-01-16T17:17:17.346Z"
   },
   {
    "duration": 236,
    "start_time": "2022-01-16T17:17:17.982Z"
   },
   {
    "duration": 1046,
    "start_time": "2022-01-16T17:17:19.654Z"
   },
   {
    "duration": 28,
    "start_time": "2022-01-16T17:17:26.115Z"
   },
   {
    "duration": 208,
    "start_time": "2022-01-16T17:17:28.247Z"
   },
   {
    "duration": 270,
    "start_time": "2022-01-16T17:18:32.990Z"
   },
   {
    "duration": 16,
    "start_time": "2022-01-16T17:20:05.143Z"
   },
   {
    "duration": 14,
    "start_time": "2022-01-16T17:20:11.971Z"
   },
   {
    "duration": 15,
    "start_time": "2022-01-16T17:20:27.555Z"
   },
   {
    "duration": 15,
    "start_time": "2022-01-16T17:21:09.927Z"
   },
   {
    "duration": 1042,
    "start_time": "2022-01-16T17:21:28.932Z"
   },
   {
    "duration": 55,
    "start_time": "2022-01-16T17:21:29.976Z"
   },
   {
    "duration": 10,
    "start_time": "2022-01-16T17:21:30.034Z"
   },
   {
    "duration": 6,
    "start_time": "2022-01-16T17:21:30.046Z"
   },
   {
    "duration": 21,
    "start_time": "2022-01-16T17:21:30.053Z"
   },
   {
    "duration": 31,
    "start_time": "2022-01-16T17:21:30.076Z"
   },
   {
    "duration": 8,
    "start_time": "2022-01-16T17:21:30.109Z"
   },
   {
    "duration": 20,
    "start_time": "2022-01-16T17:21:30.120Z"
   },
   {
    "duration": 23,
    "start_time": "2022-01-16T17:21:30.142Z"
   },
   {
    "duration": 39,
    "start_time": "2022-01-16T17:21:30.167Z"
   },
   {
    "duration": 8,
    "start_time": "2022-01-16T17:21:30.207Z"
   },
   {
    "duration": 20,
    "start_time": "2022-01-16T17:21:30.217Z"
   },
   {
    "duration": 20,
    "start_time": "2022-01-16T17:21:30.239Z"
   },
   {
    "duration": 165,
    "start_time": "2022-01-16T17:21:30.261Z"
   },
   {
    "duration": 5,
    "start_time": "2022-01-16T17:21:30.427Z"
   },
   {
    "duration": 24,
    "start_time": "2022-01-16T17:21:30.434Z"
   },
   {
    "duration": 7,
    "start_time": "2022-01-16T17:21:30.459Z"
   },
   {
    "duration": 9,
    "start_time": "2022-01-16T17:21:30.467Z"
   },
   {
    "duration": 11,
    "start_time": "2022-01-16T17:21:30.478Z"
   },
   {
    "duration": 30,
    "start_time": "2022-01-16T17:21:30.490Z"
   },
   {
    "duration": 19,
    "start_time": "2022-01-16T17:21:30.521Z"
   },
   {
    "duration": 10,
    "start_time": "2022-01-16T17:21:30.542Z"
   },
   {
    "duration": 253,
    "start_time": "2022-01-16T17:21:30.555Z"
   },
   {
    "duration": 19,
    "start_time": "2022-01-16T17:21:30.810Z"
   },
   {
    "duration": 11,
    "start_time": "2022-01-16T17:21:30.831Z"
   },
   {
    "duration": 11,
    "start_time": "2022-01-16T17:21:30.843Z"
   },
   {
    "duration": 59,
    "start_time": "2022-01-16T17:21:30.855Z"
   },
   {
    "duration": 258,
    "start_time": "2022-01-16T17:21:30.915Z"
   },
   {
    "duration": 8,
    "start_time": "2022-01-16T17:21:31.174Z"
   },
   {
    "duration": 42,
    "start_time": "2022-01-16T17:21:31.183Z"
   },
   {
    "duration": 310,
    "start_time": "2022-01-16T17:21:31.227Z"
   },
   {
    "duration": 201,
    "start_time": "2022-01-16T17:21:31.538Z"
   },
   {
    "duration": 20,
    "start_time": "2022-01-16T17:21:31.741Z"
   },
   {
    "duration": 47,
    "start_time": "2022-01-16T17:21:31.762Z"
   },
   {
    "duration": 2,
    "start_time": "2022-01-16T17:21:31.811Z"
   },
   {
    "duration": 255,
    "start_time": "2022-01-16T17:21:31.814Z"
   },
   {
    "duration": 1020,
    "start_time": "2022-01-16T17:21:32.071Z"
   },
   {
    "duration": 30,
    "start_time": "2022-01-16T17:21:33.092Z"
   },
   {
    "duration": 14,
    "start_time": "2022-01-16T17:21:33.124Z"
   },
   {
    "duration": 317,
    "start_time": "2022-01-16T17:21:33.140Z"
   },
   {
    "duration": -54,
    "start_time": "2022-01-16T17:21:33.513Z"
   },
   {
    "duration": -56,
    "start_time": "2022-01-16T17:21:33.516Z"
   },
   {
    "duration": -81,
    "start_time": "2022-01-16T17:21:33.542Z"
   },
   {
    "duration": -83,
    "start_time": "2022-01-16T17:21:33.545Z"
   },
   {
    "duration": -84,
    "start_time": "2022-01-16T17:21:33.547Z"
   },
   {
    "duration": -90,
    "start_time": "2022-01-16T17:21:33.554Z"
   },
   {
    "duration": -91,
    "start_time": "2022-01-16T17:21:33.556Z"
   },
   {
    "duration": -92,
    "start_time": "2022-01-16T17:21:33.558Z"
   },
   {
    "duration": -92,
    "start_time": "2022-01-16T17:21:33.559Z"
   },
   {
    "duration": -93,
    "start_time": "2022-01-16T17:21:33.561Z"
   },
   {
    "duration": -93,
    "start_time": "2022-01-16T17:21:33.562Z"
   },
   {
    "duration": -95,
    "start_time": "2022-01-16T17:21:33.566Z"
   },
   {
    "duration": -96,
    "start_time": "2022-01-16T17:21:33.568Z"
   },
   {
    "duration": -96,
    "start_time": "2022-01-16T17:21:33.569Z"
   },
   {
    "duration": -96,
    "start_time": "2022-01-16T17:21:33.570Z"
   },
   {
    "duration": -97,
    "start_time": "2022-01-16T17:21:33.572Z"
   },
   {
    "duration": -97,
    "start_time": "2022-01-16T17:21:33.573Z"
   },
   {
    "duration": -97,
    "start_time": "2022-01-16T17:21:33.574Z"
   },
   {
    "duration": -98,
    "start_time": "2022-01-16T17:21:33.576Z"
   },
   {
    "duration": -99,
    "start_time": "2022-01-16T17:21:33.577Z"
   },
   {
    "duration": -99,
    "start_time": "2022-01-16T17:21:33.578Z"
   },
   {
    "duration": 243,
    "start_time": "2022-01-16T17:21:46.191Z"
   },
   {
    "duration": 292,
    "start_time": "2022-01-16T17:21:50.617Z"
   },
   {
    "duration": 315,
    "start_time": "2022-01-16T17:22:32.731Z"
   },
   {
    "duration": 223,
    "start_time": "2022-01-16T17:22:39.806Z"
   },
   {
    "duration": 26,
    "start_time": "2022-01-16T17:22:54.660Z"
   },
   {
    "duration": 292,
    "start_time": "2022-01-16T17:22:57.208Z"
   },
   {
    "duration": 21,
    "start_time": "2022-01-16T17:24:16.424Z"
   },
   {
    "duration": 23,
    "start_time": "2022-01-16T17:27:02.727Z"
   },
   {
    "duration": 22,
    "start_time": "2022-01-16T17:27:04.786Z"
   },
   {
    "duration": 13,
    "start_time": "2022-01-16T17:30:39.800Z"
   },
   {
    "duration": 14,
    "start_time": "2022-01-16T17:30:46.372Z"
   },
   {
    "duration": 12,
    "start_time": "2022-01-16T17:30:48.698Z"
   },
   {
    "duration": 12,
    "start_time": "2022-01-16T17:30:50.889Z"
   },
   {
    "duration": 22,
    "start_time": "2022-01-16T17:31:00.872Z"
   },
   {
    "duration": 22,
    "start_time": "2022-01-16T17:31:29.655Z"
   },
   {
    "duration": 13,
    "start_time": "2022-01-16T17:33:08.042Z"
   },
   {
    "duration": 13,
    "start_time": "2022-01-16T17:33:10.642Z"
   },
   {
    "duration": 13,
    "start_time": "2022-01-16T17:33:12.894Z"
   },
   {
    "duration": 14,
    "start_time": "2022-01-16T17:33:14.929Z"
   },
   {
    "duration": 21,
    "start_time": "2022-01-16T17:33:17.199Z"
   },
   {
    "duration": 15,
    "start_time": "2022-01-16T17:33:20.958Z"
   },
   {
    "duration": 15,
    "start_time": "2022-01-16T17:33:23.281Z"
   },
   {
    "duration": 13,
    "start_time": "2022-01-16T17:33:25.349Z"
   },
   {
    "duration": 14,
    "start_time": "2022-01-16T17:33:26.108Z"
   },
   {
    "duration": 384,
    "start_time": "2022-01-16T17:33:31.389Z"
   },
   {
    "duration": 10,
    "start_time": "2022-01-16T17:34:28.848Z"
   },
   {
    "duration": 12,
    "start_time": "2022-01-16T17:35:15.120Z"
   },
   {
    "duration": 11,
    "start_time": "2022-01-16T17:35:21.642Z"
   },
   {
    "duration": 9,
    "start_time": "2022-01-16T17:36:06.734Z"
   },
   {
    "duration": 9,
    "start_time": "2022-01-16T17:36:40.147Z"
   },
   {
    "duration": 7,
    "start_time": "2022-01-16T17:36:40.742Z"
   },
   {
    "duration": 513,
    "start_time": "2022-01-16T18:37:28.793Z"
   },
   {
    "duration": 2084,
    "start_time": "2022-01-16T18:37:37.400Z"
   },
   {
    "duration": 78,
    "start_time": "2022-01-16T18:37:39.487Z"
   },
   {
    "duration": 18,
    "start_time": "2022-01-16T18:37:39.568Z"
   },
   {
    "duration": 5,
    "start_time": "2022-01-16T18:37:39.589Z"
   },
   {
    "duration": 24,
    "start_time": "2022-01-16T18:37:39.596Z"
   },
   {
    "duration": 61,
    "start_time": "2022-01-16T18:37:39.622Z"
   },
   {
    "duration": 9,
    "start_time": "2022-01-16T18:37:39.685Z"
   },
   {
    "duration": 72,
    "start_time": "2022-01-16T18:37:39.698Z"
   },
   {
    "duration": 35,
    "start_time": "2022-01-16T18:37:39.774Z"
   },
   {
    "duration": 20,
    "start_time": "2022-01-16T18:37:39.813Z"
   },
   {
    "duration": 12,
    "start_time": "2022-01-16T18:37:39.864Z"
   },
   {
    "duration": 21,
    "start_time": "2022-01-16T18:37:39.879Z"
   },
   {
    "duration": 63,
    "start_time": "2022-01-16T18:37:39.902Z"
   },
   {
    "duration": 1146,
    "start_time": "2022-01-16T18:37:39.967Z"
   },
   {
    "duration": 7,
    "start_time": "2022-01-16T18:37:41.115Z"
   },
   {
    "duration": 40,
    "start_time": "2022-01-16T18:37:41.124Z"
   },
   {
    "duration": 3,
    "start_time": "2022-01-16T18:37:41.167Z"
   },
   {
    "duration": 4,
    "start_time": "2022-01-16T18:37:41.174Z"
   },
   {
    "duration": 8,
    "start_time": "2022-01-16T18:37:41.181Z"
   },
   {
    "duration": 72,
    "start_time": "2022-01-16T18:37:41.191Z"
   },
   {
    "duration": 25,
    "start_time": "2022-01-16T18:37:41.265Z"
   },
   {
    "duration": 16,
    "start_time": "2022-01-16T18:37:41.292Z"
   },
   {
    "duration": 401,
    "start_time": "2022-01-16T18:37:41.313Z"
   },
   {
    "duration": 26,
    "start_time": "2022-01-16T18:37:41.717Z"
   },
   {
    "duration": 41,
    "start_time": "2022-01-16T18:37:41.745Z"
   },
   {
    "duration": 10,
    "start_time": "2022-01-16T18:37:41.788Z"
   },
   {
    "duration": 79,
    "start_time": "2022-01-16T18:37:41.800Z"
   },
   {
    "duration": 340,
    "start_time": "2022-01-16T18:37:41.881Z"
   },
   {
    "duration": 8,
    "start_time": "2022-01-16T18:37:42.223Z"
   },
   {
    "duration": 60,
    "start_time": "2022-01-16T18:37:42.233Z"
   },
   {
    "duration": 457,
    "start_time": "2022-01-16T18:37:42.295Z"
   },
   {
    "duration": 384,
    "start_time": "2022-01-16T18:37:42.755Z"
   },
   {
    "duration": 321,
    "start_time": "2022-01-16T18:37:43.142Z"
   },
   {
    "duration": 524,
    "start_time": "2022-01-16T18:38:07.336Z"
   },
   {
    "duration": 485,
    "start_time": "2022-01-16T18:38:22.426Z"
   },
   {
    "duration": 398,
    "start_time": "2022-01-16T18:39:05.541Z"
   },
   {
    "duration": 4,
    "start_time": "2022-01-16T18:39:20.764Z"
   },
   {
    "duration": 109,
    "start_time": "2022-01-16T18:39:20.771Z"
   },
   {
    "duration": 18,
    "start_time": "2022-01-16T18:39:20.883Z"
   },
   {
    "duration": 8,
    "start_time": "2022-01-16T18:39:20.904Z"
   },
   {
    "duration": 69,
    "start_time": "2022-01-16T18:39:20.914Z"
   },
   {
    "duration": 35,
    "start_time": "2022-01-16T18:39:20.986Z"
   },
   {
    "duration": 38,
    "start_time": "2022-01-16T18:39:21.025Z"
   },
   {
    "duration": 31,
    "start_time": "2022-01-16T18:39:21.068Z"
   },
   {
    "duration": 62,
    "start_time": "2022-01-16T18:39:21.102Z"
   },
   {
    "duration": 21,
    "start_time": "2022-01-16T18:39:21.167Z"
   },
   {
    "duration": 12,
    "start_time": "2022-01-16T18:39:21.190Z"
   },
   {
    "duration": 19,
    "start_time": "2022-01-16T18:39:21.205Z"
   },
   {
    "duration": 65,
    "start_time": "2022-01-16T18:39:21.227Z"
   },
   {
    "duration": 309,
    "start_time": "2022-01-16T18:39:21.294Z"
   },
   {
    "duration": 8,
    "start_time": "2022-01-16T18:39:21.606Z"
   },
   {
    "duration": 54,
    "start_time": "2022-01-16T18:39:21.617Z"
   },
   {
    "duration": 5,
    "start_time": "2022-01-16T18:39:21.674Z"
   },
   {
    "duration": 8,
    "start_time": "2022-01-16T18:39:21.682Z"
   },
   {
    "duration": 10,
    "start_time": "2022-01-16T18:39:21.693Z"
   },
   {
    "duration": 62,
    "start_time": "2022-01-16T18:39:21.706Z"
   },
   {
    "duration": 28,
    "start_time": "2022-01-16T18:39:21.772Z"
   },
   {
    "duration": 16,
    "start_time": "2022-01-16T18:39:21.803Z"
   },
   {
    "duration": 373,
    "start_time": "2022-01-16T18:39:21.826Z"
   },
   {
    "duration": 28,
    "start_time": "2022-01-16T18:39:22.203Z"
   },
   {
    "duration": 44,
    "start_time": "2022-01-16T18:39:22.233Z"
   },
   {
    "duration": 13,
    "start_time": "2022-01-16T18:39:22.279Z"
   },
   {
    "duration": 94,
    "start_time": "2022-01-16T18:39:22.294Z"
   },
   {
    "duration": 357,
    "start_time": "2022-01-16T18:39:22.391Z"
   },
   {
    "duration": 18,
    "start_time": "2022-01-16T18:39:22.752Z"
   },
   {
    "duration": 41,
    "start_time": "2022-01-16T18:39:22.773Z"
   },
   {
    "duration": 461,
    "start_time": "2022-01-16T18:39:22.817Z"
   },
   {
    "duration": 507,
    "start_time": "2022-01-16T18:39:23.282Z"
   },
   {
    "duration": 926,
    "start_time": "2022-01-16T18:39:23.791Z"
   },
   {
    "duration": 44,
    "start_time": "2022-01-16T18:39:24.720Z"
   },
   {
    "duration": 65,
    "start_time": "2022-01-16T18:39:24.767Z"
   },
   {
    "duration": 29,
    "start_time": "2022-01-16T18:39:24.835Z"
   },
   {
    "duration": 369,
    "start_time": "2022-01-16T18:39:24.868Z"
   },
   {
    "duration": 1174,
    "start_time": "2022-01-16T18:39:25.240Z"
   },
   {
    "duration": 58,
    "start_time": "2022-01-16T18:39:26.416Z"
   },
   {
    "duration": 344,
    "start_time": "2022-01-16T18:39:26.477Z"
   },
   {
    "duration": 719,
    "start_time": "2022-01-16T18:39:26.824Z"
   },
   {
    "duration": -666,
    "start_time": "2022-01-16T18:39:28.211Z"
   },
   {
    "duration": -678,
    "start_time": "2022-01-16T18:39:28.225Z"
   },
   {
    "duration": -680,
    "start_time": "2022-01-16T18:39:28.228Z"
   },
   {
    "duration": -669,
    "start_time": "2022-01-16T18:39:28.231Z"
   },
   {
    "duration": -694,
    "start_time": "2022-01-16T18:39:28.258Z"
   },
   {
    "duration": -694,
    "start_time": "2022-01-16T18:39:28.260Z"
   },
   {
    "duration": -694,
    "start_time": "2022-01-16T18:39:28.262Z"
   },
   {
    "duration": -694,
    "start_time": "2022-01-16T18:39:28.264Z"
   },
   {
    "duration": -693,
    "start_time": "2022-01-16T18:39:28.266Z"
   },
   {
    "duration": -693,
    "start_time": "2022-01-16T18:39:28.268Z"
   },
   {
    "duration": -692,
    "start_time": "2022-01-16T18:39:28.269Z"
   },
   {
    "duration": -692,
    "start_time": "2022-01-16T18:39:28.271Z"
   },
   {
    "duration": -692,
    "start_time": "2022-01-16T18:39:28.273Z"
   },
   {
    "duration": -691,
    "start_time": "2022-01-16T18:39:28.274Z"
   },
   {
    "duration": -738,
    "start_time": "2022-01-16T18:39:28.323Z"
   },
   {
    "duration": -738,
    "start_time": "2022-01-16T18:39:28.325Z"
   },
   {
    "duration": -737,
    "start_time": "2022-01-16T18:39:28.327Z"
   },
   {
    "duration": -739,
    "start_time": "2022-01-16T18:39:28.331Z"
   },
   {
    "duration": -739,
    "start_time": "2022-01-16T18:39:28.333Z"
   },
   {
    "duration": -741,
    "start_time": "2022-01-16T18:39:28.337Z"
   },
   {
    "duration": -746,
    "start_time": "2022-01-16T18:39:28.344Z"
   },
   {
    "duration": 29,
    "start_time": "2022-01-16T18:39:37.034Z"
   },
   {
    "duration": 41,
    "start_time": "2022-01-16T18:40:00.917Z"
   },
   {
    "duration": 452,
    "start_time": "2022-01-16T18:40:00.961Z"
   },
   {
    "duration": 47,
    "start_time": "2022-01-16T18:40:01.416Z"
   },
   {
    "duration": 21,
    "start_time": "2022-01-16T18:40:01.467Z"
   },
   {
    "duration": 36,
    "start_time": "2022-01-16T18:40:01.491Z"
   },
   {
    "duration": 37,
    "start_time": "2022-01-16T18:40:01.530Z"
   },
   {
    "duration": 50,
    "start_time": "2022-01-16T18:40:01.570Z"
   },
   {
    "duration": 41,
    "start_time": "2022-01-16T18:40:01.622Z"
   },
   {
    "duration": 35,
    "start_time": "2022-01-16T18:40:01.669Z"
   },
   {
    "duration": 21,
    "start_time": "2022-01-16T18:40:01.708Z"
   },
   {
    "duration": 45,
    "start_time": "2022-01-16T18:40:01.732Z"
   },
   {
    "duration": 37,
    "start_time": "2022-01-16T18:40:01.780Z"
   },
   {
    "duration": 344,
    "start_time": "2022-01-16T18:40:01.820Z"
   },
   {
    "duration": -806,
    "start_time": "2022-01-16T18:40:02.973Z"
   },
   {
    "duration": -807,
    "start_time": "2022-01-16T18:40:02.976Z"
   },
   {
    "duration": -807,
    "start_time": "2022-01-16T18:40:02.978Z"
   },
   {
    "duration": -806,
    "start_time": "2022-01-16T18:40:02.979Z"
   },
   {
    "duration": -828,
    "start_time": "2022-01-16T18:40:03.003Z"
   },
   {
    "duration": -829,
    "start_time": "2022-01-16T18:40:03.007Z"
   },
   {
    "duration": -829,
    "start_time": "2022-01-16T18:40:03.009Z"
   },
   {
    "duration": -830,
    "start_time": "2022-01-16T18:40:03.012Z"
   },
   {
    "duration": 331,
    "start_time": "2022-01-16T18:40:36.571Z"
   },
   {
    "duration": 306,
    "start_time": "2022-01-16T18:43:36.480Z"
   },
   {
    "duration": 29,
    "start_time": "2022-01-16T18:43:42.988Z"
   },
   {
    "duration": 44,
    "start_time": "2022-01-16T18:45:26.241Z"
   },
   {
    "duration": 16,
    "start_time": "2022-01-16T18:45:46.686Z"
   },
   {
    "duration": 9,
    "start_time": "2022-01-16T18:45:49.805Z"
   },
   {
    "duration": 11,
    "start_time": "2022-01-16T18:46:00.603Z"
   },
   {
    "duration": 10,
    "start_time": "2022-01-16T18:46:01.428Z"
   },
   {
    "duration": 238,
    "start_time": "2022-01-16T18:50:17.816Z"
   },
   {
    "duration": 1373,
    "start_time": "2022-01-17T08:21:14.751Z"
   },
   {
    "duration": 78,
    "start_time": "2022-01-17T08:21:16.127Z"
   },
   {
    "duration": 14,
    "start_time": "2022-01-17T08:21:16.208Z"
   },
   {
    "duration": 24,
    "start_time": "2022-01-17T08:21:16.225Z"
   },
   {
    "duration": 35,
    "start_time": "2022-01-17T08:21:16.251Z"
   },
   {
    "duration": 21,
    "start_time": "2022-01-17T08:21:16.289Z"
   },
   {
    "duration": 36,
    "start_time": "2022-01-17T08:21:16.312Z"
   },
   {
    "duration": 50,
    "start_time": "2022-01-17T08:21:16.352Z"
   },
   {
    "duration": 34,
    "start_time": "2022-01-17T08:21:16.405Z"
   },
   {
    "duration": 33,
    "start_time": "2022-01-17T08:21:16.441Z"
   },
   {
    "duration": 11,
    "start_time": "2022-01-17T08:21:16.477Z"
   },
   {
    "duration": 18,
    "start_time": "2022-01-17T08:21:16.491Z"
   },
   {
    "duration": 58,
    "start_time": "2022-01-17T08:21:16.512Z"
   },
   {
    "duration": 233,
    "start_time": "2022-01-17T08:21:16.573Z"
   },
   {
    "duration": 6,
    "start_time": "2022-01-17T08:21:16.808Z"
   },
   {
    "duration": 21,
    "start_time": "2022-01-17T08:21:16.816Z"
   },
   {
    "duration": 25,
    "start_time": "2022-01-17T08:21:16.839Z"
   },
   {
    "duration": 3,
    "start_time": "2022-01-17T08:21:16.866Z"
   },
   {
    "duration": 9,
    "start_time": "2022-01-17T08:21:16.872Z"
   },
   {
    "duration": 47,
    "start_time": "2022-01-17T08:21:16.883Z"
   },
   {
    "duration": 60,
    "start_time": "2022-01-17T08:21:16.932Z"
   },
   {
    "duration": 19,
    "start_time": "2022-01-17T08:21:16.995Z"
   },
   {
    "duration": 355,
    "start_time": "2022-01-17T08:21:17.020Z"
   },
   {
    "duration": 29,
    "start_time": "2022-01-17T08:21:17.378Z"
   },
   {
    "duration": 17,
    "start_time": "2022-01-17T08:21:17.410Z"
   },
   {
    "duration": 41,
    "start_time": "2022-01-17T08:21:17.430Z"
   },
   {
    "duration": 58,
    "start_time": "2022-01-17T08:21:17.474Z"
   },
   {
    "duration": 382,
    "start_time": "2022-01-17T08:21:17.534Z"
   },
   {
    "duration": 12,
    "start_time": "2022-01-17T08:21:17.918Z"
   },
   {
    "duration": 56,
    "start_time": "2022-01-17T08:21:17.932Z"
   },
   {
    "duration": 444,
    "start_time": "2022-01-17T08:21:17.991Z"
   },
   {
    "duration": 286,
    "start_time": "2022-01-17T08:21:18.437Z"
   },
   {
    "duration": 682,
    "start_time": "2022-01-17T08:21:18.725Z"
   },
   {
    "duration": 33,
    "start_time": "2022-01-17T08:21:19.409Z"
   },
   {
    "duration": 39,
    "start_time": "2022-01-17T08:21:19.463Z"
   },
   {
    "duration": 4,
    "start_time": "2022-01-17T08:21:19.504Z"
   },
   {
    "duration": 363,
    "start_time": "2022-01-17T08:21:19.510Z"
   },
   {
    "duration": 1643,
    "start_time": "2022-01-17T08:21:19.876Z"
   },
   {
    "duration": 57,
    "start_time": "2022-01-17T08:21:21.522Z"
   },
   {
    "duration": 325,
    "start_time": "2022-01-17T08:21:21.582Z"
   },
   {
    "duration": 385,
    "start_time": "2022-01-17T08:21:21.909Z"
   },
   {
    "duration": 41,
    "start_time": "2022-01-17T08:21:22.255Z"
   },
   {
    "duration": 40,
    "start_time": "2022-01-17T08:21:22.258Z"
   },
   {
    "duration": 34,
    "start_time": "2022-01-17T08:21:22.265Z"
   },
   {
    "duration": 33,
    "start_time": "2022-01-17T08:21:22.267Z"
   },
   {
    "duration": 33,
    "start_time": "2022-01-17T08:21:22.269Z"
   },
   {
    "duration": 32,
    "start_time": "2022-01-17T08:21:22.271Z"
   },
   {
    "duration": 32,
    "start_time": "2022-01-17T08:21:22.272Z"
   },
   {
    "duration": 31,
    "start_time": "2022-01-17T08:21:22.274Z"
   },
   {
    "duration": 26,
    "start_time": "2022-01-17T08:21:22.280Z"
   },
   {
    "duration": 25,
    "start_time": "2022-01-17T08:21:22.282Z"
   },
   {
    "duration": 25,
    "start_time": "2022-01-17T08:21:22.283Z"
   },
   {
    "duration": 25,
    "start_time": "2022-01-17T08:21:22.285Z"
   },
   {
    "duration": 25,
    "start_time": "2022-01-17T08:21:22.286Z"
   },
   {
    "duration": 24,
    "start_time": "2022-01-17T08:21:22.288Z"
   },
   {
    "duration": 24,
    "start_time": "2022-01-17T08:21:22.289Z"
   },
   {
    "duration": 24,
    "start_time": "2022-01-17T08:21:22.291Z"
   },
   {
    "duration": 20,
    "start_time": "2022-01-17T08:21:22.296Z"
   },
   {
    "duration": 21,
    "start_time": "2022-01-17T08:21:22.297Z"
   },
   {
    "duration": 20,
    "start_time": "2022-01-17T08:21:22.299Z"
   },
   {
    "duration": 20,
    "start_time": "2022-01-17T08:21:22.300Z"
   },
   {
    "duration": 21,
    "start_time": "2022-01-17T08:21:22.301Z"
   },
   {
    "duration": 20,
    "start_time": "2022-01-17T08:21:22.303Z"
   },
   {
    "duration": 373,
    "start_time": "2022-01-17T08:23:04.763Z"
   },
   {
    "duration": 286,
    "start_time": "2022-01-17T08:24:14.087Z"
   },
   {
    "duration": 279,
    "start_time": "2022-01-17T08:24:39.488Z"
   },
   {
    "duration": 876,
    "start_time": "2022-01-17T08:24:52.010Z"
   },
   {
    "duration": 1267,
    "start_time": "2022-01-17T08:25:59.765Z"
   },
   {
    "duration": 16,
    "start_time": "2022-01-17T08:27:38.000Z"
   },
   {
    "duration": 268,
    "start_time": "2022-01-17T08:28:46.009Z"
   },
   {
    "duration": 1352,
    "start_time": "2022-01-17T08:31:26.276Z"
   },
   {
    "duration": 78,
    "start_time": "2022-01-17T08:31:27.631Z"
   },
   {
    "duration": 15,
    "start_time": "2022-01-17T08:31:27.713Z"
   },
   {
    "duration": 14,
    "start_time": "2022-01-17T08:31:27.731Z"
   },
   {
    "duration": 38,
    "start_time": "2022-01-17T08:31:27.747Z"
   },
   {
    "duration": 31,
    "start_time": "2022-01-17T08:31:27.787Z"
   },
   {
    "duration": 27,
    "start_time": "2022-01-17T08:31:27.820Z"
   },
   {
    "duration": 47,
    "start_time": "2022-01-17T08:31:27.851Z"
   },
   {
    "duration": 37,
    "start_time": "2022-01-17T08:31:27.901Z"
   },
   {
    "duration": 15,
    "start_time": "2022-01-17T08:31:27.964Z"
   },
   {
    "duration": 10,
    "start_time": "2022-01-17T08:31:27.982Z"
   },
   {
    "duration": 37,
    "start_time": "2022-01-17T08:31:27.994Z"
   },
   {
    "duration": 56,
    "start_time": "2022-01-17T08:31:28.034Z"
   },
   {
    "duration": 230,
    "start_time": "2022-01-17T08:31:28.093Z"
   },
   {
    "duration": 7,
    "start_time": "2022-01-17T08:31:28.326Z"
   },
   {
    "duration": 34,
    "start_time": "2022-01-17T08:31:28.336Z"
   },
   {
    "duration": 3,
    "start_time": "2022-01-17T08:31:28.374Z"
   },
   {
    "duration": 12,
    "start_time": "2022-01-17T08:31:28.379Z"
   },
   {
    "duration": 17,
    "start_time": "2022-01-17T08:31:28.393Z"
   },
   {
    "duration": 50,
    "start_time": "2022-01-17T08:31:28.413Z"
   },
   {
    "duration": 29,
    "start_time": "2022-01-17T08:31:28.466Z"
   },
   {
    "duration": 14,
    "start_time": "2022-01-17T08:31:28.498Z"
   },
   {
    "duration": 359,
    "start_time": "2022-01-17T08:31:28.514Z"
   },
   {
    "duration": 30,
    "start_time": "2022-01-17T08:31:28.875Z"
   },
   {
    "duration": 17,
    "start_time": "2022-01-17T08:31:28.907Z"
   },
   {
    "duration": 40,
    "start_time": "2022-01-17T08:31:28.931Z"
   },
   {
    "duration": 64,
    "start_time": "2022-01-17T08:31:28.975Z"
   },
   {
    "duration": 364,
    "start_time": "2022-01-17T08:31:29.042Z"
   },
   {
    "duration": 12,
    "start_time": "2022-01-17T08:31:29.408Z"
   },
   {
    "duration": 66,
    "start_time": "2022-01-17T08:31:29.423Z"
   },
   {
    "duration": 426,
    "start_time": "2022-01-17T08:31:29.492Z"
   },
   {
    "duration": 295,
    "start_time": "2022-01-17T08:31:29.920Z"
   },
   {
    "duration": 659,
    "start_time": "2022-01-17T08:31:30.218Z"
   },
   {
    "duration": 33,
    "start_time": "2022-01-17T08:31:30.880Z"
   },
   {
    "duration": 68,
    "start_time": "2022-01-17T08:31:30.915Z"
   },
   {
    "duration": 4,
    "start_time": "2022-01-17T08:31:30.985Z"
   },
   {
    "duration": 383,
    "start_time": "2022-01-17T08:31:30.991Z"
   },
   {
    "duration": 1526,
    "start_time": "2022-01-17T08:31:31.378Z"
   },
   {
    "duration": 57,
    "start_time": "2022-01-17T08:31:32.906Z"
   },
   {
    "duration": 322,
    "start_time": "2022-01-17T08:31:32.965Z"
   },
   {
    "duration": 403,
    "start_time": "2022-01-17T08:31:33.290Z"
   },
   {
    "duration": 52,
    "start_time": "2022-01-17T08:31:33.644Z"
   },
   {
    "duration": 51,
    "start_time": "2022-01-17T08:31:33.646Z"
   },
   {
    "duration": 50,
    "start_time": "2022-01-17T08:31:33.649Z"
   },
   {
    "duration": 49,
    "start_time": "2022-01-17T08:31:33.651Z"
   },
   {
    "duration": 47,
    "start_time": "2022-01-17T08:31:33.654Z"
   },
   {
    "duration": 47,
    "start_time": "2022-01-17T08:31:33.656Z"
   },
   {
    "duration": 46,
    "start_time": "2022-01-17T08:31:33.658Z"
   },
   {
    "duration": 46,
    "start_time": "2022-01-17T08:31:33.660Z"
   },
   {
    "duration": 45,
    "start_time": "2022-01-17T08:31:33.662Z"
   },
   {
    "duration": 45,
    "start_time": "2022-01-17T08:31:33.664Z"
   },
   {
    "duration": 44,
    "start_time": "2022-01-17T08:31:33.666Z"
   },
   {
    "duration": 44,
    "start_time": "2022-01-17T08:31:33.668Z"
   },
   {
    "duration": 39,
    "start_time": "2022-01-17T08:31:33.675Z"
   },
   {
    "duration": 38,
    "start_time": "2022-01-17T08:31:33.677Z"
   },
   {
    "duration": 38,
    "start_time": "2022-01-17T08:31:33.679Z"
   },
   {
    "duration": 35,
    "start_time": "2022-01-17T08:31:33.684Z"
   },
   {
    "duration": 34,
    "start_time": "2022-01-17T08:31:33.686Z"
   },
   {
    "duration": 34,
    "start_time": "2022-01-17T08:31:33.687Z"
   },
   {
    "duration": 31,
    "start_time": "2022-01-17T08:31:33.692Z"
   },
   {
    "duration": 30,
    "start_time": "2022-01-17T08:31:33.694Z"
   },
   {
    "duration": 31,
    "start_time": "2022-01-17T08:31:33.695Z"
   },
   {
    "duration": 30,
    "start_time": "2022-01-17T08:31:33.697Z"
   },
   {
    "duration": 436,
    "start_time": "2022-01-17T08:33:53.512Z"
   },
   {
    "duration": 266,
    "start_time": "2022-01-17T08:34:00.337Z"
   },
   {
    "duration": 269,
    "start_time": "2022-01-17T08:35:53.881Z"
   },
   {
    "duration": 266,
    "start_time": "2022-01-17T08:36:22.501Z"
   },
   {
    "duration": 6,
    "start_time": "2022-01-17T08:37:25.476Z"
   },
   {
    "duration": 24,
    "start_time": "2022-01-17T08:38:24.016Z"
   },
   {
    "duration": 280,
    "start_time": "2022-01-17T08:38:39.479Z"
   },
   {
    "duration": 270,
    "start_time": "2022-01-17T08:38:45.785Z"
   },
   {
    "duration": 310,
    "start_time": "2022-01-17T08:41:36.739Z"
   },
   {
    "duration": 258,
    "start_time": "2022-01-17T08:42:14.402Z"
   },
   {
    "duration": 535,
    "start_time": "2022-01-17T08:42:27.967Z"
   },
   {
    "duration": 609,
    "start_time": "2022-01-17T08:42:43.196Z"
   },
   {
    "duration": 400,
    "start_time": "2022-01-17T08:49:10.424Z"
   },
   {
    "duration": 265,
    "start_time": "2022-01-17T08:49:24.502Z"
   },
   {
    "duration": 269,
    "start_time": "2022-01-17T08:50:16.335Z"
   },
   {
    "duration": 7,
    "start_time": "2022-01-17T08:50:25.877Z"
   },
   {
    "duration": 1392,
    "start_time": "2022-01-17T08:50:41.171Z"
   },
   {
    "duration": 92,
    "start_time": "2022-01-17T08:50:42.565Z"
   },
   {
    "duration": 16,
    "start_time": "2022-01-17T08:50:42.660Z"
   },
   {
    "duration": 5,
    "start_time": "2022-01-17T08:50:42.678Z"
   },
   {
    "duration": 28,
    "start_time": "2022-01-17T08:50:42.685Z"
   },
   {
    "duration": 57,
    "start_time": "2022-01-17T08:50:42.716Z"
   },
   {
    "duration": 7,
    "start_time": "2022-01-17T08:50:42.775Z"
   },
   {
    "duration": 31,
    "start_time": "2022-01-17T08:50:42.786Z"
   },
   {
    "duration": 33,
    "start_time": "2022-01-17T08:50:42.864Z"
   },
   {
    "duration": 15,
    "start_time": "2022-01-17T08:50:42.900Z"
   },
   {
    "duration": 10,
    "start_time": "2022-01-17T08:50:42.917Z"
   },
   {
    "duration": 19,
    "start_time": "2022-01-17T08:50:42.963Z"
   },
   {
    "duration": 33,
    "start_time": "2022-01-17T08:50:42.985Z"
   },
   {
    "duration": 265,
    "start_time": "2022-01-17T08:50:43.021Z"
   },
   {
    "duration": 8,
    "start_time": "2022-01-17T08:50:43.288Z"
   },
   {
    "duration": 21,
    "start_time": "2022-01-17T08:50:43.298Z"
   },
   {
    "duration": 3,
    "start_time": "2022-01-17T08:50:43.321Z"
   },
   {
    "duration": 38,
    "start_time": "2022-01-17T08:50:43.326Z"
   },
   {
    "duration": 9,
    "start_time": "2022-01-17T08:50:43.367Z"
   },
   {
    "duration": 43,
    "start_time": "2022-01-17T08:50:43.378Z"
   },
   {
    "duration": 46,
    "start_time": "2022-01-17T08:50:43.424Z"
   },
   {
    "duration": 14,
    "start_time": "2022-01-17T08:50:43.472Z"
   },
   {
    "duration": 371,
    "start_time": "2022-01-17T08:50:43.491Z"
   },
   {
    "duration": 28,
    "start_time": "2022-01-17T08:50:43.866Z"
   },
   {
    "duration": 18,
    "start_time": "2022-01-17T08:50:43.897Z"
   },
   {
    "duration": 46,
    "start_time": "2022-01-17T08:50:43.918Z"
   },
   {
    "duration": 65,
    "start_time": "2022-01-17T08:50:43.968Z"
   },
   {
    "duration": 441,
    "start_time": "2022-01-17T08:50:44.036Z"
   },
   {
    "duration": 17,
    "start_time": "2022-01-17T08:50:44.480Z"
   },
   {
    "duration": 71,
    "start_time": "2022-01-17T08:50:44.500Z"
   },
   {
    "duration": 594,
    "start_time": "2022-01-17T08:50:44.574Z"
   },
   {
    "duration": 320,
    "start_time": "2022-01-17T08:50:45.171Z"
   },
   {
    "duration": 679,
    "start_time": "2022-01-17T08:50:45.493Z"
   },
   {
    "duration": 31,
    "start_time": "2022-01-17T08:50:46.175Z"
   },
   {
    "duration": 69,
    "start_time": "2022-01-17T08:50:46.208Z"
   },
   {
    "duration": 3,
    "start_time": "2022-01-17T08:50:46.279Z"
   },
   {
    "duration": 462,
    "start_time": "2022-01-17T08:50:46.284Z"
   },
   {
    "duration": 1519,
    "start_time": "2022-01-17T08:50:46.749Z"
   },
   {
    "duration": 43,
    "start_time": "2022-01-17T08:50:48.272Z"
   },
   {
    "duration": 347,
    "start_time": "2022-01-17T08:50:48.319Z"
   },
   {
    "duration": 8,
    "start_time": "2022-01-17T08:50:48.669Z"
   },
   {
    "duration": 47,
    "start_time": "2022-01-17T08:50:48.680Z"
   },
   {
    "duration": 591,
    "start_time": "2022-01-17T08:50:48.730Z"
   },
   {
    "duration": 556,
    "start_time": "2022-01-17T08:50:49.324Z"
   },
   {
    "duration": 31,
    "start_time": "2022-01-17T08:50:49.883Z"
   },
   {
    "duration": 45,
    "start_time": "2022-01-17T08:50:49.917Z"
   },
   {
    "duration": 18,
    "start_time": "2022-01-17T08:50:49.965Z"
   },
   {
    "duration": 19,
    "start_time": "2022-01-17T08:50:49.985Z"
   },
   {
    "duration": 19,
    "start_time": "2022-01-17T08:50:50.006Z"
   },
   {
    "duration": 63,
    "start_time": "2022-01-17T08:50:50.027Z"
   },
   {
    "duration": 18,
    "start_time": "2022-01-17T08:50:50.092Z"
   },
   {
    "duration": 51,
    "start_time": "2022-01-17T08:50:50.113Z"
   },
   {
    "duration": 21,
    "start_time": "2022-01-17T08:50:50.166Z"
   },
   {
    "duration": 20,
    "start_time": "2022-01-17T08:50:50.189Z"
   },
   {
    "duration": 371,
    "start_time": "2022-01-17T08:50:50.211Z"
   },
   {
    "duration": 37,
    "start_time": "2022-01-17T08:50:50.547Z"
   },
   {
    "duration": 36,
    "start_time": "2022-01-17T08:50:50.550Z"
   },
   {
    "duration": 35,
    "start_time": "2022-01-17T08:50:50.552Z"
   },
   {
    "duration": 33,
    "start_time": "2022-01-17T08:50:50.555Z"
   },
   {
    "duration": 32,
    "start_time": "2022-01-17T08:50:50.558Z"
   },
   {
    "duration": 31,
    "start_time": "2022-01-17T08:50:50.561Z"
   },
   {
    "duration": 30,
    "start_time": "2022-01-17T08:50:50.563Z"
   },
   {
    "duration": 30,
    "start_time": "2022-01-17T08:50:50.565Z"
   },
   {
    "duration": 8,
    "start_time": "2022-01-17T08:51:01.009Z"
   },
   {
    "duration": 499,
    "start_time": "2022-01-17T08:52:59.405Z"
   },
   {
    "duration": 13,
    "start_time": "2022-01-17T08:53:31.416Z"
   },
   {
    "duration": 24,
    "start_time": "2022-01-17T08:53:59.733Z"
   },
   {
    "duration": 28,
    "start_time": "2022-01-17T08:54:09.185Z"
   },
   {
    "duration": 25,
    "start_time": "2022-01-17T08:54:21.555Z"
   },
   {
    "duration": 302,
    "start_time": "2022-01-17T08:54:37.945Z"
   },
   {
    "duration": 1486,
    "start_time": "2022-01-17T08:54:47.646Z"
   },
   {
    "duration": 77,
    "start_time": "2022-01-17T08:54:49.135Z"
   },
   {
    "duration": 15,
    "start_time": "2022-01-17T08:54:49.216Z"
   },
   {
    "duration": 6,
    "start_time": "2022-01-17T08:54:49.234Z"
   },
   {
    "duration": 25,
    "start_time": "2022-01-17T08:54:49.263Z"
   },
   {
    "duration": 24,
    "start_time": "2022-01-17T08:54:49.290Z"
   },
   {
    "duration": 48,
    "start_time": "2022-01-17T08:54:49.317Z"
   },
   {
    "duration": 42,
    "start_time": "2022-01-17T08:54:49.369Z"
   },
   {
    "duration": 72,
    "start_time": "2022-01-17T08:54:49.416Z"
   },
   {
    "duration": 15,
    "start_time": "2022-01-17T08:54:49.490Z"
   },
   {
    "duration": 12,
    "start_time": "2022-01-17T08:54:49.508Z"
   },
   {
    "duration": 52,
    "start_time": "2022-01-17T08:54:49.522Z"
   },
   {
    "duration": 35,
    "start_time": "2022-01-17T08:54:49.577Z"
   },
   {
    "duration": 287,
    "start_time": "2022-01-17T08:54:49.615Z"
   },
   {
    "duration": 6,
    "start_time": "2022-01-17T08:54:49.905Z"
   },
   {
    "duration": 19,
    "start_time": "2022-01-17T08:54:49.914Z"
   },
   {
    "duration": 27,
    "start_time": "2022-01-17T08:54:49.936Z"
   },
   {
    "duration": 4,
    "start_time": "2022-01-17T08:54:49.965Z"
   },
   {
    "duration": 19,
    "start_time": "2022-01-17T08:54:49.972Z"
   },
   {
    "duration": 46,
    "start_time": "2022-01-17T08:54:49.994Z"
   },
   {
    "duration": 42,
    "start_time": "2022-01-17T08:54:50.043Z"
   },
   {
    "duration": 16,
    "start_time": "2022-01-17T08:54:50.088Z"
   },
   {
    "duration": 362,
    "start_time": "2022-01-17T08:54:50.110Z"
   },
   {
    "duration": 28,
    "start_time": "2022-01-17T08:54:50.476Z"
   },
   {
    "duration": 18,
    "start_time": "2022-01-17T08:54:50.507Z"
   },
   {
    "duration": 43,
    "start_time": "2022-01-17T08:54:50.528Z"
   },
   {
    "duration": 55,
    "start_time": "2022-01-17T08:54:50.573Z"
   },
   {
    "duration": 371,
    "start_time": "2022-01-17T08:54:50.631Z"
   },
   {
    "duration": 12,
    "start_time": "2022-01-17T08:54:51.004Z"
   },
   {
    "duration": 62,
    "start_time": "2022-01-17T08:54:51.019Z"
   },
   {
    "duration": 435,
    "start_time": "2022-01-17T08:54:51.083Z"
   },
   {
    "duration": 287,
    "start_time": "2022-01-17T08:54:51.521Z"
   },
   {
    "duration": 659,
    "start_time": "2022-01-17T08:54:51.811Z"
   },
   {
    "duration": 31,
    "start_time": "2022-01-17T08:54:52.473Z"
   },
   {
    "duration": 68,
    "start_time": "2022-01-17T08:54:52.507Z"
   },
   {
    "duration": 3,
    "start_time": "2022-01-17T08:54:52.578Z"
   },
   {
    "duration": 360,
    "start_time": "2022-01-17T08:54:52.583Z"
   },
   {
    "duration": 1482,
    "start_time": "2022-01-17T08:54:52.945Z"
   },
   {
    "duration": 56,
    "start_time": "2022-01-17T08:54:54.429Z"
   },
   {
    "duration": 346,
    "start_time": "2022-01-17T08:54:54.487Z"
   },
   {
    "duration": 395,
    "start_time": "2022-01-17T08:54:54.837Z"
   },
   {
    "duration": -27,
    "start_time": "2022-01-17T08:54:55.263Z"
   },
   {
    "duration": -28,
    "start_time": "2022-01-17T08:54:55.266Z"
   },
   {
    "duration": -29,
    "start_time": "2022-01-17T08:54:55.269Z"
   },
   {
    "duration": -28,
    "start_time": "2022-01-17T08:54:55.271Z"
   },
   {
    "duration": -31,
    "start_time": "2022-01-17T08:54:55.276Z"
   },
   {
    "duration": -31,
    "start_time": "2022-01-17T08:54:55.278Z"
   },
   {
    "duration": -31,
    "start_time": "2022-01-17T08:54:55.280Z"
   },
   {
    "duration": -31,
    "start_time": "2022-01-17T08:54:55.282Z"
   },
   {
    "duration": -31,
    "start_time": "2022-01-17T08:54:55.284Z"
   },
   {
    "duration": -30,
    "start_time": "2022-01-17T08:54:55.286Z"
   },
   {
    "duration": -30,
    "start_time": "2022-01-17T08:54:55.288Z"
   },
   {
    "duration": -30,
    "start_time": "2022-01-17T08:54:55.290Z"
   },
   {
    "duration": -28,
    "start_time": "2022-01-17T08:54:55.291Z"
   },
   {
    "duration": -28,
    "start_time": "2022-01-17T08:54:55.293Z"
   },
   {
    "duration": -28,
    "start_time": "2022-01-17T08:54:55.295Z"
   },
   {
    "duration": -26,
    "start_time": "2022-01-17T08:54:55.296Z"
   },
   {
    "duration": -26,
    "start_time": "2022-01-17T08:54:55.298Z"
   },
   {
    "duration": -26,
    "start_time": "2022-01-17T08:54:55.300Z"
   },
   {
    "duration": -25,
    "start_time": "2022-01-17T08:54:55.301Z"
   },
   {
    "duration": -24,
    "start_time": "2022-01-17T08:54:55.303Z"
   },
   {
    "duration": -23,
    "start_time": "2022-01-17T08:54:55.304Z"
   },
   {
    "duration": -23,
    "start_time": "2022-01-17T08:54:55.306Z"
   },
   {
    "duration": 24,
    "start_time": "2022-01-17T08:55:03.883Z"
   },
   {
    "duration": 14,
    "start_time": "2022-01-17T08:55:37.201Z"
   },
   {
    "duration": 12,
    "start_time": "2022-01-17T08:55:52.053Z"
   },
   {
    "duration": 90,
    "start_time": "2022-01-17T08:56:12.155Z"
   },
   {
    "duration": 12,
    "start_time": "2022-01-17T08:56:16.939Z"
   },
   {
    "duration": 27,
    "start_time": "2022-01-17T08:56:49.909Z"
   },
   {
    "duration": 1618,
    "start_time": "2022-01-17T08:57:40.317Z"
   },
   {
    "duration": 1609,
    "start_time": "2022-01-17T08:58:15.834Z"
   },
   {
    "duration": 1603,
    "start_time": "2022-01-17T08:58:24.698Z"
   },
   {
    "duration": 42,
    "start_time": "2022-01-17T08:59:41.465Z"
   },
   {
    "duration": 549,
    "start_time": "2022-01-17T08:59:42.443Z"
   },
   {
    "duration": 499,
    "start_time": "2022-01-17T08:59:53.991Z"
   },
   {
    "duration": 415,
    "start_time": "2022-01-17T09:00:31.557Z"
   },
   {
    "duration": 33,
    "start_time": "2022-01-17T09:00:49.855Z"
   },
   {
    "duration": 21,
    "start_time": "2022-01-17T09:00:56.514Z"
   },
   {
    "duration": 21,
    "start_time": "2022-01-17T09:01:00.309Z"
   },
   {
    "duration": 21,
    "start_time": "2022-01-17T09:01:03.773Z"
   },
   {
    "duration": 21,
    "start_time": "2022-01-17T09:01:04.496Z"
   },
   {
    "duration": 38,
    "start_time": "2022-01-17T09:01:05.184Z"
   },
   {
    "duration": 19,
    "start_time": "2022-01-17T09:01:06.152Z"
   },
   {
    "duration": 20,
    "start_time": "2022-01-17T09:01:06.734Z"
   },
   {
    "duration": 21,
    "start_time": "2022-01-17T09:01:07.356Z"
   },
   {
    "duration": 21,
    "start_time": "2022-01-17T09:01:16.388Z"
   },
   {
    "duration": 368,
    "start_time": "2022-01-17T09:01:28.314Z"
   },
   {
    "duration": 31,
    "start_time": "2022-01-17T09:01:36.085Z"
   },
   {
    "duration": 30,
    "start_time": "2022-01-17T09:08:22.605Z"
   },
   {
    "duration": 13,
    "start_time": "2022-01-17T09:10:06.254Z"
   },
   {
    "duration": 30,
    "start_time": "2022-01-17T09:10:08.711Z"
   },
   {
    "duration": 19,
    "start_time": "2022-01-17T09:10:57.024Z"
   },
   {
    "duration": 21,
    "start_time": "2022-01-17T09:11:00.037Z"
   },
   {
    "duration": 24,
    "start_time": "2022-01-17T09:11:02.125Z"
   },
   {
    "duration": 20,
    "start_time": "2022-01-17T09:11:04.068Z"
   },
   {
    "duration": 21,
    "start_time": "2022-01-17T09:11:17.594Z"
   },
   {
    "duration": 1341,
    "start_time": "2022-01-17T09:16:31.486Z"
   },
   {
    "duration": 75,
    "start_time": "2022-01-17T09:16:32.830Z"
   },
   {
    "duration": 14,
    "start_time": "2022-01-17T09:16:32.908Z"
   },
   {
    "duration": 5,
    "start_time": "2022-01-17T09:16:32.925Z"
   },
   {
    "duration": 48,
    "start_time": "2022-01-17T09:16:32.932Z"
   },
   {
    "duration": 21,
    "start_time": "2022-01-17T09:16:32.983Z"
   },
   {
    "duration": 6,
    "start_time": "2022-01-17T09:16:33.006Z"
   },
   {
    "duration": 71,
    "start_time": "2022-01-17T09:16:33.017Z"
   },
   {
    "duration": 34,
    "start_time": "2022-01-17T09:16:33.091Z"
   },
   {
    "duration": 45,
    "start_time": "2022-01-17T09:16:33.128Z"
   },
   {
    "duration": 11,
    "start_time": "2022-01-17T09:16:33.176Z"
   },
   {
    "duration": 20,
    "start_time": "2022-01-17T09:16:33.190Z"
   },
   {
    "duration": 66,
    "start_time": "2022-01-17T09:16:33.213Z"
   },
   {
    "duration": 241,
    "start_time": "2022-01-17T09:16:33.281Z"
   },
   {
    "duration": 7,
    "start_time": "2022-01-17T09:16:33.525Z"
   },
   {
    "duration": 43,
    "start_time": "2022-01-17T09:16:33.534Z"
   },
   {
    "duration": 3,
    "start_time": "2022-01-17T09:16:33.579Z"
   },
   {
    "duration": 7,
    "start_time": "2022-01-17T09:16:33.584Z"
   },
   {
    "duration": 8,
    "start_time": "2022-01-17T09:16:33.594Z"
   },
   {
    "duration": 68,
    "start_time": "2022-01-17T09:16:33.605Z"
   },
   {
    "duration": 33,
    "start_time": "2022-01-17T09:16:33.675Z"
   },
   {
    "duration": 17,
    "start_time": "2022-01-17T09:16:33.711Z"
   },
   {
    "duration": 353,
    "start_time": "2022-01-17T09:16:33.735Z"
   },
   {
    "duration": 29,
    "start_time": "2022-01-17T09:16:34.092Z"
   },
   {
    "duration": 41,
    "start_time": "2022-01-17T09:16:34.124Z"
   },
   {
    "duration": 14,
    "start_time": "2022-01-17T09:16:34.168Z"
   },
   {
    "duration": 80,
    "start_time": "2022-01-17T09:16:34.184Z"
   },
   {
    "duration": 366,
    "start_time": "2022-01-17T09:16:34.267Z"
   },
   {
    "duration": 12,
    "start_time": "2022-01-17T09:16:34.636Z"
   },
   {
    "duration": 41,
    "start_time": "2022-01-17T09:16:34.662Z"
   },
   {
    "duration": 424,
    "start_time": "2022-01-17T09:16:34.706Z"
   },
   {
    "duration": 284,
    "start_time": "2022-01-17T09:16:35.133Z"
   },
   {
    "duration": 650,
    "start_time": "2022-01-17T09:16:35.420Z"
   },
   {
    "duration": 31,
    "start_time": "2022-01-17T09:16:36.072Z"
   },
   {
    "duration": 69,
    "start_time": "2022-01-17T09:16:36.105Z"
   },
   {
    "duration": 3,
    "start_time": "2022-01-17T09:16:36.177Z"
   },
   {
    "duration": 379,
    "start_time": "2022-01-17T09:16:36.182Z"
   },
   {
    "duration": 1671,
    "start_time": "2022-01-17T09:16:36.564Z"
   },
   {
    "duration": 55,
    "start_time": "2022-01-17T09:16:38.237Z"
   },
   {
    "duration": 422,
    "start_time": "2022-01-17T09:16:38.294Z"
   },
   {
    "duration": 1886,
    "start_time": "2022-01-17T09:16:38.718Z"
   },
   {
    "duration": 60,
    "start_time": "2022-01-17T09:16:40.607Z"
   },
   {
    "duration": 469,
    "start_time": "2022-01-17T09:16:40.669Z"
   },
   {
    "duration": 422,
    "start_time": "2022-01-17T09:16:41.140Z"
   },
   {
    "duration": 31,
    "start_time": "2022-01-17T09:16:41.565Z"
   },
   {
    "duration": 20,
    "start_time": "2022-01-17T09:16:41.599Z"
   },
   {
    "duration": 60,
    "start_time": "2022-01-17T09:16:41.621Z"
   },
   {
    "duration": 37,
    "start_time": "2022-01-17T09:16:41.684Z"
   },
   {
    "duration": 26,
    "start_time": "2022-01-17T09:16:41.723Z"
   },
   {
    "duration": 32,
    "start_time": "2022-01-17T09:16:41.752Z"
   },
   {
    "duration": 21,
    "start_time": "2022-01-17T09:16:41.787Z"
   },
   {
    "duration": 53,
    "start_time": "2022-01-17T09:16:41.811Z"
   },
   {
    "duration": 21,
    "start_time": "2022-01-17T09:16:41.867Z"
   },
   {
    "duration": 22,
    "start_time": "2022-01-17T09:16:41.891Z"
   },
   {
    "duration": 51,
    "start_time": "2022-01-17T09:16:41.916Z"
   },
   {
    "duration": 28,
    "start_time": "2022-01-17T09:16:41.970Z"
   },
   {
    "duration": 19,
    "start_time": "2022-01-17T09:16:42.001Z"
   },
   {
    "duration": 53,
    "start_time": "2022-01-17T09:16:42.022Z"
   },
   {
    "duration": 19,
    "start_time": "2022-01-17T09:16:42.078Z"
   },
   {
    "duration": 24,
    "start_time": "2022-01-17T09:16:42.100Z"
   },
   {
    "duration": 40,
    "start_time": "2022-01-17T09:16:42.127Z"
   },
   {
    "duration": 13,
    "start_time": "2022-01-17T09:16:42.170Z"
   },
   {
    "duration": 11,
    "start_time": "2022-01-17T09:16:42.186Z"
   },
   {
    "duration": 10,
    "start_time": "2022-01-17T09:16:42.200Z"
   },
   {
    "duration": 1401,
    "start_time": "2022-01-17T09:22:13.386Z"
   },
   {
    "duration": 86,
    "start_time": "2022-01-17T09:22:14.789Z"
   },
   {
    "duration": 15,
    "start_time": "2022-01-17T09:22:14.878Z"
   },
   {
    "duration": 4,
    "start_time": "2022-01-17T09:22:14.896Z"
   },
   {
    "duration": 24,
    "start_time": "2022-01-17T09:22:14.903Z"
   },
   {
    "duration": 34,
    "start_time": "2022-01-17T09:22:14.929Z"
   },
   {
    "duration": 6,
    "start_time": "2022-01-17T09:22:14.965Z"
   },
   {
    "duration": 37,
    "start_time": "2022-01-17T09:22:14.974Z"
   },
   {
    "duration": 34,
    "start_time": "2022-01-17T09:22:15.014Z"
   },
   {
    "duration": 38,
    "start_time": "2022-01-17T09:22:15.051Z"
   },
   {
    "duration": 14,
    "start_time": "2022-01-17T09:22:15.093Z"
   },
   {
    "duration": 27,
    "start_time": "2022-01-17T09:22:16.273Z"
   },
   {
    "duration": 99,
    "start_time": "2022-01-17T09:22:16.304Z"
   },
   {
    "duration": 321,
    "start_time": "2022-01-17T09:22:16.407Z"
   },
   {
    "duration": 7,
    "start_time": "2022-01-17T09:22:16.731Z"
   },
   {
    "duration": 45,
    "start_time": "2022-01-17T09:22:16.741Z"
   },
   {
    "duration": 11,
    "start_time": "2022-01-17T09:22:16.788Z"
   },
   {
    "duration": 7,
    "start_time": "2022-01-17T09:22:16.801Z"
   },
   {
    "duration": 9,
    "start_time": "2022-01-17T09:22:16.811Z"
   },
   {
    "duration": 61,
    "start_time": "2022-01-17T09:22:16.822Z"
   },
   {
    "duration": 31,
    "start_time": "2022-01-17T09:22:16.885Z"
   },
   {
    "duration": 15,
    "start_time": "2022-01-17T09:22:16.919Z"
   },
   {
    "duration": 353,
    "start_time": "2022-01-17T09:22:16.965Z"
   },
   {
    "duration": 49,
    "start_time": "2022-01-17T09:22:17.321Z"
   },
   {
    "duration": 17,
    "start_time": "2022-01-17T09:22:17.374Z"
   },
   {
    "duration": 12,
    "start_time": "2022-01-17T09:22:17.472Z"
   },
   {
    "duration": 55,
    "start_time": "2022-01-17T09:22:17.556Z"
   },
   {
    "duration": 349,
    "start_time": "2022-01-17T09:22:17.640Z"
   },
   {
    "duration": 11,
    "start_time": "2022-01-17T09:22:17.992Z"
   },
   {
    "duration": 63,
    "start_time": "2022-01-17T09:22:18.006Z"
   },
   {
    "duration": 411,
    "start_time": "2022-01-17T09:22:18.071Z"
   },
   {
    "duration": 302,
    "start_time": "2022-01-17T09:22:18.485Z"
   },
   {
    "duration": 677,
    "start_time": "2022-01-17T09:22:18.790Z"
   },
   {
    "duration": 31,
    "start_time": "2022-01-17T09:22:19.470Z"
   },
   {
    "duration": 72,
    "start_time": "2022-01-17T09:22:19.503Z"
   },
   {
    "duration": 4,
    "start_time": "2022-01-17T09:22:19.578Z"
   },
   {
    "duration": 382,
    "start_time": "2022-01-17T09:22:19.586Z"
   },
   {
    "duration": 1567,
    "start_time": "2022-01-17T09:22:19.971Z"
   },
   {
    "duration": 54,
    "start_time": "2022-01-17T09:22:21.541Z"
   },
   {
    "duration": 337,
    "start_time": "2022-01-17T09:22:21.599Z"
   },
   {
    "duration": 1626,
    "start_time": "2022-01-17T09:22:21.939Z"
   },
   {
    "duration": 41,
    "start_time": "2022-01-17T09:22:23.568Z"
   },
   {
    "duration": 495,
    "start_time": "2022-01-17T09:22:23.612Z"
   },
   {
    "duration": 418,
    "start_time": "2022-01-17T09:22:24.109Z"
   },
   {
    "duration": 46,
    "start_time": "2022-01-17T09:22:24.530Z"
   },
   {
    "duration": 22,
    "start_time": "2022-01-17T09:22:24.579Z"
   },
   {
    "duration": 23,
    "start_time": "2022-01-17T09:22:24.604Z"
   },
   {
    "duration": 48,
    "start_time": "2022-01-17T09:22:24.632Z"
   },
   {
    "duration": 22,
    "start_time": "2022-01-17T09:22:24.683Z"
   },
   {
    "duration": 70,
    "start_time": "2022-01-17T09:22:24.708Z"
   },
   {
    "duration": 25,
    "start_time": "2022-01-17T09:22:24.781Z"
   },
   {
    "duration": 54,
    "start_time": "2022-01-17T09:22:24.809Z"
   },
   {
    "duration": 21,
    "start_time": "2022-01-17T09:22:24.865Z"
   },
   {
    "duration": 22,
    "start_time": "2022-01-17T09:22:24.889Z"
   },
   {
    "duration": 56,
    "start_time": "2022-01-17T09:22:24.914Z"
   },
   {
    "duration": 32,
    "start_time": "2022-01-17T09:22:24.972Z"
   },
   {
    "duration": 20,
    "start_time": "2022-01-17T09:22:25.006Z"
   },
   {
    "duration": 53,
    "start_time": "2022-01-17T09:22:25.029Z"
   },
   {
    "duration": 21,
    "start_time": "2022-01-17T09:22:25.084Z"
   },
   {
    "duration": 26,
    "start_time": "2022-01-17T09:22:25.107Z"
   },
   {
    "duration": 17,
    "start_time": "2022-01-17T09:22:25.164Z"
   },
   {
    "duration": 12,
    "start_time": "2022-01-17T09:22:25.184Z"
   },
   {
    "duration": 12,
    "start_time": "2022-01-17T09:22:25.745Z"
   },
   {
    "duration": 10,
    "start_time": "2022-01-17T09:22:26.255Z"
   },
   {
    "duration": 1080,
    "start_time": "2022-01-17T11:13:31.159Z"
   },
   {
    "duration": 66,
    "start_time": "2022-01-17T11:13:32.242Z"
   },
   {
    "duration": 14,
    "start_time": "2022-01-17T11:13:32.310Z"
   },
   {
    "duration": 4,
    "start_time": "2022-01-17T11:13:32.326Z"
   },
   {
    "duration": 19,
    "start_time": "2022-01-17T11:13:32.331Z"
   },
   {
    "duration": 32,
    "start_time": "2022-01-17T11:13:32.352Z"
   },
   {
    "duration": 4,
    "start_time": "2022-01-17T11:13:32.386Z"
   },
   {
    "duration": 17,
    "start_time": "2022-01-17T11:13:32.392Z"
   },
   {
    "duration": 18,
    "start_time": "2022-01-17T11:13:32.412Z"
   },
   {
    "duration": 12,
    "start_time": "2022-01-17T11:13:32.431Z"
   },
   {
    "duration": 7,
    "start_time": "2022-01-17T11:13:32.472Z"
   },
   {
    "duration": 16,
    "start_time": "2022-01-17T11:13:32.480Z"
   },
   {
    "duration": 21,
    "start_time": "2022-01-17T11:13:32.497Z"
   },
   {
    "duration": 168,
    "start_time": "2022-01-17T11:13:32.520Z"
   },
   {
    "duration": 6,
    "start_time": "2022-01-17T11:13:32.690Z"
   },
   {
    "duration": 24,
    "start_time": "2022-01-17T11:13:32.698Z"
   },
   {
    "duration": 15,
    "start_time": "2022-01-17T11:13:32.724Z"
   },
   {
    "duration": 6,
    "start_time": "2022-01-17T11:13:32.741Z"
   },
   {
    "duration": 26,
    "start_time": "2022-01-17T11:13:32.748Z"
   },
   {
    "duration": 66,
    "start_time": "2022-01-17T11:13:32.776Z"
   },
   {
    "duration": 25,
    "start_time": "2022-01-17T11:13:32.844Z"
   },
   {
    "duration": 12,
    "start_time": "2022-01-17T11:13:32.871Z"
   },
   {
    "duration": 292,
    "start_time": "2022-01-17T11:13:32.887Z"
   },
   {
    "duration": 19,
    "start_time": "2022-01-17T11:13:33.181Z"
   },
   {
    "duration": 9,
    "start_time": "2022-01-17T11:13:33.202Z"
   },
   {
    "duration": 9,
    "start_time": "2022-01-17T11:13:33.213Z"
   },
   {
    "duration": 65,
    "start_time": "2022-01-17T11:13:33.223Z"
   },
   {
    "duration": 225,
    "start_time": "2022-01-17T11:13:33.289Z"
   },
   {
    "duration": 9,
    "start_time": "2022-01-17T11:13:33.516Z"
   },
   {
    "duration": 46,
    "start_time": "2022-01-17T11:13:33.527Z"
   },
   {
    "duration": 440,
    "start_time": "2022-01-17T11:13:33.575Z"
   },
   {
    "duration": 150,
    "start_time": "2022-01-17T11:13:34.016Z"
   },
   {
    "duration": 353,
    "start_time": "2022-01-17T11:13:34.168Z"
   },
   {
    "duration": 18,
    "start_time": "2022-01-17T11:13:34.523Z"
   },
   {
    "duration": 37,
    "start_time": "2022-01-17T11:13:34.542Z"
   },
   {
    "duration": 3,
    "start_time": "2022-01-17T11:13:34.580Z"
   },
   {
    "duration": 203,
    "start_time": "2022-01-17T11:13:34.584Z"
   },
   {
    "duration": 1017,
    "start_time": "2022-01-17T11:13:34.789Z"
   },
   {
    "duration": 24,
    "start_time": "2022-01-17T11:13:35.808Z"
   },
   {
    "duration": 184,
    "start_time": "2022-01-17T11:13:35.834Z"
   },
   {
    "duration": 926,
    "start_time": "2022-01-17T11:13:41.440Z"
   },
   {
    "duration": 253,
    "start_time": "2022-01-17T11:28:45.250Z"
   },
   {
    "duration": 1142,
    "start_time": "2022-01-17T11:28:50.863Z"
   },
   {
    "duration": 55,
    "start_time": "2022-01-17T11:28:52.007Z"
   },
   {
    "duration": 12,
    "start_time": "2022-01-17T11:28:52.068Z"
   },
   {
    "duration": 26,
    "start_time": "2022-01-17T11:28:52.082Z"
   },
   {
    "duration": 33,
    "start_time": "2022-01-17T11:28:52.110Z"
   },
   {
    "duration": 23,
    "start_time": "2022-01-17T11:28:52.145Z"
   },
   {
    "duration": 41,
    "start_time": "2022-01-17T11:28:52.172Z"
   },
   {
    "duration": 69,
    "start_time": "2022-01-17T11:28:52.215Z"
   },
   {
    "duration": 41,
    "start_time": "2022-01-17T11:28:52.286Z"
   },
   {
    "duration": 79,
    "start_time": "2022-01-17T11:28:52.329Z"
   },
   {
    "duration": 73,
    "start_time": "2022-01-17T11:28:52.411Z"
   },
   {
    "duration": 76,
    "start_time": "2022-01-17T11:28:52.486Z"
   },
   {
    "duration": 71,
    "start_time": "2022-01-17T11:28:52.564Z"
   },
   {
    "duration": 161,
    "start_time": "2022-01-17T11:28:52.636Z"
   },
   {
    "duration": 6,
    "start_time": "2022-01-17T11:28:52.799Z"
   },
   {
    "duration": 24,
    "start_time": "2022-01-17T11:28:52.807Z"
   },
   {
    "duration": 2,
    "start_time": "2022-01-17T11:28:52.833Z"
   },
   {
    "duration": 15,
    "start_time": "2022-01-17T11:28:52.837Z"
   },
   {
    "duration": 18,
    "start_time": "2022-01-17T11:28:52.860Z"
   },
   {
    "duration": 56,
    "start_time": "2022-01-17T11:28:52.880Z"
   },
   {
    "duration": 26,
    "start_time": "2022-01-17T11:28:52.938Z"
   },
   {
    "duration": 15,
    "start_time": "2022-01-17T11:28:52.970Z"
   },
   {
    "duration": 238,
    "start_time": "2022-01-17T11:28:52.988Z"
   },
   {
    "duration": 18,
    "start_time": "2022-01-17T11:28:53.228Z"
   },
   {
    "duration": 28,
    "start_time": "2022-01-17T11:28:53.248Z"
   },
   {
    "duration": 30,
    "start_time": "2022-01-17T11:28:53.278Z"
   },
   {
    "duration": 56,
    "start_time": "2022-01-17T11:28:53.311Z"
   },
   {
    "duration": 233,
    "start_time": "2022-01-17T11:28:53.369Z"
   },
   {
    "duration": 10,
    "start_time": "2022-01-17T11:28:53.603Z"
   },
   {
    "duration": 39,
    "start_time": "2022-01-17T11:28:53.614Z"
   },
   {
    "duration": 264,
    "start_time": "2022-01-17T11:28:53.660Z"
   },
   {
    "duration": 191,
    "start_time": "2022-01-17T11:28:53.925Z"
   },
   {
    "duration": 432,
    "start_time": "2022-01-17T11:28:54.117Z"
   },
   {
    "duration": 28,
    "start_time": "2022-01-17T11:28:54.551Z"
   },
   {
    "duration": 49,
    "start_time": "2022-01-17T11:28:54.581Z"
   },
   {
    "duration": 12,
    "start_time": "2022-01-17T11:28:54.631Z"
   },
   {
    "duration": 276,
    "start_time": "2022-01-17T11:28:54.644Z"
   },
   {
    "duration": 1482,
    "start_time": "2022-01-17T11:28:54.921Z"
   },
   {
    "duration": 31,
    "start_time": "2022-01-17T11:28:56.405Z"
   },
   {
    "duration": 226,
    "start_time": "2022-01-17T11:28:56.438Z"
   },
   {
    "duration": 1179,
    "start_time": "2022-01-17T11:28:56.666Z"
   },
   {
    "duration": 35,
    "start_time": "2022-01-17T11:28:57.846Z"
   },
   {
    "duration": 307,
    "start_time": "2022-01-17T11:28:57.883Z"
   },
   {
    "duration": 331,
    "start_time": "2022-01-17T11:28:58.193Z"
   },
   {
    "duration": 38,
    "start_time": "2022-01-17T11:28:58.526Z"
   },
   {
    "duration": 20,
    "start_time": "2022-01-17T11:28:58.567Z"
   },
   {
    "duration": 30,
    "start_time": "2022-01-17T11:28:58.589Z"
   },
   {
    "duration": 21,
    "start_time": "2022-01-17T11:28:58.621Z"
   },
   {
    "duration": 27,
    "start_time": "2022-01-17T11:28:58.644Z"
   },
   {
    "duration": 29,
    "start_time": "2022-01-17T11:28:58.674Z"
   },
   {
    "duration": 16,
    "start_time": "2022-01-17T11:28:58.705Z"
   },
   {
    "duration": 48,
    "start_time": "2022-01-17T11:28:58.723Z"
   },
   {
    "duration": 20,
    "start_time": "2022-01-17T11:28:58.773Z"
   },
   {
    "duration": 19,
    "start_time": "2022-01-17T11:28:58.795Z"
   },
   {
    "duration": 22,
    "start_time": "2022-01-17T11:28:58.815Z"
   },
   {
    "duration": 37,
    "start_time": "2022-01-17T11:28:58.840Z"
   },
   {
    "duration": 17,
    "start_time": "2022-01-17T11:28:58.879Z"
   },
   {
    "duration": 26,
    "start_time": "2022-01-17T11:28:58.898Z"
   },
   {
    "duration": 42,
    "start_time": "2022-01-17T11:28:58.926Z"
   },
   {
    "duration": 27,
    "start_time": "2022-01-17T11:28:58.971Z"
   },
   {
    "duration": 16,
    "start_time": "2022-01-17T11:28:59.000Z"
   },
   {
    "duration": 13,
    "start_time": "2022-01-17T11:28:59.018Z"
   },
   {
    "duration": 28,
    "start_time": "2022-01-17T11:28:59.033Z"
   },
   {
    "duration": 14,
    "start_time": "2022-01-17T11:28:59.064Z"
   },
   {
    "duration": 14,
    "start_time": "2022-01-17T11:37:24.424Z"
   }
  ],
  "kernelspec": {
   "display_name": "Python 3 (ipykernel)",
   "language": "python",
   "name": "python3"
  },
  "language_info": {
   "codemirror_mode": {
    "name": "ipython",
    "version": 3
   },
   "file_extension": ".py",
   "mimetype": "text/x-python",
   "name": "python",
   "nbconvert_exporter": "python",
   "pygments_lexer": "ipython3",
   "version": "3.9.12"
  },
  "toc": {
   "base_numbering": 1,
   "nav_menu": {},
   "number_sections": true,
   "sideBar": true,
   "skip_h1_title": true,
   "title_cell": "Table of Contents",
   "title_sidebar": "Contents",
   "toc_cell": false,
   "toc_position": {
    "height": "calc(100% - 180px)",
    "left": "10px",
    "top": "150px",
    "width": "292px"
   },
   "toc_section_display": true,
   "toc_window_display": false
  }
 },
 "nbformat": 4,
 "nbformat_minor": 5
}
