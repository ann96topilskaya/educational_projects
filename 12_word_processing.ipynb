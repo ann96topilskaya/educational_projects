{
 "cells": [
  {
   "cell_type": "markdown",
   "metadata": {},
   "source": [
    "# Обработка комментариев"
   ]
  },
  {
   "cell_type": "markdown",
   "metadata": {},
   "source": [
    "Заказчик - интернет-магазин - запускает новый сервис с возможность редактирования и дополнения описания товаров пользователями, которые могут предлагать свои правки и комментировать чужие. Магазину нужен инструмент, который будет искать токсичные комментарии и отправлять их на модерацию. \n",
    "\n",
    "На наборе данных с разметкой о токсичности правок требуется обучить модель классифицировать комментарии на позитивные и негативные.\n",
    "\n",
    "Целевая метрика - *F1*\n",
    "\n",
    "**Ход выполнения**\n",
    "\n",
    "1. Загрузка и подготовка данных.\n",
    "2. Обучение моделей. \n",
    "3. Выводы."
   ]
  },
  {
   "cell_type": "code",
   "execution_count": null,
   "metadata": {},
   "outputs": [],
   "source": [
    "import pandas as pd\n",
    "import numpy as np\n",
    "\n",
    "import seaborn as sns\n",
    "import matplotlib.pyplot as plt\n",
    "\n",
    "\n",
    "import re, string\n",
    "import nltk\n",
    "from nltk.tokenize import word_tokenize\n",
    "from nltk.corpus import stopwords\n",
    "from nltk.tokenize import word_tokenize\n",
    "from nltk.stem import SnowballStemmer\n",
    "from nltk.corpus import wordnet\n",
    "from nltk.stem import WordNetLemmatizer\n",
    "\n",
    "nltk.download('punkt')\n",
    "nltk.download('averaged_perceptron_tagger')\n",
    "nltk.download('wordnet')\n",
    "\n",
    "\n",
    "from sklearn.model_selection import train_test_split\n",
    "from sklearn.ensemble import RandomForestClassifier\n",
    "from sklearn.linear_model import LogisticRegression\n",
    "from sklearn.tree import DecisionTreeClassifier\n",
    "from sklearn.metrics import f1_score\n",
    "\n",
    "from sklearn.feature_extraction.text import TfidfVectorizer\n",
    "from sklearn.feature_extraction.text import CountVectorizer"
   ]
  },
  {
   "cell_type": "code",
   "execution_count": 129,
   "metadata": {
    "scrolled": true
   },
   "outputs": [
    {
     "data": {
      "text/html": [
       "<div>\n",
       "<style scoped>\n",
       "    .dataframe tbody tr th:only-of-type {\n",
       "        vertical-align: middle;\n",
       "    }\n",
       "\n",
       "    .dataframe tbody tr th {\n",
       "        vertical-align: top;\n",
       "    }\n",
       "\n",
       "    .dataframe thead th {\n",
       "        text-align: right;\n",
       "    }\n",
       "</style>\n",
       "<table border=\"1\" class=\"dataframe\">\n",
       "  <thead>\n",
       "    <tr style=\"text-align: right;\">\n",
       "      <th></th>\n",
       "      <th>text</th>\n",
       "      <th>toxic</th>\n",
       "    </tr>\n",
       "  </thead>\n",
       "  <tbody>\n",
       "    <tr>\n",
       "      <th>0</th>\n",
       "      <td>Explanation\\nWhy the edits made under my usern...</td>\n",
       "      <td>0</td>\n",
       "    </tr>\n",
       "    <tr>\n",
       "      <th>1</th>\n",
       "      <td>D'aww! He matches this background colour I'm s...</td>\n",
       "      <td>0</td>\n",
       "    </tr>\n",
       "    <tr>\n",
       "      <th>2</th>\n",
       "      <td>Hey man, I'm really not trying to edit war. It...</td>\n",
       "      <td>0</td>\n",
       "    </tr>\n",
       "    <tr>\n",
       "      <th>3</th>\n",
       "      <td>\"\\nMore\\nI can't make any real suggestions on ...</td>\n",
       "      <td>0</td>\n",
       "    </tr>\n",
       "    <tr>\n",
       "      <th>4</th>\n",
       "      <td>You, sir, are my hero. Any chance you remember...</td>\n",
       "      <td>0</td>\n",
       "    </tr>\n",
       "    <tr>\n",
       "      <th>...</th>\n",
       "      <td>...</td>\n",
       "      <td>...</td>\n",
       "    </tr>\n",
       "    <tr>\n",
       "      <th>159566</th>\n",
       "      <td>\":::::And for the second time of asking, when ...</td>\n",
       "      <td>0</td>\n",
       "    </tr>\n",
       "    <tr>\n",
       "      <th>159567</th>\n",
       "      <td>You should be ashamed of yourself \\n\\nThat is ...</td>\n",
       "      <td>0</td>\n",
       "    </tr>\n",
       "    <tr>\n",
       "      <th>159568</th>\n",
       "      <td>Spitzer \\n\\nUmm, theres no actual article for ...</td>\n",
       "      <td>0</td>\n",
       "    </tr>\n",
       "    <tr>\n",
       "      <th>159569</th>\n",
       "      <td>And it looks like it was actually you who put ...</td>\n",
       "      <td>0</td>\n",
       "    </tr>\n",
       "    <tr>\n",
       "      <th>159570</th>\n",
       "      <td>\"\\nAnd ... I really don't think you understand...</td>\n",
       "      <td>0</td>\n",
       "    </tr>\n",
       "  </tbody>\n",
       "</table>\n",
       "<p>159571 rows × 2 columns</p>\n",
       "</div>"
      ],
      "text/plain": [
       "                                                     text  toxic\n",
       "0       Explanation\\nWhy the edits made under my usern...      0\n",
       "1       D'aww! He matches this background colour I'm s...      0\n",
       "2       Hey man, I'm really not trying to edit war. It...      0\n",
       "3       \"\\nMore\\nI can't make any real suggestions on ...      0\n",
       "4       You, sir, are my hero. Any chance you remember...      0\n",
       "...                                                   ...    ...\n",
       "159566  \":::::And for the second time of asking, when ...      0\n",
       "159567  You should be ashamed of yourself \\n\\nThat is ...      0\n",
       "159568  Spitzer \\n\\nUmm, theres no actual article for ...      0\n",
       "159569  And it looks like it was actually you who put ...      0\n",
       "159570  \"\\nAnd ... I really don't think you understand...      0\n",
       "\n",
       "[159571 rows x 2 columns]"
      ]
     },
     "metadata": {},
     "output_type": "display_data"
    }
   ],
   "source": [
    "data = pd.read_csv('toxic_comments.csv')\n",
    "display(data)"
   ]
  },
  {
   "cell_type": "markdown",
   "metadata": {},
   "source": [
    "### Исследовательский анализ"
   ]
  },
  {
   "cell_type": "code",
   "execution_count": 130,
   "metadata": {},
   "outputs": [
    {
     "name": "stdout",
     "output_type": "stream",
     "text": [
      "text     0\n",
      "toxic    0\n",
      "dtype: int64\n"
     ]
    }
   ],
   "source": [
    "print(data.isna().sum())"
   ]
  },
  {
   "cell_type": "code",
   "execution_count": 131,
   "metadata": {},
   "outputs": [
    {
     "name": "stdout",
     "output_type": "stream",
     "text": [
      "0\n"
     ]
    }
   ],
   "source": [
    "print(data.duplicated().sum())"
   ]
  },
  {
   "cell_type": "code",
   "execution_count": 132,
   "metadata": {},
   "outputs": [
    {
     "name": "stdout",
     "output_type": "stream",
     "text": [
      "0    143346\n",
      "1     16225\n",
      "Name: toxic, dtype: int64\n",
      "Процентное соотношение негативных комментариев 0    0.898321\n",
      "1    0.101679\n",
      "Name: toxic, dtype: float64\n",
      "Процентное соотношение положительных комментариев 0    99.101679\n",
      "1    99.898321\n",
      "Name: toxic, dtype: float64\n"
     ]
    },
    {
     "name": "stderr",
     "output_type": "stream",
     "text": [
      "/Users/annatopilskaya/opt/anaconda3/lib/python3.8/site-packages/seaborn/_decorators.py:36: FutureWarning: Pass the following variables as keyword args: x, y. From version 0.12, the only valid positional argument will be `data`, and passing other arguments without an explicit keyword will result in an error or misinterpretation.\n",
      "  warnings.warn(\n"
     ]
    },
    {
     "data": {
      "text/plain": [
       "<AxesSubplot:ylabel='toxic'>"
      ]
     },
     "execution_count": 132,
     "metadata": {},
     "output_type": "execute_result"
    },
    {
     "data": {
      "image/png": "[encoded data removed]",
      "text/plain": [
       "<Figure size 432x288 with 1 Axes>"
      ]
     },
     "metadata": {
      "needs_background": "light"
     },
     "output_type": "display_data"
    }
   ],
   "source": [
    "x = data['toxic'].value_counts()\n",
    "print(x)\n",
    "print('Процентное соотношение негативных комментариев', x/len(data['toxic']*100))\n",
    "print('Процентное соотношение положительных комментариев', 100 - x/len(data['toxic']*100))\n",
    "sns.barplot(x.index,x)"
   ]
  },
  {
   "cell_type": "code",
   "execution_count": 51,
   "metadata": {
    "scrolled": true
   },
   "outputs": [
    {
     "name": "stdout",
     "output_type": "stream",
     "text": [
      "Количество слов\n",
      "негативные комментарии 52.71771956856703\n",
      "позитивные комментарии 68.92106511517586\n",
      "\n",
      "Количество символов\n",
      "негативные комментарии 303.30403697996917\n",
      "позитивные комментарии 404.3471739706724\n",
      "\n",
      "Количество уникальных слов\n",
      "негативные комментарии 33.2231124807396\n",
      "позитивные комментарии 49.78090075760747\n"
     ]
    }
   ],
   "source": [
    "# количество слов\n",
    "data['word_count'] = data['text'].apply(lambda x: len(str(x).split()))\n",
    "print('Количество слов')\n",
    "print('негативные комментарии', data[data['toxic']==1]['word_count'].mean()) \n",
    "print('позитивные комментарии', data[data['toxic']==0]['word_count'].mean()) \n",
    "print()\n",
    "\n",
    "# количество символов\n",
    "data['char_count'] = data['text'].apply(lambda x: len(str(x)))\n",
    "print('Количество символов')\n",
    "print('негативные комментарии', data[data['toxic']==1]['char_count'].mean()) \n",
    "print('позитивные комментарии', data[data['toxic']==0]['char_count'].mean()) \n",
    "print()\n",
    "\n",
    "# количество уникальных слов\n",
    "data['unique_word_count'] = data['text'].apply(lambda x: len(set(str(x).split())))\n",
    "print('Количество уникальных слов')\n",
    "print('негативные комментарии', data[data['toxic']==1]['unique_word_count'].mean()) \n",
    "print('позитивные комментарии', data[data['toxic']==0]['unique_word_count'].mean()) "
   ]
  },
  {
   "cell_type": "markdown",
   "metadata": {},
   "source": [
    "**Вывод** \n",
    "\n",
    "В среднем, можно сделать вывод, что и количество слов, и количество символов, и количество уникальных слов в позитивных комментариях превышает все соотвутствующее в негативных комментариях."
   ]
  },
  {
   "cell_type": "code",
   "execution_count": 52,
   "metadata": {},
   "outputs": [
    {
     "data": {
      "image/png": "[encoded data removed]",
      "text/plain": [
       "<Figure size 720x288 with 2 Axes>"
      ]
     },
     "metadata": {
      "needs_background": "light"
     },
     "output_type": "display_data"
    }
   ],
   "source": [
    "#построение графика кол-ва слов\n",
    "fig,(ax1,ax2)=plt.subplots(1,2,figsize=(10,4))\n",
    "neg_words=data[data['toxic']==1]['word_count']\n",
    "ax1.hist(neg_words,color='red')\n",
    "ax1.set_title('Негативные комментарии')\n",
    "pos_words=data[data['toxic']==0]['word_count']\n",
    "ax2.hist(pos_words,color='green')\n",
    "ax2.set_title('Положительные комментарии')\n",
    "fig.suptitle('Количество слов')\n",
    "plt.show()"
   ]
  },
  {
   "cell_type": "code",
   "execution_count": 53,
   "metadata": {},
   "outputs": [
    {
     "data": {
      "image/png": "[encoded data removed]",
      "text/plain": [
       "<Figure size 720x288 with 2 Axes>"
      ]
     },
     "metadata": {
      "needs_background": "light"
     },
     "output_type": "display_data"
    }
   ],
   "source": [
    "#построение графика кол-ва символов\n",
    "fig,(ax1,ax2)=plt.subplots(1,2,figsize=(10,4))\n",
    "neg_words=data[data['toxic']==1]['char_count']\n",
    "ax1.hist(neg_words,color='red')\n",
    "ax1.set_title('Негативные комментарии')\n",
    "pos_words=data[data['toxic']==0]['char_count']\n",
    "ax2.hist(pos_words,color='green')\n",
    "ax2.set_title('Положительные комментарии')\n",
    "fig.suptitle('Количество символов')\n",
    "plt.show()"
   ]
  },
  {
   "cell_type": "code",
   "execution_count": 54,
   "metadata": {
    "scrolled": true
   },
   "outputs": [
    {
     "data": {
      "image/png": "[encoded data removed]",
      "text/plain": [
       "<Figure size 720x288 with 2 Axes>"
      ]
     },
     "metadata": {
      "needs_background": "light"
     },
     "output_type": "display_data"
    }
   ],
   "source": [
    "#построение графика кол-ва уникальных слов\n",
    "fig,(ax1,ax2)=plt.subplots(1,2,figsize=(10,4))\n",
    "neg_words=data[data['toxic']==1]['unique_word_count']\n",
    "ax1.hist(neg_words,color='red')\n",
    "ax1.set_title('Негативные комментарии')\n",
    "pos_words=data[data['toxic']==0]['unique_word_count']\n",
    "ax2.hist(pos_words,color='green')\n",
    "ax2.set_title('Положительные комментарии')\n",
    "fig.suptitle('Количество уникальных слов')\n",
    "plt.show()"
   ]
  },
  {
   "cell_type": "code",
   "execution_count": 66,
   "metadata": {},
   "outputs": [
    {
     "name": "stdout",
     "output_type": "stream",
     "text": [
      "this is a message to be cleaned it may involve some things like br adjacent spaces and tabs \n"
     ]
    }
   ],
   "source": [
    "# обработка текста\n",
    "text = \"   This is a message to be cleaned. It may involve some things like: <br>, ?, :, ''  adjacent spaces and tabs     .  \"\n",
    "\n",
    "# перевод текста в нижний регистр, удаление знаков препинания и лишних пробелов\n",
    "def clean_text(text):\n",
    "    text = text.lower() # нижний регистр\n",
    "    text = text.strip()  # удаление начальных и конечных пробелов\n",
    "    text = re.sub('\\s+', ' ', text) # удаление лишних пробелов в тексте\n",
    "    text = re.sub(r'\\[[0-9]*\\]',' ',text) #удаление цифр\n",
    "    text = re.sub(r'[^\\w\\s]', '', str(text).lower().strip())\n",
    "    text = re.sub(r'\\d',' ',text) \n",
    "    text = re.sub(r'\\s+',' ',text) \n",
    "    \n",
    "    \n",
    "    return text\n",
    "\n",
    "text=clean_text(text)\n",
    "print(text)"
   ]
  },
  {
   "cell_type": "code",
   "execution_count": 67,
   "metadata": {},
   "outputs": [
    {
     "name": "stdout",
     "output_type": "stream",
     "text": [
      "message cleaned may involve things like br adjacent spaces tabs\n"
     ]
    }
   ],
   "source": [
    "#удаление стоп-слов\n",
    "def stopword(string):\n",
    "    a= [i for i in string.split() if i not in stopwords.words('english')]\n",
    "    return ' '.join(a)\n",
    "\n",
    "text=stopword(text)\n",
    "print(text)"
   ]
  },
  {
   "cell_type": "code",
   "execution_count": 70,
   "metadata": {},
   "outputs": [
    {
     "name": "stdout",
     "output_type": "stream",
     "text": [
      "message clean may involve thing like br adjacent space tab\n"
     ]
    }
   ],
   "source": [
    "#лемматизация\n",
    "wl = WordNetLemmatizer()\n",
    "\n",
    "def get_wordnet_pos(tag):\n",
    "    if tag.startswith('J'):\n",
    "        return wordnet.ADJ\n",
    "    elif tag.startswith('V'):\n",
    "        return wordnet.VERB\n",
    "    elif tag.startswith('N'):\n",
    "        return wordnet.NOUN\n",
    "    elif tag.startswith('R'):\n",
    "        return wordnet.ADV\n",
    "    else:\n",
    "        return wordnet.NOUN\n",
    "\n",
    "# токенизация\n",
    "def lemmatizer(string):\n",
    "    word_pos_tags = nltk.pos_tag(word_tokenize(string)) \n",
    "    a=[wl.lemmatize(tag[0], get_wordnet_pos(tag[1])) for idx, tag in enumerate(word_pos_tags)]\n",
    "    return \" \".join(a)\n",
    "\n",
    "text = lemmatizer(text)\n",
    "print(text)"
   ]
  },
  {
   "cell_type": "code",
   "execution_count": 72,
   "metadata": {},
   "outputs": [
    {
     "name": "stdout",
     "output_type": "stream",
     "text": [
      "CPU times: user 15min 53s, sys: 1min 38s, total: 17min 32s\n",
      "Wall time: 17min 33s\n"
     ]
    },
    {
     "data": {
      "text/html": [
       "<div>\n",
       "<style scoped>\n",
       "    .dataframe tbody tr th:only-of-type {\n",
       "        vertical-align: middle;\n",
       "    }\n",
       "\n",
       "    .dataframe tbody tr th {\n",
       "        vertical-align: top;\n",
       "    }\n",
       "\n",
       "    .dataframe thead th {\n",
       "        text-align: right;\n",
       "    }\n",
       "</style>\n",
       "<table border=\"1\" class=\"dataframe\">\n",
       "  <thead>\n",
       "    <tr style=\"text-align: right;\">\n",
       "      <th></th>\n",
       "      <th>text</th>\n",
       "      <th>toxic</th>\n",
       "      <th>word_count</th>\n",
       "      <th>char_count</th>\n",
       "      <th>unique_word_count</th>\n",
       "      <th>clean_text</th>\n",
       "    </tr>\n",
       "  </thead>\n",
       "  <tbody>\n",
       "    <tr>\n",
       "      <th>0</th>\n",
       "      <td>Explanation\\nWhy the edits made under my usern...</td>\n",
       "      <td>0</td>\n",
       "      <td>43</td>\n",
       "      <td>264</td>\n",
       "      <td>41</td>\n",
       "      <td>explanation edits make username hardcore metal...</td>\n",
       "    </tr>\n",
       "    <tr>\n",
       "      <th>1</th>\n",
       "      <td>D'aww! He matches this background colour I'm s...</td>\n",
       "      <td>0</td>\n",
       "      <td>17</td>\n",
       "      <td>112</td>\n",
       "      <td>17</td>\n",
       "      <td>daww match background colour im seemingly stuc...</td>\n",
       "    </tr>\n",
       "    <tr>\n",
       "      <th>2</th>\n",
       "      <td>Hey man, I'm really not trying to edit war. It...</td>\n",
       "      <td>0</td>\n",
       "      <td>42</td>\n",
       "      <td>233</td>\n",
       "      <td>39</td>\n",
       "      <td>hey man im really try edit war guy constantly ...</td>\n",
       "    </tr>\n",
       "    <tr>\n",
       "      <th>3</th>\n",
       "      <td>\"\\nMore\\nI can't make any real suggestions on ...</td>\n",
       "      <td>0</td>\n",
       "      <td>113</td>\n",
       "      <td>622</td>\n",
       "      <td>82</td>\n",
       "      <td>cant make real suggestion improvement wonder s...</td>\n",
       "    </tr>\n",
       "    <tr>\n",
       "      <th>4</th>\n",
       "      <td>You, sir, are my hero. Any chance you remember...</td>\n",
       "      <td>0</td>\n",
       "      <td>13</td>\n",
       "      <td>67</td>\n",
       "      <td>13</td>\n",
       "      <td>sir hero chance remember page thats</td>\n",
       "    </tr>\n",
       "  </tbody>\n",
       "</table>\n",
       "</div>"
      ],
      "text/plain": [
       "                                                text  toxic  word_count  \\\n",
       "0  Explanation\\nWhy the edits made under my usern...      0          43   \n",
       "1  D'aww! He matches this background colour I'm s...      0          17   \n",
       "2  Hey man, I'm really not trying to edit war. It...      0          42   \n",
       "3  \"\\nMore\\nI can't make any real suggestions on ...      0         113   \n",
       "4  You, sir, are my hero. Any chance you remember...      0          13   \n",
       "\n",
       "   char_count  unique_word_count  \\\n",
       "0         264                 41   \n",
       "1         112                 17   \n",
       "2         233                 39   \n",
       "3         622                 82   \n",
       "4          67                 13   \n",
       "\n",
       "                                          clean_text  \n",
       "0  explanation edits make username hardcore metal...  \n",
       "1  daww match background colour im seemingly stuc...  \n",
       "2  hey man im really try edit war guy constantly ...  \n",
       "3  cant make real suggestion improvement wonder s...  \n",
       "4                sir hero chance remember page thats  "
      ]
     },
     "execution_count": 72,
     "metadata": {},
     "output_type": "execute_result"
    }
   ],
   "source": [
    "%%time\n",
    "#применение функции к датасету\n",
    "def finalpreprocess(string):\n",
    "    return lemmatizer(stopword(clean_text(string)))\n",
    "\n",
    "data['clean_text'] = data['text'].apply(lambda x: finalpreprocess(x))\n",
    "data.head()"
   ]
  },
  {
   "cell_type": "code",
   "execution_count": 82,
   "metadata": {},
   "outputs": [
    {
     "name": "stdout",
     "output_type": "stream",
     "text": [
      "Index(['text', 'toxic', 'clean_text'], dtype='object')\n"
     ]
    }
   ],
   "source": [
    "data = data.drop(columns=['word_count','char_count','unique_word_count'])\n",
    "display(data.head())"
   ]
  },
  {
   "cell_type": "markdown",
   "metadata": {},
   "source": [
    "## Обучение"
   ]
  },
  {
   "cell_type": "code",
   "execution_count": 85,
   "metadata": {
    "scrolled": true
   },
   "outputs": [
    {
     "name": "stdout",
     "output_type": "stream",
     "text": [
      "(127656,)\n",
      "(31915,)\n",
      "(127656,)\n",
      "(31915,)\n",
      "127656\n",
      "31915\n"
     ]
    }
   ],
   "source": [
    "# делю выборку на обучающую и тестовую\n",
    "data_train, data_valid = train_test_split(data, test_size=0.2, random_state=42)\n",
    "\n",
    "features_train = data_train['clean_text']\n",
    "features_valid = data_valid['clean_text']\n",
    "\n",
    "target_train = data_train['toxic']\n",
    "target_valid = data_valid['toxic']\n",
    "\n",
    "features_train_tok= [nltk.word_tokenize(i) for i in features_train]\n",
    "features_valid_tok= [nltk.word_tokenize(i) for i in features_valid]\n",
    "\n",
    "print(features_train.shape)\n",
    "print(features_valid.shape)\n",
    "print(target_train.shape)\n",
    "print(target_valid.shape)\n",
    "print(len(features_train_tok))\n",
    "print(len(features_valid_tok))"
   ]
  },
  {
   "cell_type": "code",
   "execution_count": 102,
   "metadata": {},
   "outputs": [],
   "source": [
    "#TF-IDF\n",
    "\n",
    "tfidf_vectorizer = TfidfVectorizer(use_idf=True)\n",
    "\n",
    "features_train_vectors_tfidf = tfidf_vectorizer.fit_transform(features_train)\n",
    "\n",
    "features_valid_vectors_tfidf = tfidf_vectorizer.transform(features_valid) "
   ]
  },
  {
   "cell_type": "markdown",
   "metadata": {},
   "source": [
    "### Логистическая регрессия"
   ]
  },
  {
   "cell_type": "code",
   "execution_count": 112,
   "metadata": {},
   "outputs": [
    {
     "name": "stdout",
     "output_type": "stream",
     "text": [
      "lr_f1 =  0.7858864027538726\n"
     ]
    }
   ],
   "source": [
    "lr_tfidf = LogisticRegression(solver = 'liblinear', C=10, penalty = 'l2')\n",
    "lr_tfidf.fit(features_train_vectors_tfidf, target_train)  #model\n",
    "\n",
    "lr_predictions_valid = lr_tfidf.predict(features_valid_vectors_tfidf)\n",
    "lr_f1 = f1_score(target_valid, lr_predictions_valid)\n",
    "print('lr_f1 = ', lr_f1)  "
   ]
  },
  {
   "cell_type": "markdown",
   "metadata": {},
   "source": [
    "### Дерево решений"
   ]
  },
  {
   "cell_type": "code",
   "execution_count": 116,
   "metadata": {},
   "outputs": [
    {
     "name": "stdout",
     "output_type": "stream",
     "text": [
      "max_depth = 10 tree_f1 = 0.6057355064988653\n",
      "max_depth = 11 tree_f1 = 0.612194621227674\n",
      "max_depth = 12 tree_f1 = 0.6286173633440515\n",
      "max_depth = 13 tree_f1 = 0.6277431044896316\n",
      "max_depth = 14 tree_f1 = 0.6373626373626373\n",
      "max_depth = 15 tree_f1 = 0.6421617325650706\n",
      "max_depth = 16 tree_f1 = 0.6454293628808865\n",
      "max_depth = 17 tree_f1 = 0.6541149068322981\n",
      "max_depth = 18 tree_f1 = 0.6528941726758917\n",
      "max_depth = 19 tree_f1 = 0.6595703502999807\n",
      "max_depth = 20 tree_f1 = 0.6660250240615977\n",
      "max_depth = 21 tree_f1 = 0.6666666666666666\n",
      "max_depth = 22 tree_f1 = 0.6752802584077522\n",
      "max_depth = 23 tree_f1 = 0.6757886735081717\n",
      "max_depth = 24 tree_f1 = 0.6807387862796833\n",
      "max_depth = 25 tree_f1 = 0.6785308595229079\n",
      "max_depth = 26 tree_f1 = 0.6793233082706768\n",
      "max_depth = 27 tree_f1 = 0.6859830667920979\n",
      "max_depth = 28 tree_f1 = 0.6828351193833427\n",
      "max_depth = 29 tree_f1 = 0.6856393933720278\n",
      "max_depth = 30 tree_f1 = 0.6851920925027974\n",
      "наилучший результат 0.6859830667920979 достигается при глубине max_depth =  27\n"
     ]
    }
   ],
   "source": [
    "best_result = 0\n",
    "best_depth = 0\n",
    "for i in range(10,31):\n",
    "    tree_tfidf = DecisionTreeClassifier(max_depth=i, random_state=42)\n",
    "    tree_tfidf.fit(features_train_vectors_tfidf, target_train)\n",
    "    tree_predictions_valid = tree_tfidf.predict(features_valid_vectors_tfidf)\n",
    "    tree_f1 = f1_score(target_valid, tree_predictions_valid)\n",
    "    print('max_depth =',i, 'tree_f1 =',tree_f1)\n",
    "    if tree_f1 > best_result:\n",
    "        best_result = tree_f1\n",
    "        best_depth = i \n",
    "print('наилучший результат', best_result, 'достигается при глубине max_depth = ', best_depth )\n",
    "tree_f1 = best_result"
   ]
  },
  {
   "cell_type": "markdown",
   "metadata": {},
   "source": [
    "### Случайный лес"
   ]
  },
  {
   "cell_type": "code",
   "execution_count": 123,
   "metadata": {},
   "outputs": [
    {
     "name": "stdout",
     "output_type": "stream",
     "text": [
      "0.0\n"
     ]
    }
   ],
   "source": [
    "# best_result = 0\n",
    "# best_est = 0\n",
    "# for i in range(100, 201, 10):\n",
    "#     forest_tfidf = RandomForestClassifier(max_depth=10, n_estimators=100, random_state=42)\n",
    "#     forest_tfidf.fit(features_train_vectors_tfidf, target_train)\n",
    "#     forest_predictions_valid = forest_tfidf.predict(features_valid_vectors_tfidf)\n",
    "#     forest_f1 = f1_score(target_valid, forest_predictions_valid) \n",
    "#     print('best_est =',i, 'forest_f1 =',forest_f1)\n",
    "#     if forest_f1 > best_result:\n",
    "#         best_result = forest_f1\n",
    "#         best_est = i \n",
    "# print('наилучший результат', best_result, 'достигается при глубине количестве деревьев = ', best_est)\n",
    "\n",
    "forest_tfidf = RandomForestClassifier(random_state=42, max_depth=10,n_estimators=150)\n",
    "forest_tfidf.fit(features_train_vectors_tfidf, target_train)\n",
    "forest_predictions_valid = forest_tfidf.predict(features_valid_vectors_tfidf)\n",
    "forest_f1 = f1_score(target_valid, forest_predictions_valid) \n",
    "print(forest_f1)"
   ]
  },
  {
   "cell_type": "markdown",
   "metadata": {},
   "source": [
    "## Выводы"
   ]
  },
  {
   "cell_type": "code",
   "execution_count": 126,
   "metadata": {},
   "outputs": [
    {
     "data": {
      "text/html": [
       "<div>\n",
       "<style scoped>\n",
       "    .dataframe tbody tr th:only-of-type {\n",
       "        vertical-align: middle;\n",
       "    }\n",
       "\n",
       "    .dataframe tbody tr th {\n",
       "        vertical-align: top;\n",
       "    }\n",
       "\n",
       "    .dataframe thead th {\n",
       "        text-align: right;\n",
       "    }\n",
       "</style>\n",
       "<table border=\"1\" class=\"dataframe\">\n",
       "  <thead>\n",
       "    <tr style=\"text-align: right;\">\n",
       "      <th></th>\n",
       "      <th>model</th>\n",
       "      <th>f1</th>\n",
       "    </tr>\n",
       "  </thead>\n",
       "  <tbody>\n",
       "    <tr>\n",
       "      <th>2</th>\n",
       "      <td>log_reg</td>\n",
       "      <td>0.785886</td>\n",
       "    </tr>\n",
       "    <tr>\n",
       "      <th>0</th>\n",
       "      <td>tree</td>\n",
       "      <td>0.685192</td>\n",
       "    </tr>\n",
       "    <tr>\n",
       "      <th>1</th>\n",
       "      <td>forest</td>\n",
       "      <td>0.000000</td>\n",
       "    </tr>\n",
       "  </tbody>\n",
       "</table>\n",
       "</div>"
      ],
      "text/plain": [
       "     model        f1\n",
       "2  log_reg  0.785886\n",
       "0     tree  0.685192\n",
       "1   forest  0.000000"
      ]
     },
     "metadata": {},
     "output_type": "display_data"
    }
   ],
   "source": [
    "df_dict = {'model': ['tree', 'forest', 'log_reg'], \n",
    "           'f1': [tree_f1, forest_f1, lr_f1]\n",
    "     }\n",
    "df = pd.DataFrame(df_dict)\n",
    "df = df.sort_values('f1', ascending=False)\n",
    "display(df)"
   ]
  },
  {
   "cell_type": "markdown",
   "metadata": {},
   "source": [
    "Таким образом, лучшим результатом f1 обладает логистическая регрессия."
   ]
  },
  {
   "cell_type": "markdown",
   "metadata": {},
   "source": [
    "**Общий вывод**\n",
    "\n",
    "- Цель проекта\n",
    "\n",
    "Заказчик - интернет-магазин - запускает новый сервис с возможность редактирования и дополнения описания товаров пользователями, которые могут предлагать свои правки и комментировать чужие. Магазину нужен инструмент, который будет искать токсичные комментарии и отправлять их на модерацию. \n",
    "\n",
    "_На наборе данных с разметкой о токсичности правок требуется обучить модель классифицировать комментарии на позитивные и негативные._\n",
    "\n",
    "Целевая метрика - *F1*\n",
    "\n",
    "- Полученные данные и их предобработка\n",
    "\n",
    "Получен датасет, в котором перечислены комментарии и их характеристика: негативные (toxic = 1) и позитивные (toxic = 0)\n",
    "\n",
    "- Исследовательский анализ\n",
    "\n",
    "        Процентное соотношение негативных комментариев 0.898321\n",
    "    \n",
    "        Процентное соотношение положительных комментариев 99.101679\n",
    "\n",
    "    Среднее количество слов в комментарии\n",
    "    \n",
    "        негативные комментарии 52.71771956856703\n",
    "        позитивные комментарии 68.92106511517586\n",
    "\n",
    "    Среднее количество символов в комментарии\n",
    "    \n",
    "        негативные комментарии 303.30403697996917\n",
    "        позитивные комментарии 404.3471739706724\n",
    "\n",
    "    Среднее количество уникальных слов в комментарии\n",
    "    \n",
    "        негативные комментарии 33.2231124807396\n",
    "        позитивные комментарии 49.78090075760747\n",
    "\n",
    "- Обработка текста\n",
    "\n",
    "Были написаны функции :\n",
    "\n",
    "     очистки текста от знаков препинания, лишних пробелов, символов,\n",
    "     удаления стоп-слов\n",
    "     лемматизации текста\n",
    "\n",
    "- Обучение\n",
    "\n",
    "Разделила выборку на тестовую и валидационную, вычислила TF-IDF и обучила три модели:\n",
    "\n",
    "    логистическая рергессия дала результат 0.7858864027538726\n",
    "    \n",
    "    дерево решений дало лучший результат 0.6859830667920979 при глубине 27 \n",
    "    \n",
    "    сулчайный лес дал результат 0 \n",
    "\n",
    "- Общий вывод\n",
    "\n",
    "    Самый лучшие результаты показывает логистическая регрессия lr_f1 =  0.7858864027538726"
   ]
  }
 ],
 "metadata": {
  "ExecuteTimeLog": [
   {
    "duration": 400,
    "start_time": "2022-04-29T10:00:07.668Z"
   },
   {
    "duration": 150,
    "start_time": "2022-04-29T10:00:28.493Z"
   },
   {
    "duration": 3247,
    "start_time": "2022-04-29T10:03:08.233Z"
   },
   {
    "duration": 33,
    "start_time": "2022-04-29T10:03:40.342Z"
   },
   {
    "duration": 235,
    "start_time": "2022-04-29T10:03:56.410Z"
   },
   {
    "duration": 197,
    "start_time": "2022-04-29T10:04:01.394Z"
   },
   {
    "duration": 46,
    "start_time": "2022-04-29T10:04:55.656Z"
   },
   {
    "duration": 388,
    "start_time": "2022-04-29T10:05:03.291Z"
   },
   {
    "duration": 2612,
    "start_time": "2022-04-29T10:05:03.681Z"
   },
   {
    "duration": 25,
    "start_time": "2022-04-29T10:05:06.295Z"
   },
   {
    "duration": 241,
    "start_time": "2022-04-29T10:05:06.322Z"
   },
   {
    "duration": 69,
    "start_time": "2022-04-29T10:05:11.898Z"
   },
   {
    "duration": 7401,
    "start_time": "2022-05-05T14:27:52.638Z"
   },
   {
    "duration": 7445,
    "start_time": "2022-05-05T14:28:00.042Z"
   },
   {
    "duration": 7542,
    "start_time": "2022-05-05T14:28:07.490Z"
   },
   {
    "duration": 7538,
    "start_time": "2022-05-05T14:28:15.035Z"
   },
   {
    "duration": 0,
    "start_time": "2022-05-05T15:09:30.499Z"
   },
   {
    "duration": 41,
    "start_time": "2022-05-05T15:09:45.955Z"
   }
  ],
  "kernelspec": {
   "display_name": "Python 3 (ipykernel)",
   "language": "python",
   "name": "python3"
  },
  "language_info": {
   "codemirror_mode": {
    "name": "ipython",
    "version": 3
   },
   "file_extension": ".py",
   "mimetype": "text/x-python",
   "name": "python",
   "nbconvert_exporter": "python",
   "pygments_lexer": "ipython3",
   "version": "3.9.12"
  },
  "toc": {
   "base_numbering": 1,
   "nav_menu": {},
   "number_sections": true,
   "sideBar": true,
   "skip_h1_title": true,
   "title_cell": "Содержание",
   "title_sidebar": "Contents",
   "toc_cell": true,
   "toc_position": {
    "height": "calc(100% - 180px)",
    "left": "10px",
    "top": "150px",
    "width": "302.391px"
   },
   "toc_section_display": true,
   "toc_window_display": false
  }
 },
 "nbformat": 4,
 "nbformat_minor": 2
}
