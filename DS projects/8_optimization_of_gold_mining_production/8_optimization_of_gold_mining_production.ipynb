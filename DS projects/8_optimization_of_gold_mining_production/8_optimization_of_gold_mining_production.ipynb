{
 "cells": [
  {
   "cell_type": "markdown",
   "id": "dff41d6d",
   "metadata": {},
   "source": [
    "# Оптимизация золотодобывающего производства\n",
    "\n",
    "**Задача**\n",
    "\n",
    "В распоряжении данные с параметрами добычи и очистки золотосодержащей руды. Необходимо подготовить прототип модели обучения для эффективной работы промышленных предприятий.\n",
    "\n",
    "**Ход решения**\n",
    "\n",
    "- Подготовить данные\n",
    "- Провести исследовательский анализ данных\n",
    "- Построить и обучить модель"
   ]
  },
  {
   "cell_type": "markdown",
   "id": "9b56c99c",
   "metadata": {},
   "source": [
    "# 1. Подготовка данных"
   ]
  },
  {
   "cell_type": "markdown",
   "id": "1e9dd174",
   "metadata": {},
   "source": [
    "## 1.1. Открытие файлов"
   ]
  },
  {
   "cell_type": "code",
   "execution_count": 63,
   "id": "1d80f203",
   "metadata": {},
   "outputs": [],
   "source": [
    "# подгружаю необходимые библиотеки\n",
    "import pandas as pd\n",
    "import numpy as np\n",
    "import matplotlib.pyplot as plt\n",
    "import seaborn as sns\n",
    "\n",
    "from sklearn.metrics import mean_absolute_error\n",
    "from sklearn.metrics import make_scorer\n",
    "\n",
    "from sklearn.model_selection import cross_val_score\n",
    "\n",
    "from sklearn.tree import DecisionTreeRegressor\n",
    "from sklearn.ensemble import RandomForestRegressor\n",
    "from sklearn.linear_model import LinearRegression\n",
    "\n",
    "from sklearn.dummy import DummyRegressor\n"
   ]
  },
  {
   "cell_type": "code",
   "execution_count": 116,
   "id": "3369320e",
   "metadata": {},
   "outputs": [
    {
     "name": "stdout",
     "output_type": "stream",
     "text": [
      "data_train (14149, 87)\n",
      "data_test (5290, 53)\n",
      "data_full (19439, 87)\n"
     ]
    }
   ],
   "source": [
    "# открываю файлы\n",
    "data_train = pd.read_csv('/datasets/gold_recovery_train_new.csv')\n",
    "data_test = pd.read_csv('/datasets/gold_recovery_test_new.csv')\n",
    "data_full = pd.read_csv('/datasets/gold_recovery_full_new.csv')\n",
    "print('data_train', data_train.shape)\n",
    "print('data_test', data_test.shape)\n",
    "print('data_full', data_full.shape)"
   ]
  },
  {
   "cell_type": "code",
   "execution_count": 117,
   "id": "20887d56",
   "metadata": {
    "scrolled": true
   },
   "outputs": [
    {
     "data": {
      "text/html": [
       "<div>\n",
       "<style scoped>\n",
       "    .dataframe tbody tr th:only-of-type {\n",
       "        vertical-align: middle;\n",
       "    }\n",
       "\n",
       "    .dataframe tbody tr th {\n",
       "        vertical-align: top;\n",
       "    }\n",
       "\n",
       "    .dataframe thead th {\n",
       "        text-align: right;\n",
       "    }\n",
       "</style>\n",
       "<table border=\"1\" class=\"dataframe\">\n",
       "  <thead>\n",
       "    <tr style=\"text-align: right;\">\n",
       "      <th></th>\n",
       "      <th>date</th>\n",
       "      <th>final.output.concentrate_ag</th>\n",
       "      <th>final.output.concentrate_pb</th>\n",
       "      <th>final.output.concentrate_sol</th>\n",
       "      <th>final.output.concentrate_au</th>\n",
       "      <th>final.output.recovery</th>\n",
       "      <th>final.output.tail_ag</th>\n",
       "      <th>final.output.tail_pb</th>\n",
       "      <th>final.output.tail_sol</th>\n",
       "      <th>final.output.tail_au</th>\n",
       "      <th>...</th>\n",
       "      <th>secondary_cleaner.state.floatbank4_a_air</th>\n",
       "      <th>secondary_cleaner.state.floatbank4_a_level</th>\n",
       "      <th>secondary_cleaner.state.floatbank4_b_air</th>\n",
       "      <th>secondary_cleaner.state.floatbank4_b_level</th>\n",
       "      <th>secondary_cleaner.state.floatbank5_a_air</th>\n",
       "      <th>secondary_cleaner.state.floatbank5_a_level</th>\n",
       "      <th>secondary_cleaner.state.floatbank5_b_air</th>\n",
       "      <th>secondary_cleaner.state.floatbank5_b_level</th>\n",
       "      <th>secondary_cleaner.state.floatbank6_a_air</th>\n",
       "      <th>secondary_cleaner.state.floatbank6_a_level</th>\n",
       "    </tr>\n",
       "  </thead>\n",
       "  <tbody>\n",
       "    <tr>\n",
       "      <td>0</td>\n",
       "      <td>2016-01-15 00:00:00</td>\n",
       "      <td>6.055403</td>\n",
       "      <td>9.889648</td>\n",
       "      <td>5.507324</td>\n",
       "      <td>42.192020</td>\n",
       "      <td>70.541216</td>\n",
       "      <td>10.411962</td>\n",
       "      <td>0.895447</td>\n",
       "      <td>16.904297</td>\n",
       "      <td>2.143149</td>\n",
       "      <td>...</td>\n",
       "      <td>14.016835</td>\n",
       "      <td>-502.488007</td>\n",
       "      <td>12.099931</td>\n",
       "      <td>-504.715942</td>\n",
       "      <td>9.925633</td>\n",
       "      <td>-498.310211</td>\n",
       "      <td>8.079666</td>\n",
       "      <td>-500.470978</td>\n",
       "      <td>14.151341</td>\n",
       "      <td>-605.841980</td>\n",
       "    </tr>\n",
       "    <tr>\n",
       "      <td>1</td>\n",
       "      <td>2016-01-15 01:00:00</td>\n",
       "      <td>6.029369</td>\n",
       "      <td>9.968944</td>\n",
       "      <td>5.257781</td>\n",
       "      <td>42.701629</td>\n",
       "      <td>69.266198</td>\n",
       "      <td>10.462676</td>\n",
       "      <td>0.927452</td>\n",
       "      <td>16.634514</td>\n",
       "      <td>2.224930</td>\n",
       "      <td>...</td>\n",
       "      <td>13.992281</td>\n",
       "      <td>-505.503262</td>\n",
       "      <td>11.950531</td>\n",
       "      <td>-501.331529</td>\n",
       "      <td>10.039245</td>\n",
       "      <td>-500.169983</td>\n",
       "      <td>7.984757</td>\n",
       "      <td>-500.582168</td>\n",
       "      <td>13.998353</td>\n",
       "      <td>-599.787184</td>\n",
       "    </tr>\n",
       "    <tr>\n",
       "      <td>2</td>\n",
       "      <td>2016-01-15 02:00:00</td>\n",
       "      <td>6.055926</td>\n",
       "      <td>10.213995</td>\n",
       "      <td>5.383759</td>\n",
       "      <td>42.657501</td>\n",
       "      <td>68.116445</td>\n",
       "      <td>10.507046</td>\n",
       "      <td>0.953716</td>\n",
       "      <td>16.208849</td>\n",
       "      <td>2.257889</td>\n",
       "      <td>...</td>\n",
       "      <td>14.015015</td>\n",
       "      <td>-502.520901</td>\n",
       "      <td>11.912783</td>\n",
       "      <td>-501.133383</td>\n",
       "      <td>10.070913</td>\n",
       "      <td>-500.129135</td>\n",
       "      <td>8.013877</td>\n",
       "      <td>-500.517572</td>\n",
       "      <td>14.028663</td>\n",
       "      <td>-601.427363</td>\n",
       "    </tr>\n",
       "    <tr>\n",
       "      <td>3</td>\n",
       "      <td>2016-01-15 03:00:00</td>\n",
       "      <td>6.047977</td>\n",
       "      <td>9.977019</td>\n",
       "      <td>4.858634</td>\n",
       "      <td>42.689819</td>\n",
       "      <td>68.347543</td>\n",
       "      <td>10.422762</td>\n",
       "      <td>0.883763</td>\n",
       "      <td>16.532835</td>\n",
       "      <td>2.146849</td>\n",
       "      <td>...</td>\n",
       "      <td>14.036510</td>\n",
       "      <td>-500.857308</td>\n",
       "      <td>11.999550</td>\n",
       "      <td>-501.193686</td>\n",
       "      <td>9.970366</td>\n",
       "      <td>-499.201640</td>\n",
       "      <td>7.977324</td>\n",
       "      <td>-500.255908</td>\n",
       "      <td>14.005551</td>\n",
       "      <td>-599.996129</td>\n",
       "    </tr>\n",
       "    <tr>\n",
       "      <td>4</td>\n",
       "      <td>2016-01-15 04:00:00</td>\n",
       "      <td>6.148599</td>\n",
       "      <td>10.142511</td>\n",
       "      <td>4.939416</td>\n",
       "      <td>42.774141</td>\n",
       "      <td>66.927016</td>\n",
       "      <td>10.360302</td>\n",
       "      <td>0.792826</td>\n",
       "      <td>16.525686</td>\n",
       "      <td>2.055292</td>\n",
       "      <td>...</td>\n",
       "      <td>14.027298</td>\n",
       "      <td>-499.838632</td>\n",
       "      <td>11.953070</td>\n",
       "      <td>-501.053894</td>\n",
       "      <td>9.925709</td>\n",
       "      <td>-501.686727</td>\n",
       "      <td>7.894242</td>\n",
       "      <td>-500.356035</td>\n",
       "      <td>13.996647</td>\n",
       "      <td>-601.496691</td>\n",
       "    </tr>\n",
       "    <tr>\n",
       "      <td>...</td>\n",
       "      <td>...</td>\n",
       "      <td>...</td>\n",
       "      <td>...</td>\n",
       "      <td>...</td>\n",
       "      <td>...</td>\n",
       "      <td>...</td>\n",
       "      <td>...</td>\n",
       "      <td>...</td>\n",
       "      <td>...</td>\n",
       "      <td>...</td>\n",
       "      <td>...</td>\n",
       "      <td>...</td>\n",
       "      <td>...</td>\n",
       "      <td>...</td>\n",
       "      <td>...</td>\n",
       "      <td>...</td>\n",
       "      <td>...</td>\n",
       "      <td>...</td>\n",
       "      <td>...</td>\n",
       "      <td>...</td>\n",
       "      <td>...</td>\n",
       "    </tr>\n",
       "    <tr>\n",
       "      <td>14144</td>\n",
       "      <td>2018-08-18 06:59:59</td>\n",
       "      <td>3.224920</td>\n",
       "      <td>11.356233</td>\n",
       "      <td>6.803482</td>\n",
       "      <td>46.713954</td>\n",
       "      <td>73.755150</td>\n",
       "      <td>8.769645</td>\n",
       "      <td>3.141541</td>\n",
       "      <td>10.403181</td>\n",
       "      <td>1.529220</td>\n",
       "      <td>...</td>\n",
       "      <td>23.031497</td>\n",
       "      <td>-501.167942</td>\n",
       "      <td>20.007571</td>\n",
       "      <td>-499.740028</td>\n",
       "      <td>18.006038</td>\n",
       "      <td>-499.834374</td>\n",
       "      <td>13.001114</td>\n",
       "      <td>-500.155694</td>\n",
       "      <td>20.007840</td>\n",
       "      <td>-501.296428</td>\n",
       "    </tr>\n",
       "    <tr>\n",
       "      <td>14145</td>\n",
       "      <td>2018-08-18 07:59:59</td>\n",
       "      <td>3.195978</td>\n",
       "      <td>11.349355</td>\n",
       "      <td>6.862249</td>\n",
       "      <td>46.866780</td>\n",
       "      <td>69.049291</td>\n",
       "      <td>8.897321</td>\n",
       "      <td>3.130493</td>\n",
       "      <td>10.549470</td>\n",
       "      <td>1.612542</td>\n",
       "      <td>...</td>\n",
       "      <td>22.960095</td>\n",
       "      <td>-501.612783</td>\n",
       "      <td>20.035660</td>\n",
       "      <td>-500.251357</td>\n",
       "      <td>17.998535</td>\n",
       "      <td>-500.395178</td>\n",
       "      <td>12.954048</td>\n",
       "      <td>-499.895163</td>\n",
       "      <td>19.968498</td>\n",
       "      <td>-501.041608</td>\n",
       "    </tr>\n",
       "    <tr>\n",
       "      <td>14146</td>\n",
       "      <td>2018-08-18 08:59:59</td>\n",
       "      <td>3.109998</td>\n",
       "      <td>11.434366</td>\n",
       "      <td>6.886013</td>\n",
       "      <td>46.795691</td>\n",
       "      <td>67.002189</td>\n",
       "      <td>8.529606</td>\n",
       "      <td>2.911418</td>\n",
       "      <td>11.115147</td>\n",
       "      <td>1.596616</td>\n",
       "      <td>...</td>\n",
       "      <td>23.015718</td>\n",
       "      <td>-501.711599</td>\n",
       "      <td>19.951231</td>\n",
       "      <td>-499.857027</td>\n",
       "      <td>18.019543</td>\n",
       "      <td>-500.451156</td>\n",
       "      <td>13.023431</td>\n",
       "      <td>-499.914391</td>\n",
       "      <td>19.990885</td>\n",
       "      <td>-501.518452</td>\n",
       "    </tr>\n",
       "    <tr>\n",
       "      <td>14147</td>\n",
       "      <td>2018-08-18 09:59:59</td>\n",
       "      <td>3.367241</td>\n",
       "      <td>11.625587</td>\n",
       "      <td>6.799433</td>\n",
       "      <td>46.408188</td>\n",
       "      <td>65.523246</td>\n",
       "      <td>8.777171</td>\n",
       "      <td>2.819214</td>\n",
       "      <td>10.463847</td>\n",
       "      <td>1.602879</td>\n",
       "      <td>...</td>\n",
       "      <td>23.024963</td>\n",
       "      <td>-501.153409</td>\n",
       "      <td>20.054122</td>\n",
       "      <td>-500.314711</td>\n",
       "      <td>17.979515</td>\n",
       "      <td>-499.272871</td>\n",
       "      <td>12.992404</td>\n",
       "      <td>-499.976268</td>\n",
       "      <td>20.013986</td>\n",
       "      <td>-500.625471</td>\n",
       "    </tr>\n",
       "    <tr>\n",
       "      <td>14148</td>\n",
       "      <td>2018-08-18 10:59:59</td>\n",
       "      <td>3.598375</td>\n",
       "      <td>11.737832</td>\n",
       "      <td>6.717509</td>\n",
       "      <td>46.299438</td>\n",
       "      <td>70.281454</td>\n",
       "      <td>8.406690</td>\n",
       "      <td>2.517518</td>\n",
       "      <td>10.652193</td>\n",
       "      <td>1.389434</td>\n",
       "      <td>...</td>\n",
       "      <td>23.018622</td>\n",
       "      <td>-500.492702</td>\n",
       "      <td>20.020205</td>\n",
       "      <td>-500.220296</td>\n",
       "      <td>17.963512</td>\n",
       "      <td>-499.939490</td>\n",
       "      <td>12.990306</td>\n",
       "      <td>-500.080993</td>\n",
       "      <td>19.990336</td>\n",
       "      <td>-499.191575</td>\n",
       "    </tr>\n",
       "  </tbody>\n",
       "</table>\n",
       "<p>14149 rows × 87 columns</p>\n",
       "</div>"
      ],
      "text/plain": [
       "                      date  final.output.concentrate_ag  \\\n",
       "0      2016-01-15 00:00:00                     6.055403   \n",
       "1      2016-01-15 01:00:00                     6.029369   \n",
       "2      2016-01-15 02:00:00                     6.055926   \n",
       "3      2016-01-15 03:00:00                     6.047977   \n",
       "4      2016-01-15 04:00:00                     6.148599   \n",
       "...                    ...                          ...   \n",
       "14144  2018-08-18 06:59:59                     3.224920   \n",
       "14145  2018-08-18 07:59:59                     3.195978   \n",
       "14146  2018-08-18 08:59:59                     3.109998   \n",
       "14147  2018-08-18 09:59:59                     3.367241   \n",
       "14148  2018-08-18 10:59:59                     3.598375   \n",
       "\n",
       "       final.output.concentrate_pb  final.output.concentrate_sol  \\\n",
       "0                         9.889648                      5.507324   \n",
       "1                         9.968944                      5.257781   \n",
       "2                        10.213995                      5.383759   \n",
       "3                         9.977019                      4.858634   \n",
       "4                        10.142511                      4.939416   \n",
       "...                            ...                           ...   \n",
       "14144                    11.356233                      6.803482   \n",
       "14145                    11.349355                      6.862249   \n",
       "14146                    11.434366                      6.886013   \n",
       "14147                    11.625587                      6.799433   \n",
       "14148                    11.737832                      6.717509   \n",
       "\n",
       "       final.output.concentrate_au  final.output.recovery  \\\n",
       "0                        42.192020              70.541216   \n",
       "1                        42.701629              69.266198   \n",
       "2                        42.657501              68.116445   \n",
       "3                        42.689819              68.347543   \n",
       "4                        42.774141              66.927016   \n",
       "...                            ...                    ...   \n",
       "14144                    46.713954              73.755150   \n",
       "14145                    46.866780              69.049291   \n",
       "14146                    46.795691              67.002189   \n",
       "14147                    46.408188              65.523246   \n",
       "14148                    46.299438              70.281454   \n",
       "\n",
       "       final.output.tail_ag  final.output.tail_pb  final.output.tail_sol  \\\n",
       "0                 10.411962              0.895447              16.904297   \n",
       "1                 10.462676              0.927452              16.634514   \n",
       "2                 10.507046              0.953716              16.208849   \n",
       "3                 10.422762              0.883763              16.532835   \n",
       "4                 10.360302              0.792826              16.525686   \n",
       "...                     ...                   ...                    ...   \n",
       "14144              8.769645              3.141541              10.403181   \n",
       "14145              8.897321              3.130493              10.549470   \n",
       "14146              8.529606              2.911418              11.115147   \n",
       "14147              8.777171              2.819214              10.463847   \n",
       "14148              8.406690              2.517518              10.652193   \n",
       "\n",
       "       final.output.tail_au  ...  secondary_cleaner.state.floatbank4_a_air  \\\n",
       "0                  2.143149  ...                                 14.016835   \n",
       "1                  2.224930  ...                                 13.992281   \n",
       "2                  2.257889  ...                                 14.015015   \n",
       "3                  2.146849  ...                                 14.036510   \n",
       "4                  2.055292  ...                                 14.027298   \n",
       "...                     ...  ...                                       ...   \n",
       "14144              1.529220  ...                                 23.031497   \n",
       "14145              1.612542  ...                                 22.960095   \n",
       "14146              1.596616  ...                                 23.015718   \n",
       "14147              1.602879  ...                                 23.024963   \n",
       "14148              1.389434  ...                                 23.018622   \n",
       "\n",
       "       secondary_cleaner.state.floatbank4_a_level  \\\n",
       "0                                     -502.488007   \n",
       "1                                     -505.503262   \n",
       "2                                     -502.520901   \n",
       "3                                     -500.857308   \n",
       "4                                     -499.838632   \n",
       "...                                           ...   \n",
       "14144                                 -501.167942   \n",
       "14145                                 -501.612783   \n",
       "14146                                 -501.711599   \n",
       "14147                                 -501.153409   \n",
       "14148                                 -500.492702   \n",
       "\n",
       "       secondary_cleaner.state.floatbank4_b_air  \\\n",
       "0                                     12.099931   \n",
       "1                                     11.950531   \n",
       "2                                     11.912783   \n",
       "3                                     11.999550   \n",
       "4                                     11.953070   \n",
       "...                                         ...   \n",
       "14144                                 20.007571   \n",
       "14145                                 20.035660   \n",
       "14146                                 19.951231   \n",
       "14147                                 20.054122   \n",
       "14148                                 20.020205   \n",
       "\n",
       "       secondary_cleaner.state.floatbank4_b_level  \\\n",
       "0                                     -504.715942   \n",
       "1                                     -501.331529   \n",
       "2                                     -501.133383   \n",
       "3                                     -501.193686   \n",
       "4                                     -501.053894   \n",
       "...                                           ...   \n",
       "14144                                 -499.740028   \n",
       "14145                                 -500.251357   \n",
       "14146                                 -499.857027   \n",
       "14147                                 -500.314711   \n",
       "14148                                 -500.220296   \n",
       "\n",
       "       secondary_cleaner.state.floatbank5_a_air  \\\n",
       "0                                      9.925633   \n",
       "1                                     10.039245   \n",
       "2                                     10.070913   \n",
       "3                                      9.970366   \n",
       "4                                      9.925709   \n",
       "...                                         ...   \n",
       "14144                                 18.006038   \n",
       "14145                                 17.998535   \n",
       "14146                                 18.019543   \n",
       "14147                                 17.979515   \n",
       "14148                                 17.963512   \n",
       "\n",
       "       secondary_cleaner.state.floatbank5_a_level  \\\n",
       "0                                     -498.310211   \n",
       "1                                     -500.169983   \n",
       "2                                     -500.129135   \n",
       "3                                     -499.201640   \n",
       "4                                     -501.686727   \n",
       "...                                           ...   \n",
       "14144                                 -499.834374   \n",
       "14145                                 -500.395178   \n",
       "14146                                 -500.451156   \n",
       "14147                                 -499.272871   \n",
       "14148                                 -499.939490   \n",
       "\n",
       "       secondary_cleaner.state.floatbank5_b_air  \\\n",
       "0                                      8.079666   \n",
       "1                                      7.984757   \n",
       "2                                      8.013877   \n",
       "3                                      7.977324   \n",
       "4                                      7.894242   \n",
       "...                                         ...   \n",
       "14144                                 13.001114   \n",
       "14145                                 12.954048   \n",
       "14146                                 13.023431   \n",
       "14147                                 12.992404   \n",
       "14148                                 12.990306   \n",
       "\n",
       "       secondary_cleaner.state.floatbank5_b_level  \\\n",
       "0                                     -500.470978   \n",
       "1                                     -500.582168   \n",
       "2                                     -500.517572   \n",
       "3                                     -500.255908   \n",
       "4                                     -500.356035   \n",
       "...                                           ...   \n",
       "14144                                 -500.155694   \n",
       "14145                                 -499.895163   \n",
       "14146                                 -499.914391   \n",
       "14147                                 -499.976268   \n",
       "14148                                 -500.080993   \n",
       "\n",
       "       secondary_cleaner.state.floatbank6_a_air  \\\n",
       "0                                     14.151341   \n",
       "1                                     13.998353   \n",
       "2                                     14.028663   \n",
       "3                                     14.005551   \n",
       "4                                     13.996647   \n",
       "...                                         ...   \n",
       "14144                                 20.007840   \n",
       "14145                                 19.968498   \n",
       "14146                                 19.990885   \n",
       "14147                                 20.013986   \n",
       "14148                                 19.990336   \n",
       "\n",
       "       secondary_cleaner.state.floatbank6_a_level  \n",
       "0                                     -605.841980  \n",
       "1                                     -599.787184  \n",
       "2                                     -601.427363  \n",
       "3                                     -599.996129  \n",
       "4                                     -601.496691  \n",
       "...                                           ...  \n",
       "14144                                 -501.296428  \n",
       "14145                                 -501.041608  \n",
       "14146                                 -501.518452  \n",
       "14147                                 -500.625471  \n",
       "14148                                 -499.191575  \n",
       "\n",
       "[14149 rows x 87 columns]"
      ]
     },
     "metadata": {},
     "output_type": "display_data"
    }
   ],
   "source": [
    "display(data_train)"
   ]
  },
  {
   "cell_type": "code",
   "execution_count": 118,
   "id": "1a1e7cbe",
   "metadata": {
    "scrolled": true
   },
   "outputs": [
    {
     "data": {
      "text/html": [
       "<div>\n",
       "<style scoped>\n",
       "    .dataframe tbody tr th:only-of-type {\n",
       "        vertical-align: middle;\n",
       "    }\n",
       "\n",
       "    .dataframe tbody tr th {\n",
       "        vertical-align: top;\n",
       "    }\n",
       "\n",
       "    .dataframe thead th {\n",
       "        text-align: right;\n",
       "    }\n",
       "</style>\n",
       "<table border=\"1\" class=\"dataframe\">\n",
       "  <thead>\n",
       "    <tr style=\"text-align: right;\">\n",
       "      <th></th>\n",
       "      <th>date</th>\n",
       "      <th>primary_cleaner.input.sulfate</th>\n",
       "      <th>primary_cleaner.input.depressant</th>\n",
       "      <th>primary_cleaner.input.feed_size</th>\n",
       "      <th>primary_cleaner.input.xanthate</th>\n",
       "      <th>primary_cleaner.state.floatbank8_a_air</th>\n",
       "      <th>primary_cleaner.state.floatbank8_a_level</th>\n",
       "      <th>primary_cleaner.state.floatbank8_b_air</th>\n",
       "      <th>primary_cleaner.state.floatbank8_b_level</th>\n",
       "      <th>primary_cleaner.state.floatbank8_c_air</th>\n",
       "      <th>...</th>\n",
       "      <th>secondary_cleaner.state.floatbank4_a_air</th>\n",
       "      <th>secondary_cleaner.state.floatbank4_a_level</th>\n",
       "      <th>secondary_cleaner.state.floatbank4_b_air</th>\n",
       "      <th>secondary_cleaner.state.floatbank4_b_level</th>\n",
       "      <th>secondary_cleaner.state.floatbank5_a_air</th>\n",
       "      <th>secondary_cleaner.state.floatbank5_a_level</th>\n",
       "      <th>secondary_cleaner.state.floatbank5_b_air</th>\n",
       "      <th>secondary_cleaner.state.floatbank5_b_level</th>\n",
       "      <th>secondary_cleaner.state.floatbank6_a_air</th>\n",
       "      <th>secondary_cleaner.state.floatbank6_a_level</th>\n",
       "    </tr>\n",
       "  </thead>\n",
       "  <tbody>\n",
       "    <tr>\n",
       "      <td>0</td>\n",
       "      <td>2016-09-01 00:59:59</td>\n",
       "      <td>210.800909</td>\n",
       "      <td>14.993118</td>\n",
       "      <td>8.080000</td>\n",
       "      <td>1.005021</td>\n",
       "      <td>1398.981301</td>\n",
       "      <td>-500.225577</td>\n",
       "      <td>1399.144926</td>\n",
       "      <td>-499.919735</td>\n",
       "      <td>1400.102998</td>\n",
       "      <td>...</td>\n",
       "      <td>12.023554</td>\n",
       "      <td>-497.795834</td>\n",
       "      <td>8.016656</td>\n",
       "      <td>-501.289139</td>\n",
       "      <td>7.946562</td>\n",
       "      <td>-432.317850</td>\n",
       "      <td>4.872511</td>\n",
       "      <td>-500.037437</td>\n",
       "      <td>26.705889</td>\n",
       "      <td>-499.709414</td>\n",
       "    </tr>\n",
       "    <tr>\n",
       "      <td>1</td>\n",
       "      <td>2016-09-01 01:59:59</td>\n",
       "      <td>215.392455</td>\n",
       "      <td>14.987471</td>\n",
       "      <td>8.080000</td>\n",
       "      <td>0.990469</td>\n",
       "      <td>1398.777912</td>\n",
       "      <td>-500.057435</td>\n",
       "      <td>1398.055362</td>\n",
       "      <td>-499.778182</td>\n",
       "      <td>1396.151033</td>\n",
       "      <td>...</td>\n",
       "      <td>12.058140</td>\n",
       "      <td>-498.695773</td>\n",
       "      <td>8.130979</td>\n",
       "      <td>-499.634209</td>\n",
       "      <td>7.958270</td>\n",
       "      <td>-525.839648</td>\n",
       "      <td>4.878850</td>\n",
       "      <td>-500.162375</td>\n",
       "      <td>25.019940</td>\n",
       "      <td>-499.819438</td>\n",
       "    </tr>\n",
       "    <tr>\n",
       "      <td>2</td>\n",
       "      <td>2016-09-01 02:59:59</td>\n",
       "      <td>215.259946</td>\n",
       "      <td>12.884934</td>\n",
       "      <td>7.786667</td>\n",
       "      <td>0.996043</td>\n",
       "      <td>1398.493666</td>\n",
       "      <td>-500.868360</td>\n",
       "      <td>1398.860436</td>\n",
       "      <td>-499.764529</td>\n",
       "      <td>1398.075709</td>\n",
       "      <td>...</td>\n",
       "      <td>11.962366</td>\n",
       "      <td>-498.767484</td>\n",
       "      <td>8.096893</td>\n",
       "      <td>-500.827423</td>\n",
       "      <td>8.071056</td>\n",
       "      <td>-500.801673</td>\n",
       "      <td>4.905125</td>\n",
       "      <td>-499.828510</td>\n",
       "      <td>24.994862</td>\n",
       "      <td>-500.622559</td>\n",
       "    </tr>\n",
       "    <tr>\n",
       "      <td>3</td>\n",
       "      <td>2016-09-01 03:59:59</td>\n",
       "      <td>215.336236</td>\n",
       "      <td>12.006805</td>\n",
       "      <td>7.640000</td>\n",
       "      <td>0.863514</td>\n",
       "      <td>1399.618111</td>\n",
       "      <td>-498.863574</td>\n",
       "      <td>1397.440120</td>\n",
       "      <td>-499.211024</td>\n",
       "      <td>1400.129303</td>\n",
       "      <td>...</td>\n",
       "      <td>12.033091</td>\n",
       "      <td>-498.350935</td>\n",
       "      <td>8.074946</td>\n",
       "      <td>-499.474407</td>\n",
       "      <td>7.897085</td>\n",
       "      <td>-500.868509</td>\n",
       "      <td>4.931400</td>\n",
       "      <td>-499.963623</td>\n",
       "      <td>24.948919</td>\n",
       "      <td>-498.709987</td>\n",
       "    </tr>\n",
       "    <tr>\n",
       "      <td>4</td>\n",
       "      <td>2016-09-01 04:59:59</td>\n",
       "      <td>199.099327</td>\n",
       "      <td>10.682530</td>\n",
       "      <td>7.530000</td>\n",
       "      <td>0.805575</td>\n",
       "      <td>1401.268123</td>\n",
       "      <td>-500.808305</td>\n",
       "      <td>1398.128818</td>\n",
       "      <td>-499.504543</td>\n",
       "      <td>1402.172226</td>\n",
       "      <td>...</td>\n",
       "      <td>12.025367</td>\n",
       "      <td>-500.786497</td>\n",
       "      <td>8.054678</td>\n",
       "      <td>-500.397500</td>\n",
       "      <td>8.107890</td>\n",
       "      <td>-509.526725</td>\n",
       "      <td>4.957674</td>\n",
       "      <td>-500.360026</td>\n",
       "      <td>25.003331</td>\n",
       "      <td>-500.856333</td>\n",
       "    </tr>\n",
       "    <tr>\n",
       "      <td>...</td>\n",
       "      <td>...</td>\n",
       "      <td>...</td>\n",
       "      <td>...</td>\n",
       "      <td>...</td>\n",
       "      <td>...</td>\n",
       "      <td>...</td>\n",
       "      <td>...</td>\n",
       "      <td>...</td>\n",
       "      <td>...</td>\n",
       "      <td>...</td>\n",
       "      <td>...</td>\n",
       "      <td>...</td>\n",
       "      <td>...</td>\n",
       "      <td>...</td>\n",
       "      <td>...</td>\n",
       "      <td>...</td>\n",
       "      <td>...</td>\n",
       "      <td>...</td>\n",
       "      <td>...</td>\n",
       "      <td>...</td>\n",
       "      <td>...</td>\n",
       "    </tr>\n",
       "    <tr>\n",
       "      <td>5285</td>\n",
       "      <td>2017-12-31 19:59:59</td>\n",
       "      <td>173.957757</td>\n",
       "      <td>15.963399</td>\n",
       "      <td>8.070000</td>\n",
       "      <td>0.896701</td>\n",
       "      <td>1401.930554</td>\n",
       "      <td>-499.728848</td>\n",
       "      <td>1401.441445</td>\n",
       "      <td>-499.193423</td>\n",
       "      <td>1399.810313</td>\n",
       "      <td>...</td>\n",
       "      <td>13.995957</td>\n",
       "      <td>-500.157454</td>\n",
       "      <td>12.069155</td>\n",
       "      <td>-499.673279</td>\n",
       "      <td>7.977259</td>\n",
       "      <td>-499.516126</td>\n",
       "      <td>5.933319</td>\n",
       "      <td>-499.965973</td>\n",
       "      <td>8.987171</td>\n",
       "      <td>-499.755909</td>\n",
       "    </tr>\n",
       "    <tr>\n",
       "      <td>5286</td>\n",
       "      <td>2017-12-31 20:59:59</td>\n",
       "      <td>172.910270</td>\n",
       "      <td>16.002605</td>\n",
       "      <td>8.070000</td>\n",
       "      <td>0.896519</td>\n",
       "      <td>1447.075722</td>\n",
       "      <td>-494.716823</td>\n",
       "      <td>1448.851892</td>\n",
       "      <td>-465.963026</td>\n",
       "      <td>1443.890424</td>\n",
       "      <td>...</td>\n",
       "      <td>16.749781</td>\n",
       "      <td>-496.031539</td>\n",
       "      <td>13.365371</td>\n",
       "      <td>-499.122723</td>\n",
       "      <td>9.288553</td>\n",
       "      <td>-496.892967</td>\n",
       "      <td>7.372897</td>\n",
       "      <td>-499.942956</td>\n",
       "      <td>8.986832</td>\n",
       "      <td>-499.903761</td>\n",
       "    </tr>\n",
       "    <tr>\n",
       "      <td>5287</td>\n",
       "      <td>2017-12-31 21:59:59</td>\n",
       "      <td>171.135718</td>\n",
       "      <td>15.993669</td>\n",
       "      <td>8.070000</td>\n",
       "      <td>1.165996</td>\n",
       "      <td>1498.836182</td>\n",
       "      <td>-501.770403</td>\n",
       "      <td>1499.572353</td>\n",
       "      <td>-495.516347</td>\n",
       "      <td>1502.749213</td>\n",
       "      <td>...</td>\n",
       "      <td>19.994130</td>\n",
       "      <td>-499.791312</td>\n",
       "      <td>15.101425</td>\n",
       "      <td>-499.936252</td>\n",
       "      <td>10.989181</td>\n",
       "      <td>-498.347898</td>\n",
       "      <td>9.020944</td>\n",
       "      <td>-500.040448</td>\n",
       "      <td>8.982038</td>\n",
       "      <td>-497.789882</td>\n",
       "    </tr>\n",
       "    <tr>\n",
       "      <td>5288</td>\n",
       "      <td>2017-12-31 22:59:59</td>\n",
       "      <td>179.697158</td>\n",
       "      <td>15.438979</td>\n",
       "      <td>8.070000</td>\n",
       "      <td>1.501068</td>\n",
       "      <td>1498.466243</td>\n",
       "      <td>-500.483984</td>\n",
       "      <td>1497.986986</td>\n",
       "      <td>-519.200340</td>\n",
       "      <td>1496.569047</td>\n",
       "      <td>...</td>\n",
       "      <td>19.958760</td>\n",
       "      <td>-499.958750</td>\n",
       "      <td>15.026853</td>\n",
       "      <td>-499.723143</td>\n",
       "      <td>11.011607</td>\n",
       "      <td>-499.985046</td>\n",
       "      <td>9.009783</td>\n",
       "      <td>-499.937902</td>\n",
       "      <td>9.012660</td>\n",
       "      <td>-500.154284</td>\n",
       "    </tr>\n",
       "    <tr>\n",
       "      <td>5289</td>\n",
       "      <td>2017-12-31 23:59:59</td>\n",
       "      <td>181.556856</td>\n",
       "      <td>14.995850</td>\n",
       "      <td>8.070000</td>\n",
       "      <td>1.623454</td>\n",
       "      <td>1498.096303</td>\n",
       "      <td>-499.796922</td>\n",
       "      <td>1501.743791</td>\n",
       "      <td>-505.146931</td>\n",
       "      <td>1499.535978</td>\n",
       "      <td>...</td>\n",
       "      <td>20.034715</td>\n",
       "      <td>-500.728588</td>\n",
       "      <td>14.914199</td>\n",
       "      <td>-499.948518</td>\n",
       "      <td>10.986607</td>\n",
       "      <td>-500.658027</td>\n",
       "      <td>8.989497</td>\n",
       "      <td>-500.337588</td>\n",
       "      <td>8.988632</td>\n",
       "      <td>-500.764937</td>\n",
       "    </tr>\n",
       "  </tbody>\n",
       "</table>\n",
       "<p>5290 rows × 53 columns</p>\n",
       "</div>"
      ],
      "text/plain": [
       "                     date  primary_cleaner.input.sulfate  \\\n",
       "0     2016-09-01 00:59:59                     210.800909   \n",
       "1     2016-09-01 01:59:59                     215.392455   \n",
       "2     2016-09-01 02:59:59                     215.259946   \n",
       "3     2016-09-01 03:59:59                     215.336236   \n",
       "4     2016-09-01 04:59:59                     199.099327   \n",
       "...                   ...                            ...   \n",
       "5285  2017-12-31 19:59:59                     173.957757   \n",
       "5286  2017-12-31 20:59:59                     172.910270   \n",
       "5287  2017-12-31 21:59:59                     171.135718   \n",
       "5288  2017-12-31 22:59:59                     179.697158   \n",
       "5289  2017-12-31 23:59:59                     181.556856   \n",
       "\n",
       "      primary_cleaner.input.depressant  primary_cleaner.input.feed_size  \\\n",
       "0                            14.993118                         8.080000   \n",
       "1                            14.987471                         8.080000   \n",
       "2                            12.884934                         7.786667   \n",
       "3                            12.006805                         7.640000   \n",
       "4                            10.682530                         7.530000   \n",
       "...                                ...                              ...   \n",
       "5285                         15.963399                         8.070000   \n",
       "5286                         16.002605                         8.070000   \n",
       "5287                         15.993669                         8.070000   \n",
       "5288                         15.438979                         8.070000   \n",
       "5289                         14.995850                         8.070000   \n",
       "\n",
       "      primary_cleaner.input.xanthate  primary_cleaner.state.floatbank8_a_air  \\\n",
       "0                           1.005021                             1398.981301   \n",
       "1                           0.990469                             1398.777912   \n",
       "2                           0.996043                             1398.493666   \n",
       "3                           0.863514                             1399.618111   \n",
       "4                           0.805575                             1401.268123   \n",
       "...                              ...                                     ...   \n",
       "5285                        0.896701                             1401.930554   \n",
       "5286                        0.896519                             1447.075722   \n",
       "5287                        1.165996                             1498.836182   \n",
       "5288                        1.501068                             1498.466243   \n",
       "5289                        1.623454                             1498.096303   \n",
       "\n",
       "      primary_cleaner.state.floatbank8_a_level  \\\n",
       "0                                  -500.225577   \n",
       "1                                  -500.057435   \n",
       "2                                  -500.868360   \n",
       "3                                  -498.863574   \n",
       "4                                  -500.808305   \n",
       "...                                        ...   \n",
       "5285                               -499.728848   \n",
       "5286                               -494.716823   \n",
       "5287                               -501.770403   \n",
       "5288                               -500.483984   \n",
       "5289                               -499.796922   \n",
       "\n",
       "      primary_cleaner.state.floatbank8_b_air  \\\n",
       "0                                1399.144926   \n",
       "1                                1398.055362   \n",
       "2                                1398.860436   \n",
       "3                                1397.440120   \n",
       "4                                1398.128818   \n",
       "...                                      ...   \n",
       "5285                             1401.441445   \n",
       "5286                             1448.851892   \n",
       "5287                             1499.572353   \n",
       "5288                             1497.986986   \n",
       "5289                             1501.743791   \n",
       "\n",
       "      primary_cleaner.state.floatbank8_b_level  \\\n",
       "0                                  -499.919735   \n",
       "1                                  -499.778182   \n",
       "2                                  -499.764529   \n",
       "3                                  -499.211024   \n",
       "4                                  -499.504543   \n",
       "...                                        ...   \n",
       "5285                               -499.193423   \n",
       "5286                               -465.963026   \n",
       "5287                               -495.516347   \n",
       "5288                               -519.200340   \n",
       "5289                               -505.146931   \n",
       "\n",
       "      primary_cleaner.state.floatbank8_c_air  ...  \\\n",
       "0                                1400.102998  ...   \n",
       "1                                1396.151033  ...   \n",
       "2                                1398.075709  ...   \n",
       "3                                1400.129303  ...   \n",
       "4                                1402.172226  ...   \n",
       "...                                      ...  ...   \n",
       "5285                             1399.810313  ...   \n",
       "5286                             1443.890424  ...   \n",
       "5287                             1502.749213  ...   \n",
       "5288                             1496.569047  ...   \n",
       "5289                             1499.535978  ...   \n",
       "\n",
       "      secondary_cleaner.state.floatbank4_a_air  \\\n",
       "0                                    12.023554   \n",
       "1                                    12.058140   \n",
       "2                                    11.962366   \n",
       "3                                    12.033091   \n",
       "4                                    12.025367   \n",
       "...                                        ...   \n",
       "5285                                 13.995957   \n",
       "5286                                 16.749781   \n",
       "5287                                 19.994130   \n",
       "5288                                 19.958760   \n",
       "5289                                 20.034715   \n",
       "\n",
       "      secondary_cleaner.state.floatbank4_a_level  \\\n",
       "0                                    -497.795834   \n",
       "1                                    -498.695773   \n",
       "2                                    -498.767484   \n",
       "3                                    -498.350935   \n",
       "4                                    -500.786497   \n",
       "...                                          ...   \n",
       "5285                                 -500.157454   \n",
       "5286                                 -496.031539   \n",
       "5287                                 -499.791312   \n",
       "5288                                 -499.958750   \n",
       "5289                                 -500.728588   \n",
       "\n",
       "      secondary_cleaner.state.floatbank4_b_air  \\\n",
       "0                                     8.016656   \n",
       "1                                     8.130979   \n",
       "2                                     8.096893   \n",
       "3                                     8.074946   \n",
       "4                                     8.054678   \n",
       "...                                        ...   \n",
       "5285                                 12.069155   \n",
       "5286                                 13.365371   \n",
       "5287                                 15.101425   \n",
       "5288                                 15.026853   \n",
       "5289                                 14.914199   \n",
       "\n",
       "      secondary_cleaner.state.floatbank4_b_level  \\\n",
       "0                                    -501.289139   \n",
       "1                                    -499.634209   \n",
       "2                                    -500.827423   \n",
       "3                                    -499.474407   \n",
       "4                                    -500.397500   \n",
       "...                                          ...   \n",
       "5285                                 -499.673279   \n",
       "5286                                 -499.122723   \n",
       "5287                                 -499.936252   \n",
       "5288                                 -499.723143   \n",
       "5289                                 -499.948518   \n",
       "\n",
       "      secondary_cleaner.state.floatbank5_a_air  \\\n",
       "0                                     7.946562   \n",
       "1                                     7.958270   \n",
       "2                                     8.071056   \n",
       "3                                     7.897085   \n",
       "4                                     8.107890   \n",
       "...                                        ...   \n",
       "5285                                  7.977259   \n",
       "5286                                  9.288553   \n",
       "5287                                 10.989181   \n",
       "5288                                 11.011607   \n",
       "5289                                 10.986607   \n",
       "\n",
       "      secondary_cleaner.state.floatbank5_a_level  \\\n",
       "0                                    -432.317850   \n",
       "1                                    -525.839648   \n",
       "2                                    -500.801673   \n",
       "3                                    -500.868509   \n",
       "4                                    -509.526725   \n",
       "...                                          ...   \n",
       "5285                                 -499.516126   \n",
       "5286                                 -496.892967   \n",
       "5287                                 -498.347898   \n",
       "5288                                 -499.985046   \n",
       "5289                                 -500.658027   \n",
       "\n",
       "      secondary_cleaner.state.floatbank5_b_air  \\\n",
       "0                                     4.872511   \n",
       "1                                     4.878850   \n",
       "2                                     4.905125   \n",
       "3                                     4.931400   \n",
       "4                                     4.957674   \n",
       "...                                        ...   \n",
       "5285                                  5.933319   \n",
       "5286                                  7.372897   \n",
       "5287                                  9.020944   \n",
       "5288                                  9.009783   \n",
       "5289                                  8.989497   \n",
       "\n",
       "      secondary_cleaner.state.floatbank5_b_level  \\\n",
       "0                                    -500.037437   \n",
       "1                                    -500.162375   \n",
       "2                                    -499.828510   \n",
       "3                                    -499.963623   \n",
       "4                                    -500.360026   \n",
       "...                                          ...   \n",
       "5285                                 -499.965973   \n",
       "5286                                 -499.942956   \n",
       "5287                                 -500.040448   \n",
       "5288                                 -499.937902   \n",
       "5289                                 -500.337588   \n",
       "\n",
       "      secondary_cleaner.state.floatbank6_a_air  \\\n",
       "0                                    26.705889   \n",
       "1                                    25.019940   \n",
       "2                                    24.994862   \n",
       "3                                    24.948919   \n",
       "4                                    25.003331   \n",
       "...                                        ...   \n",
       "5285                                  8.987171   \n",
       "5286                                  8.986832   \n",
       "5287                                  8.982038   \n",
       "5288                                  9.012660   \n",
       "5289                                  8.988632   \n",
       "\n",
       "      secondary_cleaner.state.floatbank6_a_level  \n",
       "0                                    -499.709414  \n",
       "1                                    -499.819438  \n",
       "2                                    -500.622559  \n",
       "3                                    -498.709987  \n",
       "4                                    -500.856333  \n",
       "...                                          ...  \n",
       "5285                                 -499.755909  \n",
       "5286                                 -499.903761  \n",
       "5287                                 -497.789882  \n",
       "5288                                 -500.154284  \n",
       "5289                                 -500.764937  \n",
       "\n",
       "[5290 rows x 53 columns]"
      ]
     },
     "metadata": {},
     "output_type": "display_data"
    }
   ],
   "source": [
    "display(data_test)"
   ]
  },
  {
   "cell_type": "code",
   "execution_count": 119,
   "id": "588b2b23",
   "metadata": {
    "scrolled": true
   },
   "outputs": [
    {
     "data": {
      "text/html": [
       "<div>\n",
       "<style scoped>\n",
       "    .dataframe tbody tr th:only-of-type {\n",
       "        vertical-align: middle;\n",
       "    }\n",
       "\n",
       "    .dataframe tbody tr th {\n",
       "        vertical-align: top;\n",
       "    }\n",
       "\n",
       "    .dataframe thead th {\n",
       "        text-align: right;\n",
       "    }\n",
       "</style>\n",
       "<table border=\"1\" class=\"dataframe\">\n",
       "  <thead>\n",
       "    <tr style=\"text-align: right;\">\n",
       "      <th></th>\n",
       "      <th>date</th>\n",
       "      <th>final.output.concentrate_ag</th>\n",
       "      <th>final.output.concentrate_pb</th>\n",
       "      <th>final.output.concentrate_sol</th>\n",
       "      <th>final.output.concentrate_au</th>\n",
       "      <th>final.output.recovery</th>\n",
       "      <th>final.output.tail_ag</th>\n",
       "      <th>final.output.tail_pb</th>\n",
       "      <th>final.output.tail_sol</th>\n",
       "      <th>final.output.tail_au</th>\n",
       "      <th>...</th>\n",
       "      <th>secondary_cleaner.state.floatbank4_a_air</th>\n",
       "      <th>secondary_cleaner.state.floatbank4_a_level</th>\n",
       "      <th>secondary_cleaner.state.floatbank4_b_air</th>\n",
       "      <th>secondary_cleaner.state.floatbank4_b_level</th>\n",
       "      <th>secondary_cleaner.state.floatbank5_a_air</th>\n",
       "      <th>secondary_cleaner.state.floatbank5_a_level</th>\n",
       "      <th>secondary_cleaner.state.floatbank5_b_air</th>\n",
       "      <th>secondary_cleaner.state.floatbank5_b_level</th>\n",
       "      <th>secondary_cleaner.state.floatbank6_a_air</th>\n",
       "      <th>secondary_cleaner.state.floatbank6_a_level</th>\n",
       "    </tr>\n",
       "  </thead>\n",
       "  <tbody>\n",
       "    <tr>\n",
       "      <td>0</td>\n",
       "      <td>2016-01-15 00:00:00</td>\n",
       "      <td>6.055403</td>\n",
       "      <td>9.889648</td>\n",
       "      <td>5.507324</td>\n",
       "      <td>42.192020</td>\n",
       "      <td>70.541216</td>\n",
       "      <td>10.411962</td>\n",
       "      <td>0.895447</td>\n",
       "      <td>16.904297</td>\n",
       "      <td>2.143149</td>\n",
       "      <td>...</td>\n",
       "      <td>14.016835</td>\n",
       "      <td>-502.488007</td>\n",
       "      <td>12.099931</td>\n",
       "      <td>-504.715942</td>\n",
       "      <td>9.925633</td>\n",
       "      <td>-498.310211</td>\n",
       "      <td>8.079666</td>\n",
       "      <td>-500.470978</td>\n",
       "      <td>14.151341</td>\n",
       "      <td>-605.841980</td>\n",
       "    </tr>\n",
       "    <tr>\n",
       "      <td>1</td>\n",
       "      <td>2016-01-15 01:00:00</td>\n",
       "      <td>6.029369</td>\n",
       "      <td>9.968944</td>\n",
       "      <td>5.257781</td>\n",
       "      <td>42.701629</td>\n",
       "      <td>69.266198</td>\n",
       "      <td>10.462676</td>\n",
       "      <td>0.927452</td>\n",
       "      <td>16.634514</td>\n",
       "      <td>2.224930</td>\n",
       "      <td>...</td>\n",
       "      <td>13.992281</td>\n",
       "      <td>-505.503262</td>\n",
       "      <td>11.950531</td>\n",
       "      <td>-501.331529</td>\n",
       "      <td>10.039245</td>\n",
       "      <td>-500.169983</td>\n",
       "      <td>7.984757</td>\n",
       "      <td>-500.582168</td>\n",
       "      <td>13.998353</td>\n",
       "      <td>-599.787184</td>\n",
       "    </tr>\n",
       "    <tr>\n",
       "      <td>2</td>\n",
       "      <td>2016-01-15 02:00:00</td>\n",
       "      <td>6.055926</td>\n",
       "      <td>10.213995</td>\n",
       "      <td>5.383759</td>\n",
       "      <td>42.657501</td>\n",
       "      <td>68.116445</td>\n",
       "      <td>10.507046</td>\n",
       "      <td>0.953716</td>\n",
       "      <td>16.208849</td>\n",
       "      <td>2.257889</td>\n",
       "      <td>...</td>\n",
       "      <td>14.015015</td>\n",
       "      <td>-502.520901</td>\n",
       "      <td>11.912783</td>\n",
       "      <td>-501.133383</td>\n",
       "      <td>10.070913</td>\n",
       "      <td>-500.129135</td>\n",
       "      <td>8.013877</td>\n",
       "      <td>-500.517572</td>\n",
       "      <td>14.028663</td>\n",
       "      <td>-601.427363</td>\n",
       "    </tr>\n",
       "    <tr>\n",
       "      <td>3</td>\n",
       "      <td>2016-01-15 03:00:00</td>\n",
       "      <td>6.047977</td>\n",
       "      <td>9.977019</td>\n",
       "      <td>4.858634</td>\n",
       "      <td>42.689819</td>\n",
       "      <td>68.347543</td>\n",
       "      <td>10.422762</td>\n",
       "      <td>0.883763</td>\n",
       "      <td>16.532835</td>\n",
       "      <td>2.146849</td>\n",
       "      <td>...</td>\n",
       "      <td>14.036510</td>\n",
       "      <td>-500.857308</td>\n",
       "      <td>11.999550</td>\n",
       "      <td>-501.193686</td>\n",
       "      <td>9.970366</td>\n",
       "      <td>-499.201640</td>\n",
       "      <td>7.977324</td>\n",
       "      <td>-500.255908</td>\n",
       "      <td>14.005551</td>\n",
       "      <td>-599.996129</td>\n",
       "    </tr>\n",
       "    <tr>\n",
       "      <td>4</td>\n",
       "      <td>2016-01-15 04:00:00</td>\n",
       "      <td>6.148599</td>\n",
       "      <td>10.142511</td>\n",
       "      <td>4.939416</td>\n",
       "      <td>42.774141</td>\n",
       "      <td>66.927016</td>\n",
       "      <td>10.360302</td>\n",
       "      <td>0.792826</td>\n",
       "      <td>16.525686</td>\n",
       "      <td>2.055292</td>\n",
       "      <td>...</td>\n",
       "      <td>14.027298</td>\n",
       "      <td>-499.838632</td>\n",
       "      <td>11.953070</td>\n",
       "      <td>-501.053894</td>\n",
       "      <td>9.925709</td>\n",
       "      <td>-501.686727</td>\n",
       "      <td>7.894242</td>\n",
       "      <td>-500.356035</td>\n",
       "      <td>13.996647</td>\n",
       "      <td>-601.496691</td>\n",
       "    </tr>\n",
       "    <tr>\n",
       "      <td>...</td>\n",
       "      <td>...</td>\n",
       "      <td>...</td>\n",
       "      <td>...</td>\n",
       "      <td>...</td>\n",
       "      <td>...</td>\n",
       "      <td>...</td>\n",
       "      <td>...</td>\n",
       "      <td>...</td>\n",
       "      <td>...</td>\n",
       "      <td>...</td>\n",
       "      <td>...</td>\n",
       "      <td>...</td>\n",
       "      <td>...</td>\n",
       "      <td>...</td>\n",
       "      <td>...</td>\n",
       "      <td>...</td>\n",
       "      <td>...</td>\n",
       "      <td>...</td>\n",
       "      <td>...</td>\n",
       "      <td>...</td>\n",
       "      <td>...</td>\n",
       "    </tr>\n",
       "    <tr>\n",
       "      <td>19434</td>\n",
       "      <td>2018-08-18 06:59:59</td>\n",
       "      <td>3.224920</td>\n",
       "      <td>11.356233</td>\n",
       "      <td>6.803482</td>\n",
       "      <td>46.713954</td>\n",
       "      <td>73.755150</td>\n",
       "      <td>8.769645</td>\n",
       "      <td>3.141541</td>\n",
       "      <td>10.403181</td>\n",
       "      <td>1.529220</td>\n",
       "      <td>...</td>\n",
       "      <td>23.031497</td>\n",
       "      <td>-501.167942</td>\n",
       "      <td>20.007571</td>\n",
       "      <td>-499.740028</td>\n",
       "      <td>18.006038</td>\n",
       "      <td>-499.834374</td>\n",
       "      <td>13.001114</td>\n",
       "      <td>-500.155694</td>\n",
       "      <td>20.007840</td>\n",
       "      <td>-501.296428</td>\n",
       "    </tr>\n",
       "    <tr>\n",
       "      <td>19435</td>\n",
       "      <td>2018-08-18 07:59:59</td>\n",
       "      <td>3.195978</td>\n",
       "      <td>11.349355</td>\n",
       "      <td>6.862249</td>\n",
       "      <td>46.866780</td>\n",
       "      <td>69.049291</td>\n",
       "      <td>8.897321</td>\n",
       "      <td>3.130493</td>\n",
       "      <td>10.549470</td>\n",
       "      <td>1.612542</td>\n",
       "      <td>...</td>\n",
       "      <td>22.960095</td>\n",
       "      <td>-501.612783</td>\n",
       "      <td>20.035660</td>\n",
       "      <td>-500.251357</td>\n",
       "      <td>17.998535</td>\n",
       "      <td>-500.395178</td>\n",
       "      <td>12.954048</td>\n",
       "      <td>-499.895163</td>\n",
       "      <td>19.968498</td>\n",
       "      <td>-501.041608</td>\n",
       "    </tr>\n",
       "    <tr>\n",
       "      <td>19436</td>\n",
       "      <td>2018-08-18 08:59:59</td>\n",
       "      <td>3.109998</td>\n",
       "      <td>11.434366</td>\n",
       "      <td>6.886013</td>\n",
       "      <td>46.795691</td>\n",
       "      <td>67.002189</td>\n",
       "      <td>8.529606</td>\n",
       "      <td>2.911418</td>\n",
       "      <td>11.115147</td>\n",
       "      <td>1.596616</td>\n",
       "      <td>...</td>\n",
       "      <td>23.015718</td>\n",
       "      <td>-501.711599</td>\n",
       "      <td>19.951231</td>\n",
       "      <td>-499.857027</td>\n",
       "      <td>18.019543</td>\n",
       "      <td>-500.451156</td>\n",
       "      <td>13.023431</td>\n",
       "      <td>-499.914391</td>\n",
       "      <td>19.990885</td>\n",
       "      <td>-501.518452</td>\n",
       "    </tr>\n",
       "    <tr>\n",
       "      <td>19437</td>\n",
       "      <td>2018-08-18 09:59:59</td>\n",
       "      <td>3.367241</td>\n",
       "      <td>11.625587</td>\n",
       "      <td>6.799433</td>\n",
       "      <td>46.408188</td>\n",
       "      <td>65.523246</td>\n",
       "      <td>8.777171</td>\n",
       "      <td>2.819214</td>\n",
       "      <td>10.463847</td>\n",
       "      <td>1.602879</td>\n",
       "      <td>...</td>\n",
       "      <td>23.024963</td>\n",
       "      <td>-501.153409</td>\n",
       "      <td>20.054122</td>\n",
       "      <td>-500.314711</td>\n",
       "      <td>17.979515</td>\n",
       "      <td>-499.272871</td>\n",
       "      <td>12.992404</td>\n",
       "      <td>-499.976268</td>\n",
       "      <td>20.013986</td>\n",
       "      <td>-500.625471</td>\n",
       "    </tr>\n",
       "    <tr>\n",
       "      <td>19438</td>\n",
       "      <td>2018-08-18 10:59:59</td>\n",
       "      <td>3.598375</td>\n",
       "      <td>11.737832</td>\n",
       "      <td>6.717509</td>\n",
       "      <td>46.299438</td>\n",
       "      <td>70.281454</td>\n",
       "      <td>8.406690</td>\n",
       "      <td>2.517518</td>\n",
       "      <td>10.652193</td>\n",
       "      <td>1.389434</td>\n",
       "      <td>...</td>\n",
       "      <td>23.018622</td>\n",
       "      <td>-500.492702</td>\n",
       "      <td>20.020205</td>\n",
       "      <td>-500.220296</td>\n",
       "      <td>17.963512</td>\n",
       "      <td>-499.939490</td>\n",
       "      <td>12.990306</td>\n",
       "      <td>-500.080993</td>\n",
       "      <td>19.990336</td>\n",
       "      <td>-499.191575</td>\n",
       "    </tr>\n",
       "  </tbody>\n",
       "</table>\n",
       "<p>19439 rows × 87 columns</p>\n",
       "</div>"
      ],
      "text/plain": [
       "                      date  final.output.concentrate_ag  \\\n",
       "0      2016-01-15 00:00:00                     6.055403   \n",
       "1      2016-01-15 01:00:00                     6.029369   \n",
       "2      2016-01-15 02:00:00                     6.055926   \n",
       "3      2016-01-15 03:00:00                     6.047977   \n",
       "4      2016-01-15 04:00:00                     6.148599   \n",
       "...                    ...                          ...   \n",
       "19434  2018-08-18 06:59:59                     3.224920   \n",
       "19435  2018-08-18 07:59:59                     3.195978   \n",
       "19436  2018-08-18 08:59:59                     3.109998   \n",
       "19437  2018-08-18 09:59:59                     3.367241   \n",
       "19438  2018-08-18 10:59:59                     3.598375   \n",
       "\n",
       "       final.output.concentrate_pb  final.output.concentrate_sol  \\\n",
       "0                         9.889648                      5.507324   \n",
       "1                         9.968944                      5.257781   \n",
       "2                        10.213995                      5.383759   \n",
       "3                         9.977019                      4.858634   \n",
       "4                        10.142511                      4.939416   \n",
       "...                            ...                           ...   \n",
       "19434                    11.356233                      6.803482   \n",
       "19435                    11.349355                      6.862249   \n",
       "19436                    11.434366                      6.886013   \n",
       "19437                    11.625587                      6.799433   \n",
       "19438                    11.737832                      6.717509   \n",
       "\n",
       "       final.output.concentrate_au  final.output.recovery  \\\n",
       "0                        42.192020              70.541216   \n",
       "1                        42.701629              69.266198   \n",
       "2                        42.657501              68.116445   \n",
       "3                        42.689819              68.347543   \n",
       "4                        42.774141              66.927016   \n",
       "...                            ...                    ...   \n",
       "19434                    46.713954              73.755150   \n",
       "19435                    46.866780              69.049291   \n",
       "19436                    46.795691              67.002189   \n",
       "19437                    46.408188              65.523246   \n",
       "19438                    46.299438              70.281454   \n",
       "\n",
       "       final.output.tail_ag  final.output.tail_pb  final.output.tail_sol  \\\n",
       "0                 10.411962              0.895447              16.904297   \n",
       "1                 10.462676              0.927452              16.634514   \n",
       "2                 10.507046              0.953716              16.208849   \n",
       "3                 10.422762              0.883763              16.532835   \n",
       "4                 10.360302              0.792826              16.525686   \n",
       "...                     ...                   ...                    ...   \n",
       "19434              8.769645              3.141541              10.403181   \n",
       "19435              8.897321              3.130493              10.549470   \n",
       "19436              8.529606              2.911418              11.115147   \n",
       "19437              8.777171              2.819214              10.463847   \n",
       "19438              8.406690              2.517518              10.652193   \n",
       "\n",
       "       final.output.tail_au  ...  secondary_cleaner.state.floatbank4_a_air  \\\n",
       "0                  2.143149  ...                                 14.016835   \n",
       "1                  2.224930  ...                                 13.992281   \n",
       "2                  2.257889  ...                                 14.015015   \n",
       "3                  2.146849  ...                                 14.036510   \n",
       "4                  2.055292  ...                                 14.027298   \n",
       "...                     ...  ...                                       ...   \n",
       "19434              1.529220  ...                                 23.031497   \n",
       "19435              1.612542  ...                                 22.960095   \n",
       "19436              1.596616  ...                                 23.015718   \n",
       "19437              1.602879  ...                                 23.024963   \n",
       "19438              1.389434  ...                                 23.018622   \n",
       "\n",
       "       secondary_cleaner.state.floatbank4_a_level  \\\n",
       "0                                     -502.488007   \n",
       "1                                     -505.503262   \n",
       "2                                     -502.520901   \n",
       "3                                     -500.857308   \n",
       "4                                     -499.838632   \n",
       "...                                           ...   \n",
       "19434                                 -501.167942   \n",
       "19435                                 -501.612783   \n",
       "19436                                 -501.711599   \n",
       "19437                                 -501.153409   \n",
       "19438                                 -500.492702   \n",
       "\n",
       "       secondary_cleaner.state.floatbank4_b_air  \\\n",
       "0                                     12.099931   \n",
       "1                                     11.950531   \n",
       "2                                     11.912783   \n",
       "3                                     11.999550   \n",
       "4                                     11.953070   \n",
       "...                                         ...   \n",
       "19434                                 20.007571   \n",
       "19435                                 20.035660   \n",
       "19436                                 19.951231   \n",
       "19437                                 20.054122   \n",
       "19438                                 20.020205   \n",
       "\n",
       "       secondary_cleaner.state.floatbank4_b_level  \\\n",
       "0                                     -504.715942   \n",
       "1                                     -501.331529   \n",
       "2                                     -501.133383   \n",
       "3                                     -501.193686   \n",
       "4                                     -501.053894   \n",
       "...                                           ...   \n",
       "19434                                 -499.740028   \n",
       "19435                                 -500.251357   \n",
       "19436                                 -499.857027   \n",
       "19437                                 -500.314711   \n",
       "19438                                 -500.220296   \n",
       "\n",
       "       secondary_cleaner.state.floatbank5_a_air  \\\n",
       "0                                      9.925633   \n",
       "1                                     10.039245   \n",
       "2                                     10.070913   \n",
       "3                                      9.970366   \n",
       "4                                      9.925709   \n",
       "...                                         ...   \n",
       "19434                                 18.006038   \n",
       "19435                                 17.998535   \n",
       "19436                                 18.019543   \n",
       "19437                                 17.979515   \n",
       "19438                                 17.963512   \n",
       "\n",
       "       secondary_cleaner.state.floatbank5_a_level  \\\n",
       "0                                     -498.310211   \n",
       "1                                     -500.169983   \n",
       "2                                     -500.129135   \n",
       "3                                     -499.201640   \n",
       "4                                     -501.686727   \n",
       "...                                           ...   \n",
       "19434                                 -499.834374   \n",
       "19435                                 -500.395178   \n",
       "19436                                 -500.451156   \n",
       "19437                                 -499.272871   \n",
       "19438                                 -499.939490   \n",
       "\n",
       "       secondary_cleaner.state.floatbank5_b_air  \\\n",
       "0                                      8.079666   \n",
       "1                                      7.984757   \n",
       "2                                      8.013877   \n",
       "3                                      7.977324   \n",
       "4                                      7.894242   \n",
       "...                                         ...   \n",
       "19434                                 13.001114   \n",
       "19435                                 12.954048   \n",
       "19436                                 13.023431   \n",
       "19437                                 12.992404   \n",
       "19438                                 12.990306   \n",
       "\n",
       "       secondary_cleaner.state.floatbank5_b_level  \\\n",
       "0                                     -500.470978   \n",
       "1                                     -500.582168   \n",
       "2                                     -500.517572   \n",
       "3                                     -500.255908   \n",
       "4                                     -500.356035   \n",
       "...                                           ...   \n",
       "19434                                 -500.155694   \n",
       "19435                                 -499.895163   \n",
       "19436                                 -499.914391   \n",
       "19437                                 -499.976268   \n",
       "19438                                 -500.080993   \n",
       "\n",
       "       secondary_cleaner.state.floatbank6_a_air  \\\n",
       "0                                     14.151341   \n",
       "1                                     13.998353   \n",
       "2                                     14.028663   \n",
       "3                                     14.005551   \n",
       "4                                     13.996647   \n",
       "...                                         ...   \n",
       "19434                                 20.007840   \n",
       "19435                                 19.968498   \n",
       "19436                                 19.990885   \n",
       "19437                                 20.013986   \n",
       "19438                                 19.990336   \n",
       "\n",
       "       secondary_cleaner.state.floatbank6_a_level  \n",
       "0                                     -605.841980  \n",
       "1                                     -599.787184  \n",
       "2                                     -601.427363  \n",
       "3                                     -599.996129  \n",
       "4                                     -601.496691  \n",
       "...                                           ...  \n",
       "19434                                 -501.296428  \n",
       "19435                                 -501.041608  \n",
       "19436                                 -501.518452  \n",
       "19437                                 -500.625471  \n",
       "19438                                 -499.191575  \n",
       "\n",
       "[19439 rows x 87 columns]"
      ]
     },
     "metadata": {},
     "output_type": "display_data"
    }
   ],
   "source": [
    "display(data_full)"
   ]
  },
  {
   "cell_type": "markdown",
   "id": "b63c5859",
   "metadata": {},
   "source": [
    "## 1.2. Проверка расчета эффективности"
   ]
  },
  {
   "cell_type": "code",
   "execution_count": 120,
   "id": "c0849747",
   "metadata": {
    "scrolled": true
   },
   "outputs": [
    {
     "name": "stdout",
     "output_type": "stream",
     "text": [
      "date\n",
      "final.output.concentrate_ag\n",
      "final.output.concentrate_pb\n",
      "final.output.concentrate_sol\n",
      "final.output.concentrate_au\n",
      "final.output.recovery\n",
      "final.output.tail_ag\n",
      "final.output.tail_pb\n",
      "final.output.tail_sol\n",
      "final.output.tail_au\n",
      "primary_cleaner.input.sulfate\n",
      "primary_cleaner.input.depressant\n",
      "primary_cleaner.input.feed_size\n",
      "primary_cleaner.input.xanthate\n",
      "primary_cleaner.output.concentrate_ag\n",
      "primary_cleaner.output.concentrate_pb\n",
      "primary_cleaner.output.concentrate_sol\n",
      "primary_cleaner.output.concentrate_au\n",
      "primary_cleaner.output.tail_ag\n",
      "primary_cleaner.output.tail_pb\n",
      "primary_cleaner.output.tail_sol\n",
      "primary_cleaner.output.tail_au\n",
      "primary_cleaner.state.floatbank8_a_air\n",
      "primary_cleaner.state.floatbank8_a_level\n",
      "primary_cleaner.state.floatbank8_b_air\n",
      "primary_cleaner.state.floatbank8_b_level\n",
      "primary_cleaner.state.floatbank8_c_air\n",
      "primary_cleaner.state.floatbank8_c_level\n",
      "primary_cleaner.state.floatbank8_d_air\n",
      "primary_cleaner.state.floatbank8_d_level\n",
      "rougher.calculation.sulfate_to_au_concentrate\n",
      "rougher.calculation.floatbank10_sulfate_to_au_feed\n",
      "rougher.calculation.floatbank11_sulfate_to_au_feed\n",
      "rougher.calculation.au_pb_ratio\n",
      "rougher.input.feed_ag\n",
      "rougher.input.feed_pb\n",
      "rougher.input.feed_rate\n",
      "rougher.input.feed_size\n",
      "rougher.input.feed_sol\n",
      "rougher.input.feed_au\n",
      "rougher.input.floatbank10_sulfate\n",
      "rougher.input.floatbank10_xanthate\n",
      "rougher.input.floatbank11_sulfate\n",
      "rougher.input.floatbank11_xanthate\n",
      "rougher.output.concentrate_ag\n",
      "rougher.output.concentrate_pb\n",
      "rougher.output.concentrate_sol\n",
      "rougher.output.concentrate_au\n",
      "rougher.output.recovery\n",
      "rougher.output.tail_ag\n",
      "rougher.output.tail_pb\n",
      "rougher.output.tail_sol\n",
      "rougher.output.tail_au\n",
      "rougher.state.floatbank10_a_air\n",
      "rougher.state.floatbank10_a_level\n",
      "rougher.state.floatbank10_b_air\n",
      "rougher.state.floatbank10_b_level\n",
      "rougher.state.floatbank10_c_air\n",
      "rougher.state.floatbank10_c_level\n",
      "rougher.state.floatbank10_d_air\n",
      "rougher.state.floatbank10_d_level\n",
      "rougher.state.floatbank10_e_air\n",
      "rougher.state.floatbank10_e_level\n",
      "rougher.state.floatbank10_f_air\n",
      "rougher.state.floatbank10_f_level\n",
      "secondary_cleaner.output.tail_ag\n",
      "secondary_cleaner.output.tail_pb\n",
      "secondary_cleaner.output.tail_sol\n",
      "secondary_cleaner.output.tail_au\n",
      "secondary_cleaner.state.floatbank2_a_air\n",
      "secondary_cleaner.state.floatbank2_a_level\n",
      "secondary_cleaner.state.floatbank2_b_air\n",
      "secondary_cleaner.state.floatbank2_b_level\n",
      "secondary_cleaner.state.floatbank3_a_air\n",
      "secondary_cleaner.state.floatbank3_a_level\n",
      "secondary_cleaner.state.floatbank3_b_air\n",
      "secondary_cleaner.state.floatbank3_b_level\n",
      "secondary_cleaner.state.floatbank4_a_air\n",
      "secondary_cleaner.state.floatbank4_a_level\n",
      "secondary_cleaner.state.floatbank4_b_air\n",
      "secondary_cleaner.state.floatbank4_b_level\n",
      "secondary_cleaner.state.floatbank5_a_air\n",
      "secondary_cleaner.state.floatbank5_a_level\n",
      "secondary_cleaner.state.floatbank5_b_air\n",
      "secondary_cleaner.state.floatbank5_b_level\n",
      "secondary_cleaner.state.floatbank6_a_air\n",
      "secondary_cleaner.state.floatbank6_a_level\n",
      "87\n"
     ]
    }
   ],
   "source": [
    "list_columns = data_train.columns\n",
    "print(*list_columns, sep='\\n')\n",
    "print(len(list_columns))"
   ]
  },
  {
   "cell_type": "code",
   "execution_count": 121,
   "id": "27010a26",
   "metadata": {
    "scrolled": true
   },
   "outputs": [
    {
     "name": "stdout",
     "output_type": "stream",
     "text": [
      "concentrate_au ['final.output.concentrate_au', 'primary_cleaner.output.concentrate_au', 'rougher.output.concentrate_au']\n",
      "\n",
      "feed_au ['rougher.input.feed_au']\n",
      "\n",
      "tail_au ['final.output.tail_au', 'primary_cleaner.output.tail_au', 'rougher.output.tail_au', 'secondary_cleaner.output.tail_au']\n",
      "\n",
      "recovery ['final.output.recovery', 'rougher.output.recovery']\n"
     ]
    }
   ],
   "source": [
    "# чтобы не искать в списке названий необходимые значения, отберу их циклом\n",
    "concentrate_au = []\n",
    "feed_au = []\n",
    "tail_au = []\n",
    "recovery = []\n",
    "for i in list_columns:\n",
    "    if 'concentrate_au' in i:\n",
    "        concentrate_au.append(i)\n",
    "    elif 'feed_au' in i:\n",
    "        feed_au.append(i)\n",
    "    elif 'tail_au' in i:\n",
    "        tail_au.append(i)\n",
    "    elif 'recovery' in i:\n",
    "        recovery.append(i)\n",
    "print('concentrate_au', concentrate_au)\n",
    "print()\n",
    "print('feed_au', feed_au)\n",
    "print()\n",
    "print('tail_au', tail_au)\n",
    "print()\n",
    "print('recovery', recovery)"
   ]
  },
  {
   "cell_type": "code",
   "execution_count": 122,
   "id": "a87dabe1",
   "metadata": {},
   "outputs": [
    {
     "name": "stdout",
     "output_type": "stream",
     "text": [
      "79.74675260876867\n"
     ]
    }
   ],
   "source": [
    "# проверяю один столбец и по нему проверю, правильно ли будет работать функция\n",
    "c1 = data_train.loc[58,'rougher.output.concentrate_au']\n",
    "f1 = data_train.loc[58,'rougher.input.feed_au']\n",
    "t1 = data_train.loc[58,'rougher.output.tail_au']\n",
    "print(c1 * (f1 - t1) / (f1 * (c1 - t1)) * 100)"
   ]
  },
  {
   "cell_type": "code",
   "execution_count": 123,
   "id": "251e5ab2",
   "metadata": {},
   "outputs": [
    {
     "name": "stdout",
     "output_type": "stream",
     "text": [
      "79.74675260876867\n"
     ]
    }
   ],
   "source": [
    "def check_recovery(row):\n",
    "    c = row['rougher.output.concentrate_au'] # доля золота в концентрате после флотации rougher.output.concentrate_au\n",
    "    f = row['rougher.input.feed_au'] # доля золота в сырье до флотации rougher.input.feed_au\n",
    "    t = row['rougher.output.tail_au'] # доля золота в отвальных хвостах после флотации rougher.output.tail_au\n",
    "    recovery = c * (f - t) / (f * (c - t)) * 100\n",
    "    return recovery\n",
    "\n",
    "data_train['check_recovery'] = data_train.apply(check_recovery, axis=1)\n",
    "print(data_train.loc[58,'check_recovery'])"
   ]
  },
  {
   "cell_type": "code",
   "execution_count": 124,
   "id": "53a3acfb",
   "metadata": {},
   "outputs": [
    {
     "name": "stdout",
     "output_type": "stream",
     "text": [
      "0\n"
     ]
    }
   ],
   "source": [
    "data_train = data_train[~data_train['rougher.output.recovery'].isna()]\n",
    "print(data_train['check_recovery'].isna().sum())"
   ]
  },
  {
   "cell_type": "code",
   "execution_count": 125,
   "id": "17adda0a",
   "metadata": {},
   "outputs": [
    {
     "name": "stdout",
     "output_type": "stream",
     "text": [
      "9.682896147825551e-15\n"
     ]
    }
   ],
   "source": [
    "# функция работает правильно, следовательно нахожу значения MAE для существующих и полученных значения\n",
    "target = data_train['rougher.output.recovery']\n",
    "predictions = data_train['check_recovery']\n",
    "\n",
    "MAE = mean_absolute_error(target, predictions)\n",
    "print(MAE)"
   ]
  },
  {
   "cell_type": "markdown",
   "id": "2aa7a569",
   "metadata": {},
   "source": [
    "Так как МАЕ минимальное, следовательно, вычисления по формуле максимально точны.\n",
    "\n",
    "Далее проверяю, каких признаков не хватает в тесте и чтобы их восстановить, по данным столбца date заменяю строки с пропусками из датасета full. Индесами становятся значения дат (поэтому в предобработке данных нужно будет привести их к формату даты и времени). Пропуски в data_full так же нужно заменить на что-то."
   ]
  },
  {
   "cell_type": "markdown",
   "id": "16cd2d60",
   "metadata": {},
   "source": [
    "## 1.3. Проверка признаков, недоступных в тестовой выборке"
   ]
  },
  {
   "cell_type": "code",
   "execution_count": 126,
   "id": "5de0436b",
   "metadata": {},
   "outputs": [
    {
     "name": "stdout",
     "output_type": "stream",
     "text": [
      "(19439, 87)\n",
      "(14149, 88)\n",
      "(5290, 53)\n",
      "\n",
      "34\n",
      "34\n"
     ]
    }
   ],
   "source": [
    "# rougher.output.recovery\n",
    "# получаю названия столбцов\n",
    "list_columns_full = data_full.columns\n",
    "list_columns_train = data_train.columns\n",
    "list_columns_test = data_test.columns\n",
    "print(data_full.shape)\n",
    "print(data_train.shape)\n",
    "print(data_test.shape)\n",
    "print()\n",
    "\n",
    "# создаю список названий, которых не хватает в тесте\n",
    "# и проверяю количество недостающих с разностью полных и тестовых\n",
    "list_missing_test = [i for i in list_columns_full if i not in list_columns_test]\n",
    "print(len(list_missing_test))\n",
    "print(len(list_columns_full) - len(list_columns_test))"
   ]
  },
  {
   "cell_type": "markdown",
   "id": "92295f41",
   "metadata": {},
   "source": [
    "В трейне на 1 столбец больше, так как мы проверяли recovery и добавляли столбец с новыми значениями"
   ]
  },
  {
   "cell_type": "code",
   "execution_count": 127,
   "id": "301a79db",
   "metadata": {},
   "outputs": [
    {
     "name": "stdout",
     "output_type": "stream",
     "text": [
      "final.output.concentrate_ag\n",
      "final.output.concentrate_pb\n",
      "final.output.concentrate_sol\n",
      "final.output.concentrate_au\n",
      "final.output.recovery\n",
      "final.output.tail_ag\n",
      "final.output.tail_pb\n",
      "final.output.tail_sol\n",
      "final.output.tail_au\n",
      "primary_cleaner.output.concentrate_ag\n",
      "primary_cleaner.output.concentrate_pb\n",
      "primary_cleaner.output.concentrate_sol\n",
      "primary_cleaner.output.concentrate_au\n",
      "primary_cleaner.output.tail_ag\n",
      "primary_cleaner.output.tail_pb\n",
      "primary_cleaner.output.tail_sol\n",
      "primary_cleaner.output.tail_au\n",
      "rougher.calculation.sulfate_to_au_concentrate\n",
      "rougher.calculation.floatbank10_sulfate_to_au_feed\n",
      "rougher.calculation.floatbank11_sulfate_to_au_feed\n",
      "rougher.calculation.au_pb_ratio\n",
      "rougher.output.concentrate_ag\n",
      "rougher.output.concentrate_pb\n",
      "rougher.output.concentrate_sol\n",
      "rougher.output.concentrate_au\n",
      "rougher.output.recovery\n",
      "rougher.output.tail_ag\n",
      "rougher.output.tail_pb\n",
      "rougher.output.tail_sol\n",
      "rougher.output.tail_au\n",
      "secondary_cleaner.output.tail_ag\n",
      "secondary_cleaner.output.tail_pb\n",
      "secondary_cleaner.output.tail_sol\n",
      "secondary_cleaner.output.tail_au\n"
     ]
    }
   ],
   "source": [
    "print(*list_missing_test, sep='\\n')"
   ]
  },
  {
   "cell_type": "markdown",
   "id": "ee1b2b01",
   "metadata": {},
   "source": [
    "Все недостающие признаки в тестовой выборки - это этап output"
   ]
  },
  {
   "cell_type": "markdown",
   "id": "7a1e95b5",
   "metadata": {},
   "source": [
    "## 1.4. Предобработка данных"
   ]
  },
  {
   "cell_type": "code",
   "execution_count": 128,
   "id": "ad0bc9f1",
   "metadata": {},
   "outputs": [
    {
     "name": "stdout",
     "output_type": "stream",
     "text": [
      "date                                            0\n",
      "final.output.concentrate_ag                     1\n",
      "final.output.concentrate_pb                     1\n",
      "final.output.concentrate_sol                  211\n",
      "final.output.concentrate_au                     0\n",
      "                                             ... \n",
      "secondary_cleaner.state.floatbank5_a_level      1\n",
      "secondary_cleaner.state.floatbank5_b_air        1\n",
      "secondary_cleaner.state.floatbank5_b_level      1\n",
      "secondary_cleaner.state.floatbank6_a_air        2\n",
      "secondary_cleaner.state.floatbank6_a_level      1\n",
      "Length: 87, dtype: int64\n"
     ]
    }
   ],
   "source": [
    "print(data_full.isna().sum())"
   ]
  },
  {
   "cell_type": "markdown",
   "id": "a98d15c2",
   "metadata": {},
   "source": [
    "Все пропуски в данных заменяю на предыдущие значения, имеющиеся в данных. Между каждой строкой разность во времени составляет мгновение, вряд ли за это время изменятся значения концентрации или еще чего-то. Поэтому заполняю пропуски методом fillna с аргументом method='pad', означающим \"заполнить предыдущим\"."
   ]
  },
  {
   "cell_type": "code",
   "execution_count": 129,
   "id": "9f5f0f26",
   "metadata": {},
   "outputs": [
    {
     "name": "stdout",
     "output_type": "stream",
     "text": [
      "date                                          0\n",
      "final.output.concentrate_ag                   0\n",
      "final.output.concentrate_pb                   0\n",
      "final.output.concentrate_sol                  0\n",
      "final.output.concentrate_au                   0\n",
      "                                             ..\n",
      "secondary_cleaner.state.floatbank5_a_level    0\n",
      "secondary_cleaner.state.floatbank5_b_air      0\n",
      "secondary_cleaner.state.floatbank5_b_level    0\n",
      "secondary_cleaner.state.floatbank6_a_air      0\n",
      "secondary_cleaner.state.floatbank6_a_level    0\n",
      "Length: 87, dtype: int64\n"
     ]
    }
   ],
   "source": [
    "data_full = data_full.fillna(method='pad')\n",
    "print(data_full.isna().sum())"
   ]
  },
  {
   "cell_type": "code",
   "execution_count": 130,
   "id": "8d6a1f37",
   "metadata": {},
   "outputs": [
    {
     "name": "stdout",
     "output_type": "stream",
     "text": [
      "date                                          0\n",
      "final.output.concentrate_ag                   0\n",
      "final.output.concentrate_pb                   0\n",
      "final.output.concentrate_sol                  0\n",
      "final.output.concentrate_au                   0\n",
      "                                             ..\n",
      "secondary_cleaner.state.floatbank5_b_air      0\n",
      "secondary_cleaner.state.floatbank5_b_level    0\n",
      "secondary_cleaner.state.floatbank6_a_air      0\n",
      "secondary_cleaner.state.floatbank6_a_level    0\n",
      "check_recovery                                0\n",
      "Length: 88, dtype: int64\n"
     ]
    }
   ],
   "source": [
    "data_train = data_train.fillna(method='pad')\n",
    "print(data_train.isna().sum())"
   ]
  },
  {
   "cell_type": "code",
   "execution_count": 131,
   "id": "bc852d1a",
   "metadata": {
    "scrolled": true
   },
   "outputs": [
    {
     "name": "stdout",
     "output_type": "stream",
     "text": [
      "date                                          0\n",
      "primary_cleaner.input.sulfate                 0\n",
      "primary_cleaner.input.depressant              0\n",
      "primary_cleaner.input.feed_size               0\n",
      "primary_cleaner.input.xanthate                0\n",
      "primary_cleaner.state.floatbank8_a_air        0\n",
      "primary_cleaner.state.floatbank8_a_level      0\n",
      "primary_cleaner.state.floatbank8_b_air        0\n",
      "primary_cleaner.state.floatbank8_b_level      0\n",
      "primary_cleaner.state.floatbank8_c_air        0\n",
      "primary_cleaner.state.floatbank8_c_level      0\n",
      "primary_cleaner.state.floatbank8_d_air        0\n",
      "primary_cleaner.state.floatbank8_d_level      0\n",
      "rougher.input.feed_ag                         0\n",
      "rougher.input.feed_pb                         0\n",
      "rougher.input.feed_rate                       0\n",
      "rougher.input.feed_size                       0\n",
      "rougher.input.feed_sol                        0\n",
      "rougher.input.feed_au                         0\n",
      "rougher.input.floatbank10_sulfate             0\n",
      "rougher.input.floatbank10_xanthate            0\n",
      "rougher.input.floatbank11_sulfate             0\n",
      "rougher.input.floatbank11_xanthate            0\n",
      "rougher.state.floatbank10_a_air               0\n",
      "rougher.state.floatbank10_a_level             0\n",
      "rougher.state.floatbank10_b_air               0\n",
      "rougher.state.floatbank10_b_level             0\n",
      "rougher.state.floatbank10_c_air               0\n",
      "rougher.state.floatbank10_c_level             0\n",
      "rougher.state.floatbank10_d_air               0\n",
      "rougher.state.floatbank10_d_level             0\n",
      "rougher.state.floatbank10_e_air               0\n",
      "rougher.state.floatbank10_e_level             0\n",
      "rougher.state.floatbank10_f_air               0\n",
      "rougher.state.floatbank10_f_level             0\n",
      "secondary_cleaner.state.floatbank2_a_air      0\n",
      "secondary_cleaner.state.floatbank2_a_level    0\n",
      "secondary_cleaner.state.floatbank2_b_air      0\n",
      "secondary_cleaner.state.floatbank2_b_level    0\n",
      "secondary_cleaner.state.floatbank3_a_air      0\n",
      "secondary_cleaner.state.floatbank3_a_level    0\n",
      "secondary_cleaner.state.floatbank3_b_air      0\n",
      "secondary_cleaner.state.floatbank3_b_level    0\n",
      "secondary_cleaner.state.floatbank4_a_air      0\n",
      "secondary_cleaner.state.floatbank4_a_level    0\n",
      "secondary_cleaner.state.floatbank4_b_air      0\n",
      "secondary_cleaner.state.floatbank4_b_level    0\n",
      "secondary_cleaner.state.floatbank5_a_air      0\n",
      "secondary_cleaner.state.floatbank5_a_level    0\n",
      "secondary_cleaner.state.floatbank5_b_air      0\n",
      "secondary_cleaner.state.floatbank5_b_level    0\n",
      "secondary_cleaner.state.floatbank6_a_air      0\n",
      "secondary_cleaner.state.floatbank6_a_level    0\n",
      "dtype: int64\n"
     ]
    }
   ],
   "source": [
    "data_test = data_test.fillna(method='pad')\n",
    "print(data_test.isna().sum())"
   ]
  },
  {
   "cell_type": "code",
   "execution_count": 132,
   "id": "653d7d7d",
   "metadata": {},
   "outputs": [
    {
     "name": "stdout",
     "output_type": "stream",
     "text": [
      "datetime64[ns]\n"
     ]
    }
   ],
   "source": [
    "# в тесте недостающие столбцы беру из data_full, где индексами будут значения date\n",
    "# приведу сначала строковый тип данных в date к формату даты и времени\n",
    "data_full['date'] = pd.to_datetime(data_full['date'], format='%Y-%m-%d %H:%M:%S')\n",
    "data_train['date'] = pd.to_datetime(data_train['date'], format='%Y-%m-%d %H:%M:%S')\n",
    "data_test['date'] = pd.to_datetime(data_test['date'], format='%Y-%m-%d %H:%M:%S')\n",
    "print(data_full['date'].dtypes)"
   ]
  },
  {
   "cell_type": "markdown",
   "id": "a3b938b8",
   "metadata": {},
   "source": [
    "Чтобы в data_test получить недостающие столбцы, беру строки из data_full с индексами-датами"
   ]
  },
  {
   "cell_type": "code",
   "execution_count": 133,
   "id": "b5d142f2",
   "metadata": {},
   "outputs": [
    {
     "name": "stdout",
     "output_type": "stream",
     "text": [
      "0      2016-09-01 00:59:59\n",
      "1      2016-09-01 01:59:59\n",
      "2      2016-09-01 02:59:59\n",
      "3      2016-09-01 03:59:59\n",
      "4      2016-09-01 04:59:59\n",
      "               ...        \n",
      "5285   2017-12-31 19:59:59\n",
      "5286   2017-12-31 20:59:59\n",
      "5287   2017-12-31 21:59:59\n",
      "5288   2017-12-31 22:59:59\n",
      "5289   2017-12-31 23:59:59\n",
      "Name: date, Length: 5290, dtype: datetime64[ns]\n"
     ]
    }
   ],
   "source": [
    "test_date = data_test['date']\n",
    "print(test_date)"
   ]
  },
  {
   "cell_type": "code",
   "execution_count": 134,
   "id": "bb432a0b",
   "metadata": {
    "scrolled": true
   },
   "outputs": [],
   "source": [
    "# data_test_new = data_full.query('date in @test_date')\n",
    "# print(data_test_new.shape)"
   ]
  },
  {
   "cell_type": "code",
   "execution_count": 135,
   "id": "d1c8e0cb",
   "metadata": {},
   "outputs": [
    {
     "data": {
      "text/html": [
       "<div>\n",
       "<style scoped>\n",
       "    .dataframe tbody tr th:only-of-type {\n",
       "        vertical-align: middle;\n",
       "    }\n",
       "\n",
       "    .dataframe tbody tr th {\n",
       "        vertical-align: top;\n",
       "    }\n",
       "\n",
       "    .dataframe thead th {\n",
       "        text-align: right;\n",
       "    }\n",
       "</style>\n",
       "<table border=\"1\" class=\"dataframe\">\n",
       "  <thead>\n",
       "    <tr style=\"text-align: right;\">\n",
       "      <th></th>\n",
       "      <th>date</th>\n",
       "      <th>rougher.output.recovery</th>\n",
       "      <th>final.output.recovery</th>\n",
       "    </tr>\n",
       "  </thead>\n",
       "  <tbody>\n",
       "    <tr>\n",
       "      <td>0</td>\n",
       "      <td>2016-01-15 00:00:00</td>\n",
       "      <td>87.107763</td>\n",
       "      <td>70.541216</td>\n",
       "    </tr>\n",
       "    <tr>\n",
       "      <td>1</td>\n",
       "      <td>2016-01-15 01:00:00</td>\n",
       "      <td>86.843261</td>\n",
       "      <td>69.266198</td>\n",
       "    </tr>\n",
       "    <tr>\n",
       "      <td>2</td>\n",
       "      <td>2016-01-15 02:00:00</td>\n",
       "      <td>86.842308</td>\n",
       "      <td>68.116445</td>\n",
       "    </tr>\n",
       "    <tr>\n",
       "      <td>3</td>\n",
       "      <td>2016-01-15 03:00:00</td>\n",
       "      <td>87.226430</td>\n",
       "      <td>68.347543</td>\n",
       "    </tr>\n",
       "    <tr>\n",
       "      <td>4</td>\n",
       "      <td>2016-01-15 04:00:00</td>\n",
       "      <td>86.688794</td>\n",
       "      <td>66.927016</td>\n",
       "    </tr>\n",
       "    <tr>\n",
       "      <td>...</td>\n",
       "      <td>...</td>\n",
       "      <td>...</td>\n",
       "      <td>...</td>\n",
       "    </tr>\n",
       "    <tr>\n",
       "      <td>19434</td>\n",
       "      <td>2018-08-18 06:59:59</td>\n",
       "      <td>89.574376</td>\n",
       "      <td>73.755150</td>\n",
       "    </tr>\n",
       "    <tr>\n",
       "      <td>19435</td>\n",
       "      <td>2018-08-18 07:59:59</td>\n",
       "      <td>87.724007</td>\n",
       "      <td>69.049291</td>\n",
       "    </tr>\n",
       "    <tr>\n",
       "      <td>19436</td>\n",
       "      <td>2018-08-18 08:59:59</td>\n",
       "      <td>88.890579</td>\n",
       "      <td>67.002189</td>\n",
       "    </tr>\n",
       "    <tr>\n",
       "      <td>19437</td>\n",
       "      <td>2018-08-18 09:59:59</td>\n",
       "      <td>89.858126</td>\n",
       "      <td>65.523246</td>\n",
       "    </tr>\n",
       "    <tr>\n",
       "      <td>19438</td>\n",
       "      <td>2018-08-18 10:59:59</td>\n",
       "      <td>89.514960</td>\n",
       "      <td>70.281454</td>\n",
       "    </tr>\n",
       "  </tbody>\n",
       "</table>\n",
       "<p>19439 rows × 3 columns</p>\n",
       "</div>"
      ],
      "text/plain": [
       "                     date  rougher.output.recovery  final.output.recovery\n",
       "0     2016-01-15 00:00:00                87.107763              70.541216\n",
       "1     2016-01-15 01:00:00                86.843261              69.266198\n",
       "2     2016-01-15 02:00:00                86.842308              68.116445\n",
       "3     2016-01-15 03:00:00                87.226430              68.347543\n",
       "4     2016-01-15 04:00:00                86.688794              66.927016\n",
       "...                   ...                      ...                    ...\n",
       "19434 2018-08-18 06:59:59                89.574376              73.755150\n",
       "19435 2018-08-18 07:59:59                87.724007              69.049291\n",
       "19436 2018-08-18 08:59:59                88.890579              67.002189\n",
       "19437 2018-08-18 09:59:59                89.858126              65.523246\n",
       "19438 2018-08-18 10:59:59                89.514960              70.281454\n",
       "\n",
       "[19439 rows x 3 columns]"
      ]
     },
     "metadata": {},
     "output_type": "display_data"
    }
   ],
   "source": [
    "target_full = data_full[['date','rougher.output.recovery', 'final.output.recovery']]\n",
    "display(target_full)"
   ]
  },
  {
   "cell_type": "code",
   "execution_count": 136,
   "id": "e6650191",
   "metadata": {
    "scrolled": true
   },
   "outputs": [
    {
     "name": "stdout",
     "output_type": "stream",
     "text": [
      "(5290, 55)\n"
     ]
    },
    {
     "data": {
      "text/html": [
       "<div>\n",
       "<style scoped>\n",
       "    .dataframe tbody tr th:only-of-type {\n",
       "        vertical-align: middle;\n",
       "    }\n",
       "\n",
       "    .dataframe tbody tr th {\n",
       "        vertical-align: top;\n",
       "    }\n",
       "\n",
       "    .dataframe thead th {\n",
       "        text-align: right;\n",
       "    }\n",
       "</style>\n",
       "<table border=\"1\" class=\"dataframe\">\n",
       "  <thead>\n",
       "    <tr style=\"text-align: right;\">\n",
       "      <th></th>\n",
       "      <th>date</th>\n",
       "      <th>primary_cleaner.input.sulfate</th>\n",
       "      <th>primary_cleaner.input.depressant</th>\n",
       "      <th>primary_cleaner.input.feed_size</th>\n",
       "      <th>primary_cleaner.input.xanthate</th>\n",
       "      <th>primary_cleaner.state.floatbank8_a_air</th>\n",
       "      <th>primary_cleaner.state.floatbank8_a_level</th>\n",
       "      <th>primary_cleaner.state.floatbank8_b_air</th>\n",
       "      <th>primary_cleaner.state.floatbank8_b_level</th>\n",
       "      <th>primary_cleaner.state.floatbank8_c_air</th>\n",
       "      <th>...</th>\n",
       "      <th>secondary_cleaner.state.floatbank4_b_air</th>\n",
       "      <th>secondary_cleaner.state.floatbank4_b_level</th>\n",
       "      <th>secondary_cleaner.state.floatbank5_a_air</th>\n",
       "      <th>secondary_cleaner.state.floatbank5_a_level</th>\n",
       "      <th>secondary_cleaner.state.floatbank5_b_air</th>\n",
       "      <th>secondary_cleaner.state.floatbank5_b_level</th>\n",
       "      <th>secondary_cleaner.state.floatbank6_a_air</th>\n",
       "      <th>secondary_cleaner.state.floatbank6_a_level</th>\n",
       "      <th>rougher.output.recovery</th>\n",
       "      <th>final.output.recovery</th>\n",
       "    </tr>\n",
       "  </thead>\n",
       "  <tbody>\n",
       "    <tr>\n",
       "      <td>0</td>\n",
       "      <td>2016-09-01 00:59:59</td>\n",
       "      <td>210.800909</td>\n",
       "      <td>14.993118</td>\n",
       "      <td>8.080000</td>\n",
       "      <td>1.005021</td>\n",
       "      <td>1398.981301</td>\n",
       "      <td>-500.225577</td>\n",
       "      <td>1399.144926</td>\n",
       "      <td>-499.919735</td>\n",
       "      <td>1400.102998</td>\n",
       "      <td>...</td>\n",
       "      <td>8.016656</td>\n",
       "      <td>-501.289139</td>\n",
       "      <td>7.946562</td>\n",
       "      <td>-432.317850</td>\n",
       "      <td>4.872511</td>\n",
       "      <td>-500.037437</td>\n",
       "      <td>26.705889</td>\n",
       "      <td>-499.709414</td>\n",
       "      <td>89.993421</td>\n",
       "      <td>70.273583</td>\n",
       "    </tr>\n",
       "    <tr>\n",
       "      <td>1</td>\n",
       "      <td>2016-09-01 01:59:59</td>\n",
       "      <td>215.392455</td>\n",
       "      <td>14.987471</td>\n",
       "      <td>8.080000</td>\n",
       "      <td>0.990469</td>\n",
       "      <td>1398.777912</td>\n",
       "      <td>-500.057435</td>\n",
       "      <td>1398.055362</td>\n",
       "      <td>-499.778182</td>\n",
       "      <td>1396.151033</td>\n",
       "      <td>...</td>\n",
       "      <td>8.130979</td>\n",
       "      <td>-499.634209</td>\n",
       "      <td>7.958270</td>\n",
       "      <td>-525.839648</td>\n",
       "      <td>4.878850</td>\n",
       "      <td>-500.162375</td>\n",
       "      <td>25.019940</td>\n",
       "      <td>-499.819438</td>\n",
       "      <td>88.089657</td>\n",
       "      <td>68.910432</td>\n",
       "    </tr>\n",
       "    <tr>\n",
       "      <td>2</td>\n",
       "      <td>2016-09-01 02:59:59</td>\n",
       "      <td>215.259946</td>\n",
       "      <td>12.884934</td>\n",
       "      <td>7.786667</td>\n",
       "      <td>0.996043</td>\n",
       "      <td>1398.493666</td>\n",
       "      <td>-500.868360</td>\n",
       "      <td>1398.860436</td>\n",
       "      <td>-499.764529</td>\n",
       "      <td>1398.075709</td>\n",
       "      <td>...</td>\n",
       "      <td>8.096893</td>\n",
       "      <td>-500.827423</td>\n",
       "      <td>8.071056</td>\n",
       "      <td>-500.801673</td>\n",
       "      <td>4.905125</td>\n",
       "      <td>-499.828510</td>\n",
       "      <td>24.994862</td>\n",
       "      <td>-500.622559</td>\n",
       "      <td>88.412756</td>\n",
       "      <td>68.143213</td>\n",
       "    </tr>\n",
       "    <tr>\n",
       "      <td>3</td>\n",
       "      <td>2016-09-01 03:59:59</td>\n",
       "      <td>215.336236</td>\n",
       "      <td>12.006805</td>\n",
       "      <td>7.640000</td>\n",
       "      <td>0.863514</td>\n",
       "      <td>1399.618111</td>\n",
       "      <td>-498.863574</td>\n",
       "      <td>1397.440120</td>\n",
       "      <td>-499.211024</td>\n",
       "      <td>1400.129303</td>\n",
       "      <td>...</td>\n",
       "      <td>8.074946</td>\n",
       "      <td>-499.474407</td>\n",
       "      <td>7.897085</td>\n",
       "      <td>-500.868509</td>\n",
       "      <td>4.931400</td>\n",
       "      <td>-499.963623</td>\n",
       "      <td>24.948919</td>\n",
       "      <td>-498.709987</td>\n",
       "      <td>87.360133</td>\n",
       "      <td>67.776393</td>\n",
       "    </tr>\n",
       "    <tr>\n",
       "      <td>4</td>\n",
       "      <td>2016-09-01 04:59:59</td>\n",
       "      <td>199.099327</td>\n",
       "      <td>10.682530</td>\n",
       "      <td>7.530000</td>\n",
       "      <td>0.805575</td>\n",
       "      <td>1401.268123</td>\n",
       "      <td>-500.808305</td>\n",
       "      <td>1398.128818</td>\n",
       "      <td>-499.504543</td>\n",
       "      <td>1402.172226</td>\n",
       "      <td>...</td>\n",
       "      <td>8.054678</td>\n",
       "      <td>-500.397500</td>\n",
       "      <td>8.107890</td>\n",
       "      <td>-509.526725</td>\n",
       "      <td>4.957674</td>\n",
       "      <td>-500.360026</td>\n",
       "      <td>25.003331</td>\n",
       "      <td>-500.856333</td>\n",
       "      <td>83.236367</td>\n",
       "      <td>61.467078</td>\n",
       "    </tr>\n",
       "    <tr>\n",
       "      <td>...</td>\n",
       "      <td>...</td>\n",
       "      <td>...</td>\n",
       "      <td>...</td>\n",
       "      <td>...</td>\n",
       "      <td>...</td>\n",
       "      <td>...</td>\n",
       "      <td>...</td>\n",
       "      <td>...</td>\n",
       "      <td>...</td>\n",
       "      <td>...</td>\n",
       "      <td>...</td>\n",
       "      <td>...</td>\n",
       "      <td>...</td>\n",
       "      <td>...</td>\n",
       "      <td>...</td>\n",
       "      <td>...</td>\n",
       "      <td>...</td>\n",
       "      <td>...</td>\n",
       "      <td>...</td>\n",
       "      <td>...</td>\n",
       "      <td>...</td>\n",
       "    </tr>\n",
       "    <tr>\n",
       "      <td>5285</td>\n",
       "      <td>2017-12-31 19:59:59</td>\n",
       "      <td>173.957757</td>\n",
       "      <td>15.963399</td>\n",
       "      <td>8.070000</td>\n",
       "      <td>0.896701</td>\n",
       "      <td>1401.930554</td>\n",
       "      <td>-499.728848</td>\n",
       "      <td>1401.441445</td>\n",
       "      <td>-499.193423</td>\n",
       "      <td>1399.810313</td>\n",
       "      <td>...</td>\n",
       "      <td>12.069155</td>\n",
       "      <td>-499.673279</td>\n",
       "      <td>7.977259</td>\n",
       "      <td>-499.516126</td>\n",
       "      <td>5.933319</td>\n",
       "      <td>-499.965973</td>\n",
       "      <td>8.987171</td>\n",
       "      <td>-499.755909</td>\n",
       "      <td>95.172585</td>\n",
       "      <td>68.919891</td>\n",
       "    </tr>\n",
       "    <tr>\n",
       "      <td>5286</td>\n",
       "      <td>2017-12-31 20:59:59</td>\n",
       "      <td>172.910270</td>\n",
       "      <td>16.002605</td>\n",
       "      <td>8.070000</td>\n",
       "      <td>0.896519</td>\n",
       "      <td>1447.075722</td>\n",
       "      <td>-494.716823</td>\n",
       "      <td>1448.851892</td>\n",
       "      <td>-465.963026</td>\n",
       "      <td>1443.890424</td>\n",
       "      <td>...</td>\n",
       "      <td>13.365371</td>\n",
       "      <td>-499.122723</td>\n",
       "      <td>9.288553</td>\n",
       "      <td>-496.892967</td>\n",
       "      <td>7.372897</td>\n",
       "      <td>-499.942956</td>\n",
       "      <td>8.986832</td>\n",
       "      <td>-499.903761</td>\n",
       "      <td>94.575036</td>\n",
       "      <td>68.440582</td>\n",
       "    </tr>\n",
       "    <tr>\n",
       "      <td>5287</td>\n",
       "      <td>2017-12-31 21:59:59</td>\n",
       "      <td>171.135718</td>\n",
       "      <td>15.993669</td>\n",
       "      <td>8.070000</td>\n",
       "      <td>1.165996</td>\n",
       "      <td>1498.836182</td>\n",
       "      <td>-501.770403</td>\n",
       "      <td>1499.572353</td>\n",
       "      <td>-495.516347</td>\n",
       "      <td>1502.749213</td>\n",
       "      <td>...</td>\n",
       "      <td>15.101425</td>\n",
       "      <td>-499.936252</td>\n",
       "      <td>10.989181</td>\n",
       "      <td>-498.347898</td>\n",
       "      <td>9.020944</td>\n",
       "      <td>-500.040448</td>\n",
       "      <td>8.982038</td>\n",
       "      <td>-497.789882</td>\n",
       "      <td>93.018138</td>\n",
       "      <td>67.092759</td>\n",
       "    </tr>\n",
       "    <tr>\n",
       "      <td>5288</td>\n",
       "      <td>2017-12-31 22:59:59</td>\n",
       "      <td>179.697158</td>\n",
       "      <td>15.438979</td>\n",
       "      <td>8.070000</td>\n",
       "      <td>1.501068</td>\n",
       "      <td>1498.466243</td>\n",
       "      <td>-500.483984</td>\n",
       "      <td>1497.986986</td>\n",
       "      <td>-519.200340</td>\n",
       "      <td>1496.569047</td>\n",
       "      <td>...</td>\n",
       "      <td>15.026853</td>\n",
       "      <td>-499.723143</td>\n",
       "      <td>11.011607</td>\n",
       "      <td>-499.985046</td>\n",
       "      <td>9.009783</td>\n",
       "      <td>-499.937902</td>\n",
       "      <td>9.012660</td>\n",
       "      <td>-500.154284</td>\n",
       "      <td>92.599042</td>\n",
       "      <td>68.061186</td>\n",
       "    </tr>\n",
       "    <tr>\n",
       "      <td>5289</td>\n",
       "      <td>2017-12-31 23:59:59</td>\n",
       "      <td>181.556856</td>\n",
       "      <td>14.995850</td>\n",
       "      <td>8.070000</td>\n",
       "      <td>1.623454</td>\n",
       "      <td>1498.096303</td>\n",
       "      <td>-499.796922</td>\n",
       "      <td>1501.743791</td>\n",
       "      <td>-505.146931</td>\n",
       "      <td>1499.535978</td>\n",
       "      <td>...</td>\n",
       "      <td>14.914199</td>\n",
       "      <td>-499.948518</td>\n",
       "      <td>10.986607</td>\n",
       "      <td>-500.658027</td>\n",
       "      <td>8.989497</td>\n",
       "      <td>-500.337588</td>\n",
       "      <td>8.988632</td>\n",
       "      <td>-500.764937</td>\n",
       "      <td>91.177695</td>\n",
       "      <td>71.699976</td>\n",
       "    </tr>\n",
       "  </tbody>\n",
       "</table>\n",
       "<p>5290 rows × 55 columns</p>\n",
       "</div>"
      ],
      "text/plain": [
       "                    date  primary_cleaner.input.sulfate  \\\n",
       "0    2016-09-01 00:59:59                     210.800909   \n",
       "1    2016-09-01 01:59:59                     215.392455   \n",
       "2    2016-09-01 02:59:59                     215.259946   \n",
       "3    2016-09-01 03:59:59                     215.336236   \n",
       "4    2016-09-01 04:59:59                     199.099327   \n",
       "...                  ...                            ...   \n",
       "5285 2017-12-31 19:59:59                     173.957757   \n",
       "5286 2017-12-31 20:59:59                     172.910270   \n",
       "5287 2017-12-31 21:59:59                     171.135718   \n",
       "5288 2017-12-31 22:59:59                     179.697158   \n",
       "5289 2017-12-31 23:59:59                     181.556856   \n",
       "\n",
       "      primary_cleaner.input.depressant  primary_cleaner.input.feed_size  \\\n",
       "0                            14.993118                         8.080000   \n",
       "1                            14.987471                         8.080000   \n",
       "2                            12.884934                         7.786667   \n",
       "3                            12.006805                         7.640000   \n",
       "4                            10.682530                         7.530000   \n",
       "...                                ...                              ...   \n",
       "5285                         15.963399                         8.070000   \n",
       "5286                         16.002605                         8.070000   \n",
       "5287                         15.993669                         8.070000   \n",
       "5288                         15.438979                         8.070000   \n",
       "5289                         14.995850                         8.070000   \n",
       "\n",
       "      primary_cleaner.input.xanthate  primary_cleaner.state.floatbank8_a_air  \\\n",
       "0                           1.005021                             1398.981301   \n",
       "1                           0.990469                             1398.777912   \n",
       "2                           0.996043                             1398.493666   \n",
       "3                           0.863514                             1399.618111   \n",
       "4                           0.805575                             1401.268123   \n",
       "...                              ...                                     ...   \n",
       "5285                        0.896701                             1401.930554   \n",
       "5286                        0.896519                             1447.075722   \n",
       "5287                        1.165996                             1498.836182   \n",
       "5288                        1.501068                             1498.466243   \n",
       "5289                        1.623454                             1498.096303   \n",
       "\n",
       "      primary_cleaner.state.floatbank8_a_level  \\\n",
       "0                                  -500.225577   \n",
       "1                                  -500.057435   \n",
       "2                                  -500.868360   \n",
       "3                                  -498.863574   \n",
       "4                                  -500.808305   \n",
       "...                                        ...   \n",
       "5285                               -499.728848   \n",
       "5286                               -494.716823   \n",
       "5287                               -501.770403   \n",
       "5288                               -500.483984   \n",
       "5289                               -499.796922   \n",
       "\n",
       "      primary_cleaner.state.floatbank8_b_air  \\\n",
       "0                                1399.144926   \n",
       "1                                1398.055362   \n",
       "2                                1398.860436   \n",
       "3                                1397.440120   \n",
       "4                                1398.128818   \n",
       "...                                      ...   \n",
       "5285                             1401.441445   \n",
       "5286                             1448.851892   \n",
       "5287                             1499.572353   \n",
       "5288                             1497.986986   \n",
       "5289                             1501.743791   \n",
       "\n",
       "      primary_cleaner.state.floatbank8_b_level  \\\n",
       "0                                  -499.919735   \n",
       "1                                  -499.778182   \n",
       "2                                  -499.764529   \n",
       "3                                  -499.211024   \n",
       "4                                  -499.504543   \n",
       "...                                        ...   \n",
       "5285                               -499.193423   \n",
       "5286                               -465.963026   \n",
       "5287                               -495.516347   \n",
       "5288                               -519.200340   \n",
       "5289                               -505.146931   \n",
       "\n",
       "      primary_cleaner.state.floatbank8_c_air  ...  \\\n",
       "0                                1400.102998  ...   \n",
       "1                                1396.151033  ...   \n",
       "2                                1398.075709  ...   \n",
       "3                                1400.129303  ...   \n",
       "4                                1402.172226  ...   \n",
       "...                                      ...  ...   \n",
       "5285                             1399.810313  ...   \n",
       "5286                             1443.890424  ...   \n",
       "5287                             1502.749213  ...   \n",
       "5288                             1496.569047  ...   \n",
       "5289                             1499.535978  ...   \n",
       "\n",
       "      secondary_cleaner.state.floatbank4_b_air  \\\n",
       "0                                     8.016656   \n",
       "1                                     8.130979   \n",
       "2                                     8.096893   \n",
       "3                                     8.074946   \n",
       "4                                     8.054678   \n",
       "...                                        ...   \n",
       "5285                                 12.069155   \n",
       "5286                                 13.365371   \n",
       "5287                                 15.101425   \n",
       "5288                                 15.026853   \n",
       "5289                                 14.914199   \n",
       "\n",
       "      secondary_cleaner.state.floatbank4_b_level  \\\n",
       "0                                    -501.289139   \n",
       "1                                    -499.634209   \n",
       "2                                    -500.827423   \n",
       "3                                    -499.474407   \n",
       "4                                    -500.397500   \n",
       "...                                          ...   \n",
       "5285                                 -499.673279   \n",
       "5286                                 -499.122723   \n",
       "5287                                 -499.936252   \n",
       "5288                                 -499.723143   \n",
       "5289                                 -499.948518   \n",
       "\n",
       "      secondary_cleaner.state.floatbank5_a_air  \\\n",
       "0                                     7.946562   \n",
       "1                                     7.958270   \n",
       "2                                     8.071056   \n",
       "3                                     7.897085   \n",
       "4                                     8.107890   \n",
       "...                                        ...   \n",
       "5285                                  7.977259   \n",
       "5286                                  9.288553   \n",
       "5287                                 10.989181   \n",
       "5288                                 11.011607   \n",
       "5289                                 10.986607   \n",
       "\n",
       "      secondary_cleaner.state.floatbank5_a_level  \\\n",
       "0                                    -432.317850   \n",
       "1                                    -525.839648   \n",
       "2                                    -500.801673   \n",
       "3                                    -500.868509   \n",
       "4                                    -509.526725   \n",
       "...                                          ...   \n",
       "5285                                 -499.516126   \n",
       "5286                                 -496.892967   \n",
       "5287                                 -498.347898   \n",
       "5288                                 -499.985046   \n",
       "5289                                 -500.658027   \n",
       "\n",
       "      secondary_cleaner.state.floatbank5_b_air  \\\n",
       "0                                     4.872511   \n",
       "1                                     4.878850   \n",
       "2                                     4.905125   \n",
       "3                                     4.931400   \n",
       "4                                     4.957674   \n",
       "...                                        ...   \n",
       "5285                                  5.933319   \n",
       "5286                                  7.372897   \n",
       "5287                                  9.020944   \n",
       "5288                                  9.009783   \n",
       "5289                                  8.989497   \n",
       "\n",
       "      secondary_cleaner.state.floatbank5_b_level  \\\n",
       "0                                    -500.037437   \n",
       "1                                    -500.162375   \n",
       "2                                    -499.828510   \n",
       "3                                    -499.963623   \n",
       "4                                    -500.360026   \n",
       "...                                          ...   \n",
       "5285                                 -499.965973   \n",
       "5286                                 -499.942956   \n",
       "5287                                 -500.040448   \n",
       "5288                                 -499.937902   \n",
       "5289                                 -500.337588   \n",
       "\n",
       "      secondary_cleaner.state.floatbank6_a_air  \\\n",
       "0                                    26.705889   \n",
       "1                                    25.019940   \n",
       "2                                    24.994862   \n",
       "3                                    24.948919   \n",
       "4                                    25.003331   \n",
       "...                                        ...   \n",
       "5285                                  8.987171   \n",
       "5286                                  8.986832   \n",
       "5287                                  8.982038   \n",
       "5288                                  9.012660   \n",
       "5289                                  8.988632   \n",
       "\n",
       "      secondary_cleaner.state.floatbank6_a_level  rougher.output.recovery  \\\n",
       "0                                    -499.709414                89.993421   \n",
       "1                                    -499.819438                88.089657   \n",
       "2                                    -500.622559                88.412756   \n",
       "3                                    -498.709987                87.360133   \n",
       "4                                    -500.856333                83.236367   \n",
       "...                                          ...                      ...   \n",
       "5285                                 -499.755909                95.172585   \n",
       "5286                                 -499.903761                94.575036   \n",
       "5287                                 -497.789882                93.018138   \n",
       "5288                                 -500.154284                92.599042   \n",
       "5289                                 -500.764937                91.177695   \n",
       "\n",
       "      final.output.recovery  \n",
       "0                 70.273583  \n",
       "1                 68.910432  \n",
       "2                 68.143213  \n",
       "3                 67.776393  \n",
       "4                 61.467078  \n",
       "...                     ...  \n",
       "5285              68.919891  \n",
       "5286              68.440582  \n",
       "5287              67.092759  \n",
       "5288              68.061186  \n",
       "5289              71.699976  \n",
       "\n",
       "[5290 rows x 55 columns]"
      ]
     },
     "metadata": {},
     "output_type": "display_data"
    }
   ],
   "source": [
    "data_test_new = data_test.merge(target_full, how='left', on='date')\n",
    "print(data_test_new.shape)\n",
    "display(data_test_new)"
   ]
  },
  {
   "cell_type": "code",
   "execution_count": 137,
   "id": "4904420c",
   "metadata": {
    "scrolled": true
   },
   "outputs": [
    {
     "data": {
      "text/plain": [
       "(5290, 55)"
      ]
     },
     "execution_count": 137,
     "metadata": {},
     "output_type": "execute_result"
    }
   ],
   "source": [
    "data_test_new.shape"
   ]
  },
  {
   "cell_type": "code",
   "execution_count": 138,
   "id": "4afef397",
   "metadata": {},
   "outputs": [
    {
     "data": {
      "text/html": [
       "<div>\n",
       "<style scoped>\n",
       "    .dataframe tbody tr th:only-of-type {\n",
       "        vertical-align: middle;\n",
       "    }\n",
       "\n",
       "    .dataframe tbody tr th {\n",
       "        vertical-align: top;\n",
       "    }\n",
       "\n",
       "    .dataframe thead th {\n",
       "        text-align: right;\n",
       "    }\n",
       "</style>\n",
       "<table border=\"1\" class=\"dataframe\">\n",
       "  <thead>\n",
       "    <tr style=\"text-align: right;\">\n",
       "      <th></th>\n",
       "      <th>date</th>\n",
       "      <th>primary_cleaner.input.sulfate</th>\n",
       "      <th>primary_cleaner.input.depressant</th>\n",
       "      <th>primary_cleaner.input.feed_size</th>\n",
       "      <th>primary_cleaner.input.xanthate</th>\n",
       "      <th>primary_cleaner.state.floatbank8_a_air</th>\n",
       "      <th>primary_cleaner.state.floatbank8_a_level</th>\n",
       "      <th>primary_cleaner.state.floatbank8_b_air</th>\n",
       "      <th>primary_cleaner.state.floatbank8_b_level</th>\n",
       "      <th>primary_cleaner.state.floatbank8_c_air</th>\n",
       "      <th>...</th>\n",
       "      <th>secondary_cleaner.state.floatbank4_b_air</th>\n",
       "      <th>secondary_cleaner.state.floatbank4_b_level</th>\n",
       "      <th>secondary_cleaner.state.floatbank5_a_air</th>\n",
       "      <th>secondary_cleaner.state.floatbank5_a_level</th>\n",
       "      <th>secondary_cleaner.state.floatbank5_b_air</th>\n",
       "      <th>secondary_cleaner.state.floatbank5_b_level</th>\n",
       "      <th>secondary_cleaner.state.floatbank6_a_air</th>\n",
       "      <th>secondary_cleaner.state.floatbank6_a_level</th>\n",
       "      <th>rougher.output.recovery</th>\n",
       "      <th>final.output.recovery</th>\n",
       "    </tr>\n",
       "  </thead>\n",
       "  <tbody>\n",
       "    <tr>\n",
       "      <td>0</td>\n",
       "      <td>2016-01-15 00:00:00</td>\n",
       "      <td>127.092003</td>\n",
       "      <td>10.128295</td>\n",
       "      <td>7.25</td>\n",
       "      <td>0.988759</td>\n",
       "      <td>1549.775757</td>\n",
       "      <td>-498.912140</td>\n",
       "      <td>1551.434204</td>\n",
       "      <td>-516.403442</td>\n",
       "      <td>1549.873901</td>\n",
       "      <td>...</td>\n",
       "      <td>12.099931</td>\n",
       "      <td>-504.715942</td>\n",
       "      <td>9.925633</td>\n",
       "      <td>-498.310211</td>\n",
       "      <td>8.079666</td>\n",
       "      <td>-500.470978</td>\n",
       "      <td>14.151341</td>\n",
       "      <td>-605.841980</td>\n",
       "      <td>87.107763</td>\n",
       "      <td>70.541216</td>\n",
       "    </tr>\n",
       "    <tr>\n",
       "      <td>1</td>\n",
       "      <td>2016-01-15 01:00:00</td>\n",
       "      <td>125.629232</td>\n",
       "      <td>10.296251</td>\n",
       "      <td>7.25</td>\n",
       "      <td>1.002663</td>\n",
       "      <td>1576.166671</td>\n",
       "      <td>-500.904965</td>\n",
       "      <td>1575.950626</td>\n",
       "      <td>-499.865889</td>\n",
       "      <td>1575.994189</td>\n",
       "      <td>...</td>\n",
       "      <td>11.950531</td>\n",
       "      <td>-501.331529</td>\n",
       "      <td>10.039245</td>\n",
       "      <td>-500.169983</td>\n",
       "      <td>7.984757</td>\n",
       "      <td>-500.582168</td>\n",
       "      <td>13.998353</td>\n",
       "      <td>-599.787184</td>\n",
       "      <td>86.843261</td>\n",
       "      <td>69.266198</td>\n",
       "    </tr>\n",
       "    <tr>\n",
       "      <td>2</td>\n",
       "      <td>2016-01-15 02:00:00</td>\n",
       "      <td>123.819808</td>\n",
       "      <td>11.316280</td>\n",
       "      <td>7.25</td>\n",
       "      <td>0.991265</td>\n",
       "      <td>1601.556163</td>\n",
       "      <td>-499.997791</td>\n",
       "      <td>1600.386685</td>\n",
       "      <td>-500.607762</td>\n",
       "      <td>1602.003542</td>\n",
       "      <td>...</td>\n",
       "      <td>11.912783</td>\n",
       "      <td>-501.133383</td>\n",
       "      <td>10.070913</td>\n",
       "      <td>-500.129135</td>\n",
       "      <td>8.013877</td>\n",
       "      <td>-500.517572</td>\n",
       "      <td>14.028663</td>\n",
       "      <td>-601.427363</td>\n",
       "      <td>86.842308</td>\n",
       "      <td>68.116445</td>\n",
       "    </tr>\n",
       "    <tr>\n",
       "      <td>3</td>\n",
       "      <td>2016-01-15 03:00:00</td>\n",
       "      <td>122.270188</td>\n",
       "      <td>11.322140</td>\n",
       "      <td>7.25</td>\n",
       "      <td>0.996739</td>\n",
       "      <td>1599.968720</td>\n",
       "      <td>-500.951778</td>\n",
       "      <td>1600.659236</td>\n",
       "      <td>-499.677094</td>\n",
       "      <td>1600.304144</td>\n",
       "      <td>...</td>\n",
       "      <td>11.999550</td>\n",
       "      <td>-501.193686</td>\n",
       "      <td>9.970366</td>\n",
       "      <td>-499.201640</td>\n",
       "      <td>7.977324</td>\n",
       "      <td>-500.255908</td>\n",
       "      <td>14.005551</td>\n",
       "      <td>-599.996129</td>\n",
       "      <td>87.226430</td>\n",
       "      <td>68.347543</td>\n",
       "    </tr>\n",
       "    <tr>\n",
       "      <td>4</td>\n",
       "      <td>2016-01-15 04:00:00</td>\n",
       "      <td>117.988169</td>\n",
       "      <td>11.913613</td>\n",
       "      <td>7.25</td>\n",
       "      <td>1.009869</td>\n",
       "      <td>1601.339707</td>\n",
       "      <td>-498.975456</td>\n",
       "      <td>1601.437854</td>\n",
       "      <td>-500.323246</td>\n",
       "      <td>1599.581894</td>\n",
       "      <td>...</td>\n",
       "      <td>11.953070</td>\n",
       "      <td>-501.053894</td>\n",
       "      <td>9.925709</td>\n",
       "      <td>-501.686727</td>\n",
       "      <td>7.894242</td>\n",
       "      <td>-500.356035</td>\n",
       "      <td>13.996647</td>\n",
       "      <td>-601.496691</td>\n",
       "      <td>86.688794</td>\n",
       "      <td>66.927016</td>\n",
       "    </tr>\n",
       "    <tr>\n",
       "      <td>...</td>\n",
       "      <td>...</td>\n",
       "      <td>...</td>\n",
       "      <td>...</td>\n",
       "      <td>...</td>\n",
       "      <td>...</td>\n",
       "      <td>...</td>\n",
       "      <td>...</td>\n",
       "      <td>...</td>\n",
       "      <td>...</td>\n",
       "      <td>...</td>\n",
       "      <td>...</td>\n",
       "      <td>...</td>\n",
       "      <td>...</td>\n",
       "      <td>...</td>\n",
       "      <td>...</td>\n",
       "      <td>...</td>\n",
       "      <td>...</td>\n",
       "      <td>...</td>\n",
       "      <td>...</td>\n",
       "      <td>...</td>\n",
       "      <td>...</td>\n",
       "    </tr>\n",
       "    <tr>\n",
       "      <td>14144</td>\n",
       "      <td>2018-08-18 06:59:59</td>\n",
       "      <td>123.381787</td>\n",
       "      <td>8.028927</td>\n",
       "      <td>6.50</td>\n",
       "      <td>1.304232</td>\n",
       "      <td>1648.421193</td>\n",
       "      <td>-400.382169</td>\n",
       "      <td>1648.742005</td>\n",
       "      <td>-400.359661</td>\n",
       "      <td>1648.578230</td>\n",
       "      <td>...</td>\n",
       "      <td>20.007571</td>\n",
       "      <td>-499.740028</td>\n",
       "      <td>18.006038</td>\n",
       "      <td>-499.834374</td>\n",
       "      <td>13.001114</td>\n",
       "      <td>-500.155694</td>\n",
       "      <td>20.007840</td>\n",
       "      <td>-501.296428</td>\n",
       "      <td>89.574376</td>\n",
       "      <td>73.755150</td>\n",
       "    </tr>\n",
       "    <tr>\n",
       "      <td>14145</td>\n",
       "      <td>2018-08-18 07:59:59</td>\n",
       "      <td>120.878188</td>\n",
       "      <td>7.962636</td>\n",
       "      <td>6.50</td>\n",
       "      <td>1.302419</td>\n",
       "      <td>1649.820162</td>\n",
       "      <td>-399.930973</td>\n",
       "      <td>1649.357538</td>\n",
       "      <td>-399.721222</td>\n",
       "      <td>1648.656192</td>\n",
       "      <td>...</td>\n",
       "      <td>20.035660</td>\n",
       "      <td>-500.251357</td>\n",
       "      <td>17.998535</td>\n",
       "      <td>-500.395178</td>\n",
       "      <td>12.954048</td>\n",
       "      <td>-499.895163</td>\n",
       "      <td>19.968498</td>\n",
       "      <td>-501.041608</td>\n",
       "      <td>87.724007</td>\n",
       "      <td>69.049291</td>\n",
       "    </tr>\n",
       "    <tr>\n",
       "      <td>14146</td>\n",
       "      <td>2018-08-18 08:59:59</td>\n",
       "      <td>105.666118</td>\n",
       "      <td>7.955111</td>\n",
       "      <td>6.50</td>\n",
       "      <td>1.315926</td>\n",
       "      <td>1649.166761</td>\n",
       "      <td>-399.888631</td>\n",
       "      <td>1649.196904</td>\n",
       "      <td>-399.677571</td>\n",
       "      <td>1647.896999</td>\n",
       "      <td>...</td>\n",
       "      <td>19.951231</td>\n",
       "      <td>-499.857027</td>\n",
       "      <td>18.019543</td>\n",
       "      <td>-500.451156</td>\n",
       "      <td>13.023431</td>\n",
       "      <td>-499.914391</td>\n",
       "      <td>19.990885</td>\n",
       "      <td>-501.518452</td>\n",
       "      <td>88.890579</td>\n",
       "      <td>67.002189</td>\n",
       "    </tr>\n",
       "    <tr>\n",
       "      <td>14147</td>\n",
       "      <td>2018-08-18 09:59:59</td>\n",
       "      <td>98.880538</td>\n",
       "      <td>7.984164</td>\n",
       "      <td>6.50</td>\n",
       "      <td>1.241969</td>\n",
       "      <td>1646.547763</td>\n",
       "      <td>-398.977083</td>\n",
       "      <td>1648.212240</td>\n",
       "      <td>-400.383265</td>\n",
       "      <td>1648.917387</td>\n",
       "      <td>...</td>\n",
       "      <td>20.054122</td>\n",
       "      <td>-500.314711</td>\n",
       "      <td>17.979515</td>\n",
       "      <td>-499.272871</td>\n",
       "      <td>12.992404</td>\n",
       "      <td>-499.976268</td>\n",
       "      <td>20.013986</td>\n",
       "      <td>-500.625471</td>\n",
       "      <td>89.858126</td>\n",
       "      <td>65.523246</td>\n",
       "    </tr>\n",
       "    <tr>\n",
       "      <td>14148</td>\n",
       "      <td>2018-08-18 10:59:59</td>\n",
       "      <td>95.248427</td>\n",
       "      <td>8.078957</td>\n",
       "      <td>6.50</td>\n",
       "      <td>1.283045</td>\n",
       "      <td>1648.759906</td>\n",
       "      <td>-399.862053</td>\n",
       "      <td>1650.135395</td>\n",
       "      <td>-399.957321</td>\n",
       "      <td>1648.831890</td>\n",
       "      <td>...</td>\n",
       "      <td>20.020205</td>\n",
       "      <td>-500.220296</td>\n",
       "      <td>17.963512</td>\n",
       "      <td>-499.939490</td>\n",
       "      <td>12.990306</td>\n",
       "      <td>-500.080993</td>\n",
       "      <td>19.990336</td>\n",
       "      <td>-499.191575</td>\n",
       "      <td>89.514960</td>\n",
       "      <td>70.281454</td>\n",
       "    </tr>\n",
       "  </tbody>\n",
       "</table>\n",
       "<p>14149 rows × 55 columns</p>\n",
       "</div>"
      ],
      "text/plain": [
       "                     date  primary_cleaner.input.sulfate  \\\n",
       "0     2016-01-15 00:00:00                     127.092003   \n",
       "1     2016-01-15 01:00:00                     125.629232   \n",
       "2     2016-01-15 02:00:00                     123.819808   \n",
       "3     2016-01-15 03:00:00                     122.270188   \n",
       "4     2016-01-15 04:00:00                     117.988169   \n",
       "...                   ...                            ...   \n",
       "14144 2018-08-18 06:59:59                     123.381787   \n",
       "14145 2018-08-18 07:59:59                     120.878188   \n",
       "14146 2018-08-18 08:59:59                     105.666118   \n",
       "14147 2018-08-18 09:59:59                      98.880538   \n",
       "14148 2018-08-18 10:59:59                      95.248427   \n",
       "\n",
       "       primary_cleaner.input.depressant  primary_cleaner.input.feed_size  \\\n",
       "0                             10.128295                             7.25   \n",
       "1                             10.296251                             7.25   \n",
       "2                             11.316280                             7.25   \n",
       "3                             11.322140                             7.25   \n",
       "4                             11.913613                             7.25   \n",
       "...                                 ...                              ...   \n",
       "14144                          8.028927                             6.50   \n",
       "14145                          7.962636                             6.50   \n",
       "14146                          7.955111                             6.50   \n",
       "14147                          7.984164                             6.50   \n",
       "14148                          8.078957                             6.50   \n",
       "\n",
       "       primary_cleaner.input.xanthate  primary_cleaner.state.floatbank8_a_air  \\\n",
       "0                            0.988759                             1549.775757   \n",
       "1                            1.002663                             1576.166671   \n",
       "2                            0.991265                             1601.556163   \n",
       "3                            0.996739                             1599.968720   \n",
       "4                            1.009869                             1601.339707   \n",
       "...                               ...                                     ...   \n",
       "14144                        1.304232                             1648.421193   \n",
       "14145                        1.302419                             1649.820162   \n",
       "14146                        1.315926                             1649.166761   \n",
       "14147                        1.241969                             1646.547763   \n",
       "14148                        1.283045                             1648.759906   \n",
       "\n",
       "       primary_cleaner.state.floatbank8_a_level  \\\n",
       "0                                   -498.912140   \n",
       "1                                   -500.904965   \n",
       "2                                   -499.997791   \n",
       "3                                   -500.951778   \n",
       "4                                   -498.975456   \n",
       "...                                         ...   \n",
       "14144                               -400.382169   \n",
       "14145                               -399.930973   \n",
       "14146                               -399.888631   \n",
       "14147                               -398.977083   \n",
       "14148                               -399.862053   \n",
       "\n",
       "       primary_cleaner.state.floatbank8_b_air  \\\n",
       "0                                 1551.434204   \n",
       "1                                 1575.950626   \n",
       "2                                 1600.386685   \n",
       "3                                 1600.659236   \n",
       "4                                 1601.437854   \n",
       "...                                       ...   \n",
       "14144                             1648.742005   \n",
       "14145                             1649.357538   \n",
       "14146                             1649.196904   \n",
       "14147                             1648.212240   \n",
       "14148                             1650.135395   \n",
       "\n",
       "       primary_cleaner.state.floatbank8_b_level  \\\n",
       "0                                   -516.403442   \n",
       "1                                   -499.865889   \n",
       "2                                   -500.607762   \n",
       "3                                   -499.677094   \n",
       "4                                   -500.323246   \n",
       "...                                         ...   \n",
       "14144                               -400.359661   \n",
       "14145                               -399.721222   \n",
       "14146                               -399.677571   \n",
       "14147                               -400.383265   \n",
       "14148                               -399.957321   \n",
       "\n",
       "       primary_cleaner.state.floatbank8_c_air  ...  \\\n",
       "0                                 1549.873901  ...   \n",
       "1                                 1575.994189  ...   \n",
       "2                                 1602.003542  ...   \n",
       "3                                 1600.304144  ...   \n",
       "4                                 1599.581894  ...   \n",
       "...                                       ...  ...   \n",
       "14144                             1648.578230  ...   \n",
       "14145                             1648.656192  ...   \n",
       "14146                             1647.896999  ...   \n",
       "14147                             1648.917387  ...   \n",
       "14148                             1648.831890  ...   \n",
       "\n",
       "       secondary_cleaner.state.floatbank4_b_air  \\\n",
       "0                                     12.099931   \n",
       "1                                     11.950531   \n",
       "2                                     11.912783   \n",
       "3                                     11.999550   \n",
       "4                                     11.953070   \n",
       "...                                         ...   \n",
       "14144                                 20.007571   \n",
       "14145                                 20.035660   \n",
       "14146                                 19.951231   \n",
       "14147                                 20.054122   \n",
       "14148                                 20.020205   \n",
       "\n",
       "       secondary_cleaner.state.floatbank4_b_level  \\\n",
       "0                                     -504.715942   \n",
       "1                                     -501.331529   \n",
       "2                                     -501.133383   \n",
       "3                                     -501.193686   \n",
       "4                                     -501.053894   \n",
       "...                                           ...   \n",
       "14144                                 -499.740028   \n",
       "14145                                 -500.251357   \n",
       "14146                                 -499.857027   \n",
       "14147                                 -500.314711   \n",
       "14148                                 -500.220296   \n",
       "\n",
       "       secondary_cleaner.state.floatbank5_a_air  \\\n",
       "0                                      9.925633   \n",
       "1                                     10.039245   \n",
       "2                                     10.070913   \n",
       "3                                      9.970366   \n",
       "4                                      9.925709   \n",
       "...                                         ...   \n",
       "14144                                 18.006038   \n",
       "14145                                 17.998535   \n",
       "14146                                 18.019543   \n",
       "14147                                 17.979515   \n",
       "14148                                 17.963512   \n",
       "\n",
       "       secondary_cleaner.state.floatbank5_a_level  \\\n",
       "0                                     -498.310211   \n",
       "1                                     -500.169983   \n",
       "2                                     -500.129135   \n",
       "3                                     -499.201640   \n",
       "4                                     -501.686727   \n",
       "...                                           ...   \n",
       "14144                                 -499.834374   \n",
       "14145                                 -500.395178   \n",
       "14146                                 -500.451156   \n",
       "14147                                 -499.272871   \n",
       "14148                                 -499.939490   \n",
       "\n",
       "       secondary_cleaner.state.floatbank5_b_air  \\\n",
       "0                                      8.079666   \n",
       "1                                      7.984757   \n",
       "2                                      8.013877   \n",
       "3                                      7.977324   \n",
       "4                                      7.894242   \n",
       "...                                         ...   \n",
       "14144                                 13.001114   \n",
       "14145                                 12.954048   \n",
       "14146                                 13.023431   \n",
       "14147                                 12.992404   \n",
       "14148                                 12.990306   \n",
       "\n",
       "       secondary_cleaner.state.floatbank5_b_level  \\\n",
       "0                                     -500.470978   \n",
       "1                                     -500.582168   \n",
       "2                                     -500.517572   \n",
       "3                                     -500.255908   \n",
       "4                                     -500.356035   \n",
       "...                                           ...   \n",
       "14144                                 -500.155694   \n",
       "14145                                 -499.895163   \n",
       "14146                                 -499.914391   \n",
       "14147                                 -499.976268   \n",
       "14148                                 -500.080993   \n",
       "\n",
       "       secondary_cleaner.state.floatbank6_a_air  \\\n",
       "0                                     14.151341   \n",
       "1                                     13.998353   \n",
       "2                                     14.028663   \n",
       "3                                     14.005551   \n",
       "4                                     13.996647   \n",
       "...                                         ...   \n",
       "14144                                 20.007840   \n",
       "14145                                 19.968498   \n",
       "14146                                 19.990885   \n",
       "14147                                 20.013986   \n",
       "14148                                 19.990336   \n",
       "\n",
       "       secondary_cleaner.state.floatbank6_a_level  rougher.output.recovery  \\\n",
       "0                                     -605.841980                87.107763   \n",
       "1                                     -599.787184                86.843261   \n",
       "2                                     -601.427363                86.842308   \n",
       "3                                     -599.996129                87.226430   \n",
       "4                                     -601.496691                86.688794   \n",
       "...                                           ...                      ...   \n",
       "14144                                 -501.296428                89.574376   \n",
       "14145                                 -501.041608                87.724007   \n",
       "14146                                 -501.518452                88.890579   \n",
       "14147                                 -500.625471                89.858126   \n",
       "14148                                 -499.191575                89.514960   \n",
       "\n",
       "       final.output.recovery  \n",
       "0                  70.541216  \n",
       "1                  69.266198  \n",
       "2                  68.116445  \n",
       "3                  68.347543  \n",
       "4                  66.927016  \n",
       "...                      ...  \n",
       "14144              73.755150  \n",
       "14145              69.049291  \n",
       "14146              67.002189  \n",
       "14147              65.523246  \n",
       "14148              70.281454  \n",
       "\n",
       "[14149 rows x 55 columns]"
      ]
     },
     "metadata": {},
     "output_type": "display_data"
    },
    {
     "name": "stdout",
     "output_type": "stream",
     "text": [
      "(14149, 55)\n"
     ]
    }
   ],
   "source": [
    "data_train_new = data_train[data_test_new.columns]\n",
    "display(data_train_new)\n",
    "print(data_train_new.shape)"
   ]
  },
  {
   "cell_type": "code",
   "execution_count": 139,
   "id": "93a1cb2b",
   "metadata": {},
   "outputs": [
    {
     "data": {
      "text/plain": [
       "0"
      ]
     },
     "execution_count": 139,
     "metadata": {},
     "output_type": "execute_result"
    }
   ],
   "source": [
    "# проверяю на дубликаты\n",
    "data_full.duplicated().sum()"
   ]
  },
  {
   "cell_type": "markdown",
   "id": "90c29662",
   "metadata": {},
   "source": [
    "**Вывод**\n",
    "\n",
    "На первом этапе:\n",
    "- были прочитаны данные \n",
    "- проверено, верно ли расчитана эффективность rougher.output.recovery \n",
    "        для этого была написана функция с формулой эффективности \n",
    "        recovery = c * (f - t) / (f * (c - t)) * 100, \n",
    "        и в нее были подставлены значения:\n",
    "        c = rougher.output.concentrate_au - доля золота в концентрате после флотации rougher.output.concentrate_au\n",
    "        f = rougher.input.feed_au - доля золота в сырье до флотации rougher.input.feed_au\n",
    "        t = rougher.output.tail_au - доля золота в отвальных хвостах после флотации rougher.output.tail_au\n",
    "- проверены недостающие признаки в data_test - это столбцы этапа output\n",
    "- проведена предобработка данных: \n",
    "        * замена пропусков на предыдущие существующие значения во всех трех выборках\n",
    "        * заполнение недостающих столбцов в data_test методом merge по столбцу date \n",
    "        * проверка отсутствия дубликатов"
   ]
  },
  {
   "cell_type": "markdown",
   "id": "a07169f2",
   "metadata": {},
   "source": [
    "# 2. Анализ данных"
   ]
  },
  {
   "cell_type": "markdown",
   "id": "aceb6e14",
   "metadata": {},
   "source": [
    "## 2.1. Изменение концентрации металлов на различных этапах отчиски"
   ]
  },
  {
   "cell_type": "code",
   "execution_count": 88,
   "id": "7a86b663",
   "metadata": {},
   "outputs": [
    {
     "name": "stdout",
     "output_type": "stream",
     "text": [
      "final.output.concentrate_au\n",
      "primary_cleaner.output.concentrate_au\n",
      "rougher.output.concentrate_au\n",
      "\n",
      "final.output.concentrate_ag\n",
      "primary_cleaner.output.concentrate_ag\n",
      "rougher.output.concentrate_ag\n",
      "\n",
      "final.output.concentrate_pb\n",
      "primary_cleaner.output.concentrate_pb\n",
      "rougher.output.concentrate_pb\n"
     ]
    }
   ],
   "source": [
    "# рассмотрю 3 металла на гистограмме для всех этапов \n",
    "concentrate_au = []\n",
    "concentrate_ag = []\n",
    "concentrate_pb = []\n",
    "for i in list_columns:\n",
    "    if 'concentrate_au' in i:\n",
    "        concentrate_au.append(i)\n",
    "    elif 'concentrate_ag' in i:\n",
    "        concentrate_ag.append(i)\n",
    "    elif 'concentrate_pb' in i:\n",
    "        concentrate_pb.append(i)\n",
    "print(*concentrate_au, sep='\\n')\n",
    "print()\n",
    "print(*concentrate_ag, sep='\\n')\n",
    "print()\n",
    "print(*concentrate_pb, sep='\\n')"
   ]
  },
  {
   "cell_type": "code",
   "execution_count": 89,
   "id": "550e8ac1",
   "metadata": {},
   "outputs": [
    {
     "name": "stdout",
     "output_type": "stream",
     "text": [
      "17.031899460483757\n"
     ]
    }
   ],
   "source": [
    "print(data_full['final.output.concentrate_pb'].max())"
   ]
  },
  {
   "cell_type": "code",
   "execution_count": 90,
   "id": "e1aa933f",
   "metadata": {},
   "outputs": [
    {
     "data": {
      "image/png": "[encoded data removed]",
      "text/plain": [
       "<Figure size 432x288 with 1 Axes>"
      ]
     },
     "metadata": {
      "needs_background": "light"
     },
     "output_type": "display_data"
    }
   ],
   "source": [
    "# концентрация золота\n",
    "data_full.plot(y=['final.output.concentrate_au',\n",
    "                  'primary_cleaner.output.concentrate_au',\n",
    "                  'rougher.output.concentrate_au'], kind='hist', bins=100, range=(0,60))\n",
    "plt.title('концентрация золота')\n",
    "plt.show()"
   ]
  },
  {
   "cell_type": "markdown",
   "id": "9879312d",
   "metadata": {},
   "source": [
    "Концентрация золота растет от этапа флотации к этапу первой очистки и к этапу финального концентрата"
   ]
  },
  {
   "cell_type": "code",
   "execution_count": 91,
   "id": "4e61759e",
   "metadata": {},
   "outputs": [
    {
     "data": {
      "image/png": "[encoded data removed]",
      "text/plain": [
       "<Figure size 432x288 with 1 Axes>"
      ]
     },
     "metadata": {
      "needs_background": "light"
     },
     "output_type": "display_data"
    }
   ],
   "source": [
    "# концентрация золота\n",
    "data_full.plot(y=['final.output.concentrate_ag',\n",
    "                  'primary_cleaner.output.concentrate_ag',\n",
    "                  'rougher.output.concentrate_ag'], kind='hist', bins=100, range=(0,20))\n",
    "plt.title('концентрация серебра')\n",
    "plt.show()"
   ]
  },
  {
   "cell_type": "markdown",
   "id": "c48650cb",
   "metadata": {},
   "source": [
    "Концентрация серебра наоборот падает от этапа флотации к финальному концентрату"
   ]
  },
  {
   "cell_type": "code",
   "execution_count": 92,
   "id": "cf866306",
   "metadata": {},
   "outputs": [
    {
     "data": {
      "image/png": "[encoded data removed]",
      "text/plain": [
       "<Figure size 432x288 with 1 Axes>"
      ]
     },
     "metadata": {
      "needs_background": "light"
     },
     "output_type": "display_data"
    }
   ],
   "source": [
    "# концентрация золота\n",
    "data_full.plot(y=['final.output.concentrate_pb',\n",
    "                  'primary_cleaner.output.concentrate_pb',\n",
    "                  'rougher.output.concentrate_pb'], kind='hist', bins=100, range=(0,20))\n",
    "plt.title('концентрация свинца')\n",
    "plt.show()"
   ]
  },
  {
   "cell_type": "markdown",
   "id": "14bf1fce",
   "metadata": {},
   "source": [
    "Концентрация свинца примерно одинаковая на трех этапах, но меньше на первом этапе флотации"
   ]
  },
  {
   "cell_type": "markdown",
   "id": "d7615e0d",
   "metadata": {},
   "source": [
    "**Вывод**\n",
    "\n",
    "Концентрация золота растет от этапа флотации к этапу первой очистки и к этапу финального концентрата.\n",
    "\n",
    "Концентрация серебра наоборот падает от этапа флотации к финальному концентрату.\n",
    "\n",
    "Концентрация свинца примерно одинаковая на трех этапах, но меньше на первом этапе флотации."
   ]
  },
  {
   "cell_type": "markdown",
   "id": "86691a96",
   "metadata": {},
   "source": [
    "## 2.2. Распределение размеров гранул сырья на обучающей и тестовых выборках"
   ]
  },
  {
   "cell_type": "code",
   "execution_count": 93,
   "id": "49da1ee1",
   "metadata": {},
   "outputs": [
    {
     "name": "stdout",
     "output_type": "stream",
     "text": [
      "primary_cleaner.input.feed_size\n",
      "rougher.input.feed_size\n"
     ]
    }
   ],
   "source": [
    "# рассмотрю 3 металла на гистограмме для всех этапов \n",
    "feed_size = []\n",
    "for i in list_columns:\n",
    "    if 'feed_size' in i:\n",
    "        feed_size.append(i)\n",
    "print(*feed_size, sep='\\n')"
   ]
  },
  {
   "cell_type": "code",
   "execution_count": 94,
   "id": "dcc59e24",
   "metadata": {},
   "outputs": [
    {
     "data": {
      "text/plain": [
       "54.65726762443965"
      ]
     },
     "execution_count": 94,
     "metadata": {},
     "output_type": "execute_result"
    }
   ],
   "source": [
    "data_full['rougher.input.feed_size'].median()"
   ]
  },
  {
   "cell_type": "code",
   "execution_count": 95,
   "id": "d29ca57d",
   "metadata": {},
   "outputs": [
    {
     "name": "stderr",
     "output_type": "stream",
     "text": [
      "/opt/conda/lib/python3.7/site-packages/numpy/core/_asarray.py:83: VisibleDeprecationWarning: Creating an ndarray from ragged nested sequences (which is a list-or-tuple of lists-or-tuples-or ndarrays with different lengths or shapes) is deprecated. If you meant to do this, you must specify 'dtype=object' when creating the ndarray\n",
      "  return array(a, dtype, copy=False, order=order)\n"
     ]
    },
    {
     "data": {
      "image/png": "[encoded data removed]",
      "text/plain": [
       "<Figure size 432x288 with 1 Axes>"
      ]
     },
     "metadata": {
      "needs_background": "light"
     },
     "output_type": "display_data"
    }
   ],
   "source": [
    "# буду рассматривать rougher.input.feed_size, так как это сырье на первом этапе - флотации\n",
    "plt.hist([data_train['rougher.input.feed_size'], data_test_new['rougher.input.feed_size']], bins=100, range=(0,100))\n",
    "plt.title('feed_size')\n",
    "plt.legend('train')\n",
    "plt.legend('test')\n",
    "plt.show()"
   ]
  },
  {
   "cell_type": "code",
   "execution_count": 96,
   "id": "ded19a99",
   "metadata": {},
   "outputs": [
    {
     "data": {
      "image/png": "[encoded data removed]",
      "text/plain": [
       "<Figure size 432x288 with 1 Axes>"
      ]
     },
     "metadata": {
      "needs_background": "light"
     },
     "output_type": "display_data"
    },
    {
     "data": {
      "image/png": "[encoded data removed]",
      "text/plain": [
       "<Figure size 432x288 with 1 Axes>"
      ]
     },
     "metadata": {
      "needs_background": "light"
     },
     "output_type": "display_data"
    },
    {
     "data": {
      "image/png": "[encoded data removed]",
      "text/plain": [
       "<Figure size 432x288 with 1 Axes>"
      ]
     },
     "metadata": {
      "needs_background": "light"
     },
     "output_type": "display_data"
    }
   ],
   "source": [
    "stages = ['rougher.input.feed_', \n",
    "          'rougher.output.concentrate_', \n",
    "          'primary_cleaner.output.concentrate_',\n",
    "          'final.output.concentrate_']  \n",
    "\n",
    "def concentrates (metal):\n",
    "    for stage in stages:\n",
    "        stage += metal\n",
    "        sns.distplot(data_full[stage])\n",
    "    plt.legend(['Сырье', 'Флотация', 'Первичная очистка', 'Выходное сырье'])\n",
    "    plt.xlabel(\"Концентрация\")\n",
    "    \n",
    "concentrates('au')\n",
    "plt.title(\"Распределение концентрации золота\")\n",
    "plt.show()\n",
    "concentrates('ag')\n",
    "plt.title(\"Распределение концентрации серебра\")\n",
    "plt.show()\n",
    "concentrates('pb')\n",
    "plt.title(\"Распределение концентрации свинца\")\n",
    "plt.show()"
   ]
  },
  {
   "cell_type": "markdown",
   "id": "823bc56b",
   "metadata": {},
   "source": [
    "**Вывод**\n",
    "\n",
    "Так как распределения находятся в одной области, следовательно, выборки готовы для машинного обучения."
   ]
  },
  {
   "cell_type": "markdown",
   "id": "4e4256b4",
   "metadata": {},
   "source": [
    "## 2.3. Исследование суммарных концентраций веществ на разных стадиях."
   ]
  },
  {
   "cell_type": "code",
   "execution_count": 97,
   "id": "eb4aa779",
   "metadata": {},
   "outputs": [
    {
     "name": "stdout",
     "output_type": "stream",
     "text": [
      "final.output.concentrate_au\n",
      "primary_cleaner.output.concentrate_au\n",
      "rougher.output.concentrate_au\n",
      "\n",
      "final.output.concentrate_ag\n",
      "primary_cleaner.output.concentrate_ag\n",
      "rougher.output.concentrate_ag\n",
      "\n",
      "final.output.concentrate_pb\n",
      "primary_cleaner.output.concentrate_pb\n",
      "rougher.output.concentrate_pb\n"
     ]
    }
   ],
   "source": [
    "print(*concentrate_au, sep='\\n')\n",
    "print()\n",
    "print(*concentrate_ag, sep='\\n')\n",
    "print()\n",
    "print(*concentrate_pb, sep='\\n')"
   ]
  },
  {
   "cell_type": "code",
   "execution_count": 98,
   "id": "bab49d81",
   "metadata": {},
   "outputs": [
    {
     "name": "stdout",
     "output_type": "stream",
     "text": [
      "ЗОЛОТО\n",
      "сырье 384347.9107114744\n",
      "черновой концентрат 624369.0245287112\n",
      "финальный концентрат 856803.3350786205\n",
      "СЕРЕБРО\n",
      "сырье 233166.1271965796\n",
      "черновой концентрат 164111.9706227808\n",
      "финальный концентрат 100468.27426143162\n",
      "СВИНЕЦ\n",
      "сырье 147858.3274961977\n",
      "черновой концентрат 190702.74320765\n",
      "финальный концентрат 193978.30888732593\n"
     ]
    }
   ],
   "source": [
    "total_rougher_au = data_full['rougher.output.concentrate_au'].sum()\n",
    "total_primary_au = data_full['primary_cleaner.output.concentrate_au'].sum()\n",
    "total_final_au = data_full['final.output.concentrate_au'].sum()\n",
    "print('ЗОЛОТО')\n",
    "print('сырье',total_rougher_au)\n",
    "print('черновой концентрат',total_primary_au)\n",
    "print('финальный концентрат',total_final_au)\n",
    "\n",
    "total_rougher_ag = data_full['rougher.output.concentrate_ag'].sum()\n",
    "total_primary_ag = data_full['primary_cleaner.output.concentrate_ag'].sum()\n",
    "total_final_ag = data_full['final.output.concentrate_ag'].sum()\n",
    "print('СЕРЕБРО')\n",
    "print('сырье',total_rougher_ag)\n",
    "print('черновой концентрат',total_primary_ag)\n",
    "print('финальный концентрат',total_final_ag)\n",
    "\n",
    "total_rougher_pb = data_full['rougher.output.concentrate_pb'].sum()\n",
    "total_primary_pb = data_full['primary_cleaner.output.concentrate_pb'].sum()\n",
    "total_final_pb = data_full['final.output.concentrate_pb'].sum()\n",
    "print('СВИНЕЦ')\n",
    "print('сырье',total_rougher_pb)\n",
    "print('черновой концентрат',total_primary_pb)\n",
    "print('финальный концентрат',total_final_pb)"
   ]
  },
  {
   "cell_type": "code",
   "execution_count": 99,
   "id": "623a1d9f",
   "metadata": {},
   "outputs": [
    {
     "data": {
      "text/html": [
       "<div>\n",
       "<style scoped>\n",
       "    .dataframe tbody tr th:only-of-type {\n",
       "        vertical-align: middle;\n",
       "    }\n",
       "\n",
       "    .dataframe tbody tr th {\n",
       "        vertical-align: top;\n",
       "    }\n",
       "\n",
       "    .dataframe thead th {\n",
       "        text-align: right;\n",
       "    }\n",
       "</style>\n",
       "<table border=\"1\" class=\"dataframe\">\n",
       "  <thead>\n",
       "    <tr style=\"text-align: right;\">\n",
       "      <th></th>\n",
       "      <th>au</th>\n",
       "      <th>ag</th>\n",
       "      <th>pb</th>\n",
       "    </tr>\n",
       "  </thead>\n",
       "  <tbody>\n",
       "    <tr>\n",
       "      <td>сырье</td>\n",
       "      <td>384347.910711</td>\n",
       "      <td>233166.127197</td>\n",
       "      <td>147858.327496</td>\n",
       "    </tr>\n",
       "    <tr>\n",
       "      <td>черновой концентрат</td>\n",
       "      <td>624369.024529</td>\n",
       "      <td>164111.970623</td>\n",
       "      <td>190702.743208</td>\n",
       "    </tr>\n",
       "    <tr>\n",
       "      <td>финальный концентрат</td>\n",
       "      <td>856803.335079</td>\n",
       "      <td>100468.274261</td>\n",
       "      <td>193978.308887</td>\n",
       "    </tr>\n",
       "  </tbody>\n",
       "</table>\n",
       "</div>"
      ],
      "text/plain": [
       "                                 au             ag             pb\n",
       "сырье                 384347.910711  233166.127197  147858.327496\n",
       "черновой концентрат   624369.024529  164111.970623  190702.743208\n",
       "финальный концентрат  856803.335079  100468.274261  193978.308887"
      ]
     },
     "metadata": {},
     "output_type": "display_data"
    }
   ],
   "source": [
    "feeds = {'au':[total_rougher_au, total_primary_au, total_final_au], \n",
    "        'ag':[total_rougher_ag, total_primary_ag, total_final_ag], \n",
    "        'pb':[total_rougher_pb, total_primary_pb, total_final_pb]} \n",
    " \n",
    "df_feeds = pd.DataFrame(feeds, index =['сырье', 'черновой концентрат', 'финальный концентрат'])\n",
    "display(df_feeds)"
   ]
  },
  {
   "cell_type": "code",
   "execution_count": 100,
   "id": "dfa743e3",
   "metadata": {},
   "outputs": [
    {
     "data": {
      "image/png": "[encoded data removed]",
      "text/plain": [
       "<Figure size 432x288 with 1 Axes>"
      ]
     },
     "metadata": {
      "needs_background": "light"
     },
     "output_type": "display_data"
    }
   ],
   "source": [
    "df_feeds.plot()\n",
    "plt.show()"
   ]
  },
  {
   "cell_type": "code",
   "execution_count": 101,
   "id": "5986b6b0",
   "metadata": {},
   "outputs": [
    {
     "data": {
      "image/png": "[encoded data removed]",
      "text/plain": [
       "<Figure size 432x288 with 1 Axes>"
      ]
     },
     "metadata": {
      "needs_background": "light"
     },
     "output_type": "display_data"
    },
    {
     "data": {
      "image/png": "[encoded data removed]",
      "text/plain": [
       "<Figure size 432x288 with 1 Axes>"
      ]
     },
     "metadata": {
      "needs_background": "light"
     },
     "output_type": "display_data"
    },
    {
     "data": {
      "image/png": "[encoded data removed]",
      "text/plain": [
       "<Figure size 432x288 with 1 Axes>"
      ]
     },
     "metadata": {
      "needs_background": "light"
     },
     "output_type": "display_data"
    }
   ],
   "source": [
    "#определим параметры этапов обработки\n",
    "stages = ['rougher.output.concentrate_', \n",
    "          'primary_cleaner.output.concentrate_',\n",
    "          'final.output.concentrate_']  \n",
    "\n",
    "def feeds(metal):\n",
    "    for stage in stages:\n",
    "        stage += metal\n",
    "        sns.distplot(data_full[stage])\n",
    "    plt.legend(['Флотация', 'Первичная очистка', 'Выходное сырье'])\n",
    "    plt.xlabel(\"Концентрация\")\n",
    "    \n",
    "feeds('au')\n",
    "plt.title(\"Распределение концентрации золота\")\n",
    "plt.show()\n",
    "feeds('ag')\n",
    "plt.title(\"Распределение концентрации серебра\")\n",
    "plt.show()\n",
    "feeds('pb')\n",
    "plt.title(\"Распределение концентрации свинца\")\n",
    "plt.show()"
   ]
  },
  {
   "cell_type": "markdown",
   "id": "204e5ef3",
   "metadata": {},
   "source": [
    "**Вывод**\n",
    "\n",
    "    У золота растет концентрация от первого к последнему этапу, что логично, так как металлы отчищаются, масса сырья уменьшается, а чистое вещество сохраняется.\n",
    "    То же самое происходит и со свинцом, а вот у серебра наоборот концентрация уменьшается."
   ]
  },
  {
   "attachments": {
    "image.png": {
     "image/png": "[encoded data removed]"
    }
   },
   "cell_type": "markdown",
   "id": "ecd6c9f3",
   "metadata": {},
   "source": [
    "![image.png](attachment:image.png)"
   ]
  },
  {
   "cell_type": "markdown",
   "id": "e1144dad",
   "metadata": {},
   "source": [
    "# 3. Построение модели"
   ]
  },
  {
   "cell_type": "markdown",
   "id": "53acf1b2",
   "metadata": {},
   "source": [
    "## 3.1. Функция вычисления для вычисления итоговой sMAPE"
   ]
  },
  {
   "cell_type": "code",
   "execution_count": 140,
   "id": "ef5a2032",
   "metadata": {},
   "outputs": [],
   "source": [
    "# сначала пишу функцию smape, \n",
    "def smape(target, predictions):\n",
    "    summa = 0\n",
    "    target = np.array(target)\n",
    "    for i in range(len(target)):\n",
    "        if (target[i] != 0) or (predictions[i] != 0):\n",
    "            summa += 2 * abs(target[i]-predictions[i]) / (abs(target[i])+abs(predictions[i]))\n",
    "    smape = 1/(len(target)+1) * summa * 100\n",
    "    return smape"
   ]
  },
  {
   "cell_type": "markdown",
   "id": "1ad0b928",
   "metadata": {},
   "source": [
    "## 3.2. Кроссвалидация и выбор лучшей модели"
   ]
  },
  {
   "cell_type": "code",
   "execution_count": 103,
   "id": "db31df96",
   "metadata": {},
   "outputs": [],
   "source": [
    "STATE = 12345"
   ]
  },
  {
   "cell_type": "code",
   "execution_count": 141,
   "id": "f91a7f7b",
   "metadata": {},
   "outputs": [],
   "source": [
    "features_train_rougher = data_train_new.drop(['date', 'rougher.output.recovery', 'final.output.recovery'], axis=1)\n",
    "target_train_rougher = data_train_new['rougher.output.recovery']\n",
    "\n",
    "features_test_rougher = data_test_new.drop(['date', 'rougher.output.recovery', 'final.output.recovery'], axis=1)\n",
    "target_test_rougher = data_test_new['rougher.output.recovery']\n",
    "\n",
    "features_train_final = data_train_new.drop(['date', 'rougher.output.recovery', 'final.output.recovery'], axis=1)\n",
    "target_train_final = data_train_new['final.output.recovery']\n",
    "\n",
    "features_test_final = data_test_new.drop(['date', 'rougher.output.recovery', 'final.output.recovery'], axis=1)\n",
    "target_test_final = data_test_new['final.output.recovery']"
   ]
  },
  {
   "cell_type": "code",
   "execution_count": 142,
   "id": "edc2bc69",
   "metadata": {},
   "outputs": [
    {
     "data": {
      "text/plain": [
       "(14149, 52)"
      ]
     },
     "execution_count": 142,
     "metadata": {},
     "output_type": "execute_result"
    }
   ],
   "source": [
    "features_train_rougher.shape"
   ]
  },
  {
   "cell_type": "code",
   "execution_count": 201,
   "id": "eea19274",
   "metadata": {},
   "outputs": [
    {
     "name": "stdout",
     "output_type": "stream",
     "text": [
      "8.724522955405769\n"
     ]
    }
   ],
   "source": [
    "# константная модель для rougher\n",
    "dummy_regressor_rougher = DummyRegressor(strategy='median') \n",
    "dummy_regressor_rougher.fit(features_train_rougher, target_train_rougher) \n",
    "dummy_rougher_pred = dummy_regressor_rougher.predict(features_test_rougher) \n",
    "smape_dummy_rougher = smape(target_test_rougher, dummy_rougher_pred) \n",
    "print(smape_dummy_rougher)"
   ]
  },
  {
   "cell_type": "code",
   "execution_count": 202,
   "id": "ae99f2ab",
   "metadata": {},
   "outputs": [
    {
     "name": "stdout",
     "output_type": "stream",
     "text": [
      "9.294649368550182\n"
     ]
    }
   ],
   "source": [
    "# константная модель для final\n",
    "dummy_regressor_final = DummyRegressor(strategy='median') \n",
    "dummy_regressor_final.fit(features_train_final, target_train_final) \n",
    "dummy_final_pred = dummy_regressor_final.predict(features_test_final) \n",
    "smape_dummy_final = smape(target_test_final, dummy_final_pred) \n",
    "print(smape_dummy_final)"
   ]
  },
  {
   "cell_type": "markdown",
   "id": "9f0aa73c",
   "metadata": {},
   "source": [
    "************"
   ]
  },
  {
   "cell_type": "code",
   "execution_count": 184,
   "id": "9777261c",
   "metadata": {},
   "outputs": [],
   "source": [
    "data_train = pd.read_csv('/datasets/gold_recovery_train_new.csv')\n",
    "data_test = pd.read_csv('/datasets/gold_recovery_test_new.csv')\n",
    "data_full = pd.read_csv('/datasets/gold_recovery_full_new.csv')"
   ]
  },
  {
   "cell_type": "code",
   "execution_count": 196,
   "id": "92fbab82",
   "metadata": {},
   "outputs": [],
   "source": [
    "data_test_new = data_test.dropna()#fillna(method='pad')\n",
    "data_train_new = data_train.dropna()#fillna(method='pad')"
   ]
  },
  {
   "cell_type": "code",
   "execution_count": 197,
   "id": "9bd7923d",
   "metadata": {},
   "outputs": [],
   "source": [
    "target_full = data_full[['date','rougher.output.recovery', 'final.output.recovery']]\n",
    "data_test_new = data_test_new.merge(target_full, how='left', on='date')"
   ]
  },
  {
   "cell_type": "code",
   "execution_count": 198,
   "id": "f4ecace4",
   "metadata": {},
   "outputs": [],
   "source": [
    "data_train_new = data_train_new[data_test_new.columns]"
   ]
  },
  {
   "cell_type": "code",
   "execution_count": 199,
   "id": "d833eaf5",
   "metadata": {},
   "outputs": [],
   "source": [
    "features_train_rougher = data_train_new.drop(['date', 'rougher.output.recovery', 'final.output.recovery'], axis=1)\n",
    "target_train_rougher = data_train_new['rougher.output.recovery']\n",
    "\n",
    "features_test_rougher = data_test_new.drop(['date', 'rougher.output.recovery', 'final.output.recovery'], axis=1)\n",
    "target_test_rougher = data_test_new['rougher.output.recovery']\n",
    "\n",
    "features_train_final = data_train_new.drop(['date', 'rougher.output.recovery', 'final.output.recovery'], axis=1)\n",
    "target_train_final = data_train_new['final.output.recovery']\n",
    "\n",
    "features_test_final = data_test_new.drop(['date', 'rougher.output.recovery', 'final.output.recovery'], axis=1)\n",
    "target_test_final = data_test_new['final.output.recovery']"
   ]
  },
  {
   "cell_type": "code",
   "execution_count": 192,
   "id": "3267aeb9",
   "metadata": {},
   "outputs": [
    {
     "name": "stdout",
     "output_type": "stream",
     "text": [
      "13.22656847638351\n"
     ]
    }
   ],
   "source": [
    "# трейн\n",
    "linear = LinearRegression()\n",
    "\n",
    "scores = cross_val_score(linear,\n",
    "                         features_train_rougher,\n",
    "                         target_train_rougher,\n",
    "                         scoring=make_scorer(smape, greater_is_better=False),\n",
    "                         cv=3\n",
    "                        )\n",
    "print((-1)*scores.mean())"
   ]
  },
  {
   "cell_type": "code",
   "execution_count": 191,
   "id": "0238263f",
   "metadata": {},
   "outputs": [
    {
     "name": "stdout",
     "output_type": "stream",
     "text": [
      "14.78373660198423\n"
     ]
    }
   ],
   "source": [
    "# трейн\n",
    "forest = RandomForestRegressor(n_estimators=40, random_state=STATE)\n",
    "\n",
    "scores = cross_val_score(forest, \n",
    "                         features_train_rougher, \n",
    "                         target_train_rougher,\n",
    "                         scoring=make_scorer(smape, greater_is_better=False),\n",
    "                         cv=3\n",
    "                        )\n",
    "print((-1)*scores.mean())"
   ]
  },
  {
   "cell_type": "markdown",
   "id": "52f4ea2d",
   "metadata": {},
   "source": [
    "************"
   ]
  },
  {
   "cell_type": "code",
   "execution_count": 190,
   "id": "63fc021e",
   "metadata": {
    "scrolled": true
   },
   "outputs": [
    {
     "name": "stdout",
     "output_type": "stream",
     "text": [
      "22.956318427471704\n"
     ]
    }
   ],
   "source": [
    "# трейн\n",
    "tree = DecisionTreeRegressor(random_state=STATE)\n",
    "\n",
    "scores = cross_val_score(tree,\n",
    "                         features_train_rougher,\n",
    "                         target_train_rougher,\n",
    "                         scoring=make_scorer(smape, greater_is_better=False),\n",
    "                         cv=3\n",
    "                        )\n",
    "print((-1)*scores.mean())"
   ]
  },
  {
   "cell_type": "code",
   "execution_count": 146,
   "id": "b3893730",
   "metadata": {},
   "outputs": [
    {
     "data": {
      "text/plain": [
       "array([-20.4447587 , -17.82418648, -17.44743614])"
      ]
     },
     "execution_count": 146,
     "metadata": {},
     "output_type": "execute_result"
    }
   ],
   "source": [
    "scores"
   ]
  },
  {
   "cell_type": "code",
   "execution_count": 47,
   "id": "58e463df",
   "metadata": {
    "scrolled": true
   },
   "outputs": [
    {
     "name": "stdout",
     "output_type": "stream",
     "text": [
      "15.565802372755753\n"
     ]
    }
   ],
   "source": [
    "# трейн\n",
    "forest = RandomForestRegressor(n_estimators=40, random_state=STATE)\n",
    "\n",
    "scores = cross_val_score(forest, \n",
    "                         features_train_rougher, \n",
    "                         target_train_rougher,\n",
    "                         scoring=make_scorer(smape, greater_is_better=False),\n",
    "                         cv=3\n",
    "                        )\n",
    "print((-1)*scores.mean())"
   ]
  },
  {
   "cell_type": "code",
   "execution_count": 48,
   "id": "d6e204ad",
   "metadata": {},
   "outputs": [
    {
     "name": "stdout",
     "output_type": "stream",
     "text": [
      "17.159384731803097\n"
     ]
    }
   ],
   "source": [
    "# трейн\n",
    "linear = LinearRegression()\n",
    "\n",
    "scores = cross_val_score(linear,\n",
    "                         features_train_rougher,\n",
    "                         target_train_rougher,\n",
    "                         scoring=make_scorer(smape, greater_is_better=False),\n",
    "                         cv=3\n",
    "                        )\n",
    "print((-1)*scores.mean())"
   ]
  },
  {
   "cell_type": "markdown",
   "id": "3f991384",
   "metadata": {},
   "source": [
    "Каждая модель показала наилучшие результаты на трейне, все они выше метрики константой модели:\n",
    "\n",
    "    DecisionTreeRegressor 18.572127107778098\n",
    "    RandomForestRegressor 15.565802372755753\n",
    "    LinearRegression 17.159384731803097\n",
    "    \n",
    "Но лучше всех себя показала модель DecisionTreeRegressor, поэтому именно ее и будем проверять на тесте"
   ]
  },
  {
   "cell_type": "code",
   "execution_count": 193,
   "id": "25e42492",
   "metadata": {},
   "outputs": [],
   "source": [
    "features_train = data_train_new.drop(['date', 'rougher.output.recovery', 'final.output.recovery'], axis=1)\n",
    "features_test = data_test_new.drop(['date', 'rougher.output.recovery', 'final.output.recovery'], axis=1)\n",
    "\n",
    "target_train_rougher = data_train_new['rougher.output.recovery']\n",
    "target_train_final = data_train_new['final.output.recovery']\n",
    "\n",
    "target_test_rougher = data_test_new['rougher.output.recovery']\n",
    "target_test_final = data_test_new['final.output.recovery']"
   ]
  },
  {
   "cell_type": "code",
   "execution_count": 50,
   "id": "903c15ba",
   "metadata": {},
   "outputs": [
    {
     "name": "stdout",
     "output_type": "stream",
     "text": [
      "18.572127107778098\n"
     ]
    }
   ],
   "source": [
    "# трейн\n",
    "tree = DecisionTreeRegressor(random_state=STATE)\n",
    "\n",
    "scores = cross_val_score(tree,\n",
    "                         features_train,\n",
    "                         target_train_rougher,\n",
    "                         scoring=make_scorer(smape, greater_is_better=False),\n",
    "                         cv=3\n",
    "                        )\n",
    "smape_rougher_train = (-1)*scores.mean()\n",
    "print(smape_rougher_train)"
   ]
  },
  {
   "cell_type": "code",
   "execution_count": 51,
   "id": "b9cbc37c",
   "metadata": {},
   "outputs": [
    {
     "name": "stdout",
     "output_type": "stream",
     "text": [
      "21.17378378157816\n"
     ]
    }
   ],
   "source": [
    "# тест\n",
    "tree = DecisionTreeRegressor(random_state=STATE)\n",
    "\n",
    "scores = cross_val_score(tree,\n",
    "                         features_test,\n",
    "                         target_test_rougher,\n",
    "                         scoring=make_scorer(smape, greater_is_better=False),\n",
    "                         cv=3\n",
    "                        )\n",
    "smape_rougher_test = (-1)*scores.mean()\n",
    "print(smape_rougher_test)"
   ]
  },
  {
   "cell_type": "code",
   "execution_count": 52,
   "id": "422d239d",
   "metadata": {},
   "outputs": [
    {
     "name": "stdout",
     "output_type": "stream",
     "text": [
      "20.297626055510644\n"
     ]
    }
   ],
   "source": [
    "# трейн\n",
    "tree = DecisionTreeRegressor(random_state=STATE)\n",
    "\n",
    "scores = cross_val_score(tree,\n",
    "                         features_train,\n",
    "                         target_train_final,\n",
    "                         scoring=make_scorer(smape, greater_is_better=False),\n",
    "                         cv=3\n",
    "                        )\n",
    "smape_final_train = (-1)*scores.mean()\n",
    "print(smape_final_train)"
   ]
  },
  {
   "cell_type": "code",
   "execution_count": 53,
   "id": "4c0b15c4",
   "metadata": {},
   "outputs": [
    {
     "name": "stdout",
     "output_type": "stream",
     "text": [
      "19.265109013043062\n"
     ]
    }
   ],
   "source": [
    "# тест\n",
    "tree = DecisionTreeRegressor(random_state=STATE)\n",
    "\n",
    "scores = cross_val_score(tree,\n",
    "                         features_test,\n",
    "                         target_test_final,\n",
    "                         scoring=make_scorer(smape, greater_is_better=False),\n",
    "                         cv=3\n",
    "                        )\n",
    "smape_final_test = (-1)*scores.mean()\n",
    "print(smape_final_test)"
   ]
  },
  {
   "cell_type": "code",
   "execution_count": 54,
   "id": "81810e5c",
   "metadata": {},
   "outputs": [
    {
     "name": "stdout",
     "output_type": "stream",
     "text": [
      "total_smape_train 19.866251318577508\n",
      "total_smape_test 19.74227770517684\n"
     ]
    }
   ],
   "source": [
    "total_smape_train = 0.25 * smape_rougher_train + 0.75 * smape_final_train\n",
    "print('total_smape_train', total_smape_train)\n",
    "\n",
    "total_smape_test = 0.25 * smape_rougher_test + 0.75 * smape_final_test\n",
    "print('total_smape_test', total_smape_test)"
   ]
  },
  {
   "cell_type": "markdown",
   "id": "be528c65",
   "metadata": {},
   "source": [
    "Лучше всего себя показала модель DecisionTreeRegressor, с помощью нее посчитала итоговую smape, она получилась равная \n",
    "\n",
    "    total_smape_train 19.866251318577508\n",
    "    total_smape_test 19.74227770517684"
   ]
  },
  {
   "cell_type": "markdown",
   "id": "6ccd0d74",
   "metadata": {},
   "source": [
    "### КОД ЛУЧШИХ МОДЕЛЕЙ"
   ]
  },
  {
   "cell_type": "code",
   "execution_count": 58,
   "id": "c36a486b",
   "metadata": {},
   "outputs": [
    {
     "name": "stdout",
     "output_type": "stream",
     "text": [
      "sMAPE для модели случайного леса для чернового концентрата: 11.045357189677087\n",
      "sMAPE для модели случайного леса для финального концентрата: 10.140999309253342\n",
      "Итоговое sMAPE для модели случайного леса: 10.367088779359278\n",
      "CPU times: user 4 µs, sys: 0 ns, total: 4 µs\n",
      "Wall time: 13.8 µs\n",
      "sMAPE для модели случайного леса для чернового концентрата на тестовой выборке: 11.898830751034293\n",
      "sMAPE для модели случайного леса для финального концентрата на тестовой выборке: 11.298167847039739\n",
      "Итоговое sMAPE для модели случайного леса на тестовой выборке: 11.44833357303838\n",
      "CPU times: user 4 µs, sys: 0 ns, total: 4 µs\n",
      "Wall time: 7.39 µs\n"
     ]
    }
   ],
   "source": [
    "my_scorer=make_scorer(smape, greater_is_better=False)\n",
    "\n",
    "model_forest = RandomForestRegressor(max_depth=5, n_estimators=50, random_state=STATE)\n",
    "\n",
    "scores_rougher_forest = abs(cross_val_score(\n",
    "    model_forest, features_train, target_train_rougher, cv=5, scoring=my_scorer).mean())  \n",
    "\n",
    "print('sMAPE для модели случайного леса для чернового концентрата:', scores_rougher_forest)\n",
    "\n",
    "scores_final_forest = abs(cross_val_score(\n",
    "    model_forest, features_train, target_train_final, cv=5, scoring=my_scorer).mean())\n",
    "\n",
    "print('sMAPE для модели случайного леса для финального концентрата:', scores_final_forest)\n",
    "\n",
    "final_smape_forest = 0.25 * scores_rougher_forest + 0.75 * scores_final_forest\n",
    "\n",
    "print('Итоговое sMAPE для модели случайного леса:', final_smape_forest)\n",
    "%time\n",
    "\n",
    "\n",
    "# посчитаем sMAPE на тестовой выборке, вызвав функцию cross_value_score с пятью блоками, \n",
    "# для модели случайного леса для чернового и финального концентрата и итоговый sMAPE\n",
    "\n",
    "model_forest = RandomForestRegressor(max_depth=5, n_estimators=50, random_state=STATE)\n",
    "\n",
    "scores_rougher_forest_test = abs(cross_val_score(\n",
    "    model_forest, features_test, target_test_rougher, cv=5, scoring=my_scorer).mean())  \n",
    "\n",
    "print('sMAPE для модели случайного леса для чернового концентрата на тестовой выборке:', scores_rougher_forest_test)\n",
    "\n",
    "scores_final_forest_test = abs(cross_val_score(\n",
    "    model_forest, features_test, target_test_final, cv=5, scoring=my_scorer).mean())\n",
    "\n",
    "print('sMAPE для модели случайного леса для финального концентрата на тестовой выборке:', scores_final_forest_test)\n",
    "\n",
    "final_smape_forest_test = 0.25 * scores_rougher_forest_test + 0.75 * scores_final_forest_test\n",
    "\n",
    "print('Итоговое sMAPE для модели случайного леса на тестовой выборке:', final_smape_forest_test)\n",
    "%time"
   ]
  },
  {
   "cell_type": "markdown",
   "id": "a4e59fed",
   "metadata": {},
   "source": [
    "*******"
   ]
  },
  {
   "cell_type": "markdown",
   "id": "6795647a",
   "metadata": {},
   "source": [
    "# 4. Общий вывод"
   ]
  },
  {
   "cell_type": "markdown",
   "id": "31c04265",
   "metadata": {},
   "source": [
    "**Подготовка данных**\n",
    "\n",
    "На первом этапе:\n",
    "- были прочитаны данные \n",
    "- проверено, верно ли расчитана эффективность rougher.output.recovery \n",
    "        для этого была написана функция с формулой эффективности \n",
    "        recovery = c * (f - t) / (f * (c - t)) * 100, \n",
    "        и в нее были подставлены значения:\n",
    "        c = rougher.output.concentrate_au - доля золота в концентрате после флотации rougher.output.concentrate_au\n",
    "        f = rougher.input.feed_au - доля золота в сырье до флотации rougher.input.feed_au\n",
    "        t = rougher.output.tail_au - доля золота в отвальных хвостах после флотации rougher.output.tail_au\n",
    "- проверены недостающие признаки в data_test - это столбцы этапа output\n",
    "- проведена предобработка данных: \n",
    "        * замена пропусков на предыдущие существующие значения во всех трех выборках\n",
    "        * заполнение недостающих столбцов в data_test, полученных из data_full по индекасам-датам из тестовой выборки\n",
    "        * проверка отсутствия дубликатов\n",
    "        \n",
    "**Анализ данных**\n",
    "\n",
    "Анализ концентрации металлов на разных этапах:\n",
    "\n",
    "    Концентрация золота растет от этапа флотации к этапу первой очистки и к этапу финального концентрата.\n",
    "    Концентрация серебра наоборот падает от этапа флотации к финальному концентрату.\n",
    "    Концентрация свинца примерно одинаковая на трех этапах, но меньше на первом этапе флотации.\n",
    "    \n",
    "Анализ распределения размеров гранул сырья на тестовой и обучающей выборке:\n",
    "\n",
    "    Распределения находятся в одной области, следовательно, следовательно, выборки готовы для машинного обучения\n",
    "    \n",
    "Анализ суммарной концентрации веществ на разных этапах:\n",
    "\n",
    "    У золота растет концентрация от первого к последнему этапу, что логично, так как металлы отчищаются, масса сырья уменьшается, а чистое вещество сохраняется.\n",
    "    То же самое происходит и со свинцом, а вот у серебра наоборот концентрация уменьшается.\n",
    "    \n",
    "**Построение модели**\n",
    "\n",
    "Написала функцию расчета sMAPE, через нее кроссвалидацией прогнала три модели, но перед этим получила метрику на DummyRegressor, она получилась равная 8.626098625473407\n",
    "    \n",
    "Каждая модель показала наилучшие результаты на трейне, все они выше константной модели:\n",
    "\n",
    "    DecisionTreeRegressor 18.572127107778098\n",
    "    RandomForestRegressor 15.565802372755753\n",
    "    LinearRegression 17.159384731803097\n",
    "    \n",
    "Но лучше всех себя показала модель DecisionTreeRegressor, поэтому именно ее и проверяла на тесте, она показала следующие результаты для smape_rougher и smape_final\n",
    "\n",
    "    smape_rougher = 18.572127107778098\n",
    "    smape_final = 20.297626055510644\n",
    "    \n",
    "И подставила эти значения в формулу итоговой sMAPE:\n",
    "\n",
    "    total_smape = 19.866251318577508"
   ]
  }
 ],
 "metadata": {
  "ExecuteTimeLog": [
   {
    "duration": 1144,
    "start_time": "2022-03-14T02:02:06.159Z"
   },
   {
    "duration": 1846,
    "start_time": "2022-03-14T02:02:07.305Z"
   },
   {
    "duration": 704,
    "start_time": "2022-03-14T02:02:28.874Z"
   },
   {
    "duration": 35,
    "start_time": "2022-03-14T02:02:50.595Z"
   },
   {
    "duration": 25,
    "start_time": "2022-03-14T02:02:51.095Z"
   },
   {
    "duration": 27,
    "start_time": "2022-03-14T02:02:51.595Z"
   },
   {
    "duration": 13,
    "start_time": "2022-03-14T02:03:18.596Z"
   },
   {
    "duration": 6,
    "start_time": "2022-03-14T02:03:19.341Z"
   },
   {
    "duration": 5,
    "start_time": "2022-03-14T02:03:20.364Z"
   },
   {
    "duration": 418,
    "start_time": "2022-03-14T02:03:21.260Z"
   },
   {
    "duration": 17,
    "start_time": "2022-03-14T02:03:22.110Z"
   },
   {
    "duration": 4,
    "start_time": "2022-03-14T02:03:22.505Z"
   },
   {
    "duration": 5,
    "start_time": "2022-03-14T02:03:47.628Z"
   },
   {
    "duration": 4,
    "start_time": "2022-03-14T02:03:48.895Z"
   },
   {
    "duration": 10,
    "start_time": "2022-03-14T02:04:20.922Z"
   },
   {
    "duration": 23,
    "start_time": "2022-03-14T02:04:23.011Z"
   },
   {
    "duration": 13,
    "start_time": "2022-03-14T02:04:23.613Z"
   },
   {
    "duration": 8,
    "start_time": "2022-03-14T02:04:24.463Z"
   },
   {
    "duration": 16,
    "start_time": "2022-03-14T02:04:27.286Z"
   },
   {
    "duration": 5,
    "start_time": "2022-03-14T02:04:34.536Z"
   },
   {
    "duration": 14,
    "start_time": "2022-03-14T02:04:35.029Z"
   },
   {
    "duration": 93,
    "start_time": "2022-03-14T02:04:35.571Z"
   },
   {
    "duration": 5,
    "start_time": "2022-03-14T02:05:48.742Z"
   },
   {
    "duration": 4,
    "start_time": "2022-03-14T02:05:49.372Z"
   },
   {
    "duration": 785,
    "start_time": "2022-03-14T02:05:49.950Z"
   },
   {
    "duration": 847,
    "start_time": "2022-03-14T02:05:50.870Z"
   },
   {
    "duration": 774,
    "start_time": "2022-03-14T02:05:51.719Z"
   },
   {
    "duration": 4,
    "start_time": "2022-03-14T02:06:33.910Z"
   },
   {
    "duration": 5,
    "start_time": "2022-03-14T02:06:34.377Z"
   },
   {
    "duration": 535,
    "start_time": "2022-03-14T02:06:34.838Z"
   },
   {
    "duration": 4,
    "start_time": "2022-03-14T02:09:11.514Z"
   },
   {
    "duration": 13,
    "start_time": "2022-03-14T02:09:12.124Z"
   },
   {
    "duration": 9,
    "start_time": "2022-03-14T02:09:12.689Z"
   },
   {
    "duration": 164,
    "start_time": "2022-03-14T02:09:14.634Z"
   },
   {
    "duration": 4,
    "start_time": "2022-03-14T02:10:23.944Z"
   },
   {
    "duration": 3,
    "start_time": "2022-03-14T02:10:31.728Z"
   },
   {
    "duration": 8,
    "start_time": "2022-03-14T02:10:32.141Z"
   },
   {
    "duration": 3876,
    "start_time": "2022-03-14T02:10:32.315Z"
   },
   {
    "duration": 90730,
    "start_time": "2022-03-14T02:10:36.193Z"
   },
   {
    "duration": 1342,
    "start_time": "2022-03-14T02:12:06.925Z"
   },
   {
    "duration": 7,
    "start_time": "2022-03-14T02:12:08.270Z"
   },
   {
    "duration": 901,
    "start_time": "2022-03-14T02:12:08.363Z"
   },
   {
    "duration": 1097,
    "start_time": "2022-03-14T02:12:09.266Z"
   },
   {
    "duration": 3,
    "start_time": "2022-03-14T02:12:10.365Z"
   },
   {
    "duration": 257,
    "start_time": "2022-03-14T12:12:16.705Z"
   },
   {
    "duration": 1247,
    "start_time": "2022-03-14T12:12:30.028Z"
   },
   {
    "duration": 694,
    "start_time": "2022-03-14T12:12:31.277Z"
   },
   {
    "duration": 31,
    "start_time": "2022-03-14T12:12:32.667Z"
   },
   {
    "duration": 24,
    "start_time": "2022-03-14T12:12:33.145Z"
   },
   {
    "duration": 28,
    "start_time": "2022-03-14T12:12:33.561Z"
   },
   {
    "duration": 11,
    "start_time": "2022-03-14T12:12:34.870Z"
   },
   {
    "duration": 6,
    "start_time": "2022-03-14T12:12:35.232Z"
   },
   {
    "duration": 5,
    "start_time": "2022-03-14T12:12:35.584Z"
   },
   {
    "duration": 412,
    "start_time": "2022-03-14T12:12:36.028Z"
   },
   {
    "duration": 25,
    "start_time": "2022-03-14T12:12:36.442Z"
   },
   {
    "duration": 4,
    "start_time": "2022-03-14T12:12:36.568Z"
   },
   {
    "duration": 6,
    "start_time": "2022-03-14T12:12:37.667Z"
   },
   {
    "duration": 8,
    "start_time": "2022-03-14T12:12:38.417Z"
   },
   {
    "duration": 9,
    "start_time": "2022-03-14T12:12:41.189Z"
   },
   {
    "duration": 22,
    "start_time": "2022-03-14T12:12:41.853Z"
   },
   {
    "duration": 14,
    "start_time": "2022-03-14T12:12:42.732Z"
   },
   {
    "duration": 8,
    "start_time": "2022-03-14T12:12:45.505Z"
   },
   {
    "duration": 16,
    "start_time": "2022-03-14T12:12:45.739Z"
   },
   {
    "duration": 4,
    "start_time": "2022-03-14T12:12:46.428Z"
   },
   {
    "duration": 13,
    "start_time": "2022-03-14T12:12:47.128Z"
   },
   {
    "duration": 3,
    "start_time": "2022-03-14T12:12:47.949Z"
   },
   {
    "duration": 5,
    "start_time": "2022-03-14T12:12:58.597Z"
   },
   {
    "duration": 46,
    "start_time": "2022-03-14T12:14:21.905Z"
   },
   {
    "duration": 15,
    "start_time": "2022-03-14T12:14:38.844Z"
   },
   {
    "duration": 44,
    "start_time": "2022-03-14T12:15:14.785Z"
   },
   {
    "duration": 34,
    "start_time": "2022-03-14T12:15:18.591Z"
   },
   {
    "duration": 9,
    "start_time": "2022-03-14T12:16:27.312Z"
   },
   {
    "duration": 27,
    "start_time": "2022-03-14T12:16:59.563Z"
   },
   {
    "duration": 5,
    "start_time": "2022-03-14T12:17:19.001Z"
   },
   {
    "duration": 1155,
    "start_time": "2022-03-14T12:17:26.054Z"
   },
   {
    "duration": 716,
    "start_time": "2022-03-14T12:17:27.211Z"
   },
   {
    "duration": 40,
    "start_time": "2022-03-14T12:17:27.929Z"
   },
   {
    "duration": 26,
    "start_time": "2022-03-14T12:17:27.971Z"
   },
   {
    "duration": 31,
    "start_time": "2022-03-14T12:17:27.999Z"
   },
   {
    "duration": 37,
    "start_time": "2022-03-14T12:17:28.032Z"
   },
   {
    "duration": 7,
    "start_time": "2022-03-14T12:17:28.071Z"
   },
   {
    "duration": 5,
    "start_time": "2022-03-14T12:17:28.080Z"
   },
   {
    "duration": 451,
    "start_time": "2022-03-14T12:17:28.087Z"
   },
   {
    "duration": 25,
    "start_time": "2022-03-14T12:17:28.540Z"
   },
   {
    "duration": 5,
    "start_time": "2022-03-14T12:17:28.566Z"
   },
   {
    "duration": 8,
    "start_time": "2022-03-14T12:17:28.572Z"
   },
   {
    "duration": 6,
    "start_time": "2022-03-14T12:17:29.346Z"
   },
   {
    "duration": 10,
    "start_time": "2022-03-14T12:17:33.434Z"
   },
   {
    "duration": 23,
    "start_time": "2022-03-14T12:17:35.821Z"
   },
   {
    "duration": 14,
    "start_time": "2022-03-14T12:17:36.895Z"
   },
   {
    "duration": 8,
    "start_time": "2022-03-14T12:17:37.975Z"
   },
   {
    "duration": 15,
    "start_time": "2022-03-14T12:17:38.547Z"
   },
   {
    "duration": 5,
    "start_time": "2022-03-14T12:17:40.181Z"
   },
   {
    "duration": 2,
    "start_time": "2022-03-14T12:17:40.747Z"
   },
   {
    "duration": 6,
    "start_time": "2022-03-14T12:17:41.839Z"
   },
   {
    "duration": 20,
    "start_time": "2022-03-14T12:17:42.678Z"
   },
   {
    "duration": 30,
    "start_time": "2022-03-14T12:17:43.911Z"
   },
   {
    "duration": 516,
    "start_time": "2022-03-14T12:18:05.237Z"
   },
   {
    "duration": 97,
    "start_time": "2022-03-14T12:19:09.017Z"
   },
   {
    "duration": 423,
    "start_time": "2022-03-14T12:19:14.787Z"
   },
   {
    "duration": 433,
    "start_time": "2022-03-14T12:19:33.981Z"
   },
   {
    "duration": 3,
    "start_time": "2022-03-14T12:19:49.867Z"
   },
   {
    "duration": 4,
    "start_time": "2022-03-14T12:20:28.985Z"
   },
   {
    "duration": 339,
    "start_time": "2022-03-14T12:20:42.661Z"
   },
   {
    "duration": 28,
    "start_time": "2022-03-14T12:21:02.433Z"
   },
   {
    "duration": 28,
    "start_time": "2022-03-14T12:21:14.991Z"
   },
   {
    "duration": 37,
    "start_time": "2022-03-14T12:21:38.768Z"
   },
   {
    "duration": 15,
    "start_time": "2022-03-14T12:27:12.499Z"
   },
   {
    "duration": 533,
    "start_time": "2022-03-14T12:30:30.360Z"
   },
   {
    "duration": 4,
    "start_time": "2022-03-14T12:30:38.699Z"
   },
   {
    "duration": 4,
    "start_time": "2022-03-14T12:32:59.857Z"
   },
   {
    "duration": 3,
    "start_time": "2022-03-14T12:33:24.964Z"
   },
   {
    "duration": 3,
    "start_time": "2022-03-14T12:35:13.146Z"
   },
   {
    "duration": 4,
    "start_time": "2022-03-14T12:35:28.494Z"
   },
   {
    "duration": 4,
    "start_time": "2022-03-14T12:35:32.541Z"
   },
   {
    "duration": 4,
    "start_time": "2022-03-14T12:36:17.294Z"
   },
   {
    "duration": 391,
    "start_time": "2022-03-14T12:37:00.893Z"
   },
   {
    "duration": 346,
    "start_time": "2022-03-14T12:37:13.343Z"
   },
   {
    "duration": 2,
    "start_time": "2022-03-14T12:37:36.546Z"
   },
   {
    "duration": 4,
    "start_time": "2022-03-14T12:37:40.680Z"
   },
   {
    "duration": 274,
    "start_time": "2022-03-14T12:37:42.964Z"
   },
   {
    "duration": 288,
    "start_time": "2022-03-14T12:37:56.092Z"
   },
   {
    "duration": 4,
    "start_time": "2022-03-14T12:40:24.867Z"
   },
   {
    "duration": 9,
    "start_time": "2022-03-14T12:40:51.468Z"
   },
   {
    "duration": 17,
    "start_time": "2022-03-14T12:40:58.253Z"
   },
   {
    "duration": 28,
    "start_time": "2022-03-14T12:41:02.675Z"
   },
   {
    "duration": 39,
    "start_time": "2022-03-14T12:41:40.032Z"
   },
   {
    "duration": 18,
    "start_time": "2022-03-14T12:43:45.750Z"
   },
   {
    "duration": 48,
    "start_time": "2022-03-14T12:43:50.667Z"
   },
   {
    "duration": 31,
    "start_time": "2022-03-14T12:43:52.516Z"
   },
   {
    "duration": 212,
    "start_time": "2022-03-14T12:44:59.048Z"
   },
   {
    "duration": 1459,
    "start_time": "2022-03-14T12:45:11.134Z"
   },
   {
    "duration": 972,
    "start_time": "2022-03-14T12:45:12.595Z"
   },
   {
    "duration": 41,
    "start_time": "2022-03-14T12:45:13.569Z"
   },
   {
    "duration": 55,
    "start_time": "2022-03-14T12:45:13.613Z"
   },
   {
    "duration": 40,
    "start_time": "2022-03-14T12:45:13.670Z"
   },
   {
    "duration": 13,
    "start_time": "2022-03-14T12:45:13.978Z"
   },
   {
    "duration": 7,
    "start_time": "2022-03-14T12:45:14.162Z"
   },
   {
    "duration": 6,
    "start_time": "2022-03-14T12:45:14.325Z"
   },
   {
    "duration": 716,
    "start_time": "2022-03-14T12:45:14.527Z"
   },
   {
    "duration": 26,
    "start_time": "2022-03-14T12:45:15.245Z"
   },
   {
    "duration": 5,
    "start_time": "2022-03-14T12:45:15.274Z"
   },
   {
    "duration": 6,
    "start_time": "2022-03-14T12:45:16.404Z"
   },
   {
    "duration": 7,
    "start_time": "2022-03-14T12:45:17.121Z"
   },
   {
    "duration": 10,
    "start_time": "2022-03-14T12:45:19.517Z"
   },
   {
    "duration": 20,
    "start_time": "2022-03-14T12:45:19.920Z"
   },
   {
    "duration": 15,
    "start_time": "2022-03-14T12:45:20.082Z"
   },
   {
    "duration": 8,
    "start_time": "2022-03-14T12:45:20.561Z"
   },
   {
    "duration": 20,
    "start_time": "2022-03-14T12:45:20.794Z"
   },
   {
    "duration": 5,
    "start_time": "2022-03-14T12:45:21.287Z"
   },
   {
    "duration": 2,
    "start_time": "2022-03-14T12:45:21.707Z"
   },
   {
    "duration": 2,
    "start_time": "2022-03-14T12:45:22.322Z"
   },
   {
    "duration": 393,
    "start_time": "2022-03-14T12:45:22.708Z"
   },
   {
    "duration": 234,
    "start_time": "2022-03-14T12:45:23.508Z"
   },
   {
    "duration": 5,
    "start_time": "2022-03-14T12:45:32.179Z"
   },
   {
    "duration": 195,
    "start_time": "2022-03-14T12:45:33.877Z"
   },
   {
    "duration": 75,
    "start_time": "2022-03-14T12:45:52.059Z"
   },
   {
    "duration": 62,
    "start_time": "2022-03-14T12:45:56.107Z"
   },
   {
    "duration": 12,
    "start_time": "2022-03-14T12:46:00.833Z"
   },
   {
    "duration": 31,
    "start_time": "2022-03-14T12:46:03.975Z"
   },
   {
    "duration": 203,
    "start_time": "2022-03-14T12:50:55.934Z"
   },
   {
    "duration": 32,
    "start_time": "2022-03-14T12:51:40.484Z"
   },
   {
    "duration": 18,
    "start_time": "2022-03-14T12:54:38.564Z"
   },
   {
    "duration": 33,
    "start_time": "2022-03-14T12:54:46.987Z"
   },
   {
    "duration": 11,
    "start_time": "2022-03-14T12:55:34.046Z"
   },
   {
    "duration": 32,
    "start_time": "2022-03-14T12:55:40.428Z"
   },
   {
    "duration": 4,
    "start_time": "2022-03-14T12:56:20.789Z"
   },
   {
    "duration": 4,
    "start_time": "2022-03-14T12:56:41.113Z"
   },
   {
    "duration": 35,
    "start_time": "2022-03-14T12:57:33.254Z"
   },
   {
    "duration": 268,
    "start_time": "2022-03-15T08:26:47.993Z"
   },
   {
    "duration": 1034,
    "start_time": "2022-03-15T08:26:57.551Z"
   },
   {
    "duration": 654,
    "start_time": "2022-03-15T08:26:58.586Z"
   },
   {
    "duration": 26,
    "start_time": "2022-03-15T08:26:59.242Z"
   },
   {
    "duration": 23,
    "start_time": "2022-03-15T08:26:59.281Z"
   },
   {
    "duration": 30,
    "start_time": "2022-03-15T08:26:59.305Z"
   },
   {
    "duration": 9,
    "start_time": "2022-03-15T08:26:59.336Z"
   },
   {
    "duration": 37,
    "start_time": "2022-03-15T08:26:59.347Z"
   },
   {
    "duration": 5,
    "start_time": "2022-03-15T08:26:59.386Z"
   },
   {
    "duration": 398,
    "start_time": "2022-03-15T08:26:59.393Z"
   },
   {
    "duration": 14,
    "start_time": "2022-03-15T08:26:59.793Z"
   },
   {
    "duration": 4,
    "start_time": "2022-03-15T08:26:59.809Z"
   },
   {
    "duration": 6,
    "start_time": "2022-03-15T08:26:59.815Z"
   },
   {
    "duration": 9,
    "start_time": "2022-03-15T08:26:59.822Z"
   },
   {
    "duration": 10,
    "start_time": "2022-03-15T08:26:59.832Z"
   },
   {
    "duration": 52,
    "start_time": "2022-03-15T08:26:59.844Z"
   },
   {
    "duration": 13,
    "start_time": "2022-03-15T08:26:59.898Z"
   },
   {
    "duration": 8,
    "start_time": "2022-03-15T08:26:59.912Z"
   },
   {
    "duration": 15,
    "start_time": "2022-03-15T08:26:59.921Z"
   },
   {
    "duration": 4,
    "start_time": "2022-03-15T08:26:59.938Z"
   },
   {
    "duration": 37,
    "start_time": "2022-03-15T08:26:59.944Z"
   },
   {
    "duration": 12,
    "start_time": "2022-03-15T08:26:59.983Z"
   },
   {
    "duration": 30,
    "start_time": "2022-03-15T08:26:59.996Z"
   },
   {
    "duration": 3,
    "start_time": "2022-03-15T08:27:00.029Z"
   },
   {
    "duration": 48,
    "start_time": "2022-03-15T08:27:00.034Z"
   },
   {
    "duration": 76,
    "start_time": "2022-03-15T08:27:00.084Z"
   },
   {
    "duration": 22,
    "start_time": "2022-03-15T08:27:00.162Z"
   },
   {
    "duration": 14,
    "start_time": "2022-03-15T08:27:00.186Z"
   },
   {
    "duration": 742,
    "start_time": "2022-03-15T08:27:00.201Z"
   },
   {
    "duration": 818,
    "start_time": "2022-03-15T08:27:00.945Z"
   },
   {
    "duration": 737,
    "start_time": "2022-03-15T08:27:01.764Z"
   },
   {
    "duration": 4,
    "start_time": "2022-03-15T08:27:02.502Z"
   },
   {
    "duration": 8,
    "start_time": "2022-03-15T08:27:02.507Z"
   },
   {
    "duration": 523,
    "start_time": "2022-03-15T08:27:02.516Z"
   },
   {
    "duration": 4,
    "start_time": "2022-03-15T08:27:03.040Z"
   },
   {
    "duration": 9,
    "start_time": "2022-03-15T08:27:03.046Z"
   },
   {
    "duration": 26,
    "start_time": "2022-03-15T08:27:03.056Z"
   },
   {
    "duration": 164,
    "start_time": "2022-03-15T08:27:03.084Z"
   },
   {
    "duration": 3,
    "start_time": "2022-03-15T08:27:03.250Z"
   },
   {
    "duration": 6,
    "start_time": "2022-03-15T08:27:03.255Z"
   },
   {
    "duration": 348,
    "start_time": "2022-03-15T08:27:03.262Z"
   },
   {
    "duration": -19,
    "start_time": "2022-03-15T08:27:03.630Z"
   },
   {
    "duration": -21,
    "start_time": "2022-03-15T08:27:03.633Z"
   },
   {
    "duration": -22,
    "start_time": "2022-03-15T08:27:03.635Z"
   },
   {
    "duration": -23,
    "start_time": "2022-03-15T08:27:03.637Z"
   },
   {
    "duration": -23,
    "start_time": "2022-03-15T08:27:03.638Z"
   },
   {
    "duration": -24,
    "start_time": "2022-03-15T08:27:03.640Z"
   },
   {
    "duration": -24,
    "start_time": "2022-03-15T08:27:03.641Z"
   },
   {
    "duration": 246,
    "start_time": "2022-03-15T08:27:24.876Z"
   },
   {
    "duration": 244,
    "start_time": "2022-03-15T08:27:27.253Z"
   },
   {
    "duration": 261,
    "start_time": "2022-03-15T08:27:39.595Z"
   },
   {
    "duration": 5,
    "start_time": "2022-03-15T08:27:59.499Z"
   },
   {
    "duration": -92,
    "start_time": "2022-03-15T08:28:17.095Z"
   },
   {
    "duration": 4,
    "start_time": "2022-03-15T08:28:49.235Z"
   },
   {
    "duration": 2,
    "start_time": "2022-03-15T08:28:51.644Z"
   },
   {
    "duration": 6381,
    "start_time": "2022-03-15T08:28:52.280Z"
   },
   {
    "duration": 8,
    "start_time": "2022-03-15T08:29:19.757Z"
   },
   {
    "duration": 9,
    "start_time": "2022-03-15T08:30:00.927Z"
   },
   {
    "duration": 2323,
    "start_time": "2022-03-15T08:30:33.312Z"
   },
   {
    "duration": 53887,
    "start_time": "2022-03-15T08:30:45.251Z"
   },
   {
    "duration": 866,
    "start_time": "2022-03-15T08:31:43.617Z"
   },
   {
    "duration": 317,
    "start_time": "2022-03-15T08:34:15.433Z"
   },
   {
    "duration": 3,
    "start_time": "2022-03-15T08:35:23.836Z"
   },
   {
    "duration": 13,
    "start_time": "2022-03-15T08:35:31.413Z"
   },
   {
    "duration": 14,
    "start_time": "2022-03-15T08:35:37.317Z"
   },
   {
    "duration": 6,
    "start_time": "2022-03-15T08:38:19.972Z"
   },
   {
    "duration": 13,
    "start_time": "2022-03-15T08:38:29.882Z"
   },
   {
    "duration": 2191,
    "start_time": "2022-03-15T08:38:34.156Z"
   },
   {
    "duration": -36,
    "start_time": "2022-03-15T08:39:34.263Z"
   },
   {
    "duration": -46,
    "start_time": "2022-03-15T08:39:34.274Z"
   },
   {
    "duration": -47,
    "start_time": "2022-03-15T08:39:34.276Z"
   },
   {
    "duration": -50,
    "start_time": "2022-03-15T08:39:34.279Z"
   },
   {
    "duration": -51,
    "start_time": "2022-03-15T08:39:34.281Z"
   },
   {
    "duration": 286,
    "start_time": "2022-03-15T08:39:37.800Z"
   },
   {
    "duration": 13,
    "start_time": "2022-03-15T08:39:38.301Z"
   },
   {
    "duration": 10,
    "start_time": "2022-03-15T08:40:13.071Z"
   },
   {
    "duration": 1348,
    "start_time": "2022-03-15T08:40:18.786Z"
   },
   {
    "duration": 697,
    "start_time": "2022-03-15T08:40:20.136Z"
   },
   {
    "duration": 28,
    "start_time": "2022-03-15T08:40:20.836Z"
   },
   {
    "duration": 35,
    "start_time": "2022-03-15T08:40:20.866Z"
   },
   {
    "duration": 24,
    "start_time": "2022-03-15T08:40:20.903Z"
   },
   {
    "duration": 9,
    "start_time": "2022-03-15T08:40:20.929Z"
   },
   {
    "duration": 19,
    "start_time": "2022-03-15T08:40:20.940Z"
   },
   {
    "duration": 4,
    "start_time": "2022-03-15T08:40:20.982Z"
   },
   {
    "duration": 400,
    "start_time": "2022-03-15T08:40:20.987Z"
   },
   {
    "duration": 15,
    "start_time": "2022-03-15T08:40:21.388Z"
   },
   {
    "duration": 4,
    "start_time": "2022-03-15T08:40:21.405Z"
   },
   {
    "duration": 9,
    "start_time": "2022-03-15T08:40:21.410Z"
   },
   {
    "duration": 11,
    "start_time": "2022-03-15T08:40:21.420Z"
   },
   {
    "duration": 14,
    "start_time": "2022-03-15T08:40:21.433Z"
   },
   {
    "duration": 50,
    "start_time": "2022-03-15T08:40:21.448Z"
   },
   {
    "duration": 12,
    "start_time": "2022-03-15T08:40:21.500Z"
   },
   {
    "duration": 7,
    "start_time": "2022-03-15T08:40:21.513Z"
   },
   {
    "duration": 16,
    "start_time": "2022-03-15T08:40:21.522Z"
   },
   {
    "duration": 4,
    "start_time": "2022-03-15T08:40:21.540Z"
   },
   {
    "duration": 4,
    "start_time": "2022-03-15T08:40:21.546Z"
   },
   {
    "duration": 39,
    "start_time": "2022-03-15T08:40:21.551Z"
   },
   {
    "duration": 34,
    "start_time": "2022-03-15T08:40:21.592Z"
   },
   {
    "duration": 4,
    "start_time": "2022-03-15T08:40:21.629Z"
   },
   {
    "duration": 46,
    "start_time": "2022-03-15T08:40:21.635Z"
   },
   {
    "duration": 82,
    "start_time": "2022-03-15T08:40:21.683Z"
   },
   {
    "duration": 19,
    "start_time": "2022-03-15T08:40:21.766Z"
   },
   {
    "duration": 5,
    "start_time": "2022-03-15T08:40:21.787Z"
   },
   {
    "duration": 780,
    "start_time": "2022-03-15T08:40:21.793Z"
   },
   {
    "duration": 822,
    "start_time": "2022-03-15T08:40:22.574Z"
   },
   {
    "duration": 755,
    "start_time": "2022-03-15T08:40:23.398Z"
   },
   {
    "duration": 3,
    "start_time": "2022-03-15T08:40:24.155Z"
   },
   {
    "duration": 8,
    "start_time": "2022-03-15T08:40:24.160Z"
   },
   {
    "duration": 510,
    "start_time": "2022-03-15T08:40:24.181Z"
   },
   {
    "duration": 5,
    "start_time": "2022-03-15T08:40:24.693Z"
   },
   {
    "duration": 16,
    "start_time": "2022-03-15T08:40:24.700Z"
   },
   {
    "duration": 8,
    "start_time": "2022-03-15T08:40:24.718Z"
   },
   {
    "duration": 172,
    "start_time": "2022-03-15T08:40:24.727Z"
   },
   {
    "duration": 3,
    "start_time": "2022-03-15T08:40:24.901Z"
   },
   {
    "duration": 22,
    "start_time": "2022-03-15T08:40:24.906Z"
   },
   {
    "duration": 26,
    "start_time": "2022-03-15T08:40:24.929Z"
   },
   {
    "duration": 20,
    "start_time": "2022-03-15T08:40:24.957Z"
   },
   {
    "duration": 2233,
    "start_time": "2022-03-15T08:40:24.978Z"
   },
   {
    "duration": 53376,
    "start_time": "2022-03-15T08:40:27.213Z"
   },
   {
    "duration": 594,
    "start_time": "2022-03-15T08:41:20.591Z"
   },
   {
    "duration": 7,
    "start_time": "2022-03-15T08:41:21.188Z"
   },
   {
    "duration": 328,
    "start_time": "2022-03-15T08:41:21.281Z"
   },
   {
    "duration": -371,
    "start_time": "2022-03-15T08:41:21.982Z"
   },
   {
    "duration": -372,
    "start_time": "2022-03-15T08:41:21.984Z"
   },
   {
    "duration": 8,
    "start_time": "2022-03-15T08:42:13.685Z"
   },
   {
    "duration": 666,
    "start_time": "2022-03-15T08:42:18.525Z"
   },
   {
    "duration": 2253,
    "start_time": "2022-03-15T08:42:59.628Z"
   },
   {
    "duration": 2137,
    "start_time": "2022-03-15T08:43:23.231Z"
   },
   {
    "duration": 3,
    "start_time": "2022-03-15T08:43:28.874Z"
   },
   {
    "duration": 153,
    "start_time": "2022-03-15T08:49:03.438Z"
   },
   {
    "duration": 444,
    "start_time": "2022-03-15T08:51:06.598Z"
   },
   {
    "duration": 452,
    "start_time": "2022-03-15T08:51:17.706Z"
   },
   {
    "duration": 149,
    "start_time": "2022-03-15T08:51:40.452Z"
   },
   {
    "duration": 7887,
    "start_time": "2022-03-15T08:52:08.578Z"
   },
   {
    "duration": 6764,
    "start_time": "2022-03-15T08:52:41.322Z"
   },
   {
    "duration": 6285,
    "start_time": "2022-03-15T08:53:52.952Z"
   },
   {
    "duration": 6346,
    "start_time": "2022-03-15T08:54:44.514Z"
   },
   {
    "duration": 1173,
    "start_time": "2022-03-15T08:56:40.593Z"
   },
   {
    "duration": 1627,
    "start_time": "2022-03-15T08:56:54.719Z"
   },
   {
    "duration": 1822,
    "start_time": "2022-03-15T08:57:59.031Z"
   },
   {
    "duration": 6555,
    "start_time": "2022-03-15T08:59:58.986Z"
   },
   {
    "duration": 1537,
    "start_time": "2022-03-15T09:00:22.644Z"
   },
   {
    "duration": 565,
    "start_time": "2022-03-15T09:01:49.803Z"
   },
   {
    "duration": 1106,
    "start_time": "2022-03-15T09:01:59.062Z"
   },
   {
    "duration": 707,
    "start_time": "2022-03-15T09:02:00.170Z"
   },
   {
    "duration": 27,
    "start_time": "2022-03-15T09:02:00.883Z"
   },
   {
    "duration": 23,
    "start_time": "2022-03-15T09:02:00.911Z"
   },
   {
    "duration": 46,
    "start_time": "2022-03-15T09:02:00.936Z"
   },
   {
    "duration": 9,
    "start_time": "2022-03-15T09:02:00.984Z"
   },
   {
    "duration": 16,
    "start_time": "2022-03-15T09:02:00.996Z"
   },
   {
    "duration": 14,
    "start_time": "2022-03-15T09:02:01.014Z"
   },
   {
    "duration": 424,
    "start_time": "2022-03-15T09:02:01.029Z"
   },
   {
    "duration": 27,
    "start_time": "2022-03-15T09:02:01.454Z"
   },
   {
    "duration": 6,
    "start_time": "2022-03-15T09:02:01.483Z"
   },
   {
    "duration": 20,
    "start_time": "2022-03-15T09:02:01.491Z"
   },
   {
    "duration": 13,
    "start_time": "2022-03-15T09:02:01.513Z"
   },
   {
    "duration": 11,
    "start_time": "2022-03-15T09:02:01.528Z"
   },
   {
    "duration": 22,
    "start_time": "2022-03-15T09:02:01.541Z"
   },
   {
    "duration": 14,
    "start_time": "2022-03-15T09:02:01.582Z"
   },
   {
    "duration": 8,
    "start_time": "2022-03-15T09:02:01.598Z"
   },
   {
    "duration": 15,
    "start_time": "2022-03-15T09:02:01.608Z"
   },
   {
    "duration": 7,
    "start_time": "2022-03-15T09:02:01.625Z"
   },
   {
    "duration": 7,
    "start_time": "2022-03-15T09:02:01.633Z"
   },
   {
    "duration": 43,
    "start_time": "2022-03-15T09:02:01.642Z"
   },
   {
    "duration": 29,
    "start_time": "2022-03-15T09:02:01.689Z"
   },
   {
    "duration": 4,
    "start_time": "2022-03-15T09:02:01.720Z"
   },
   {
    "duration": 32,
    "start_time": "2022-03-15T09:02:01.725Z"
   },
   {
    "duration": 101,
    "start_time": "2022-03-15T09:02:01.759Z"
   },
   {
    "duration": 5,
    "start_time": "2022-03-15T09:02:01.861Z"
   },
   {
    "duration": 5,
    "start_time": "2022-03-15T09:02:01.881Z"
   },
   {
    "duration": 743,
    "start_time": "2022-03-15T09:02:01.888Z"
   },
   {
    "duration": 834,
    "start_time": "2022-03-15T09:02:02.632Z"
   },
   {
    "duration": 744,
    "start_time": "2022-03-15T09:02:03.468Z"
   },
   {
    "duration": 4,
    "start_time": "2022-03-15T09:02:04.213Z"
   },
   {
    "duration": 12,
    "start_time": "2022-03-15T09:02:04.218Z"
   },
   {
    "duration": 508,
    "start_time": "2022-03-15T09:02:04.232Z"
   },
   {
    "duration": 1877,
    "start_time": "2022-03-15T09:02:04.741Z"
   },
   {
    "duration": 3,
    "start_time": "2022-03-15T09:02:06.619Z"
   },
   {
    "duration": 32,
    "start_time": "2022-03-15T09:02:06.624Z"
   },
   {
    "duration": 30,
    "start_time": "2022-03-15T09:02:06.657Z"
   },
   {
    "duration": 163,
    "start_time": "2022-03-15T09:02:06.688Z"
   },
   {
    "duration": 1518,
    "start_time": "2022-03-15T09:02:06.853Z"
   },
   {
    "duration": 9,
    "start_time": "2022-03-15T09:02:08.373Z"
   },
   {
    "duration": 10,
    "start_time": "2022-03-15T09:02:08.383Z"
   },
   {
    "duration": 22,
    "start_time": "2022-03-15T09:02:08.394Z"
   },
   {
    "duration": 35,
    "start_time": "2022-03-15T09:02:08.418Z"
   },
   {
    "duration": 2239,
    "start_time": "2022-03-15T09:02:08.454Z"
   },
   {
    "duration": 52805,
    "start_time": "2022-03-15T09:02:10.695Z"
   },
   {
    "duration": 890,
    "start_time": "2022-03-15T09:03:03.501Z"
   },
   {
    "duration": 7,
    "start_time": "2022-03-15T09:03:04.482Z"
   },
   {
    "duration": 2277,
    "start_time": "2022-03-15T09:03:04.491Z"
   },
   {
    "duration": 2201,
    "start_time": "2022-03-15T09:03:06.770Z"
   },
   {
    "duration": 9,
    "start_time": "2022-03-15T09:03:08.973Z"
   },
   {
    "duration": 8099,
    "start_time": "2022-03-15T09:51:24.575Z"
   },
   {
    "duration": 6012,
    "start_time": "2022-03-15T09:51:32.677Z"
   },
   {
    "duration": 316,
    "start_time": "2022-03-15T09:51:38.777Z"
   },
   {
    "duration": 286,
    "start_time": "2022-03-15T09:51:39.096Z"
   },
   {
    "duration": 388,
    "start_time": "2022-03-15T09:51:39.385Z"
   },
   {
    "duration": 110,
    "start_time": "2022-03-15T09:51:39.780Z"
   },
   {
    "duration": 100,
    "start_time": "2022-03-15T09:51:39.974Z"
   },
   {
    "duration": 95,
    "start_time": "2022-03-15T09:51:40.078Z"
   },
   {
    "duration": 4303,
    "start_time": "2022-03-15T09:51:40.177Z"
   },
   {
    "duration": 102,
    "start_time": "2022-03-15T09:51:44.483Z"
   },
   {
    "duration": 10,
    "start_time": "2022-03-15T09:51:44.673Z"
   },
   {
    "duration": 98,
    "start_time": "2022-03-15T09:51:44.685Z"
   },
   {
    "duration": 88,
    "start_time": "2022-03-15T09:51:44.789Z"
   },
   {
    "duration": 102,
    "start_time": "2022-03-15T09:51:44.880Z"
   },
   {
    "duration": 120,
    "start_time": "2022-03-15T09:51:45.074Z"
   },
   {
    "duration": 176,
    "start_time": "2022-03-15T09:51:45.198Z"
   },
   {
    "duration": 96,
    "start_time": "2022-03-15T09:51:45.377Z"
   },
   {
    "duration": 104,
    "start_time": "2022-03-15T09:51:45.478Z"
   },
   {
    "duration": 92,
    "start_time": "2022-03-15T09:51:45.585Z"
   },
   {
    "duration": 104,
    "start_time": "2022-03-15T09:51:45.773Z"
   },
   {
    "duration": 295,
    "start_time": "2022-03-15T09:51:45.879Z"
   },
   {
    "duration": 303,
    "start_time": "2022-03-15T09:51:46.179Z"
   },
   {
    "duration": 9,
    "start_time": "2022-03-15T09:51:46.572Z"
   },
   {
    "duration": 397,
    "start_time": "2022-03-15T09:51:46.586Z"
   },
   {
    "duration": 1097,
    "start_time": "2022-03-15T09:51:46.986Z"
   },
   {
    "duration": 96,
    "start_time": "2022-03-15T09:52:09.080Z"
   },
   {
    "duration": 8,
    "start_time": "2022-03-15T09:52:09.777Z"
   },
   {
    "duration": 9422,
    "start_time": "2022-03-15T09:52:10.473Z"
   },
   {
    "duration": 9911,
    "start_time": "2022-03-15T09:52:19.974Z"
   },
   {
    "duration": 8804,
    "start_time": "2022-03-15T09:52:29.975Z"
   },
   {
    "duration": 91,
    "start_time": "2022-03-15T09:52:38.786Z"
   },
   {
    "duration": 96,
    "start_time": "2022-03-15T09:52:38.884Z"
   },
   {
    "duration": 6703,
    "start_time": "2022-03-15T09:52:38.984Z"
   },
   {
    "duration": 22389,
    "start_time": "2022-03-15T09:52:45.690Z"
   },
   {
    "duration": 92,
    "start_time": "2022-03-15T09:53:08.085Z"
   },
   {
    "duration": 195,
    "start_time": "2022-03-15T09:53:08.180Z"
   },
   {
    "duration": 194,
    "start_time": "2022-03-15T09:53:08.386Z"
   },
   {
    "duration": 1996,
    "start_time": "2022-03-15T09:53:08.583Z"
   },
   {
    "duration": 19602,
    "start_time": "2022-03-15T09:53:10.582Z"
   },
   {
    "duration": 102,
    "start_time": "2022-03-15T09:53:30.275Z"
   },
   {
    "duration": 104,
    "start_time": "2022-03-15T09:53:30.380Z"
   },
   {
    "duration": 190,
    "start_time": "2022-03-15T09:53:30.489Z"
   },
   {
    "duration": 1350,
    "start_time": "2022-03-15T09:53:46.830Z"
   },
   {
    "duration": 5,
    "start_time": "2022-03-15T09:53:52.673Z"
   },
   {
    "duration": 91,
    "start_time": "2022-03-15T09:53:58.683Z"
   },
   {
    "duration": 202,
    "start_time": "2022-03-15T09:54:03.974Z"
   },
   {
    "duration": 19899,
    "start_time": "2022-03-15T09:54:05.175Z"
   },
   {
    "duration": 395,
    "start_time": "2022-03-15T09:56:26.779Z"
   },
   {
    "duration": 12,
    "start_time": "2022-03-15T09:56:31.374Z"
   },
   {
    "duration": 83,
    "start_time": "2022-03-15T09:56:32.295Z"
   },
   {
    "duration": 6,
    "start_time": "2022-03-15T09:58:53.973Z"
   },
   {
    "duration": 1300,
    "start_time": "2022-03-15T09:58:59.475Z"
   },
   {
    "duration": 8,
    "start_time": "2022-03-15T09:59:51.875Z"
   },
   {
    "duration": 1304,
    "start_time": "2022-03-15T09:59:55.874Z"
   },
   {
    "duration": 83,
    "start_time": "2022-03-15T10:00:02.591Z"
   },
   {
    "duration": 9,
    "start_time": "2022-03-15T10:00:05.675Z"
   },
   {
    "duration": 14,
    "start_time": "2022-03-15T10:00:06.275Z"
   },
   {
    "duration": 15,
    "start_time": "2022-03-15T10:00:08.775Z"
   },
   {
    "duration": 21706,
    "start_time": "2022-03-15T10:00:13.973Z"
   },
   {
    "duration": 100,
    "start_time": "2022-03-15T10:00:47.075Z"
   },
   {
    "duration": 12,
    "start_time": "2022-03-15T10:01:16.875Z"
   },
   {
    "duration": 103,
    "start_time": "2022-03-15T10:01:28.074Z"
   },
   {
    "duration": 391,
    "start_time": "2022-03-15T10:25:54.864Z"
   },
   {
    "duration": 1596,
    "start_time": "2022-03-15T10:26:01.392Z"
   },
   {
    "duration": 876,
    "start_time": "2022-03-15T10:26:02.991Z"
   },
   {
    "duration": 47,
    "start_time": "2022-03-15T10:26:03.871Z"
   },
   {
    "duration": 59,
    "start_time": "2022-03-15T10:26:03.922Z"
   },
   {
    "duration": 73,
    "start_time": "2022-03-15T10:26:03.984Z"
   },
   {
    "duration": 19,
    "start_time": "2022-03-15T10:26:04.060Z"
   },
   {
    "duration": 8,
    "start_time": "2022-03-15T10:26:04.082Z"
   },
   {
    "duration": 50,
    "start_time": "2022-03-15T10:26:04.095Z"
   },
   {
    "duration": 739,
    "start_time": "2022-03-15T10:26:04.150Z"
   },
   {
    "duration": 25,
    "start_time": "2022-03-15T10:26:04.892Z"
   },
   {
    "duration": 28,
    "start_time": "2022-03-15T10:26:04.920Z"
   },
   {
    "duration": 10,
    "start_time": "2022-03-15T10:26:04.951Z"
   },
   {
    "duration": 15,
    "start_time": "2022-03-15T10:26:04.963Z"
   },
   {
    "duration": 15,
    "start_time": "2022-03-15T10:26:04.980Z"
   },
   {
    "duration": 69,
    "start_time": "2022-03-15T10:26:04.998Z"
   },
   {
    "duration": 19,
    "start_time": "2022-03-15T10:26:05.070Z"
   },
   {
    "duration": 10,
    "start_time": "2022-03-15T10:26:05.092Z"
   },
   {
    "duration": 60,
    "start_time": "2022-03-15T10:26:05.104Z"
   },
   {
    "duration": 7,
    "start_time": "2022-03-15T10:26:05.167Z"
   },
   {
    "duration": 11,
    "start_time": "2022-03-15T10:26:05.176Z"
   },
   {
    "duration": 21,
    "start_time": "2022-03-15T10:26:05.189Z"
   },
   {
    "duration": 105,
    "start_time": "2022-03-15T10:26:05.213Z"
   },
   {
    "duration": 5,
    "start_time": "2022-03-15T10:26:05.345Z"
   },
   {
    "duration": 54,
    "start_time": "2022-03-15T10:26:05.353Z"
   },
   {
    "duration": 215,
    "start_time": "2022-03-15T10:26:05.410Z"
   },
   {
    "duration": 14,
    "start_time": "2022-03-15T10:26:05.628Z"
   },
   {
    "duration": 6,
    "start_time": "2022-03-15T10:26:05.644Z"
   },
   {
    "duration": 1426,
    "start_time": "2022-03-15T10:26:05.652Z"
   },
   {
    "duration": 1507,
    "start_time": "2022-03-15T10:26:07.081Z"
   },
   {
    "duration": 1411,
    "start_time": "2022-03-15T10:26:08.591Z"
   },
   {
    "duration": 5,
    "start_time": "2022-03-15T10:26:10.004Z"
   },
   {
    "duration": 31,
    "start_time": "2022-03-15T10:26:10.012Z"
   },
   {
    "duration": 970,
    "start_time": "2022-03-15T10:26:10.045Z"
   },
   {
    "duration": 3360,
    "start_time": "2022-03-15T10:26:11.017Z"
   },
   {
    "duration": 5,
    "start_time": "2022-03-15T10:26:14.379Z"
   },
   {
    "duration": 18,
    "start_time": "2022-03-15T10:26:14.387Z"
   },
   {
    "duration": 44,
    "start_time": "2022-03-15T10:26:14.407Z"
   },
   {
    "duration": 307,
    "start_time": "2022-03-15T10:26:14.454Z"
   },
   {
    "duration": 2807,
    "start_time": "2022-03-15T10:26:14.764Z"
   },
   {
    "duration": 7,
    "start_time": "2022-03-15T10:26:17.573Z"
   },
   {
    "duration": 6,
    "start_time": "2022-03-15T10:26:17.582Z"
   },
   {
    "duration": 14,
    "start_time": "2022-03-15T10:26:17.591Z"
   },
   {
    "duration": 37,
    "start_time": "2022-03-15T10:26:17.608Z"
   },
   {
    "duration": 7,
    "start_time": "2022-03-15T10:26:17.647Z"
   },
   {
    "duration": 25,
    "start_time": "2022-03-15T10:26:17.657Z"
   },
   {
    "duration": 3221,
    "start_time": "2022-03-15T10:26:17.684Z"
   },
   {
    "duration": 78136,
    "start_time": "2022-03-15T10:26:20.907Z"
   },
   {
    "duration": 1708,
    "start_time": "2022-03-15T10:27:39.045Z"
   },
   {
    "duration": 13,
    "start_time": "2022-03-15T10:27:40.756Z"
   },
   {
    "duration": 4558,
    "start_time": "2022-03-15T10:27:40.772Z"
   },
   {
    "duration": 3375,
    "start_time": "2022-03-15T10:27:45.333Z"
   },
   {
    "duration": 5,
    "start_time": "2022-03-15T10:27:48.711Z"
   },
   {
    "duration": 1020,
    "start_time": "2022-03-15T10:31:45.690Z"
   },
   {
    "duration": 8888,
    "start_time": "2022-03-15T10:32:09.836Z"
   },
   {
    "duration": 3724,
    "start_time": "2022-03-15T10:32:23.627Z"
   },
   {
    "duration": 25342,
    "start_time": "2022-03-15T10:32:57.416Z"
   },
   {
    "duration": 1374,
    "start_time": "2022-03-15T10:34:08.837Z"
   },
   {
    "duration": 3305,
    "start_time": "2022-03-15T10:34:17.940Z"
   },
   {
    "duration": 3048,
    "start_time": "2022-03-15T10:34:55.532Z"
   },
   {
    "duration": 1106,
    "start_time": "2022-03-15T10:35:12.437Z"
   },
   {
    "duration": 5150,
    "start_time": "2022-03-15T10:35:32.555Z"
   },
   {
    "duration": 79,
    "start_time": "2022-03-15T10:35:37.629Z"
   },
   {
    "duration": 4524,
    "start_time": "2022-03-15T10:35:47.745Z"
   },
   {
    "duration": 1373,
    "start_time": "2022-03-15T10:35:52.272Z"
   },
   {
    "duration": 3021,
    "start_time": "2022-03-15T10:36:01.009Z"
   },
   {
    "duration": 1419,
    "start_time": "2022-03-15T10:36:05.265Z"
   },
   {
    "duration": 1119,
    "start_time": "2022-03-15T10:36:10.743Z"
   },
   {
    "duration": 5,
    "start_time": "2022-03-15T10:36:59.276Z"
   },
   {
    "duration": 281,
    "start_time": "2022-03-15T10:39:52.241Z"
   },
   {
    "duration": 15,
    "start_time": "2022-03-15T10:41:12.008Z"
   },
   {
    "duration": 6,
    "start_time": "2022-03-15T10:41:12.585Z"
   },
   {
    "duration": 22,
    "start_time": "2022-03-15T10:41:13.563Z"
   },
   {
    "duration": 20,
    "start_time": "2022-03-15T10:41:14.458Z"
   },
   {
    "duration": 3517,
    "start_time": "2022-03-15T10:41:26.494Z"
   },
   {
    "duration": 1962,
    "start_time": "2022-03-15T10:41:31.516Z"
   },
   {
    "duration": 3535,
    "start_time": "2022-03-15T10:41:50.128Z"
   },
   {
    "duration": 3547,
    "start_time": "2022-03-15T10:42:01.911Z"
   },
   {
    "duration": 20,
    "start_time": "2022-03-15T10:42:07.320Z"
   },
   {
    "duration": 20,
    "start_time": "2022-03-15T10:42:12.926Z"
   },
   {
    "duration": 19,
    "start_time": "2022-03-15T10:42:34.231Z"
   },
   {
    "duration": 40,
    "start_time": "2022-03-15T10:42:39.008Z"
   },
   {
    "duration": 1662,
    "start_time": "2022-03-15T10:44:05.925Z"
   },
   {
    "duration": 838,
    "start_time": "2022-03-15T10:44:07.590Z"
   },
   {
    "duration": 50,
    "start_time": "2022-03-15T10:44:08.434Z"
   },
   {
    "duration": 63,
    "start_time": "2022-03-15T10:44:08.486Z"
   },
   {
    "duration": 42,
    "start_time": "2022-03-15T10:44:08.551Z"
   },
   {
    "duration": 16,
    "start_time": "2022-03-15T10:44:08.595Z"
   },
   {
    "duration": 8,
    "start_time": "2022-03-15T10:44:08.643Z"
   },
   {
    "duration": 6,
    "start_time": "2022-03-15T10:44:08.655Z"
   },
   {
    "duration": 755,
    "start_time": "2022-03-15T10:44:08.664Z"
   },
   {
    "duration": 29,
    "start_time": "2022-03-15T10:44:09.421Z"
   },
   {
    "duration": 7,
    "start_time": "2022-03-15T10:44:09.452Z"
   },
   {
    "duration": 12,
    "start_time": "2022-03-15T10:44:09.461Z"
   },
   {
    "duration": 9,
    "start_time": "2022-03-15T10:44:09.475Z"
   },
   {
    "duration": 56,
    "start_time": "2022-03-15T10:44:09.487Z"
   },
   {
    "duration": 25,
    "start_time": "2022-03-15T10:44:09.545Z"
   },
   {
    "duration": 16,
    "start_time": "2022-03-15T10:44:09.572Z"
   },
   {
    "duration": 9,
    "start_time": "2022-03-15T10:44:09.590Z"
   },
   {
    "duration": 54,
    "start_time": "2022-03-15T10:44:09.602Z"
   },
   {
    "duration": 8,
    "start_time": "2022-03-15T10:44:09.659Z"
   },
   {
    "duration": 5,
    "start_time": "2022-03-15T10:44:09.670Z"
   },
   {
    "duration": 17,
    "start_time": "2022-03-15T10:44:09.677Z"
   },
   {
    "duration": 92,
    "start_time": "2022-03-15T10:44:09.697Z"
   },
   {
    "duration": 6,
    "start_time": "2022-03-15T10:44:09.792Z"
   },
   {
    "duration": 80,
    "start_time": "2022-03-15T10:44:09.801Z"
   },
   {
    "duration": 181,
    "start_time": "2022-03-15T10:44:09.884Z"
   },
   {
    "duration": 9,
    "start_time": "2022-03-15T10:44:10.070Z"
   },
   {
    "duration": 6,
    "start_time": "2022-03-15T10:44:10.082Z"
   },
   {
    "duration": 1408,
    "start_time": "2022-03-15T10:44:10.090Z"
   },
   {
    "duration": 1484,
    "start_time": "2022-03-15T10:44:11.501Z"
   },
   {
    "duration": 1387,
    "start_time": "2022-03-15T10:44:12.988Z"
   },
   {
    "duration": 4,
    "start_time": "2022-03-15T10:44:14.378Z"
   },
   {
    "duration": 12,
    "start_time": "2022-03-15T10:44:14.384Z"
   },
   {
    "duration": 984,
    "start_time": "2022-03-15T10:44:14.398Z"
   },
   {
    "duration": 3682,
    "start_time": "2022-03-15T10:44:15.384Z"
   },
   {
    "duration": 8,
    "start_time": "2022-03-15T10:44:19.068Z"
   },
   {
    "duration": 16,
    "start_time": "2022-03-15T10:44:19.079Z"
   },
   {
    "duration": 47,
    "start_time": "2022-03-15T10:44:19.098Z"
   },
   {
    "duration": 287,
    "start_time": "2022-03-15T10:44:19.147Z"
   },
   {
    "duration": 2869,
    "start_time": "2022-03-15T10:44:19.442Z"
   },
   {
    "duration": 6,
    "start_time": "2022-03-15T10:44:22.314Z"
   },
   {
    "duration": 20,
    "start_time": "2022-03-15T10:44:22.323Z"
   },
   {
    "duration": 19,
    "start_time": "2022-03-15T10:44:22.345Z"
   },
   {
    "duration": 6,
    "start_time": "2022-03-15T10:44:22.366Z"
   },
   {
    "duration": 23,
    "start_time": "2022-03-15T10:44:22.375Z"
   },
   {
    "duration": 63,
    "start_time": "2022-03-15T10:44:22.400Z"
   },
   {
    "duration": 3145,
    "start_time": "2022-03-15T10:44:22.466Z"
   },
   {
    "duration": 73460,
    "start_time": "2022-03-15T10:44:25.613Z"
   },
   {
    "duration": 879,
    "start_time": "2022-03-15T10:45:39.076Z"
   },
   {
    "duration": 85,
    "start_time": "2022-03-15T10:45:39.958Z"
   },
   {
    "duration": 3426,
    "start_time": "2022-03-15T10:45:40.046Z"
   },
   {
    "duration": 906,
    "start_time": "2022-03-15T10:45:43.474Z"
   },
   {
    "duration": 3043,
    "start_time": "2022-03-15T10:45:44.383Z"
   },
   {
    "duration": 1095,
    "start_time": "2022-03-15T10:45:47.428Z"
   },
   {
    "duration": 5,
    "start_time": "2022-03-15T10:45:48.525Z"
   },
   {
    "duration": 16,
    "start_time": "2022-03-15T10:55:50.374Z"
   },
   {
    "duration": 6603,
    "start_time": "2022-03-15T10:55:51.278Z"
   },
   {
    "duration": 311,
    "start_time": "2022-03-15T10:56:01.975Z"
   },
   {
    "duration": 394,
    "start_time": "2022-03-15T10:56:02.291Z"
   },
   {
    "duration": 215,
    "start_time": "2022-03-15T10:56:02.772Z"
   },
   {
    "duration": 186,
    "start_time": "2022-03-15T10:56:02.991Z"
   },
   {
    "duration": 97,
    "start_time": "2022-03-15T10:56:03.180Z"
   },
   {
    "duration": 13,
    "start_time": "2022-03-15T10:56:03.280Z"
   },
   {
    "duration": 4805,
    "start_time": "2022-03-15T10:56:03.379Z"
   },
   {
    "duration": 101,
    "start_time": "2022-03-15T10:56:08.187Z"
   },
   {
    "duration": 89,
    "start_time": "2022-03-15T10:56:08.291Z"
   },
   {
    "duration": 197,
    "start_time": "2022-03-15T10:56:08.386Z"
   },
   {
    "duration": 297,
    "start_time": "2022-03-15T10:56:08.585Z"
   },
   {
    "duration": 98,
    "start_time": "2022-03-15T10:56:08.884Z"
   },
   {
    "duration": 203,
    "start_time": "2022-03-15T10:56:08.985Z"
   },
   {
    "duration": 100,
    "start_time": "2022-03-15T10:56:09.274Z"
   },
   {
    "duration": 107,
    "start_time": "2022-03-15T10:56:09.382Z"
   },
   {
    "duration": 191,
    "start_time": "2022-03-15T10:56:09.494Z"
   },
   {
    "duration": 96,
    "start_time": "2022-03-15T10:56:09.691Z"
   },
   {
    "duration": 191,
    "start_time": "2022-03-15T10:56:09.789Z"
   },
   {
    "duration": 290,
    "start_time": "2022-03-15T10:56:09.982Z"
   },
   {
    "duration": 413,
    "start_time": "2022-03-15T10:56:10.277Z"
   },
   {
    "duration": 86,
    "start_time": "2022-03-15T10:56:10.693Z"
   },
   {
    "duration": 392,
    "start_time": "2022-03-15T10:56:10.781Z"
   },
   {
    "duration": 1014,
    "start_time": "2022-03-15T10:56:11.177Z"
   },
   {
    "duration": 98,
    "start_time": "2022-03-15T10:56:12.277Z"
   },
   {
    "duration": 17,
    "start_time": "2022-03-15T10:56:12.379Z"
   },
   {
    "duration": 10420,
    "start_time": "2022-03-15T10:56:12.479Z"
   },
   {
    "duration": 10212,
    "start_time": "2022-03-15T10:56:22.975Z"
   },
   {
    "duration": 9787,
    "start_time": "2022-03-15T10:56:33.190Z"
   },
   {
    "duration": 12,
    "start_time": "2022-03-15T10:56:42.985Z"
   },
   {
    "duration": 101,
    "start_time": "2022-03-15T10:56:43.083Z"
   },
   {
    "duration": 7709,
    "start_time": "2022-03-15T10:56:43.187Z"
   },
   {
    "duration": 22802,
    "start_time": "2022-03-15T10:56:50.984Z"
   },
   {
    "duration": 84,
    "start_time": "2022-03-15T10:57:13.789Z"
   },
   {
    "duration": 102,
    "start_time": "2022-03-15T10:57:13.885Z"
   },
   {
    "duration": 390,
    "start_time": "2022-03-15T10:57:13.995Z"
   },
   {
    "duration": 2891,
    "start_time": "2022-03-15T10:57:14.389Z"
   },
   {
    "duration": 19098,
    "start_time": "2022-03-15T10:57:17.294Z"
   },
   {
    "duration": 20,
    "start_time": "2022-03-15T10:57:36.474Z"
   },
   {
    "duration": 205,
    "start_time": "2022-03-15T10:57:36.575Z"
   },
   {
    "duration": 190,
    "start_time": "2022-03-15T10:57:36.783Z"
   },
   {
    "duration": 288,
    "start_time": "2022-03-15T10:57:36.992Z"
   },
   {
    "duration": 300,
    "start_time": "2022-03-15T10:57:37.284Z"
   },
   {
    "duration": 390,
    "start_time": "2022-03-15T10:57:37.587Z"
   },
   {
    "duration": 21393,
    "start_time": "2022-03-15T10:57:37.984Z"
   },
   {
    "duration": 5,
    "start_time": "2022-03-15T10:57:59.388Z"
   },
   {
    "duration": 7,
    "start_time": "2022-03-15T11:08:41.781Z"
   },
   {
    "duration": 16,
    "start_time": "2022-03-15T11:08:47.375Z"
   },
   {
    "duration": 20920,
    "start_time": "2022-03-15T11:08:54.174Z"
   },
   {
    "duration": 11,
    "start_time": "2022-03-15T11:09:15.175Z"
   },
   {
    "duration": 11,
    "start_time": "2022-03-15T11:09:51.375Z"
   },
   {
    "duration": 200,
    "start_time": "2022-03-15T11:09:55.378Z"
   },
   {
    "duration": 11202,
    "start_time": "2022-03-15T11:10:53.078Z"
   },
   {
    "duration": 210,
    "start_time": "2022-03-15T11:11:04.283Z"
   },
   {
    "duration": 207,
    "start_time": "2022-03-15T11:11:04.577Z"
   },
   {
    "duration": 311,
    "start_time": "2022-03-15T11:11:04.787Z"
   },
   {
    "duration": 102,
    "start_time": "2022-03-15T11:11:05.188Z"
   },
   {
    "duration": 110,
    "start_time": "2022-03-15T11:11:05.380Z"
   },
   {
    "duration": 101,
    "start_time": "2022-03-15T11:11:05.576Z"
   },
   {
    "duration": 5012,
    "start_time": "2022-03-15T11:11:05.684Z"
   },
   {
    "duration": 91,
    "start_time": "2022-03-15T11:11:10.699Z"
   },
   {
    "duration": 87,
    "start_time": "2022-03-15T11:11:10.793Z"
   },
   {
    "duration": 297,
    "start_time": "2022-03-15T11:11:10.883Z"
   },
   {
    "duration": 99,
    "start_time": "2022-03-15T11:11:11.182Z"
   },
   {
    "duration": 308,
    "start_time": "2022-03-15T11:11:11.284Z"
   },
   {
    "duration": 278,
    "start_time": "2022-03-15T11:11:11.598Z"
   },
   {
    "duration": 302,
    "start_time": "2022-03-15T11:11:11.879Z"
   },
   {
    "duration": 18,
    "start_time": "2022-03-15T11:11:13.373Z"
   },
   {
    "duration": 116,
    "start_time": "2022-03-15T11:11:14.175Z"
   },
   {
    "duration": 100,
    "start_time": "2022-03-15T11:11:15.576Z"
   },
   {
    "duration": 7,
    "start_time": "2022-03-15T11:11:16.175Z"
   },
   {
    "duration": 191,
    "start_time": "2022-03-15T11:11:17.189Z"
   },
   {
    "duration": 327,
    "start_time": "2022-03-15T11:11:18.176Z"
   },
   {
    "duration": 10,
    "start_time": "2022-03-15T11:11:18.674Z"
   },
   {
    "duration": 291,
    "start_time": "2022-03-15T11:11:19.396Z"
   },
   {
    "duration": 818,
    "start_time": "2022-03-15T11:11:21.475Z"
   },
   {
    "duration": 98,
    "start_time": "2022-03-15T11:11:30.276Z"
   },
   {
    "duration": 27,
    "start_time": "2022-03-15T11:11:35.172Z"
   },
   {
    "duration": 13,
    "start_time": "2022-03-15T11:11:36.175Z"
   },
   {
    "duration": 213,
    "start_time": "2022-03-15T11:11:37.375Z"
   },
   {
    "duration": 114,
    "start_time": "2022-03-15T11:11:38.475Z"
   },
   {
    "duration": 21500,
    "start_time": "2022-03-15T11:11:40.875Z"
   },
   {
    "duration": 5,
    "start_time": "2022-03-15T11:12:02.379Z"
   },
   {
    "duration": 6504,
    "start_time": "2022-03-15T11:15:12.874Z"
   },
   {
    "duration": 6300,
    "start_time": "2022-03-15T11:15:20.876Z"
   },
   {
    "duration": 103,
    "start_time": "2022-03-15T11:15:27.184Z"
   },
   {
    "duration": 118,
    "start_time": "2022-03-15T11:15:29.274Z"
   },
   {
    "duration": 96,
    "start_time": "2022-03-15T11:15:30.379Z"
   },
   {
    "duration": 702,
    "start_time": "2022-03-15T11:15:35.778Z"
   },
   {
    "duration": 7186,
    "start_time": "2022-03-15T11:16:45.293Z"
   },
   {
    "duration": 102,
    "start_time": "2022-03-15T11:16:52.482Z"
   },
   {
    "duration": 187,
    "start_time": "2022-03-15T11:16:52.587Z"
   },
   {
    "duration": 5816,
    "start_time": "2022-03-15T11:17:44.374Z"
   },
   {
    "duration": 511,
    "start_time": "2022-03-15T11:17:51.875Z"
   },
   {
    "duration": 122,
    "start_time": "2022-03-15T11:18:06.075Z"
   },
   {
    "duration": 97,
    "start_time": "2022-03-15T11:18:09.205Z"
   },
   {
    "duration": 1520,
    "start_time": "2022-03-15T11:18:10.275Z"
   },
   {
    "duration": 10005,
    "start_time": "2022-03-15T11:19:05.876Z"
   },
   {
    "duration": 89,
    "start_time": "2022-03-15T11:19:35.685Z"
   },
   {
    "duration": 18485,
    "start_time": "2022-03-15T11:19:39.089Z"
   },
   {
    "duration": 99,
    "start_time": "2022-03-15T11:20:24.899Z"
   },
   {
    "duration": 5531,
    "start_time": "2022-03-15T11:20:29.875Z"
   },
   {
    "duration": 95,
    "start_time": "2022-03-15T11:20:35.486Z"
   },
   {
    "duration": 207,
    "start_time": "2022-03-15T11:20:35.591Z"
   },
   {
    "duration": 97,
    "start_time": "2022-03-15T11:20:35.801Z"
   },
   {
    "duration": 197,
    "start_time": "2022-03-15T11:20:35.910Z"
   },
   {
    "duration": 217,
    "start_time": "2022-03-15T11:20:35.895Z"
   },
   {
    "duration": 18821,
    "start_time": "2022-03-15T11:20:58.289Z"
   },
   {
    "duration": 5636,
    "start_time": "2022-03-15T11:24:09.376Z"
   },
   {
    "duration": 159,
    "start_time": "2022-03-15T11:24:15.015Z"
   },
   {
    "duration": 25,
    "start_time": "2022-03-15T11:24:44.175Z"
   },
   {
    "duration": 26,
    "start_time": "2022-03-15T11:24:45.275Z"
   },
   {
    "duration": 17918,
    "start_time": "2022-03-15T11:24:48.075Z"
   },
   {
    "duration": 170,
    "start_time": "2022-03-15T11:28:05.011Z"
   },
   {
    "duration": 20108,
    "start_time": "2022-03-15T11:28:07.876Z"
   },
   {
    "duration": 5310,
    "start_time": "2022-03-15T11:32:38.574Z"
   },
   {
    "duration": 24,
    "start_time": "2022-03-15T11:32:53.173Z"
   },
   {
    "duration": 106,
    "start_time": "2022-03-15T11:33:07.195Z"
   },
   {
    "duration": 13,
    "start_time": "2022-03-15T11:33:19.986Z"
   },
   {
    "duration": 112,
    "start_time": "2022-03-15T11:33:21.173Z"
   },
   {
    "duration": 18208,
    "start_time": "2022-03-15T11:33:24.675Z"
   },
   {
    "duration": 7215,
    "start_time": "2022-03-15T11:36:51.575Z"
   },
   {
    "duration": 100,
    "start_time": "2022-03-15T11:37:07.177Z"
   },
   {
    "duration": 106,
    "start_time": "2022-03-15T11:37:24.388Z"
   },
   {
    "duration": 113,
    "start_time": "2022-03-15T11:37:26.681Z"
   },
   {
    "duration": 17,
    "start_time": "2022-03-15T11:37:27.574Z"
   },
   {
    "duration": 112,
    "start_time": "2022-03-15T11:37:31.576Z"
   },
   {
    "duration": 13402,
    "start_time": "2022-03-15T11:37:40.075Z"
   },
   {
    "duration": 322503,
    "start_time": "2022-03-15T11:38:02.774Z"
   },
   {
    "duration": 2315,
    "start_time": "2022-03-15T11:43:25.280Z"
   },
   {
    "duration": 84,
    "start_time": "2022-03-15T11:43:56.090Z"
   },
   {
    "duration": 1705,
    "start_time": "2022-03-15T11:45:05.385Z"
   },
   {
    "duration": 92,
    "start_time": "2022-03-15T11:45:37.901Z"
   },
   {
    "duration": 157,
    "start_time": "2022-03-15T11:45:45.628Z"
   },
   {
    "duration": 101,
    "start_time": "2022-03-15T11:45:46.281Z"
   },
   {
    "duration": 101,
    "start_time": "2022-03-15T11:45:46.779Z"
   },
   {
    "duration": 106,
    "start_time": "2022-03-15T11:45:47.277Z"
   },
   {
    "duration": 3104,
    "start_time": "2022-03-15T11:45:54.480Z"
   },
   {
    "duration": 100,
    "start_time": "2022-03-15T11:46:13.280Z"
   },
   {
    "duration": 182,
    "start_time": "2022-03-15T11:46:14.107Z"
   },
   {
    "duration": 609,
    "start_time": "2022-03-15T11:48:40.375Z"
   },
   {
    "duration": 515217,
    "start_time": "2022-03-15T11:49:35.979Z"
   },
   {
    "duration": 113914,
    "start_time": "2022-03-15T15:00:37.257Z"
   },
   {
    "duration": 109233,
    "start_time": "2022-03-15T15:04:19.426Z"
   },
   {
    "duration": 113579,
    "start_time": "2022-03-15T15:08:34.149Z"
   },
   {
    "duration": 154694,
    "start_time": "2022-03-15T15:11:23.226Z"
   }
  ],
  "kernelspec": {
   "display_name": "Python 3.8.9 64-bit",
   "language": "python",
   "name": "python3"
  },
  "language_info": {
   "codemirror_mode": {
    "name": "ipython",
    "version": 3
   },
   "file_extension": ".py",
   "mimetype": "text/x-python",
   "name": "python",
   "nbconvert_exporter": "python",
   "pygments_lexer": "ipython3",
   "version": "3.8.9"
  },
  "toc": {
   "base_numbering": 1,
   "nav_menu": {},
   "number_sections": true,
   "sideBar": true,
   "skip_h1_title": true,
   "title_cell": "Table of Contents",
   "title_sidebar": "Contents",
   "toc_cell": false,
   "toc_position": {},
   "toc_section_display": true,
   "toc_window_display": false
  },
  "vscode": {
   "interpreter": {
    "hash": "31f2aee4e71d21fbe5cf8b01ff0e069b9275f58929596ceb00d14d90e3e16cd6"
   }
  }
 },
 "nbformat": 4,
 "nbformat_minor": 5
}
