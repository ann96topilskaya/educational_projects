{
 "cells": [
  {
   "cell_type": "markdown",
   "metadata": {},
   "source": [
    "# Выбор локации для скважины"
   ]
  },
  {
   "cell_type": "markdown",
   "metadata": {},
   "source": [
    "Для нефтедобывающей компании-заказчика на представленнх данных о месторождениях нефти в трех регионах с измеренными качеством и объемом запасов необходимо построить модель, помогающую определить регион, в котором бурение новой скважины принесет наибольшую прибыль.\n",
    "\n",
    "**Ход выбора локации:**\n",
    "\n",
    "- В избранном регионе ищут месторождения, для каждого определяют значения признаков;\n",
    "- Строят модель и оценивают объём запасов;\n",
    "- Выбирают месторождения с самым высокими оценками значений. Количество месторождений зависит от бюджета компании и стоимости разработки одной скважины;\n",
    "- Прибыль равна суммарной прибыли отобранных месторождений."
   ]
  },
  {
   "cell_type": "markdown",
   "metadata": {},
   "source": [
    "## Загрузка и подготовка данных"
   ]
  },
  {
   "cell_type": "code",
   "execution_count": 1,
   "metadata": {},
   "outputs": [],
   "source": [
    "# загружаю необходимые библиотеки \n",
    "import pandas as pd\n",
    "import numpy as np\n",
    "from scipy import stats as st\n",
    "from sklearn.linear_model import LinearRegression\n",
    "from sklearn.model_selection import train_test_split\n",
    "from sklearn.metrics import mean_squared_error\n"
   ]
  },
  {
   "cell_type": "code",
   "execution_count": 2,
   "metadata": {},
   "outputs": [
    {
     "data": {
      "text/html": [
       "<div>\n",
       "<style scoped>\n",
       "    .dataframe tbody tr th:only-of-type {\n",
       "        vertical-align: middle;\n",
       "    }\n",
       "\n",
       "    .dataframe tbody tr th {\n",
       "        vertical-align: top;\n",
       "    }\n",
       "\n",
       "    .dataframe thead th {\n",
       "        text-align: right;\n",
       "    }\n",
       "</style>\n",
       "<table border=\"1\" class=\"dataframe\">\n",
       "  <thead>\n",
       "    <tr style=\"text-align: right;\">\n",
       "      <th></th>\n",
       "      <th>id</th>\n",
       "      <th>f0</th>\n",
       "      <th>f1</th>\n",
       "      <th>f2</th>\n",
       "      <th>product</th>\n",
       "    </tr>\n",
       "  </thead>\n",
       "  <tbody>\n",
       "    <tr>\n",
       "      <td>0</td>\n",
       "      <td>txEyH</td>\n",
       "      <td>0.705745</td>\n",
       "      <td>-0.497823</td>\n",
       "      <td>1.221170</td>\n",
       "      <td>105.280062</td>\n",
       "    </tr>\n",
       "    <tr>\n",
       "      <td>1</td>\n",
       "      <td>2acmU</td>\n",
       "      <td>1.334711</td>\n",
       "      <td>-0.340164</td>\n",
       "      <td>4.365080</td>\n",
       "      <td>73.037750</td>\n",
       "    </tr>\n",
       "    <tr>\n",
       "      <td>2</td>\n",
       "      <td>409Wp</td>\n",
       "      <td>1.022732</td>\n",
       "      <td>0.151990</td>\n",
       "      <td>1.419926</td>\n",
       "      <td>85.265647</td>\n",
       "    </tr>\n",
       "    <tr>\n",
       "      <td>3</td>\n",
       "      <td>iJLyR</td>\n",
       "      <td>-0.032172</td>\n",
       "      <td>0.139033</td>\n",
       "      <td>2.978566</td>\n",
       "      <td>168.620776</td>\n",
       "    </tr>\n",
       "    <tr>\n",
       "      <td>4</td>\n",
       "      <td>Xdl7t</td>\n",
       "      <td>1.988431</td>\n",
       "      <td>0.155413</td>\n",
       "      <td>4.751769</td>\n",
       "      <td>154.036647</td>\n",
       "    </tr>\n",
       "    <tr>\n",
       "      <td>...</td>\n",
       "      <td>...</td>\n",
       "      <td>...</td>\n",
       "      <td>...</td>\n",
       "      <td>...</td>\n",
       "      <td>...</td>\n",
       "    </tr>\n",
       "    <tr>\n",
       "      <td>99995</td>\n",
       "      <td>DLsed</td>\n",
       "      <td>0.971957</td>\n",
       "      <td>0.370953</td>\n",
       "      <td>6.075346</td>\n",
       "      <td>110.744026</td>\n",
       "    </tr>\n",
       "    <tr>\n",
       "      <td>99996</td>\n",
       "      <td>QKivN</td>\n",
       "      <td>1.392429</td>\n",
       "      <td>-0.382606</td>\n",
       "      <td>1.273912</td>\n",
       "      <td>122.346843</td>\n",
       "    </tr>\n",
       "    <tr>\n",
       "      <td>99997</td>\n",
       "      <td>3rnvd</td>\n",
       "      <td>1.029585</td>\n",
       "      <td>0.018787</td>\n",
       "      <td>-1.348308</td>\n",
       "      <td>64.375443</td>\n",
       "    </tr>\n",
       "    <tr>\n",
       "      <td>99998</td>\n",
       "      <td>7kl59</td>\n",
       "      <td>0.998163</td>\n",
       "      <td>-0.528582</td>\n",
       "      <td>1.583869</td>\n",
       "      <td>74.040764</td>\n",
       "    </tr>\n",
       "    <tr>\n",
       "      <td>99999</td>\n",
       "      <td>1CWhH</td>\n",
       "      <td>1.764754</td>\n",
       "      <td>-0.266417</td>\n",
       "      <td>5.722849</td>\n",
       "      <td>149.633246</td>\n",
       "    </tr>\n",
       "  </tbody>\n",
       "</table>\n",
       "<p>100000 rows × 5 columns</p>\n",
       "</div>"
      ],
      "text/plain": [
       "          id        f0        f1        f2     product\n",
       "0      txEyH  0.705745 -0.497823  1.221170  105.280062\n",
       "1      2acmU  1.334711 -0.340164  4.365080   73.037750\n",
       "2      409Wp  1.022732  0.151990  1.419926   85.265647\n",
       "3      iJLyR -0.032172  0.139033  2.978566  168.620776\n",
       "4      Xdl7t  1.988431  0.155413  4.751769  154.036647\n",
       "...      ...       ...       ...       ...         ...\n",
       "99995  DLsed  0.971957  0.370953  6.075346  110.744026\n",
       "99996  QKivN  1.392429 -0.382606  1.273912  122.346843\n",
       "99997  3rnvd  1.029585  0.018787 -1.348308   64.375443\n",
       "99998  7kl59  0.998163 -0.528582  1.583869   74.040764\n",
       "99999  1CWhH  1.764754 -0.266417  5.722849  149.633246\n",
       "\n",
       "[100000 rows x 5 columns]"
      ]
     },
     "metadata": {},
     "output_type": "display_data"
    }
   ],
   "source": [
    "data_0 = pd.read_csv('/datasets/geo_data_0.csv')\n",
    "display(data_0)"
   ]
  },
  {
   "cell_type": "code",
   "execution_count": 3,
   "metadata": {},
   "outputs": [
    {
     "name": "stdout",
     "output_type": "stream",
     "text": [
      "data_0 кол-во дубликатов 0\n",
      "data_0 кол-во пропусков\n",
      "id         0\n",
      "f0         0\n",
      "f1         0\n",
      "f2         0\n",
      "product    0\n",
      "dtype: int64\n"
     ]
    }
   ],
   "source": [
    "print('data_0 кол-во дубликатов', data_0.duplicated().sum())\n",
    "print('data_0 кол-во пропусков')\n",
    "print(data_0.isna().sum())"
   ]
  },
  {
   "cell_type": "code",
   "execution_count": 4,
   "metadata": {},
   "outputs": [
    {
     "data": {
      "text/html": [
       "<div>\n",
       "<style scoped>\n",
       "    .dataframe tbody tr th:only-of-type {\n",
       "        vertical-align: middle;\n",
       "    }\n",
       "\n",
       "    .dataframe tbody tr th {\n",
       "        vertical-align: top;\n",
       "    }\n",
       "\n",
       "    .dataframe thead th {\n",
       "        text-align: right;\n",
       "    }\n",
       "</style>\n",
       "<table border=\"1\" class=\"dataframe\">\n",
       "  <thead>\n",
       "    <tr style=\"text-align: right;\">\n",
       "      <th></th>\n",
       "      <th>id</th>\n",
       "      <th>f0</th>\n",
       "      <th>f1</th>\n",
       "      <th>f2</th>\n",
       "      <th>product</th>\n",
       "    </tr>\n",
       "  </thead>\n",
       "  <tbody>\n",
       "    <tr>\n",
       "      <td>0</td>\n",
       "      <td>kBEdx</td>\n",
       "      <td>-15.001348</td>\n",
       "      <td>-8.276000</td>\n",
       "      <td>-0.005876</td>\n",
       "      <td>3.179103</td>\n",
       "    </tr>\n",
       "    <tr>\n",
       "      <td>1</td>\n",
       "      <td>62mP7</td>\n",
       "      <td>14.272088</td>\n",
       "      <td>-3.475083</td>\n",
       "      <td>0.999183</td>\n",
       "      <td>26.953261</td>\n",
       "    </tr>\n",
       "    <tr>\n",
       "      <td>2</td>\n",
       "      <td>vyE1P</td>\n",
       "      <td>6.263187</td>\n",
       "      <td>-5.948386</td>\n",
       "      <td>5.001160</td>\n",
       "      <td>134.766305</td>\n",
       "    </tr>\n",
       "    <tr>\n",
       "      <td>3</td>\n",
       "      <td>KcrkZ</td>\n",
       "      <td>-13.081196</td>\n",
       "      <td>-11.506057</td>\n",
       "      <td>4.999415</td>\n",
       "      <td>137.945408</td>\n",
       "    </tr>\n",
       "    <tr>\n",
       "      <td>4</td>\n",
       "      <td>AHL4O</td>\n",
       "      <td>12.702195</td>\n",
       "      <td>-8.147433</td>\n",
       "      <td>5.004363</td>\n",
       "      <td>134.766305</td>\n",
       "    </tr>\n",
       "    <tr>\n",
       "      <td>...</td>\n",
       "      <td>...</td>\n",
       "      <td>...</td>\n",
       "      <td>...</td>\n",
       "      <td>...</td>\n",
       "      <td>...</td>\n",
       "    </tr>\n",
       "    <tr>\n",
       "      <td>99995</td>\n",
       "      <td>QywKC</td>\n",
       "      <td>9.535637</td>\n",
       "      <td>-6.878139</td>\n",
       "      <td>1.998296</td>\n",
       "      <td>53.906522</td>\n",
       "    </tr>\n",
       "    <tr>\n",
       "      <td>99996</td>\n",
       "      <td>ptvty</td>\n",
       "      <td>-10.160631</td>\n",
       "      <td>-12.558096</td>\n",
       "      <td>5.005581</td>\n",
       "      <td>137.945408</td>\n",
       "    </tr>\n",
       "    <tr>\n",
       "      <td>99997</td>\n",
       "      <td>09gWa</td>\n",
       "      <td>-7.378891</td>\n",
       "      <td>-3.084104</td>\n",
       "      <td>4.998651</td>\n",
       "      <td>137.945408</td>\n",
       "    </tr>\n",
       "    <tr>\n",
       "      <td>99998</td>\n",
       "      <td>rqwUm</td>\n",
       "      <td>0.665714</td>\n",
       "      <td>-6.152593</td>\n",
       "      <td>1.000146</td>\n",
       "      <td>30.132364</td>\n",
       "    </tr>\n",
       "    <tr>\n",
       "      <td>99999</td>\n",
       "      <td>relB0</td>\n",
       "      <td>-3.426139</td>\n",
       "      <td>-7.794274</td>\n",
       "      <td>-0.003299</td>\n",
       "      <td>3.179103</td>\n",
       "    </tr>\n",
       "  </tbody>\n",
       "</table>\n",
       "<p>100000 rows × 5 columns</p>\n",
       "</div>"
      ],
      "text/plain": [
       "          id         f0         f1        f2     product\n",
       "0      kBEdx -15.001348  -8.276000 -0.005876    3.179103\n",
       "1      62mP7  14.272088  -3.475083  0.999183   26.953261\n",
       "2      vyE1P   6.263187  -5.948386  5.001160  134.766305\n",
       "3      KcrkZ -13.081196 -11.506057  4.999415  137.945408\n",
       "4      AHL4O  12.702195  -8.147433  5.004363  134.766305\n",
       "...      ...        ...        ...       ...         ...\n",
       "99995  QywKC   9.535637  -6.878139  1.998296   53.906522\n",
       "99996  ptvty -10.160631 -12.558096  5.005581  137.945408\n",
       "99997  09gWa  -7.378891  -3.084104  4.998651  137.945408\n",
       "99998  rqwUm   0.665714  -6.152593  1.000146   30.132364\n",
       "99999  relB0  -3.426139  -7.794274 -0.003299    3.179103\n",
       "\n",
       "[100000 rows x 5 columns]"
      ]
     },
     "metadata": {},
     "output_type": "display_data"
    }
   ],
   "source": [
    "data_1 = pd.read_csv('/datasets/geo_data_1.csv')\n",
    "display(data_1)"
   ]
  },
  {
   "cell_type": "code",
   "execution_count": 5,
   "metadata": {},
   "outputs": [
    {
     "name": "stdout",
     "output_type": "stream",
     "text": [
      "data_1 кол-во дубликатов 0\n",
      "data_1 кол-во пропусков\n",
      "id         0\n",
      "f0         0\n",
      "f1         0\n",
      "f2         0\n",
      "product    0\n",
      "dtype: int64\n"
     ]
    }
   ],
   "source": [
    "print('data_1 кол-во дубликатов', data_1.duplicated().sum())\n",
    "print('data_1 кол-во пропусков')\n",
    "print(data_1.isna().sum())"
   ]
  },
  {
   "cell_type": "code",
   "execution_count": 6,
   "metadata": {
    "scrolled": false
   },
   "outputs": [
    {
     "data": {
      "text/html": [
       "<div>\n",
       "<style scoped>\n",
       "    .dataframe tbody tr th:only-of-type {\n",
       "        vertical-align: middle;\n",
       "    }\n",
       "\n",
       "    .dataframe tbody tr th {\n",
       "        vertical-align: top;\n",
       "    }\n",
       "\n",
       "    .dataframe thead th {\n",
       "        text-align: right;\n",
       "    }\n",
       "</style>\n",
       "<table border=\"1\" class=\"dataframe\">\n",
       "  <thead>\n",
       "    <tr style=\"text-align: right;\">\n",
       "      <th></th>\n",
       "      <th>id</th>\n",
       "      <th>f0</th>\n",
       "      <th>f1</th>\n",
       "      <th>f2</th>\n",
       "      <th>product</th>\n",
       "    </tr>\n",
       "  </thead>\n",
       "  <tbody>\n",
       "    <tr>\n",
       "      <td>0</td>\n",
       "      <td>fwXo0</td>\n",
       "      <td>-1.146987</td>\n",
       "      <td>0.963328</td>\n",
       "      <td>-0.828965</td>\n",
       "      <td>27.758673</td>\n",
       "    </tr>\n",
       "    <tr>\n",
       "      <td>1</td>\n",
       "      <td>WJtFt</td>\n",
       "      <td>0.262778</td>\n",
       "      <td>0.269839</td>\n",
       "      <td>-2.530187</td>\n",
       "      <td>56.069697</td>\n",
       "    </tr>\n",
       "    <tr>\n",
       "      <td>2</td>\n",
       "      <td>ovLUW</td>\n",
       "      <td>0.194587</td>\n",
       "      <td>0.289035</td>\n",
       "      <td>-5.586433</td>\n",
       "      <td>62.871910</td>\n",
       "    </tr>\n",
       "    <tr>\n",
       "      <td>3</td>\n",
       "      <td>q6cA6</td>\n",
       "      <td>2.236060</td>\n",
       "      <td>-0.553760</td>\n",
       "      <td>0.930038</td>\n",
       "      <td>114.572842</td>\n",
       "    </tr>\n",
       "    <tr>\n",
       "      <td>4</td>\n",
       "      <td>WPMUX</td>\n",
       "      <td>-0.515993</td>\n",
       "      <td>1.716266</td>\n",
       "      <td>5.899011</td>\n",
       "      <td>149.600746</td>\n",
       "    </tr>\n",
       "    <tr>\n",
       "      <td>...</td>\n",
       "      <td>...</td>\n",
       "      <td>...</td>\n",
       "      <td>...</td>\n",
       "      <td>...</td>\n",
       "      <td>...</td>\n",
       "    </tr>\n",
       "    <tr>\n",
       "      <td>99995</td>\n",
       "      <td>4GxBu</td>\n",
       "      <td>-1.777037</td>\n",
       "      <td>1.125220</td>\n",
       "      <td>6.263374</td>\n",
       "      <td>172.327046</td>\n",
       "    </tr>\n",
       "    <tr>\n",
       "      <td>99996</td>\n",
       "      <td>YKFjq</td>\n",
       "      <td>-1.261523</td>\n",
       "      <td>-0.894828</td>\n",
       "      <td>2.524545</td>\n",
       "      <td>138.748846</td>\n",
       "    </tr>\n",
       "    <tr>\n",
       "      <td>99997</td>\n",
       "      <td>tKPY3</td>\n",
       "      <td>-1.199934</td>\n",
       "      <td>-2.957637</td>\n",
       "      <td>5.219411</td>\n",
       "      <td>157.080080</td>\n",
       "    </tr>\n",
       "    <tr>\n",
       "      <td>99998</td>\n",
       "      <td>nmxp2</td>\n",
       "      <td>-2.419896</td>\n",
       "      <td>2.417221</td>\n",
       "      <td>-5.548444</td>\n",
       "      <td>51.795253</td>\n",
       "    </tr>\n",
       "    <tr>\n",
       "      <td>99999</td>\n",
       "      <td>V9kWn</td>\n",
       "      <td>-2.551421</td>\n",
       "      <td>-2.025625</td>\n",
       "      <td>6.090891</td>\n",
       "      <td>102.775767</td>\n",
       "    </tr>\n",
       "  </tbody>\n",
       "</table>\n",
       "<p>100000 rows × 5 columns</p>\n",
       "</div>"
      ],
      "text/plain": [
       "          id        f0        f1        f2     product\n",
       "0      fwXo0 -1.146987  0.963328 -0.828965   27.758673\n",
       "1      WJtFt  0.262778  0.269839 -2.530187   56.069697\n",
       "2      ovLUW  0.194587  0.289035 -5.586433   62.871910\n",
       "3      q6cA6  2.236060 -0.553760  0.930038  114.572842\n",
       "4      WPMUX -0.515993  1.716266  5.899011  149.600746\n",
       "...      ...       ...       ...       ...         ...\n",
       "99995  4GxBu -1.777037  1.125220  6.263374  172.327046\n",
       "99996  YKFjq -1.261523 -0.894828  2.524545  138.748846\n",
       "99997  tKPY3 -1.199934 -2.957637  5.219411  157.080080\n",
       "99998  nmxp2 -2.419896  2.417221 -5.548444   51.795253\n",
       "99999  V9kWn -2.551421 -2.025625  6.090891  102.775767\n",
       "\n",
       "[100000 rows x 5 columns]"
      ]
     },
     "metadata": {},
     "output_type": "display_data"
    }
   ],
   "source": [
    "data_2 = pd.read_csv('/datasets/geo_data_2.csv')\n",
    "display(data_2)"
   ]
  },
  {
   "cell_type": "code",
   "execution_count": 7,
   "metadata": {},
   "outputs": [
    {
     "name": "stdout",
     "output_type": "stream",
     "text": [
      "data_2 кол-во дубликатов 0\n",
      "data_2 кол-во пропусков\n",
      "id         0\n",
      "f0         0\n",
      "f1         0\n",
      "f2         0\n",
      "product    0\n",
      "dtype: int64\n"
     ]
    }
   ],
   "source": [
    "print('data_2 кол-во дубликатов', data_2.duplicated().sum())\n",
    "print('data_2 кол-во пропусков')\n",
    "print(data_2.isna().sum())"
   ]
  },
  {
   "cell_type": "markdown",
   "metadata": {},
   "source": [
    "**Вывод**\n",
    "\n",
    "Загрузила три датасета трех регионов data_0, data_1 и data_2, проверила на пропуски и дубликаты, их нигде не оказалось. Данные подготовлены к работе."
   ]
  },
  {
   "cell_type": "markdown",
   "metadata": {},
   "source": [
    "## Обучение и проверка модели"
   ]
  },
  {
   "cell_type": "code",
   "execution_count": 8,
   "metadata": {},
   "outputs": [
    {
     "name": "stdout",
     "output_type": "stream",
     "text": [
      "data_0\n",
      "(75000, 5)\n",
      "(25000, 5)\n",
      "\n",
      "data_1\n",
      "(75000, 5)\n",
      "(25000, 5)\n",
      "\n",
      "data_2\n",
      "(75000, 5)\n",
      "(25000, 5)\n",
      "\n"
     ]
    }
   ],
   "source": [
    "# разбиваю датасеты на тестовые и валидационные выборки\n",
    "data_0_train, data_0_valid = train_test_split(data_0, test_size=0.25, random_state=12345)\n",
    "print('data_0')\n",
    "print(data_0_train.shape)\n",
    "print(data_0_valid.shape)\n",
    "print()\n",
    "\n",
    "data_1_train, data_1_valid = train_test_split(data_1, test_size=0.25, random_state=12345)\n",
    "print('data_1')\n",
    "print(data_1_train.shape)\n",
    "print(data_1_valid.shape)\n",
    "print()\n",
    "\n",
    "data_2_train, data_2_valid = train_test_split(data_2, test_size=0.25, random_state=12345)\n",
    "print('data_2')\n",
    "print(data_2_train.shape)\n",
    "print(data_2_valid.shape)\n",
    "print()"
   ]
  },
  {
   "cell_type": "code",
   "execution_count": 9,
   "metadata": {},
   "outputs": [],
   "source": [
    "# делю признаки на тестовую и валидационную выборку\n",
    "features_0_train = data_0_train.loc[:,'f0':'f2']\n",
    "target_0_train = data_0_train['product']\n",
    "features_0_valid = data_0_valid.loc[:,'f0':'f2']\n",
    "target_0_valid = data_0_valid['product']\n",
    "\n",
    "features_1_train = data_1_train.loc[:,'f0':'f2']\n",
    "target_1_train = data_1_train['product']\n",
    "features_1_valid = data_1_valid.loc[:,'f0':'f2']\n",
    "target_1_valid = data_1_valid['product']\n",
    "\n",
    "features_2_train = data_2_train.loc[:,'f0':'f2']\n",
    "target_2_train = data_2_train['product']\n",
    "features_2_valid = data_2_valid.loc[:,'f0':'f2']\n",
    "target_2_valid = data_2_valid['product']"
   ]
  },
  {
   "cell_type": "code",
   "execution_count": 10,
   "metadata": {},
   "outputs": [
    {
     "name": "stdout",
     "output_type": "stream",
     "text": [
      "РЕГИОН 0\n",
      "RMSE 37.5794217150813\n",
      "среднее значение 92.50000000000001\n"
     ]
    },
    {
     "data": {
      "text/plain": [
       "array([ 95.89495185,  77.57258261,  77.89263965, ...,  61.50983303,\n",
       "       118.18039721, 118.16939229])"
      ]
     },
     "metadata": {},
     "output_type": "display_data"
    },
    {
     "name": "stdout",
     "output_type": "stream",
     "text": [
      "\n",
      "РЕГИОН 1\n",
      "RMSE 0.893099286775616\n",
      "среднее значение 68.82500000000002\n"
     ]
    },
    {
     "data": {
      "text/plain": [
       "array([ 82.66331365,  54.43178616,  29.74875995, ..., 137.87934053,\n",
       "        83.76196568,  53.95846638])"
      ]
     },
     "metadata": {},
     "output_type": "display_data"
    },
    {
     "name": "stdout",
     "output_type": "stream",
     "text": [
      "\n",
      "РЕГИОН 1\n",
      "RMSE 40.02970873393434\n",
      "среднее значение 95.00000000000004\n"
     ]
    },
    {
     "data": {
      "text/plain": [
       "array([ 93.59963303,  75.10515854,  90.06680936, ...,  99.40728116,\n",
       "        77.77991248, 129.03241718])"
      ]
     },
     "metadata": {},
     "output_type": "display_data"
    },
    {
     "name": "stdout",
     "output_type": "stream",
     "text": [
      "\n"
     ]
    }
   ],
   "source": [
    "# обучаю модель, получаю предсказания на валидационных выборках, получаю значения rmse и средние значения по регионам\n",
    "\n",
    "def learning(features_train, target_train, features_valid, target_valid, data):\n",
    "    model = LinearRegression()\n",
    "    model.fit(features_train, target_train)\n",
    "    predictions = model.predict(features_valid)\n",
    "    mse = mean_squared_error(target_valid, predictions)\n",
    "    rmse = mse ** 0.5\n",
    "    avg = data['product'].mean()\n",
    "    print('RMSE', rmse)\n",
    "    print('среднее значение', avg)\n",
    "    return predictions\n",
    "    \n",
    "print('РЕГИОН 0')\n",
    "predictions_0 = learning(features_0_train, target_0_train, features_0_valid, target_0_valid, data_0)\n",
    "display(predictions_0)\n",
    "print()\n",
    "\n",
    "print('РЕГИОН 1')\n",
    "predictions_1 = learning(features_1_train, target_1_train, features_1_valid, target_1_valid, data_1)\n",
    "display(predictions_1)\n",
    "print()\n",
    "\n",
    "print('РЕГИОН 1')\n",
    "predictions_2 = learning(features_2_train, target_2_train, features_2_valid, target_2_valid, data_2)\n",
    "display(predictions_2)\n",
    "print()"
   ]
  },
  {
   "cell_type": "code",
   "execution_count": 11,
   "metadata": {},
   "outputs": [],
   "source": [
    "rmse_0 = 37.5794217150813\n",
    "avg_0 = 92.50000000000001\n",
    "\n",
    "rmse_1 = 0.893099286775616\n",
    "avg_1 = 68.82500000000002\n",
    "\n",
    "rmse_2 = 40.02970873393434\n",
    "avg_2 = 95.00000000000004"
   ]
  },
  {
   "cell_type": "markdown",
   "metadata": {},
   "source": [
    "**Вывод**\n",
    "\n",
    "Средние значения по регионам 0 и 2 отличаются незначительно, в регионе 1 среднее значение самое низкое, но в нем самый низкий результат rmse, следовательно, результаты модели выше, чем в друх других регионах. В регионах 0 и 2 высокий уровень rmse."
   ]
  },
  {
   "cell_type": "markdown",
   "metadata": {},
   "source": [
    "## Подготовка к расчёту прибыли"
   ]
  },
  {
   "cell_type": "code",
   "execution_count": 12,
   "metadata": {},
   "outputs": [],
   "source": [
    "# сохраняю ключевые значения для расчетов в переменных\n",
    "BUDGET = 10000 # бюджет на резработку скважин в герионе в миллионах рублей \n",
    "INCOME_PER_UNIT = 0.45 # дохов в миллионах рублей за единицу продукта\n",
    "INVESTIGATED_WELLS = 500 # изучаемые скважины\n",
    "BEST_WELLS = 200 # наилучшие для разработки скважины"
   ]
  },
  {
   "cell_type": "markdown",
   "metadata": {},
   "source": [
    "Чтобы посчитать достаточный объем сырья для безубыточной разработки скважины, нужно, чтобы произведение количества сырья на стоимость одной его единицы, превышало выделенный на нее бюджет."
   ]
  },
  {
   "cell_type": "code",
   "execution_count": 15,
   "metadata": {},
   "outputs": [
    {
     "name": "stdout",
     "output_type": "stream",
     "text": [
      "бюджет на разработку одной скважины 50.0 миллионов рублей\n",
      "достаточный объем должен привышать 111.11111111111111 тонн сырья\n"
     ]
    }
   ],
   "source": [
    "# Так как выделенный бюджет предполагается потратить на разработку 200 скважин, следовательно, \n",
    "# на одну скважину можно выделить в среднем сумму, равную бюджету, деленному на количество разрабатываемых скважин\n",
    "\n",
    "ONE_WELL_BUDGET = BUDGET / BEST_WELLS\n",
    "print('бюджет на разработку одной скважины', ONE_WELL_BUDGET, 'миллионов рублей')\n",
    "\n",
    "# так как за 1 единицу сырья доход соствляет 0.45 млн рублей, следовательно,\n",
    "# достаточный объем сырья должен превышать число, равно бюджеты одной скважины, деленный на доход от продажи 1 единицы сырья\n",
    "\n",
    "ONE_WELL_VOLUME = ONE_WELL_BUDGET / INCOME_PER_UNIT\n",
    "print('достаточный объем должен привышать', ONE_WELL_VOLUME, 'тонн сырья')"
   ]
  },
  {
   "cell_type": "code",
   "execution_count": 16,
   "metadata": {},
   "outputs": [
    {
     "name": "stdout",
     "output_type": "stream",
     "text": [
      "Регион 0 92.50000000000001\n",
      "Регион 1 68.82500000000002\n",
      "Регион 2 95.00000000000004\n"
     ]
    }
   ],
   "source": [
    "# считаю средний запас сырья в одной скважине по региону\n",
    "print('Регион 0', avg_0)\n",
    "print('Регион 1', avg_1)\n",
    "print('Регион 2', avg_2)"
   ]
  },
  {
   "cell_type": "markdown",
   "metadata": {},
   "source": [
    "**Вывод**\n",
    "\n",
    "Если считать среднестатическую скважину по каждому региону, то у каждой из них не хватает достаточного объема, чтобы быть безубыточной. Поэтому нужно выбирать с помощью машинного обучения те самые 200 скважин с наилучшим результатом, чтобы достичь максимальной прибыли.\n",
    "\n",
    "Создаю функцию расчета прибыли."
   ]
  },
  {
   "cell_type": "code",
   "execution_count": 17,
   "metadata": {},
   "outputs": [],
   "source": [
    "# функция расчета прибыли по выбранным скважинам с региона\n",
    "def profit(data, predictions, count):\n",
    "    # формирую из полученных предсказаний датасет скважин с максимальными значениями и создаю столбец с индексами \n",
    "    pred = pd.Series(predictions).sort_values(ascending=False).reset_index()[:count] \n",
    "    pred.rename(columns = {'index' : 'index', 0 : 'pred'}, inplace = True)\n",
    "    # преобразую датасет с реальными значениями, добавляю столбец индексов и удаляю столбцы с признаками\n",
    "    data = data.reset_index().loc[:,['index', 'product']]\n",
    "    \n",
    "    # формирую таблицу с наибольшими значениями предсказаний и соотвествующими им реальными значениями методом merge\n",
    "    table = pred.merge(data, on='index', how='left')\n",
    "    \n",
    "    # суммирую реальные значения и получаю общий объем\n",
    "    total_volume = table['product'].sum()\n",
    "    # из произведения общего объема и стоимости одной единицы объема сырья отнимаю бюджет - получаю прибыль\n",
    "    income_region = total_volume * INCOME_PER_UNIT - BUDGET\n",
    "    return income_region"
   ]
  },
  {
   "cell_type": "markdown",
   "metadata": {},
   "source": [
    "## Расчёт прибыли и рисков "
   ]
  },
  {
   "cell_type": "code",
   "execution_count": 23,
   "metadata": {
    "scrolled": true
   },
   "outputs": [
    {
     "name": "stdout",
     "output_type": "stream",
     "text": [
      "РЕГИОН 0\n",
      "Средняя прибыль 396.1649848023714 миллионов рублей\n",
      "95%-ный доверительный интервал (379.6203151479728, 412.70965445677) миллионов рублей\n",
      "2,5%-ный квантиль -111.21554589049532 миллионов рублей\n",
      "97,5%-ный квантиль 909.766941553422 миллионов рублей\n",
      "Доля отрицательной прибыли 1.1121554589049532 %\n"
     ]
    }
   ],
   "source": [
    "# регион 0\n",
    "STATE = np.random.RandomState(12345)\n",
    "values_0 = []\n",
    "\n",
    "# predictions_0 - это список предсказаний\n",
    "\n",
    "for i in range(1000):\n",
    "    predictions_0_samples = pd.Series(predictions_0).reset_index(drop=True).sample(n=500, replace=True, random_state=STATE)\n",
    "    profit_0 = profit(data_0_valid.reset_index(drop=True), predictions_0_samples, 200)\n",
    "    values_0.append(profit_0)\n",
    "\n",
    "values_0 = pd.Series(values_0)\n",
    "mean_values_0 = values_0.mean()\n",
    "interval_0 = st.t.interval(alpha=0.95, df=(len(values_0)-1), loc=values_0.mean(), scale=values_0.sem())\n",
    "lower_0 = values_0.quantile(0.025)\n",
    "upper_0 = values_0.quantile(0.975)\n",
    "\n",
    "print('РЕГИОН 0')\n",
    "print('Средняя прибыль', mean_values_0, 'миллионов рублей')\n",
    "print('95%-ный доверительный интервал', interval_0, 'миллионов рублей')\n",
    "print('2,5%-ный квантиль', lower_0, 'миллионов рублей')\n",
    "print('97,5%-ный квантиль', upper_0, 'миллионов рублей')\n",
    "print('Доля отрицательной прибыли', abs(lower_0) / BUDGET * 100, '%')"
   ]
  },
  {
   "cell_type": "code",
   "execution_count": 25,
   "metadata": {},
   "outputs": [
    {
     "name": "stdout",
     "output_type": "stream",
     "text": [
      "РЕГИОН 1\n",
      "Средняя прибыль 456.04510578666117 миллионов рублей\n",
      "95%-ный доверительный интервал (443.14724866390094, 468.9429629094214) миллионов рублей\n",
      "2,5%-ный квантиль 33.82050939898718 миллионов рублей\n",
      "97,5%-ный квантиль 852.2894538660361 миллионов рублей\n",
      "Прибыль положительна, следовательно, доля отрицательной прибыли уже меньше 2.5%\n"
     ]
    }
   ],
   "source": [
    "# регион 1\n",
    "STATE = np.random.RandomState(12345)\n",
    "values_1 = []\n",
    "\n",
    "for i in range(1000):\n",
    "    predictions_1_samples = pd.Series(predictions_1).reset_index(drop=True).sample(n=500, replace=True, random_state=STATE)\n",
    "    profit_1 = profit(data_1_valid.reset_index(drop=True), predictions_1_samples, 200)\n",
    "    values_1.append(profit_1)\n",
    "\n",
    "values_1 = pd.Series(values_1)\n",
    "mean_values_1 = values_1.mean()\n",
    "interval_1 = st.t.interval(alpha=0.95, df=(len(values_1)-1), loc=values_1.mean(), scale=values_1.sem())\n",
    "lower_1 = values_1.quantile(0.025)\n",
    "upper_1 = values_1.quantile(0.975)\n",
    "\n",
    "print('РЕГИОН 1')\n",
    "print('Средняя прибыль', mean_values_1, 'миллионов рублей')\n",
    "print('95%-ный доверительный интервал', interval_1, 'миллионов рублей')\n",
    "print('2,5%-ный квантиль', lower_1, 'миллионов рублей')\n",
    "print('97,5%-ный квантиль', upper_1, 'миллионов рублей')\n",
    "print('Прибыль положительна, следовательно, доля отрицательной прибыли уже меньше 2.5%')"
   ]
  },
  {
   "cell_type": "code",
   "execution_count": 26,
   "metadata": {},
   "outputs": [
    {
     "name": "stdout",
     "output_type": "stream",
     "text": [
      "РЕГИОН 2\n",
      "Средняя прибыль 404.4038665683571 миллионов рублей\n",
      "95%-ный доверительный интервал (387.4457974712807, 421.3619356654335) миллионов рублей\n",
      "2,5%-ный квантиль -163.350413395599 миллионов рублей\n",
      "97,5%-ный квантиль 950.3595749238 миллионов рублей\n",
      "Доля отрицательной прибыли 1.63350413395599 %\n"
     ]
    }
   ],
   "source": [
    "# регион 2\n",
    "STATE = np.random.RandomState(12345)\n",
    "values_2 = []\n",
    "\n",
    "for i in range(1000):\n",
    "    predictions_2_samples = pd.Series(predictions_2).reset_index(drop=True).sample(n=500, replace=True, random_state=STATE)\n",
    "    profit_2 = profit(data_2_valid.reset_index(drop=True), predictions_2_samples, 200)\n",
    "    values_2.append(profit_2)\n",
    "\n",
    "values_2 = pd.Series(values_2)\n",
    "mean_values_2 = values_2.mean()\n",
    "interval_2 = st.t.interval(alpha=0.95, df=(len(values_2)-1), loc=values_2.mean(), scale=values_2.sem())\n",
    "lower_2 = values_2.quantile(0.025)\n",
    "upper_2 = values_2.quantile(0.975)\n",
    "\n",
    "print('РЕГИОН 2')\n",
    "print('Средняя прибыль', mean_values_2, 'миллионов рублей')\n",
    "print('95%-ный доверительный интервал', interval_2, 'миллионов рублей')\n",
    "print('2,5%-ный квантиль', lower_2, 'миллионов рублей')\n",
    "print('97,5%-ный квантиль', upper_2, 'миллионов рублей')\n",
    "print('Доля отрицательной прибыли', abs(lower_2) / BUDGET * 100, '%')"
   ]
  },
  {
   "cell_type": "markdown",
   "metadata": {},
   "source": [
    "**Вывод**\n",
    "\n",
    "Таким образом, так как самые высокие показатели у региона 2 (и средняя прибыль, и доверительный интервал, и самое низкое значение рисков), следовательно, рекомендуется для разработки скважин использовать регион 2."
   ]
  },
  {
   "cell_type": "markdown",
   "metadata": {},
   "source": [
    "## Общий вывод"
   ]
  },
  {
   "cell_type": "markdown",
   "metadata": {},
   "source": [
    "**Цель проекта**\n",
    "\n",
    "Предоставлены пробы нефти в трёх регионах. Характеристики для каждой скважины в регионе уже известны. Необходимо постройть модель для определения региона, где добыча принесёт наибольшую прибыль и проанализировать возможную прибыль и риски техникой Bootstrap.\n",
    "\n",
    "**Полученные данные и подготовка**\n",
    "  \n",
    "Три датасета трех регионов по 100 000 строк, для каждого из которых даны id скважины, обучающие признаки f0, f1, f2 и целевой признак product, означающий количество сырья на конктретной скважине.\n",
    "\n",
    "Пропусков и дубликатов в данных не обнаружено.\n",
    "\n",
    "**Обучение и проверка модели для каждого региона**\n",
    "\n",
    "Разбила каждый датасет на две выборки - обучающую и валидационную, обозначила обучающие и целевой признаки. Валидационная выборка составила 25%.\n",
    "Обучила модель, использовав LiniarRegression, и получила предсказания по всем трем регионам.\n",
    "- Предсказания хранятся в переменных:\n",
    "     - predictions_0\n",
    "     - predictions_1\n",
    "     - predictions_2\n",
    "- Правильные ответы хранятся в переменных:\n",
    "     - target_0_valid\n",
    "     - target_1_valid\n",
    "     - target_2_valid\n",
    "Рассчитала RMSE модели и средний запас предсказанного сырья для каждого региона:\n",
    "\n",
    "    регион 0\n",
    "    RMSE_0 37.5794217150813\n",
    "    среднее значение  92.50000000000001\n",
    "\n",
    "    регион 1\n",
    "    RMSE_1 0.893099286775616\n",
    "    среднее значение  68.82500000000002\n",
    "\n",
    "    регион 2\n",
    "    RMSE_2 40.02970873393434\n",
    "    среднее значение  95.00000000000004\n",
    "\n",
    "**Подготовка к расчету прибыли**\n",
    "\n",
    "Сохранила ключевые значения в переменных:\n",
    "    \n",
    "    budget = 10000 - бюджет на резработку скважин в герионе в миллионах рублей \n",
    "    income_per_unit = 0.45 - дохов в миллионах рублей за единицу продукта\n",
    "    investigated_wells = 500 - изучаемые скважины\n",
    "    best_wells = 200 - наилучшие для разработки скважины\n",
    "    \n",
    "Рассчитала достаточный объем сырья безубыточной разработки новой скважины:\n",
    "\n",
    "    Так как на разработку 200 скважин выделено 10 млрд рублей, следовательно на одну скважину в среднем выделяется 50 млн рублей (10 млрд / 200 скважин). Так как стоимость одной единицы сырья составляет 0.45 млн рублей (450 тысяч рублей), то для безубыточной разработки требуется не менее 111.1 тонн сырья (50 млн руб / 0.45 млн руб)\n",
    "\n",
    "Сравнила полученный объём сырья со средним запасом в каждом регионе:\n",
    "    \n",
    "    Средний запас в среднестатистической скважине ниже необходимого объема. \n",
    "    \n",
    "Далее создала функцию подсчета прибыли. Наилучшим предсказаниям нашла соответсвующие правильные значения объема, создала таблицу, объединяющию предсказания и реальные значения. Суммировала реальные значения (total_volume), умножила результат на доход с одной единицы продукта и от произведения отняла бюджет. Результат - прибыль с одного региона.\n",
    "\n",
    "**Расчет прибыли и рисков для каждого региона**\n",
    "\n",
    "Техникой Bootstrap с 1000 выборками по 500 скважин выделила 200 с наивысшей прибылью. Применила функцию подсчета прибыли и собрала все значения прибыли в список values. Нашла его среднее - это средняя прибыль по региону (наиболее прибыльных скважин), определила 95%-ный доверительный и интервал и расчитала 2,5%-ный риск убытков по трем регионам:\n",
    "\n",
    "    РЕГИОН 0\n",
    "    Средняя прибыль 396.1649848023714 миллионов рублей\n",
    "    95%-ный доверительный интервал (379.6203151479728, 412.70965445677) миллионов рублей\n",
    "    2,5%-ный квантиль -111.21554589049532 миллионов рублей\n",
    "    97,5%-ный квантиль 909.766941553422 миллионов рублей\n",
    "    Доля отрицательной прибыли 1.1121554589049532 %\n",
    "\n",
    "    РЕГИОН 1\n",
    "    Средняя прибыль 456.04510578666117 миллионов рублей\n",
    "    95%-ный доверительный интервал (443.14724866390094, 468.9429629094214) миллионов рублей\n",
    "    2,5%-ный квантиль 33.82050939898718 миллионов рублей\n",
    "    97,5%-ный квантиль 852.2894538660361 миллионов рублей\n",
    "    Прибыль положительна, следовательно, доля отрицательной прибыли уже меньше 2.5%\n",
    "\n",
    "    РЕГИОН 2\n",
    "    Средняя прибыль 404.4038665683571 миллионов рублей\n",
    "    95%-ный доверительный интервал (387.4457974712807, 421.3619356654335) миллионов рублей\n",
    "    2,5%-ный квантиль -163.350413395599 миллионов рублей\n",
    "    97,5%-ный квантиль 950.3595749238 миллионов рублей\n",
    "    Доля отрицательной прибыли 1.63350413395599 %\n",
    "\n",
    "**Общий вывод**\n",
    "\n",
    "Так как у каждого региона доля отрицательной прибыли везде меньше 2.5%, следовательно, расматривает все три региона и выбираем для разработки регион с наибольшей средней прибылью. Это регион 1 с результатом средней прибыли более 456 млн."
   ]
  }
 ],
 "metadata": {
  "ExecuteTimeLog": [
   {
    "duration": 190,
    "start_time": "2022-02-27T14:49:38.559Z"
   },
   {
    "duration": 518,
    "start_time": "2022-02-27T14:49:40.787Z"
   },
   {
    "duration": 142,
    "start_time": "2022-02-27T14:49:43.526Z"
   },
   {
    "duration": 120,
    "start_time": "2022-02-27T14:57:24.778Z"
   },
   {
    "duration": 124,
    "start_time": "2022-02-27T14:57:38.246Z"
   },
   {
    "duration": 121,
    "start_time": "2022-02-27T14:57:55.355Z"
   },
   {
    "duration": 487,
    "start_time": "2022-02-27T14:59:01.301Z"
   },
   {
    "duration": 129,
    "start_time": "2022-02-27T14:59:04.617Z"
   },
   {
    "duration": 129,
    "start_time": "2022-02-27T14:59:07.046Z"
   },
   {
    "duration": 134,
    "start_time": "2022-02-27T14:59:09.494Z"
   },
   {
    "duration": 41,
    "start_time": "2022-02-27T15:01:52.633Z"
   },
   {
    "duration": 36,
    "start_time": "2022-02-27T15:01:57.615Z"
   },
   {
    "duration": 36,
    "start_time": "2022-02-27T15:02:03.782Z"
   },
   {
    "duration": 41,
    "start_time": "2022-02-27T15:02:08.073Z"
   },
   {
    "duration": 1028,
    "start_time": "2022-02-27T15:02:29.152Z"
   },
   {
    "duration": 150,
    "start_time": "2022-02-27T15:02:31.952Z"
   },
   {
    "duration": 49,
    "start_time": "2022-02-27T15:02:33.554Z"
   },
   {
    "duration": 48,
    "start_time": "2022-02-27T15:04:13.794Z"
   },
   {
    "duration": 47,
    "start_time": "2022-02-27T15:04:32.602Z"
   },
   {
    "duration": 45,
    "start_time": "2022-02-27T15:04:41.825Z"
   },
   {
    "duration": 149,
    "start_time": "2022-02-27T15:04:48.948Z"
   },
   {
    "duration": 75,
    "start_time": "2022-02-27T15:04:59.648Z"
   },
   {
    "duration": 136,
    "start_time": "2022-02-27T15:05:04.262Z"
   },
   {
    "duration": 55,
    "start_time": "2022-02-27T15:05:15.255Z"
   },
   {
    "duration": 2,
    "start_time": "2022-02-27T15:06:09.518Z"
   },
   {
    "duration": 3,
    "start_time": "2022-02-27T15:09:23.200Z"
   },
   {
    "duration": 46,
    "start_time": "2022-02-27T15:10:47.401Z"
   },
   {
    "duration": 54,
    "start_time": "2022-02-27T15:11:23.338Z"
   },
   {
    "duration": 50,
    "start_time": "2022-02-27T15:11:37.718Z"
   },
   {
    "duration": 51,
    "start_time": "2022-02-27T15:12:00.649Z"
   },
   {
    "duration": 53,
    "start_time": "2022-02-27T15:12:05.349Z"
   },
   {
    "duration": 54,
    "start_time": "2022-02-27T15:12:10.959Z"
   },
   {
    "duration": 55,
    "start_time": "2022-02-27T15:12:35.289Z"
   },
   {
    "duration": 12,
    "start_time": "2022-02-27T15:14:54.655Z"
   },
   {
    "duration": 9,
    "start_time": "2022-02-27T15:15:26.313Z"
   },
   {
    "duration": 8,
    "start_time": "2022-02-27T15:16:00.176Z"
   },
   {
    "duration": 13,
    "start_time": "2022-02-27T15:19:06.333Z"
   },
   {
    "duration": 321,
    "start_time": "2022-02-27T15:22:39.080Z"
   },
   {
    "duration": 3,
    "start_time": "2022-02-27T15:23:38.968Z"
   },
   {
    "duration": 261,
    "start_time": "2022-02-27T15:23:44.389Z"
   },
   {
    "duration": 271,
    "start_time": "2022-02-27T15:24:00.377Z"
   },
   {
    "duration": 211,
    "start_time": "2022-02-27T15:24:18.873Z"
   },
   {
    "duration": 962,
    "start_time": "2022-02-27T15:25:41.591Z"
   },
   {
    "duration": 131,
    "start_time": "2022-02-27T15:25:42.554Z"
   },
   {
    "duration": 50,
    "start_time": "2022-02-27T15:25:42.687Z"
   },
   {
    "duration": 131,
    "start_time": "2022-02-27T15:25:42.739Z"
   },
   {
    "duration": 44,
    "start_time": "2022-02-27T15:25:42.872Z"
   },
   {
    "duration": 128,
    "start_time": "2022-02-27T15:25:42.918Z"
   },
   {
    "duration": 43,
    "start_time": "2022-02-27T15:25:43.047Z"
   },
   {
    "duration": 68,
    "start_time": "2022-02-27T15:25:43.093Z"
   },
   {
    "duration": 12,
    "start_time": "2022-02-27T15:25:43.163Z"
   },
   {
    "duration": 336,
    "start_time": "2022-02-27T15:25:43.177Z"
   },
   {
    "duration": 3,
    "start_time": "2022-02-27T15:26:59.607Z"
   },
   {
    "duration": 572,
    "start_time": "2022-02-27T15:27:22.714Z"
   },
   {
    "duration": 14,
    "start_time": "2022-02-27T15:27:28.246Z"
   },
   {
    "duration": 18,
    "start_time": "2022-02-27T15:32:23.171Z"
   },
   {
    "duration": 16,
    "start_time": "2022-02-27T15:32:42.005Z"
   },
   {
    "duration": 2,
    "start_time": "2022-02-27T15:36:11.449Z"
   },
   {
    "duration": 16,
    "start_time": "2022-02-27T15:41:45.461Z"
   },
   {
    "duration": 448,
    "start_time": "2022-02-27T15:43:48.277Z"
   },
   {
    "duration": 183,
    "start_time": "2022-02-27T15:44:04.561Z"
   },
   {
    "duration": 159,
    "start_time": "2022-02-27T15:46:47.987Z"
   },
   {
    "duration": 238,
    "start_time": "2022-02-27T15:47:53.310Z"
   },
   {
    "duration": 246,
    "start_time": "2022-02-27T15:48:01.298Z"
   },
   {
    "duration": 268,
    "start_time": "2022-02-27T15:51:03.471Z"
   },
   {
    "duration": 3,
    "start_time": "2022-02-27T16:30:49.073Z"
   },
   {
    "duration": 3,
    "start_time": "2022-02-27T16:33:52.881Z"
   },
   {
    "duration": 3,
    "start_time": "2022-02-27T16:35:50.901Z"
   },
   {
    "duration": 3,
    "start_time": "2022-02-27T16:36:00.796Z"
   },
   {
    "duration": 5,
    "start_time": "2022-02-27T16:38:47.814Z"
   },
   {
    "duration": 4,
    "start_time": "2022-02-27T16:40:13.402Z"
   },
   {
    "duration": 208,
    "start_time": "2022-02-27T17:54:30.435Z"
   },
   {
    "duration": 34,
    "start_time": "2022-02-27T17:55:58.870Z"
   },
   {
    "duration": 141,
    "start_time": "2022-02-27T17:56:09.439Z"
   },
   {
    "duration": 233,
    "start_time": "2022-02-27T17:56:12.397Z"
   },
   {
    "duration": 34,
    "start_time": "2022-02-27T17:56:20.114Z"
   },
   {
    "duration": 34,
    "start_time": "2022-02-27T17:56:24.874Z"
   },
   {
    "duration": 3,
    "start_time": "2022-02-27T17:58:15.578Z"
   },
   {
    "duration": 53,
    "start_time": "2022-02-27T18:05:48.437Z"
   },
   {
    "duration": 136,
    "start_time": "2022-02-27T18:05:52.021Z"
   },
   {
    "duration": 6,
    "start_time": "2022-02-27T18:06:07.013Z"
   },
   {
    "duration": 9,
    "start_time": "2022-02-27T18:06:21.058Z"
   },
   {
    "duration": 8,
    "start_time": "2022-02-27T18:06:44.056Z"
   },
   {
    "duration": 216,
    "start_time": "2022-02-27T18:07:29.335Z"
   },
   {
    "duration": 14,
    "start_time": "2022-02-27T18:07:43.960Z"
   },
   {
    "duration": 14,
    "start_time": "2022-02-27T18:11:19.878Z"
   },
   {
    "duration": 11,
    "start_time": "2022-02-27T18:11:26.119Z"
   },
   {
    "duration": 10,
    "start_time": "2022-02-27T18:11:34.431Z"
   },
   {
    "duration": 56,
    "start_time": "2022-02-27T18:20:06.939Z"
   },
   {
    "duration": 25,
    "start_time": "2022-02-27T18:20:15.887Z"
   },
   {
    "duration": 55,
    "start_time": "2022-02-27T18:21:08.063Z"
   },
   {
    "duration": 30,
    "start_time": "2022-02-27T18:21:12.020Z"
   },
   {
    "duration": 27,
    "start_time": "2022-02-27T18:21:25.449Z"
   },
   {
    "duration": 79,
    "start_time": "2022-02-27T18:23:31.098Z"
   },
   {
    "duration": 195,
    "start_time": "2022-02-27T18:23:35.545Z"
   },
   {
    "duration": 13,
    "start_time": "2022-02-27T18:24:26.270Z"
   },
   {
    "duration": 22,
    "start_time": "2022-02-27T18:24:31.985Z"
   },
   {
    "duration": 1375,
    "start_time": "2022-02-27T18:24:49.279Z"
   },
   {
    "duration": 16,
    "start_time": "2022-02-27T18:25:00.817Z"
   },
   {
    "duration": 998,
    "start_time": "2022-02-28T07:22:02.797Z"
   },
   {
    "duration": 135,
    "start_time": "2022-02-28T07:22:03.797Z"
   },
   {
    "duration": 39,
    "start_time": "2022-02-28T07:22:03.936Z"
   },
   {
    "duration": 118,
    "start_time": "2022-02-28T07:22:03.977Z"
   },
   {
    "duration": 37,
    "start_time": "2022-02-28T07:22:04.097Z"
   },
   {
    "duration": 119,
    "start_time": "2022-02-28T07:22:04.135Z"
   },
   {
    "duration": 38,
    "start_time": "2022-02-28T07:22:04.256Z"
   },
   {
    "duration": 44,
    "start_time": "2022-02-28T07:22:04.302Z"
   },
   {
    "duration": 12,
    "start_time": "2022-02-28T07:22:04.347Z"
   },
   {
    "duration": 242,
    "start_time": "2022-02-28T07:22:04.360Z"
   },
   {
    "duration": 3,
    "start_time": "2022-02-28T07:22:04.604Z"
   },
   {
    "duration": 96,
    "start_time": "2022-02-28T07:22:04.610Z"
   },
   {
    "duration": 4,
    "start_time": "2022-02-28T07:22:04.708Z"
   },
   {
    "duration": 85,
    "start_time": "2022-02-28T07:22:04.714Z"
   },
   {
    "duration": 6938,
    "start_time": "2022-02-28T07:24:50.939Z"
   },
   {
    "duration": 6070,
    "start_time": "2022-02-28T07:25:06.250Z"
   },
   {
    "duration": 6309,
    "start_time": "2022-02-28T07:25:27.643Z"
   },
   {
    "duration": 6735,
    "start_time": "2022-02-28T07:25:50.792Z"
   },
   {
    "duration": 6301,
    "start_time": "2022-02-28T07:26:10.455Z"
   },
   {
    "duration": 6056,
    "start_time": "2022-02-28T07:26:58.254Z"
   },
   {
    "duration": 17,
    "start_time": "2022-02-28T07:27:23.123Z"
   },
   {
    "duration": 28,
    "start_time": "2022-02-28T07:27:31.767Z"
   },
   {
    "duration": 31985,
    "start_time": "2022-02-28T07:28:15.264Z"
   },
   {
    "duration": 289,
    "start_time": "2022-02-28T07:29:17.767Z"
   },
   {
    "duration": 13,
    "start_time": "2022-02-28T07:29:27.247Z"
   },
   {
    "duration": 16,
    "start_time": "2022-02-28T07:29:33.864Z"
   },
   {
    "duration": 92,
    "start_time": "2022-02-28T07:30:29.533Z"
   },
   {
    "duration": 242,
    "start_time": "2022-02-28T07:30:40.492Z"
   },
   {
    "duration": 284,
    "start_time": "2022-02-28T07:31:42.559Z"
   },
   {
    "duration": 21,
    "start_time": "2022-02-28T07:32:42.785Z"
   },
   {
    "duration": 17,
    "start_time": "2022-02-28T07:34:49.076Z"
   },
   {
    "duration": 607,
    "start_time": "2022-02-28T07:35:15.190Z"
   },
   {
    "duration": 24,
    "start_time": "2022-02-28T07:35:19.417Z"
   },
   {
    "duration": 23,
    "start_time": "2022-02-28T07:38:20.623Z"
   },
   {
    "duration": 21,
    "start_time": "2022-02-28T07:39:03.708Z"
   },
   {
    "duration": 17,
    "start_time": "2022-02-28T07:41:52.162Z"
   },
   {
    "duration": 21,
    "start_time": "2022-02-28T07:43:03.931Z"
   },
   {
    "duration": 21,
    "start_time": "2022-02-28T07:43:10.771Z"
   },
   {
    "duration": 21,
    "start_time": "2022-02-28T07:43:29.673Z"
   },
   {
    "duration": 30,
    "start_time": "2022-02-28T07:44:47.878Z"
   },
   {
    "duration": 36,
    "start_time": "2022-02-28T07:44:56.142Z"
   },
   {
    "duration": 40,
    "start_time": "2022-02-28T07:45:27.003Z"
   },
   {
    "duration": 4,
    "start_time": "2022-02-28T07:48:52.540Z"
   },
   {
    "duration": 1036,
    "start_time": "2022-02-28T08:48:19.518Z"
   },
   {
    "duration": 132,
    "start_time": "2022-02-28T08:48:20.557Z"
   },
   {
    "duration": 53,
    "start_time": "2022-02-28T08:48:20.691Z"
   },
   {
    "duration": 117,
    "start_time": "2022-02-28T08:48:20.745Z"
   },
   {
    "duration": 48,
    "start_time": "2022-02-28T08:48:20.864Z"
   },
   {
    "duration": 119,
    "start_time": "2022-02-28T08:48:20.915Z"
   },
   {
    "duration": 47,
    "start_time": "2022-02-28T08:48:21.036Z"
   },
   {
    "duration": 66,
    "start_time": "2022-02-28T08:48:21.085Z"
   },
   {
    "duration": 12,
    "start_time": "2022-02-28T08:48:21.153Z"
   },
   {
    "duration": 339,
    "start_time": "2022-02-28T08:48:21.166Z"
   },
   {
    "duration": 4,
    "start_time": "2022-02-28T08:48:21.507Z"
   },
   {
    "duration": 94,
    "start_time": "2022-02-28T08:48:21.513Z"
   },
   {
    "duration": 7,
    "start_time": "2022-02-28T08:48:21.609Z"
   },
   {
    "duration": 6,
    "start_time": "2022-02-28T08:48:21.617Z"
   },
   {
    "duration": 9,
    "start_time": "2022-02-28T10:35:13.022Z"
   },
   {
    "duration": 128,
    "start_time": "2022-02-28T10:35:13.033Z"
   },
   {
    "duration": 41,
    "start_time": "2022-02-28T10:35:13.163Z"
   },
   {
    "duration": 129,
    "start_time": "2022-02-28T10:35:13.206Z"
   },
   {
    "duration": 35,
    "start_time": "2022-02-28T10:35:13.336Z"
   },
   {
    "duration": 124,
    "start_time": "2022-02-28T10:35:13.373Z"
   },
   {
    "duration": 39,
    "start_time": "2022-02-28T10:35:13.499Z"
   },
   {
    "duration": 63,
    "start_time": "2022-02-28T10:35:13.539Z"
   },
   {
    "duration": 8,
    "start_time": "2022-02-28T10:35:13.604Z"
   },
   {
    "duration": 290,
    "start_time": "2022-02-28T10:35:13.613Z"
   },
   {
    "duration": 4,
    "start_time": "2022-02-28T10:35:13.906Z"
   },
   {
    "duration": 4,
    "start_time": "2022-02-28T10:35:14.002Z"
   },
   {
    "duration": 7,
    "start_time": "2022-02-28T10:35:14.008Z"
   },
   {
    "duration": 3,
    "start_time": "2022-02-28T10:35:14.017Z"
   },
   {
    "duration": 3,
    "start_time": "2022-02-28T10:37:37.665Z"
   },
   {
    "duration": 3,
    "start_time": "2022-02-28T11:06:00.283Z"
   },
   {
    "duration": 753,
    "start_time": "2022-02-28T11:09:30.551Z"
   },
   {
    "duration": 306,
    "start_time": "2022-02-28T11:10:18.116Z"
   },
   {
    "duration": 1022,
    "start_time": "2022-02-28T11:11:23.498Z"
   },
   {
    "duration": 136,
    "start_time": "2022-02-28T11:11:24.522Z"
   },
   {
    "duration": 42,
    "start_time": "2022-02-28T11:11:24.660Z"
   },
   {
    "duration": 118,
    "start_time": "2022-02-28T11:11:24.703Z"
   },
   {
    "duration": 37,
    "start_time": "2022-02-28T11:11:24.822Z"
   },
   {
    "duration": 115,
    "start_time": "2022-02-28T11:11:24.861Z"
   },
   {
    "duration": 49,
    "start_time": "2022-02-28T11:11:24.978Z"
   },
   {
    "duration": 45,
    "start_time": "2022-02-28T11:11:25.030Z"
   },
   {
    "duration": 28,
    "start_time": "2022-02-28T11:11:25.077Z"
   },
   {
    "duration": 200,
    "start_time": "2022-02-28T11:11:25.107Z"
   },
   {
    "duration": 93,
    "start_time": "2022-02-28T11:11:25.309Z"
   },
   {
    "duration": 6,
    "start_time": "2022-02-28T11:11:25.404Z"
   },
   {
    "duration": 89,
    "start_time": "2022-02-28T11:11:25.412Z"
   },
   {
    "duration": 4,
    "start_time": "2022-02-28T11:11:25.503Z"
   },
   {
    "duration": 335,
    "start_time": "2022-02-28T11:11:25.508Z"
   },
   {
    "duration": 334,
    "start_time": "2022-02-28T11:12:29.786Z"
   },
   {
    "duration": 6748,
    "start_time": "2022-02-28T11:15:10.450Z"
   },
   {
    "duration": 6596,
    "start_time": "2022-02-28T11:15:27.897Z"
   },
   {
    "duration": 6491,
    "start_time": "2022-02-28T11:18:04.685Z"
   },
   {
    "duration": 6710,
    "start_time": "2022-02-28T11:18:28.697Z"
   },
   {
    "duration": 6778,
    "start_time": "2022-02-28T11:19:06.676Z"
   },
   {
    "duration": 6565,
    "start_time": "2022-02-28T11:20:13.891Z"
   },
   {
    "duration": 6588,
    "start_time": "2022-02-28T11:21:55.669Z"
   },
   {
    "duration": 1049,
    "start_time": "2022-02-28T11:43:57.063Z"
   },
   {
    "duration": 130,
    "start_time": "2022-02-28T11:43:58.114Z"
   },
   {
    "duration": 42,
    "start_time": "2022-02-28T11:43:58.808Z"
   },
   {
    "duration": 122,
    "start_time": "2022-02-28T11:43:59.318Z"
   },
   {
    "duration": 39,
    "start_time": "2022-02-28T11:43:59.647Z"
   },
   {
    "duration": 119,
    "start_time": "2022-02-28T11:43:59.917Z"
   },
   {
    "duration": 41,
    "start_time": "2022-02-28T11:44:00.184Z"
   },
   {
    "duration": 50,
    "start_time": "2022-02-28T11:44:01.022Z"
   },
   {
    "duration": 13,
    "start_time": "2022-02-28T11:44:01.502Z"
   },
   {
    "duration": 170,
    "start_time": "2022-02-28T11:44:01.937Z"
   },
   {
    "duration": 2,
    "start_time": "2022-02-28T11:44:03.690Z"
   },
   {
    "duration": 4,
    "start_time": "2022-02-28T11:44:07.087Z"
   },
   {
    "duration": 4,
    "start_time": "2022-02-28T11:44:23.749Z"
   },
   {
    "duration": 4,
    "start_time": "2022-02-28T11:44:55.405Z"
   },
   {
    "duration": 4,
    "start_time": "2022-02-28T11:44:56.744Z"
   },
   {
    "duration": 6620,
    "start_time": "2022-02-28T11:44:59.481Z"
   },
   {
    "duration": 6586,
    "start_time": "2022-02-28T11:45:06.103Z"
   },
   {
    "duration": 6487,
    "start_time": "2022-02-28T11:45:12.691Z"
   },
   {
    "duration": 6722,
    "start_time": "2022-02-28T11:47:25.705Z"
   },
   {
    "duration": 6690,
    "start_time": "2022-02-28T11:47:32.428Z"
   },
   {
    "duration": 6591,
    "start_time": "2022-02-28T11:47:44.093Z"
   },
   {
    "duration": 6596,
    "start_time": "2022-02-28T11:50:54.014Z"
   },
   {
    "duration": 6607,
    "start_time": "2022-02-28T11:51:08.738Z"
   },
   {
    "duration": 6754,
    "start_time": "2022-02-28T15:10:44.018Z"
   },
   {
    "duration": 6617,
    "start_time": "2022-02-28T15:10:50.774Z"
   },
   {
    "duration": 6869,
    "start_time": "2022-02-28T15:10:57.393Z"
   },
   {
    "duration": 1386,
    "start_time": "2022-02-28T15:28:47.451Z"
   },
   {
    "duration": 185,
    "start_time": "2022-02-28T15:28:48.840Z"
   },
   {
    "duration": 88,
    "start_time": "2022-02-28T15:28:49.028Z"
   },
   {
    "duration": 168,
    "start_time": "2022-02-28T15:28:49.118Z"
   },
   {
    "duration": 86,
    "start_time": "2022-02-28T15:28:49.288Z"
   },
   {
    "duration": 171,
    "start_time": "2022-02-28T15:28:49.377Z"
   },
   {
    "duration": 93,
    "start_time": "2022-02-28T15:28:49.550Z"
   },
   {
    "duration": 83,
    "start_time": "2022-02-28T15:28:49.645Z"
   },
   {
    "duration": 19,
    "start_time": "2022-02-28T15:28:49.732Z"
   },
   {
    "duration": 421,
    "start_time": "2022-02-28T15:28:49.754Z"
   },
   {
    "duration": 95,
    "start_time": "2022-02-28T15:28:50.179Z"
   },
   {
    "duration": 12,
    "start_time": "2022-02-28T15:28:50.276Z"
   },
   {
    "duration": 6,
    "start_time": "2022-02-28T15:28:50.291Z"
   },
   {
    "duration": 6,
    "start_time": "2022-02-28T15:29:12.649Z"
   },
   {
    "duration": 17,
    "start_time": "2022-02-28T15:29:17.423Z"
   },
   {
    "duration": 386,
    "start_time": "2022-02-28T15:29:37.873Z"
   },
   {
    "duration": 6,
    "start_time": "2022-02-28T15:29:43.057Z"
   },
   {
    "duration": 274,
    "start_time": "2022-02-28T15:29:43.605Z"
   },
   {
    "duration": 277,
    "start_time": "2022-02-28T15:29:52.408Z"
   },
   {
    "duration": 19,
    "start_time": "2022-02-28T15:30:04.722Z"
   },
   {
    "duration": 15103,
    "start_time": "2022-02-28T15:30:12.063Z"
   },
   {
    "duration": 1309,
    "start_time": "2022-02-28T15:30:57.116Z"
   },
   {
    "duration": 190,
    "start_time": "2022-02-28T15:30:58.428Z"
   },
   {
    "duration": 103,
    "start_time": "2022-02-28T15:30:58.620Z"
   },
   {
    "duration": 172,
    "start_time": "2022-02-28T15:30:58.725Z"
   },
   {
    "duration": 98,
    "start_time": "2022-02-28T15:30:58.899Z"
   },
   {
    "duration": 184,
    "start_time": "2022-02-28T15:30:58.999Z"
   },
   {
    "duration": 92,
    "start_time": "2022-02-28T15:30:59.186Z"
   },
   {
    "duration": 67,
    "start_time": "2022-02-28T15:30:59.281Z"
   },
   {
    "duration": 36,
    "start_time": "2022-02-28T15:30:59.351Z"
   },
   {
    "duration": 387,
    "start_time": "2022-02-28T15:30:59.389Z"
   },
   {
    "duration": 95,
    "start_time": "2022-02-28T15:30:59.779Z"
   },
   {
    "duration": 13,
    "start_time": "2022-02-28T15:30:59.876Z"
   },
   {
    "duration": 19,
    "start_time": "2022-02-28T15:30:59.891Z"
   },
   {
    "duration": 10,
    "start_time": "2022-02-28T15:30:59.912Z"
   },
   {
    "duration": 14116,
    "start_time": "2022-02-28T15:30:59.924Z"
   },
   {
    "duration": 16297,
    "start_time": "2022-02-28T15:31:14.042Z"
   },
   {
    "duration": 15194,
    "start_time": "2022-02-28T15:31:30.341Z"
   },
   {
    "duration": 320,
    "start_time": "2022-02-28T16:03:16.995Z"
   },
   {
    "duration": 17,
    "start_time": "2022-02-28T16:03:20.549Z"
   },
   {
    "duration": 16,
    "start_time": "2022-02-28T16:04:38.606Z"
   },
   {
    "duration": 18,
    "start_time": "2022-02-28T16:04:50.678Z"
   },
   {
    "duration": 16,
    "start_time": "2022-02-28T16:05:49.809Z"
   },
   {
    "duration": 18,
    "start_time": "2022-02-28T16:06:03.671Z"
   },
   {
    "duration": 304,
    "start_time": "2022-02-28T16:06:57.298Z"
   },
   {
    "duration": 237,
    "start_time": "2022-02-28T16:07:26.371Z"
   },
   {
    "duration": 288,
    "start_time": "2022-02-28T16:07:56.117Z"
   },
   {
    "duration": 296,
    "start_time": "2022-02-28T16:08:10.313Z"
   },
   {
    "duration": 197,
    "start_time": "2022-02-28T16:08:25.311Z"
   },
   {
    "duration": 243,
    "start_time": "2022-02-28T16:14:29.418Z"
   },
   {
    "duration": 3,
    "start_time": "2022-02-28T16:14:32.114Z"
   },
   {
    "duration": 250,
    "start_time": "2022-02-28T16:14:33.539Z"
   },
   {
    "duration": 3,
    "start_time": "2022-02-28T16:14:48.321Z"
   },
   {
    "duration": 4,
    "start_time": "2022-02-28T16:14:49.675Z"
   },
   {
    "duration": 4,
    "start_time": "2022-02-28T16:14:52.533Z"
   },
   {
    "duration": 4,
    "start_time": "2022-02-28T16:15:02.913Z"
   },
   {
    "duration": 1013,
    "start_time": "2022-02-28T16:15:16.197Z"
   },
   {
    "duration": 140,
    "start_time": "2022-02-28T16:15:17.211Z"
   },
   {
    "duration": 38,
    "start_time": "2022-02-28T16:15:17.356Z"
   },
   {
    "duration": 116,
    "start_time": "2022-02-28T16:15:17.401Z"
   },
   {
    "duration": 37,
    "start_time": "2022-02-28T16:15:17.519Z"
   },
   {
    "duration": 120,
    "start_time": "2022-02-28T16:15:17.557Z"
   },
   {
    "duration": 49,
    "start_time": "2022-02-28T16:15:17.679Z"
   },
   {
    "duration": 46,
    "start_time": "2022-02-28T16:15:17.729Z"
   },
   {
    "duration": 29,
    "start_time": "2022-02-28T16:15:17.777Z"
   },
   {
    "duration": 302,
    "start_time": "2022-02-28T16:15:17.808Z"
   },
   {
    "duration": 3,
    "start_time": "2022-02-28T16:15:18.202Z"
   },
   {
    "duration": 7,
    "start_time": "2022-02-28T16:15:18.207Z"
   },
   {
    "duration": 328,
    "start_time": "2022-02-28T16:15:18.217Z"
   },
   {
    "duration": 48,
    "start_time": "2022-02-28T16:15:18.498Z"
   },
   {
    "duration": 27,
    "start_time": "2022-02-28T16:15:18.520Z"
   },
   {
    "duration": 26,
    "start_time": "2022-02-28T16:15:18.522Z"
   },
   {
    "duration": 22,
    "start_time": "2022-02-28T16:15:18.527Z"
   },
   {
    "duration": 2,
    "start_time": "2022-02-28T16:16:54.511Z"
   },
   {
    "duration": 4,
    "start_time": "2022-02-28T16:16:59.516Z"
   },
   {
    "duration": 4,
    "start_time": "2022-02-28T16:17:34.720Z"
   },
   {
    "duration": 6926,
    "start_time": "2022-02-28T16:17:56.153Z"
   },
   {
    "duration": 6758,
    "start_time": "2022-02-28T16:18:08.730Z"
   },
   {
    "duration": 6640,
    "start_time": "2022-02-28T16:18:20.633Z"
   },
   {
    "duration": 4,
    "start_time": "2022-02-28T16:18:55.075Z"
   },
   {
    "duration": 510,
    "start_time": "2022-02-28T16:19:00.097Z"
   },
   {
    "duration": 527,
    "start_time": "2022-02-28T16:19:01.430Z"
   },
   {
    "duration": 479,
    "start_time": "2022-02-28T16:19:02.749Z"
   },
   {
    "duration": 4,
    "start_time": "2022-02-28T16:19:24.923Z"
   },
   {
    "duration": 6638,
    "start_time": "2022-02-28T16:19:26.326Z"
   },
   {
    "duration": 6488,
    "start_time": "2022-02-28T16:19:32.966Z"
   },
   {
    "duration": 6460,
    "start_time": "2022-02-28T16:19:39.457Z"
   },
   {
    "duration": 11,
    "start_time": "2022-02-28T16:21:19.810Z"
   },
   {
    "duration": 15,
    "start_time": "2022-02-28T16:21:36.492Z"
   },
   {
    "duration": 519,
    "start_time": "2022-02-28T16:23:09.402Z"
   },
   {
    "duration": 553,
    "start_time": "2022-02-28T16:23:24.985Z"
   },
   {
    "duration": 619,
    "start_time": "2022-02-28T16:25:03.947Z"
   },
   {
    "duration": 85,
    "start_time": "2022-02-28T16:27:18.028Z"
   },
   {
    "duration": 6632,
    "start_time": "2022-02-28T16:27:26.060Z"
   },
   {
    "duration": 6980,
    "start_time": "2022-02-28T16:27:57.833Z"
   },
   {
    "duration": 7246,
    "start_time": "2022-02-28T16:28:26.276Z"
   },
   {
    "duration": 6869,
    "start_time": "2022-02-28T16:28:51.387Z"
   },
   {
    "duration": 6993,
    "start_time": "2022-02-28T16:29:10.024Z"
   },
   {
    "duration": 7021,
    "start_time": "2022-02-28T16:29:23.482Z"
   },
   {
    "duration": 6861,
    "start_time": "2022-02-28T16:29:36.298Z"
   },
   {
    "duration": 1051,
    "start_time": "2022-02-28T18:52:35.048Z"
   },
   {
    "duration": 142,
    "start_time": "2022-02-28T18:52:44.204Z"
   },
   {
    "duration": 46,
    "start_time": "2022-02-28T18:52:45.297Z"
   },
   {
    "duration": 119,
    "start_time": "2022-02-28T18:52:46.138Z"
   },
   {
    "duration": 45,
    "start_time": "2022-02-28T18:52:46.665Z"
   },
   {
    "duration": 120,
    "start_time": "2022-02-28T18:52:47.156Z"
   },
   {
    "duration": 43,
    "start_time": "2022-02-28T18:52:47.589Z"
   },
   {
    "duration": 48,
    "start_time": "2022-02-28T18:52:50.458Z"
   },
   {
    "duration": 14,
    "start_time": "2022-02-28T18:52:51.137Z"
   },
   {
    "duration": 304,
    "start_time": "2022-02-28T18:52:51.864Z"
   },
   {
    "duration": 2,
    "start_time": "2022-02-28T18:52:56.251Z"
   },
   {
    "duration": 2,
    "start_time": "2022-02-28T18:53:00.021Z"
   },
   {
    "duration": 4,
    "start_time": "2022-02-28T18:53:04.842Z"
   },
   {
    "duration": 4,
    "start_time": "2022-02-28T18:53:05.399Z"
   },
   {
    "duration": 3,
    "start_time": "2022-02-28T18:53:57.785Z"
   },
   {
    "duration": 4,
    "start_time": "2022-02-28T18:53:58.231Z"
   },
   {
    "duration": 4,
    "start_time": "2022-02-28T18:54:00.563Z"
   },
   {
    "duration": 8172,
    "start_time": "2022-02-28T18:54:06.586Z"
   },
   {
    "duration": 7891,
    "start_time": "2022-02-28T18:54:56.096Z"
   },
   {
    "duration": 7898,
    "start_time": "2022-02-28T18:55:41.457Z"
   },
   {
    "duration": 7960,
    "start_time": "2022-02-28T18:56:25.680Z"
   },
   {
    "duration": 7623,
    "start_time": "2022-02-28T18:57:52.469Z"
   },
   {
    "duration": 7736,
    "start_time": "2022-02-28T18:58:15.236Z"
   },
   {
    "duration": 7836,
    "start_time": "2022-02-28T18:59:35.185Z"
   },
   {
    "duration": 7880,
    "start_time": "2022-02-28T19:00:53.025Z"
   },
   {
    "duration": 8299,
    "start_time": "2022-02-28T19:01:05.270Z"
   }
  ],
  "kernelspec": {
   "display_name": "Python 3.8.9 64-bit",
   "language": "python",
   "name": "python3"
  },
  "language_info": {
   "codemirror_mode": {
    "name": "ipython",
    "version": 3
   },
   "file_extension": ".py",
   "mimetype": "text/x-python",
   "name": "python",
   "nbconvert_exporter": "python",
   "pygments_lexer": "ipython3",
   "version": "3.8.9"
  },
  "toc": {
   "base_numbering": 1,
   "nav_menu": {},
   "number_sections": true,
   "sideBar": true,
   "skip_h1_title": true,
   "title_cell": "Table of Contents",
   "title_sidebar": "Contents",
   "toc_cell": false,
   "toc_position": {},
   "toc_section_display": true,
   "toc_window_display": false
  },
  "vscode": {
   "interpreter": {
    "hash": "31f2aee4e71d21fbe5cf8b01ff0e069b9275f58929596ceb00d14d90e3e16cd6"
   }
  }
 },
 "nbformat": 4,
 "nbformat_minor": 2
}
