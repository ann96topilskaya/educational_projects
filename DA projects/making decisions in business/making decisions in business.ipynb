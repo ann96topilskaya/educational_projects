{
 "cells": [
  {
   "cell_type": "markdown",
   "id": "32143194",
   "metadata": {},
   "source": [
    "# Описание проекта\n",
    " \n",
    "Проект состоит из двух частей: 1 - приоритизировать гипотезы, 2 - провести А/B-тестирование, проанализировать результаты.\n",
    "\n",
    "## Описание данных\n",
    "        - часть 1\n",
    "        датафрейм hypothesis, состоящий из 5-ти столбцов: \n",
    "\n",
    "* Hypothesis — краткое описание гипотезы;\n",
    "* Reach — охват пользователей по 10-балльной шкале;\n",
    "* Impact — влияние на пользователей по 10-балльной шкале;\n",
    "* Confidence — уверенность в гипотезе по 10-балльной шкале;\n",
    "* Efforts — затраты ресурсов на проверку гипотезы по 10-балльной шкале. Чем больше значение Efforts, тем дороже проверка гипотезы.\n",
    "\n",
    "        - часть 2\n",
    "        два датайфрейма:\n",
    "    1) orders с заказами, состоящий из пяти столбцов\n",
    "* transactionId — идентификатор заказа;\n",
    "* visitorId — идентификатор пользователя, совершившего заказ;\n",
    "* date — дата, когда был совершён заказ;\n",
    "* revenue — выручка заказа;\n",
    "* group — группа A/B-теста, в которую попал заказ.\n",
    "\n",
    "    2) visitors с посетителями, состоящий из трёх столбцов\n",
    "* date — дата\n",
    "* group — группа A/B-теста;\n",
    "* visitors — количество пользователей в указанную дату в указанной группе A/B-теста"
   ]
  },
  {
   "cell_type": "markdown",
   "id": "c9e249b2",
   "metadata": {},
   "source": [
    "## Загрузка библиотек"
   ]
  },
  {
   "cell_type": "code",
   "execution_count": null,
   "id": "79983e9c",
   "metadata": {},
   "outputs": [],
   "source": [
    "import pandas as pd\n",
    "import scipy.stats as stats\n",
    "import datetime as dt\n",
    "import numpy as np\n",
    "import matplotlib.pyplot as plt"
   ]
  },
  {
   "cell_type": "markdown",
   "id": "abaec0bc",
   "metadata": {},
   "source": [
    "## Загрузка и предобработка данных"
   ]
  },
  {
   "cell_type": "code",
   "execution_count": 2,
   "id": "c25dd152",
   "metadata": {},
   "outputs": [],
   "source": [
    "try:\n",
    "    hipothesis = pd.read_csv('/datasets/hypothesis.csv')\n",
    "    orders = pd.read_csv('/datasets/orders.csv')\n",
    "    visitors = pd.read_csv('/datasets/visitors.csv')\n",
    "except:\n",
    "    hipothesis = pd.read_csv('hypothesis.csv')\n",
    "    orders = pd.read_csv('orders.csv')\n",
    "    visitors = pd.read_csv('visitors.csv')"
   ]
  },
  {
   "cell_type": "code",
   "execution_count": 3,
   "id": "7a3ff0f1",
   "metadata": {},
   "outputs": [
    {
     "name": "stdout",
     "output_type": "stream",
     "text": [
      "Hypothesis    object\n",
      "Reach          int64\n",
      "Impact         int64\n",
      "Confidence     int64\n",
      "Efforts        int64\n",
      "dtype: object\n",
      "\n",
      "transactionId     int64\n",
      "visitorId         int64\n",
      "date             object\n",
      "revenue           int64\n",
      "group            object\n",
      "dtype: object\n",
      "\n",
      "date        object\n",
      "group       object\n",
      "visitors     int64\n",
      "dtype: object\n",
      "\n"
     ]
    }
   ],
   "source": [
    "print(hipothesis.dtypes)\n",
    "print()\n",
    "print(orders.dtypes)\n",
    "print()\n",
    "print(visitors.dtypes)\n",
    "print()"
   ]
  },
  {
   "cell_type": "code",
   "execution_count": 4,
   "id": "6558ede0",
   "metadata": {},
   "outputs": [],
   "source": [
    "orders['date'] = orders['date'].map(lambda x: dt.datetime.strptime(x, '%Y-%m-%d'))\n",
    "visitors['date'] = visitors['date'].map(lambda x: dt.datetime.strptime(x, '%Y-%m-%d'))"
   ]
  },
  {
   "cell_type": "code",
   "execution_count": 5,
   "id": "4782bec7",
   "metadata": {},
   "outputs": [
    {
     "name": "stdout",
     "output_type": "stream",
     "text": [
      "transactionId             int64\n",
      "visitorId                 int64\n",
      "date             datetime64[ns]\n",
      "revenue                   int64\n",
      "group                    object\n",
      "dtype: object\n",
      "\n",
      "date        datetime64[ns]\n",
      "group               object\n",
      "visitors             int64\n",
      "dtype: object\n",
      "\n"
     ]
    }
   ],
   "source": [
    "print(orders.dtypes)\n",
    "print()\n",
    "print(visitors.dtypes)\n",
    "print()"
   ]
  },
  {
   "cell_type": "code",
   "execution_count": 6,
   "id": "a136eb18",
   "metadata": {},
   "outputs": [
    {
     "data": {
      "text/html": [
       "<div>\n",
       "<style scoped>\n",
       "    .dataframe tbody tr th:only-of-type {\n",
       "        vertical-align: middle;\n",
       "    }\n",
       "\n",
       "    .dataframe tbody tr th {\n",
       "        vertical-align: top;\n",
       "    }\n",
       "\n",
       "    .dataframe thead th {\n",
       "        text-align: right;\n",
       "    }\n",
       "</style>\n",
       "<table border=\"1\" class=\"dataframe\">\n",
       "  <thead>\n",
       "    <tr style=\"text-align: right;\">\n",
       "      <th></th>\n",
       "      <th>Hypothesis</th>\n",
       "      <th>Reach</th>\n",
       "      <th>Impact</th>\n",
       "      <th>Confidence</th>\n",
       "      <th>Efforts</th>\n",
       "    </tr>\n",
       "  </thead>\n",
       "  <tbody>\n",
       "    <tr>\n",
       "      <th>0</th>\n",
       "      <td>Добавить два новых канала привлечения трафика,...</td>\n",
       "      <td>3</td>\n",
       "      <td>10</td>\n",
       "      <td>8</td>\n",
       "      <td>6</td>\n",
       "    </tr>\n",
       "    <tr>\n",
       "      <th>1</th>\n",
       "      <td>Запустить собственную службу доставки, что сок...</td>\n",
       "      <td>2</td>\n",
       "      <td>5</td>\n",
       "      <td>4</td>\n",
       "      <td>10</td>\n",
       "    </tr>\n",
       "    <tr>\n",
       "      <th>2</th>\n",
       "      <td>Добавить блоки рекомендаций товаров на сайт ин...</td>\n",
       "      <td>8</td>\n",
       "      <td>3</td>\n",
       "      <td>7</td>\n",
       "      <td>3</td>\n",
       "    </tr>\n",
       "    <tr>\n",
       "      <th>3</th>\n",
       "      <td>Изменить структура категорий, что увеличит кон...</td>\n",
       "      <td>8</td>\n",
       "      <td>3</td>\n",
       "      <td>3</td>\n",
       "      <td>8</td>\n",
       "    </tr>\n",
       "    <tr>\n",
       "      <th>4</th>\n",
       "      <td>Изменить цвет фона главной страницы, чтобы уве...</td>\n",
       "      <td>3</td>\n",
       "      <td>1</td>\n",
       "      <td>1</td>\n",
       "      <td>1</td>\n",
       "    </tr>\n",
       "    <tr>\n",
       "      <th>5</th>\n",
       "      <td>Добавить страницу отзывов клиентов о магазине,...</td>\n",
       "      <td>3</td>\n",
       "      <td>2</td>\n",
       "      <td>2</td>\n",
       "      <td>3</td>\n",
       "    </tr>\n",
       "    <tr>\n",
       "      <th>6</th>\n",
       "      <td>Показать на главной странице баннеры с актуаль...</td>\n",
       "      <td>5</td>\n",
       "      <td>3</td>\n",
       "      <td>8</td>\n",
       "      <td>3</td>\n",
       "    </tr>\n",
       "    <tr>\n",
       "      <th>7</th>\n",
       "      <td>Добавить форму подписки на все основные страни...</td>\n",
       "      <td>10</td>\n",
       "      <td>7</td>\n",
       "      <td>8</td>\n",
       "      <td>5</td>\n",
       "    </tr>\n",
       "    <tr>\n",
       "      <th>8</th>\n",
       "      <td>Запустить акцию, дающую скидку на товар в день...</td>\n",
       "      <td>1</td>\n",
       "      <td>9</td>\n",
       "      <td>9</td>\n",
       "      <td>5</td>\n",
       "    </tr>\n",
       "  </tbody>\n",
       "</table>\n",
       "</div>"
      ],
      "text/plain": [
       "                                          Hypothesis  Reach  Impact  \\\n",
       "0  Добавить два новых канала привлечения трафика,...      3      10   \n",
       "1  Запустить собственную службу доставки, что сок...      2       5   \n",
       "2  Добавить блоки рекомендаций товаров на сайт ин...      8       3   \n",
       "3  Изменить структура категорий, что увеличит кон...      8       3   \n",
       "4  Изменить цвет фона главной страницы, чтобы уве...      3       1   \n",
       "5  Добавить страницу отзывов клиентов о магазине,...      3       2   \n",
       "6  Показать на главной странице баннеры с актуаль...      5       3   \n",
       "7  Добавить форму подписки на все основные страни...     10       7   \n",
       "8  Запустить акцию, дающую скидку на товар в день...      1       9   \n",
       "\n",
       "   Confidence  Efforts  \n",
       "0           8        6  \n",
       "1           4       10  \n",
       "2           7        3  \n",
       "3           3        8  \n",
       "4           1        1  \n",
       "5           2        3  \n",
       "6           8        3  \n",
       "7           8        5  \n",
       "8           9        5  "
      ]
     },
     "metadata": {},
     "output_type": "display_data"
    }
   ],
   "source": [
    "display(hipothesis)"
   ]
  },
  {
   "cell_type": "code",
   "execution_count": 7,
   "id": "8c78b205",
   "metadata": {},
   "outputs": [
    {
     "data": {
      "text/html": [
       "<div>\n",
       "<style scoped>\n",
       "    .dataframe tbody tr th:only-of-type {\n",
       "        vertical-align: middle;\n",
       "    }\n",
       "\n",
       "    .dataframe tbody tr th {\n",
       "        vertical-align: top;\n",
       "    }\n",
       "\n",
       "    .dataframe thead th {\n",
       "        text-align: right;\n",
       "    }\n",
       "</style>\n",
       "<table border=\"1\" class=\"dataframe\">\n",
       "  <thead>\n",
       "    <tr style=\"text-align: right;\">\n",
       "      <th></th>\n",
       "      <th>transactionId</th>\n",
       "      <th>visitorId</th>\n",
       "      <th>date</th>\n",
       "      <th>revenue</th>\n",
       "      <th>group</th>\n",
       "    </tr>\n",
       "  </thead>\n",
       "  <tbody>\n",
       "    <tr>\n",
       "      <th>0</th>\n",
       "      <td>3667963787</td>\n",
       "      <td>3312258926</td>\n",
       "      <td>2019-08-15</td>\n",
       "      <td>1650</td>\n",
       "      <td>B</td>\n",
       "    </tr>\n",
       "    <tr>\n",
       "      <th>1</th>\n",
       "      <td>2804400009</td>\n",
       "      <td>3642806036</td>\n",
       "      <td>2019-08-15</td>\n",
       "      <td>730</td>\n",
       "      <td>B</td>\n",
       "    </tr>\n",
       "    <tr>\n",
       "      <th>2</th>\n",
       "      <td>2961555356</td>\n",
       "      <td>4069496402</td>\n",
       "      <td>2019-08-15</td>\n",
       "      <td>400</td>\n",
       "      <td>A</td>\n",
       "    </tr>\n",
       "    <tr>\n",
       "      <th>3</th>\n",
       "      <td>3797467345</td>\n",
       "      <td>1196621759</td>\n",
       "      <td>2019-08-15</td>\n",
       "      <td>9759</td>\n",
       "      <td>B</td>\n",
       "    </tr>\n",
       "    <tr>\n",
       "      <th>4</th>\n",
       "      <td>2282983706</td>\n",
       "      <td>2322279887</td>\n",
       "      <td>2019-08-15</td>\n",
       "      <td>2308</td>\n",
       "      <td>B</td>\n",
       "    </tr>\n",
       "    <tr>\n",
       "      <th>...</th>\n",
       "      <td>...</td>\n",
       "      <td>...</td>\n",
       "      <td>...</td>\n",
       "      <td>...</td>\n",
       "      <td>...</td>\n",
       "    </tr>\n",
       "    <tr>\n",
       "      <th>1192</th>\n",
       "      <td>2662137336</td>\n",
       "      <td>3733762160</td>\n",
       "      <td>2019-08-14</td>\n",
       "      <td>6490</td>\n",
       "      <td>B</td>\n",
       "    </tr>\n",
       "    <tr>\n",
       "      <th>1193</th>\n",
       "      <td>2203539145</td>\n",
       "      <td>370388673</td>\n",
       "      <td>2019-08-14</td>\n",
       "      <td>3190</td>\n",
       "      <td>A</td>\n",
       "    </tr>\n",
       "    <tr>\n",
       "      <th>1194</th>\n",
       "      <td>1807773912</td>\n",
       "      <td>573423106</td>\n",
       "      <td>2019-08-14</td>\n",
       "      <td>10550</td>\n",
       "      <td>A</td>\n",
       "    </tr>\n",
       "    <tr>\n",
       "      <th>1195</th>\n",
       "      <td>1947021204</td>\n",
       "      <td>1614305549</td>\n",
       "      <td>2019-08-14</td>\n",
       "      <td>100</td>\n",
       "      <td>A</td>\n",
       "    </tr>\n",
       "    <tr>\n",
       "      <th>1196</th>\n",
       "      <td>3936777065</td>\n",
       "      <td>2108080724</td>\n",
       "      <td>2019-08-15</td>\n",
       "      <td>202740</td>\n",
       "      <td>B</td>\n",
       "    </tr>\n",
       "  </tbody>\n",
       "</table>\n",
       "<p>1197 rows × 5 columns</p>\n",
       "</div>"
      ],
      "text/plain": [
       "      transactionId   visitorId       date  revenue group\n",
       "0        3667963787  3312258926 2019-08-15     1650     B\n",
       "1        2804400009  3642806036 2019-08-15      730     B\n",
       "2        2961555356  4069496402 2019-08-15      400     A\n",
       "3        3797467345  1196621759 2019-08-15     9759     B\n",
       "4        2282983706  2322279887 2019-08-15     2308     B\n",
       "...             ...         ...        ...      ...   ...\n",
       "1192     2662137336  3733762160 2019-08-14     6490     B\n",
       "1193     2203539145   370388673 2019-08-14     3190     A\n",
       "1194     1807773912   573423106 2019-08-14    10550     A\n",
       "1195     1947021204  1614305549 2019-08-14      100     A\n",
       "1196     3936777065  2108080724 2019-08-15   202740     B\n",
       "\n",
       "[1197 rows x 5 columns]"
      ]
     },
     "metadata": {},
     "output_type": "display_data"
    }
   ],
   "source": [
    "display(orders)"
   ]
  },
  {
   "cell_type": "code",
   "execution_count": 8,
   "id": "cd6d8975",
   "metadata": {},
   "outputs": [
    {
     "data": {
      "text/html": [
       "<div>\n",
       "<style scoped>\n",
       "    .dataframe tbody tr th:only-of-type {\n",
       "        vertical-align: middle;\n",
       "    }\n",
       "\n",
       "    .dataframe tbody tr th {\n",
       "        vertical-align: top;\n",
       "    }\n",
       "\n",
       "    .dataframe thead th {\n",
       "        text-align: right;\n",
       "    }\n",
       "</style>\n",
       "<table border=\"1\" class=\"dataframe\">\n",
       "  <thead>\n",
       "    <tr style=\"text-align: right;\">\n",
       "      <th></th>\n",
       "      <th>date</th>\n",
       "      <th>group</th>\n",
       "      <th>visitors</th>\n",
       "    </tr>\n",
       "  </thead>\n",
       "  <tbody>\n",
       "    <tr>\n",
       "      <th>0</th>\n",
       "      <td>2019-08-01</td>\n",
       "      <td>A</td>\n",
       "      <td>719</td>\n",
       "    </tr>\n",
       "    <tr>\n",
       "      <th>1</th>\n",
       "      <td>2019-08-02</td>\n",
       "      <td>A</td>\n",
       "      <td>619</td>\n",
       "    </tr>\n",
       "    <tr>\n",
       "      <th>2</th>\n",
       "      <td>2019-08-03</td>\n",
       "      <td>A</td>\n",
       "      <td>507</td>\n",
       "    </tr>\n",
       "    <tr>\n",
       "      <th>3</th>\n",
       "      <td>2019-08-04</td>\n",
       "      <td>A</td>\n",
       "      <td>717</td>\n",
       "    </tr>\n",
       "    <tr>\n",
       "      <th>4</th>\n",
       "      <td>2019-08-05</td>\n",
       "      <td>A</td>\n",
       "      <td>756</td>\n",
       "    </tr>\n",
       "    <tr>\n",
       "      <th>...</th>\n",
       "      <td>...</td>\n",
       "      <td>...</td>\n",
       "      <td>...</td>\n",
       "    </tr>\n",
       "    <tr>\n",
       "      <th>57</th>\n",
       "      <td>2019-08-27</td>\n",
       "      <td>B</td>\n",
       "      <td>720</td>\n",
       "    </tr>\n",
       "    <tr>\n",
       "      <th>58</th>\n",
       "      <td>2019-08-28</td>\n",
       "      <td>B</td>\n",
       "      <td>654</td>\n",
       "    </tr>\n",
       "    <tr>\n",
       "      <th>59</th>\n",
       "      <td>2019-08-29</td>\n",
       "      <td>B</td>\n",
       "      <td>531</td>\n",
       "    </tr>\n",
       "    <tr>\n",
       "      <th>60</th>\n",
       "      <td>2019-08-30</td>\n",
       "      <td>B</td>\n",
       "      <td>490</td>\n",
       "    </tr>\n",
       "    <tr>\n",
       "      <th>61</th>\n",
       "      <td>2019-08-31</td>\n",
       "      <td>B</td>\n",
       "      <td>718</td>\n",
       "    </tr>\n",
       "  </tbody>\n",
       "</table>\n",
       "<p>62 rows × 3 columns</p>\n",
       "</div>"
      ],
      "text/plain": [
       "         date group  visitors\n",
       "0  2019-08-01     A       719\n",
       "1  2019-08-02     A       619\n",
       "2  2019-08-03     A       507\n",
       "3  2019-08-04     A       717\n",
       "4  2019-08-05     A       756\n",
       "..        ...   ...       ...\n",
       "57 2019-08-27     B       720\n",
       "58 2019-08-28     B       654\n",
       "59 2019-08-29     B       531\n",
       "60 2019-08-30     B       490\n",
       "61 2019-08-31     B       718\n",
       "\n",
       "[62 rows x 3 columns]"
      ]
     },
     "metadata": {},
     "output_type": "display_data"
    }
   ],
   "source": [
    "display(visitors)"
   ]
  },
  {
   "cell_type": "code",
   "execution_count": 9,
   "id": "c95ac91c",
   "metadata": {},
   "outputs": [
    {
     "data": {
      "text/plain": [
       "0"
      ]
     },
     "execution_count": 9,
     "metadata": {},
     "output_type": "execute_result"
    }
   ],
   "source": [
    "orders.duplicated().sum()"
   ]
  },
  {
   "cell_type": "code",
   "execution_count": 10,
   "id": "276bcd3a",
   "metadata": {},
   "outputs": [
    {
     "data": {
      "text/plain": [
       "transactionId    0\n",
       "visitorId        0\n",
       "date             0\n",
       "revenue          0\n",
       "group            0\n",
       "dtype: int64"
      ]
     },
     "execution_count": 10,
     "metadata": {},
     "output_type": "execute_result"
    }
   ],
   "source": [
    "orders.isna().sum()"
   ]
  },
  {
   "cell_type": "markdown",
   "id": "ac4c4c6f",
   "metadata": {},
   "source": [
    "## Часть 1. Приоритизация гипотез.\n",
    "### ICE"
   ]
  },
  {
   "cell_type": "markdown",
   "id": "2eedc01b",
   "metadata": {},
   "source": [
    "$$\n",
    "ICE = \\frac{Impact *Confidence}{ Efforts}\n",
    "$$"
   ]
  },
  {
   "cell_type": "code",
   "execution_count": 11,
   "id": "6e073f24",
   "metadata": {},
   "outputs": [
    {
     "data": {
      "text/html": [
       "<div>\n",
       "<style scoped>\n",
       "    .dataframe tbody tr th:only-of-type {\n",
       "        vertical-align: middle;\n",
       "    }\n",
       "\n",
       "    .dataframe tbody tr th {\n",
       "        vertical-align: top;\n",
       "    }\n",
       "\n",
       "    .dataframe thead th {\n",
       "        text-align: right;\n",
       "    }\n",
       "</style>\n",
       "<table border=\"1\" class=\"dataframe\">\n",
       "  <thead>\n",
       "    <tr style=\"text-align: right;\">\n",
       "      <th></th>\n",
       "      <th>Hypothesis</th>\n",
       "      <th>Reach</th>\n",
       "      <th>Impact</th>\n",
       "      <th>Confidence</th>\n",
       "      <th>Efforts</th>\n",
       "      <th>ice</th>\n",
       "    </tr>\n",
       "  </thead>\n",
       "  <tbody>\n",
       "    <tr>\n",
       "      <th>8</th>\n",
       "      <td>Запустить акцию, дающую скидку на товар в день рождения</td>\n",
       "      <td>1</td>\n",
       "      <td>9</td>\n",
       "      <td>9</td>\n",
       "      <td>5</td>\n",
       "      <td>16.20</td>\n",
       "    </tr>\n",
       "    <tr>\n",
       "      <th>0</th>\n",
       "      <td>Добавить два новых канала привлечения трафика, что позволит привлекать на 30% больше пользователей</td>\n",
       "      <td>3</td>\n",
       "      <td>10</td>\n",
       "      <td>8</td>\n",
       "      <td>6</td>\n",
       "      <td>13.33</td>\n",
       "    </tr>\n",
       "    <tr>\n",
       "      <th>7</th>\n",
       "      <td>Добавить форму подписки на все основные страницы, чтобы собрать базу клиентов для email-рассылок</td>\n",
       "      <td>10</td>\n",
       "      <td>7</td>\n",
       "      <td>8</td>\n",
       "      <td>5</td>\n",
       "      <td>11.20</td>\n",
       "    </tr>\n",
       "    <tr>\n",
       "      <th>6</th>\n",
       "      <td>Показать на главной странице баннеры с актуальными акциями и распродажами, чтобы увеличить конве...</td>\n",
       "      <td>5</td>\n",
       "      <td>3</td>\n",
       "      <td>8</td>\n",
       "      <td>3</td>\n",
       "      <td>8.00</td>\n",
       "    </tr>\n",
       "    <tr>\n",
       "      <th>2</th>\n",
       "      <td>Добавить блоки рекомендаций товаров на сайт интернет магазина, чтобы повысить конверсию и средни...</td>\n",
       "      <td>8</td>\n",
       "      <td>3</td>\n",
       "      <td>7</td>\n",
       "      <td>3</td>\n",
       "      <td>7.00</td>\n",
       "    </tr>\n",
       "    <tr>\n",
       "      <th>1</th>\n",
       "      <td>Запустить собственную службу доставки, что сократит срок доставки заказов</td>\n",
       "      <td>2</td>\n",
       "      <td>5</td>\n",
       "      <td>4</td>\n",
       "      <td>10</td>\n",
       "      <td>2.00</td>\n",
       "    </tr>\n",
       "    <tr>\n",
       "      <th>5</th>\n",
       "      <td>Добавить страницу отзывов клиентов о магазине, что позволит увеличить количество заказов</td>\n",
       "      <td>3</td>\n",
       "      <td>2</td>\n",
       "      <td>2</td>\n",
       "      <td>3</td>\n",
       "      <td>1.33</td>\n",
       "    </tr>\n",
       "    <tr>\n",
       "      <th>3</th>\n",
       "      <td>Изменить структура категорий, что увеличит конверсию, т.к. пользователи быстрее найдут нужный товар</td>\n",
       "      <td>8</td>\n",
       "      <td>3</td>\n",
       "      <td>3</td>\n",
       "      <td>8</td>\n",
       "      <td>1.12</td>\n",
       "    </tr>\n",
       "    <tr>\n",
       "      <th>4</th>\n",
       "      <td>Изменить цвет фона главной страницы, чтобы увеличить вовлеченность пользователей</td>\n",
       "      <td>3</td>\n",
       "      <td>1</td>\n",
       "      <td>1</td>\n",
       "      <td>1</td>\n",
       "      <td>1.00</td>\n",
       "    </tr>\n",
       "  </tbody>\n",
       "</table>\n",
       "</div>"
      ],
      "text/plain": [
       "                                                                                            Hypothesis  \\\n",
       "8                                              Запустить акцию, дающую скидку на товар в день рождения   \n",
       "0   Добавить два новых канала привлечения трафика, что позволит привлекать на 30% больше пользователей   \n",
       "7     Добавить форму подписки на все основные страницы, чтобы собрать базу клиентов для email-рассылок   \n",
       "6  Показать на главной странице баннеры с актуальными акциями и распродажами, чтобы увеличить конве...   \n",
       "2  Добавить блоки рекомендаций товаров на сайт интернет магазина, чтобы повысить конверсию и средни...   \n",
       "1                            Запустить собственную службу доставки, что сократит срок доставки заказов   \n",
       "5             Добавить страницу отзывов клиентов о магазине, что позволит увеличить количество заказов   \n",
       "3  Изменить структура категорий, что увеличит конверсию, т.к. пользователи быстрее найдут нужный товар   \n",
       "4                     Изменить цвет фона главной страницы, чтобы увеличить вовлеченность пользователей   \n",
       "\n",
       "   Reach  Impact  Confidence  Efforts    ice  \n",
       "8      1       9           9        5  16.20  \n",
       "0      3      10           8        6  13.33  \n",
       "7     10       7           8        5  11.20  \n",
       "6      5       3           8        3   8.00  \n",
       "2      8       3           7        3   7.00  \n",
       "1      2       5           4       10   2.00  \n",
       "5      3       2           2        3   1.33  \n",
       "3      8       3           3        8   1.12  \n",
       "4      3       1           1        1   1.00  "
      ]
     },
     "execution_count": 11,
     "metadata": {},
     "output_type": "execute_result"
    }
   ],
   "source": [
    "def ice_score(row):\n",
    "    impact = row['Impact']\n",
    "    confidence = row['Confidence']\n",
    "    efforts = row['Efforts']\n",
    "    ice = impact * confidence / efforts\n",
    "    return round(ice, 2)\n",
    "\n",
    "hipothesis['ice'] = hipothesis.apply(ice_score, axis=1)\n",
    "pd.options.display.max_colwidth = 100\n",
    "hipothesis.sort_values('ice', ascending = False)"
   ]
  },
  {
   "cell_type": "markdown",
   "id": "a766d6b5",
   "metadata": {},
   "source": [
    "### RICE"
   ]
  },
  {
   "cell_type": "markdown",
   "id": "7e3f0603",
   "metadata": {},
   "source": [
    "$$\n",
    "RICE = \\frac{Reach* Impact * Confidence}{ Efforts}\n",
    "$$"
   ]
  },
  {
   "cell_type": "code",
   "execution_count": 12,
   "id": "9357802c",
   "metadata": {},
   "outputs": [
    {
     "data": {
      "text/html": [
       "<div>\n",
       "<style scoped>\n",
       "    .dataframe tbody tr th:only-of-type {\n",
       "        vertical-align: middle;\n",
       "    }\n",
       "\n",
       "    .dataframe tbody tr th {\n",
       "        vertical-align: top;\n",
       "    }\n",
       "\n",
       "    .dataframe thead th {\n",
       "        text-align: right;\n",
       "    }\n",
       "</style>\n",
       "<table border=\"1\" class=\"dataframe\">\n",
       "  <thead>\n",
       "    <tr style=\"text-align: right;\">\n",
       "      <th></th>\n",
       "      <th>Hypothesis</th>\n",
       "      <th>Reach</th>\n",
       "      <th>Impact</th>\n",
       "      <th>Confidence</th>\n",
       "      <th>Efforts</th>\n",
       "      <th>ice</th>\n",
       "      <th>rice</th>\n",
       "    </tr>\n",
       "  </thead>\n",
       "  <tbody>\n",
       "    <tr>\n",
       "      <th>7</th>\n",
       "      <td>Добавить форму подписки на все основные страницы, чтобы собрать базу клиентов для email-рассылок</td>\n",
       "      <td>10</td>\n",
       "      <td>7</td>\n",
       "      <td>8</td>\n",
       "      <td>5</td>\n",
       "      <td>11.20</td>\n",
       "      <td>112.0</td>\n",
       "    </tr>\n",
       "    <tr>\n",
       "      <th>2</th>\n",
       "      <td>Добавить блоки рекомендаций товаров на сайт интернет магазина, чтобы повысить конверсию и средни...</td>\n",
       "      <td>8</td>\n",
       "      <td>3</td>\n",
       "      <td>7</td>\n",
       "      <td>3</td>\n",
       "      <td>7.00</td>\n",
       "      <td>56.0</td>\n",
       "    </tr>\n",
       "    <tr>\n",
       "      <th>0</th>\n",
       "      <td>Добавить два новых канала привлечения трафика, что позволит привлекать на 30% больше пользователей</td>\n",
       "      <td>3</td>\n",
       "      <td>10</td>\n",
       "      <td>8</td>\n",
       "      <td>6</td>\n",
       "      <td>13.33</td>\n",
       "      <td>40.0</td>\n",
       "    </tr>\n",
       "    <tr>\n",
       "      <th>6</th>\n",
       "      <td>Показать на главной странице баннеры с актуальными акциями и распродажами, чтобы увеличить конве...</td>\n",
       "      <td>5</td>\n",
       "      <td>3</td>\n",
       "      <td>8</td>\n",
       "      <td>3</td>\n",
       "      <td>8.00</td>\n",
       "      <td>40.0</td>\n",
       "    </tr>\n",
       "    <tr>\n",
       "      <th>8</th>\n",
       "      <td>Запустить акцию, дающую скидку на товар в день рождения</td>\n",
       "      <td>1</td>\n",
       "      <td>9</td>\n",
       "      <td>9</td>\n",
       "      <td>5</td>\n",
       "      <td>16.20</td>\n",
       "      <td>16.2</td>\n",
       "    </tr>\n",
       "    <tr>\n",
       "      <th>3</th>\n",
       "      <td>Изменить структура категорий, что увеличит конверсию, т.к. пользователи быстрее найдут нужный товар</td>\n",
       "      <td>8</td>\n",
       "      <td>3</td>\n",
       "      <td>3</td>\n",
       "      <td>8</td>\n",
       "      <td>1.12</td>\n",
       "      <td>9.0</td>\n",
       "    </tr>\n",
       "    <tr>\n",
       "      <th>1</th>\n",
       "      <td>Запустить собственную службу доставки, что сократит срок доставки заказов</td>\n",
       "      <td>2</td>\n",
       "      <td>5</td>\n",
       "      <td>4</td>\n",
       "      <td>10</td>\n",
       "      <td>2.00</td>\n",
       "      <td>4.0</td>\n",
       "    </tr>\n",
       "    <tr>\n",
       "      <th>5</th>\n",
       "      <td>Добавить страницу отзывов клиентов о магазине, что позволит увеличить количество заказов</td>\n",
       "      <td>3</td>\n",
       "      <td>2</td>\n",
       "      <td>2</td>\n",
       "      <td>3</td>\n",
       "      <td>1.33</td>\n",
       "      <td>4.0</td>\n",
       "    </tr>\n",
       "    <tr>\n",
       "      <th>4</th>\n",
       "      <td>Изменить цвет фона главной страницы, чтобы увеличить вовлеченность пользователей</td>\n",
       "      <td>3</td>\n",
       "      <td>1</td>\n",
       "      <td>1</td>\n",
       "      <td>1</td>\n",
       "      <td>1.00</td>\n",
       "      <td>3.0</td>\n",
       "    </tr>\n",
       "  </tbody>\n",
       "</table>\n",
       "</div>"
      ],
      "text/plain": [
       "                                                                                            Hypothesis  \\\n",
       "7     Добавить форму подписки на все основные страницы, чтобы собрать базу клиентов для email-рассылок   \n",
       "2  Добавить блоки рекомендаций товаров на сайт интернет магазина, чтобы повысить конверсию и средни...   \n",
       "0   Добавить два новых канала привлечения трафика, что позволит привлекать на 30% больше пользователей   \n",
       "6  Показать на главной странице баннеры с актуальными акциями и распродажами, чтобы увеличить конве...   \n",
       "8                                              Запустить акцию, дающую скидку на товар в день рождения   \n",
       "3  Изменить структура категорий, что увеличит конверсию, т.к. пользователи быстрее найдут нужный товар   \n",
       "1                            Запустить собственную службу доставки, что сократит срок доставки заказов   \n",
       "5             Добавить страницу отзывов клиентов о магазине, что позволит увеличить количество заказов   \n",
       "4                     Изменить цвет фона главной страницы, чтобы увеличить вовлеченность пользователей   \n",
       "\n",
       "   Reach  Impact  Confidence  Efforts    ice   rice  \n",
       "7     10       7           8        5  11.20  112.0  \n",
       "2      8       3           7        3   7.00   56.0  \n",
       "0      3      10           8        6  13.33   40.0  \n",
       "6      5       3           8        3   8.00   40.0  \n",
       "8      1       9           9        5  16.20   16.2  \n",
       "3      8       3           3        8   1.12    9.0  \n",
       "1      2       5           4       10   2.00    4.0  \n",
       "5      3       2           2        3   1.33    4.0  \n",
       "4      3       1           1        1   1.00    3.0  "
      ]
     },
     "execution_count": 12,
     "metadata": {},
     "output_type": "execute_result"
    }
   ],
   "source": [
    "def rice_score(row):\n",
    "    reach = row['Reach']\n",
    "    impact = row['Impact']\n",
    "    confidence = row['Confidence']\n",
    "    efforts = row['Efforts']\n",
    "    rice = reach * impact * confidence / efforts\n",
    "    return round(rice, 2)\n",
    "\n",
    "hipothesis['rice'] = hipothesis.apply(rice_score, axis=1)\n",
    "pd.options.display.max_colwidth = 100\n",
    "hipothesis.sort_values('rice', ascending = False)"
   ]
  },
  {
   "cell_type": "markdown",
   "id": "f9006570",
   "metadata": {},
   "source": [
    "### Вывод по первой части\n",
    "\n",
    "    Reach — скольких пользователей затронет изменение, которое вы хотите внести;\n",
    "    Impact — насколько сильно изменение повлияет на пользователей, их опыт и удовлетворение от продукта;\n",
    "    Confidence — насколько вы уверены, что это изменение повлияет на пользователей именно так; \n",
    "    Efforts — сколько стоит протестировать эту гипотезу. \n",
    "\n",
    "При проверки ICE и RICE для приоритизации гипотез параметры отличаются в Reach раз — чем большее количество пользователей затронет вносимое изменение, тем больший приоритет у гипотезы, поэтому гипотеза «Запустить акцию, дающую скидку на товар в день...» «переехала» с первого места (по параметру ICE) на пятое место, а вот гипотеза «Добавить форму подписки на все основные страницы...» переместилась с третьего на первое место, так как параметр Reach у неё самый высокий."
   ]
  },
  {
   "cell_type": "markdown",
   "id": "11abdf62",
   "metadata": {},
   "source": [
    "## Часть 2. Анализ A/B-теста\n",
    "### 1. Построение графика кумулятивной выручки по группам"
   ]
  },
  {
   "cell_type": "code",
   "execution_count": 13,
   "id": "060e6d66",
   "metadata": {},
   "outputs": [
    {
     "name": "stdout",
     "output_type": "stream",
     "text": [
      "0\n"
     ]
    }
   ],
   "source": [
    "# проверяю, нет ли таких покупателей, которые попали в обе группы\n",
    "\n",
    "vA = orders[orders['group']=='A']['visitorId'] \n",
    "vB = orders[orders['group']=='B']['visitorId']\n",
    "\n",
    "lst = [i for i in vB if i in vA]\n",
    "print(len(lst))"
   ]
  },
  {
   "cell_type": "code",
   "execution_count": 14,
   "id": "a2eb0f1f",
   "metadata": {},
   "outputs": [
    {
     "name": "stdout",
     "output_type": "stream",
     "text": [
      "group    58\n",
      "dtype: int64\n",
      "557\n",
      "640\n"
     ]
    }
   ],
   "source": [
    "# Не совсем корректная проверка. \n",
    "# Попробуй сгруппироваться по id пользователей, взяв в качестве агрегационной функции (agg)  метод nunique для групп \n",
    "# и брать данные напрямую из orders. \n",
    "# Тогда в тех случаях, когда nunique будет равно два, это будет означать пересечения в двух группах одновременно\n",
    "\n",
    "df = orders.groupby('visitorId').agg({'group':'nunique'})\n",
    "print(df[df['group']==2].count())\n",
    "print(orders[orders['group']=='A']['date'].count())\n",
    "print(orders[orders['group']=='B']['date'].count())"
   ]
  },
  {
   "cell_type": "code",
   "execution_count": 15,
   "id": "c58a1062",
   "metadata": {
    "scrolled": true
   },
   "outputs": [
    {
     "data": {
      "text/html": [
       "<div>\n",
       "<style scoped>\n",
       "    .dataframe tbody tr th:only-of-type {\n",
       "        vertical-align: middle;\n",
       "    }\n",
       "\n",
       "    .dataframe tbody tr th {\n",
       "        vertical-align: top;\n",
       "    }\n",
       "\n",
       "    .dataframe thead th {\n",
       "        text-align: right;\n",
       "    }\n",
       "</style>\n",
       "<table border=\"1\" class=\"dataframe\">\n",
       "  <thead>\n",
       "    <tr style=\"text-align: right;\">\n",
       "      <th></th>\n",
       "      <th>visitorId</th>\n",
       "      <th>group</th>\n",
       "    </tr>\n",
       "  </thead>\n",
       "  <tbody>\n",
       "    <tr>\n",
       "      <th>0</th>\n",
       "      <td>8300375</td>\n",
       "      <td>2</td>\n",
       "    </tr>\n",
       "    <tr>\n",
       "      <th>1</th>\n",
       "      <td>199603092</td>\n",
       "      <td>2</td>\n",
       "    </tr>\n",
       "    <tr>\n",
       "      <th>2</th>\n",
       "      <td>232979603</td>\n",
       "      <td>2</td>\n",
       "    </tr>\n",
       "    <tr>\n",
       "      <th>3</th>\n",
       "      <td>237748145</td>\n",
       "      <td>2</td>\n",
       "    </tr>\n",
       "    <tr>\n",
       "      <th>4</th>\n",
       "      <td>276558944</td>\n",
       "      <td>2</td>\n",
       "    </tr>\n",
       "    <tr>\n",
       "      <th>5</th>\n",
       "      <td>351125977</td>\n",
       "      <td>2</td>\n",
       "    </tr>\n",
       "    <tr>\n",
       "      <th>6</th>\n",
       "      <td>393266494</td>\n",
       "      <td>2</td>\n",
       "    </tr>\n",
       "    <tr>\n",
       "      <th>7</th>\n",
       "      <td>457167155</td>\n",
       "      <td>2</td>\n",
       "    </tr>\n",
       "    <tr>\n",
       "      <th>8</th>\n",
       "      <td>471551937</td>\n",
       "      <td>2</td>\n",
       "    </tr>\n",
       "    <tr>\n",
       "      <th>9</th>\n",
       "      <td>477780734</td>\n",
       "      <td>2</td>\n",
       "    </tr>\n",
       "    <tr>\n",
       "      <th>10</th>\n",
       "      <td>818047933</td>\n",
       "      <td>2</td>\n",
       "    </tr>\n",
       "    <tr>\n",
       "      <th>11</th>\n",
       "      <td>963407295</td>\n",
       "      <td>2</td>\n",
       "    </tr>\n",
       "    <tr>\n",
       "      <th>12</th>\n",
       "      <td>1230306981</td>\n",
       "      <td>2</td>\n",
       "    </tr>\n",
       "    <tr>\n",
       "      <th>13</th>\n",
       "      <td>1294878855</td>\n",
       "      <td>2</td>\n",
       "    </tr>\n",
       "    <tr>\n",
       "      <th>14</th>\n",
       "      <td>1316129916</td>\n",
       "      <td>2</td>\n",
       "    </tr>\n",
       "    <tr>\n",
       "      <th>15</th>\n",
       "      <td>1333886533</td>\n",
       "      <td>2</td>\n",
       "    </tr>\n",
       "    <tr>\n",
       "      <th>16</th>\n",
       "      <td>1404934699</td>\n",
       "      <td>2</td>\n",
       "    </tr>\n",
       "    <tr>\n",
       "      <th>17</th>\n",
       "      <td>1602967004</td>\n",
       "      <td>2</td>\n",
       "    </tr>\n",
       "    <tr>\n",
       "      <th>18</th>\n",
       "      <td>1614305549</td>\n",
       "      <td>2</td>\n",
       "    </tr>\n",
       "    <tr>\n",
       "      <th>19</th>\n",
       "      <td>1648269707</td>\n",
       "      <td>2</td>\n",
       "    </tr>\n",
       "    <tr>\n",
       "      <th>20</th>\n",
       "      <td>1668030113</td>\n",
       "      <td>2</td>\n",
       "    </tr>\n",
       "    <tr>\n",
       "      <th>21</th>\n",
       "      <td>1738359350</td>\n",
       "      <td>2</td>\n",
       "    </tr>\n",
       "    <tr>\n",
       "      <th>22</th>\n",
       "      <td>1801183820</td>\n",
       "      <td>2</td>\n",
       "    </tr>\n",
       "    <tr>\n",
       "      <th>23</th>\n",
       "      <td>1959144690</td>\n",
       "      <td>2</td>\n",
       "    </tr>\n",
       "    <tr>\n",
       "      <th>24</th>\n",
       "      <td>2038680547</td>\n",
       "      <td>2</td>\n",
       "    </tr>\n",
       "    <tr>\n",
       "      <th>25</th>\n",
       "      <td>2044997962</td>\n",
       "      <td>2</td>\n",
       "    </tr>\n",
       "    <tr>\n",
       "      <th>26</th>\n",
       "      <td>2378935119</td>\n",
       "      <td>2</td>\n",
       "    </tr>\n",
       "    <tr>\n",
       "      <th>27</th>\n",
       "      <td>2458001652</td>\n",
       "      <td>2</td>\n",
       "    </tr>\n",
       "    <tr>\n",
       "      <th>28</th>\n",
       "      <td>2579882178</td>\n",
       "      <td>2</td>\n",
       "    </tr>\n",
       "    <tr>\n",
       "      <th>29</th>\n",
       "      <td>2587333274</td>\n",
       "      <td>2</td>\n",
       "    </tr>\n",
       "    <tr>\n",
       "      <th>30</th>\n",
       "      <td>2600415354</td>\n",
       "      <td>2</td>\n",
       "    </tr>\n",
       "    <tr>\n",
       "      <th>31</th>\n",
       "      <td>2654030115</td>\n",
       "      <td>2</td>\n",
       "    </tr>\n",
       "    <tr>\n",
       "      <th>32</th>\n",
       "      <td>2686716486</td>\n",
       "      <td>2</td>\n",
       "    </tr>\n",
       "    <tr>\n",
       "      <th>33</th>\n",
       "      <td>2712142231</td>\n",
       "      <td>2</td>\n",
       "    </tr>\n",
       "    <tr>\n",
       "      <th>34</th>\n",
       "      <td>2716752286</td>\n",
       "      <td>2</td>\n",
       "    </tr>\n",
       "    <tr>\n",
       "      <th>35</th>\n",
       "      <td>2780786433</td>\n",
       "      <td>2</td>\n",
       "    </tr>\n",
       "    <tr>\n",
       "      <th>36</th>\n",
       "      <td>2927087541</td>\n",
       "      <td>2</td>\n",
       "    </tr>\n",
       "    <tr>\n",
       "      <th>37</th>\n",
       "      <td>2949041841</td>\n",
       "      <td>2</td>\n",
       "    </tr>\n",
       "    <tr>\n",
       "      <th>38</th>\n",
       "      <td>2954449915</td>\n",
       "      <td>2</td>\n",
       "    </tr>\n",
       "    <tr>\n",
       "      <th>39</th>\n",
       "      <td>3062433592</td>\n",
       "      <td>2</td>\n",
       "    </tr>\n",
       "    <tr>\n",
       "      <th>40</th>\n",
       "      <td>3202540741</td>\n",
       "      <td>2</td>\n",
       "    </tr>\n",
       "    <tr>\n",
       "      <th>41</th>\n",
       "      <td>3234906277</td>\n",
       "      <td>2</td>\n",
       "    </tr>\n",
       "    <tr>\n",
       "      <th>42</th>\n",
       "      <td>3656415546</td>\n",
       "      <td>2</td>\n",
       "    </tr>\n",
       "    <tr>\n",
       "      <th>43</th>\n",
       "      <td>3717692402</td>\n",
       "      <td>2</td>\n",
       "    </tr>\n",
       "    <tr>\n",
       "      <th>44</th>\n",
       "      <td>3766097110</td>\n",
       "      <td>2</td>\n",
       "    </tr>\n",
       "    <tr>\n",
       "      <th>45</th>\n",
       "      <td>3803269165</td>\n",
       "      <td>2</td>\n",
       "    </tr>\n",
       "    <tr>\n",
       "      <th>46</th>\n",
       "      <td>3891541246</td>\n",
       "      <td>2</td>\n",
       "    </tr>\n",
       "    <tr>\n",
       "      <th>47</th>\n",
       "      <td>3941795274</td>\n",
       "      <td>2</td>\n",
       "    </tr>\n",
       "    <tr>\n",
       "      <th>48</th>\n",
       "      <td>3951559397</td>\n",
       "      <td>2</td>\n",
       "    </tr>\n",
       "    <tr>\n",
       "      <th>49</th>\n",
       "      <td>3957174400</td>\n",
       "      <td>2</td>\n",
       "    </tr>\n",
       "    <tr>\n",
       "      <th>50</th>\n",
       "      <td>3963646447</td>\n",
       "      <td>2</td>\n",
       "    </tr>\n",
       "    <tr>\n",
       "      <th>51</th>\n",
       "      <td>3972127743</td>\n",
       "      <td>2</td>\n",
       "    </tr>\n",
       "    <tr>\n",
       "      <th>52</th>\n",
       "      <td>3984495233</td>\n",
       "      <td>2</td>\n",
       "    </tr>\n",
       "    <tr>\n",
       "      <th>53</th>\n",
       "      <td>4069496402</td>\n",
       "      <td>2</td>\n",
       "    </tr>\n",
       "    <tr>\n",
       "      <th>54</th>\n",
       "      <td>4120364173</td>\n",
       "      <td>2</td>\n",
       "    </tr>\n",
       "    <tr>\n",
       "      <th>55</th>\n",
       "      <td>4186807279</td>\n",
       "      <td>2</td>\n",
       "    </tr>\n",
       "    <tr>\n",
       "      <th>56</th>\n",
       "      <td>4256040402</td>\n",
       "      <td>2</td>\n",
       "    </tr>\n",
       "    <tr>\n",
       "      <th>57</th>\n",
       "      <td>4266935830</td>\n",
       "      <td>2</td>\n",
       "    </tr>\n",
       "  </tbody>\n",
       "</table>\n",
       "</div>"
      ],
      "text/plain": [
       "     visitorId  group\n",
       "0      8300375      2\n",
       "1    199603092      2\n",
       "2    232979603      2\n",
       "3    237748145      2\n",
       "4    276558944      2\n",
       "5    351125977      2\n",
       "6    393266494      2\n",
       "7    457167155      2\n",
       "8    471551937      2\n",
       "9    477780734      2\n",
       "10   818047933      2\n",
       "11   963407295      2\n",
       "12  1230306981      2\n",
       "13  1294878855      2\n",
       "14  1316129916      2\n",
       "15  1333886533      2\n",
       "16  1404934699      2\n",
       "17  1602967004      2\n",
       "18  1614305549      2\n",
       "19  1648269707      2\n",
       "20  1668030113      2\n",
       "21  1738359350      2\n",
       "22  1801183820      2\n",
       "23  1959144690      2\n",
       "24  2038680547      2\n",
       "25  2044997962      2\n",
       "26  2378935119      2\n",
       "27  2458001652      2\n",
       "28  2579882178      2\n",
       "29  2587333274      2\n",
       "30  2600415354      2\n",
       "31  2654030115      2\n",
       "32  2686716486      2\n",
       "33  2712142231      2\n",
       "34  2716752286      2\n",
       "35  2780786433      2\n",
       "36  2927087541      2\n",
       "37  2949041841      2\n",
       "38  2954449915      2\n",
       "39  3062433592      2\n",
       "40  3202540741      2\n",
       "41  3234906277      2\n",
       "42  3656415546      2\n",
       "43  3717692402      2\n",
       "44  3766097110      2\n",
       "45  3803269165      2\n",
       "46  3891541246      2\n",
       "47  3941795274      2\n",
       "48  3951559397      2\n",
       "49  3957174400      2\n",
       "50  3963646447      2\n",
       "51  3972127743      2\n",
       "52  3984495233      2\n",
       "53  4069496402      2\n",
       "54  4120364173      2\n",
       "55  4186807279      2\n",
       "56  4256040402      2\n",
       "57  4266935830      2"
      ]
     },
     "execution_count": 15,
     "metadata": {},
     "output_type": "execute_result"
    }
   ],
   "source": [
    "df = df[df['group']==2].reset_index()\n",
    "df"
   ]
  },
  {
   "cell_type": "markdown",
   "id": "2de2c26a",
   "metadata": {},
   "source": [
    "В датафрейме с заказами оказалось 58 пользователей, которые попали в обе группы проверки. \n",
    "\n",
    "Количество пользователей небольшое, поэтому оставляю их как есть в решении."
   ]
  },
  {
   "cell_type": "code",
   "execution_count": 16,
   "id": "2acf12e3",
   "metadata": {},
   "outputs": [
    {
     "data": {
      "text/html": [
       "<div>\n",
       "<style scoped>\n",
       "    .dataframe tbody tr th:only-of-type {\n",
       "        vertical-align: middle;\n",
       "    }\n",
       "\n",
       "    .dataframe tbody tr th {\n",
       "        vertical-align: top;\n",
       "    }\n",
       "\n",
       "    .dataframe thead th {\n",
       "        text-align: right;\n",
       "    }\n",
       "</style>\n",
       "<table border=\"1\" class=\"dataframe\">\n",
       "  <thead>\n",
       "    <tr style=\"text-align: right;\">\n",
       "      <th></th>\n",
       "      <th>date</th>\n",
       "      <th>group</th>\n",
       "    </tr>\n",
       "  </thead>\n",
       "  <tbody>\n",
       "    <tr>\n",
       "      <th>0</th>\n",
       "      <td>2019-08-15</td>\n",
       "      <td>B</td>\n",
       "    </tr>\n",
       "    <tr>\n",
       "      <th>2</th>\n",
       "      <td>2019-08-15</td>\n",
       "      <td>A</td>\n",
       "    </tr>\n",
       "    <tr>\n",
       "      <th>45</th>\n",
       "      <td>2019-08-16</td>\n",
       "      <td>A</td>\n",
       "    </tr>\n",
       "    <tr>\n",
       "      <th>47</th>\n",
       "      <td>2019-08-16</td>\n",
       "      <td>B</td>\n",
       "    </tr>\n",
       "    <tr>\n",
       "      <th>55</th>\n",
       "      <td>2019-08-01</td>\n",
       "      <td>A</td>\n",
       "    </tr>\n",
       "    <tr>\n",
       "      <th>...</th>\n",
       "      <td>...</td>\n",
       "      <td>...</td>\n",
       "    </tr>\n",
       "    <tr>\n",
       "      <th>1068</th>\n",
       "      <td>2019-08-12</td>\n",
       "      <td>A</td>\n",
       "    </tr>\n",
       "    <tr>\n",
       "      <th>1114</th>\n",
       "      <td>2019-08-13</td>\n",
       "      <td>B</td>\n",
       "    </tr>\n",
       "    <tr>\n",
       "      <th>1116</th>\n",
       "      <td>2019-08-13</td>\n",
       "      <td>A</td>\n",
       "    </tr>\n",
       "    <tr>\n",
       "      <th>1149</th>\n",
       "      <td>2019-08-14</td>\n",
       "      <td>B</td>\n",
       "    </tr>\n",
       "    <tr>\n",
       "      <th>1150</th>\n",
       "      <td>2019-08-14</td>\n",
       "      <td>A</td>\n",
       "    </tr>\n",
       "  </tbody>\n",
       "</table>\n",
       "<p>62 rows × 2 columns</p>\n",
       "</div>"
      ],
      "text/plain": [
       "           date group\n",
       "0    2019-08-15     B\n",
       "2    2019-08-15     A\n",
       "45   2019-08-16     A\n",
       "47   2019-08-16     B\n",
       "55   2019-08-01     A\n",
       "...         ...   ...\n",
       "1068 2019-08-12     A\n",
       "1114 2019-08-13     B\n",
       "1116 2019-08-13     A\n",
       "1149 2019-08-14     B\n",
       "1150 2019-08-14     A\n",
       "\n",
       "[62 rows x 2 columns]"
      ]
     },
     "execution_count": 16,
     "metadata": {},
     "output_type": "execute_result"
    }
   ],
   "source": [
    "# создаем массив уникальных пар значений дат и групп теста\n",
    "datesGroups = orders[['date','group']].drop_duplicates() \n",
    "datesGroups"
   ]
  },
  {
   "cell_type": "code",
   "execution_count": 17,
   "id": "4477e2e0",
   "metadata": {},
   "outputs": [
    {
     "data": {
      "text/html": [
       "<div>\n",
       "<style scoped>\n",
       "    .dataframe tbody tr th:only-of-type {\n",
       "        vertical-align: middle;\n",
       "    }\n",
       "\n",
       "    .dataframe tbody tr th {\n",
       "        vertical-align: top;\n",
       "    }\n",
       "\n",
       "    .dataframe thead th {\n",
       "        text-align: right;\n",
       "    }\n",
       "</style>\n",
       "<table border=\"1\" class=\"dataframe\">\n",
       "  <thead>\n",
       "    <tr style=\"text-align: right;\">\n",
       "      <th></th>\n",
       "      <th>date</th>\n",
       "      <th>group</th>\n",
       "      <th>transactionId</th>\n",
       "      <th>visitorId</th>\n",
       "      <th>revenue</th>\n",
       "    </tr>\n",
       "  </thead>\n",
       "  <tbody>\n",
       "    <tr>\n",
       "      <th>55</th>\n",
       "      <td>2019-08-01</td>\n",
       "      <td>A</td>\n",
       "      <td>24</td>\n",
       "      <td>20</td>\n",
       "      <td>148579</td>\n",
       "    </tr>\n",
       "    <tr>\n",
       "      <th>66</th>\n",
       "      <td>2019-08-01</td>\n",
       "      <td>B</td>\n",
       "      <td>21</td>\n",
       "      <td>20</td>\n",
       "      <td>101217</td>\n",
       "    </tr>\n",
       "    <tr>\n",
       "      <th>175</th>\n",
       "      <td>2019-08-02</td>\n",
       "      <td>A</td>\n",
       "      <td>44</td>\n",
       "      <td>38</td>\n",
       "      <td>242401</td>\n",
       "    </tr>\n",
       "    <tr>\n",
       "      <th>173</th>\n",
       "      <td>2019-08-02</td>\n",
       "      <td>B</td>\n",
       "      <td>45</td>\n",
       "      <td>43</td>\n",
       "      <td>266748</td>\n",
       "    </tr>\n",
       "    <tr>\n",
       "      <th>291</th>\n",
       "      <td>2019-08-03</td>\n",
       "      <td>A</td>\n",
       "      <td>68</td>\n",
       "      <td>62</td>\n",
       "      <td>354874</td>\n",
       "    </tr>\n",
       "    <tr>\n",
       "      <th>...</th>\n",
       "      <td>...</td>\n",
       "      <td>...</td>\n",
       "      <td>...</td>\n",
       "      <td>...</td>\n",
       "      <td>...</td>\n",
       "    </tr>\n",
       "    <tr>\n",
       "      <th>496</th>\n",
       "      <td>2019-08-29</td>\n",
       "      <td>B</td>\n",
       "      <td>596</td>\n",
       "      <td>544</td>\n",
       "      <td>5559398</td>\n",
       "    </tr>\n",
       "    <tr>\n",
       "      <th>730</th>\n",
       "      <td>2019-08-30</td>\n",
       "      <td>A</td>\n",
       "      <td>545</td>\n",
       "      <td>493</td>\n",
       "      <td>4022970</td>\n",
       "    </tr>\n",
       "    <tr>\n",
       "      <th>690</th>\n",
       "      <td>2019-08-30</td>\n",
       "      <td>B</td>\n",
       "      <td>620</td>\n",
       "      <td>567</td>\n",
       "      <td>5774631</td>\n",
       "    </tr>\n",
       "    <tr>\n",
       "      <th>958</th>\n",
       "      <td>2019-08-31</td>\n",
       "      <td>A</td>\n",
       "      <td>557</td>\n",
       "      <td>503</td>\n",
       "      <td>4084803</td>\n",
       "    </tr>\n",
       "    <tr>\n",
       "      <th>930</th>\n",
       "      <td>2019-08-31</td>\n",
       "      <td>B</td>\n",
       "      <td>640</td>\n",
       "      <td>586</td>\n",
       "      <td>5907760</td>\n",
       "    </tr>\n",
       "  </tbody>\n",
       "</table>\n",
       "<p>62 rows × 5 columns</p>\n",
       "</div>"
      ],
      "text/plain": [
       "          date group  transactionId  visitorId  revenue\n",
       "55  2019-08-01     A             24         20   148579\n",
       "66  2019-08-01     B             21         20   101217\n",
       "175 2019-08-02     A             44         38   242401\n",
       "173 2019-08-02     B             45         43   266748\n",
       "291 2019-08-03     A             68         62   354874\n",
       "..         ...   ...            ...        ...      ...\n",
       "496 2019-08-29     B            596        544  5559398\n",
       "730 2019-08-30     A            545        493  4022970\n",
       "690 2019-08-30     B            620        567  5774631\n",
       "958 2019-08-31     A            557        503  4084803\n",
       "930 2019-08-31     B            640        586  5907760\n",
       "\n",
       "[62 rows x 5 columns]"
      ]
     },
     "execution_count": 17,
     "metadata": {},
     "output_type": "execute_result"
    }
   ],
   "source": [
    "ordersAggregated = datesGroups.apply(\n",
    "    lambda x: orders[np.logical_and(orders['date'] <= x['date'], orders['group'] == x['group'])]\n",
    "    .agg({'date' : 'max', \n",
    "          'group' : 'max',\n",
    "          'transactionId' : 'nunique',\n",
    "          'visitorId' : 'nunique',\n",
    "          'revenue' : 'sum'}), axis=1).sort_values(by=['date','group'])\n",
    "ordersAggregated"
   ]
  },
  {
   "cell_type": "code",
   "execution_count": 18,
   "id": "68ab1d50",
   "metadata": {},
   "outputs": [
    {
     "data": {
      "text/html": [
       "<div>\n",
       "<style scoped>\n",
       "    .dataframe tbody tr th:only-of-type {\n",
       "        vertical-align: middle;\n",
       "    }\n",
       "\n",
       "    .dataframe tbody tr th {\n",
       "        vertical-align: top;\n",
       "    }\n",
       "\n",
       "    .dataframe thead th {\n",
       "        text-align: right;\n",
       "    }\n",
       "</style>\n",
       "<table border=\"1\" class=\"dataframe\">\n",
       "  <thead>\n",
       "    <tr style=\"text-align: right;\">\n",
       "      <th></th>\n",
       "      <th>date</th>\n",
       "      <th>group</th>\n",
       "      <th>visitors</th>\n",
       "    </tr>\n",
       "  </thead>\n",
       "  <tbody>\n",
       "    <tr>\n",
       "      <th>55</th>\n",
       "      <td>2019-08-01</td>\n",
       "      <td>A</td>\n",
       "      <td>719</td>\n",
       "    </tr>\n",
       "    <tr>\n",
       "      <th>66</th>\n",
       "      <td>2019-08-01</td>\n",
       "      <td>B</td>\n",
       "      <td>713</td>\n",
       "    </tr>\n",
       "    <tr>\n",
       "      <th>175</th>\n",
       "      <td>2019-08-02</td>\n",
       "      <td>A</td>\n",
       "      <td>1338</td>\n",
       "    </tr>\n",
       "    <tr>\n",
       "      <th>173</th>\n",
       "      <td>2019-08-02</td>\n",
       "      <td>B</td>\n",
       "      <td>1294</td>\n",
       "    </tr>\n",
       "    <tr>\n",
       "      <th>291</th>\n",
       "      <td>2019-08-03</td>\n",
       "      <td>A</td>\n",
       "      <td>1845</td>\n",
       "    </tr>\n",
       "    <tr>\n",
       "      <th>...</th>\n",
       "      <td>...</td>\n",
       "      <td>...</td>\n",
       "      <td>...</td>\n",
       "    </tr>\n",
       "    <tr>\n",
       "      <th>496</th>\n",
       "      <td>2019-08-29</td>\n",
       "      <td>B</td>\n",
       "      <td>17708</td>\n",
       "    </tr>\n",
       "    <tr>\n",
       "      <th>730</th>\n",
       "      <td>2019-08-30</td>\n",
       "      <td>A</td>\n",
       "      <td>18037</td>\n",
       "    </tr>\n",
       "    <tr>\n",
       "      <th>690</th>\n",
       "      <td>2019-08-30</td>\n",
       "      <td>B</td>\n",
       "      <td>18198</td>\n",
       "    </tr>\n",
       "    <tr>\n",
       "      <th>958</th>\n",
       "      <td>2019-08-31</td>\n",
       "      <td>A</td>\n",
       "      <td>18736</td>\n",
       "    </tr>\n",
       "    <tr>\n",
       "      <th>930</th>\n",
       "      <td>2019-08-31</td>\n",
       "      <td>B</td>\n",
       "      <td>18916</td>\n",
       "    </tr>\n",
       "  </tbody>\n",
       "</table>\n",
       "<p>62 rows × 3 columns</p>\n",
       "</div>"
      ],
      "text/plain": [
       "          date group  visitors\n",
       "55  2019-08-01     A       719\n",
       "66  2019-08-01     B       713\n",
       "175 2019-08-02     A      1338\n",
       "173 2019-08-02     B      1294\n",
       "291 2019-08-03     A      1845\n",
       "..         ...   ...       ...\n",
       "496 2019-08-29     B     17708\n",
       "730 2019-08-30     A     18037\n",
       "690 2019-08-30     B     18198\n",
       "958 2019-08-31     A     18736\n",
       "930 2019-08-31     B     18916\n",
       "\n",
       "[62 rows x 3 columns]"
      ]
     },
     "execution_count": 18,
     "metadata": {},
     "output_type": "execute_result"
    }
   ],
   "source": [
    "visitorsAggregated = datesGroups.apply(\n",
    "    lambda x: visitors[np.logical_and(visitors['date'] <= x['date'], visitors['group'] == x['group'])]\n",
    "    .agg({'date' : 'max',\n",
    "          'group' : 'max',\n",
    "          'visitors' : 'sum'}), axis=1).sort_values(by=['date','group'])\n",
    "visitorsAggregated"
   ]
  },
  {
   "cell_type": "code",
   "execution_count": 19,
   "id": "cf31a0c7",
   "metadata": {},
   "outputs": [
    {
     "data": {
      "text/html": [
       "<div>\n",
       "<style scoped>\n",
       "    .dataframe tbody tr th:only-of-type {\n",
       "        vertical-align: middle;\n",
       "    }\n",
       "\n",
       "    .dataframe tbody tr th {\n",
       "        vertical-align: top;\n",
       "    }\n",
       "\n",
       "    .dataframe thead th {\n",
       "        text-align: right;\n",
       "    }\n",
       "</style>\n",
       "<table border=\"1\" class=\"dataframe\">\n",
       "  <thead>\n",
       "    <tr style=\"text-align: right;\">\n",
       "      <th></th>\n",
       "      <th>date</th>\n",
       "      <th>group</th>\n",
       "      <th>orders</th>\n",
       "      <th>buyers</th>\n",
       "      <th>revenue</th>\n",
       "      <th>visitors</th>\n",
       "    </tr>\n",
       "  </thead>\n",
       "  <tbody>\n",
       "    <tr>\n",
       "      <th>0</th>\n",
       "      <td>2019-08-01</td>\n",
       "      <td>A</td>\n",
       "      <td>24</td>\n",
       "      <td>20</td>\n",
       "      <td>148579</td>\n",
       "      <td>719</td>\n",
       "    </tr>\n",
       "    <tr>\n",
       "      <th>1</th>\n",
       "      <td>2019-08-01</td>\n",
       "      <td>B</td>\n",
       "      <td>21</td>\n",
       "      <td>20</td>\n",
       "      <td>101217</td>\n",
       "      <td>713</td>\n",
       "    </tr>\n",
       "    <tr>\n",
       "      <th>2</th>\n",
       "      <td>2019-08-02</td>\n",
       "      <td>A</td>\n",
       "      <td>44</td>\n",
       "      <td>38</td>\n",
       "      <td>242401</td>\n",
       "      <td>1338</td>\n",
       "    </tr>\n",
       "    <tr>\n",
       "      <th>3</th>\n",
       "      <td>2019-08-02</td>\n",
       "      <td>B</td>\n",
       "      <td>45</td>\n",
       "      <td>43</td>\n",
       "      <td>266748</td>\n",
       "      <td>1294</td>\n",
       "    </tr>\n",
       "    <tr>\n",
       "      <th>4</th>\n",
       "      <td>2019-08-03</td>\n",
       "      <td>A</td>\n",
       "      <td>68</td>\n",
       "      <td>62</td>\n",
       "      <td>354874</td>\n",
       "      <td>1845</td>\n",
       "    </tr>\n",
       "    <tr>\n",
       "      <th>...</th>\n",
       "      <td>...</td>\n",
       "      <td>...</td>\n",
       "      <td>...</td>\n",
       "      <td>...</td>\n",
       "      <td>...</td>\n",
       "      <td>...</td>\n",
       "    </tr>\n",
       "    <tr>\n",
       "      <th>57</th>\n",
       "      <td>2019-08-29</td>\n",
       "      <td>B</td>\n",
       "      <td>596</td>\n",
       "      <td>544</td>\n",
       "      <td>5559398</td>\n",
       "      <td>17708</td>\n",
       "    </tr>\n",
       "    <tr>\n",
       "      <th>58</th>\n",
       "      <td>2019-08-30</td>\n",
       "      <td>A</td>\n",
       "      <td>545</td>\n",
       "      <td>493</td>\n",
       "      <td>4022970</td>\n",
       "      <td>18037</td>\n",
       "    </tr>\n",
       "    <tr>\n",
       "      <th>59</th>\n",
       "      <td>2019-08-30</td>\n",
       "      <td>B</td>\n",
       "      <td>620</td>\n",
       "      <td>567</td>\n",
       "      <td>5774631</td>\n",
       "      <td>18198</td>\n",
       "    </tr>\n",
       "    <tr>\n",
       "      <th>60</th>\n",
       "      <td>2019-08-31</td>\n",
       "      <td>A</td>\n",
       "      <td>557</td>\n",
       "      <td>503</td>\n",
       "      <td>4084803</td>\n",
       "      <td>18736</td>\n",
       "    </tr>\n",
       "    <tr>\n",
       "      <th>61</th>\n",
       "      <td>2019-08-31</td>\n",
       "      <td>B</td>\n",
       "      <td>640</td>\n",
       "      <td>586</td>\n",
       "      <td>5907760</td>\n",
       "      <td>18916</td>\n",
       "    </tr>\n",
       "  </tbody>\n",
       "</table>\n",
       "<p>62 rows × 6 columns</p>\n",
       "</div>"
      ],
      "text/plain": [
       "         date group  orders  buyers  revenue  visitors\n",
       "0  2019-08-01     A      24      20   148579       719\n",
       "1  2019-08-01     B      21      20   101217       713\n",
       "2  2019-08-02     A      44      38   242401      1338\n",
       "3  2019-08-02     B      45      43   266748      1294\n",
       "4  2019-08-03     A      68      62   354874      1845\n",
       "..        ...   ...     ...     ...      ...       ...\n",
       "57 2019-08-29     B     596     544  5559398     17708\n",
       "58 2019-08-30     A     545     493  4022970     18037\n",
       "59 2019-08-30     B     620     567  5774631     18198\n",
       "60 2019-08-31     A     557     503  4084803     18736\n",
       "61 2019-08-31     B     640     586  5907760     18916\n",
       "\n",
       "[62 rows x 6 columns]"
      ]
     },
     "execution_count": 19,
     "metadata": {},
     "output_type": "execute_result"
    }
   ],
   "source": [
    "# объединяем кумулятивные данные в одной таблице\n",
    "cumulativeData = ordersAggregated.merge(visitorsAggregated, left_on=['date', 'group'], right_on=['date', 'group'])\n",
    "cumulativeData.columns = ['date', 'group', 'orders', 'buyers', 'revenue', 'visitors']\n",
    "\n",
    "cumulativeData"
   ]
  },
  {
   "cell_type": "code",
   "execution_count": 20,
   "id": "70cd7843",
   "metadata": {},
   "outputs": [],
   "source": [
    "cumulativeRevenueA = cumulativeData[cumulativeData['group']=='A'][['date','revenue', 'orders']]\n",
    "cumulativeRevenueB = cumulativeData[cumulativeData['group']=='B'][['date','revenue', 'orders']]"
   ]
  },
  {
   "cell_type": "code",
   "execution_count": 21,
   "id": "443c9f3c",
   "metadata": {},
   "outputs": [
    {
     "data": {
      "image/png": "[encoded data removed]",
      "text/plain": [
       "<Figure size 720x360 with 1 Axes>"
      ]
     },
     "metadata": {
      "needs_background": "light"
     },
     "output_type": "display_data"
    }
   ],
   "source": [
    "plt.figure(figsize=(10, 5))\n",
    "plt.plot(cumulativeRevenueA['date'], cumulativeRevenueA['revenue'], label='A')\n",
    "plt.plot(cumulativeRevenueB['date'], cumulativeRevenueB['revenue'], label='B')\n",
    "plt.title(\"График кумулятивной выручки по группам\")\n",
    "plt.xlabel(\"Дата\")\n",
    "plt.ylabel(\"Выручка\")\n",
    "plt.legend();"
   ]
  },
  {
   "cell_type": "markdown",
   "id": "e09fcbba",
   "metadata": {},
   "source": [
    "**Выводы и предположения**\n",
    "\n",
    "Кумулятивная выручка по второй группе B показывает лучшие значения, но виден резкийвсплеск в середине тестирования, хотя группа А равномерно растёт. Можно предположить, что такой всплеск произошёл из-за крупных или частых заказов, он приходится на предпоследнюю неделю августа – родители усиленно готовят детей к школе или садам."
   ]
  },
  {
   "cell_type": "markdown",
   "id": "b48b41c2",
   "metadata": {},
   "source": [
    "### 2. Построение графика кумулятивного среднего чека по группам"
   ]
  },
  {
   "cell_type": "code",
   "execution_count": 22,
   "id": "0d014729",
   "metadata": {},
   "outputs": [
    {
     "data": {
      "image/png": "[encoded data removed]",
      "text/plain": [
       "<Figure size 720x360 with 1 Axes>"
      ]
     },
     "metadata": {
      "needs_background": "light"
     },
     "output_type": "display_data"
    }
   ],
   "source": [
    "plt.figure(figsize=(10, 5))\n",
    "plt.plot(cumulativeRevenueA['date'], cumulativeRevenueA['revenue']/cumulativeRevenueA['orders'], label='A')\n",
    "plt.plot(cumulativeRevenueB['date'], cumulativeRevenueB['revenue']/cumulativeRevenueB['orders'], label='B')\n",
    "plt.title(\"График кумулятивного среднего чека по группам\")\n",
    "plt.xlabel(\"Дата\")\n",
    "plt.ylabel(\"Средний чек\")\n",
    "plt.legend();"
   ]
  },
  {
   "cell_type": "markdown",
   "id": "5af6229c",
   "metadata": {},
   "source": [
    "**Выводы и предположения** \n",
    "\n",
    "По графику кумулятивного среднего чека также можно проследить резкий всплеск у группы В. Средний чек группа В постепенно выравнивается к концу текста и растёт, а у группы В происходит очень резкий скачок, но после него значения равномерно уменьшаются — это может говорить о выбросах."
   ]
  },
  {
   "cell_type": "markdown",
   "id": "cac0130f",
   "metadata": {},
   "source": [
    "### 3. Построение графика относительного изменения кумулятивного среднего чека группы B к группе A."
   ]
  },
  {
   "cell_type": "code",
   "execution_count": 23,
   "id": "040d33a8",
   "metadata": {},
   "outputs": [
    {
     "data": {
      "image/png": "[encoded data removed]",
      "text/plain": [
       "<Figure size 720x360 with 1 Axes>"
      ]
     },
     "metadata": {
      "needs_background": "light"
     },
     "output_type": "display_data"
    }
   ],
   "source": [
    "mergedCumulativeRevenue = cumulativeRevenueA.merge(cumulativeRevenueB, \n",
    "                                                   left_on='date', \n",
    "                                                   right_on='date', \n",
    "                                                   how='left', \n",
    "                                                   suffixes=['A', 'B'])\n",
    "\n",
    "b = mergedCumulativeRevenue['revenueB']/mergedCumulativeRevenue['ordersB'] # отношение выручки гр. В к кол-ву заказов\n",
    "a = mergedCumulativeRevenue['revenueA']/mergedCumulativeRevenue['ordersA'] # отношение выручки гр. А к кол-ву заказов\n",
    "\n",
    "plt.figure(figsize=(10, 5))\n",
    "plt.plot(mergedCumulativeRevenue['date'], b/a-1)\n",
    "plt.axhline(y=0, color='black', linestyle='--')\n",
    "plt.title(\"График относительного изменения кумулятивного среднего чека группы В к группе А\")\n",
    "plt.xlabel(\"Дата\")\n",
    "plt.ylabel(\"Относительное изменение\");"
   ]
  },
  {
   "cell_type": "markdown",
   "id": "d86bf50c",
   "metadata": {},
   "source": [
    "**Выводы и предположения**\n",
    "\n",
    "График относительного изменения также подтверждает наличие выбросов, так как изменение резко скачет."
   ]
  },
  {
   "cell_type": "markdown",
   "id": "e92ec435",
   "metadata": {},
   "source": [
    "### 4. Построение графика кумулятивного среднего количества заказов на посетителя по группам"
   ]
  },
  {
   "cell_type": "code",
   "execution_count": 24,
   "id": "d63503b2",
   "metadata": {},
   "outputs": [],
   "source": [
    "cumulativeOrdersPerUserA = cumulativeData[cumulativeData['group']=='A'][['date', 'orders', 'visitors']]\n",
    "cumulativeOrdersPerUserB = cumulativeData[cumulativeData['group']=='B'][['date', 'orders', 'visitors']]"
   ]
  },
  {
   "cell_type": "code",
   "execution_count": 25,
   "id": "c29ee793",
   "metadata": {},
   "outputs": [
    {
     "data": {
      "image/png": "[encoded data removed]",
      "text/plain": [
       "<Figure size 864x360 with 1 Axes>"
      ]
     },
     "metadata": {
      "needs_background": "light"
     },
     "output_type": "display_data"
    }
   ],
   "source": [
    "plt.figure(figsize=(12, 5))\n",
    "plt.plot(cumulativeOrdersPerUserA['date'], \n",
    "         cumulativeOrdersPerUserA['orders']/cumulativeOrdersPerUserA['visitors'], label='A')\n",
    "plt.plot(cumulativeOrdersPerUserB['date'], \n",
    "         cumulativeOrdersPerUserB['orders']/cumulativeOrdersPerUserB['visitors'], label='B')\n",
    "plt.legend()\n",
    "plt.title(\"График кумулятивного среднего количества заказов на посетителя\")\n",
    "plt.xlabel(\"Дата\")\n",
    "plt.ylabel(\"Среднее количество\");"
   ]
  },
  {
   "cell_type": "markdown",
   "id": "15b7b988",
   "metadata": {},
   "source": [
    "**Выводы и предположения**\n",
    "По графику кумулятивного среднего количества заказов на посетителя видно, что в группе В среднее количество заказов выше, но не стоит забывать про выбросы, которые также могут влиять на результат."
   ]
  },
  {
   "cell_type": "markdown",
   "id": "049d353d",
   "metadata": {},
   "source": [
    "### 5.  Построение графика относительного изменения кумулятивного среднего количества заказов на посетителя группы B к группе A"
   ]
  },
  {
   "cell_type": "code",
   "execution_count": 26,
   "id": "aa5cdcde",
   "metadata": {},
   "outputs": [
    {
     "data": {
      "image/png": "[encoded data removed]",
      "text/plain": [
       "<Figure size 864x360 with 1 Axes>"
      ]
     },
     "metadata": {
      "needs_background": "light"
     },
     "output_type": "display_data"
    }
   ],
   "source": [
    "mergedCumulativeOrdersPerUser = cumulativeOrdersPerUserA.merge(cumulativeOrdersPerUserB, \n",
    "                                                   left_on='date', \n",
    "                                                   right_on='date', \n",
    "                                                   how='left', \n",
    "                                                   suffixes=['A', 'B'])\n",
    "#mergedCumulativeOrdersPerUser\n",
    "a = mergedCumulativeOrdersPerUser['ordersA']/mergedCumulativeOrdersPerUser['visitorsA']\n",
    "b = mergedCumulativeOrdersPerUser['ordersB']/mergedCumulativeOrdersPerUser['visitorsB']\n",
    "\n",
    "plt.figure(figsize=(12, 5))\n",
    "plt.plot(mergedCumulativeOrdersPerUser['date'], b/a-1)\n",
    "plt.axhline(y=0, color='black', linestyle='--')\n",
    "plt.title(\"График относительного изменения кумулятивного среднего количества заказов на посетителя группы В к группе А\")\n",
    "plt.xlabel(\"Дата\")\n",
    "plt.ylabel(\"Относительное изменение\");"
   ]
  },
  {
   "cell_type": "markdown",
   "id": "908e8f0d",
   "metadata": {},
   "source": [
    "**Выводы и  предположения**\n",
    "\n",
    "Здесь график уже стабильнее, в начале есть резкие скачки, но в основном группа В показывает лучшие значения и выравнивается к концу теста"
   ]
  },
  {
   "cell_type": "markdown",
   "id": "c2e10a85",
   "metadata": {},
   "source": [
    "### 6. Построение точечного графика количества заказов по пользователям"
   ]
  },
  {
   "cell_type": "code",
   "execution_count": 27,
   "id": "21184475",
   "metadata": {},
   "outputs": [
    {
     "data": {
      "text/html": [
       "<div>\n",
       "<style scoped>\n",
       "    .dataframe tbody tr th:only-of-type {\n",
       "        vertical-align: middle;\n",
       "    }\n",
       "\n",
       "    .dataframe tbody tr th {\n",
       "        vertical-align: top;\n",
       "    }\n",
       "\n",
       "    .dataframe thead th {\n",
       "        text-align: right;\n",
       "    }\n",
       "</style>\n",
       "<table border=\"1\" class=\"dataframe\">\n",
       "  <thead>\n",
       "    <tr style=\"text-align: right;\">\n",
       "      <th></th>\n",
       "      <th>visitorId</th>\n",
       "      <th>transactions</th>\n",
       "    </tr>\n",
       "  </thead>\n",
       "  <tbody>\n",
       "    <tr>\n",
       "      <th>0</th>\n",
       "      <td>5114589</td>\n",
       "      <td>1</td>\n",
       "    </tr>\n",
       "    <tr>\n",
       "      <th>1</th>\n",
       "      <td>6958315</td>\n",
       "      <td>1</td>\n",
       "    </tr>\n",
       "    <tr>\n",
       "      <th>2</th>\n",
       "      <td>8300375</td>\n",
       "      <td>2</td>\n",
       "    </tr>\n",
       "    <tr>\n",
       "      <th>3</th>\n",
       "      <td>11685486</td>\n",
       "      <td>1</td>\n",
       "    </tr>\n",
       "    <tr>\n",
       "      <th>4</th>\n",
       "      <td>39475350</td>\n",
       "      <td>1</td>\n",
       "    </tr>\n",
       "    <tr>\n",
       "      <th>...</th>\n",
       "      <td>...</td>\n",
       "      <td>...</td>\n",
       "    </tr>\n",
       "    <tr>\n",
       "      <th>1026</th>\n",
       "      <td>4266935830</td>\n",
       "      <td>2</td>\n",
       "    </tr>\n",
       "    <tr>\n",
       "      <th>1027</th>\n",
       "      <td>4278982564</td>\n",
       "      <td>1</td>\n",
       "    </tr>\n",
       "    <tr>\n",
       "      <th>1028</th>\n",
       "      <td>4279090005</td>\n",
       "      <td>1</td>\n",
       "    </tr>\n",
       "    <tr>\n",
       "      <th>1029</th>\n",
       "      <td>4281247801</td>\n",
       "      <td>1</td>\n",
       "    </tr>\n",
       "    <tr>\n",
       "      <th>1030</th>\n",
       "      <td>4283872382</td>\n",
       "      <td>1</td>\n",
       "    </tr>\n",
       "  </tbody>\n",
       "</table>\n",
       "<p>1031 rows × 2 columns</p>\n",
       "</div>"
      ],
      "text/plain": [
       "       visitorId  transactions\n",
       "0        5114589             1\n",
       "1        6958315             1\n",
       "2        8300375             2\n",
       "3       11685486             1\n",
       "4       39475350             1\n",
       "...          ...           ...\n",
       "1026  4266935830             2\n",
       "1027  4278982564             1\n",
       "1028  4279090005             1\n",
       "1029  4281247801             1\n",
       "1030  4283872382             1\n",
       "\n",
       "[1031 rows x 2 columns]"
      ]
     },
     "execution_count": 27,
     "metadata": {},
     "output_type": "execute_result"
    }
   ],
   "source": [
    "# создание сгруппированных по пользователю данных\n",
    "ordersByUsers = (\n",
    "    orders.groupby('visitorId', as_index=False)\n",
    "    .agg({'transactionId': 'nunique'})\n",
    ")\n",
    "\n",
    "ordersByUsers.columns = ['visitorId', 'transactions']\n",
    "ordersByUsers"
   ]
  },
  {
   "cell_type": "code",
   "execution_count": 28,
   "id": "f372018e",
   "metadata": {},
   "outputs": [
    {
     "data": {
      "image/png": "[encoded data removed]",
      "text/plain": [
       "<Figure size 432x288 with 1 Axes>"
      ]
     },
     "metadata": {
      "needs_background": "light"
     },
     "output_type": "display_data"
    }
   ],
   "source": [
    "x_values = pd.Series(range(0, len(ordersByUsers)))\n",
    "plt.scatter(x_values, ordersByUsers['transactions'])\n",
    "plt.title(\"Точечный график количества заказов по пользователям\")\n",
    "plt.xlabel(\"Дата\")\n",
    "plt.ylabel(\"Количество заказов\");"
   ]
  },
  {
   "cell_type": "markdown",
   "id": "807d7e02",
   "metadata": {},
   "source": [
    "**Выводы и  предположения**\n",
    "\n",
    "На точечном графике видно, что основная масса количества заказов приходится на 1-2 на пользователя, проверим точное наличие выбросов и определим верхнюю границу"
   ]
  },
  {
   "cell_type": "markdown",
   "id": "1faccf37",
   "metadata": {},
   "source": [
    "### 7. Подсчёт 95-го и 99-го перцентилей количества заказов на пользователя. Граница для определения аномальных пользователей."
   ]
  },
  {
   "cell_type": "code",
   "execution_count": 29,
   "id": "7527eb3f",
   "metadata": {},
   "outputs": [
    {
     "name": "stdout",
     "output_type": "stream",
     "text": [
      "[2. 4.]\n"
     ]
    }
   ],
   "source": [
    "print(np.percentile(ordersByUsers['transactions'], [95, 99])) "
   ]
  },
  {
   "cell_type": "markdown",
   "id": "7cf0efad",
   "metadata": {},
   "source": [
    "**Выводы и  предположения**\n",
    "\n",
    "99% данных — менее 4 заказов на пользователя, делаем вывод, что нижняя граница аномальных пользователей — 4 заказов, от 1 до 3 — нормальные данные."
   ]
  },
  {
   "cell_type": "markdown",
   "id": "61661dd7",
   "metadata": {},
   "source": [
    "### 8. Построение точечного графика стоимостей заказов. "
   ]
  },
  {
   "cell_type": "code",
   "execution_count": 30,
   "id": "012560b8",
   "metadata": {
    "scrolled": false
   },
   "outputs": [
    {
     "data": {
      "image/png": "[encoded data removed]",
      "text/plain": [
       "<Figure size 432x288 with 1 Axes>"
      ]
     },
     "metadata": {
      "needs_background": "light"
     },
     "output_type": "display_data"
    }
   ],
   "source": [
    "x_values = pd.Series(range(0, len(orders)))\n",
    "plt.scatter(x_values, orders['revenue'])\n",
    "plt.title(\"Точечный график стоимостей заказов\")\n",
    "plt.xlabel(\"Дата\")\n",
    "plt.ylabel(\"Стоимость\");"
   ]
  },
  {
   "cell_type": "markdown",
   "id": "7697c92e",
   "metadata": {},
   "source": [
    "**Выводы и  предположения**\n",
    "\n",
    "Видим, что основная масса стоимостей заказов находится в пределе до 100 тысяч рублей, проверим аномалии более точно с помощью перцентилей."
   ]
  },
  {
   "cell_type": "markdown",
   "id": "cc3854ac",
   "metadata": {},
   "source": [
    "### 9. Подсчёт 95-го и 99-го перцентилей стоимости заказов. Границу для определения аномальных заказов."
   ]
  },
  {
   "cell_type": "code",
   "execution_count": 31,
   "id": "89f53353",
   "metadata": {
    "scrolled": true
   },
   "outputs": [
    {
     "name": "stdout",
     "output_type": "stream",
     "text": [
      "[28000.  58233.2]\n"
     ]
    }
   ],
   "source": [
    "print(np.percentile(orders['revenue'], [95, 99])) "
   ]
  },
  {
   "cell_type": "markdown",
   "id": "70bcee43",
   "metadata": {},
   "source": [
    "**Выводы и  предположения**\n",
    "\n",
    "Только один процент данных — это стоимость выше 58 тысяч рублей, хотя на диаграмме были заказы и в 200 тысяч и даже более 1 млн. Отсюда получаем верхнюю границу нормальных значений в 58 тысяч рублей."
   ]
  },
  {
   "cell_type": "markdown",
   "id": "318ff63d",
   "metadata": {},
   "source": [
    "### 10. Статистическая значимость различий в среднем количестве заказов на посетителя между группами по «сырым» данным."
   ]
  },
  {
   "cell_type": "code",
   "execution_count": 32,
   "id": "7d773640",
   "metadata": {},
   "outputs": [],
   "source": [
    "visitorsADaily = visitors[visitors['group'] == 'A'][['date', 'visitors']]\n",
    "visitorsADaily.columns = ['date', 'visitorsPerDateA']\n",
    "\n",
    "visitorsACummulative = visitorsADaily.apply(\n",
    "    lambda x: visitorsADaily[visitorsADaily['date'] <= x['date']].agg(\n",
    "        {'date': 'max', 'visitorsPerDateA': 'sum'}\n",
    "    ),\n",
    "    axis=1,\n",
    ")\n",
    "visitorsACummulative.columns = ['date', 'visitorsCummulativeA']\n",
    "\n",
    "visitorsBDaily = visitors[visitors['group'] == 'B'][['date', 'visitors']]\n",
    "visitorsBDaily.columns = ['date', 'visitorsPerDateB']\n",
    "\n",
    "visitorsBCummulative = visitorsBDaily.apply(\n",
    "    lambda x: visitorsBDaily[visitorsBDaily['date'] <= x['date']].agg(\n",
    "        {'date': 'max', 'visitorsPerDateB': 'sum'}\n",
    "    ),\n",
    "    axis=1,\n",
    ")\n",
    "visitorsBCummulative.columns = ['date', 'visitorsCummulativeB']"
   ]
  },
  {
   "cell_type": "code",
   "execution_count": 33,
   "id": "a260969b",
   "metadata": {},
   "outputs": [],
   "source": [
    "ordersADaily = (\n",
    "    orders[orders['group'] == 'A'][['date', 'transactionId', 'visitorId', 'revenue']]\n",
    "    .groupby('date', as_index=False)\n",
    "    .agg({'transactionId': pd.Series.nunique, 'revenue': 'sum'})\n",
    ")\n",
    "ordersADaily.columns = ['date', 'ordersPerDateA', 'revenuePerDateA']\n",
    "\n",
    "ordersACummulative = ordersADaily.apply(\n",
    "    lambda x: ordersADaily[ordersADaily['date'] <= x['date']].agg(\n",
    "        {'date': 'max', 'ordersPerDateA': 'sum', 'revenuePerDateA': 'sum'}\n",
    "    ),\n",
    "    axis=1,\n",
    ").sort_values(by=['date'])\n",
    "\n",
    "ordersACummulative.columns = ['date','ordersCummulativeA','revenueCummulativeA']"
   ]
  },
  {
   "cell_type": "code",
   "execution_count": 34,
   "id": "fc8082f6",
   "metadata": {},
   "outputs": [],
   "source": [
    "ordersBDaily = (\n",
    "    orders[orders['group'] == 'B'][['date', 'transactionId', 'visitorId', 'revenue']]\n",
    "    .groupby('date', as_index=False)\n",
    "    .agg({'transactionId': pd.Series.nunique, 'revenue': 'sum'})\n",
    ")\n",
    "ordersBDaily.columns = ['date', 'ordersPerDateB', 'revenuePerDateB']\n",
    "\n",
    "ordersBCummulative = ordersBDaily.apply(\n",
    "    lambda x: ordersBDaily[ordersBDaily['date'] <= x['date']].agg(\n",
    "        {'date': 'max', 'ordersPerDateB': 'sum', 'revenuePerDateB': 'sum'}\n",
    "    ),\n",
    "    axis=1,\n",
    ").sort_values(by=['date'])\n",
    "\n",
    "ordersBCummulative.columns = ['date','ordersCummulativeB','revenueCummulativeB']"
   ]
  },
  {
   "cell_type": "code",
   "execution_count": 35,
   "id": "9bc9059c",
   "metadata": {},
   "outputs": [
    {
     "data": {
      "text/html": [
       "<div>\n",
       "<style scoped>\n",
       "    .dataframe tbody tr th:only-of-type {\n",
       "        vertical-align: middle;\n",
       "    }\n",
       "\n",
       "    .dataframe tbody tr th {\n",
       "        vertical-align: top;\n",
       "    }\n",
       "\n",
       "    .dataframe thead th {\n",
       "        text-align: right;\n",
       "    }\n",
       "</style>\n",
       "<table border=\"1\" class=\"dataframe\">\n",
       "  <thead>\n",
       "    <tr style=\"text-align: right;\">\n",
       "      <th></th>\n",
       "      <th>date</th>\n",
       "      <th>ordersPerDateA</th>\n",
       "      <th>revenuePerDateA</th>\n",
       "      <th>ordersPerDateB</th>\n",
       "      <th>revenuePerDateB</th>\n",
       "      <th>ordersCummulativeA</th>\n",
       "      <th>revenueCummulativeA</th>\n",
       "      <th>ordersCummulativeB</th>\n",
       "      <th>revenueCummulativeB</th>\n",
       "      <th>visitorsPerDateA</th>\n",
       "      <th>visitorsPerDateB</th>\n",
       "      <th>visitorsCummulativeA</th>\n",
       "      <th>visitorsCummulativeB</th>\n",
       "    </tr>\n",
       "  </thead>\n",
       "  <tbody>\n",
       "    <tr>\n",
       "      <th>0</th>\n",
       "      <td>2019-08-01</td>\n",
       "      <td>24</td>\n",
       "      <td>148579</td>\n",
       "      <td>21</td>\n",
       "      <td>101217</td>\n",
       "      <td>24</td>\n",
       "      <td>148579</td>\n",
       "      <td>21</td>\n",
       "      <td>101217</td>\n",
       "      <td>719</td>\n",
       "      <td>713</td>\n",
       "      <td>719</td>\n",
       "      <td>713</td>\n",
       "    </tr>\n",
       "    <tr>\n",
       "      <th>1</th>\n",
       "      <td>2019-08-02</td>\n",
       "      <td>20</td>\n",
       "      <td>93822</td>\n",
       "      <td>24</td>\n",
       "      <td>165531</td>\n",
       "      <td>44</td>\n",
       "      <td>242401</td>\n",
       "      <td>45</td>\n",
       "      <td>266748</td>\n",
       "      <td>619</td>\n",
       "      <td>581</td>\n",
       "      <td>1338</td>\n",
       "      <td>1294</td>\n",
       "    </tr>\n",
       "    <tr>\n",
       "      <th>2</th>\n",
       "      <td>2019-08-03</td>\n",
       "      <td>24</td>\n",
       "      <td>112473</td>\n",
       "      <td>16</td>\n",
       "      <td>114248</td>\n",
       "      <td>68</td>\n",
       "      <td>354874</td>\n",
       "      <td>61</td>\n",
       "      <td>380996</td>\n",
       "      <td>507</td>\n",
       "      <td>509</td>\n",
       "      <td>1845</td>\n",
       "      <td>1803</td>\n",
       "    </tr>\n",
       "    <tr>\n",
       "      <th>3</th>\n",
       "      <td>2019-08-04</td>\n",
       "      <td>16</td>\n",
       "      <td>70825</td>\n",
       "      <td>17</td>\n",
       "      <td>108571</td>\n",
       "      <td>84</td>\n",
       "      <td>425699</td>\n",
       "      <td>78</td>\n",
       "      <td>489567</td>\n",
       "      <td>717</td>\n",
       "      <td>770</td>\n",
       "      <td>2562</td>\n",
       "      <td>2573</td>\n",
       "    </tr>\n",
       "    <tr>\n",
       "      <th>4</th>\n",
       "      <td>2019-08-05</td>\n",
       "      <td>25</td>\n",
       "      <td>124218</td>\n",
       "      <td>23</td>\n",
       "      <td>92428</td>\n",
       "      <td>109</td>\n",
       "      <td>549917</td>\n",
       "      <td>101</td>\n",
       "      <td>581995</td>\n",
       "      <td>756</td>\n",
       "      <td>707</td>\n",
       "      <td>3318</td>\n",
       "      <td>3280</td>\n",
       "    </tr>\n",
       "  </tbody>\n",
       "</table>\n",
       "</div>"
      ],
      "text/plain": [
       "        date  ordersPerDateA  revenuePerDateA  ordersPerDateB  \\\n",
       "0 2019-08-01              24           148579              21   \n",
       "1 2019-08-02              20            93822              24   \n",
       "2 2019-08-03              24           112473              16   \n",
       "3 2019-08-04              16            70825              17   \n",
       "4 2019-08-05              25           124218              23   \n",
       "\n",
       "   revenuePerDateB  ordersCummulativeA  revenueCummulativeA  \\\n",
       "0           101217                  24               148579   \n",
       "1           165531                  44               242401   \n",
       "2           114248                  68               354874   \n",
       "3           108571                  84               425699   \n",
       "4            92428                 109               549917   \n",
       "\n",
       "   ordersCummulativeB  revenueCummulativeB  visitorsPerDateA  \\\n",
       "0                  21               101217               719   \n",
       "1                  45               266748               619   \n",
       "2                  61               380996               507   \n",
       "3                  78               489567               717   \n",
       "4                 101               581995               756   \n",
       "\n",
       "   visitorsPerDateB  visitorsCummulativeA  visitorsCummulativeB  \n",
       "0               713                   719                   713  \n",
       "1               581                  1338                  1294  \n",
       "2               509                  1845                  1803  \n",
       "3               770                  2562                  2573  \n",
       "4               707                  3318                  3280  "
      ]
     },
     "execution_count": 35,
     "metadata": {},
     "output_type": "execute_result"
    }
   ],
   "source": [
    "data = (\n",
    "    ordersADaily.merge(\n",
    "        ordersBDaily, left_on='date', right_on='date', how='left'\n",
    "    )\n",
    "    .merge(ordersACummulative, left_on='date', right_on='date', how='left')\n",
    "    .merge(ordersBCummulative, left_on='date', right_on='date', how='left')\n",
    "    .merge(visitorsADaily, left_on='date', right_on='date', how='left')\n",
    "    .merge(visitorsBDaily, left_on='date', right_on='date', how='left')\n",
    "    .merge(visitorsACummulative, left_on='date', right_on='date', how='left')\n",
    "    .merge(visitorsBCummulative, left_on='date', right_on='date', how='left')\n",
    ")\n",
    "data.head(5)"
   ]
  },
  {
   "cell_type": "code",
   "execution_count": 36,
   "id": "91c72357",
   "metadata": {},
   "outputs": [],
   "source": [
    "ordersByUsersA = (\n",
    "    orders[orders['group'] == 'A']\n",
    "    .groupby('visitorId', as_index=False)\n",
    "    .agg({'transactionId': pd.Series.nunique})\n",
    ")\n",
    "ordersByUsersA.columns = ['visitorId', 'orders']\n",
    "\n",
    "ordersByUsersB = (\n",
    "    orders[orders['group'] == 'B']\n",
    "    .groupby('visitorId', as_index=False)\n",
    "    .agg({'transactionId': pd.Series.nunique})\n",
    ")\n",
    "ordersByUsersB.columns = ['visitorId', 'orders'] "
   ]
  },
  {
   "cell_type": "code",
   "execution_count": 37,
   "id": "ded6230a",
   "metadata": {},
   "outputs": [
    {
     "data": {
      "text/plain": [
       "0        1\n",
       "1        1\n",
       "2        1\n",
       "3        1\n",
       "4        1\n",
       "        ..\n",
       "18228    0\n",
       "18229    0\n",
       "18230    0\n",
       "18231    0\n",
       "18232    0\n",
       "Name: orders, Length: 18736, dtype: int64"
      ]
     },
     "execution_count": 37,
     "metadata": {},
     "output_type": "execute_result"
    }
   ],
   "source": [
    "sampleA = pd.concat(\n",
    "                    [ordersByUsersA['orders'],\n",
    "                     pd.Series(\n",
    "                               0,\n",
    "                               index=np.arange(data['visitorsPerDateA'].sum() - len(ordersByUsersA['orders'])),\n",
    "                               name='orders',\n",
    "                               ),\n",
    "                    ],\n",
    "                    axis=0,\n",
    "                   )\n",
    "sampleA"
   ]
  },
  {
   "cell_type": "code",
   "execution_count": 38,
   "id": "c69a6467",
   "metadata": {
    "scrolled": true
   },
   "outputs": [
    {
     "data": {
      "text/plain": [
       "0        1\n",
       "1        1\n",
       "2        1\n",
       "3        1\n",
       "4        1\n",
       "        ..\n",
       "18325    0\n",
       "18326    0\n",
       "18327    0\n",
       "18328    0\n",
       "18329    0\n",
       "Name: orders, Length: 18916, dtype: int64"
      ]
     },
     "execution_count": 38,
     "metadata": {},
     "output_type": "execute_result"
    }
   ],
   "source": [
    "sampleB = pd.concat(\n",
    "                    [ordersByUsersB['orders'],\n",
    "                     pd.Series(\n",
    "                               0,\n",
    "                               index=np.arange(data['visitorsPerDateB'].sum() - len(ordersByUsersB['orders'])),\n",
    "                               name='orders',\n",
    "                               ),\n",
    "                    ],\n",
    "                    axis=0,\n",
    "                   )\n",
    "sampleB"
   ]
  },
  {
   "cell_type": "markdown",
   "id": "4001fdfa",
   "metadata": {},
   "source": [
    "* **Нулевая гипотеза Н0:** Статистически значимых различий в среднем числе заказов между группами нет.\n",
    "* **Альтернативная гипотеза Н1:** Статистически значимые различия в среднем числе заказов между группами есть."
   ]
  },
  {
   "cell_type": "code",
   "execution_count": 39,
   "id": "7a6014d3",
   "metadata": {},
   "outputs": [
    {
     "name": "stdout",
     "output_type": "stream",
     "text": [
      "p-value = 0.017\n",
      "Относительный выигрыш группы В = 0.138\n"
     ]
    }
   ],
   "source": [
    "print(\"p-value = {0:.3f}\".format(stats.mannwhitneyu(sampleA, sampleB)[1]))\n",
    "\n",
    "print(\"Относительный выигрыш группы В = {0:.3f}\".format(sampleB.mean() / sampleA.mean() - 1))"
   ]
  },
  {
   "cell_type": "markdown",
   "id": "3a22294a",
   "metadata": {},
   "source": [
    "**Выводы и  предположения**\n",
    "\n",
    "Значение p-value = 0.017 меньше 0.05. Значит, нулевую гипотезу о том, что статистически значимых различий в среднем числе заказов между группами нет, отвергаем. \n",
    "\n",
    "Относительный выигрыш группы B равен 13.8%"
   ]
  },
  {
   "cell_type": "markdown",
   "id": "906d3fa6",
   "metadata": {},
   "source": [
    "### 11. Статистическая значимость различий в среднем чеке заказа между группами по «сырым» данным."
   ]
  },
  {
   "cell_type": "markdown",
   "id": "8c1189db",
   "metadata": {},
   "source": [
    "* **Нулевая гипотеза Н0:** Статистически значимых различий в среднем чеке заказа между группами по «сырым» данным нет.\n",
    "* **Альтернативная гипотеза Н1:** Статистически значимые различия в среднем чеке заказа между группами по «сырым» данным есть."
   ]
  },
  {
   "cell_type": "code",
   "execution_count": 40,
   "id": "9b6f08b0",
   "metadata": {},
   "outputs": [
    {
     "name": "stdout",
     "output_type": "stream",
     "text": [
      "p-value = 0.729\n",
      "Относительный выигрыш группы В = 0.259\n"
     ]
    }
   ],
   "source": [
    "print('p-value = {0:.3f}'.format(stats.mannwhitneyu(orders[orders['group']=='A']['revenue'], \n",
    "                                          orders[orders['group']=='B']['revenue'])[1]))\n",
    "\n",
    "print('Относительный выигрыш группы В = {0:.3f}'.format(orders[orders['group']=='B']['revenue'].mean()/\n",
    "                                                        orders[orders['group']=='A']['revenue'].mean()-1))"
   ]
  },
  {
   "cell_type": "markdown",
   "id": "fe1dff5f",
   "metadata": {},
   "source": [
    "**Выводы и  предположения**\n",
    "\n",
    "Значение p-value = 0.729 больше 0.05. Значит, не отвергаем нулевую гипотезу о том, что в среднем чеке **нет** различий.\n",
    "\n",
    "Относительный выигрыш группы B = 0.259"
   ]
  },
  {
   "cell_type": "markdown",
   "id": "0ebbfdee",
   "metadata": {},
   "source": [
    "### 12. Статистическая значимость различий в среднем количестве заказов на посетителя между группами по «очищенным» данным. "
   ]
  },
  {
   "cell_type": "markdown",
   "id": "f6dc526f",
   "metadata": {},
   "source": [
    "* **Нулевая гипотеза Н0:** Статистически значимых различий в среднем количестве заказов на посетителя между группами по «очищенным» данным нет.\n",
    "* **Альтернативная гипотеза Н1:** Статистически значимые различия в среднем количестве заказов на посетителя между группами по «очищенным» данным есть."
   ]
  },
  {
   "cell_type": "code",
   "execution_count": 41,
   "id": "9eead984",
   "metadata": {},
   "outputs": [
    {
     "name": "stdout",
     "output_type": "stream",
     "text": [
      "1099     148427295\n",
      "949      887908475\n",
      "744      888512513\n",
      "1103    1164614297\n",
      "1136    1307669133\n",
      "Name: visitorId, dtype: int64\n",
      "15\n"
     ]
    }
   ],
   "source": [
    "# узнаем, сколько в данных имеется аномальных пользователей\n",
    "      \n",
    "usersWithManyOrders = pd.concat(\n",
    "    [\n",
    "        ordersByUsersA[ordersByUsersA['orders'] > int(np.percentile(ordersByUsers['transactions'], [99]))]['visitorId'],\n",
    "        ordersByUsersB[ordersByUsersB['orders'] > int(np.percentile(ordersByUsers['transactions'], [99]))]['visitorId'],\n",
    "    ],\n",
    "    axis=0,\n",
    ")\n",
    "usersWithExpensiveOrders = orders[orders['revenue'] > int(np.percentile(orders['revenue'], [99]))]['visitorId']\n",
    "abnormalUsers = (\n",
    "    pd.concat([usersWithManyOrders, usersWithExpensiveOrders], axis=0)\n",
    "    .drop_duplicates()\n",
    "    .sort_values()\n",
    ")\n",
    "print(abnormalUsers.head(5))\n",
    "print(abnormalUsers.shape[0]) "
   ]
  },
  {
   "cell_type": "code",
   "execution_count": 42,
   "id": "d9afc1a5",
   "metadata": {},
   "outputs": [],
   "source": [
    "# всего 15 аномальных пользователей\n",
    "# узнаем, как их действия повлияли на результаты теста\n",
    "sampleAFiltered = pd.concat(\n",
    "                        [ordersByUsersA[np.logical_not(ordersByUsersA['visitorId'].isin(abnormalUsers))]['orders'],\n",
    "                         pd.Series(0,\n",
    "                                   index=np.arange(data['visitorsPerDateA'].sum() - len(ordersByUsersA['orders'])),\n",
    "                                   name='orders')\n",
    "                        ],axis=0)\n",
    "sampleBFiltered = pd.concat(\n",
    "                        [ordersByUsersB[np.logical_not(ordersByUsersB['visitorId'].isin(abnormalUsers))]['orders'],\n",
    "                         pd.Series(0,\n",
    "                                   index=np.arange(data['visitorsPerDateB'].sum() - len(ordersByUsersB['orders'])),\n",
    "                                   name='orders')\n",
    "                        ],axis=0)"
   ]
  },
  {
   "cell_type": "code",
   "execution_count": 43,
   "id": "8d360c7a",
   "metadata": {
    "scrolled": true
   },
   "outputs": [
    {
     "name": "stdout",
     "output_type": "stream",
     "text": [
      "p-value = 0.014\n",
      "относительный выигрыш группы В 0.153\n"
     ]
    }
   ],
   "source": [
    "print('p-value = {0:.3f}'.format(stats.mannwhitneyu(sampleAFiltered, sampleBFiltered)[1]))\n",
    "print('относительный выигрыш группы В {0:.3f}'.format(sampleBFiltered.mean()/sampleAFiltered.mean()-1))"
   ]
  },
  {
   "cell_type": "markdown",
   "id": "23789d48",
   "metadata": {},
   "source": [
    "**Выводы и  предположения**\n",
    "\n",
    "Значение p-value = 0.014 по-прежнему меньше 0.05. Относительный выигрыш группы B равен 15.3%\n",
    "Результаты по среднему количеству заказов практически не изменились. "
   ]
  },
  {
   "cell_type": "markdown",
   "id": "aa1d2f25",
   "metadata": {},
   "source": [
    "### 13. Статистическая значимость различий в среднем чеке заказа между группами по «очищенным» данным."
   ]
  },
  {
   "cell_type": "markdown",
   "id": "6a3a752b",
   "metadata": {},
   "source": [
    "* **Нулевая гипотеза Н0:** Статистически значимых различий в среднем чеке заказа между группами по «очищенным» данным нет.\n",
    "* **Альтернативная гипотеза Н1:** Статистически значимые различия в среднем чеке заказа между группами по «очищенным» данным есть."
   ]
  },
  {
   "cell_type": "code",
   "execution_count": 44,
   "id": "6a14bf7e",
   "metadata": {
    "scrolled": true
   },
   "outputs": [
    {
     "name": "stdout",
     "output_type": "stream",
     "text": [
      "p-value = 0.729\n",
      "относительный выигрыш группы В = 0.259\n"
     ]
    }
   ],
   "source": [
    "print('p-value = {0:.3f}'.format(\n",
    "    stats.mannwhitneyu(orders[np.logical_and(orders['group'] == 'A',\n",
    "                              np.logical_not(orders['transactionId'].isin(abnormalUsers)))]['revenue'],\n",
    "                       orders[np.logical_and(orders['group'] == 'B',\n",
    "                              np.logical_not(orders['transactionId'].isin(abnormalUsers)))]['revenue'],\n",
    "                       )[1]\n",
    "                                )\n",
    "      )\n",
    "\n",
    "print(\"относительный выигрыш группы В = {0:.3f}\".format(\n",
    "        orders[np.logical_and(orders['group'] == 'B',\n",
    "                              np.logical_not(orders['transactionId'].isin(abnormalUsers)))]['revenue'].mean()\n",
    "        / \n",
    "        orders[np.logical_and(orders['group'] == 'A',\n",
    "               np.logical_not(orders['transactionId'].isin(abnormalUsers)))]['revenue'].mean()- 1\n",
    "                                                       )\n",
    "      )"
   ]
  },
  {
   "cell_type": "markdown",
   "id": "7f59104a",
   "metadata": {},
   "source": [
    "**Выводы и  предположения**\n",
    "\n",
    "Так как значение p-value = 0.729 больше 0.05, значит не отвергаем нулевую гипотезу от том, что различий нет.\n",
    "\n",
    "Здесь так же не изменились результаты исследования по сравнению с «сырыми» данными, поэтому аномальные пользователи никак не влияют на результат."
   ]
  },
  {
   "cell_type": "markdown",
   "id": "90fc0fbc",
   "metadata": {},
   "source": [
    "### 14. Принятие решения о проведении теста."
   ]
  },
  {
   "cell_type": "markdown",
   "id": "fe759594",
   "metadata": {},
   "source": [
    "Варианты решений:\n",
    "1. Остановить тест, зафиксировать победу одной из групп.\n",
    "2. Остановить тест, зафиксировать отсутствие различий между группами.\n",
    "3. Продолжить тест."
   ]
  },
  {
   "cell_type": "markdown",
   "id": "a60f5dc4",
   "metadata": {},
   "source": [
    "Имеющиеся факты:\n",
    "\n",
    "* Статистически значимое различие по среднему количеству заказов между группами по «сырым» и по данным после фильтрации аномалий есть;\n",
    "* Нет статистически значимого различия по среднему чеку между группами ни по «сырым», ни по данным после фильтрации аномалий;\n",
    "* График различия среднего количества заказов между группами сообщает, что результаты группы B **лучше** группы A:\n"
   ]
  },
  {
   "cell_type": "code",
   "execution_count": 45,
   "id": "db2da22c",
   "metadata": {},
   "outputs": [
    {
     "data": {
      "image/png": "[encoded data removed]",
      "text/plain": [
       "<Figure size 864x360 with 1 Axes>"
      ]
     },
     "metadata": {
      "needs_background": "light"
     },
     "output_type": "display_data"
    }
   ],
   "source": [
    "a = data['ordersCummulativeA']/data['visitorsCummulativeA']\n",
    "b = data['ordersCummulativeB']/data['visitorsCummulativeB']\n",
    "\n",
    "plt.figure(figsize=(12, 5))\n",
    "plt.plot(mergedCumulativeOrdersPerUser['date'], b/a-1)\n",
    "plt.axhline(y=0, color='black', linestyle='--');"
   ]
  },
  {
   "cell_type": "markdown",
   "id": "efc1db1a",
   "metadata": {},
   "source": [
    "* График различия среднего чека говорит о том, что результаты группы B колеблются, но стабильно показывают лучшие результаты к концу тестирования:"
   ]
  },
  {
   "cell_type": "code",
   "execution_count": 46,
   "id": "ae8d5284",
   "metadata": {},
   "outputs": [
    {
     "data": {
      "image/png": "[encoded data removed]",
      "text/plain": [
       "<Figure size 864x360 with 1 Axes>"
      ]
     },
     "metadata": {
      "needs_background": "light"
     },
     "output_type": "display_data"
    }
   ],
   "source": [
    "a = data['revenueCummulativeA']/data['visitorsCummulativeA']\n",
    "b = data['revenueCummulativeB']/data['visitorsCummulativeB']\n",
    "\n",
    "plt.figure(figsize=(12, 5))\n",
    "plt.plot(mergedCumulativeOrdersPerUser['date'], b/a-1)\n",
    "plt.axhline(y=0, color='black', linestyle='--');"
   ]
  },
  {
   "cell_type": "markdown",
   "id": "2408e5b0",
   "metadata": {},
   "source": [
    "Исходя из обнаруженных фактов, тест следует остановить, признать его успешным, зафиксировать победу группы В. Продолжать смысла нет, так как группа В уже показывает лучшие результаты."
   ]
  }
 ],
 "metadata": {
  "ExecuteTimeLog": [
   {
    "duration": 56,
    "start_time": "2023-08-14T12:14:21.090Z"
   },
   {
    "duration": 1245,
    "start_time": "2023-08-14T12:14:28.614Z"
   },
   {
    "duration": 286,
    "start_time": "2023-08-14T12:14:29.862Z"
   },
   {
    "duration": 9,
    "start_time": "2023-08-14T12:14:30.151Z"
   },
   {
    "duration": 33,
    "start_time": "2023-08-14T12:14:30.162Z"
   },
   {
    "duration": 15,
    "start_time": "2023-08-14T12:14:30.196Z"
   },
   {
    "duration": 12,
    "start_time": "2023-08-14T12:14:30.257Z"
   },
   {
    "duration": 16,
    "start_time": "2023-08-14T12:14:30.487Z"
   },
   {
    "duration": 13,
    "start_time": "2023-08-14T12:14:30.828Z"
   },
   {
    "duration": 9,
    "start_time": "2023-08-14T12:14:31.286Z"
   },
   {
    "duration": 7,
    "start_time": "2023-08-14T12:14:31.803Z"
   },
   {
    "duration": 15,
    "start_time": "2023-08-14T12:14:33.811Z"
   },
   {
    "duration": 16,
    "start_time": "2023-08-14T12:14:40.495Z"
   },
   {
    "duration": 16,
    "start_time": "2023-08-14T12:15:08.720Z"
   },
   {
    "duration": 14,
    "start_time": "2023-08-14T12:15:25.465Z"
   },
   {
    "duration": 13,
    "start_time": "2023-08-14T12:15:58.065Z"
   },
   {
    "duration": 179,
    "start_time": "2023-08-14T12:15:58.663Z"
   },
   {
    "duration": 146,
    "start_time": "2023-08-14T12:16:01.537Z"
   },
   {
    "duration": 20,
    "start_time": "2023-08-14T12:16:03.390Z"
   },
   {
    "duration": 6,
    "start_time": "2023-08-14T12:16:33.524Z"
   },
   {
    "duration": 271,
    "start_time": "2023-08-14T12:16:33.890Z"
   },
   {
    "duration": 185,
    "start_time": "2023-08-14T12:16:47.272Z"
   },
   {
    "duration": 363,
    "start_time": "2023-08-14T12:16:55.426Z"
   },
   {
    "duration": 7,
    "start_time": "2023-08-14T12:16:57.262Z"
   },
   {
    "duration": 210,
    "start_time": "2023-08-14T12:16:57.505Z"
   },
   {
    "duration": 303,
    "start_time": "2023-08-14T12:16:58.731Z"
   },
   {
    "duration": 14,
    "start_time": "2023-08-14T12:17:22.766Z"
   },
   {
    "duration": 124,
    "start_time": "2023-08-14T12:17:23.338Z"
   },
   {
    "duration": 5,
    "start_time": "2023-08-14T12:17:27.617Z"
   },
   {
    "duration": 14,
    "start_time": "2023-08-14T12:17:28.894Z"
   },
   {
    "duration": 134,
    "start_time": "2023-08-14T12:17:29.094Z"
   },
   {
    "duration": 6,
    "start_time": "2023-08-14T12:17:29.366Z"
   },
   {
    "duration": 5,
    "start_time": "2023-08-14T12:17:30.590Z"
   },
   {
    "duration": 102,
    "start_time": "2023-08-14T12:17:31.302Z"
   },
   {
    "duration": 67,
    "start_time": "2023-08-14T12:17:31.474Z"
   },
   {
    "duration": 62,
    "start_time": "2023-08-14T12:17:31.661Z"
   },
   {
    "duration": 29,
    "start_time": "2023-08-14T12:17:31.831Z"
   },
   {
    "duration": 159,
    "start_time": "2023-08-14T12:17:32.170Z"
   },
   {
    "duration": 9,
    "start_time": "2023-08-14T12:17:32.365Z"
   },
   {
    "duration": 7,
    "start_time": "2023-08-14T12:17:32.558Z"
   },
   {
    "duration": 22,
    "start_time": "2023-08-14T12:17:32.925Z"
   },
   {
    "duration": 11,
    "start_time": "2023-08-14T12:17:40.632Z"
   },
   {
    "duration": 11,
    "start_time": "2023-08-14T12:18:45.502Z"
   },
   {
    "duration": 9,
    "start_time": "2023-08-14T12:19:07.964Z"
   },
   {
    "duration": 23,
    "start_time": "2023-08-14T12:19:12.512Z"
   },
   {
    "duration": 15,
    "start_time": "2023-08-14T12:19:14.557Z"
   },
   {
    "duration": 262,
    "start_time": "2023-08-14T12:19:26.516Z"
   },
   {
    "duration": 287,
    "start_time": "2023-08-14T12:19:28.565Z"
   },
   {
    "duration": 4,
    "start_time": "2023-08-14T14:16:00.912Z"
   },
   {
    "duration": 79,
    "start_time": "2023-08-14T14:16:01.591Z"
   },
   {
    "duration": 8,
    "start_time": "2023-08-14T14:16:02.153Z"
   },
   {
    "duration": 15,
    "start_time": "2023-08-14T14:16:03.030Z"
   },
   {
    "duration": 7,
    "start_time": "2023-08-14T14:16:04.400Z"
   },
   {
    "duration": 10,
    "start_time": "2023-08-14T14:16:04.570Z"
   },
   {
    "duration": 15,
    "start_time": "2023-08-14T14:16:04.751Z"
   },
   {
    "duration": 13,
    "start_time": "2023-08-14T14:16:04.918Z"
   },
   {
    "duration": 8,
    "start_time": "2023-08-14T14:16:05.065Z"
   },
   {
    "duration": 7,
    "start_time": "2023-08-14T14:16:05.196Z"
   },
   {
    "duration": 14,
    "start_time": "2023-08-14T14:16:06.690Z"
   },
   {
    "duration": 19,
    "start_time": "2023-08-14T14:16:41.395Z"
   },
   {
    "duration": 15,
    "start_time": "2023-08-14T14:16:46.465Z"
   },
   {
    "duration": 279,
    "start_time": "2023-08-14T14:16:46.802Z"
   },
   {
    "duration": 140,
    "start_time": "2023-08-14T14:16:47.274Z"
   },
   {
    "duration": 18,
    "start_time": "2023-08-14T14:16:47.876Z"
   },
   {
    "duration": 4,
    "start_time": "2023-08-14T14:19:21.768Z"
   },
   {
    "duration": 80,
    "start_time": "2023-08-14T14:19:22.260Z"
   },
   {
    "duration": 8,
    "start_time": "2023-08-14T14:19:22.658Z"
   },
   {
    "duration": 15,
    "start_time": "2023-08-14T14:19:22.965Z"
   },
   {
    "duration": 7,
    "start_time": "2023-08-14T14:19:23.766Z"
   },
   {
    "duration": 10,
    "start_time": "2023-08-14T14:19:24.111Z"
   },
   {
    "duration": 15,
    "start_time": "2023-08-14T14:19:24.283Z"
   },
   {
    "duration": 13,
    "start_time": "2023-08-14T14:19:24.454Z"
   },
   {
    "duration": 8,
    "start_time": "2023-08-14T14:19:24.597Z"
   },
   {
    "duration": 9,
    "start_time": "2023-08-14T14:19:24.769Z"
   },
   {
    "duration": 14,
    "start_time": "2023-08-14T14:19:26.085Z"
   },
   {
    "duration": 17,
    "start_time": "2023-08-14T14:19:27.429Z"
   },
   {
    "duration": 15,
    "start_time": "2023-08-14T14:19:28.054Z"
   },
   {
    "duration": 248,
    "start_time": "2023-08-14T14:19:28.255Z"
   },
   {
    "duration": 279,
    "start_time": "2023-08-14T14:19:28.506Z"
   },
   {
    "duration": 17,
    "start_time": "2023-08-14T14:19:28.788Z"
   },
   {
    "duration": 114,
    "start_time": "2023-08-14T14:29:30.462Z"
   },
   {
    "duration": 10,
    "start_time": "2023-08-14T14:30:21.054Z"
   },
   {
    "duration": 8,
    "start_time": "2023-08-14T14:30:27.192Z"
   },
   {
    "duration": 9,
    "start_time": "2023-08-14T14:30:41.180Z"
   },
   {
    "duration": 8,
    "start_time": "2023-08-14T14:30:47.688Z"
   },
   {
    "duration": 12,
    "start_time": "2023-08-14T14:30:50.472Z"
   },
   {
    "duration": 9,
    "start_time": "2023-08-14T14:31:45.267Z"
   },
   {
    "duration": 17,
    "start_time": "2023-08-14T14:31:54.963Z"
   },
   {
    "duration": 17,
    "start_time": "2023-08-14T14:32:16.212Z"
   },
   {
    "duration": 11,
    "start_time": "2023-08-14T14:32:20.777Z"
   },
   {
    "duration": 11,
    "start_time": "2023-08-14T14:32:33.445Z"
   },
   {
    "duration": 11,
    "start_time": "2023-08-14T14:32:52.651Z"
   },
   {
    "duration": 10,
    "start_time": "2023-08-14T14:33:21.649Z"
   },
   {
    "duration": 8,
    "start_time": "2023-08-14T14:33:33.314Z"
   },
   {
    "duration": 11,
    "start_time": "2023-08-14T14:33:44.984Z"
   },
   {
    "duration": 13,
    "start_time": "2023-08-14T14:33:51.859Z"
   },
   {
    "duration": 11,
    "start_time": "2023-08-14T14:33:56.569Z"
   },
   {
    "duration": 8,
    "start_time": "2023-08-14T14:34:10.656Z"
   },
   {
    "duration": 14,
    "start_time": "2023-08-14T14:34:13.222Z"
   },
   {
    "duration": 13,
    "start_time": "2023-08-14T14:34:43.225Z"
   },
   {
    "duration": 10,
    "start_time": "2023-08-14T14:35:06.994Z"
   },
   {
    "duration": 10,
    "start_time": "2023-08-14T14:38:09.779Z"
   },
   {
    "duration": 10,
    "start_time": "2023-08-14T14:38:42.272Z"
   },
   {
    "duration": 7,
    "start_time": "2023-08-14T14:39:00.929Z"
   },
   {
    "duration": 18,
    "start_time": "2023-08-14T14:39:05.756Z"
   },
   {
    "duration": 8,
    "start_time": "2023-08-14T14:39:08.557Z"
   },
   {
    "duration": 10,
    "start_time": "2023-08-14T14:39:45.355Z"
   },
   {
    "duration": 7,
    "start_time": "2023-08-14T14:39:49.523Z"
   },
   {
    "duration": 7,
    "start_time": "2023-08-14T14:39:55.603Z"
   },
   {
    "duration": 3,
    "start_time": "2023-08-14T14:40:14.183Z"
   },
   {
    "duration": 80,
    "start_time": "2023-08-14T14:40:14.353Z"
   },
   {
    "duration": 7,
    "start_time": "2023-08-14T14:40:14.435Z"
   },
   {
    "duration": 13,
    "start_time": "2023-08-14T14:40:14.513Z"
   },
   {
    "duration": 6,
    "start_time": "2023-08-14T14:40:14.677Z"
   },
   {
    "duration": 8,
    "start_time": "2023-08-14T14:40:14.761Z"
   },
   {
    "duration": 14,
    "start_time": "2023-08-14T14:40:14.856Z"
   },
   {
    "duration": 12,
    "start_time": "2023-08-14T14:40:14.927Z"
   },
   {
    "duration": 8,
    "start_time": "2023-08-14T14:40:15.010Z"
   },
   {
    "duration": 8,
    "start_time": "2023-08-14T14:40:15.093Z"
   },
   {
    "duration": 15,
    "start_time": "2023-08-14T14:40:16.105Z"
   },
   {
    "duration": 16,
    "start_time": "2023-08-14T14:40:16.861Z"
   },
   {
    "duration": 19,
    "start_time": "2023-08-14T14:40:18.224Z"
   },
   {
    "duration": 252,
    "start_time": "2023-08-14T14:40:18.381Z"
   },
   {
    "duration": 140,
    "start_time": "2023-08-14T14:40:18.635Z"
   },
   {
    "duration": 18,
    "start_time": "2023-08-14T14:40:18.777Z"
   },
   {
    "duration": 8,
    "start_time": "2023-08-14T14:40:21.026Z"
   },
   {
    "duration": 7,
    "start_time": "2023-08-14T14:42:54.087Z"
   },
   {
    "duration": 213,
    "start_time": "2023-08-14T14:42:55.462Z"
   },
   {
    "duration": 199,
    "start_time": "2023-08-14T14:43:26.703Z"
   },
   {
    "duration": 201,
    "start_time": "2023-08-14T14:43:46.071Z"
   },
   {
    "duration": 241,
    "start_time": "2023-08-14T14:44:20.955Z"
   },
   {
    "duration": 194,
    "start_time": "2023-08-14T14:44:29.108Z"
   },
   {
    "duration": 193,
    "start_time": "2023-08-14T14:44:32.009Z"
   },
   {
    "duration": 208,
    "start_time": "2023-08-14T14:45:25.660Z"
   },
   {
    "duration": 238,
    "start_time": "2023-08-14T14:46:10.369Z"
   },
   {
    "duration": 1178,
    "start_time": "2023-08-14T14:46:38.067Z"
   },
   {
    "duration": 153,
    "start_time": "2023-08-14T14:46:39.247Z"
   },
   {
    "duration": 8,
    "start_time": "2023-08-14T14:46:39.401Z"
   },
   {
    "duration": 30,
    "start_time": "2023-08-14T14:46:39.411Z"
   },
   {
    "duration": 19,
    "start_time": "2023-08-14T14:46:39.444Z"
   },
   {
    "duration": 21,
    "start_time": "2023-08-14T14:46:39.465Z"
   },
   {
    "duration": 18,
    "start_time": "2023-08-14T14:46:39.488Z"
   },
   {
    "duration": 26,
    "start_time": "2023-08-14T14:46:39.507Z"
   },
   {
    "duration": 21,
    "start_time": "2023-08-14T14:46:39.535Z"
   },
   {
    "duration": 8,
    "start_time": "2023-08-14T14:46:39.557Z"
   },
   {
    "duration": 32,
    "start_time": "2023-08-14T14:46:39.567Z"
   },
   {
    "duration": 25,
    "start_time": "2023-08-14T14:46:39.601Z"
   },
   {
    "duration": 27,
    "start_time": "2023-08-14T14:46:39.628Z"
   },
   {
    "duration": 16,
    "start_time": "2023-08-14T14:46:39.658Z"
   },
   {
    "duration": 191,
    "start_time": "2023-08-14T14:46:39.676Z"
   },
   {
    "duration": 150,
    "start_time": "2023-08-14T14:46:39.869Z"
   },
   {
    "duration": 18,
    "start_time": "2023-08-14T14:46:40.021Z"
   },
   {
    "duration": 9,
    "start_time": "2023-08-14T14:46:40.059Z"
   },
   {
    "duration": 330,
    "start_time": "2023-08-14T14:46:40.070Z"
   },
   {
    "duration": 257,
    "start_time": "2023-08-14T14:46:40.402Z"
   },
   {
    "duration": 317,
    "start_time": "2023-08-14T14:46:40.662Z"
   },
   {
    "duration": 7,
    "start_time": "2023-08-14T14:46:40.980Z"
   },
   {
    "duration": 247,
    "start_time": "2023-08-14T14:46:40.988Z"
   },
   {
    "duration": 367,
    "start_time": "2023-08-14T14:46:41.237Z"
   },
   {
    "duration": 57,
    "start_time": "2023-08-14T14:46:41.605Z"
   },
   {
    "duration": 135,
    "start_time": "2023-08-14T14:46:41.664Z"
   },
   {
    "duration": 5,
    "start_time": "2023-08-14T14:46:41.801Z"
   },
   {
    "duration": 22,
    "start_time": "2023-08-14T14:46:41.808Z"
   },
   {
    "duration": 161,
    "start_time": "2023-08-14T14:46:41.832Z"
   },
   {
    "duration": 6,
    "start_time": "2023-08-14T14:46:41.995Z"
   },
   {
    "duration": 17,
    "start_time": "2023-08-14T14:46:42.007Z"
   },
   {
    "duration": 102,
    "start_time": "2023-08-14T14:46:42.025Z"
   },
   {
    "duration": 79,
    "start_time": "2023-08-14T14:46:42.129Z"
   },
   {
    "duration": 69,
    "start_time": "2023-08-14T14:46:42.210Z"
   },
   {
    "duration": 37,
    "start_time": "2023-08-14T14:46:42.281Z"
   },
   {
    "duration": 151,
    "start_time": "2023-08-14T14:46:42.320Z"
   },
   {
    "duration": 10,
    "start_time": "2023-08-14T14:46:42.473Z"
   },
   {
    "duration": 10,
    "start_time": "2023-08-14T14:46:42.486Z"
   },
   {
    "duration": 32,
    "start_time": "2023-08-14T14:46:42.499Z"
   },
   {
    "duration": 13,
    "start_time": "2023-08-14T14:46:42.558Z"
   },
   {
    "duration": 14,
    "start_time": "2023-08-14T14:46:42.575Z"
   },
   {
    "duration": 16,
    "start_time": "2023-08-14T14:46:42.591Z"
   },
   {
    "duration": 51,
    "start_time": "2023-08-14T14:46:42.609Z"
   },
   {
    "duration": 17,
    "start_time": "2023-08-14T14:46:42.662Z"
   },
   {
    "duration": 295,
    "start_time": "2023-08-14T14:46:42.681Z"
   },
   {
    "duration": 273,
    "start_time": "2023-08-14T14:46:42.977Z"
   },
   {
    "duration": 303,
    "start_time": "2023-08-14T14:47:07.682Z"
   },
   {
    "duration": 229,
    "start_time": "2023-08-14T14:47:20.152Z"
   },
   {
    "duration": 330,
    "start_time": "2023-08-14T14:48:11.555Z"
   },
   {
    "duration": 363,
    "start_time": "2023-08-14T14:48:17.027Z"
   },
   {
    "duration": 293,
    "start_time": "2023-08-14T14:48:20.899Z"
   },
   {
    "duration": 6,
    "start_time": "2023-08-14T14:48:25.703Z"
   },
   {
    "duration": 214,
    "start_time": "2023-08-14T14:48:27.770Z"
   },
   {
    "duration": 236,
    "start_time": "2023-08-14T14:49:10.668Z"
   },
   {
    "duration": 345,
    "start_time": "2023-08-14T14:49:53.954Z"
   },
   {
    "duration": 13,
    "start_time": "2023-08-14T14:50:07.549Z"
   },
   {
    "duration": 163,
    "start_time": "2023-08-14T14:50:08.355Z"
   },
   {
    "duration": 151,
    "start_time": "2023-08-14T14:50:40.454Z"
   },
   {
    "duration": 5,
    "start_time": "2023-08-14T14:50:46.200Z"
   },
   {
    "duration": 130,
    "start_time": "2023-08-14T14:50:55.785Z"
   },
   {
    "duration": 239,
    "start_time": "2023-08-14T14:51:17.311Z"
   },
   {
    "duration": 144,
    "start_time": "2023-08-14T14:51:34.923Z"
   },
   {
    "duration": 4,
    "start_time": "2023-08-14T14:51:39.816Z"
   },
   {
    "duration": 5,
    "start_time": "2023-08-14T14:51:41.246Z"
   },
   {
    "duration": 97,
    "start_time": "2023-08-14T14:51:44.673Z"
   },
   {
    "duration": 59,
    "start_time": "2023-08-14T14:51:45.848Z"
   },
   {
    "duration": 63,
    "start_time": "2023-08-14T14:51:46.883Z"
   },
   {
    "duration": 31,
    "start_time": "2023-08-14T14:51:47.918Z"
   },
   {
    "duration": 178,
    "start_time": "2023-08-14T14:51:50.431Z"
   },
   {
    "duration": 8,
    "start_time": "2023-08-14T14:51:50.751Z"
   },
   {
    "duration": 9,
    "start_time": "2023-08-14T14:51:52.146Z"
   },
   {
    "duration": 25,
    "start_time": "2023-08-14T14:57:57.568Z"
   },
   {
    "duration": 12,
    "start_time": "2023-08-14T15:00:31.060Z"
   },
   {
    "duration": 15,
    "start_time": "2023-08-14T15:02:50.381Z"
   },
   {
    "duration": 98,
    "start_time": "2023-08-14T15:03:44.497Z"
   },
   {
    "duration": 94,
    "start_time": "2023-08-14T15:03:52.616Z"
   },
   {
    "duration": 190,
    "start_time": "2023-08-14T15:04:07.417Z"
   },
   {
    "duration": 13,
    "start_time": "2023-08-14T15:04:10.013Z"
   },
   {
    "duration": 10,
    "start_time": "2023-08-14T15:04:19.977Z"
   },
   {
    "duration": 11,
    "start_time": "2023-08-14T15:04:30.379Z"
   },
   {
    "duration": 12,
    "start_time": "2023-08-14T15:05:14.969Z"
   },
   {
    "duration": 12,
    "start_time": "2023-08-14T15:05:23.124Z"
   },
   {
    "duration": 11,
    "start_time": "2023-08-14T15:05:40.215Z"
   },
   {
    "duration": 13,
    "start_time": "2023-08-14T15:07:45.018Z"
   },
   {
    "duration": 27,
    "start_time": "2023-08-14T15:08:21.959Z"
   },
   {
    "duration": 14,
    "start_time": "2023-08-14T15:08:46.469Z"
   },
   {
    "duration": 50,
    "start_time": "2023-08-14T18:47:25.978Z"
   },
   {
    "duration": 7,
    "start_time": "2023-08-14T18:47:55.464Z"
   },
   {
    "duration": 6,
    "start_time": "2023-08-14T18:48:53.821Z"
   },
   {
    "duration": 1195,
    "start_time": "2023-08-14T18:48:58.635Z"
   },
   {
    "duration": 238,
    "start_time": "2023-08-14T18:48:59.833Z"
   },
   {
    "duration": 6,
    "start_time": "2023-08-14T18:49:00.073Z"
   },
   {
    "duration": 36,
    "start_time": "2023-08-14T18:49:00.081Z"
   },
   {
    "duration": 30,
    "start_time": "2023-08-14T18:49:00.119Z"
   },
   {
    "duration": 26,
    "start_time": "2023-08-14T18:49:00.151Z"
   },
   {
    "duration": 20,
    "start_time": "2023-08-14T18:49:00.180Z"
   },
   {
    "duration": 20,
    "start_time": "2023-08-14T18:49:00.202Z"
   },
   {
    "duration": 30,
    "start_time": "2023-08-14T18:49:00.225Z"
   },
   {
    "duration": 40,
    "start_time": "2023-08-14T18:49:00.260Z"
   },
   {
    "duration": 36,
    "start_time": "2023-08-14T18:49:00.303Z"
   },
   {
    "duration": 25,
    "start_time": "2023-08-14T18:49:00.341Z"
   },
   {
    "duration": 8,
    "start_time": "2023-08-14T18:49:00.368Z"
   },
   {
    "duration": 29,
    "start_time": "2023-08-14T18:49:00.378Z"
   },
   {
    "duration": 39,
    "start_time": "2023-08-14T18:49:00.409Z"
   },
   {
    "duration": 177,
    "start_time": "2023-08-14T18:49:00.450Z"
   },
   {
    "duration": 139,
    "start_time": "2023-08-14T18:49:00.629Z"
   },
   {
    "duration": 40,
    "start_time": "2023-08-14T18:49:00.771Z"
   },
   {
    "duration": 31,
    "start_time": "2023-08-14T18:49:00.813Z"
   },
   {
    "duration": 307,
    "start_time": "2023-08-14T18:49:00.846Z"
   },
   {
    "duration": 230,
    "start_time": "2023-08-14T18:49:01.155Z"
   },
   {
    "duration": 360,
    "start_time": "2023-08-14T18:49:01.387Z"
   },
   {
    "duration": 6,
    "start_time": "2023-08-14T18:49:01.749Z"
   },
   {
    "duration": 231,
    "start_time": "2023-08-14T18:49:01.756Z"
   },
   {
    "duration": 353,
    "start_time": "2023-08-14T18:49:01.989Z"
   },
   {
    "duration": 15,
    "start_time": "2023-08-14T18:49:02.344Z"
   },
   {
    "duration": 210,
    "start_time": "2023-08-14T18:49:02.360Z"
   },
   {
    "duration": 4,
    "start_time": "2023-08-14T18:49:02.573Z"
   },
   {
    "duration": 154,
    "start_time": "2023-08-14T18:49:02.579Z"
   },
   {
    "duration": 4,
    "start_time": "2023-08-14T18:49:02.735Z"
   },
   {
    "duration": 108,
    "start_time": "2023-08-14T18:49:02.740Z"
   },
   {
    "duration": 71,
    "start_time": "2023-08-14T18:49:02.850Z"
   },
   {
    "duration": 58,
    "start_time": "2023-08-14T18:49:02.922Z"
   },
   {
    "duration": 49,
    "start_time": "2023-08-14T18:49:02.994Z"
   },
   {
    "duration": 125,
    "start_time": "2023-08-14T18:49:03.045Z"
   },
   {
    "duration": 8,
    "start_time": "2023-08-14T18:49:03.171Z"
   },
   {
    "duration": 22,
    "start_time": "2023-08-14T18:49:03.180Z"
   },
   {
    "duration": 69,
    "start_time": "2023-08-14T18:49:03.203Z"
   },
   {
    "duration": 25,
    "start_time": "2023-08-14T18:49:03.273Z"
   },
   {
    "duration": 26,
    "start_time": "2023-08-14T18:49:03.299Z"
   },
   {
    "duration": 20,
    "start_time": "2023-08-14T18:49:03.326Z"
   },
   {
    "duration": 38,
    "start_time": "2023-08-14T18:49:03.348Z"
   },
   {
    "duration": 13,
    "start_time": "2023-08-14T18:49:03.388Z"
   },
   {
    "duration": 365,
    "start_time": "2023-08-14T18:49:03.403Z"
   },
   {
    "duration": 293,
    "start_time": "2023-08-14T18:49:03.770Z"
   },
   {
    "duration": 13,
    "start_time": "2023-08-14T18:49:11.112Z"
   },
   {
    "duration": 12,
    "start_time": "2023-08-14T18:49:37.117Z"
   },
   {
    "duration": 12,
    "start_time": "2023-08-14T18:49:45.517Z"
   },
   {
    "duration": 12,
    "start_time": "2023-08-14T18:50:36.263Z"
   },
   {
    "duration": 15,
    "start_time": "2023-08-14T18:50:46.823Z"
   },
   {
    "duration": 19,
    "start_time": "2023-08-14T18:50:56.097Z"
   },
   {
    "duration": 16,
    "start_time": "2023-08-14T18:53:22.927Z"
   },
   {
    "duration": 12,
    "start_time": "2023-08-14T18:54:05.783Z"
   },
   {
    "duration": 7,
    "start_time": "2023-08-14T18:55:02.051Z"
   },
   {
    "duration": 8,
    "start_time": "2023-08-14T18:55:12.610Z"
   },
   {
    "duration": 1649,
    "start_time": "2023-08-14T18:55:25.180Z"
   },
   {
    "duration": 8,
    "start_time": "2023-08-14T18:55:31.653Z"
   },
   {
    "duration": 11,
    "start_time": "2023-08-14T18:55:39.613Z"
   },
   {
    "duration": 7,
    "start_time": "2023-08-14T18:55:54.490Z"
   },
   {
    "duration": 5,
    "start_time": "2023-08-14T18:55:58.450Z"
   },
   {
    "duration": 1404,
    "start_time": "2023-08-14T18:56:08.605Z"
   },
   {
    "duration": 22,
    "start_time": "2023-08-14T18:56:16.893Z"
   },
   {
    "duration": 105,
    "start_time": "2023-08-14T18:56:36.783Z"
   },
   {
    "duration": 12,
    "start_time": "2023-08-14T18:56:41.531Z"
   },
   {
    "duration": 16,
    "start_time": "2023-08-14T18:56:51.710Z"
   },
   {
    "duration": 8,
    "start_time": "2023-08-14T18:58:21.467Z"
   },
   {
    "duration": 14,
    "start_time": "2023-08-14T18:58:27.784Z"
   },
   {
    "duration": 1063,
    "start_time": "2023-08-14T18:58:35.182Z"
   },
   {
    "duration": 135,
    "start_time": "2023-08-14T18:58:36.247Z"
   },
   {
    "duration": 7,
    "start_time": "2023-08-14T18:58:36.384Z"
   },
   {
    "duration": 31,
    "start_time": "2023-08-14T18:58:36.393Z"
   },
   {
    "duration": 9,
    "start_time": "2023-08-14T18:58:36.425Z"
   },
   {
    "duration": 15,
    "start_time": "2023-08-14T18:58:36.435Z"
   },
   {
    "duration": 13,
    "start_time": "2023-08-14T18:58:36.452Z"
   },
   {
    "duration": 19,
    "start_time": "2023-08-14T18:58:36.466Z"
   },
   {
    "duration": 12,
    "start_time": "2023-08-14T18:58:36.487Z"
   },
   {
    "duration": 13,
    "start_time": "2023-08-14T18:58:36.502Z"
   },
   {
    "duration": 18,
    "start_time": "2023-08-14T18:58:36.517Z"
   },
   {
    "duration": 20,
    "start_time": "2023-08-14T18:58:36.538Z"
   },
   {
    "duration": 15,
    "start_time": "2023-08-14T18:58:36.560Z"
   },
   {
    "duration": 30,
    "start_time": "2023-08-14T18:58:36.578Z"
   },
   {
    "duration": 27,
    "start_time": "2023-08-14T18:58:36.610Z"
   },
   {
    "duration": 24,
    "start_time": "2023-08-14T18:58:36.639Z"
   },
   {
    "duration": 19,
    "start_time": "2023-08-14T18:58:36.665Z"
   },
   {
    "duration": 192,
    "start_time": "2023-08-14T18:58:36.687Z"
   },
   {
    "duration": 146,
    "start_time": "2023-08-14T18:58:36.881Z"
   },
   {
    "duration": 15,
    "start_time": "2023-08-14T18:58:37.029Z"
   },
   {
    "duration": 8,
    "start_time": "2023-08-14T18:58:37.045Z"
   },
   {
    "duration": 323,
    "start_time": "2023-08-14T18:58:37.055Z"
   },
   {
    "duration": 202,
    "start_time": "2023-08-14T18:58:37.380Z"
   },
   {
    "duration": 356,
    "start_time": "2023-08-14T18:58:37.584Z"
   },
   {
    "duration": 6,
    "start_time": "2023-08-14T18:58:37.941Z"
   },
   {
    "duration": 222,
    "start_time": "2023-08-14T18:58:37.949Z"
   },
   {
    "duration": 343,
    "start_time": "2023-08-14T18:58:38.174Z"
   },
   {
    "duration": 12,
    "start_time": "2023-08-14T18:58:38.520Z"
   },
   {
    "duration": 130,
    "start_time": "2023-08-14T18:58:38.533Z"
   },
   {
    "duration": 5,
    "start_time": "2023-08-14T18:58:38.665Z"
   },
   {
    "duration": 141,
    "start_time": "2023-08-14T18:58:38.671Z"
   },
   {
    "duration": 5,
    "start_time": "2023-08-14T18:58:38.814Z"
   },
   {
    "duration": 103,
    "start_time": "2023-08-14T18:58:38.821Z"
   },
   {
    "duration": 64,
    "start_time": "2023-08-14T18:58:38.926Z"
   },
   {
    "duration": 58,
    "start_time": "2023-08-14T18:58:38.992Z"
   },
   {
    "duration": 44,
    "start_time": "2023-08-14T18:58:39.052Z"
   },
   {
    "duration": 162,
    "start_time": "2023-08-14T18:58:39.099Z"
   },
   {
    "duration": 7,
    "start_time": "2023-08-14T18:58:39.262Z"
   },
   {
    "duration": 15,
    "start_time": "2023-08-14T18:58:39.271Z"
   },
   {
    "duration": 47,
    "start_time": "2023-08-14T18:58:39.288Z"
   },
   {
    "duration": 10,
    "start_time": "2023-08-14T18:58:39.337Z"
   },
   {
    "duration": 11,
    "start_time": "2023-08-14T18:58:39.349Z"
   },
   {
    "duration": 7,
    "start_time": "2023-08-14T18:58:39.362Z"
   },
   {
    "duration": 55,
    "start_time": "2023-08-14T18:58:39.371Z"
   },
   {
    "duration": 14,
    "start_time": "2023-08-14T18:58:39.427Z"
   },
   {
    "duration": 290,
    "start_time": "2023-08-14T18:58:39.443Z"
   },
   {
    "duration": 279,
    "start_time": "2023-08-14T18:58:39.735Z"
   },
   {
    "duration": 7,
    "start_time": "2023-08-14T18:59:05.959Z"
   },
   {
    "duration": 8,
    "start_time": "2023-08-14T18:59:21.683Z"
   },
   {
    "duration": 13,
    "start_time": "2023-08-14T18:59:24.252Z"
   },
   {
    "duration": 7,
    "start_time": "2023-08-14T18:59:33.058Z"
   },
   {
    "duration": 11,
    "start_time": "2023-08-14T19:01:50.938Z"
   },
   {
    "duration": 6,
    "start_time": "2023-08-14T19:01:52.623Z"
   },
   {
    "duration": 14,
    "start_time": "2023-08-14T19:01:53.880Z"
   },
   {
    "duration": 9,
    "start_time": "2023-08-14T19:02:09.620Z"
   },
   {
    "duration": 13,
    "start_time": "2023-08-14T19:03:18.006Z"
   },
   {
    "duration": 1493,
    "start_time": "2023-08-14T19:04:18.981Z"
   },
   {
    "duration": 17,
    "start_time": "2023-08-14T19:04:28.505Z"
   },
   {
    "duration": 91,
    "start_time": "2023-08-14T19:04:49.973Z"
   },
   {
    "duration": 8,
    "start_time": "2023-08-14T19:04:54.850Z"
   },
   {
    "duration": 332,
    "start_time": "2023-08-14T19:06:13.754Z"
   },
   {
    "duration": 4,
    "start_time": "2023-08-14T19:06:28.875Z"
   },
   {
    "duration": 9,
    "start_time": "2023-08-14T19:06:35.524Z"
   },
   {
    "duration": 1569,
    "start_time": "2023-08-14T19:08:45.491Z"
   },
   {
    "duration": 5,
    "start_time": "2023-08-14T19:08:52.198Z"
   },
   {
    "duration": 7,
    "start_time": "2023-08-14T19:08:55.094Z"
   },
   {
    "duration": 3,
    "start_time": "2023-08-14T19:09:00.351Z"
   },
   {
    "duration": 93,
    "start_time": "2023-08-14T19:09:07.864Z"
   },
   {
    "duration": 9,
    "start_time": "2023-08-14T19:09:35.701Z"
   },
   {
    "duration": 11,
    "start_time": "2023-08-14T19:09:42.209Z"
   },
   {
    "duration": 6,
    "start_time": "2023-08-14T19:10:50.211Z"
   },
   {
    "duration": 7,
    "start_time": "2023-08-14T19:11:23.098Z"
   },
   {
    "duration": 1163,
    "start_time": "2023-08-14T19:11:42.037Z"
   },
   {
    "duration": 133,
    "start_time": "2023-08-14T19:11:43.202Z"
   },
   {
    "duration": 7,
    "start_time": "2023-08-14T19:11:43.336Z"
   },
   {
    "duration": 21,
    "start_time": "2023-08-14T19:11:43.345Z"
   },
   {
    "duration": 8,
    "start_time": "2023-08-14T19:11:43.368Z"
   },
   {
    "duration": 20,
    "start_time": "2023-08-14T19:11:43.377Z"
   },
   {
    "duration": 23,
    "start_time": "2023-08-14T19:11:43.399Z"
   },
   {
    "duration": 17,
    "start_time": "2023-08-14T19:11:43.424Z"
   },
   {
    "duration": 14,
    "start_time": "2023-08-14T19:11:43.443Z"
   },
   {
    "duration": 6,
    "start_time": "2023-08-14T19:11:43.460Z"
   },
   {
    "duration": 26,
    "start_time": "2023-08-14T19:11:43.468Z"
   },
   {
    "duration": 22,
    "start_time": "2023-08-14T19:11:43.495Z"
   },
   {
    "duration": 8,
    "start_time": "2023-08-14T19:11:43.519Z"
   },
   {
    "duration": 20,
    "start_time": "2023-08-14T19:11:43.528Z"
   },
   {
    "duration": 10,
    "start_time": "2023-08-14T19:11:43.550Z"
   },
   {
    "duration": 20,
    "start_time": "2023-08-14T19:11:43.561Z"
   },
   {
    "duration": 19,
    "start_time": "2023-08-14T19:11:43.582Z"
   },
   {
    "duration": 37,
    "start_time": "2023-08-14T19:11:43.603Z"
   },
   {
    "duration": 179,
    "start_time": "2023-08-14T19:11:43.641Z"
   },
   {
    "duration": 127,
    "start_time": "2023-08-14T19:11:43.822Z"
   },
   {
    "duration": 16,
    "start_time": "2023-08-14T19:11:43.951Z"
   },
   {
    "duration": 10,
    "start_time": "2023-08-14T19:11:43.969Z"
   },
   {
    "duration": 355,
    "start_time": "2023-08-14T19:11:43.980Z"
   },
   {
    "duration": 219,
    "start_time": "2023-08-14T19:11:44.337Z"
   },
   {
    "duration": 305,
    "start_time": "2023-08-14T19:11:44.558Z"
   },
   {
    "duration": 5,
    "start_time": "2023-08-14T19:11:44.865Z"
   },
   {
    "duration": 234,
    "start_time": "2023-08-14T19:11:44.872Z"
   },
   {
    "duration": 322,
    "start_time": "2023-08-14T19:11:45.111Z"
   },
   {
    "duration": 14,
    "start_time": "2023-08-14T19:11:45.435Z"
   },
   {
    "duration": 163,
    "start_time": "2023-08-14T19:11:45.451Z"
   },
   {
    "duration": 5,
    "start_time": "2023-08-14T19:11:45.616Z"
   },
   {
    "duration": 153,
    "start_time": "2023-08-14T19:11:45.623Z"
   },
   {
    "duration": 4,
    "start_time": "2023-08-14T19:11:45.778Z"
   },
   {
    "duration": 91,
    "start_time": "2023-08-14T19:11:45.795Z"
   },
   {
    "duration": 75,
    "start_time": "2023-08-14T19:11:45.888Z"
   },
   {
    "duration": 81,
    "start_time": "2023-08-14T19:11:45.964Z"
   },
   {
    "duration": 24,
    "start_time": "2023-08-14T19:11:46.047Z"
   },
   {
    "duration": 168,
    "start_time": "2023-08-14T19:11:46.072Z"
   },
   {
    "duration": 6,
    "start_time": "2023-08-14T19:11:46.242Z"
   },
   {
    "duration": 24,
    "start_time": "2023-08-14T19:11:46.249Z"
   },
   {
    "duration": 74,
    "start_time": "2023-08-14T19:11:46.275Z"
   },
   {
    "duration": 11,
    "start_time": "2023-08-14T19:11:46.351Z"
   },
   {
    "duration": 11,
    "start_time": "2023-08-14T19:11:46.364Z"
   },
   {
    "duration": 10,
    "start_time": "2023-08-14T19:11:46.376Z"
   },
   {
    "duration": 28,
    "start_time": "2023-08-14T19:11:46.387Z"
   },
   {
    "duration": 12,
    "start_time": "2023-08-14T19:11:46.416Z"
   },
   {
    "duration": 286,
    "start_time": "2023-08-14T19:11:46.430Z"
   },
   {
    "duration": 277,
    "start_time": "2023-08-14T19:11:46.718Z"
   },
   {
    "duration": 7,
    "start_time": "2023-08-14T19:12:46.506Z"
   },
   {
    "duration": 7,
    "start_time": "2023-08-14T19:12:49.437Z"
   },
   {
    "duration": 16,
    "start_time": "2023-08-14T19:12:51.898Z"
   },
   {
    "duration": 10,
    "start_time": "2023-08-14T19:14:43.957Z"
   },
   {
    "duration": 15,
    "start_time": "2023-08-14T19:14:46.038Z"
   },
   {
    "duration": 122,
    "start_time": "2023-08-14T19:15:10.351Z"
   },
   {
    "duration": 19,
    "start_time": "2023-08-14T19:15:17.833Z"
   },
   {
    "duration": 8,
    "start_time": "2023-08-14T19:18:57.844Z"
   },
   {
    "duration": 12,
    "start_time": "2023-08-14T19:19:02.800Z"
   },
   {
    "duration": 8,
    "start_time": "2023-08-14T19:19:16.038Z"
   },
   {
    "duration": 1052,
    "start_time": "2023-08-14T19:19:21.507Z"
   },
   {
    "duration": 136,
    "start_time": "2023-08-14T19:19:22.560Z"
   },
   {
    "duration": 9,
    "start_time": "2023-08-14T19:19:22.699Z"
   },
   {
    "duration": 25,
    "start_time": "2023-08-14T19:19:22.711Z"
   },
   {
    "duration": 28,
    "start_time": "2023-08-14T19:19:22.737Z"
   },
   {
    "duration": 12,
    "start_time": "2023-08-14T19:19:22.767Z"
   },
   {
    "duration": 33,
    "start_time": "2023-08-14T19:19:22.781Z"
   },
   {
    "duration": 39,
    "start_time": "2023-08-14T19:19:22.816Z"
   },
   {
    "duration": 28,
    "start_time": "2023-08-14T19:19:22.857Z"
   },
   {
    "duration": 12,
    "start_time": "2023-08-14T19:19:22.887Z"
   },
   {
    "duration": 45,
    "start_time": "2023-08-14T19:19:22.902Z"
   },
   {
    "duration": 14,
    "start_time": "2023-08-14T19:19:22.948Z"
   },
   {
    "duration": 11,
    "start_time": "2023-08-14T19:19:22.963Z"
   },
   {
    "duration": 17,
    "start_time": "2023-08-14T19:19:22.976Z"
   },
   {
    "duration": 17,
    "start_time": "2023-08-14T19:19:22.995Z"
   },
   {
    "duration": 32,
    "start_time": "2023-08-14T19:19:23.014Z"
   },
   {
    "duration": 14,
    "start_time": "2023-08-14T19:19:23.048Z"
   },
   {
    "duration": 187,
    "start_time": "2023-08-14T19:19:23.064Z"
   },
   {
    "duration": 134,
    "start_time": "2023-08-14T19:19:23.252Z"
   },
   {
    "duration": 15,
    "start_time": "2023-08-14T19:19:23.394Z"
   },
   {
    "duration": 21,
    "start_time": "2023-08-14T19:19:23.410Z"
   },
   {
    "duration": 257,
    "start_time": "2023-08-14T19:19:23.432Z"
   },
   {
    "duration": 192,
    "start_time": "2023-08-14T19:19:23.691Z"
   },
   {
    "duration": 315,
    "start_time": "2023-08-14T19:19:23.884Z"
   },
   {
    "duration": 6,
    "start_time": "2023-08-14T19:19:24.200Z"
   },
   {
    "duration": 206,
    "start_time": "2023-08-14T19:19:24.208Z"
   },
   {
    "duration": 281,
    "start_time": "2023-08-14T19:19:24.416Z"
   },
   {
    "duration": 12,
    "start_time": "2023-08-14T19:19:24.700Z"
   },
   {
    "duration": 140,
    "start_time": "2023-08-14T19:19:24.713Z"
   },
   {
    "duration": 3,
    "start_time": "2023-08-14T19:19:24.855Z"
   },
   {
    "duration": 143,
    "start_time": "2023-08-14T19:19:24.860Z"
   },
   {
    "duration": 5,
    "start_time": "2023-08-14T19:19:25.005Z"
   },
   {
    "duration": 100,
    "start_time": "2023-08-14T19:19:25.012Z"
   },
   {
    "duration": 65,
    "start_time": "2023-08-14T19:19:25.113Z"
   },
   {
    "duration": 59,
    "start_time": "2023-08-14T19:19:25.179Z"
   },
   {
    "duration": 26,
    "start_time": "2023-08-14T19:19:25.240Z"
   },
   {
    "duration": 138,
    "start_time": "2023-08-14T19:19:25.268Z"
   },
   {
    "duration": 7,
    "start_time": "2023-08-14T19:19:25.408Z"
   },
   {
    "duration": 9,
    "start_time": "2023-08-14T19:19:25.417Z"
   },
   {
    "duration": 31,
    "start_time": "2023-08-14T19:19:25.428Z"
   },
   {
    "duration": 10,
    "start_time": "2023-08-14T19:19:25.461Z"
   },
   {
    "duration": 30,
    "start_time": "2023-08-14T19:19:25.472Z"
   },
   {
    "duration": 10,
    "start_time": "2023-08-14T19:19:25.503Z"
   },
   {
    "duration": 32,
    "start_time": "2023-08-14T19:19:25.514Z"
   },
   {
    "duration": 19,
    "start_time": "2023-08-14T19:19:25.547Z"
   },
   {
    "duration": 324,
    "start_time": "2023-08-14T19:19:25.571Z"
   },
   {
    "duration": 276,
    "start_time": "2023-08-14T19:19:25.896Z"
   },
   {
    "duration": 15,
    "start_time": "2023-08-14T19:20:12.353Z"
   },
   {
    "duration": 1133,
    "start_time": "2023-08-14T19:20:20.588Z"
   },
   {
    "duration": 132,
    "start_time": "2023-08-14T19:20:21.722Z"
   },
   {
    "duration": 7,
    "start_time": "2023-08-14T19:20:21.856Z"
   },
   {
    "duration": 25,
    "start_time": "2023-08-14T19:20:21.865Z"
   },
   {
    "duration": 5,
    "start_time": "2023-08-14T19:20:22.290Z"
   },
   {
    "duration": 20,
    "start_time": "2023-08-14T19:20:22.476Z"
   },
   {
    "duration": 21,
    "start_time": "2023-08-14T19:20:22.614Z"
   },
   {
    "duration": 19,
    "start_time": "2023-08-14T19:20:22.848Z"
   },
   {
    "duration": 9,
    "start_time": "2023-08-14T19:20:23.028Z"
   },
   {
    "duration": 9,
    "start_time": "2023-08-14T19:20:23.171Z"
   },
   {
    "duration": 23,
    "start_time": "2023-08-14T19:20:24.911Z"
   },
   {
    "duration": 23,
    "start_time": "2023-08-14T19:20:26.098Z"
   },
   {
    "duration": 10,
    "start_time": "2023-08-14T19:20:26.713Z"
   },
   {
    "duration": 13,
    "start_time": "2023-08-14T19:20:26.861Z"
   },
   {
    "duration": 11,
    "start_time": "2023-08-14T19:20:27.017Z"
   },
   {
    "duration": 24,
    "start_time": "2023-08-14T19:20:27.293Z"
   },
   {
    "duration": 13,
    "start_time": "2023-08-14T19:20:34.101Z"
   },
   {
    "duration": 164,
    "start_time": "2023-08-14T19:20:37.251Z"
   },
   {
    "duration": 148,
    "start_time": "2023-08-14T19:20:38.247Z"
   },
   {
    "duration": 18,
    "start_time": "2023-08-14T19:20:39.119Z"
   },
   {
    "duration": 7,
    "start_time": "2023-08-14T19:20:42.938Z"
   },
   {
    "duration": 272,
    "start_time": "2023-08-14T19:20:43.614Z"
   },
   {
    "duration": 202,
    "start_time": "2023-08-14T19:20:45.813Z"
   },
   {
    "duration": 261,
    "start_time": "2023-08-14T19:20:47.453Z"
   },
   {
    "duration": 12,
    "start_time": "2023-08-14T19:20:48.656Z"
   },
   {
    "duration": 219,
    "start_time": "2023-08-14T19:20:49.759Z"
   },
   {
    "duration": 309,
    "start_time": "2023-08-14T19:20:54.233Z"
   },
   {
    "duration": 13,
    "start_time": "2023-08-14T19:20:55.994Z"
   },
   {
    "duration": 146,
    "start_time": "2023-08-14T19:20:56.193Z"
   },
   {
    "duration": 5,
    "start_time": "2023-08-14T19:21:02.813Z"
   },
   {
    "duration": 141,
    "start_time": "2023-08-14T19:21:17.187Z"
   },
   {
    "duration": 4,
    "start_time": "2023-08-14T19:21:18.914Z"
   },
   {
    "duration": 133,
    "start_time": "2023-08-14T19:21:25.393Z"
   },
   {
    "duration": 61,
    "start_time": "2023-08-14T19:21:25.903Z"
   },
   {
    "duration": 78,
    "start_time": "2023-08-14T19:21:26.323Z"
   },
   {
    "duration": 39,
    "start_time": "2023-08-14T19:21:26.667Z"
   },
   {
    "duration": 147,
    "start_time": "2023-08-14T19:21:27.271Z"
   },
   {
    "duration": 8,
    "start_time": "2023-08-14T19:21:27.820Z"
   },
   {
    "duration": 10,
    "start_time": "2023-08-14T19:21:28.291Z"
   },
   {
    "duration": 45,
    "start_time": "2023-08-14T19:21:30.688Z"
   },
   {
    "duration": 3,
    "start_time": "2023-08-15T08:26:51.186Z"
   },
   {
    "duration": 1215,
    "start_time": "2023-08-15T08:28:32.775Z"
   },
   {
    "duration": 301,
    "start_time": "2023-08-15T08:28:33.992Z"
   },
   {
    "duration": 6,
    "start_time": "2023-08-15T08:28:34.294Z"
   },
   {
    "duration": 36,
    "start_time": "2023-08-15T08:28:34.302Z"
   },
   {
    "duration": 23,
    "start_time": "2023-08-15T08:28:34.340Z"
   },
   {
    "duration": 31,
    "start_time": "2023-08-15T08:28:34.365Z"
   },
   {
    "duration": 24,
    "start_time": "2023-08-15T08:28:34.398Z"
   },
   {
    "duration": 26,
    "start_time": "2023-08-15T08:28:34.423Z"
   },
   {
    "duration": 28,
    "start_time": "2023-08-15T08:28:34.450Z"
   },
   {
    "duration": 37,
    "start_time": "2023-08-15T08:28:34.480Z"
   },
   {
    "duration": 43,
    "start_time": "2023-08-15T08:28:34.518Z"
   },
   {
    "duration": 12,
    "start_time": "2023-08-15T08:28:34.562Z"
   },
   {
    "duration": 41,
    "start_time": "2023-08-15T08:28:34.575Z"
   },
   {
    "duration": 33,
    "start_time": "2023-08-15T08:28:34.619Z"
   },
   {
    "duration": 56,
    "start_time": "2023-08-15T08:28:34.654Z"
   },
   {
    "duration": 21,
    "start_time": "2023-08-15T08:28:34.711Z"
   },
   {
    "duration": 23,
    "start_time": "2023-08-15T08:28:34.733Z"
   },
   {
    "duration": 150,
    "start_time": "2023-08-15T08:28:34.758Z"
   },
   {
    "duration": 115,
    "start_time": "2023-08-15T08:28:34.910Z"
   },
   {
    "duration": 24,
    "start_time": "2023-08-15T08:28:35.026Z"
   },
   {
    "duration": 75,
    "start_time": "2023-08-15T08:28:35.051Z"
   },
   {
    "duration": 0,
    "start_time": "2023-08-15T08:28:35.128Z"
   },
   {
    "duration": 0,
    "start_time": "2023-08-15T08:28:35.130Z"
   },
   {
    "duration": 0,
    "start_time": "2023-08-15T08:28:35.131Z"
   },
   {
    "duration": 0,
    "start_time": "2023-08-15T08:28:35.132Z"
   },
   {
    "duration": 0,
    "start_time": "2023-08-15T08:28:35.133Z"
   },
   {
    "duration": 0,
    "start_time": "2023-08-15T08:28:35.141Z"
   },
   {
    "duration": 0,
    "start_time": "2023-08-15T08:28:35.143Z"
   },
   {
    "duration": 0,
    "start_time": "2023-08-15T08:28:35.144Z"
   },
   {
    "duration": 0,
    "start_time": "2023-08-15T08:28:35.145Z"
   },
   {
    "duration": 0,
    "start_time": "2023-08-15T08:28:35.146Z"
   },
   {
    "duration": 0,
    "start_time": "2023-08-15T08:28:35.147Z"
   },
   {
    "duration": 0,
    "start_time": "2023-08-15T08:28:35.148Z"
   },
   {
    "duration": 0,
    "start_time": "2023-08-15T08:28:35.148Z"
   },
   {
    "duration": 0,
    "start_time": "2023-08-15T08:28:35.149Z"
   },
   {
    "duration": 1,
    "start_time": "2023-08-15T08:28:35.150Z"
   },
   {
    "duration": 0,
    "start_time": "2023-08-15T08:28:35.151Z"
   },
   {
    "duration": 0,
    "start_time": "2023-08-15T08:28:35.152Z"
   },
   {
    "duration": 0,
    "start_time": "2023-08-15T08:28:35.153Z"
   },
   {
    "duration": 0,
    "start_time": "2023-08-15T08:28:35.154Z"
   },
   {
    "duration": 0,
    "start_time": "2023-08-15T08:28:35.155Z"
   },
   {
    "duration": 0,
    "start_time": "2023-08-15T08:28:35.156Z"
   },
   {
    "duration": 0,
    "start_time": "2023-08-15T08:28:35.157Z"
   },
   {
    "duration": 0,
    "start_time": "2023-08-15T08:28:35.158Z"
   },
   {
    "duration": 0,
    "start_time": "2023-08-15T08:28:35.159Z"
   },
   {
    "duration": 0,
    "start_time": "2023-08-15T08:28:35.160Z"
   },
   {
    "duration": 0,
    "start_time": "2023-08-15T08:28:35.162Z"
   },
   {
    "duration": 959,
    "start_time": "2023-08-15T08:29:27.729Z"
   },
   {
    "duration": 113,
    "start_time": "2023-08-15T08:29:28.690Z"
   },
   {
    "duration": 7,
    "start_time": "2023-08-15T08:29:28.804Z"
   },
   {
    "duration": 19,
    "start_time": "2023-08-15T08:29:28.813Z"
   },
   {
    "duration": 14,
    "start_time": "2023-08-15T08:29:28.834Z"
   },
   {
    "duration": 11,
    "start_time": "2023-08-15T08:29:28.849Z"
   },
   {
    "duration": 10,
    "start_time": "2023-08-15T08:29:28.861Z"
   },
   {
    "duration": 9,
    "start_time": "2023-08-15T08:29:28.872Z"
   },
   {
    "duration": 22,
    "start_time": "2023-08-15T08:29:28.882Z"
   },
   {
    "duration": 8,
    "start_time": "2023-08-15T08:29:28.906Z"
   },
   {
    "duration": 14,
    "start_time": "2023-08-15T08:29:28.915Z"
   },
   {
    "duration": 12,
    "start_time": "2023-08-15T08:29:28.931Z"
   },
   {
    "duration": 12,
    "start_time": "2023-08-15T08:29:28.944Z"
   },
   {
    "duration": 12,
    "start_time": "2023-08-15T08:29:28.958Z"
   },
   {
    "duration": 29,
    "start_time": "2023-08-15T08:29:28.971Z"
   },
   {
    "duration": 16,
    "start_time": "2023-08-15T08:29:29.002Z"
   },
   {
    "duration": 152,
    "start_time": "2023-08-15T08:29:29.019Z"
   },
   {
    "duration": 114,
    "start_time": "2023-08-15T08:29:29.173Z"
   },
   {
    "duration": 13,
    "start_time": "2023-08-15T08:29:29.300Z"
   },
   {
    "duration": 84,
    "start_time": "2023-08-15T08:29:29.314Z"
   },
   {
    "duration": 0,
    "start_time": "2023-08-15T08:29:29.399Z"
   },
   {
    "duration": 0,
    "start_time": "2023-08-15T08:29:29.400Z"
   },
   {
    "duration": 0,
    "start_time": "2023-08-15T08:29:29.401Z"
   },
   {
    "duration": 0,
    "start_time": "2023-08-15T08:29:29.402Z"
   },
   {
    "duration": 0,
    "start_time": "2023-08-15T08:29:29.403Z"
   },
   {
    "duration": 0,
    "start_time": "2023-08-15T08:29:29.404Z"
   },
   {
    "duration": 0,
    "start_time": "2023-08-15T08:29:29.404Z"
   },
   {
    "duration": 0,
    "start_time": "2023-08-15T08:29:29.405Z"
   },
   {
    "duration": 0,
    "start_time": "2023-08-15T08:29:29.406Z"
   },
   {
    "duration": 0,
    "start_time": "2023-08-15T08:29:29.407Z"
   },
   {
    "duration": 0,
    "start_time": "2023-08-15T08:29:29.407Z"
   },
   {
    "duration": 0,
    "start_time": "2023-08-15T08:29:29.408Z"
   },
   {
    "duration": 0,
    "start_time": "2023-08-15T08:29:29.409Z"
   },
   {
    "duration": 0,
    "start_time": "2023-08-15T08:29:29.409Z"
   },
   {
    "duration": 0,
    "start_time": "2023-08-15T08:29:29.410Z"
   },
   {
    "duration": 0,
    "start_time": "2023-08-15T08:29:29.411Z"
   },
   {
    "duration": 0,
    "start_time": "2023-08-15T08:29:29.411Z"
   },
   {
    "duration": 0,
    "start_time": "2023-08-15T08:29:29.412Z"
   },
   {
    "duration": 0,
    "start_time": "2023-08-15T08:29:29.413Z"
   },
   {
    "duration": 0,
    "start_time": "2023-08-15T08:29:29.414Z"
   },
   {
    "duration": 0,
    "start_time": "2023-08-15T08:29:29.415Z"
   },
   {
    "duration": 0,
    "start_time": "2023-08-15T08:29:29.416Z"
   },
   {
    "duration": 0,
    "start_time": "2023-08-15T08:29:29.417Z"
   },
   {
    "duration": 0,
    "start_time": "2023-08-15T08:29:29.418Z"
   },
   {
    "duration": 0,
    "start_time": "2023-08-15T08:29:29.418Z"
   },
   {
    "duration": 0,
    "start_time": "2023-08-15T08:29:29.419Z"
   },
   {
    "duration": 1040,
    "start_time": "2023-08-15T08:29:40.011Z"
   },
   {
    "duration": 110,
    "start_time": "2023-08-15T08:29:41.053Z"
   },
   {
    "duration": 7,
    "start_time": "2023-08-15T08:29:41.164Z"
   },
   {
    "duration": 32,
    "start_time": "2023-08-15T08:29:41.173Z"
   },
   {
    "duration": 8,
    "start_time": "2023-08-15T08:29:41.206Z"
   },
   {
    "duration": 17,
    "start_time": "2023-08-15T08:29:41.215Z"
   },
   {
    "duration": 25,
    "start_time": "2023-08-15T08:29:41.233Z"
   },
   {
    "duration": 26,
    "start_time": "2023-08-15T08:29:41.260Z"
   },
   {
    "duration": 15,
    "start_time": "2023-08-15T08:29:41.288Z"
   },
   {
    "duration": 13,
    "start_time": "2023-08-15T08:29:41.305Z"
   },
   {
    "duration": 22,
    "start_time": "2023-08-15T08:29:41.320Z"
   },
   {
    "duration": 14,
    "start_time": "2023-08-15T08:29:41.343Z"
   },
   {
    "duration": 17,
    "start_time": "2023-08-15T08:29:41.358Z"
   },
   {
    "duration": 14,
    "start_time": "2023-08-15T08:29:41.376Z"
   },
   {
    "duration": 14,
    "start_time": "2023-08-15T08:29:41.391Z"
   },
   {
    "duration": 13,
    "start_time": "2023-08-15T08:29:41.406Z"
   },
   {
    "duration": 150,
    "start_time": "2023-08-15T08:29:41.421Z"
   },
   {
    "duration": 119,
    "start_time": "2023-08-15T08:29:41.572Z"
   },
   {
    "duration": 14,
    "start_time": "2023-08-15T08:29:41.700Z"
   },
   {
    "duration": 109,
    "start_time": "2023-08-15T08:29:41.716Z"
   },
   {
    "duration": 0,
    "start_time": "2023-08-15T08:29:41.826Z"
   },
   {
    "duration": 0,
    "start_time": "2023-08-15T08:29:41.827Z"
   },
   {
    "duration": 1,
    "start_time": "2023-08-15T08:29:41.828Z"
   },
   {
    "duration": 0,
    "start_time": "2023-08-15T08:29:41.829Z"
   },
   {
    "duration": 0,
    "start_time": "2023-08-15T08:29:41.830Z"
   },
   {
    "duration": 0,
    "start_time": "2023-08-15T08:29:41.831Z"
   },
   {
    "duration": 0,
    "start_time": "2023-08-15T08:29:41.832Z"
   },
   {
    "duration": 0,
    "start_time": "2023-08-15T08:29:41.833Z"
   },
   {
    "duration": 0,
    "start_time": "2023-08-15T08:29:41.834Z"
   },
   {
    "duration": 0,
    "start_time": "2023-08-15T08:29:41.835Z"
   },
   {
    "duration": 0,
    "start_time": "2023-08-15T08:29:41.835Z"
   },
   {
    "duration": 0,
    "start_time": "2023-08-15T08:29:41.836Z"
   },
   {
    "duration": 0,
    "start_time": "2023-08-15T08:29:41.837Z"
   },
   {
    "duration": 1,
    "start_time": "2023-08-15T08:29:41.837Z"
   },
   {
    "duration": 0,
    "start_time": "2023-08-15T08:29:41.838Z"
   },
   {
    "duration": 0,
    "start_time": "2023-08-15T08:29:41.839Z"
   },
   {
    "duration": 0,
    "start_time": "2023-08-15T08:29:41.840Z"
   },
   {
    "duration": 0,
    "start_time": "2023-08-15T08:29:41.841Z"
   },
   {
    "duration": 0,
    "start_time": "2023-08-15T08:29:41.842Z"
   },
   {
    "duration": 0,
    "start_time": "2023-08-15T08:29:41.843Z"
   },
   {
    "duration": 0,
    "start_time": "2023-08-15T08:29:41.844Z"
   },
   {
    "duration": 0,
    "start_time": "2023-08-15T08:29:41.845Z"
   },
   {
    "duration": 0,
    "start_time": "2023-08-15T08:29:41.846Z"
   },
   {
    "duration": 0,
    "start_time": "2023-08-15T08:29:41.847Z"
   },
   {
    "duration": 0,
    "start_time": "2023-08-15T08:29:41.848Z"
   },
   {
    "duration": 0,
    "start_time": "2023-08-15T08:29:41.850Z"
   },
   {
    "duration": 6,
    "start_time": "2023-08-15T08:30:19.673Z"
   },
   {
    "duration": 239,
    "start_time": "2023-08-15T08:30:21.777Z"
   },
   {
    "duration": 169,
    "start_time": "2023-08-15T08:30:26.975Z"
   },
   {
    "duration": 261,
    "start_time": "2023-08-15T08:30:28.440Z"
   },
   {
    "duration": 5,
    "start_time": "2023-08-15T08:30:30.129Z"
   },
   {
    "duration": 187,
    "start_time": "2023-08-15T08:30:30.369Z"
   },
   {
    "duration": 303,
    "start_time": "2023-08-15T08:30:31.898Z"
   },
   {
    "duration": 11,
    "start_time": "2023-08-15T08:30:33.096Z"
   },
   {
    "duration": 107,
    "start_time": "2023-08-15T08:30:33.302Z"
   },
   {
    "duration": 4,
    "start_time": "2023-08-15T08:30:34.663Z"
   },
   {
    "duration": 112,
    "start_time": "2023-08-15T08:30:36.815Z"
   },
   {
    "duration": 4,
    "start_time": "2023-08-15T08:30:37.659Z"
   },
   {
    "duration": 82,
    "start_time": "2023-08-15T08:30:41.488Z"
   },
   {
    "duration": 53,
    "start_time": "2023-08-15T08:30:41.663Z"
   },
   {
    "duration": 49,
    "start_time": "2023-08-15T08:30:41.867Z"
   },
   {
    "duration": 25,
    "start_time": "2023-08-15T08:30:42.017Z"
   },
   {
    "duration": 124,
    "start_time": "2023-08-15T08:30:42.527Z"
   },
   {
    "duration": 7,
    "start_time": "2023-08-15T08:30:42.652Z"
   },
   {
    "duration": 8,
    "start_time": "2023-08-15T08:30:42.688Z"
   },
   {
    "duration": 21,
    "start_time": "2023-08-15T08:30:43.095Z"
   },
   {
    "duration": 11,
    "start_time": "2023-08-15T08:30:45.025Z"
   },
   {
    "duration": 12,
    "start_time": "2023-08-15T08:30:48.347Z"
   },
   {
    "duration": 7,
    "start_time": "2023-08-15T08:30:49.266Z"
   },
   {
    "duration": 21,
    "start_time": "2023-08-15T08:30:49.595Z"
   },
   {
    "duration": 13,
    "start_time": "2023-08-15T08:30:50.016Z"
   },
   {
    "duration": 217,
    "start_time": "2023-08-15T08:30:51.346Z"
   },
   {
    "duration": 253,
    "start_time": "2023-08-15T08:30:51.771Z"
   },
   {
    "duration": 1055,
    "start_time": "2023-08-25T14:05:29.731Z"
   },
   {
    "duration": 247,
    "start_time": "2023-08-25T14:05:30.788Z"
   },
   {
    "duration": 6,
    "start_time": "2023-08-25T14:05:31.037Z"
   },
   {
    "duration": 41,
    "start_time": "2023-08-25T14:05:31.045Z"
   },
   {
    "duration": 23,
    "start_time": "2023-08-25T14:05:31.088Z"
   },
   {
    "duration": 28,
    "start_time": "2023-08-25T14:05:31.113Z"
   },
   {
    "duration": 24,
    "start_time": "2023-08-25T14:05:31.142Z"
   },
   {
    "duration": 22,
    "start_time": "2023-08-25T14:05:31.168Z"
   },
   {
    "duration": 30,
    "start_time": "2023-08-25T14:05:31.192Z"
   },
   {
    "duration": 19,
    "start_time": "2023-08-25T14:05:31.225Z"
   },
   {
    "duration": 31,
    "start_time": "2023-08-25T14:05:31.246Z"
   },
   {
    "duration": 28,
    "start_time": "2023-08-25T14:05:31.279Z"
   },
   {
    "duration": 41,
    "start_time": "2023-08-25T14:05:31.309Z"
   },
   {
    "duration": 27,
    "start_time": "2023-08-25T14:05:31.352Z"
   },
   {
    "duration": 56,
    "start_time": "2023-08-25T14:05:31.381Z"
   },
   {
    "duration": 29,
    "start_time": "2023-08-25T14:05:31.439Z"
   },
   {
    "duration": 194,
    "start_time": "2023-08-25T14:05:31.469Z"
   },
   {
    "duration": 139,
    "start_time": "2023-08-25T14:05:31.665Z"
   },
   {
    "duration": 15,
    "start_time": "2023-08-25T14:05:31.806Z"
   },
   {
    "duration": 34,
    "start_time": "2023-08-25T14:05:31.823Z"
   },
   {
    "duration": 287,
    "start_time": "2023-08-25T14:05:31.859Z"
   },
   {
    "duration": 195,
    "start_time": "2023-08-25T14:05:32.148Z"
   },
   {
    "duration": 324,
    "start_time": "2023-08-25T14:05:32.344Z"
   },
   {
    "duration": 6,
    "start_time": "2023-08-25T14:05:32.670Z"
   },
   {
    "duration": 228,
    "start_time": "2023-08-25T14:05:32.678Z"
   },
   {
    "duration": 293,
    "start_time": "2023-08-25T14:05:32.908Z"
   },
   {
    "duration": 11,
    "start_time": "2023-08-25T14:05:33.203Z"
   },
   {
    "duration": 137,
    "start_time": "2023-08-25T14:05:33.217Z"
   },
   {
    "duration": 4,
    "start_time": "2023-08-25T14:05:33.355Z"
   },
   {
    "duration": 142,
    "start_time": "2023-08-25T14:05:33.361Z"
   },
   {
    "duration": 3,
    "start_time": "2023-08-25T14:05:33.505Z"
   },
   {
    "duration": 94,
    "start_time": "2023-08-25T14:05:33.510Z"
   },
   {
    "duration": 63,
    "start_time": "2023-08-25T14:05:33.606Z"
   },
   {
    "duration": 52,
    "start_time": "2023-08-25T14:05:33.671Z"
   },
   {
    "duration": 35,
    "start_time": "2023-08-25T14:05:33.725Z"
   },
   {
    "duration": 141,
    "start_time": "2023-08-25T14:05:33.762Z"
   },
   {
    "duration": 6,
    "start_time": "2023-08-25T14:05:33.905Z"
   },
   {
    "duration": 15,
    "start_time": "2023-08-25T14:05:33.913Z"
   },
   {
    "duration": 32,
    "start_time": "2023-08-25T14:05:33.929Z"
   },
   {
    "duration": 9,
    "start_time": "2023-08-25T14:05:33.963Z"
   },
   {
    "duration": 15,
    "start_time": "2023-08-25T14:05:33.974Z"
   },
   {
    "duration": 7,
    "start_time": "2023-08-25T14:05:33.990Z"
   },
   {
    "duration": 41,
    "start_time": "2023-08-25T14:05:33.998Z"
   },
   {
    "duration": 14,
    "start_time": "2023-08-25T14:05:34.041Z"
   },
   {
    "duration": 295,
    "start_time": "2023-08-25T14:05:34.057Z"
   },
   {
    "duration": 273,
    "start_time": "2023-08-25T14:05:34.354Z"
   }
  ],
  "kernelspec": {
   "display_name": "Python 3 (ipykernel)",
   "language": "python",
   "name": "python3"
  },
  "language_info": {
   "codemirror_mode": {
    "name": "ipython",
    "version": 3
   },
   "file_extension": ".py",
   "mimetype": "text/x-python",
   "name": "python",
   "nbconvert_exporter": "python",
   "pygments_lexer": "ipython3",
   "version": "3.9.5"
  },
  "toc": {
   "base_numbering": 1,
   "nav_menu": {},
   "number_sections": true,
   "sideBar": true,
   "skip_h1_title": true,
   "title_cell": "Table of Contents",
   "title_sidebar": "Contents",
   "toc_cell": false,
   "toc_position": {},
   "toc_section_display": true,
   "toc_window_display": false
  }
 },
 "nbformat": 4,
 "nbformat_minor": 5
}
