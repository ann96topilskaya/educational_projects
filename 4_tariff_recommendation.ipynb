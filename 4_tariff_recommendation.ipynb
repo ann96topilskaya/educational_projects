{
 "cells": [
  {
   "cell_type": "markdown",
   "metadata": {},
   "source": [
    "# Рекомендация тарифов"
   ]
  },
  {
   "cell_type": "markdown",
   "metadata": {},
   "source": [
    "После предобработки в прошлом проекте на основе данных с тарифами \"Смарт\" и \"Ультра\" необходимо построить модель для задачи классификации тарифа. Основная метрика - *accuracy*."
   ]
  },
  {
   "cell_type": "markdown",
   "metadata": {},
   "source": [
    "## Изучение данных"
   ]
  },
  {
   "cell_type": "code",
   "execution_count": 10,
   "metadata": {},
   "outputs": [],
   "source": [
    "# загружаем необходимые библиотеки\n",
    "import pandas as pd \n",
    "import numpy as np\n",
    "from sklearn.tree import DecisionTreeClassifier\n",
    "from sklearn.ensemble import RandomForestClassifier\n",
    "from sklearn.ensemble import RandomForestRegressor\n",
    "from sklearn.linear_model import LogisticRegression\n",
    "from sklearn.metrics import accuracy_score\n",
    "from sklearn.model_selection import train_test_split # разделение выборки\n",
    "from sklearn.metrics import mean_squared_error # mse\n",
    "from sklearn.dummy import DummyClassifier #в 5 бонусный пункт"
   ]
  },
  {
   "cell_type": "code",
   "execution_count": 2,
   "metadata": {},
   "outputs": [
    {
     "data": {
      "text/html": [
       "<div>\n",
       "<style scoped>\n",
       "    .dataframe tbody tr th:only-of-type {\n",
       "        vertical-align: middle;\n",
       "    }\n",
       "\n",
       "    .dataframe tbody tr th {\n",
       "        vertical-align: top;\n",
       "    }\n",
       "\n",
       "    .dataframe thead th {\n",
       "        text-align: right;\n",
       "    }\n",
       "</style>\n",
       "<table border=\"1\" class=\"dataframe\">\n",
       "  <thead>\n",
       "    <tr style=\"text-align: right;\">\n",
       "      <th></th>\n",
       "      <th>calls</th>\n",
       "      <th>minutes</th>\n",
       "      <th>messages</th>\n",
       "      <th>mb_used</th>\n",
       "      <th>is_ultra</th>\n",
       "    </tr>\n",
       "  </thead>\n",
       "  <tbody>\n",
       "    <tr>\n",
       "      <td>0</td>\n",
       "      <td>40.0</td>\n",
       "      <td>311.90</td>\n",
       "      <td>83.0</td>\n",
       "      <td>19915.42</td>\n",
       "      <td>0</td>\n",
       "    </tr>\n",
       "    <tr>\n",
       "      <td>1</td>\n",
       "      <td>85.0</td>\n",
       "      <td>516.75</td>\n",
       "      <td>56.0</td>\n",
       "      <td>22696.96</td>\n",
       "      <td>0</td>\n",
       "    </tr>\n",
       "    <tr>\n",
       "      <td>2</td>\n",
       "      <td>77.0</td>\n",
       "      <td>467.66</td>\n",
       "      <td>86.0</td>\n",
       "      <td>21060.45</td>\n",
       "      <td>0</td>\n",
       "    </tr>\n",
       "    <tr>\n",
       "      <td>3</td>\n",
       "      <td>106.0</td>\n",
       "      <td>745.53</td>\n",
       "      <td>81.0</td>\n",
       "      <td>8437.39</td>\n",
       "      <td>1</td>\n",
       "    </tr>\n",
       "    <tr>\n",
       "      <td>4</td>\n",
       "      <td>66.0</td>\n",
       "      <td>418.74</td>\n",
       "      <td>1.0</td>\n",
       "      <td>14502.75</td>\n",
       "      <td>0</td>\n",
       "    </tr>\n",
       "    <tr>\n",
       "      <td>...</td>\n",
       "      <td>...</td>\n",
       "      <td>...</td>\n",
       "      <td>...</td>\n",
       "      <td>...</td>\n",
       "      <td>...</td>\n",
       "    </tr>\n",
       "    <tr>\n",
       "      <td>3209</td>\n",
       "      <td>122.0</td>\n",
       "      <td>910.98</td>\n",
       "      <td>20.0</td>\n",
       "      <td>35124.90</td>\n",
       "      <td>1</td>\n",
       "    </tr>\n",
       "    <tr>\n",
       "      <td>3210</td>\n",
       "      <td>25.0</td>\n",
       "      <td>190.36</td>\n",
       "      <td>0.0</td>\n",
       "      <td>3275.61</td>\n",
       "      <td>0</td>\n",
       "    </tr>\n",
       "    <tr>\n",
       "      <td>3211</td>\n",
       "      <td>97.0</td>\n",
       "      <td>634.44</td>\n",
       "      <td>70.0</td>\n",
       "      <td>13974.06</td>\n",
       "      <td>0</td>\n",
       "    </tr>\n",
       "    <tr>\n",
       "      <td>3212</td>\n",
       "      <td>64.0</td>\n",
       "      <td>462.32</td>\n",
       "      <td>90.0</td>\n",
       "      <td>31239.78</td>\n",
       "      <td>0</td>\n",
       "    </tr>\n",
       "    <tr>\n",
       "      <td>3213</td>\n",
       "      <td>80.0</td>\n",
       "      <td>566.09</td>\n",
       "      <td>6.0</td>\n",
       "      <td>29480.52</td>\n",
       "      <td>1</td>\n",
       "    </tr>\n",
       "  </tbody>\n",
       "</table>\n",
       "<p>3214 rows × 5 columns</p>\n",
       "</div>"
      ],
      "text/plain": [
       "      calls  minutes  messages   mb_used  is_ultra\n",
       "0      40.0   311.90      83.0  19915.42         0\n",
       "1      85.0   516.75      56.0  22696.96         0\n",
       "2      77.0   467.66      86.0  21060.45         0\n",
       "3     106.0   745.53      81.0   8437.39         1\n",
       "4      66.0   418.74       1.0  14502.75         0\n",
       "...     ...      ...       ...       ...       ...\n",
       "3209  122.0   910.98      20.0  35124.90         1\n",
       "3210   25.0   190.36       0.0   3275.61         0\n",
       "3211   97.0   634.44      70.0  13974.06         0\n",
       "3212   64.0   462.32      90.0  31239.78         0\n",
       "3213   80.0   566.09       6.0  29480.52         1\n",
       "\n",
       "[3214 rows x 5 columns]"
      ]
     },
     "metadata": {},
     "output_type": "display_data"
    }
   ],
   "source": [
    "df = pd.read_csv('/datasets/users_behavior.csv')\n",
    "display(df)"
   ]
  },
  {
   "cell_type": "code",
   "execution_count": 3,
   "metadata": {},
   "outputs": [
    {
     "name": "stdout",
     "output_type": "stream",
     "text": [
      "<class 'pandas.core.frame.DataFrame'>\n",
      "RangeIndex: 3214 entries, 0 to 3213\n",
      "Data columns (total 5 columns):\n",
      "calls       3214 non-null float64\n",
      "minutes     3214 non-null float64\n",
      "messages    3214 non-null float64\n",
      "mb_used     3214 non-null float64\n",
      "is_ultra    3214 non-null int64\n",
      "dtypes: float64(4), int64(1)\n",
      "memory usage: 125.7 KB\n"
     ]
    }
   ],
   "source": [
    "df.info()"
   ]
  },
  {
   "cell_type": "markdown",
   "metadata": {},
   "source": [
    "**Вывод**\n",
    "\n",
    "Получили данные с информацией поведения пользователей за 1 месяц.\n",
    "- сalls — количество звонков\n",
    "- minutes — суммарная длительность звонков в минутах\n",
    "- messages — количество sms-сообщений\n",
    "- mb_used — израсходованный интернет-трафик в Мб\n",
    "- is_ultra — каким тарифом пользовался в течение месяца («Ультра» — 1, «Смарт» — 0)"
   ]
  },
  {
   "cell_type": "markdown",
   "metadata": {},
   "source": [
    "## Деление данных на выборки"
   ]
  },
  {
   "cell_type": "code",
   "execution_count": 4,
   "metadata": {},
   "outputs": [
    {
     "data": {
      "text/html": [
       "<div>\n",
       "<style scoped>\n",
       "    .dataframe tbody tr th:only-of-type {\n",
       "        vertical-align: middle;\n",
       "    }\n",
       "\n",
       "    .dataframe tbody tr th {\n",
       "        vertical-align: top;\n",
       "    }\n",
       "\n",
       "    .dataframe thead th {\n",
       "        text-align: right;\n",
       "    }\n",
       "</style>\n",
       "<table border=\"1\" class=\"dataframe\">\n",
       "  <thead>\n",
       "    <tr style=\"text-align: right;\">\n",
       "      <th></th>\n",
       "      <th>calls</th>\n",
       "      <th>minutes</th>\n",
       "      <th>messages</th>\n",
       "      <th>mb_used</th>\n",
       "    </tr>\n",
       "  </thead>\n",
       "  <tbody>\n",
       "    <tr>\n",
       "      <td>0</td>\n",
       "      <td>40.0</td>\n",
       "      <td>311.90</td>\n",
       "      <td>83.0</td>\n",
       "      <td>19915.42</td>\n",
       "    </tr>\n",
       "    <tr>\n",
       "      <td>1</td>\n",
       "      <td>85.0</td>\n",
       "      <td>516.75</td>\n",
       "      <td>56.0</td>\n",
       "      <td>22696.96</td>\n",
       "    </tr>\n",
       "    <tr>\n",
       "      <td>2</td>\n",
       "      <td>77.0</td>\n",
       "      <td>467.66</td>\n",
       "      <td>86.0</td>\n",
       "      <td>21060.45</td>\n",
       "    </tr>\n",
       "    <tr>\n",
       "      <td>3</td>\n",
       "      <td>106.0</td>\n",
       "      <td>745.53</td>\n",
       "      <td>81.0</td>\n",
       "      <td>8437.39</td>\n",
       "    </tr>\n",
       "    <tr>\n",
       "      <td>4</td>\n",
       "      <td>66.0</td>\n",
       "      <td>418.74</td>\n",
       "      <td>1.0</td>\n",
       "      <td>14502.75</td>\n",
       "    </tr>\n",
       "  </tbody>\n",
       "</table>\n",
       "</div>"
      ],
      "text/plain": [
       "   calls  minutes  messages   mb_used\n",
       "0   40.0   311.90      83.0  19915.42\n",
       "1   85.0   516.75      56.0  22696.96\n",
       "2   77.0   467.66      86.0  21060.45\n",
       "3  106.0   745.53      81.0   8437.39\n",
       "4   66.0   418.74       1.0  14502.75"
      ]
     },
     "metadata": {},
     "output_type": "display_data"
    },
    {
     "data": {
      "text/plain": [
       "0    0\n",
       "1    0\n",
       "2    0\n",
       "3    1\n",
       "4    0\n",
       "Name: is_ultra, dtype: int64"
      ]
     },
     "metadata": {},
     "output_type": "display_data"
    }
   ],
   "source": [
    "# создадим два датафрейма с признаками и ответами\n",
    "features = df.loc[:,'calls':'mb_used']\n",
    "target = df['is_ultra']\n",
    "display(features.head())\n",
    "display(target.head())"
   ]
  },
  {
   "cell_type": "code",
   "execution_count": 5,
   "metadata": {},
   "outputs": [
    {
     "data": {
      "text/plain": [
       "(1928, 5)"
      ]
     },
     "metadata": {},
     "output_type": "display_data"
    },
    {
     "data": {
      "text/plain": [
       "(643, 5)"
      ]
     },
     "metadata": {},
     "output_type": "display_data"
    },
    {
     "data": {
      "text/plain": [
       "(643, 5)"
      ]
     },
     "metadata": {},
     "output_type": "display_data"
    }
   ],
   "source": [
    "# разобьем данные на обучающую, валидационную и тестовую выборки, применив метод train_ttest_split дважды\n",
    "df_train_test, df_valid = train_test_split(df, test_size=0.2, train_size=0.8, random_state=12345) \n",
    "df_train, df_test = train_test_split(df_train_test, test_size=0.25, random_state=12345)\n",
    "display(df_train.shape)\n",
    "display(df_test.shape)\n",
    "display(df_valid.shape)"
   ]
  },
  {
   "cell_type": "code",
   "execution_count": 6,
   "metadata": {},
   "outputs": [],
   "source": [
    "# создадим для каждой выборки признаки и ответы\n",
    "features_train = df_train.loc[:,'calls':'mb_used']\n",
    "target_train = df_train['is_ultra']\n",
    "\n",
    "features_valid = df_valid.loc[:,'calls':'mb_used']\n",
    "target_valid = df_valid['is_ultra']\n",
    "\n",
    "features_test = df_test.loc[:,'calls':'mb_used']\n",
    "target_test = df_test['is_ultra']"
   ]
  },
  {
   "cell_type": "markdown",
   "metadata": {},
   "source": [
    "## Исследуйте модели"
   ]
  },
  {
   "cell_type": "markdown",
   "metadata": {},
   "source": [
    "Проверим следующие модели: \n",
    "- дерево решений (классификация)\n",
    "- случайный лес (классификация)\n",
    "- логистическая регрессия \n",
    "\n",
    "Берем на проверку именно эти модели, так как у нас категориальные переменные в целевом признаке. Дерево решений в регрессии, случайный лес в регрессии и линейную регрессию не будем рассматривать, так как в них проверяется количественный целевой признак."
   ]
  },
  {
   "cell_type": "markdown",
   "metadata": {},
   "source": [
    "**Дерево решений**"
   ]
  },
  {
   "cell_type": "code",
   "execution_count": 7,
   "metadata": {},
   "outputs": [
    {
     "data": {
      "text/html": [
       "<div>\n",
       "<style scoped>\n",
       "    .dataframe tbody tr th:only-of-type {\n",
       "        vertical-align: middle;\n",
       "    }\n",
       "\n",
       "    .dataframe tbody tr th {\n",
       "        vertical-align: top;\n",
       "    }\n",
       "\n",
       "    .dataframe thead th {\n",
       "        text-align: right;\n",
       "    }\n",
       "</style>\n",
       "<table border=\"1\" class=\"dataframe\">\n",
       "  <thead>\n",
       "    <tr style=\"text-align: right;\">\n",
       "      <th></th>\n",
       "      <th>max_depth</th>\n",
       "      <th>values</th>\n",
       "    </tr>\n",
       "  </thead>\n",
       "  <tbody>\n",
       "    <tr>\n",
       "      <td>0</td>\n",
       "      <td>1</td>\n",
       "      <td>0.748056</td>\n",
       "    </tr>\n",
       "    <tr>\n",
       "      <td>1</td>\n",
       "      <td>2</td>\n",
       "      <td>0.783826</td>\n",
       "    </tr>\n",
       "    <tr>\n",
       "      <td>2</td>\n",
       "      <td>3</td>\n",
       "      <td>0.786936</td>\n",
       "    </tr>\n",
       "    <tr>\n",
       "      <td>3</td>\n",
       "      <td>4</td>\n",
       "      <td>0.786936</td>\n",
       "    </tr>\n",
       "    <tr>\n",
       "      <td>4</td>\n",
       "      <td>5</td>\n",
       "      <td>0.788491</td>\n",
       "    </tr>\n",
       "  </tbody>\n",
       "</table>\n",
       "</div>"
      ],
      "text/plain": [
       "   max_depth    values\n",
       "0          1  0.748056\n",
       "1          2  0.783826\n",
       "2          3  0.786936\n",
       "3          4  0.786936\n",
       "4          5  0.788491"
      ]
     },
     "metadata": {},
     "output_type": "display_data"
    },
    {
     "name": "stdout",
     "output_type": "stream",
     "text": [
      "Наилучший результат у модели:\n",
      "   max_depth    values\n",
      "4          5  0.788491\n"
     ]
    }
   ],
   "source": [
    "# проверим, при какой глубине лучшие результаты\n",
    "list_depth = []\n",
    "list_values = []\n",
    "\n",
    "for i in range(1,6):\n",
    "    model = DecisionTreeClassifier(random_state=12345, max_depth=i)\n",
    "    model.fit(features_train, target_train)\n",
    "    predictions_valid = model.predict(features_valid) # получите предсказания модели\n",
    "    list_depth.append(i)\n",
    "    list_values.append(accuracy_score(target_valid, predictions_valid))\n",
    "    \n",
    "depth_dict = {'max_depth' : list_depth, 'values': list_values}\n",
    "depth_table = pd.DataFrame(depth_dict)\n",
    "display(depth_table)\n",
    "\n",
    "max_depth_result = depth_table['values'].max()\n",
    "\n",
    "print('Наилучший результат у модели:')\n",
    "print(depth_table[depth_table['values'] == max_depth_result])"
   ]
  },
  {
   "cell_type": "markdown",
   "metadata": {},
   "source": [
    "**Случайный лес**"
   ]
  },
  {
   "cell_type": "code",
   "execution_count": 20,
   "metadata": {},
   "outputs": [
    {
     "name": "stdout",
     "output_type": "stream",
     "text": [
      "Accuracy наилучшей модели на валидационной выборке: 0.7869362363919129\n"
     ]
    }
   ],
   "source": [
    "# проверим, при каком количестве деревьев лучшие результаты\n",
    "best_model = None\n",
    "best_result = 0\n",
    "for est in range(1, 11): \n",
    "    for depth in range(1, 6): \n",
    "        for samples_leaf in range(1, 6): \n",
    "            model = RandomForestClassifier(random_state=12345, n_estimators=est, min_samples_leaf=samples_leaf)\n",
    "            model.fit(features_train, target_train)\n",
    "            result = model.score(features_valid, target_valid)\n",
    "            if result > best_result:\n",
    "                best_model = model\n",
    "                best_result = result\n",
    "print(\"Accuracy наилучшей модели на валидационной выборке:\", best_result)"
   ]
  },
  {
   "cell_type": "markdown",
   "metadata": {},
   "source": [
    "**Логистическая регрессия**"
   ]
  },
  {
   "cell_type": "code",
   "execution_count": null,
   "metadata": {},
   "outputs": [],
   "source": [
    "# проверим, при каком количестве деревьев лучшие результаты\n",
    "model = LogisticRegression(random_state=12345)\n",
    "model.fit(features_train, target_train)\n",
    "result = model.score(features_valid, target_valid)\n",
    "\n",
    "print(\"Accuracy модели логистической регрессии на валидационной выборке:\", result)"
   ]
  },
  {
   "cell_type": "markdown",
   "metadata": {},
   "source": [
    "Из трех моделей лучший результат показала модель дерева решений с максимальной глубиной 5. Проверим ее на тестовой выборке"
   ]
  },
  {
   "cell_type": "markdown",
   "metadata": {},
   "source": [
    "## Проверка модели на тестовой выборке"
   ]
  },
  {
   "cell_type": "code",
   "execution_count": 21,
   "metadata": {},
   "outputs": [
    {
     "name": "stdout",
     "output_type": "stream",
     "text": [
      "0.7589424572317263\n"
     ]
    }
   ],
   "source": [
    "model = DecisionTreeClassifier(random_state=12345, max_depth=5)\n",
    "model.fit(features_train, target_train)\n",
    "predictions_test = model.predict(features_test) # получите предсказания модели\n",
    "print(accuracy_score(target_test, predictions_test))"
   ]
  },
  {
   "cell_type": "markdown",
   "metadata": {},
   "source": [
    "## Проверка модели на адекватность"
   ]
  },
  {
   "cell_type": "code",
   "execution_count": 22,
   "metadata": {},
   "outputs": [
    {
     "name": "stdout",
     "output_type": "stream",
     "text": [
      "0.6889580093312597\n"
     ]
    }
   ],
   "source": [
    "model_dummy = DummyClassifier(strategy=\"most_frequent\")\n",
    "model_dummy.fit(features_train, target_train)\n",
    "DummyClassifier(strategy='most_frequent')\n",
    "predictions_test = model_dummy.predict(features_test)\n",
    "print(model_dummy.score(predictions_test, target_test))"
   ]
  },
  {
   "cell_type": "markdown",
   "metadata": {},
   "source": [
    "## Вывод"
   ]
  },
  {
   "cell_type": "markdown",
   "metadata": {},
   "source": [
    "- **Цель проекта**\n",
    "\n",
    "Оператор мобильной связи «Мегалайн» выяснил: многие клиенты пользуются архивными тарифами. Они хотят построить систему, способную проанализировать поведение клиентов и предложить пользователям новый тариф: «Смарт» или «Ультра».Нужно построить модель для задачи классификации, которая выберет подходящий тариф. \n",
    "\n",
    "- **Полученные данные**\n",
    "\n",
    "В нашем распоряжении данные о поведении клиентов, которые уже перешли на эти тарифы. Предобработка не требовалась.\n",
    "\n",
    "- **Выборки**\n",
    "\n",
    "Разделили данные на три выборки: обучающую, валидационную и тестовую. От общих данных обучающая составила 60%, валидационная и тестовая по 20%.\n",
    "\n",
    "- **Исследование разных моделей**\n",
    "\n",
    "Были рассмотрены 3 модели для категориального целевого признака:\n",
    "\n",
    "    * дерево решений с параметрами глубины дерева\n",
    "    * случайный лес с параметрами количества деревьев и количества листьев\n",
    "    * логистическая регрессия \n",
    "\n",
    "Лучше всех себя показала модель дерева решений, ее accuracy_score составил более 78%\n",
    "\n",
    "- **Проверка модели на тестовой выборке **\n",
    "\n",
    "Проверили модель решающего дерева на тестовой выборке, результат accuracy_score составил более 75%\n",
    "\n",
    "- **Проверка модели на адекватность**\n",
    "\n",
    "С помощью DummyClassifier проверили модель на адекватность, score  составил более 68%\n",
    "\n",
    "- **Общий вывод**\n",
    "\n",
    "С помощью исследования построили модель решающего дерева, которая лучше других справилась с задачей классификации, следовательно, ее стоит внедрить для:\n",
    "\n",
    "    * успешного анализа поведения клиентов\n",
    "    * предложения им выгодного тарифа, исходя из поведения клиентов"
   ]
  }
 ],
 "metadata": {
  "ExecuteTimeLog": [
   {
    "duration": 286,
    "start_time": "2022-01-27T11:17:31.714Z"
   },
   {
    "duration": 605,
    "start_time": "2022-01-27T11:17:39.935Z"
   },
   {
    "duration": 518,
    "start_time": "2022-01-27T11:20:22.899Z"
   },
   {
    "duration": 26,
    "start_time": "2022-01-27T11:20:27.528Z"
   },
   {
    "duration": 8,
    "start_time": "2022-01-27T12:34:45.604Z"
   },
   {
    "duration": 3,
    "start_time": "2022-01-27T12:46:21.372Z"
   },
   {
    "duration": 295,
    "start_time": "2022-01-27T12:47:46.419Z"
   },
   {
    "duration": 84,
    "start_time": "2022-01-27T12:48:20.170Z"
   },
   {
    "duration": 254,
    "start_time": "2022-01-27T12:48:27.602Z"
   },
   {
    "duration": 5,
    "start_time": "2022-01-27T12:48:33.197Z"
   },
   {
    "duration": 10,
    "start_time": "2022-01-27T12:48:54.674Z"
   },
   {
    "duration": 258,
    "start_time": "2022-01-27T12:49:35.736Z"
   },
   {
    "duration": 256,
    "start_time": "2022-01-27T12:49:43.201Z"
   },
   {
    "duration": 5,
    "start_time": "2022-01-27T12:49:48.435Z"
   },
   {
    "duration": 2,
    "start_time": "2022-01-27T12:53:46.567Z"
   },
   {
    "duration": 80,
    "start_time": "2022-01-27T12:54:45.708Z"
   },
   {
    "duration": 263,
    "start_time": "2022-01-27T12:54:49.908Z"
   },
   {
    "duration": 13,
    "start_time": "2022-01-27T12:56:14.809Z"
   },
   {
    "duration": 12,
    "start_time": "2022-01-27T12:58:05.256Z"
   },
   {
    "duration": 1049,
    "start_time": "2022-01-27T13:54:17.344Z"
   },
   {
    "duration": 34,
    "start_time": "2022-01-27T13:54:18.394Z"
   },
   {
    "duration": 7,
    "start_time": "2022-01-27T13:54:18.430Z"
   },
   {
    "duration": 11,
    "start_time": "2022-01-27T13:54:18.439Z"
   },
   {
    "duration": 11,
    "start_time": "2022-01-27T13:54:18.471Z"
   },
   {
    "duration": 5,
    "start_time": "2022-01-27T13:56:37.930Z"
   },
   {
    "duration": 350,
    "start_time": "2022-01-27T14:00:22.185Z"
   },
   {
    "duration": 255,
    "start_time": "2022-01-27T14:00:42.929Z"
   },
   {
    "duration": 1025,
    "start_time": "2022-01-27T14:01:36.879Z"
   },
   {
    "duration": 35,
    "start_time": "2022-01-27T14:01:37.905Z"
   },
   {
    "duration": 7,
    "start_time": "2022-01-27T14:01:37.942Z"
   },
   {
    "duration": 22,
    "start_time": "2022-01-27T14:01:37.950Z"
   },
   {
    "duration": 11,
    "start_time": "2022-01-27T14:01:37.974Z"
   },
   {
    "duration": 5,
    "start_time": "2022-01-27T14:01:37.987Z"
   },
   {
    "duration": 335,
    "start_time": "2022-01-27T14:01:37.994Z"
   },
   {
    "duration": 3,
    "start_time": "2022-01-27T14:01:51.687Z"
   },
   {
    "duration": 1027,
    "start_time": "2022-01-27T14:02:01.977Z"
   },
   {
    "duration": 36,
    "start_time": "2022-01-27T14:02:03.007Z"
   },
   {
    "duration": 6,
    "start_time": "2022-01-27T14:02:03.047Z"
   },
   {
    "duration": 19,
    "start_time": "2022-01-27T14:02:03.055Z"
   },
   {
    "duration": 10,
    "start_time": "2022-01-27T14:02:03.076Z"
   },
   {
    "duration": 5,
    "start_time": "2022-01-27T14:02:03.087Z"
   },
   {
    "duration": 27,
    "start_time": "2022-01-27T14:02:03.093Z"
   },
   {
    "duration": 10,
    "start_time": "2022-01-27T14:06:04.018Z"
   },
   {
    "duration": 27,
    "start_time": "2022-01-27T14:06:30.133Z"
   },
   {
    "duration": 10,
    "start_time": "2022-01-27T14:07:03.245Z"
   },
   {
    "duration": 4,
    "start_time": "2022-01-27T14:10:43.688Z"
   },
   {
    "duration": 350,
    "start_time": "2022-01-27T14:13:24.943Z"
   },
   {
    "duration": 258,
    "start_time": "2022-01-27T14:13:39.389Z"
   },
   {
    "duration": 4,
    "start_time": "2022-01-27T14:14:00.008Z"
   },
   {
    "duration": 220,
    "start_time": "2022-01-27T14:14:02.721Z"
   },
   {
    "duration": 230,
    "start_time": "2022-01-27T14:14:04.042Z"
   },
   {
    "duration": 3,
    "start_time": "2022-01-27T14:15:39.608Z"
   },
   {
    "duration": 11,
    "start_time": "2022-01-27T14:16:12.523Z"
   },
   {
    "duration": 11,
    "start_time": "2022-01-27T14:17:00.317Z"
   },
   {
    "duration": 8,
    "start_time": "2022-01-27T14:20:36.432Z"
   },
   {
    "duration": 259,
    "start_time": "2022-01-27T14:27:03.355Z"
   },
   {
    "duration": 5,
    "start_time": "2022-01-27T14:27:06.212Z"
   },
   {
    "duration": 688,
    "start_time": "2022-01-28T08:02:43.502Z"
   },
   {
    "duration": 989,
    "start_time": "2022-01-28T08:02:49.100Z"
   },
   {
    "duration": 32,
    "start_time": "2022-01-28T08:02:50.090Z"
   },
   {
    "duration": 6,
    "start_time": "2022-01-28T08:02:50.124Z"
   },
   {
    "duration": 26,
    "start_time": "2022-01-28T08:02:50.132Z"
   },
   {
    "duration": 22,
    "start_time": "2022-01-28T08:02:50.160Z"
   },
   {
    "duration": 7,
    "start_time": "2022-01-28T08:02:50.183Z"
   },
   {
    "duration": 46,
    "start_time": "2022-01-28T08:02:50.192Z"
   },
   {
    "duration": 218,
    "start_time": "2022-01-28T08:02:50.240Z"
   },
   {
    "duration": 17,
    "start_time": "2022-01-28T08:02:50.460Z"
   },
   {
    "duration": 19,
    "start_time": "2022-01-28T08:02:50.478Z"
   },
   {
    "duration": 9,
    "start_time": "2022-01-28T08:02:50.499Z"
   },
   {
    "duration": 1027,
    "start_time": "2022-01-28T08:22:45.147Z"
   },
   {
    "duration": 31,
    "start_time": "2022-01-28T08:22:46.176Z"
   },
   {
    "duration": 5,
    "start_time": "2022-01-28T08:22:46.209Z"
   },
   {
    "duration": 10,
    "start_time": "2022-01-28T08:22:46.216Z"
   },
   {
    "duration": 10,
    "start_time": "2022-01-28T08:22:46.227Z"
   },
   {
    "duration": 4,
    "start_time": "2022-01-28T08:22:46.238Z"
   },
   {
    "duration": 42,
    "start_time": "2022-01-28T08:22:46.244Z"
   },
   {
    "duration": 209,
    "start_time": "2022-01-28T08:22:46.288Z"
   },
   {
    "duration": 9,
    "start_time": "2022-01-28T08:22:46.498Z"
   },
   {
    "duration": 8,
    "start_time": "2022-01-28T08:22:46.508Z"
   },
   {
    "duration": 4,
    "start_time": "2022-01-28T08:22:46.517Z"
   },
   {
    "duration": 4,
    "start_time": "2022-01-28T08:23:00.563Z"
   },
   {
    "duration": 32,
    "start_time": "2022-01-28T08:23:00.568Z"
   },
   {
    "duration": 5,
    "start_time": "2022-01-28T08:23:00.602Z"
   },
   {
    "duration": 16,
    "start_time": "2022-01-28T08:23:00.609Z"
   },
   {
    "duration": 9,
    "start_time": "2022-01-28T08:23:00.687Z"
   },
   {
    "duration": 6,
    "start_time": "2022-01-28T08:23:01.454Z"
   },
   {
    "duration": 3,
    "start_time": "2022-01-28T08:23:29.115Z"
   },
   {
    "duration": 25,
    "start_time": "2022-01-28T08:23:30.398Z"
   },
   {
    "duration": 6,
    "start_time": "2022-01-28T08:23:30.653Z"
   },
   {
    "duration": 10,
    "start_time": "2022-01-28T08:23:31.738Z"
   },
   {
    "duration": 9,
    "start_time": "2022-01-28T08:23:32.004Z"
   },
   {
    "duration": 5,
    "start_time": "2022-01-28T08:23:32.362Z"
   },
   {
    "duration": 30,
    "start_time": "2022-01-28T08:24:23.686Z"
   },
   {
    "duration": 82,
    "start_time": "2022-01-28T08:28:22.894Z"
   },
   {
    "duration": 23,
    "start_time": "2022-01-28T08:29:50.639Z"
   },
   {
    "duration": 407,
    "start_time": "2022-01-28T08:30:50.836Z"
   },
   {
    "duration": 270,
    "start_time": "2022-01-28T08:30:57.739Z"
   },
   {
    "duration": 283,
    "start_time": "2022-01-28T08:31:02.489Z"
   },
   {
    "duration": 272,
    "start_time": "2022-01-28T08:31:16.603Z"
   },
   {
    "duration": 287,
    "start_time": "2022-01-28T08:31:24.960Z"
   },
   {
    "duration": 23,
    "start_time": "2022-01-28T08:35:46.786Z"
   },
   {
    "duration": 22,
    "start_time": "2022-01-28T08:35:54.410Z"
   },
   {
    "duration": 23,
    "start_time": "2022-01-28T08:36:34.528Z"
   },
   {
    "duration": 279,
    "start_time": "2022-01-28T08:37:22.841Z"
   },
   {
    "duration": 285,
    "start_time": "2022-01-28T08:39:06.704Z"
   },
   {
    "duration": 22,
    "start_time": "2022-01-28T08:39:17.696Z"
   },
   {
    "duration": 22,
    "start_time": "2022-01-28T08:39:34.412Z"
   },
   {
    "duration": 365,
    "start_time": "2022-01-28T08:40:01.595Z"
   },
   {
    "duration": 984,
    "start_time": "2022-01-28T08:41:21.115Z"
   },
   {
    "duration": 34,
    "start_time": "2022-01-28T08:41:22.101Z"
   },
   {
    "duration": 6,
    "start_time": "2022-01-28T08:41:22.137Z"
   },
   {
    "duration": 24,
    "start_time": "2022-01-28T08:41:22.144Z"
   },
   {
    "duration": 11,
    "start_time": "2022-01-28T08:41:22.170Z"
   },
   {
    "duration": 5,
    "start_time": "2022-01-28T08:41:22.183Z"
   },
   {
    "duration": 350,
    "start_time": "2022-01-28T08:41:22.190Z"
   },
   {
    "duration": -33,
    "start_time": "2022-01-28T08:41:22.575Z"
   },
   {
    "duration": -33,
    "start_time": "2022-01-28T08:41:22.576Z"
   },
   {
    "duration": -33,
    "start_time": "2022-01-28T08:41:22.577Z"
   },
   {
    "duration": -32,
    "start_time": "2022-01-28T08:41:22.578Z"
   },
   {
    "duration": 250,
    "start_time": "2022-01-28T08:44:21.991Z"
   },
   {
    "duration": 23,
    "start_time": "2022-01-28T08:44:26.422Z"
   },
   {
    "duration": 24,
    "start_time": "2022-01-28T08:44:59.449Z"
   },
   {
    "duration": 7807,
    "start_time": "2022-01-28T08:47:06.611Z"
   },
   {
    "duration": 302,
    "start_time": "2022-01-28T08:48:08.998Z"
   },
   {
    "duration": 6405,
    "start_time": "2022-01-28T08:52:35.370Z"
   },
   {
    "duration": 6990,
    "start_time": "2022-01-28T08:53:33.883Z"
   },
   {
    "duration": 93,
    "start_time": "2022-01-28T08:54:07.443Z"
   },
   {
    "duration": 6355,
    "start_time": "2022-01-28T08:54:12.177Z"
   },
   {
    "duration": 29,
    "start_time": "2022-01-28T08:54:51.098Z"
   },
   {
    "duration": 31,
    "start_time": "2022-01-28T08:56:09.598Z"
   },
   {
    "duration": 30,
    "start_time": "2022-01-28T08:56:26.827Z"
   },
   {
    "duration": 29,
    "start_time": "2022-01-28T08:57:34.843Z"
   },
   {
    "duration": 298,
    "start_time": "2022-01-28T08:57:59.990Z"
   },
   {
    "duration": 28,
    "start_time": "2022-01-28T08:58:19.815Z"
   },
   {
    "duration": 27,
    "start_time": "2022-01-28T08:58:36.685Z"
   },
   {
    "duration": 29,
    "start_time": "2022-01-28T08:59:01.863Z"
   },
   {
    "duration": 30,
    "start_time": "2022-01-28T09:03:02.091Z"
   },
   {
    "duration": 28,
    "start_time": "2022-01-28T09:03:25.905Z"
   },
   {
    "duration": 29,
    "start_time": "2022-01-28T09:03:36.241Z"
   },
   {
    "duration": 634,
    "start_time": "2022-01-28T09:06:25.678Z"
   },
   {
    "duration": 3,
    "start_time": "2022-01-28T09:08:08.501Z"
   },
   {
    "duration": 282,
    "start_time": "2022-01-28T09:08:45.138Z"
   },
   {
    "duration": 1039,
    "start_time": "2022-01-28T09:08:57.857Z"
   },
   {
    "duration": 34,
    "start_time": "2022-01-28T09:08:58.898Z"
   },
   {
    "duration": 6,
    "start_time": "2022-01-28T09:08:58.934Z"
   },
   {
    "duration": 12,
    "start_time": "2022-01-28T09:08:58.942Z"
   },
   {
    "duration": 18,
    "start_time": "2022-01-28T09:08:58.956Z"
   },
   {
    "duration": 5,
    "start_time": "2022-01-28T09:08:58.975Z"
   },
   {
    "duration": 30,
    "start_time": "2022-01-28T09:08:58.981Z"
   },
   {
    "duration": 451,
    "start_time": "2022-01-28T09:08:59.013Z"
   },
   {
    "duration": 23,
    "start_time": "2022-01-28T09:08:59.442Z"
   },
   {
    "duration": 23,
    "start_time": "2022-01-28T09:08:59.443Z"
   },
   {
    "duration": 13,
    "start_time": "2022-01-28T09:08:59.455Z"
   },
   {
    "duration": 265,
    "start_time": "2022-01-28T09:09:15.836Z"
   },
   {
    "duration": 4,
    "start_time": "2022-01-28T09:09:30.788Z"
   },
   {
    "duration": 267,
    "start_time": "2022-01-28T09:09:36.118Z"
   },
   {
    "duration": 683,
    "start_time": "2022-01-28T09:09:56.448Z"
   },
   {
    "duration": 676,
    "start_time": "2022-01-28T09:10:10.799Z"
   },
   {
    "duration": 1172,
    "start_time": "2022-01-28T09:10:14.871Z"
   },
   {
    "duration": 999,
    "start_time": "2022-01-28T09:10:31.862Z"
   },
   {
    "duration": 1143,
    "start_time": "2022-01-28T09:10:36.209Z"
   },
   {
    "duration": 908,
    "start_time": "2022-01-28T09:20:46.570Z"
   },
   {
    "duration": 330,
    "start_time": "2022-01-28T09:22:25.746Z"
   },
   {
    "duration": 272,
    "start_time": "2022-01-28T09:22:55.148Z"
   },
   {
    "duration": 4831,
    "start_time": "2022-01-28T09:23:34.422Z"
   },
   {
    "duration": 9,
    "start_time": "2022-01-28T09:39:16.819Z"
   },
   {
    "duration": 5,
    "start_time": "2022-01-28T09:40:08.133Z"
   }
  ],
  "kernelspec": {
   "display_name": "Python 3 (ipykernel)",
   "language": "python",
   "name": "python3"
  },
  "language_info": {
   "codemirror_mode": {
    "name": "ipython",
    "version": 3
   },
   "file_extension": ".py",
   "mimetype": "text/x-python",
   "name": "python",
   "nbconvert_exporter": "python",
   "pygments_lexer": "ipython3",
   "version": "3.9.12"
  },
  "toc": {
   "base_numbering": 1,
   "nav_menu": {},
   "number_sections": true,
   "sideBar": true,
   "skip_h1_title": true,
   "title_cell": "Table of Contents",
   "title_sidebar": "Contents",
   "toc_cell": false,
   "toc_position": {},
   "toc_section_display": true,
   "toc_window_display": false
  }
 },
 "nbformat": 4,
 "nbformat_minor": 2
}
